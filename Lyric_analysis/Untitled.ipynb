{
 "cells": [
  {
   "cell_type": "code",
   "execution_count": null,
   "metadata": {
    "collapsed": true
   },
   "outputs": [],
   "source": [
    "#https://machinelearningmastery.com/sequence-classification-lstm-recurrent-neural-networks-python-keras/\n",
    "#https://machinelearningmastery.com/text-generation-lstm-recurrent-neural-networks-python-keras/"
   ]
  },
  {
   "cell_type": "code",
   "execution_count": 1,
   "metadata": {},
   "outputs": [
    {
     "name": "stderr",
     "output_type": "stream",
     "text": [
      "Using TensorFlow backend.\n"
     ]
    },
    {
     "ename": "ModuleNotFoundError",
     "evalue": "No module named 'process_lyrics'",
     "output_type": "error",
     "traceback": [
      "\u001b[0;31m---------------------------------------------------------------------------\u001b[0m",
      "\u001b[0;31mModuleNotFoundError\u001b[0m                       Traceback (most recent call last)",
      "\u001b[0;32m<ipython-input-1-0cd1b888421f>\u001b[0m in \u001b[0;36m<module>\u001b[0;34m()\u001b[0m\n\u001b[1;32m      3\u001b[0m \u001b[0;32mimport\u001b[0m \u001b[0msys\u001b[0m\u001b[0;34m\u001b[0m\u001b[0m\n\u001b[1;32m      4\u001b[0m \u001b[0;32mfrom\u001b[0m \u001b[0mkeras\u001b[0m\u001b[0;34m.\u001b[0m\u001b[0mutils\u001b[0m \u001b[0;32mimport\u001b[0m \u001b[0mnp_utils\u001b[0m\u001b[0;34m\u001b[0m\u001b[0m\n\u001b[0;32m----> 5\u001b[0;31m \u001b[0;32mfrom\u001b[0m \u001b[0mprocess_lyrics\u001b[0m \u001b[0;32mimport\u001b[0m \u001b[0;34m*\u001b[0m\u001b[0;34m\u001b[0m\u001b[0m\n\u001b[0m",
      "\u001b[0;31mModuleNotFoundError\u001b[0m: No module named 'process_lyrics'"
     ]
    }
   ],
   "source": [
    "import numpy as np\n",
    "import glob\n",
    "import sys\n",
    "from keras.utils import np_utils\n",
    "from process_lyrics import *"
   ]
  },
  {
   "cell_type": "code",
   "execution_count": 2,
   "metadata": {
    "collapsed": true
   },
   "outputs": [],
   "source": [
    "n=-1\n",
    "dir_ = 'playlists/edm/'\n",
    "files = glob.glob('%s*.txt'%dir_)[0:n]"
   ]
  },
  {
   "cell_type": "code",
   "execution_count": 3,
   "metadata": {
    "collapsed": true
   },
   "outputs": [],
   "source": [
    "songs, n_songs = [], len(files)\n",
    "for i,f in enumerate(files):\n",
    "    song = process_song(f, 'character')\n",
    "    if 'H' in song:\n",
    "        print(i,f)\n",
    "    songs.append(song)"
   ]
  },
  {
   "cell_type": "code",
   "execution_count": 4,
   "metadata": {},
   "outputs": [
    {
     "name": "stdout",
     "output_type": "stream",
     "text": [
      "\n",
      "\n",
      "ahhh, hey!\n",
      "\n",
      "b to the a to the n to the g, uh\n",
      "b to the a to the n to the g, hey\n",
      "\n",
      "she got a body like an hourglass\n",
      "but i can give it to you all the time\n",
      "she got a booty like a cadillac\n",
      "but i can send you into overdrive, oh\n",
      "\n",
      "see, anybody could be bad to you\n",
      "you need a good girl to blow your mind, yeah \n",
      "\n",
      "bang bang into the room \n",
      "bang bang all over you \n",
      "wait a minute let me take you there \n",
      "wait a minute 'til you \n",
      "bang bang there goes your heart \n",
      "back, back seat of my car \n",
      "wait a minute let me take you there \n",
      "wait a minute 'til you \n",
      "\n",
      "she might've let you hold her hand in school\n",
      "but i'mma show you how to graduate \n",
      "no, i don't need to hear you talk the talk\n",
      "just come and show me what your momma gave, oh yeah\n",
      "\n",
      "see anybody could be good to you\n",
      "you need a bad girl to blow your mind \n",
      "\n",
      "bang bang into the room \n",
      "bang bang all over you \n",
      "wait a minute let me take you there \n",
      "wait a minute 'til you \n",
      "\n",
      "you know what, girls?\n",
      "let me show you how to do it\n",
      "\n",
      "it's myx moscato, it's frizz in a bottle\n",
      "it's nicki full throttle, it's oh, oh\n",
      "swimming in the grotto, we winning in the lotto\n",
      "we dipping in the powder blue, four door\n",
      "kitten so good, it's dripping on wood\n",
      "get a ride in the engine that could go\n",
      "batman, robbin' it, bang bang, cockin' it\n",
      "queen nicki dominant, prominent\n",
      "it's me, jessie, and ari, if they test me, they sorry\n",
      "ride his uh like a harley then pull off in his ferrari\n",
      "if he hanging we banging, phone ranging, he slanging\n",
      "it ain't karaoke night but get the mic 'cause i'm singing\n",
      ")\n",
      "\n",
      "\n",
      "see, anybody could be good to you\n",
      "you need a bad girl to blow your mind, your mind\n",
      "\n",
      "bang bang into the room \n",
      "bang bang all over you \n",
      "wait a minute let me take you there \n",
      "wait a minute 'til you \n",
      "\n",
      "yeah, i said bang, bang\n",
      "bang, bang, bang, bang\n",
      "bang, bang, bang\n",
      "bang, bang, bang, bang\n",
      "bang, bang\n",
      "bang, bang, bang, bang\n",
      "bang, bang, bang\n",
      "wait a minute 'til you\n",
      "\n"
     ]
    }
   ],
   "source": [
    "print(songs[0])"
   ]
  },
  {
   "cell_type": "code",
   "execution_count": 5,
   "metadata": {
    "collapsed": true
   },
   "outputs": [],
   "source": [
    "data = sorted(list(set(' '.join(songs))))"
   ]
  },
  {
   "cell_type": "code",
   "execution_count": 6,
   "metadata": {
    "collapsed": true
   },
   "outputs": [],
   "source": [
    "n_chars = len(data)\n",
    "char_to_int = dict((c, i) for i, c in enumerate(data))\n",
    "int_to_char = dict((i, c) for i, c in enumerate(data))"
   ]
  },
  {
   "cell_type": "code",
   "execution_count": 7,
   "metadata": {},
   "outputs": [
    {
     "data": {
      "text/plain": [
       "{'\\n': 0,\n",
       " ' ': 1,\n",
       " '!': 2,\n",
       " '\"': 3,\n",
       " \"'\": 4,\n",
       " '(': 5,\n",
       " ')': 6,\n",
       " ',': 7,\n",
       " '-': 8,\n",
       " '.': 9,\n",
       " '0': 10,\n",
       " '1': 11,\n",
       " '2': 12,\n",
       " '3': 13,\n",
       " '4': 14,\n",
       " '5': 15,\n",
       " '6': 16,\n",
       " '7': 17,\n",
       " '8': 18,\n",
       " '9': 19,\n",
       " ':': 20,\n",
       " ';': 21,\n",
       " '?': 22,\n",
       " 'a': 23,\n",
       " 'b': 24,\n",
       " 'c': 25,\n",
       " 'd': 26,\n",
       " 'e': 27,\n",
       " 'f': 28,\n",
       " 'g': 29,\n",
       " 'h': 30,\n",
       " 'i': 31,\n",
       " 'j': 32,\n",
       " 'k': 33,\n",
       " 'l': 34,\n",
       " 'm': 35,\n",
       " 'n': 36,\n",
       " 'o': 37,\n",
       " 'p': 38,\n",
       " 'q': 39,\n",
       " 'r': 40,\n",
       " 's': 41,\n",
       " 't': 42,\n",
       " 'u': 43,\n",
       " 'v': 44,\n",
       " 'w': 45,\n",
       " 'x': 46,\n",
       " 'y': 47,\n",
       " 'z': 48}"
      ]
     },
     "execution_count": 7,
     "metadata": {},
     "output_type": "execute_result"
    }
   ],
   "source": [
    "char_to_int"
   ]
  },
  {
   "cell_type": "code",
   "execution_count": 80,
   "metadata": {},
   "outputs": [
    {
     "name": "stdout",
     "output_type": "stream",
     "text": [
      "playlists/country/Alan_Jackson-It's_Five_O'_Clock_Somewhere.txt\n"
     ]
    },
    {
     "data": {
      "text/plain": [
       "\"\\n\\n(verse 1)\\nthe sun is hot and that old clock is moving slow\\nand so am i\\nwork day passes like molasses in wintertime\\nbut it's july\\ni'm getting paid by the hour, and older by the minute\\nmy boss just pushed me over the limit\\ni'd like to call him something\\ni think i'll just call it a day\\n\\n(chorus)\\npour me something tall and strong\\nmake it a 'hurricane' before i go insane\\nit's only half-past twelve but i don't care\\nit's five o'clock somewhere\\n\\n(verse 2)\\noh, this lunch break is going to take all afternoon\\nand half the night\\ntomorrow morning, i know there'll be hell to pay\\nhey, but that's all right\\ni ain't had a day off now in over a year\\nour jamaican vacation's going to start right here\\nhit the phones for me\\nyou can tell them i just sailed away\\n\\n(chorus)\\n\\n(verse 3)\\ni could pay off my tab, pour myself in a cab\\nand be back to work before two\\nat a moment like this, i can't help but wonder\\nwhat would jimmy buffet do?\\n\\n(bridge)\\nfunny you should ask that because i'd say\\npour me something tall and strong\\nmake it a 'hurricane' before i go insane\\nit's only half-past twelve but i don't care\\n\\n(chorus)\\n\\n(outro)\\nwhat time zone am on? what country am i in?\\nit doesn't matter, it's five o'clock somewhere\\nit's always on five in margaritaville, come to think of it\\nyeah, i heard that\\nyou been there haven't you\\nyes sir\\ni seen your boat there\\ni've been to margaritaville a few times\\nall right, that's good\\nstumbled all the way back\\nok, just want to make sure you can keep it between the navigational beacons\\nbetween the buoys, i tell you\\nall right, well, it's five o'clock\\nlet's go somewhere\\ni'm ready, crank it up\\nlet's get out of here\\ni'm gone\\n\\n\""
      ]
     },
     "execution_count": 80,
     "metadata": {},
     "output_type": "execute_result"
    }
   ],
   "source": [
    "i=5\n",
    "print(files[i])\n",
    "process_song(files[i])\n"
   ]
  },
  {
   "cell_type": "code",
   "execution_count": 81,
   "metadata": {
    "collapsed": true
   },
   "outputs": [],
   "source": [
    "songs = []\n",
    "for i,f in enumerate(files):\n",
    "    song = process_song(f)\n",
    "    if '[' in song:\n",
    "        print(i)\n",
    "    songs.append(song)"
   ]
  },
  {
   "cell_type": "code",
   "execution_count": 78,
   "metadata": {},
   "outputs": [
    {
     "data": {
      "text/plain": [
       "{'\\n': 0,\n",
       " ' ': 1,\n",
       " '!': 2,\n",
       " '\"': 3,\n",
       " \"'\": 4,\n",
       " '(': 5,\n",
       " ')': 6,\n",
       " ',': 7,\n",
       " '-': 8,\n",
       " '.': 9,\n",
       " '0': 10,\n",
       " '1': 11,\n",
       " '2': 12,\n",
       " '3': 13,\n",
       " '4': 14,\n",
       " '5': 15,\n",
       " '6': 16,\n",
       " '7': 17,\n",
       " '8': 18,\n",
       " '9': 19,\n",
       " ':': 20,\n",
       " ';': 21,\n",
       " '?': 22,\n",
       " 'a': 23,\n",
       " 'b': 24,\n",
       " 'c': 25,\n",
       " 'd': 26,\n",
       " 'e': 27,\n",
       " 'f': 28,\n",
       " 'g': 29,\n",
       " 'h': 30,\n",
       " 'i': 31,\n",
       " 'j': 32,\n",
       " 'k': 33,\n",
       " 'l': 34,\n",
       " 'm': 35,\n",
       " 'n': 36,\n",
       " 'o': 37,\n",
       " 'p': 38,\n",
       " 'q': 39,\n",
       " 'r': 40,\n",
       " 's': 41,\n",
       " 't': 42,\n",
       " 'u': 43,\n",
       " 'v': 44,\n",
       " 'w': 45,\n",
       " 'x': 46,\n",
       " 'y': 47,\n",
       " 'z': 48}"
      ]
     },
     "execution_count": 78,
     "metadata": {},
     "output_type": "execute_result"
    }
   ],
   "source": [
    "chars = sorted(list(set(' '.join(songs))))\n",
    "char_to_int = dict((c, i) for i, c in enumerate(chars))\n",
    "int_to_char = dict((i, c) for i, c in enumerate(chars))\n",
    "#int_to_char\n",
    "char_to_int"
   ]
  },
  {
   "cell_type": "code",
   "execution_count": 53,
   "metadata": {},
   "outputs": [
    {
     "name": "stdout",
     "output_type": "stream",
     "text": [
      "Total Patterns:  129019\n"
     ]
    }
   ],
   "source": [
    "seq_length = 30\n",
    "dataX = []\n",
    "dataY = []\n",
    "for i in range(100):\n",
    "    song_text = songs[i]\n",
    "    for j in range(0,len(song_text)-seq_length, 1):\n",
    "        seq_in = song_text[j:j + seq_length]\n",
    "        seq_out = song_text[j + seq_length]\n",
    "        #print repr(seq_in),\"<<>>\", repr(seq_out)\n",
    "        dataX.append([char_to_int[char] for char in seq_in])\n",
    "        dataY.append(char_to_int[seq_out])\n",
    "n_patterns = len(dataX)\n",
    "print \"Total Patterns: \", n_patterns"
   ]
  },
  {
   "cell_type": "code",
   "execution_count": 15,
   "metadata": {
    "collapsed": true
   },
   "outputs": [],
   "source": [
    "# reshape X to be [samples, time steps, features]\n",
    "X = np.reshape(dataX, (n_patterns, seq_length, 1))\n",
    "# normalize\n",
    "X = X / float(len(chars))\n",
    "# one hot encode the output variable\n",
    "y = np_utils.to_categorical(dataY)"
   ]
  },
  {
   "cell_type": "code",
   "execution_count": 9,
   "metadata": {
    "collapsed": true
   },
   "outputs": [],
   "source": [
    "model = Sequential()\n",
    "model.add(LSTM(256, input_shape=(X.shape[1], X.shape[2])))\n",
    "model.add(Dropout(0.2))\n",
    "model.add(Dense(y.shape[1], activation='softmax'))\n",
    "model.compile(loss='categorical_crossentropy', optimizer='adam')"
   ]
  },
  {
   "cell_type": "code",
   "execution_count": 10,
   "metadata": {},
   "outputs": [
    {
     "name": "stdout",
     "output_type": "stream",
     "text": [
      "Epoch 1/2\n",
      "138863/138863 [==============================] - 294s - loss: 2.9543   \n",
      "Epoch 2/2\n",
      "138863/138863 [==============================] - 294s - loss: 2.7513   \n"
     ]
    },
    {
     "data": {
      "text/plain": [
       "<keras.callbacks.History at 0x7f684aa98410>"
      ]
     },
     "execution_count": 10,
     "metadata": {},
     "output_type": "execute_result"
    }
   ],
   "source": [
    "model.fit(X, y, epochs=2, batch_size=128)#, callbacks=callbacks_list)"
   ]
  },
  {
   "cell_type": "code",
   "execution_count": 50,
   "metadata": {
    "collapsed": true
   },
   "outputs": [],
   "source": [
    "start = np.random.randint(0, len(dataX)-1)\n",
    "pattern = dataX[0]"
   ]
  },
  {
   "cell_type": "code",
   "execution_count": 51,
   "metadata": {},
   "outputs": [
    {
     "name": "stdout",
     "output_type": "stream",
     "text": [
      "\" \n",
      "\n",
      "she says don't stare at me\n",
      "s \"\n"
     ]
    }
   ],
   "source": [
    "print \"\\\"\", ''.join([int_to_char[value] for value in pattern]), \"\\\"\""
   ]
  },
  {
   "cell_type": "code",
   "execution_count": 61,
   "metadata": {
    "collapsed": true
   },
   "outputs": [],
   "source": [
    "lyric = [int_to_char[value] for value in pattern]\n",
    "\n",
    "for i in range(100):\n",
    "    x = np.reshape(pattern, (1, len(pattern), 1))\n",
    "    x = x / float(len(chars))\n",
    "    prediction = model.predict(x, verbose=0)\n",
    "    index = np.argmax(prediction)\n",
    "    result = int_to_char[index]\n",
    "    seq_in = [int_to_char[value] for value in pattern]\n",
    "    #sys.stdout.write(result)\n",
    "    lyric.append(result)\n",
    "    pattern.append(index)\n",
    "    pattern = pattern[1:len(pattern)]"
   ]
  },
  {
   "cell_type": "code",
   "execution_count": 62,
   "metadata": {},
   "outputs": [
    {
     "data": {
      "text/plain": [
       "\"t right\\nhe said, they won't sone to tee toe toe toe toe toe toe toe toe toe toe toe toe toe toe toe toe toe toe toe toe toe toe to\""
      ]
     },
     "execution_count": 62,
     "metadata": {},
     "output_type": "execute_result"
    }
   ],
   "source": [
    "''.join(lyric)"
   ]
  },
  {
   "cell_type": "code",
   "execution_count": 62,
   "metadata": {},
   "outputs": [
    {
     "name": "stdout",
     "output_type": "stream",
     "text": [
      "\n",
      "\n",
      "she says don't stare at me\n",
      "s\n"
     ]
    }
   ],
   "source": [
    "print ''.join([int_to_char[value] for value in dataX[0]])"
   ]
  },
  {
   "cell_type": "code",
   "execution_count": 42,
   "metadata": {},
   "outputs": [
    {
     "data": {
      "text/plain": [
       "0"
      ]
     },
     "execution_count": 42,
     "metadata": {},
     "output_type": "execute_result"
    }
   ],
   "source": [
    "value = '\\n'\n",
    "char_to_int[value]"
   ]
  },
  {
   "cell_type": "code",
   "execution_count": 78,
   "metadata": {},
   "outputs": [
    {
     "data": {
      "text/plain": [
       "array([[[ 0],\n",
       "        [ 0],\n",
       "        [22],\n",
       "        [45],\n",
       "        [28],\n",
       "        [41],\n",
       "        [42],\n",
       "        [28],\n",
       "        [ 1],\n",
       "        [10],\n",
       "        [23],\n",
       "        [ 0],\n",
       "        [30],\n",
       "        [38],\n",
       "        [32],\n",
       "        [37],\n",
       "        [30],\n",
       "        [ 1],\n",
       "        [43],\n",
       "        [38],\n",
       "        [ 1],\n",
       "        [39],\n",
       "        [44],\n",
       "        [43],\n",
       "        [ 1],\n",
       "        [43],\n",
       "        [31],\n",
       "        [28],\n",
       "        [ 1],\n",
       "        [43]]])"
      ]
     },
     "execution_count": 78,
     "metadata": {},
     "output_type": "execute_result"
    }
   ],
   "source": [
    "pattern = [char_to_int[v] for v in list(song[0:seq_length])]\n",
    "x = np.reshape(pattern, (1, len(pattern), 1))\n",
    "x"
   ]
  },
  {
   "cell_type": "markdown",
   "metadata": {},
   "source": [
    "# Test generator"
   ]
  },
  {
   "cell_type": "code",
   "execution_count": 2,
   "metadata": {
    "collapsed": true
   },
   "outputs": [],
   "source": [
    "def one_hot_gen(X, Y, vocab_size, seq_length, batch_size=64):\n",
    "    while True:\n",
    "        for i in range(0, len(X), batch_size):\n",
    "            x, y = X[i:i+batch_size].copy(), Y[i:i+batch_size].copy()\n",
    "            x = np.eye(vocab_size)[x]\n",
    "            y = np.eye(vocab_size)[y]\n",
    "            yield (x, y)"
   ]
  },
  {
   "cell_type": "code",
   "execution_count": 10,
   "metadata": {
    "collapsed": true
   },
   "outputs": [],
   "source": [
    "genre = 'country'\n",
    "seq_length=6\n",
    "\n",
    "text_to_int, int_to_text, n_chars = np.load('playlists/%s/ancillary_char.npy'%genre)\n",
    "vocab_size = len(text_to_int)\n",
    "X = np.load('playlists/%s/X_sl%d_char.npy'%(genre,seq_length))\n",
    "y = np.load('playlists/%s/y_sl%d_char.npy'%(genre,seq_length))\n",
    "text_to_int, int_to_text, n_chars = np.load('playlists/%s/ancillary_char.npy'%genre)\n",
    "vocab_size = len(text_to_int)\n",
    "batch_size = 2"
   ]
  },
  {
   "cell_type": "code",
   "execution_count": 13,
   "metadata": {},
   "outputs": [
    {
     "name": "stdout",
     "output_type": "stream",
     "text": [
      "[[[ 1.  0.  0.  0.  0.  0.  0.  0.  0.  0.  0.  0.  0.  0.  0.  0.  0.  0.\n",
      "    0.  0.  0.  0.  0.  0.  0.  0.  0.  0.  0.  0.  0.  0.  0.  0.  0.  0.\n",
      "    0.  0.  0.  0.  0.  0.  0.  0.  0.]\n",
      "  [ 0.  0.  0.  0.  0.  0.  0.  0.  0.  0.  0.  0.  0.  0.  0.  0.  0.  0.\n",
      "    0.  0.  0.  0.  0.  0.  0.  0.  0.  0.  0.  0.  0.  0.  0.  0.  0.  0.\n",
      "    0.  1.  0.  0.  0.  0.  0.  0.  0.]\n",
      "  [ 0.  0.  0.  0.  0.  0.  0.  0.  0.  0.  0.  0.  0.  0.  0.  0.  0.  0.\n",
      "    0.  0.  0.  0.  0.  0.  0.  0.  1.  0.  0.  0.  0.  0.  0.  0.  0.  0.\n",
      "    0.  0.  0.  0.  0.  0.  0.  0.  0.]\n",
      "  [ 0.  0.  0.  0.  0.  0.  0.  0.  0.  0.  0.  0.  0.  0.  0.  0.  0.  0.\n",
      "    0.  0.  0.  0.  0.  1.  0.  0.  0.  0.  0.  0.  0.  0.  0.  0.  0.  0.\n",
      "    0.  0.  0.  0.  0.  0.  0.  0.  0.]\n",
      "  [ 0.  1.  0.  0.  0.  0.  0.  0.  0.  0.  0.  0.  0.  0.  0.  0.  0.  0.\n",
      "    0.  0.  0.  0.  0.  0.  0.  0.  0.  0.  0.  0.  0.  0.  0.  0.  0.  0.\n",
      "    0.  0.  0.  0.  0.  0.  0.  0.  0.]\n",
      "  [ 0.  0.  0.  0.  0.  0.  0.  0.  0.  0.  0.  0.  0.  0.  0.  0.  0.  0.\n",
      "    0.  0.  0.  0.  0.  0.  0.  0.  0.  0.  0.  0.  0.  0.  0.  0.  0.  0.\n",
      "    0.  1.  0.  0.  0.  0.  0.  0.  0.]]\n",
      "\n",
      " [[ 0.  0.  0.  0.  0.  0.  0.  0.  0.  0.  0.  0.  0.  0.  0.  0.  0.  0.\n",
      "    0.  0.  0.  0.  0.  0.  0.  0.  0.  0.  0.  0.  0.  0.  0.  0.  0.  0.\n",
      "    0.  1.  0.  0.  0.  0.  0.  0.  0.]\n",
      "  [ 0.  0.  0.  0.  0.  0.  0.  0.  0.  0.  0.  0.  0.  0.  0.  0.  0.  0.\n",
      "    0.  0.  0.  0.  0.  0.  0.  0.  1.  0.  0.  0.  0.  0.  0.  0.  0.  0.\n",
      "    0.  0.  0.  0.  0.  0.  0.  0.  0.]\n",
      "  [ 0.  0.  0.  0.  0.  0.  0.  0.  0.  0.  0.  0.  0.  0.  0.  0.  0.  0.\n",
      "    0.  0.  0.  0.  0.  1.  0.  0.  0.  0.  0.  0.  0.  0.  0.  0.  0.  0.\n",
      "    0.  0.  0.  0.  0.  0.  0.  0.  0.]\n",
      "  [ 0.  1.  0.  0.  0.  0.  0.  0.  0.  0.  0.  0.  0.  0.  0.  0.  0.  0.\n",
      "    0.  0.  0.  0.  0.  0.  0.  0.  0.  0.  0.  0.  0.  0.  0.  0.  0.  0.\n",
      "    0.  0.  0.  0.  0.  0.  0.  0.  0.]\n",
      "  [ 0.  0.  0.  0.  0.  0.  0.  0.  0.  0.  0.  0.  0.  0.  0.  0.  0.  0.\n",
      "    0.  0.  0.  0.  0.  0.  0.  0.  0.  0.  0.  0.  0.  0.  0.  0.  0.  0.\n",
      "    0.  1.  0.  0.  0.  0.  0.  0.  0.]\n",
      "  [ 0.  0.  0.  0.  0.  0.  0.  0.  0.  0.  0.  0.  0.  0.  0.  0.  0.  0.\n",
      "    0.  1.  0.  0.  0.  0.  0.  0.  0.  0.  0.  0.  0.  0.  0.  0.  0.  0.\n",
      "    0.  0.  0.  0.  0.  0.  0.  0.  0.]]]\n"
     ]
    }
   ],
   "source": [
    "for batch in one_hot_gen(X, y, vocab_size, seq_length, batch_size):\n",
    "    print(batch[0])\n",
    "    break"
   ]
  },
  {
   "cell_type": "code",
   "execution_count": null,
   "metadata": {
    "collapsed": true
   },
   "outputs": [],
   "source": []
  }
 ],
 "metadata": {
  "kernelspec": {
   "display_name": "Python 3",
   "language": "python",
   "name": "python3"
  },
  "language_info": {
   "codemirror_mode": {
    "name": "ipython",
    "version": 3
   },
   "file_extension": ".py",
   "mimetype": "text/x-python",
   "name": "python",
   "nbconvert_exporter": "python",
   "pygments_lexer": "ipython3",
   "version": "3.6.2"
  }
 },
 "nbformat": 4,
 "nbformat_minor": 2
}
