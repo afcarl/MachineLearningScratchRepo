{
 "cells": [
  {
   "cell_type": "markdown",
   "metadata": {},
   "source": [
    "# World Series Baseball Predictor\n",
    "Jan 2017 update: Would be really good to try a Neural Network on this...\n",
    "\n",
    "Amazing bookmarked and forked git repo sources.\n",
    "\n",
    "Key is make features, with a key feature being the Elo Score. The Random Forest is a natural sampler. Also try Logistic Regression. Train it on each world series bracket. Then predict some. Many more data points then if you use the whole bracket vs. just world series winner vs. not. Higher dimensional data, much more info now. \n",
    "\n",
    "Otherwise, one of the posts had the bright idea to Monte Carlo the outcomes and take the mode of the WS winner root node to see whose most likely to win. Or something like that. The Monte Carlo could be very powerful, to simulate the models over and over again, calculating probabilities at each step of the way for each realization. \n",
    "\n",
    "Need to see precisely how Elo works to determine if Monte Carlo is the best route - are win probabilities on an absolute scale or do they always depend on the opponent? Likely the latter. Two teams ranked 95%, when playing each other, will win only 50% of the time. \n",
    "\n",
    "### Elo\n",
    "Probably best to initialize all teams to the same value. 162 games it should be plenty to distinguish the teams. You should make a **separate** script for calculating the elo scores for all teams for all years (since we have the data the rankings should be fixed), and then all you have to do is just load the elo scores.\n",
    "\n",
    "### Retrosheet  \n",
    "Data for elo = http://www.retrosheet.org/gamelogs/index.html  \n",
    "Fields for data = http://www.retrosheet.org/gamelogs/glfields.txt  \n",
    "\n",
    "## Ideas to try\n",
    "#### Stats\n",
    "* Something about the manager, experience?\n",
    "* Have win/loss probabilities for each team. Use last half of the season to find e.g. how many times TOR won/lost to each team in the 2015 playoffs. Then, somehow incorporate that into the MC? Maybe that will give better results? Absolute (i.e. Elo) rankings don't account for styles of play. If Team A's weakness is Team B's strength, even if Team B is the underdog they may win more often than not."
   ]
  },
  {
   "cell_type": "code",
   "execution_count": 1,
   "metadata": {
    "collapsed": true
   },
   "outputs": [],
   "source": [
    "import pandas as pd\n",
    "import numpy as np\n",
    "import matplotlib.pyplot as plt\n",
    "from collections import Counter\n",
    "import scipy.stats as ss\n",
    "%matplotlib inline"
   ]
  },
  {
   "cell_type": "markdown",
   "metadata": {},
   "source": [
    "Elo ranking code"
   ]
  },
  {
   "cell_type": "code",
   "execution_count": 2,
   "metadata": {
    "collapsed": false
   },
   "outputs": [],
   "source": [
    "#from retrosheet\n",
    "def get_gamelog(year):\n",
    "    cols = [\"Date\",\"Team Away\",\"Away Gm. No.\",\"Team Home\",\"Home Gm. No.\",\"Team Away Score\",\"Team Home Score\"]\n",
    "    GL = pd.read_csv(\"retrosheet_GL/GL\"+str(year)+\".TXT\",usecols=[0,3,5,6,8,9,10],names=cols)\n",
    "    awaywin = GL[\"Team Away Score\"] > GL[\"Team Home Score\"]\n",
    "    homewin = -awaywin\n",
    "    GL.loc[awaywin,\"Winning Team\"] = GL[\"Team Away\"]\n",
    "    GL.loc[awaywin,\"Losing Team\"] = GL[\"Team Home\"]\n",
    "    GL.loc[homewin,\"Winning Team\"] = GL[\"Team Home\"]\n",
    "    GL.loc[homewin,\"Losing Team\"] = GL[\"Team Away\"]\n",
    "    return GL\n",
    "    \n",
    "def get_bracket(year): \n",
    "    if (year >= 1995)&(year <= 1997): #1995-1997 too weird of seeding, just hardcode\n",
    "        team_div = [['SEA','NYA','CLE','BOS','ATL','COL','CIN','LAN'],\n",
    "                    ['NYA','TEX','BAL','CLE','ATL','LAN','SDN','SLN'],\n",
    "                    ['CLE','NYA','BAL','SEA','ATL','HOU','SFN','FLO']]\n",
    "        return team_div[year-1995]\n",
    "    else: \n",
    "        teams = pd.read_csv(\"csv/team.csv\")\n",
    "        teams = teams.loc[(teams[\"year\"]==year)]\n",
    "        teams = teams.loc[(teams[\"div_win\"]==\"Y\")|(team[\"wc_win\"]==\"Y\")]\n",
    "        #AL\n",
    "        AL = teams.loc[(teams[\"league_id\"]==\"AL\")&(teams[\"rank\"]==1)].sort_values(\"w\")\n",
    "        team_name = AL.loc[:,\"team_id_retro\"].values.tolist()\n",
    "        if year > 1997: #wildcard\n",
    "            AL_wildcard = teams.loc[(teams[\"rank\"]>1)&(teams[\"league_id\"]==\"AL\")].sort_values(\"w\",ascending=False)\n",
    "            if year >= 2012:\n",
    "                team_name = AL_wildcard.loc[:,\"team_id_retro\"].values[0:2].tolist() + team_name \n",
    "            else: #stupid 1998-2011 WC rules\n",
    "                team_div = AL.loc[:,\"div_id\"].values.tolist()\n",
    "                if AL_wildcard.loc[:,\"div_id\"].values[0] == team_div[-1]: \n",
    "                    team_name[-2], team_name[-1] = team_name[-1], team_name[-2]\n",
    "                team_name.append(AL_wildcard.loc[:,\"team_id_retro\"].values[0])\n",
    "        #NL\n",
    "        NL = teams.loc[(teams[\"league_id\"]==\"NL\")&(teams[\"rank\"]==1)].sort_values(\"w\")\n",
    "        team_name += NL.loc[:,\"team_id_retro\"].values.tolist()\n",
    "        if year > 1997: #wildcard\n",
    "            NL_wildcard = teams.loc[(teams[\"rank\"]>1)&(teams[\"league_id\"]==\"NL\")].sort_values(\"w\",ascending=False)\n",
    "            if year >= 2012:\n",
    "                team_name = team_name[0:2] + NL_wildcard.loc[:,\"team_id_retro\"].values[0:2].tolist() + team_name[2:]\n",
    "            else: #stupid 1998-2011 WC rules\n",
    "                team_div = NL.loc[:,\"div_id\"].values.tolist()\n",
    "                if NL_wildcard.loc[:,\"div_id\"].values[0] == team_div[-1]: \n",
    "                    team_name[-2], team_name[-1] = team_name[-1], team_name[-2]\n",
    "                team_name.append(NL_wildcard.loc[:,\"team_id_retro\"].values[0])\n",
    "        return team_name"
   ]
  },
  {
   "cell_type": "markdown",
   "metadata": {},
   "source": [
    "## Feature 1 - Monte Carlo the playoffs\n",
    "Here we set up the playoff bracket for each year and Monte Carlo the playoffs X times. There's an option to have Elo's during the playoffs, as well as a linear gradient K factor to give more weight to later games in the season. Outputs the probability of each team in winning the WS, calculated as the number of times they win the WS divided by the total number of attempts."
   ]
  },
  {
   "cell_type": "code",
   "execution_count": 3,
   "metadata": {
    "collapsed": false
   },
   "outputs": [],
   "source": [
    "#Elo ranking stuff\n",
    "def calculate_elo_rank(winner_rank, loser_rank, k, penalize_loser=True):\n",
    "    rank_diff = winner_rank - loser_rank\n",
    "    exp = (rank_diff * -1)/400.\n",
    "    odds = 1./(1 + pow(10, exp))\n",
    "    new_winner_rank = round(winner_rank + (k * (1 - odds)))\n",
    "    if penalize_loser:\n",
    "        new_rank_diff = new_winner_rank - winner_rank\n",
    "        new_loser_rank = loser_rank - new_rank_diff\n",
    "    else:\n",
    "        new_loser_rank = loser_rank\n",
    "    if new_loser_rank < 1:\n",
    "        new_loser_rank = 1\n",
    "    return (new_winner_rank, new_loser_rank)\n",
    "\n",
    "#Super fast with numpy arrays but dreadfully slow with Pandas DataFrames! \n",
    "def get_bracket_elos(bracket,year,K_i,K_f):\n",
    "    try: \n",
    "        Data = np.genfromtxt(\"retrosheet_GL/ELO\"+str(year)+\".TXT\",delimiter=\",\",dtype=None)\n",
    "        Team, Elo, Wins = zip(*Data)\n",
    "    except:\n",
    "        print \"couldn't find Elo data for %d, calculating now.\"%year\n",
    "        GL = get_gamelog(year)\n",
    "        N = len(GL[\"Team Home\"].unique())\n",
    "        Team, Elo, wins = GL[\"Team Home\"].unique().tolist(), 1500*np.ones(N), np.zeros(N)\n",
    "        K_step = (K_f - K_i)/162.  #impact factor - games at end of season mean more for momentum and such\n",
    "        for row in GL.itertuples():\n",
    "            index_w = Team.index(row[8])\n",
    "            index_l = Team.index(row[9])\n",
    "            Elo[index_w], Elo[index_l] = calculate_elo_rank(Elo[index_w], Elo[index_l], K_i+row[3]*K_step)\n",
    "            wins[index_w] += 1\n",
    "        np.savetxt(\"retrosheet_GL/ELO\"+str(year)+\".TXT\",zip(Team,Elo,wins),delimiter=\",\",fmt=\"%s\")\n",
    "    team_elo = []\n",
    "    for t in bracket:\n",
    "        t_id = Team.index(t)\n",
    "        team_elo.append(Elo[t_id])\n",
    "    return team_elo\n",
    "\n",
    "def get_winner(team1, elo_1, team2, elo_2, series, K):\n",
    "    P_1 = 1./(1 + pow(10,(elo_2 - elo_1) / 400.))\n",
    "    if (series == \"ALWC\") | (series == \"NLWC\"):\n",
    "        w_req = 1\n",
    "    elif (series == \"ALDS1\") | (series == \"ALDS2\") | (series == \"NLDS1\") | (series == \"NLDS2\"):\n",
    "        w_req = 3\n",
    "    else:\n",
    "        w_req = 4\n",
    "    w_1 = 0\n",
    "    w_2 = 0\n",
    "    while (w_1 < w_req) & (w_2 < w_req):\n",
    "        ran = np.random.uniform()\n",
    "        if ran <= P_1:\n",
    "            w_1 += 1\n",
    "        else:\n",
    "            w_2 += 1\n",
    "    if w_1 == w_req:\n",
    "        elo_1, elo_2 = calculate_elo_rank(elo_1, elo_2, K)\n",
    "        return team1, elo_1\n",
    "    else:\n",
    "        elo_2, elo_1 = calculate_elo_rank(elo_2, elo_1, K)\n",
    "        return team2, elo_2\n",
    "\n",
    "#MC stuff\n",
    "def simulate_playoffs(team_name, team_elo, K_elo, year):\n",
    "    series = [\"ALCS\",\"NLCS\",\"WS\"]\n",
    "    if year > 1994:\n",
    "        series = [\"ALDS2\",\"ALDS1\",\"NLDS2\",\"NLDS1\"] + series\n",
    "    if year >= 2012:\n",
    "        series = [\"ALWC\",\"NLWC\"] + series \n",
    "    for i,s in enumerate(series):\n",
    "        winner_team, winner_elo = get_winner(team_name[2*i],team_elo[2*i],team_name[2*i+1],team_elo[2*i+1],s,K_elo)\n",
    "        if s == \"ALWC\":\n",
    "            team_name.insert(7,winner_team)\n",
    "            team_elo.insert(7,winner_elo)           \n",
    "        else:\n",
    "            team_name.append(winner_team)\n",
    "            team_elo.append(winner_elo)\n",
    "    return team_name[-1]\n",
    "\n",
    "def MC_playoffs(year, n_throws, K_elo_season_i, K_elo_season_f, K_elo_playoffs):\n",
    "    ws_winners = []\n",
    "    bracket = get_bracket(year)\n",
    "    elo = get_bracket_elos(bracket, year, K_elo_season_i, K_elo_season_f)\n",
    "    for i in xrange(0,n_throws):\n",
    "        ws_winners.append(simulate_playoffs(bracket[:], elo[:], K_elo_playoffs, year))\n",
    "    return ws_winners"
   ]
  },
  {
   "cell_type": "markdown",
   "metadata": {},
   "source": [
    "## Feature 2 - MC playoffs according to previous wins/losses vs. opponent\n",
    "The MC playoffs from above decides winners based off of Elo rankings. However, this does not account for the different styles of play, and that certain teams have an advantage/disadvantage over another team depending on the particular matchup. Thus, this feature decides winners in each series according to previous wins/losses against that team during the season."
   ]
  },
  {
   "cell_type": "code",
   "execution_count": 4,
   "metadata": {
    "collapsed": true
   },
   "outputs": [],
   "source": [
    "#Make code, organize above code better so that this can borrow similar functions, e.g. get_bracket\n",
    "#def get_win_ratios(bracket,year):\n",
    "#    GL = get_gamelog(year)\n",
    "#    bracket = get_bracket(year)\n",
    "    "
   ]
  },
  {
   "cell_type": "markdown",
   "metadata": {
    "collapsed": true
   },
   "source": [
    "## Feature 3 - various W/L statistics about the regular season\n",
    "In the code below I extract:  \n",
    "* Number of wins in final X games of the season\n",
    "* Streakiness of the team, e.g. does the team have a 15 game winning streak followed by a 15 game losing streak.\n",
    "* Number of home wins in the season (teams must be able to win at home!)\n",
    "* Number of home wins at the end of the season?\n"
   ]
  },
  {
   "cell_type": "code",
   "execution_count": 5,
   "metadata": {
    "collapsed": true
   },
   "outputs": [],
   "source": [
    "def calc_win_stats(year,n_final_games):\n",
    "    GL = get_gamelog(year)\n",
    "    Team = GL[\"Team Home\"].unique().tolist()\n",
    "    EOS_Wins = np.zeros(len(Team))      #end of season wins\n",
    "    EOS_Runs = np.zeros((len(Team),2))  #end of season runs for/against\n",
    "    W_Home = np.zeros(len(Team))        #Number of wins at home\n",
    "    game_no = 162 - n_final_games\n",
    "    \n",
    "    WL_dict = {}\n",
    "    for t in Team:\n",
    "        WL_dict[t] = []\n",
    "        \n",
    "    for row in GL.itertuples(): #main loop for final X games of season stats\n",
    "        WL_dict[row[8]].append(\"W\")  #get W/L sequence for each team in the season\n",
    "        WL_dict[row[9]].append(\"L\")\n",
    "        if (row[3] >= game_no) | (row[5] >= game_no):\n",
    "            EOS_Runs[Team.index(row[2]),0] += row[6]\n",
    "            EOS_Runs[Team.index(row[2]),1] += row[7]\n",
    "            EOS_Runs[Team.index(row[4]),0] += row[7]\n",
    "            EOS_Runs[Team.index(row[4]),1] += row[6]\n",
    "            if (row[8] == row[2]) & (row[3] >=game_no):\n",
    "                EOS_Wins[Team.index(row[8])] += 1\n",
    "            elif (row[8] == row[4]) & (row[5] >=game_no):\n",
    "                EOS_Wins[Team.index(row[8])] += 1\n",
    "        if row[4] == row[8]: #if home team won\n",
    "            W_Home[Team.index(row[4])] += 1\n",
    "                \n",
    "    #W/L streak arrays post-processing\n",
    "    WL = [\"W\",\"L\"]\n",
    "    for t in Team:\n",
    "        while len(WL_dict[t]) < 162:  #I guess there are a few missing values?\n",
    "            WL_dict[t].insert(0,WL[np.random.randint(0,2)])\n",
    "        \n",
    "    #get W/L streaks\n",
    "    Win_range = 15\n",
    "    streak_dist = {}\n",
    "    for team, WLrow in WL_dict.iteritems(): #main loop for W/L streaks\n",
    "        dist = np.empty(0)                  #Each is a bin from -win_range to +win_range, excl. 0 \n",
    "        WL_prev = WLrow[0]\n",
    "        streak = 0\n",
    "        for val in WLrow:\n",
    "            if val == WL_prev:\n",
    "                streak += 1\n",
    "            else:\n",
    "                index = -1 if WL_prev == \"L\" else 1\n",
    "                dist = np.append(dist, streak*index)\n",
    "                WL_prev = val\n",
    "                streak = 1\n",
    "        index = -1 if WL_prev == \"L\" else 1\n",
    "        dist = np.append(dist, streak*index)\n",
    "        streak_dist[team] = dist\n",
    "    \n",
    "    fc = [\"team\",\"eos_wins\",\"eos_runs_ratio\",\"home_wins\"]\n",
    "    df = pd.DataFrame(zip(Team,EOS_Wins,EOS_Runs[:,0]/EOS_Runs[:,1],W_Home), columns=fc, index=Team)\n",
    "    return df, streak_dist"
   ]
  },
  {
   "cell_type": "markdown",
   "metadata": {},
   "source": [
    "## Feature 4 - Great Managers and All-Star Players"
   ]
  },
  {
   "cell_type": "code",
   "execution_count": 6,
   "metadata": {
    "collapsed": true
   },
   "outputs": [],
   "source": [
    "def get_allstars_and_managers(team, year_cutoff):\n",
    "    allstars = pd.read_csv(\"csv/all_star.csv\")\n",
    "    allstars = allstars[allstars[\"year\"]>year_cutoff]\n",
    "    allstars.loc[allstars[\"team_id\"]==\"ML4\",\"team_id\"] == \"MIL\"   #make consistent with team_id_retro\n",
    "    allstars.loc[allstars[\"team_id\"]==\"LAA\",\"team_id\"] == \"ANA\"\n",
    "\n",
    "    team[\"n_allstars\"] = 0\n",
    "    for row in allstars.itertuples():\n",
    "        team.loc[(team[\"year\"]==row[2])&(team[\"team_id_retro\"]==row[5]),\"n_allstars\"] += 1\n",
    "    \n",
    "    return team"
   ]
  },
  {
   "cell_type": "markdown",
   "metadata": {},
   "source": [
    "## Prepare Data\n",
    "It's time to start reading in some data, and preparing our features for the various machine learning algorithms we're going to use.\n",
    "\n",
    "The cell below contains the key parameters needed to prepare the data."
   ]
  },
  {
   "cell_type": "code",
   "execution_count": 7,
   "metadata": {
    "collapsed": true
   },
   "outputs": [],
   "source": [
    "#parameters\n",
    "K_elo_season_i = 15\n",
    "K_elo_season_f = 30\n",
    "K_elo_playoffs = K_elo_season_f\n",
    "n_draws = 1000\n",
    "year_cutoff = 1980  #1969 = beginning of modern MLB era\n",
    "\n",
    "n_final_games = 25"
   ]
  },
  {
   "cell_type": "code",
   "execution_count": 8,
   "metadata": {
    "collapsed": false
   },
   "outputs": [],
   "source": [
    "#load data and pre-process\n",
    "team = pd.read_csv(\"csv/team.csv\")\n",
    "team = team[(team[\"div_win\"]==\"Y\")|(team[\"wc_win\"]==\"Y\")] #only want playoff teams\n",
    "team = team[team[\"year\"]>=year_cutoff]                    #1969 = since division series was made\n",
    "team = team[team[\"year\"]!=1981]\n",
    "#del_columns = [\"div_id\",\"name\",\"team_id_lahman45\",\"franchise_id\",\"team_id\",\"team_id_br\",\"ppf\",\"bpf\",\"park\",\n",
    "#               \"attendance\",\"ghome\",\"g\",\"ab\",\"double\",\"triple\",\"hr\",\"bb\",\"so\",\"sb\",\"cs\",\"hbp\",\"sf\",\"ra\",\"er\",\"era\",\n",
    "#              \"cg\",\"sho\",\"sv\",\"ipouts\",\"ha\",\"hra\",\"bba\",\"soa\",\"e\",\"dp\",\"fp\"]\n",
    "del_columns = [\"div_id\",\"name\",\"team_id_lahman45\",\"franchise_id\",\"team_id\",\"team_id_br\",\"ppf\",\"bpf\",\"park\",\n",
    "               \"attendance\",\"ghome\",\"g\",\"ab\",\"double\",\"triple\",\"bb\",\"cs\",\"hbp\",\"sf\",\"ra\",\n",
    "              \"cg\",\"ipouts\",\"ha\",\"hra\",\"bba\",\"soa\"]\n",
    "team.drop(del_columns, axis=1, inplace=True)\n",
    "\n",
    "#create feature arrays\n",
    "team[\"ws_prob\"] = 0\n",
    "team[\"eos_wins\"] = 0\n",
    "team[\"eos_runs_ratio\"] = 0\n",
    "team[\"wl_std\"] = 0\n",
    "team[\"wl_skew\"] = 0\n",
    "\n",
    "#skipped years\n",
    "y_skip = [1981,1994]"
   ]
  },
  {
   "cell_type": "markdown",
   "metadata": {},
   "source": [
    "Get all the stats. This might take a minute."
   ]
  },
  {
   "cell_type": "code",
   "execution_count": 9,
   "metadata": {
    "collapsed": false
   },
   "outputs": [],
   "source": [
    "#ws_prob (elo), end of season stats, W/L season streak stats\n",
    "for y in range(year_cutoff, 2016):\n",
    "    if y not in y_skip:\n",
    "        winners = MC_playoffs(y, n_draws, K_elo_season_i, K_elo_season_f, K_elo_playoffs)\n",
    "        for name, value in Counter(winners).iteritems():\n",
    "            team.loc[(team[\"team_id_retro\"]==name)&(team[\"year\"]==y),\"ws_prob\"] = value/float(n_draws)\n",
    "\n",
    "        final_wins, streaks = calc_win_stats(y,n_final_games)\n",
    "        for row in final_wins.itertuples():\n",
    "            index = (team[\"team_id_retro\"]==row[1])&(team[\"year\"]==y)\n",
    "            team.loc[index,\"eos_wins\"] = row[2]\n",
    "            team.loc[index,\"eos_runs_ratio\"] = row[3]\n",
    "            team.loc[index,\"home_wins\"] = row[4]\n",
    "        for keys, values in streaks.iteritems():\n",
    "            index = (team[\"team_id_retro\"]==keys)&(team[\"year\"]==y)\n",
    "            team.loc[index,\"wl_std\"] = np.std(values)\n",
    "            team.loc[index,\"wl_skew\"] = ss.skew(values)\n",
    "\n",
    "#get all-stars, manager stats\n",
    "team = get_allstars_and_managers(team, year_cutoff)"
   ]
  },
  {
   "cell_type": "code",
   "execution_count": 10,
   "metadata": {
    "collapsed": true
   },
   "outputs": [],
   "source": [
    "#multi-label classification\n",
    "team.loc[team[\"ws_win\"] == \"Y\", \"ws_win\"] = 1\n",
    "team.loc[team[\"ws_win\"] == \"N\", \"ws_win\"] = 0\n",
    "team.loc[pd.isnull(team[\"ws_win\"]), \"ws_win\"] = 0\n",
    "\n",
    "team.loc[team[\"lg_win\"] == \"Y\", \"lg_win\"] = 1\n",
    "team.loc[team[\"lg_win\"] == \"N\", \"lg_win\"] = 0\n",
    "team.loc[pd.isnull(team[\"lg_win\"]), \"lg_win\"] = 0"
   ]
  },
  {
   "cell_type": "markdown",
   "metadata": {},
   "source": [
    "## Onto Machine Learning\n",
    "Now that we've spent quite some time creating the features we want to use, it's time to input these features and see how our algorithm performs for predicting **who will make it to the WS final**.\n",
    "\n",
    "### Split and Scale Data\n",
    "Here were going to try splitting the data into train/test, but with the condition that no teams from the same year are ever separated. Might make a difference as far as keeping all the biases of one year together?"
   ]
  },
  {
   "cell_type": "code",
   "execution_count": 16,
   "metadata": {
    "collapsed": false
   },
   "outputs": [],
   "source": [
    "#Xcolumns = [\"ws_prob\",\"eos_wins\",\"eos_runs_ratio\",\"wl_std\",\"wl_skew\",\"n_allstars\",\"home_wins\"]\n",
    "#X = team[Xcolumns]\n",
    "\n",
    "exclude = [\"year\",\"league_id\",\"rank\",\"div_win\",\"wc_win\",\"lg_win\",\"ws_win\",\"team_id_retro\"]\n",
    "Xcolumns = [i for j, i in enumerate(team.columns.values) if i not in exclude]\n",
    "X = team[Xcolumns]\n",
    "\n",
    "#ycolumns = [\"lg_win\",\"ws_win\"]\n",
    "#y = team[ycolumns].astype(int).values\n",
    "y = team[\"lg_win\"].astype(int).values"
   ]
  },
  {
   "cell_type": "code",
   "execution_count": 87,
   "metadata": {
    "collapsed": false
   },
   "outputs": [],
   "source": [
    "from sklearn.cross_validation import train_test_split,cross_val_score\n",
    "from sklearn.preprocessing import StandardScaler\n",
    "\n",
    "#unscaled data\n",
    "X_train, X_test, y_train, y_test = train_test_split(X, y, test_size=0.15, random_state=42)\n",
    "\n",
    "#scaled data\n",
    "Xs = StandardScaler().fit_transform(X)\n",
    "Xs_train, Xs_test, ys_train, ys_test = train_test_split(Xs, y, test_size=0.15, random_state=43)"
   ]
  },
  {
   "cell_type": "markdown",
   "metadata": {},
   "source": [
    "### Perform RF\n",
    "Refer to this diagram for intuition in the variables:  \n",
    "http://www.analyticsvidhya.com/blog/2016/02/complete-guide-parameter-tuning-gradient-boosting-gbm-python/"
   ]
  },
  {
   "cell_type": "code",
   "execution_count": 88,
   "metadata": {
    "collapsed": false
   },
   "outputs": [
    {
     "name": "stdout",
     "output_type": "stream",
     "text": [
      "Best Parameters from gridsearch: {{'max_features': 'sqrt', 'min_samples_split': 16, 'n_estimators': 100}} with a score of 0.5333\n"
     ]
    }
   ],
   "source": [
    "from sklearn.ensemble import RandomForestClassifier\n",
    "from sklearn.cross_validation import StratifiedShuffleSplit\n",
    "from sklearn.grid_search import GridSearchCV\n",
    "cv_s = StratifiedShuffleSplit(y_train,  n_iter=10 , test_size=0.15, random_state=42)\n",
    "rfc = RandomForestClassifier(max_features= 'auto' ,n_estimators=50, oob_score=1, class_weight='balanced') \n",
    "param_grid = { \n",
    "        'n_estimators': [300],\n",
    "        'max_features': ['sqrt'],\n",
    "        'min_samples_split': [8,12,16]\n",
    "}\n",
    "CV_rfc = GridSearchCV(n_jobs=-1, estimator=rfc, scoring=\"roc_auc\", param_grid=param_grid, cv=cv_s)\n",
    "CV_rfc.fit(X_train, y_train);\n",
    "print(\"Best Parameters from gridsearch: {%s} with a score of %0.4f\" % (CV_rfc.best_params_, CV_rfc.best_score_))"
   ]
  },
  {
   "cell_type": "code",
   "execution_count": 89,
   "metadata": {
    "collapsed": true
   },
   "outputs": [],
   "source": [
    "modelrfc = CV_rfc.best_estimator_"
   ]
  },
  {
   "cell_type": "code",
   "execution_count": 90,
   "metadata": {
    "collapsed": false
   },
   "outputs": [
    {
     "name": "stdout",
     "output_type": "stream",
     "text": [
      "AUC score is 0.583333333333\n",
      "OOB score is 0.673575129534\n"
     ]
    }
   ],
   "source": [
    "from sklearn import metrics\n",
    "\n",
    "y_pred = modelrfc.predict_proba(X_test) #probability that team0 wins (what Kaggle calls team 1, and wants for submission)\n",
    "\n",
    "#test_score = metrics.roc_auc_score(y_test[:,0], y_pred[0][:,1], average=\"weighted\") #area under curve from prediction scores\n",
    "test_score = metrics.roc_auc_score(y_test, y_pred[:,1], average=\"weighted\")\n",
    "print(\"AUC score is {0}\".format(test_score))\n",
    "print(\"OOB score is {0}\".format(modelrfc.oob_score_)) #you may not(?) need test/train split with OOB score!"
   ]
  },
  {
   "cell_type": "code",
   "execution_count": 91,
   "metadata": {
    "collapsed": false
   },
   "outputs": [
    {
     "name": "stdout",
     "output_type": "stream",
     "text": [
      "Feature\t\tImportance\n",
      "\n",
      "so\t\t0.123104\n",
      "ws_prob\t\t0.067735\n",
      "era\t\t0.063171\n",
      "wl_skew\t\t0.060091\n",
      "h\t\t0.057743\n",
      "hr\t\t0.056619\n",
      "sb\t\t0.055936\n",
      "e\t\t0.049650\n",
      "wl_std\t\t0.049017\n",
      "eos_runs_ratio\t\t0.045265\n",
      "dp\t\t0.042444\n",
      "sv\t\t0.040656\n",
      "r\t\t0.039160\n",
      "er\t\t0.037701\n",
      "fp\t\t0.037078\n",
      "n_allstars\t\t0.034795\n",
      "l\t\t0.032633\n",
      "home_wins\t\t0.032607\n",
      "w\t\t0.030643\n",
      "eos_wins\t\t0.024948\n",
      "sho\t\t0.019004\n"
     ]
    }
   ],
   "source": [
    "print(\"Feature\\t\\tImportance\\n\")\n",
    "for i in reversed(np.argsort(modelrfc.feature_importances_)):\n",
    "    print(\"%s\\t\\t%f\" % (X.columns[i], modelrfc.feature_importances_[i]))"
   ]
  },
  {
   "cell_type": "code",
   "execution_count": 92,
   "metadata": {
    "collapsed": false
   },
   "outputs": [
    {
     "data": {
      "text/plain": [
       "<matplotlib.collections.PathCollection at 0x114c06bd0>"
      ]
     },
     "execution_count": 92,
     "metadata": {},
     "output_type": "execute_result"
    },
    {
     "data": {
      "image/png": "[encoded data removed]",
      "text/plain": [
       "<matplotlib.figure.Figure at 0x110931490>"
      ]
     },
     "metadata": {},
     "output_type": "display_data"
    }
   ],
   "source": [
    "plt.scatter(y_pred[:,1],y_test)"
   ]
  },
  {
   "cell_type": "markdown",
   "metadata": {},
   "source": [
    "### Perform KNN"
   ]
  },
  {
   "cell_type": "code",
   "execution_count": 93,
   "metadata": {
    "collapsed": false
   },
   "outputs": [
    {
     "name": "stdout",
     "output_type": "stream",
     "text": [
      "Best Parameters from gridsearch: {{'n_neighbors': 15, 'metric': 'euclidean', 'weights': 'distance'}} with a score of 0.5784\n"
     ]
    }
   ],
   "source": [
    "from sklearn.neighbors import KNeighborsClassifier\n",
    "from sklearn.cross_validation import StratifiedShuffleSplit\n",
    "from sklearn.grid_search import GridSearchCV\n",
    "knn = KNeighborsClassifier(n_neighbors=1, weights=\"distance\", metric=\"minkowski\")\n",
    "cv_s = StratifiedShuffleSplit(ys_train,  n_iter=10 , test_size=0.2, random_state=42)\n",
    "param_grid = { \n",
    "        'n_neighbors': [5,10,15],\n",
    "        'weights': ['distance','uniform'],\n",
    "        'metric': ['euclidean','manhattan','chebyshev','minkowski'],\n",
    "}\n",
    "CV_knn = GridSearchCV(n_jobs=-1, estimator=knn, scoring=\"roc_auc\", param_grid=param_grid, cv=cv_s)\n",
    "CV_knn.fit(Xs_train, ys_train);\n",
    "print(\"Best Parameters from gridsearch: {%s} with a score of %0.4f\" % (CV_knn.best_params_, CV_knn.best_score_))"
   ]
  },
  {
   "cell_type": "code",
   "execution_count": 94,
   "metadata": {
    "collapsed": false
   },
   "outputs": [],
   "source": [
    "modelknn = CV_knn.best_estimator_"
   ]
  },
  {
   "cell_type": "code",
   "execution_count": 95,
   "metadata": {
    "collapsed": false
   },
   "outputs": [
    {
     "name": "stdout",
     "output_type": "stream",
     "text": [
      "AUC score is 0.644\n"
     ]
    }
   ],
   "source": [
    "from sklearn import metrics\n",
    "ys_pred = modelknn.predict_proba(Xs_test) #probability that team0 wins (what Kaggle calls team 1, and wants for submission)\n",
    "\n",
    "test_score_knn = metrics.roc_auc_score(ys_test, ys_pred[:,1], average=\"weighted\")\n",
    "#test_score = metrics.roc_auc_score(ys_test[:,0], ys_pred[0][:,1], average=\"weighted\") #area under curve from prediction scores\n",
    "print(\"AUC score is {0}\".format(test_score_knn))"
   ]
  },
  {
   "cell_type": "code",
   "execution_count": 96,
   "metadata": {
    "collapsed": false
   },
   "outputs": [
    {
     "data": {
      "text/plain": [
       "<matplotlib.collections.PathCollection at 0x114c6c490>"
      ]
     },
     "execution_count": 96,
     "metadata": {},
     "output_type": "execute_result"
    },
    {
     "data": {
      "image/png": "[encoded data removed]",
      "text/plain": [
       "<matplotlib.figure.Figure at 0x1140e3f10>"
      ]
     },
     "metadata": {},
     "output_type": "display_data"
    }
   ],
   "source": [
    "plt.scatter(ys_pred[:,1],ys_test)\n",
    "#pd.DataFrame([ys_pred[:,1], ys_test]).T"
   ]
  },
  {
   "cell_type": "markdown",
   "metadata": {},
   "source": [
    "### Perform Logistic Regression"
   ]
  },
  {
   "cell_type": "code",
   "execution_count": 97,
   "metadata": {
    "collapsed": false
   },
   "outputs": [
    {
     "name": "stdout",
     "output_type": "stream",
     "text": [
      "Best Parameters from gridsearch: {{'C': 0.1}} with a score of 0.5512\n"
     ]
    }
   ],
   "source": [
    "from sklearn.linear_model import LogisticRegression\n",
    "logr = LogisticRegression(class_weight='balanced')\n",
    "param_grid = { \n",
    "        'C': [0.1,0.5,1,5,10],\n",
    "}\n",
    "CV_logr = GridSearchCV(n_jobs=-1, estimator=logr, scoring=\"roc_auc\", param_grid=param_grid, cv=cv_s)\n",
    "CV_logr.fit(Xs_train, ys_train);\n",
    "print(\"Best Parameters from gridsearch: {%s} with a score of %0.4f\" % (CV_logr.best_params_, CV_logr.best_score_))"
   ]
  },
  {
   "cell_type": "code",
   "execution_count": 98,
   "metadata": {
    "collapsed": true
   },
   "outputs": [],
   "source": [
    "modellogr = CV_logr.best_estimator_"
   ]
  },
  {
   "cell_type": "code",
   "execution_count": 99,
   "metadata": {
    "collapsed": false
   },
   "outputs": [
    {
     "name": "stdout",
     "output_type": "stream",
     "text": [
      "AUC score is 0.684\n"
     ]
    }
   ],
   "source": [
    "ys_pred = modellogr.predict_proba(Xs_test)\n",
    "\n",
    "test_score_logr = metrics.roc_auc_score(ys_test, ys_pred[:,1], average=\"weighted\")\n",
    "print(\"AUC score is {0}\".format(test_score_logr))"
   ]
  },
  {
   "cell_type": "code",
   "execution_count": 100,
   "metadata": {
    "collapsed": false
   },
   "outputs": [
    {
     "data": {
      "text/plain": [
       "<matplotlib.collections.PathCollection at 0x114a6ea10>"
      ]
     },
     "execution_count": 100,
     "metadata": {},
     "output_type": "execute_result"
    },
    {
     "data": {
      "image/png": "[encoded data removed]",
      "text/plain": [
       "<matplotlib.figure.Figure at 0x114890390>"
      ]
     },
     "metadata": {},
     "output_type": "display_data"
    }
   ],
   "source": [
    "plt.scatter(ys_pred[:,1],ys_test)"
   ]
  },
  {
   "cell_type": "markdown",
   "metadata": {},
   "source": [
    "### Perform Gradient Boosting\n",
    "Tutorials  \n",
    "http://www.analyticsvidhya.com/blog/2016/02/complete-guide-parameter-tuning-gradient-boosting-gbm-python/\n",
    "http://www.analyticsvidhya.com/blog/2016/03/complete-guide-parameter-tuning-xgboost-with-codes-python/\n",
    "\n",
    "Parameter List  \n",
    "https://github.com/dmlc/xgboost/blob/master/doc/parameter.md\n",
    "\n",
    "Need to learn how to actually tune this damn thing."
   ]
  },
  {
   "cell_type": "code",
   "execution_count": 36,
   "metadata": {
    "collapsed": false
   },
   "outputs": [
    {
     "name": "stdout",
     "output_type": "stream",
     "text": [
      "Best Parameters from gridsearch: {{'learning_rate': 0.01}} with a score of 0.5441\n"
     ]
    }
   ],
   "source": [
    "import xgboost as xgb\n",
    "gbm = xgb.XGBClassifier(max_depth=3, n_estimators=100)\n",
    "param_grid = { \n",
    "        'learning_rate': [0.01,0.05,0.1,0.2]\n",
    "        \n",
    "}\n",
    "CV_gbm = GridSearchCV(n_jobs=-1, estimator=gbm, scoring=\"roc_auc\", param_grid=param_grid, cv=cv_s)\n",
    "CV_gbm.fit(X_train, y_train)\n",
    "print(\"Best Parameters from gridsearch: {%s} with a score of %0.4f\" % (CV_gbm.best_params_, CV_gbm.best_score_))"
   ]
  },
  {
   "cell_type": "markdown",
   "metadata": {
    "collapsed": true
   },
   "source": [
    "# Notes\n",
    "\n",
    "### A note about y_pred\n",
    "So for multilabel classification (like in this case, where I fit for lg_win and cs_win), the predict_proba output is arranged like this:  \n",
    "http://stackoverflow.com/questions/17017882/scikit-learn-predict-proba-gives-wrong-answers\n",
    "\n",
    "The model.classes returns:  \n",
    "[array([0, 1]), array([0, 1])]  \n",
    "which tells me how the data is arranged (i.e. two output labels, each with binary output 0/1), and the shape of y_pred is:  \n",
    "(n_choices_per_label, n_samples, n_label)\n",
    "\n",
    "### OOB score\n",
    "It is method similar to Cross-Validation, the advantage being it doesn't require a train/test split of the data. After  decision tree X has been trained, a classification error is calculated using the \"out of bag\" samples, i.e. bootstrapped samples from the original dataset that weren't used to train tree X. Lower OOB score is better.  \n",
    "Links:  \n",
    "* http://stackoverflow.com/questions/18541923/what-is-out-of-bag-error-in-random-forests\n",
    "* Breiman (1996)\n",
    "\n",
    "### Next step maybe? \n",
    "* Maybe add one or two features, but not too many more. Maybe a few from your old attempt. But I think you need to train each series separately maybe? Randomize years, but have conditions where you never separate teams from the same year. It helps include all the distinct noise in each particular year. All teams from the same year have biases and correlations that are related to one another. And so maybe they cancel out a bit? At the very least, Elo scores from similar years probably are easier to compare directly, and are apples to apples. An elo of 1500 from e.g. the 1960s may be an orange to e.g. elo of 1500 from 2006, which is an apple. But can that be done easily?  \n",
    "* You also need to figure more about the KNN. Why did it have such a high accuracy score and bad AUC score (lower the better, right?)? Did it just fit all the noise? Did the KNN even fit the data properly? Can it recognize multi label? How does it do it?"
   ]
  },
  {
   "cell_type": "code",
   "execution_count": null,
   "metadata": {
    "collapsed": true
   },
   "outputs": [],
   "source": []
  },
  {
   "cell_type": "code",
   "execution_count": 27,
   "metadata": {
    "collapsed": false
   },
   "outputs": [],
   "source": [
    "#Train/test split data, but keep teams from same year together\n",
    "#test_size = 0.2\n",
    "\n",
    "#np.random.seed(42)\n",
    "#years = team[\"year\"].unique()\n",
    "#rand = np.random.rand(len(years))\n",
    "\n",
    "#train = team[\"year\"].isin(years[rand>test_size])\n",
    "#test = team[\"year\"].isin(years[rand<=test_size])\n",
    "#X_train, y_train = team.loc[train, Xcolumns].values, team.loc[train, \"lg_win\"].astype(int).values\n",
    "#X_test, y_test = team.loc[test, Xcolumns].values, team.loc[test, \"lg_win\"].astype(int).values"
   ]
  }
 ],
 "metadata": {
  "kernelspec": {
   "display_name": "Python 2",
   "language": "python",
   "name": "python2"
  },
  "language_info": {
   "codemirror_mode": {
    "name": "ipython",
    "version": 2
   },
   "file_extension": ".py",
   "mimetype": "text/x-python",
   "name": "python",
   "nbconvert_exporter": "python",
   "pygments_lexer": "ipython2",
   "version": "2.7.11"
  }
 },
 "nbformat": 4,
 "nbformat_minor": 0
}
