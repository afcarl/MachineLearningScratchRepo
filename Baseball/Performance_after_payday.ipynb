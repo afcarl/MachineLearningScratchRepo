{
 "cells": [
  {
   "cell_type": "markdown",
   "metadata": {},
   "source": [
    "## Do Players Tend to Perform Better or Worse After a Big Salary Increase?\n",
    "All sports teams are looking for the \"Unicorn\" - a player who is undervalued but possesses great talent. Once a team thinks they've found their unicorn, they pay him the big bucks and lock him up. How do these supposed unicorns tend to perform after getting such salary increases?\n",
    "\n",
    "Full info here - https://github.com/benhamner/baseball/blob/master/src/import.sql"
   ]
  },
  {
   "cell_type": "markdown",
   "metadata": {},
   "source": [
    "## Todo\n",
    "1) discount to present day for salary_min_thresh so that you're comparing apples-to-apples.  \n",
    "2) See if you can add the dataframe row inside the function.  \n",
    "3) Do a formal test to see if results are skewed from a normal distribution (t-test?)"
   ]
  },
  {
   "cell_type": "code",
   "execution_count": 485,
   "metadata": {
    "collapsed": true
   },
   "outputs": [],
   "source": [
    "import pandas as pd\n",
    "import numpy as np"
   ]
  },
  {
   "cell_type": "code",
   "execution_count": 486,
   "metadata": {
    "collapsed": true
   },
   "outputs": [],
   "source": [
    "batting = pd.read_csv(\"csv/batting.csv\")\n",
    "salary = pd.read_csv(\"csv/salary.csv\")\n",
    "player = pd.read_csv(\"csv/player.csv\")"
   ]
  },
  {
   "cell_type": "code",
   "execution_count": 487,
   "metadata": {
    "collapsed": false
   },
   "outputs": [],
   "source": [
    "#work on a smaller dataset for now\n",
    "start_year = 1990\n",
    "end_year = 2015\n",
    "ext='-01-01'\n",
    "player = player[(player[\"debut\"] > str(start_year)+ext) & (player[\"debut\"] < str(end_year)+ext)]\n",
    "batting = batting[batting[\"year\"] > start_year]\n",
    "salary = salary[salary[\"year\"] > start_year]"
   ]
  },
  {
   "cell_type": "code",
   "execution_count": 488,
   "metadata": {
    "collapsed": false
   },
   "outputs": [],
   "source": [
    "#merge stints in batting. Too annoying to deal with separately\n",
    "batting = batting.groupby([\"player_id\",\"year\"]).sum()\n",
    "batting = batting.reset_index()"
   ]
  },
  {
   "cell_type": "code",
   "execution_count": 489,
   "metadata": {
    "collapsed": false
   },
   "outputs": [],
   "source": [
    "#Make complex Runs Created (RC) feature\n",
    "batting[\"single\"] = batting[\"h\"] - (batting[\"double\"] + batting[\"triple\"] + batting[\"hr\"])\n",
    "batting[\"tb\"] = batting[\"single\"] + 2*batting[\"double\"] + 3*batting[\"triple\"] + 4*batting[\"hr\"]\n",
    "A = batting[\"h\"] + batting[\"bb\"] - batting[\"cs\"] + batting[\"hbp\"] - batting[\"g_idp\"] #total bases\n",
    "B = batting[\"tb\"] + 0.26*(batting[\"bb\"] - batting[\"ibb\"] + batting[\"hbp\"])         #base on balls\n",
    "C = 0.52*(batting[\"sh\"] + batting[\"sf\"] + batting[\"sb\"])                           #sacrifices\n",
    "D = batting[\"ab\"] + batting[\"bb\"] + batting[\"hbp\"] + batting[\"sh\"] + batting[\"sf\"] #total at bats\n",
    "batting[\"rc\"] = (A*B + C)/D\n",
    "\n",
    "#For players that don't have the stats for complex RC, use simple RC\n",
    "batting.loc[batting[\"rc\"].isnull()==True,\"rc\"]=(batting[\"h\"]+batting[\"bb\"])*batting[\"tb\"]/(batting[\"ab\"]+batting[\"bb\"])"
   ]
  },
  {
   "cell_type": "markdown",
   "metadata": {},
   "source": [
    "### Analysis\n",
    "Find players who have had big salary increases, i.e. a \"payday\"."
   ]
  },
  {
   "cell_type": "code",
   "execution_count": 490,
   "metadata": {
    "collapsed": false
   },
   "outputs": [],
   "source": [
    "def get_rc_of_payday(plyr_id,player,salary,batting,SIT,SMT,GPT,rc_i_avg):\n",
    "    plyr_slry = salary[salary[\"player_id\"] == plyr_id]\n",
    "    plyr_slry[\"salary_ratio\"] = plyr_slry[\"salary\"].div(plyr_slry[\"salary\"].shift(1))\n",
    "    check_payday = (plyr_slry[\"salary_ratio\"] > SIT) & (plyr_slry[\"salary\"] > SMT)\n",
    "    payday_year = plyr_slry[\"year\"].loc[check_payday].values\n",
    "    plyr_bat = batting.loc[batting[\"player_id\"] == plyr_id]\n",
    "    data = []\n",
    "    for i,y in enumerate(payday_year):\n",
    "        #enough games played for accurate rc in year of big contract and previous year?\n",
    "        if (np.sum(plyr_bat[\"g\"].loc[plyr_bat[\"year\"] == y]) > GPT) & (np.sum(plyr_bat[\"g\"].loc[plyr_bat[\"year\"] == y-1]) > GPT):\n",
    "            yrs = plyr_bat[\"year\"]\n",
    "            rcratio = (plyr_bat.loc[(yrs>=y)&(yrs<y+rc_i_avg),\"rc\"].mean()/plyr_bat.loc[yrs==y-1,\"rc\"]).values[0]\n",
    "            if np.isnan(rcratio) == 0:\n",
    "                data.append(plyr_id)\n",
    "                data.append(player.loc[player[\"player_id\"] == plyr_id,[\"name_first\",\"name_last\"]].values[0].sum())\n",
    "                data.append(y)\n",
    "                data.append(plyr_bat.loc[plyr_bat[\"year\"] == y-1,\"rc\"].values[0])\n",
    "                data.append(rcratio)\n",
    "                data.append(plyr_slry.loc[plyr_slry[\"year\"]==y,\"salary_ratio\"].values[0])\n",
    "    return data"
   ]
  },
  {
   "cell_type": "code",
   "execution_count": 491,
   "metadata": {
    "collapsed": false
   },
   "outputs": [
    {
     "name": "stderr",
     "output_type": "stream",
     "text": [
      "/Users/silburt/anaconda2/envs/ml/lib/python2.7/site-packages/ipykernel/__main__.py:4: SettingWithCopyWarning: \n",
      "A value is trying to be set on a copy of a slice from a DataFrame.\n",
      "Try using .loc[row_indexer,col_indexer] = value instead\n",
      "\n",
      "See the caveats in the documentation: http://pandas.pydata.org/pandas-docs/stable/indexing.html#indexing-view-versus-copy\n"
     ]
    }
   ],
   "source": [
    "slry_increase_thresh = 2 #min increase ratio player received\n",
    "slry_min_thresh = 1e6 #min final salary after the payday\n",
    "gp_thresh = 100 #min number of games played\n",
    "rc_i_avg = 4  #when calc'ing rc_i, avg. over how many years? rc_i-1 uses just that year though.\n",
    "\n",
    "columns = [\"player_id\",\"player_name\",\"year\",\"rcprev\",\"rcratio\",\"payday\"]\n",
    "data = pd.DataFrame(columns=columns)\n",
    "\n",
    "for i,plyr_id in enumerate(player[\"player_id\"]):\n",
    "    d = get_rc_of_payday(plyr_id,player,salary,batting,slry_increase_thresh,slry_min_thresh,gp_thresh,rc_i_avg)\n",
    "    while len(d) > 0: #gotta be a better way to do this\n",
    "        data = data.append({col:d[i] for i,col in enumerate(columns)}, ignore_index=True)\n",
    "        d = d[len(columns):]"
   ]
  },
  {
   "cell_type": "code",
   "execution_count": 494,
   "metadata": {
    "collapsed": false
   },
   "outputs": [
    {
     "name": "stdout",
     "output_type": "stream",
     "text": [
      "Best rc ratio is 3.109550968 from ['LoganForsythe' 'forsylo01']\n",
      "Worst rc ratio is 0.184124713618 from ['CaseyMcGehee' 'mcgehca01']\n",
      "Biggest Salary increase is 15.6779661017x from ['MiguelCabrera' 'cabremi01']\n",
      "('Fraction of players with rc_i/rc_i-1 < 0.85:', 0.5295109612141653)\n",
      "('Fraction of players with rc_i/rc_i-1 > 1.15:', 0.163575042158516)\n"
     ]
    },
    {
     "data": {
      "image/png": "[encoded data removed]",
      "text/plain": [
       "<matplotlib.figure.Figure at 0x10cea3c10>"
      ]
     },
     "metadata": {},
     "output_type": "display_data"
    }
   ],
   "source": [
    "import matplotlib.pyplot as plt\n",
    "%matplotlib inline\n",
    "plt.scatter(data[\"payday\"],data[\"rcratio\"], c=data[\"rcprev\"], cmap='rainbow',lw=0)\n",
    "plt.colorbar(label=\"rc$_{i-1}$\")\n",
    "plt.xlabel('fractional salary increase',fontsize=13)\n",
    "plt.ylabel('rc$_i$ / rc$_{i-1}$',fontsize=13)\n",
    "plt.title('Runs Created Ratio vs. salary increase',fontsize=13)\n",
    "#plt.yscale('log')\n",
    "\n",
    "#some stats\n",
    "rcmax = data[\"rcratio\"].max()\n",
    "rcmin = data[\"rcratio\"].min()\n",
    "paymax = data[\"payday\"].max()\n",
    "print(\"Best rc ratio is \"+str(rcmax)+\" from \"+str(data.loc[data[\"rcratio\"] == rcmax,[\"player_name\",\"player_id\"]].values[0]))\n",
    "print(\"Worst rc ratio is \"+str(rcmin)+\" from \"+str(data.loc[data[\"rcratio\"] == rcmin,[\"player_name\",\"player_id\"]].values[0]))\n",
    "print(\"Biggest Salary increase is \"+str(paymax)+\"x from \"+str(data.loc[data[\"payday\"] == paymax,[\"player_name\",\"player_id\"]].values[0]))\n",
    "print(\"Fraction of players with rc_i/rc_i-1 < 0.85:\",data[data[\"rcratio\"]<0.85].shape[0]/float(data[\"rcratio\"].shape[0]))\n",
    "print(\"Fraction of players with rc_i/rc_i-1 > 1.15:\",data[data[\"rcratio\"]>1.15].shape[0]/float(data[\"rcratio\"].shape[0]))"
   ]
  },
  {
   "cell_type": "code",
   "execution_count": 463,
   "metadata": {
    "collapsed": false
   },
   "outputs": [
    {
     "data": {
      "text/html": [
       "<div>\n",
       "<table border=\"1\" class=\"dataframe\">\n",
       "  <thead>\n",
       "    <tr style=\"text-align: right;\">\n",
       "      <th></th>\n",
       "      <th>player_id</th>\n",
       "      <th>year</th>\n",
       "      <th>stint</th>\n",
       "      <th>g</th>\n",
       "      <th>ab</th>\n",
       "      <th>r</th>\n",
       "      <th>h</th>\n",
       "      <th>double</th>\n",
       "      <th>triple</th>\n",
       "      <th>hr</th>\n",
       "      <th>...</th>\n",
       "      <th>bb</th>\n",
       "      <th>so</th>\n",
       "      <th>ibb</th>\n",
       "      <th>hbp</th>\n",
       "      <th>sh</th>\n",
       "      <th>sf</th>\n",
       "      <th>g_idp</th>\n",
       "      <th>single</th>\n",
       "      <th>tb</th>\n",
       "      <th>rc</th>\n",
       "    </tr>\n",
       "  </thead>\n",
       "  <tbody>\n",
       "    <tr>\n",
       "      <th>5890</th>\n",
       "      <td>craigal01</td>\n",
       "      <td>2010</td>\n",
       "      <td>1</td>\n",
       "      <td>44</td>\n",
       "      <td>114.0</td>\n",
       "      <td>12.0</td>\n",
       "      <td>28.0</td>\n",
       "      <td>7.0</td>\n",
       "      <td>0.0</td>\n",
       "      <td>4.0</td>\n",
       "      <td>...</td>\n",
       "      <td>9.0</td>\n",
       "      <td>26.0</td>\n",
       "      <td>1.0</td>\n",
       "      <td>0.0</td>\n",
       "      <td>0.0</td>\n",
       "      <td>1.0</td>\n",
       "      <td>1.0</td>\n",
       "      <td>17.0</td>\n",
       "      <td>47.0</td>\n",
       "      <td>13.857419</td>\n",
       "    </tr>\n",
       "    <tr>\n",
       "      <th>5891</th>\n",
       "      <td>craigal01</td>\n",
       "      <td>2011</td>\n",
       "      <td>1</td>\n",
       "      <td>75</td>\n",
       "      <td>200.0</td>\n",
       "      <td>33.0</td>\n",
       "      <td>63.0</td>\n",
       "      <td>15.0</td>\n",
       "      <td>0.0</td>\n",
       "      <td>11.0</td>\n",
       "      <td>...</td>\n",
       "      <td>15.0</td>\n",
       "      <td>40.0</td>\n",
       "      <td>0.0</td>\n",
       "      <td>1.0</td>\n",
       "      <td>1.0</td>\n",
       "      <td>2.0</td>\n",
       "      <td>7.0</td>\n",
       "      <td>37.0</td>\n",
       "      <td>111.0</td>\n",
       "      <td>37.879817</td>\n",
       "    </tr>\n",
       "    <tr>\n",
       "      <th>5892</th>\n",
       "      <td>craigal01</td>\n",
       "      <td>2012</td>\n",
       "      <td>1</td>\n",
       "      <td>119</td>\n",
       "      <td>469.0</td>\n",
       "      <td>76.0</td>\n",
       "      <td>144.0</td>\n",
       "      <td>35.0</td>\n",
       "      <td>0.0</td>\n",
       "      <td>22.0</td>\n",
       "      <td>...</td>\n",
       "      <td>37.0</td>\n",
       "      <td>89.0</td>\n",
       "      <td>1.0</td>\n",
       "      <td>1.0</td>\n",
       "      <td>0.0</td>\n",
       "      <td>7.0</td>\n",
       "      <td>15.0</td>\n",
       "      <td>87.0</td>\n",
       "      <td>245.0</td>\n",
       "      <td>82.240467</td>\n",
       "    </tr>\n",
       "    <tr>\n",
       "      <th>5893</th>\n",
       "      <td>craigal01</td>\n",
       "      <td>2013</td>\n",
       "      <td>1</td>\n",
       "      <td>134</td>\n",
       "      <td>508.0</td>\n",
       "      <td>71.0</td>\n",
       "      <td>160.0</td>\n",
       "      <td>29.0</td>\n",
       "      <td>2.0</td>\n",
       "      <td>13.0</td>\n",
       "      <td>...</td>\n",
       "      <td>40.0</td>\n",
       "      <td>100.0</td>\n",
       "      <td>2.0</td>\n",
       "      <td>10.0</td>\n",
       "      <td>0.0</td>\n",
       "      <td>5.0</td>\n",
       "      <td>12.0</td>\n",
       "      <td>116.0</td>\n",
       "      <td>232.0</td>\n",
       "      <td>85.986998</td>\n",
       "    </tr>\n",
       "    <tr>\n",
       "      <th>5894</th>\n",
       "      <td>craigal01</td>\n",
       "      <td>2014</td>\n",
       "      <td>3</td>\n",
       "      <td>126</td>\n",
       "      <td>461.0</td>\n",
       "      <td>41.0</td>\n",
       "      <td>99.0</td>\n",
       "      <td>20.0</td>\n",
       "      <td>1.0</td>\n",
       "      <td>8.0</td>\n",
       "      <td>...</td>\n",
       "      <td>35.0</td>\n",
       "      <td>113.0</td>\n",
       "      <td>0.0</td>\n",
       "      <td>7.0</td>\n",
       "      <td>0.0</td>\n",
       "      <td>2.0</td>\n",
       "      <td>14.0</td>\n",
       "      <td>70.0</td>\n",
       "      <td>145.0</td>\n",
       "      <td>38.906931</td>\n",
       "    </tr>\n",
       "    <tr>\n",
       "      <th>5895</th>\n",
       "      <td>craigal01</td>\n",
       "      <td>2015</td>\n",
       "      <td>1</td>\n",
       "      <td>36</td>\n",
       "      <td>79.0</td>\n",
       "      <td>6.0</td>\n",
       "      <td>12.0</td>\n",
       "      <td>1.0</td>\n",
       "      <td>0.0</td>\n",
       "      <td>1.0</td>\n",
       "      <td>...</td>\n",
       "      <td>7.0</td>\n",
       "      <td>26.0</td>\n",
       "      <td>0.0</td>\n",
       "      <td>2.0</td>\n",
       "      <td>0.0</td>\n",
       "      <td>0.0</td>\n",
       "      <td>2.0</td>\n",
       "      <td>10.0</td>\n",
       "      <td>16.0</td>\n",
       "      <td>3.959773</td>\n",
       "    </tr>\n",
       "  </tbody>\n",
       "</table>\n",
       "<p>6 rows × 23 columns</p>\n",
       "</div>"
      ],
      "text/plain": [
       "      player_id  year  stint    g     ab     r      h  double  triple    hr  \\\n",
       "5890  craigal01  2010      1   44  114.0  12.0   28.0     7.0     0.0   4.0   \n",
       "5891  craigal01  2011      1   75  200.0  33.0   63.0    15.0     0.0  11.0   \n",
       "5892  craigal01  2012      1  119  469.0  76.0  144.0    35.0     0.0  22.0   \n",
       "5893  craigal01  2013      1  134  508.0  71.0  160.0    29.0     2.0  13.0   \n",
       "5894  craigal01  2014      3  126  461.0  41.0   99.0    20.0     1.0   8.0   \n",
       "5895  craigal01  2015      1   36   79.0   6.0   12.0     1.0     0.0   1.0   \n",
       "\n",
       "        ...        bb     so  ibb   hbp   sh   sf  g_idp  single     tb  \\\n",
       "5890    ...       9.0   26.0  1.0   0.0  0.0  1.0    1.0    17.0   47.0   \n",
       "5891    ...      15.0   40.0  0.0   1.0  1.0  2.0    7.0    37.0  111.0   \n",
       "5892    ...      37.0   89.0  1.0   1.0  0.0  7.0   15.0    87.0  245.0   \n",
       "5893    ...      40.0  100.0  2.0  10.0  0.0  5.0   12.0   116.0  232.0   \n",
       "5894    ...      35.0  113.0  0.0   7.0  0.0  2.0   14.0    70.0  145.0   \n",
       "5895    ...       7.0   26.0  0.0   2.0  0.0  0.0    2.0    10.0   16.0   \n",
       "\n",
       "             rc  \n",
       "5890  13.857419  \n",
       "5891  37.879817  \n",
       "5892  82.240467  \n",
       "5893  85.986998  \n",
       "5894  38.906931  \n",
       "5895   3.959773  \n",
       "\n",
       "[6 rows x 23 columns]"
      ]
     },
     "execution_count": 463,
     "metadata": {},
     "output_type": "execute_result"
    }
   ],
   "source": [
    "#Good tool to check batting/salary stats for individual players\n",
    "id='craigal01'\n",
    "batting[batting[\"player_id\"] == id]\n",
    "plyr_bat = batting.loc[batting[\"player_id\"] == id]\n",
    "plyr_bat"
   ]
  },
  {
   "cell_type": "code",
   "execution_count": 350,
   "metadata": {
    "collapsed": false
   },
   "outputs": [
    {
     "data": {
      "text/html": [
       "<div>\n",
       "<table border=\"1\" class=\"dataframe\">\n",
       "  <thead>\n",
       "    <tr style=\"text-align: right;\">\n",
       "      <th></th>\n",
       "      <th>year</th>\n",
       "      <th>team_id</th>\n",
       "      <th>league_id</th>\n",
       "      <th>player_id</th>\n",
       "      <th>salary</th>\n",
       "    </tr>\n",
       "  </thead>\n",
       "  <tbody>\n",
       "    <tr>\n",
       "      <th>15113</th>\n",
       "      <td>2003</td>\n",
       "      <td>FLO</td>\n",
       "      <td>NL</td>\n",
       "      <td>cabremi01</td>\n",
       "      <td>165574</td>\n",
       "    </tr>\n",
       "    <tr>\n",
       "      <th>15947</th>\n",
       "      <td>2004</td>\n",
       "      <td>FLO</td>\n",
       "      <td>NL</td>\n",
       "      <td>cabremi01</td>\n",
       "      <td>320000</td>\n",
       "    </tr>\n",
       "    <tr>\n",
       "      <th>16747</th>\n",
       "      <td>2005</td>\n",
       "      <td>FLO</td>\n",
       "      <td>NL</td>\n",
       "      <td>cabremi01</td>\n",
       "      <td>370000</td>\n",
       "    </tr>\n",
       "    <tr>\n",
       "      <th>17575</th>\n",
       "      <td>2006</td>\n",
       "      <td>FLO</td>\n",
       "      <td>NL</td>\n",
       "      <td>cabremi01</td>\n",
       "      <td>472000</td>\n",
       "    </tr>\n",
       "    <tr>\n",
       "      <th>18395</th>\n",
       "      <td>2007</td>\n",
       "      <td>FLO</td>\n",
       "      <td>NL</td>\n",
       "      <td>cabremi01</td>\n",
       "      <td>7400000</td>\n",
       "    </tr>\n",
       "    <tr>\n",
       "      <th>19210</th>\n",
       "      <td>2008</td>\n",
       "      <td>DET</td>\n",
       "      <td>AL</td>\n",
       "      <td>cabremi01</td>\n",
       "      <td>11300000</td>\n",
       "    </tr>\n",
       "    <tr>\n",
       "      <th>20052</th>\n",
       "      <td>2009</td>\n",
       "      <td>DET</td>\n",
       "      <td>AL</td>\n",
       "      <td>cabremi01</td>\n",
       "      <td>14383049</td>\n",
       "    </tr>\n",
       "    <tr>\n",
       "      <th>20872</th>\n",
       "      <td>2010</td>\n",
       "      <td>DET</td>\n",
       "      <td>AL</td>\n",
       "      <td>cabremi01</td>\n",
       "      <td>20000000</td>\n",
       "    </tr>\n",
       "    <tr>\n",
       "      <th>21700</th>\n",
       "      <td>2011</td>\n",
       "      <td>DET</td>\n",
       "      <td>AL</td>\n",
       "      <td>cabremi01</td>\n",
       "      <td>20000000</td>\n",
       "    </tr>\n",
       "    <tr>\n",
       "      <th>22554</th>\n",
       "      <td>2012</td>\n",
       "      <td>DET</td>\n",
       "      <td>AL</td>\n",
       "      <td>cabremi01</td>\n",
       "      <td>21000000</td>\n",
       "    </tr>\n",
       "    <tr>\n",
       "      <th>23388</th>\n",
       "      <td>2013</td>\n",
       "      <td>DET</td>\n",
       "      <td>AL</td>\n",
       "      <td>cabremi01</td>\n",
       "      <td>21000000</td>\n",
       "    </tr>\n",
       "    <tr>\n",
       "      <th>24202</th>\n",
       "      <td>2014</td>\n",
       "      <td>DET</td>\n",
       "      <td>AL</td>\n",
       "      <td>cabremi01</td>\n",
       "      <td>22000000</td>\n",
       "    </tr>\n",
       "    <tr>\n",
       "      <th>25009</th>\n",
       "      <td>2015</td>\n",
       "      <td>DET</td>\n",
       "      <td>AL</td>\n",
       "      <td>cabremi01</td>\n",
       "      <td>22000000</td>\n",
       "    </tr>\n",
       "  </tbody>\n",
       "</table>\n",
       "</div>"
      ],
      "text/plain": [
       "       year team_id league_id  player_id    salary\n",
       "15113  2003     FLO        NL  cabremi01    165574\n",
       "15947  2004     FLO        NL  cabremi01    320000\n",
       "16747  2005     FLO        NL  cabremi01    370000\n",
       "17575  2006     FLO        NL  cabremi01    472000\n",
       "18395  2007     FLO        NL  cabremi01   7400000\n",
       "19210  2008     DET        AL  cabremi01  11300000\n",
       "20052  2009     DET        AL  cabremi01  14383049\n",
       "20872  2010     DET        AL  cabremi01  20000000\n",
       "21700  2011     DET        AL  cabremi01  20000000\n",
       "22554  2012     DET        AL  cabremi01  21000000\n",
       "23388  2013     DET        AL  cabremi01  21000000\n",
       "24202  2014     DET        AL  cabremi01  22000000\n",
       "25009  2015     DET        AL  cabremi01  22000000"
      ]
     },
     "execution_count": 350,
     "metadata": {},
     "output_type": "execute_result"
    }
   ],
   "source": [
    "plyr_bat[\"ab\"].loc[plyr_bat[\"year\"] == 2013]\n",
    "salary[salary[\"player_id\"] == id]"
   ]
  },
  {
   "cell_type": "markdown",
   "metadata": {},
   "source": [
    "Looks as though the magnitude of the salary increase is not correlated with performance increase, and in general it seems to be random whether or not a player will perform better/worse after a salary increase"
   ]
  },
  {
   "cell_type": "code",
   "execution_count": null,
   "metadata": {
    "collapsed": true
   },
   "outputs": [],
   "source": []
  },
  {
   "cell_type": "code",
   "execution_count": 484,
   "metadata": {
    "collapsed": false
   },
   "outputs": [
    {
     "name": "stderr",
     "output_type": "stream",
     "text": [
      "/Users/silburt/anaconda2/envs/ml/lib/python2.7/site-packages/ipykernel/__main__.py:4: SettingWithCopyWarning: \n",
      "A value is trying to be set on a copy of a slice from a DataFrame.\n",
      "Try using .loc[row_indexer,col_indexer] = value instead\n",
      "\n",
      "See the caveats in the documentation: http://pandas.pydata.org/pandas-docs/stable/indexing.html#indexing-view-versus-copy\n"
     ]
    },
    {
     "data": {
      "text/plain": [
       "['cabremi01',\n",
       " 'MiguelCabrera',\n",
       " 2007,\n",
       " 136.25109467455619,\n",
       " 0.88937830621691705,\n",
       " 15.677966101694915,\n",
       " 'cabremi01',\n",
       " 'MiguelCabrera',\n",
       " 2008,\n",
       " 129.94358823529413,\n",
       " 0.91726594068636735,\n",
       " 1.527027027027027]"
      ]
     },
     "execution_count": 484,
     "metadata": {},
     "output_type": "execute_result"
    }
   ],
   "source": [
    "columns = [\"player_id\",\"player_name\",\"year\",\"rc_prev\",\"rcratio\",\"payday\"]\n",
    "#data = pd.DataFrame(columns=columns)\n",
    "#plyr_id = 'craigal01'\n",
    "plyr_id = 'cabremi01'\n",
    "v = get_rc_of_payday(plyr_id,player,salary,batting,1.5,2e6,100,2)\n",
    "v"
   ]
  }
 ],
 "metadata": {
  "kernelspec": {
   "display_name": "Python 2",
   "language": "python",
   "name": "python2"
  },
  "language_info": {
   "codemirror_mode": {
    "name": "ipython",
    "version": 2
   },
   "file_extension": ".py",
   "mimetype": "text/x-python",
   "name": "python",
   "nbconvert_exporter": "python",
   "pygments_lexer": "ipython2",
   "version": "2.7.11"
  }
 },
 "nbformat": 4,
 "nbformat_minor": 0
}
