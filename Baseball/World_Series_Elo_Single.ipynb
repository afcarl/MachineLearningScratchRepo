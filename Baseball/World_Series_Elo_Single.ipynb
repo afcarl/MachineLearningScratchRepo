{
 "cells": [
  {
   "cell_type": "markdown",
   "metadata": {},
   "source": [
    "# World Series Baseball Predictor\n",
    "Amazing bookmarked and forked git repo sources.\n",
    "\n",
    "Key is make features, with a key feature being the Elo Score. The Random Forest is a natural sampler. Also try Logistic Regression. Train it on each world series bracket. Then predict some. Many more data points then if you use the whole bracket vs. just world series winner vs. not. Higher dimensional data, much more info now. \n",
    "\n",
    "Otherwise, one of the posts had the bright idea to Monte Carlo the outcomes and take the mode of the WS winner root node to see whose most likely to win. Or something like that. The Monte Carlo could be very powerful, to simulate the models over and over again, calculating probabilities at each step of the way for each realization. \n",
    "\n",
    "Need to see precisely how Elo works to determine if Monte Carlo is the best route - are win probabilities on an absolute scale or do they always depend on the opponent? Likely the latter. Two teams ranked 95%, when playing each other, will win only 50% of the time. \n",
    "\n",
    "### Elo\n",
    "Probably best to initialize all teams to the same value. 162 games it should be plenty to distinguish the teams. You should make a **separate** script for calculating the elo scores for all teams for all years (since we have the data the rankings should be fixed), and then all you have to do is just load the elo scores.\n",
    "\n",
    "### Retrosheet  \n",
    "Data for elo = http://www.retrosheet.org/gamelogs/index.html  \n",
    "Fields for data = http://www.retrosheet.org/gamelogs/glfields.txt  \n",
    "\n",
    "## To do\n",
    "Fit the right K_elo factors to real data? Do some machine learning for those. "
   ]
  },
  {
   "cell_type": "code",
   "execution_count": 7,
   "metadata": {
    "collapsed": true
   },
   "outputs": [],
   "source": [
    "import pandas as pd\n",
    "import numpy as np\n",
    "import matplotlib.pyplot as plt\n",
    "%matplotlib inline"
   ]
  },
  {
   "cell_type": "code",
   "execution_count": 8,
   "metadata": {
    "collapsed": false
   },
   "outputs": [],
   "source": [
    "def calculate_elo_rank(winner_rank, loser_rank, k, penalize_loser=True):\n",
    "    rank_diff = winner_rank - loser_rank\n",
    "    exp = (rank_diff * -1)/400.\n",
    "    odds = 1./(1 + pow(10, exp))\n",
    "    new_winner_rank = round(winner_rank + (k * (1 - odds)))\n",
    "    if penalize_loser:\n",
    "        new_rank_diff = new_winner_rank - winner_rank\n",
    "        new_loser_rank = loser_rank - new_rank_diff\n",
    "    else:\n",
    "        new_loser_rank = loser_rank\n",
    "    if new_loser_rank < 1:\n",
    "        new_loser_rank = 1\n",
    "    return (new_winner_rank, new_loser_rank)\n",
    "\n",
    "#from retrosheet\n",
    "def get_gamelog(year):\n",
    "    cols = [\"Date\",\"Team Away\",\"Away Gm. No.\",\"Team Home\",\"Home Gm. No.\",\"Team Away Score\",\"Team Home Score\"]\n",
    "    GL = pd.read_csv(\"retrosheet_GL/GL\"+str(year)+\".TXT\",usecols=[0,3,5,6,8,9,10],names=cols)\n",
    "    awaywin = GL[\"Team Away Score\"] > GL[\"Team Home Score\"]\n",
    "    homewin = -awaywin\n",
    "    GL.loc[awaywin,\"Winning Team\"] = GL[\"Team Away\"]\n",
    "    GL.loc[awaywin,\"Losing Team\"] = GL[\"Team Home\"]\n",
    "    GL.loc[homewin,\"Winning Team\"] = GL[\"Team Home\"]\n",
    "    GL.loc[homewin,\"Losing Team\"] = GL[\"Team Away\"]\n",
    "    return GL\n",
    "\n",
    "#Super fast with numpy arrays but dreadfully slow with Pandas DataFrames! \n",
    "def calc_season_elo(year,K_i,K_f):\n",
    "    GL = get_gamelog(year)\n",
    "    N = len(GL[\"Team Home\"].unique())\n",
    "    Team, Elo, wins = GL[\"Team Home\"].unique().tolist(), 1500*np.ones(N), np.zeros(N)\n",
    "    K_step = (K_f - K_i)/162.  #impact factor - games at end of season mean more for momentum and such\n",
    "    \n",
    "    for row in GL.itertuples():\n",
    "        index_w = Team.index(row[8])\n",
    "        index_l = Team.index(row[9])\n",
    "        Elo[index_w], Elo[index_l] = calculate_elo_rank(Elo[index_w], Elo[index_l], K_i+row[3]*K_step)\n",
    "        wins[index_w] += 1\n",
    "    Data = zip(Team,Elo,wins)\n",
    "    np.savetxt(\"retrosheet_GL/ELO\"+str(year)+\".TXT\",Data,delimiter=\",\",fmt=\"%s\")\n",
    "    return Data\n",
    "\n",
    "def get_season_elo(year,K_elo_i,K_elo_f):\n",
    "    try:\n",
    "        Data = np.genfromtxt(\"retrosheet_GL/ELO\"+str(year)+\".TXT\",delimiter=\",\",dtype=None)\n",
    "        return Data\n",
    "    except:\n",
    "        print \"couldn't find Elo data for %d, calculating now.\"%year\n",
    "        return calc_season_elo(year,K_elo_i,K_elo_f)"
   ]
  },
  {
   "cell_type": "markdown",
   "metadata": {},
   "source": [
    "## Feature 1 - Monte Carlo the playoffs!\n",
    "Now let's create the bracket and Monte Carlo the possible winners. Option to have Elo's during the playoffs as well as a linear gradient K factor to give more weight to later games in the season. Calculate \"probability of winning WS\" for each team as the number of times they win / number of attempts.\n",
    "\n",
    "## To do - \n",
    "* need to set up the 1995-1997 brackets correctly. Gawd damnit."
   ]
  },
  {
   "cell_type": "code",
   "execution_count": 9,
   "metadata": {
    "collapsed": false
   },
   "outputs": [],
   "source": [
    "def get_winner(team1, elo_1, team2, elo_2, series, K):\n",
    "    P_1 = 1./(1 + pow(10,(elo_2 - elo_1) / 400.))\n",
    "    if (series == \"ALWC\") | (series == \"NLWC\"):\n",
    "        w_req = 1\n",
    "    elif (series == \"ALDS1\") | (series == \"ALDS2\") | (series == \"NLDS1\") | (series == \"NLDS2\"):\n",
    "        w_req = 3\n",
    "    else:\n",
    "        w_req = 4\n",
    "    w_1 = 0\n",
    "    w_2 = 0\n",
    "    while (w_1 < w_req) & (w_2 < w_req):\n",
    "        ran = np.random.uniform()\n",
    "        if ran <= P_1:\n",
    "            w_1 += 1\n",
    "        else:\n",
    "            w_2 += 1\n",
    "    if w_1 == w_req:\n",
    "        elo_1, elo_2 = calculate_elo_rank(elo_1, elo_2, K)\n",
    "        return team1, elo_1\n",
    "    else:\n",
    "        elo_2, elo_1 = calculate_elo_rank(elo_2, elo_1, K)\n",
    "        return team2, elo_2\n",
    "\n",
    "def get_bracket(data,year,K_elo):  #1994 no WS, 1995-1997 is really weird seeding. Gonna be super annoying...\n",
    "    Team, Elo, wins = zip(*data)\n",
    "    teams = pd.read_csv(\"csv/team.csv\")\n",
    "    teams = teams.loc[(teams[\"year\"]==year)] \n",
    "    \n",
    "    AL = teams.loc[(teams[\"league_id\"]==\"AL\")&(teams[\"rank\"]==1)].sort_values(\"w\")\n",
    "    team_name = AL.loc[:,\"team_id_retro\"].values.tolist()\n",
    "    team_div = AL.loc[:,\"div_id\"].values.tolist()\n",
    "    team_elo = []\n",
    "    for t in team_name:\n",
    "        t_id = Team.index(t)\n",
    "        team_elo.append(Elo[t_id])\n",
    "    if year >= 1994:\n",
    "        WCAL = teams.loc[(teams[\"rank\"]>1)&(teams[\"league_id\"]==\"AL\")].sort_values(\"w\",ascending=False)\n",
    "        if year >= 2012:\n",
    "            WCALteams = WCAL.loc[:,\"team_id_retro\"].values[0:2]\n",
    "            t1 = Team.index(WCALteams[0])\n",
    "            t2 = Team.index(WCALteams[1])\n",
    "            team_name.insert(0,Team[t1])\n",
    "            team_elo.insert(0,Elo[t1])\n",
    "            team_name.insert(0,Team[t2])\n",
    "            team_elo.insert(0,Elo[t2])\n",
    "        else:\n",
    "            if WCAL.loc[:,\"div_id\"].values[0] == team_div[-1]: #stupid 1998-2011 WC rules\n",
    "                team_name[-2], team_name[-1] = team_name[-1], team_name[-2]\n",
    "                team_elo[-2], team_elo[-1] = team_elo[-1], team_elo[-2]\n",
    "            t1 = Team.index(WCAL.loc[:,\"team_id_retro\"].values[0])\n",
    "            team_name.append(Team[t1])\n",
    "            team_elo.append(Elo[t1])\n",
    "\n",
    "    NL = teams.loc[(teams[\"league_id\"]==\"NL\")&(teams[\"rank\"]==1)].sort_values(\"w\")\n",
    "    dummy = NL.loc[:,\"team_id_retro\"].values.tolist()\n",
    "    team_div = NL.loc[:,\"div_id\"].values.tolist()\n",
    "    for t in dummy:\n",
    "        t_id = Team.index(t)\n",
    "        team_name.append(t)\n",
    "        team_elo.append(Elo[t_id])\n",
    "    if year >= 1994:\n",
    "        WCNL = teams.loc[(teams[\"rank\"]>1)&(teams[\"league_id\"]==\"NL\")].sort_values(\"w\",ascending=False)\n",
    "        if year >= 2012:\n",
    "            WCNLteams = WCNL.loc[:,\"team_id_retro\"].values[0:2]\n",
    "            t1 = Team.index(WCNLteams[0])\n",
    "            t2 = Team.index(WCNLteams[1])\n",
    "            team_name.insert(2,Team[t1])\n",
    "            team_elo.insert(2,Elo[t1])\n",
    "            team_name.insert(2,Team[t2])\n",
    "            team_elo.insert(2,Elo[t2])\n",
    "        else:\n",
    "            if WCNL.loc[:,\"div_id\"].values[0] == team_div[-1]: #stupid 1998-2011 WC rules\n",
    "                team_name[-2], team_name[-1] = team_name[-1], team_name[-2]\n",
    "                team_elo[-2], team_elo[-1] = team_elo[-1], team_elo[-2]\n",
    "            t1 = Team.index(WCNL.loc[:,\"team_id_retro\"].values[0])\n",
    "            team_name.append(Team[t1])\n",
    "            team_elo.append(Elo[t1])\n",
    "    return team_name, team_elo\n",
    "\n",
    "def simulate_playoffs(team_name, team_elo, K_elo, year):\n",
    "    series = [\"ALCS\",\"NLCS\",\"WS\"]\n",
    "    if year > 1994:\n",
    "        series = [\"ALDS2\",\"ALDS1\",\"NLDS2\",\"NLDS1\"] + series\n",
    "    if year >= 2012:\n",
    "        series = [\"ALWC\",\"NLWC\"] + series \n",
    "    for i,s in enumerate(series):\n",
    "        winner_team, winner_elo = get_winner(team_name[2*i],team_elo[2*i],team_name[2*i+1],team_elo[2*i+1],s,K_elo)\n",
    "        if s == \"ALWC\":\n",
    "            team_name.insert(7,winner_team)\n",
    "            team_elo.insert(7,winner_elo)           \n",
    "        else:\n",
    "            team_name.append(winner_team)\n",
    "            team_elo.append(winner_elo)\n",
    "    return team_name[-1]\n",
    "\n",
    "def MC_playoffs(year, n_throws, K_elo_season_i, K_elo_season_f, K_elo_playoffs):\n",
    "    ws_winners = []\n",
    "    data = get_season_elo(year, K_elo_season_i, K_elo_season_f) \n",
    "    teams, elo = get_bracket(data, year, K_elo_playoffs)\n",
    "    for i in xrange(0,n_throws):\n",
    "        ws_winners.append(simulate_playoffs(teams[:], elo[:], K_elo_playoffs, year))\n",
    "    return ws_winners"
   ]
  },
  {
   "cell_type": "code",
   "execution_count": 10,
   "metadata": {
    "collapsed": false
   },
   "outputs": [],
   "source": [
    "#setup parameters\n",
    "K_elo_season_i = 15\n",
    "K_elo_season_f = 25\n",
    "K_elo_playoffs = 1\n",
    "n_draws = 1000\n",
    "year = 1981"
   ]
  },
  {
   "cell_type": "code",
   "execution_count": 11,
   "metadata": {
    "collapsed": false
   },
   "outputs": [],
   "source": [
    "winners = MC_playoffs(year, n_draws, K_elo_season_i, K_elo_season_f, K_elo_playoffs)"
   ]
  },
  {
   "cell_type": "code",
   "execution_count": 12,
   "metadata": {
    "collapsed": false
   },
   "outputs": [
    {
     "data": {
      "text/plain": [
       "<matplotlib.text.Text at 0x10c623a10>"
      ]
     },
     "execution_count": 12,
     "metadata": {},
     "output_type": "execute_result"
    },
    {
     "data": {
      "image/png": "[encoded data removed]",
      "text/plain": [
       "<matplotlib.figure.Figure at 0x103768290>"
      ]
     },
     "metadata": {},
     "output_type": "display_data"
    }
   ],
   "source": [
    "from collections import Counter\n",
    "ws = pd.DataFrame.from_dict(Counter(winners),orient='index')/n_draws\n",
    "ws.columns = [\"ws prob\"]\n",
    "ax = ws.plot(kind='bar')\n",
    "ax.set_ylabel('Prob. winning WS')"
   ]
  },
  {
   "cell_type": "markdown",
   "metadata": {
    "collapsed": true
   },
   "source": [
    "## Feature 2 - various W/L statistics about the regular season\n",
    "Maybe a team makes the playoffs, but how are the wins distributed in their season:\n",
    "* How did they do in the last X games of the season (half of the playoffs is about momentum).\n",
    "* Maybe they are very streaky, e.g. 15 game winning streak followed by a 15 game losing streak."
   ]
  },
  {
   "cell_type": "code",
   "execution_count": 10,
   "metadata": {
    "collapsed": true
   },
   "outputs": [],
   "source": [
    "def calc_win_stats(year,n_final_games):\n",
    "    GL = get_gamelog(year)\n",
    "    Team = GL[\"Team Home\"].unique().tolist()\n",
    "    EOS_Wins = np.zeros(len(Team))  #end of season wins\n",
    "    game_no = 162 - n_final_games\n",
    "    \n",
    "    WL_dict = {}\n",
    "    for t in Team:\n",
    "        WL_dict[t] = []\n",
    "        \n",
    "    #Extract data\n",
    "    for row in GL.itertuples():\n",
    "        WL_dict[row[8]].append(\"W\")\n",
    "        WL_dict[row[9]].append(\"L\")\n",
    "        \n",
    "        if (row[5] >= game_no) | (row[8] >= game_no):\n",
    "            if (row[8] == row[2]) & (row[3] >=game_no):\n",
    "                EOS_Wins[Team.index(row[8])] += 1\n",
    "            elif (row[8] == row[4]) & (row[5] >=game_no):\n",
    "                EOS_Wins[Team.index(row[8])] += 1\n",
    "                \n",
    "    #post-processing\n",
    "    WL = [\"W\",\"L\"]\n",
    "    for t in Team:\n",
    "        while len(WL_dict[t]) < 162:  #I guess there are a few missing values?\n",
    "            WL_dict[t].insert(0,WL[np.random.randint(0,2)])\n",
    "    \n",
    "    fc = [\"team\",\"eos_wins\"]\n",
    "    return pd.DataFrame(zip(Team,EOS_Wins), columns=fc, index=Team), pd.DataFrame.from_dict(WL_dict, orient=\"index\")"
   ]
  },
  {
   "cell_type": "code",
   "execution_count": 11,
   "metadata": {
    "collapsed": false
   },
   "outputs": [],
   "source": [
    "n_final_games = 10  #10 seems like a good value\n",
    "final_wins, WLseq = calc_win_stats(2015,n_final_games)"
   ]
  },
  {
   "cell_type": "code",
   "execution_count": 12,
   "metadata": {
    "collapsed": false
   },
   "outputs": [
    {
     "data": {
      "text/plain": [
       "<matplotlib.axes._subplots.AxesSubplot at 0x103dcfb90>"
      ]
     },
     "execution_count": 12,
     "metadata": {},
     "output_type": "execute_result"
    },
    {
     "data": {
      "image/png": "[encoded data removed]",
      "text/plain": [
       "<matplotlib.figure.Figure at 0x103dcfc90>"
      ]
     },
     "metadata": {},
     "output_type": "display_data"
    }
   ],
   "source": [
    "final_wins.sort_values(\"eos_wins\").plot(kind='bar')"
   ]
  },
  {
   "cell_type": "markdown",
   "metadata": {},
   "source": [
    "Now extract the win/loss streaks for each team. "
   ]
  },
  {
   "cell_type": "code",
   "execution_count": 13,
   "metadata": {
    "collapsed": false
   },
   "outputs": [],
   "source": [
    "def get_WLstreaks(WL):\n",
    "    Win_range = 15\n",
    "    streak_dist = {}\n",
    "    for team, WLrow in WL.iterrows():\n",
    "        dist = np.empty(0)     #Each is a bin from -win_range to +win_range, excl. 0 \n",
    "        WL_prev = WLrow[0]\n",
    "        streak = 0\n",
    "        for val in WLrow:\n",
    "            if val == WL_prev:\n",
    "                streak += 1\n",
    "            else:\n",
    "                index = -1 if WL_prev == \"L\" else 1\n",
    "                dist = np.append(dist, streak*index)\n",
    "                WL_prev = val\n",
    "                streak = 1\n",
    "        index = -1 if WL_prev == \"L\" else 1\n",
    "        dist = np.append(dist, streak*index)\n",
    "        streak_dist[team] = dist\n",
    "    return streak_dist"
   ]
  },
  {
   "cell_type": "code",
   "execution_count": 14,
   "metadata": {
    "collapsed": false
   },
   "outputs": [],
   "source": [
    "streaks = get_WLstreaks(WLseq)"
   ]
  },
  {
   "cell_type": "code",
   "execution_count": 38,
   "metadata": {
    "collapsed": false
   },
   "outputs": [
    {
     "data": {
      "image/png": "[encoded data removed]",
      "text/plain": [
       "<matplotlib.figure.Figure at 0x1149dfd90>"
      ]
     },
     "metadata": {},
     "output_type": "display_data"
    }
   ],
   "source": [
    "import scipy.stats as ss\n",
    "std = []\n",
    "skew = []\n",
    "teams = streaks.keys()\n",
    "plt.figure(figsize=(15,6))\n",
    "for keys, values in streaks.iteritems():\n",
    "    std.append(np.std(values))\n",
    "    skew.append(ss.skew(values))\n",
    "    \n",
    "plt.plot(std,'o',label=\"StDev\")\n",
    "plt.plot(skew,\"o\",label=\"Skew\")\n",
    "plt.ylabel(\"Stats of W/L streaks\", fontsize=13)\n",
    "plt.legend(loc=\"upper right\",numpoints=1)\n",
    "plt.xticks(range(len(teams)),teams);"
   ]
  },
  {
   "cell_type": "code",
   "execution_count": 18,
   "metadata": {
    "collapsed": false
   },
   "outputs": [
    {
     "data": {
      "image/png": "[encoded data removed]",
      "text/plain": [
       "<matplotlib.figure.Figure at 0x113bf0390>"
      ]
     },
     "metadata": {},
     "output_type": "display_data"
    }
   ],
   "source": [
    "output,isall,junk = plt.hist(streaks[\"PHI\"])"
   ]
  },
  {
   "cell_type": "markdown",
   "metadata": {},
   "source": [
    "## Finally, some Machine Learning!\n",
    "Now that we've spent quite some time creating the features we want to use, it's time to input these features and see how our algorithm performs!\n",
    "\n",
    "### To do:\n",
    "* The above code needs to be generalized to all years.\n",
    "* 1994 - 1997 needs to have the bracket fixed (1994 no playoffs). For now, just exclude that data maybe.\n",
    "* Also, you need to decide whether you're asking \"Who is going to win the WS?\", or \"Who is likely to go deep in the playoffs?\". I think the latter will yield better results. Basically have either separate columns (for whether or not the team made it to each round) or a single column with increasing number for each round they made it to. "
   ]
  },
  {
   "cell_type": "code",
   "execution_count": 66,
   "metadata": {
    "collapsed": false
   },
   "outputs": [
    {
     "data": {
      "text/html": [
       "<div>\n",
       "<table border=\"1\" class=\"dataframe\">\n",
       "  <thead>\n",
       "    <tr style=\"text-align: right;\">\n",
       "      <th></th>\n",
       "      <th>year</th>\n",
       "      <th>league_id</th>\n",
       "      <th>team_id</th>\n",
       "      <th>rank</th>\n",
       "      <th>g</th>\n",
       "      <th>ghome</th>\n",
       "      <th>w</th>\n",
       "      <th>l</th>\n",
       "      <th>div_win</th>\n",
       "      <th>wc_win</th>\n",
       "      <th>...</th>\n",
       "      <th>sho</th>\n",
       "      <th>sv</th>\n",
       "      <th>ipouts</th>\n",
       "      <th>ha</th>\n",
       "      <th>hra</th>\n",
       "      <th>bba</th>\n",
       "      <th>soa</th>\n",
       "      <th>e</th>\n",
       "      <th>dp</th>\n",
       "      <th>fp</th>\n",
       "    </tr>\n",
       "  </thead>\n",
       "  <tbody>\n",
       "    <tr>\n",
       "      <th>1518</th>\n",
       "      <td>1969</td>\n",
       "      <td>AL</td>\n",
       "      <td>BAL</td>\n",
       "      <td>1</td>\n",
       "      <td>162</td>\n",
       "      <td>81.0</td>\n",
       "      <td>109</td>\n",
       "      <td>53</td>\n",
       "      <td>Y</td>\n",
       "      <td>NaN</td>\n",
       "      <td>...</td>\n",
       "      <td>20</td>\n",
       "      <td>36</td>\n",
       "      <td>4419</td>\n",
       "      <td>1194</td>\n",
       "      <td>117</td>\n",
       "      <td>498</td>\n",
       "      <td>897</td>\n",
       "      <td>101</td>\n",
       "      <td>145.0</td>\n",
       "      <td>0.98</td>\n",
       "    </tr>\n",
       "    <tr>\n",
       "      <th>1532</th>\n",
       "      <td>1969</td>\n",
       "      <td>NL</td>\n",
       "      <td>NYN</td>\n",
       "      <td>1</td>\n",
       "      <td>162</td>\n",
       "      <td>82.0</td>\n",
       "      <td>100</td>\n",
       "      <td>62</td>\n",
       "      <td>Y</td>\n",
       "      <td>NaN</td>\n",
       "      <td>...</td>\n",
       "      <td>28</td>\n",
       "      <td>35</td>\n",
       "      <td>4404</td>\n",
       "      <td>1217</td>\n",
       "      <td>119</td>\n",
       "      <td>517</td>\n",
       "      <td>1012</td>\n",
       "      <td>122</td>\n",
       "      <td>146.0</td>\n",
       "      <td>0.98</td>\n",
       "    </tr>\n",
       "    <tr>\n",
       "      <th>1542</th>\n",
       "      <td>1970</td>\n",
       "      <td>AL</td>\n",
       "      <td>BAL</td>\n",
       "      <td>1</td>\n",
       "      <td>162</td>\n",
       "      <td>81.0</td>\n",
       "      <td>108</td>\n",
       "      <td>54</td>\n",
       "      <td>Y</td>\n",
       "      <td>NaN</td>\n",
       "      <td>...</td>\n",
       "      <td>12</td>\n",
       "      <td>31</td>\n",
       "      <td>4434</td>\n",
       "      <td>1317</td>\n",
       "      <td>139</td>\n",
       "      <td>469</td>\n",
       "      <td>941</td>\n",
       "      <td>117</td>\n",
       "      <td>148.0</td>\n",
       "      <td>0.98</td>\n",
       "    </tr>\n",
       "    <tr>\n",
       "      <th>1547</th>\n",
       "      <td>1970</td>\n",
       "      <td>NL</td>\n",
       "      <td>CIN</td>\n",
       "      <td>1</td>\n",
       "      <td>162</td>\n",
       "      <td>81.0</td>\n",
       "      <td>102</td>\n",
       "      <td>60</td>\n",
       "      <td>Y</td>\n",
       "      <td>NaN</td>\n",
       "      <td>...</td>\n",
       "      <td>15</td>\n",
       "      <td>60</td>\n",
       "      <td>4332</td>\n",
       "      <td>1370</td>\n",
       "      <td>118</td>\n",
       "      <td>592</td>\n",
       "      <td>843</td>\n",
       "      <td>151</td>\n",
       "      <td>173.0</td>\n",
       "      <td>0.97</td>\n",
       "    </tr>\n",
       "    <tr>\n",
       "      <th>1566</th>\n",
       "      <td>1971</td>\n",
       "      <td>AL</td>\n",
       "      <td>BAL</td>\n",
       "      <td>1</td>\n",
       "      <td>158</td>\n",
       "      <td>77.0</td>\n",
       "      <td>101</td>\n",
       "      <td>57</td>\n",
       "      <td>Y</td>\n",
       "      <td>NaN</td>\n",
       "      <td>...</td>\n",
       "      <td>15</td>\n",
       "      <td>22</td>\n",
       "      <td>4245</td>\n",
       "      <td>1257</td>\n",
       "      <td>125</td>\n",
       "      <td>416</td>\n",
       "      <td>793</td>\n",
       "      <td>112</td>\n",
       "      <td>148.0</td>\n",
       "      <td>0.98</td>\n",
       "    </tr>\n",
       "  </tbody>\n",
       "</table>\n",
       "<p>5 rows × 38 columns</p>\n",
       "</div>"
      ],
      "text/plain": [
       "      year league_id team_id  rank    g  ghome    w   l div_win wc_win  ...   \\\n",
       "1518  1969        AL     BAL     1  162   81.0  109  53       Y    NaN  ...    \n",
       "1532  1969        NL     NYN     1  162   82.0  100  62       Y    NaN  ...    \n",
       "1542  1970        AL     BAL     1  162   81.0  108  54       Y    NaN  ...    \n",
       "1547  1970        NL     CIN     1  162   81.0  102  60       Y    NaN  ...    \n",
       "1566  1971        AL     BAL     1  158   77.0  101  57       Y    NaN  ...    \n",
       "\n",
       "     sho  sv  ipouts    ha  hra  bba   soa    e     dp    fp  \n",
       "1518  20  36    4419  1194  117  498   897  101  145.0  0.98  \n",
       "1532  28  35    4404  1217  119  517  1012  122  146.0  0.98  \n",
       "1542  12  31    4434  1317  139  469   941  117  148.0  0.98  \n",
       "1547  15  60    4332  1370  118  592   843  151  173.0  0.97  \n",
       "1566  15  22    4245  1257  125  416   793  112  148.0  0.98  \n",
       "\n",
       "[5 rows x 38 columns]"
      ]
     },
     "execution_count": 66,
     "metadata": {},
     "output_type": "execute_result"
    }
   ],
   "source": [
    "#load data of interest\n",
    "year_cutoff = 1969\n",
    "\n",
    "team = pd.read_csv(\"csv/team.csv\")\n",
    "team = team[(team[\"lg_win\"]==\"Y\")|(team[\"wc_win\"]==\"Y\")] #only want playoff teams\n",
    "team = team[team[\"year\"]>=year_cutoff]                   #1969 = since division series was made\n",
    "team = team[(team[\"year\"]>1997)|((team[\"year\"]<1994))]   #dont want to deal with these years for now...\n",
    "del_columns = [\"div_id\",\"name\",\"team_id_lahman45\",\"franchise_id\",\"team_id_retro\",\"team_id_br\",\"ppf\",\"bpf\",\n",
    "               \"park\",\"attendance\"]\n",
    "team.drop(del_columns, axis=1, inplace=True)\n",
    "team.head()"
   ]
  },
  {
   "cell_type": "code",
   "execution_count": 67,
   "metadata": {
    "collapsed": false
   },
   "outputs": [
    {
     "data": {
      "text/plain": [
       "Index([u'year', u'league_id', u'team_id', u'rank', u'g', u'ghome', u'w', u'l',\n",
       "       u'div_win', u'wc_win', u'lg_win', u'ws_win', u'r', u'ab', u'h',\n",
       "       u'double', u'triple', u'hr', u'bb', u'so', u'sb', u'cs', u'hbp', u'sf',\n",
       "       u'ra', u'er', u'era', u'cg', u'sho', u'sv', u'ipouts', u'ha', u'hra',\n",
       "       u'bba', u'soa', u'e', u'dp', u'fp'],\n",
       "      dtype='object')"
      ]
     },
     "execution_count": 67,
     "metadata": {},
     "output_type": "execute_result"
    }
   ],
   "source": [
    "team.columns"
   ]
  },
  {
   "cell_type": "markdown",
   "metadata": {},
   "source": [
    "What you have to do now is do the above analysis for each year, grabbing the relevant teams to calculate the important stats."
   ]
  },
  {
   "cell_type": "markdown",
   "metadata": {
    "collapsed": true
   },
   "source": [
    "# Extra"
   ]
  },
  {
   "cell_type": "code",
   "execution_count": null,
   "metadata": {
    "collapsed": true
   },
   "outputs": [],
   "source": []
  },
  {
   "cell_type": "code",
   "execution_count": null,
   "metadata": {
    "collapsed": true
   },
   "outputs": [],
   "source": []
  },
  {
   "cell_type": "code",
   "execution_count": null,
   "metadata": {
    "collapsed": true
   },
   "outputs": [],
   "source": []
  },
  {
   "cell_type": "code",
   "execution_count": null,
   "metadata": {
    "collapsed": true
   },
   "outputs": [],
   "source": []
  },
  {
   "cell_type": "code",
   "execution_count": null,
   "metadata": {
    "collapsed": true
   },
   "outputs": [],
   "source": []
  },
  {
   "cell_type": "code",
   "execution_count": 118,
   "metadata": {
    "collapsed": false
   },
   "outputs": [],
   "source": [
    "def get_WLstreaks(WL):\n",
    "    Win_range = 15\n",
    "    streak_dist = {}\n",
    "    for team, WLrow in WL.iterrows():\n",
    "        dist = np.zeros(2*Win_range+1)     #Each is a bin from -win_range to +win_range, excl. 0 \n",
    "        WL_prev = WLrow[0]\n",
    "        streak = 0\n",
    "        for val in WLrow:\n",
    "            if val == WL_prev:\n",
    "                streak += 1\n",
    "            else:\n",
    "                index = -1 if WL_prev == \"L\" else 1\n",
    "                if streak > Win_range:\n",
    "                    dist[index*Win_range] += 1\n",
    "                else:\n",
    "                    dist[Win_range + streak*index] += 1\n",
    "                WL_prev = val\n",
    "                streak = 1\n",
    "        index = -1 if WL_prev == \"L\" else 1\n",
    "        if streak > Win_range:\n",
    "            dist[index*Win_range] += 1\n",
    "        else:\n",
    "            dist[Win_range+streak*index] += 1\n",
    "        streak_dist[team] = dist\n",
    "    return np.arange(-Win_range,Win_range+1), streak_dist"
   ]
  },
  {
   "cell_type": "code",
   "execution_count": null,
   "metadata": {
    "collapsed": false
   },
   "outputs": [],
   "source": [
    "colnames=[\"Date\",\"No.Gm in Series\",\"Day\",\"Team Away\",\"Lg Away\",\"Gm No. Away\",\"Team Home\",\"Lg Home\",\"Gm No. Home\",\n",
    "          \"Team Away Score\",\"Team Home Score\",\"No. outs\",\"Day/Night\",\"Completed\",\"Forfeit\",\"Protest\",\"ParkID\",\n",
    "          \"Attendance\",\"Gm. Length\",\"Team Away Ln. Sco.\",\"Team Home Ln. Sco.\" ]\n",
    "GL = pd.read_csv(\"retrosheet_GL/GL2015.TXT\",usecols=range(len(colnames)),names=colnames)"
   ]
  },
  {
   "cell_type": "code",
   "execution_count": null,
   "metadata": {
    "collapsed": true
   },
   "outputs": [],
   "source": [
    "#save copy\n",
    "def get_bracket(data,year,K_elo):  #1994 no WS, 1995-1997 is really weird seeding. Gonna be super annoying...\n",
    "    Team, Elo, wins = zip(*data)\n",
    "    teams = pd.read_csv(\"csv/team.csv\")\n",
    "    teams = teams.loc[(teams[\"year\"]==year)] \n",
    "    \n",
    "    AL = teams.loc[(teams[\"league_id\"]==\"AL\")&(teams[\"rank\"]==1)].sort_values(\"w\")\n",
    "    team_name = AL.loc[:,\"team_id\"].values.tolist()\n",
    "    team_div = AL.loc[:,\"div_id\"].values.tolist()\n",
    "    team_elo = []\n",
    "    for t in team_name:\n",
    "        t_id = Team.index(t)\n",
    "        team_elo.append(Elo[t_id])\n",
    "    if year >= 1994:\n",
    "        WCAL = teams.loc[(teams[\"rank\"]>1)&(teams[\"league_id\"]==\"AL\")].sort_values(\"w\",ascending=False)\n",
    "        if year >= 2012:\n",
    "            WCALteams = WCAL.loc[:,\"team_id\"].values[0:2]\n",
    "            t1 = Team.index(WCALteams[0])\n",
    "            t2 = Team.index(WCALteams[1])\n",
    "            winner_wc_al, elo_wc_al = get_winner(Team[t1],Elo[t1],Team[t2],Elo[t2],\"ALWC\",K_elo)\n",
    "            team_name.append(winner_wc_al)\n",
    "            team_elo.append(elo_wc_al)\n",
    "        else:\n",
    "            if WCAL.loc[:,\"div_id\"].values[0] == team_div[-1]: #stupid 1998-2011 WC rules\n",
    "                team_name[-2], team_name[-1] = team_name[-1], team_name[-2]\n",
    "                team_elo[-2], team_elo[-1] = team_elo[-1], team_elo[-2]\n",
    "            t1 = Team.index(WCAL.loc[:,\"team_id\"].values[0])\n",
    "            team_name.append(Team[t1])\n",
    "            team_elo.append(Elo[t1])\n",
    "\n",
    "    NL = teams.loc[(teams[\"league_id\"]==\"NL\")&(teams[\"rank\"]==1)].sort_values(\"w\")\n",
    "    dummy = NL.loc[:,\"team_id\"].values.tolist()\n",
    "    team_div = NL.loc[:,\"div_id\"].values.tolist()\n",
    "    for t in dummy:\n",
    "        t_id = Team.index(t)\n",
    "        team_name.append(t)\n",
    "        team_elo.append(Elo[t_id])\n",
    "    if year >= 1994:\n",
    "        WCNL = teams.loc[(teams[\"rank\"]>1)&(teams[\"league_id\"]==\"NL\")].sort_values(\"w\",ascending=False)\n",
    "        if year >= 2012:\n",
    "            WCNLteams = WCNL.loc[:,\"team_id\"].values[0:2]\n",
    "            t1 = Team.index(WCNLteams[0])\n",
    "            t2 = Team.index(WCNLteams[1])\n",
    "            winner_wc_nl, elo_wc_nl = get_winner(Team[t1],Elo[t1],Team[t2],Elo[t2],\"NLWC\",K_elo)\n",
    "            team_name.append(winner_wc_nl)\n",
    "            team_elo.append(elo_wc_nl)\n",
    "        else:\n",
    "            if WCNL.loc[:,\"div_id\"].values[0] == team_div[-1]: #stupid 1998-2011 WC rules\n",
    "                team_name[-2], team_name[-1] = team_name[-1], team_name[-2]\n",
    "                team_elo[-2], team_elo[-1] = team_elo[-1], team_elo[-2]\n",
    "            t1 = Team.index(WCNL.loc[:,\"team_id\"].values[0])\n",
    "            team_name.append(Team[t1])\n",
    "            team_elo.append(Elo[t1])\n",
    "    return team_name, team_elo"
   ]
  },
  {
   "cell_type": "code",
   "execution_count": null,
   "metadata": {
    "collapsed": false
   },
   "outputs": [],
   "source": [
    "Games = GL.loc[:,[\"Date\",\"Team Away\",\"Team Away Score\",\"Team Home\",\"Team Home Score\",\"Winning Team\",\"Losing Team\"]]\n",
    "Games.head()"
   ]
  },
  {
   "cell_type": "code",
   "execution_count": null,
   "metadata": {
    "collapsed": true
   },
   "outputs": [],
   "source": [
    "def MC(array,year,n_throws):\n",
    "    postseason = pd.read_csv(\"csv/postseason.csv\")\n",
    "    bracket = postseason.loc[postseason[\"year\"]==year]\n",
    "    rounds = [\"ALWC\",\"NLWC\",\"ALDS1\",\"ALDS2\",\"NLDS1\",\"NLDS2\",\"ALCS\",\"NLCS\",\"WS\"]\n",
    "    K_elo = 40\n",
    "    Team, Elo, wins = zip(*array)\n",
    "    #for r in rounds:\n",
    "    r = \"WS\"\n",
    "    team1 = Team.index(bracket.loc[bracket[\"round\"]==\"ALWC\",\"team_id_winner\"].values[0])\n",
    "    team2 = Team.index(bracket.loc[bracket[\"round\"]==\"ALWC\",\"team_id_loser\"].values[0])\n",
    "    return get_winner(Team[team1],Elo[team1],Team[team2],Elo[team2],r,K_elo)"
   ]
  },
  {
   "cell_type": "code",
   "execution_count": null,
   "metadata": {
    "collapsed": true
   },
   "outputs": [],
   "source": [
    "def simulate_DS(playoff_round,bracket,Team,Elos,K_elo):\n",
    "    if playoff_round == \"ALDS1\": #first get wildcard winner\n",
    "        wc1 = Team.index(bracket.loc[bracket[\"round\"]==\"ALWC\",\"team_id_winner\"].values[0])\n",
    "        wc2 = Team.index(bracket.loc[bracket[\"round\"]==\"ALWC\",\"team_id_loser\"].values[0])\n",
    "        team_won,elo_won = get_winner(Team[wc1],Elo[wc1],Team[wc2],Elo[wc2],\"ALWC\",K_elo)\n",
    "        index = Team.index(team_won)\n",
    "        Elos[index] = elo_won  #update elo of winning team\n",
    "        team2 = bracket.loc[bracket[\"round\"]==\"ALDS1\",\"team_id_winner\"].values[0]\n",
    "        if Team[index] == team2:\n",
    "            team2 = bracket.loc[bracket[\"round\"]==\"ALDS1\",\"team_id_loser\"].values[0]\n",
    "    elif playoff_round == \"NLDS1\":\n",
    "        wc1 = Team.index(bracket.loc[bracket[\"round\"]==\"NLWC\",\"team_id_winner\"].values[0])\n",
    "        wc2 = Team.index(bracket.loc[bracket[\"round\"]==\"NLWC\",\"team_id_loser\"].values[0])\n",
    "        team_won,elo_won = get_winner(Team[wc1],Elo[wc1],Team[wc2],Elo[wc2],\"NLWC\",K_elo)\n",
    "        index = Team.index(team_won)\n",
    "        Elos[index] = elo_won  #update elo of winning team\n",
    "        \n",
    "    team2 = bracket.loc[bracket[\"round\"]==\"NLDS1\",\"team_id_winner\"].values[0]\n",
    "    if Team[index] == team2:\n",
    "        team2 = bracket.loc[bracket[\"round\"]==\"NLDS1\",\"team_id_loser\"].values[0]\n",
    "    t1 = Team.index(index)\n",
    "    t2 = Team.index()\n",
    "    return get_winner(Team[t1],Elo[t1],Team[t2],Elo[t2],playoff_round,K_elo)\n",
    "\n",
    "def simulate_WS(winners,series,index,K_elo):\n",
    "    team_1, elo_1 = winners[2*index]\n",
    "    team_2, elo_2 = winners[2*index + 1]\n",
    "    return get_winner(team_1,elo_1,team_2,elo_2,series,K_elo)"
   ]
  },
  {
   "cell_type": "code",
   "execution_count": null,
   "metadata": {
    "collapsed": false
   },
   "outputs": [],
   "source": [
    "Team, Elo, wins = zip(*array)\n",
    "\n",
    "teams = pd.read_csv(\"csv/team.csv\")\n",
    "teams = teams.loc[(teams[\"year\"]==year)]\n",
    "K_elo = 20\n",
    "\n",
    "AL = teams.loc[(teams[\"league_id\"]==\"AL\")&(teams[\"rank\"]==1)].sort_values(\"w\")\n",
    "team_name = AL.loc[:,\"team_id\"].values.tolist()\n",
    "team_elo = []\n",
    "for t in team_name:\n",
    "    t_id = Team.index(t)\n",
    "    team_elo.append(Elo[t_id])\n",
    "\n",
    "WCAL = teams.loc[(teams[\"rank\"]>1)&(teams[\"league_id\"]==\"AL\")].sort_values(\"w\",ascending=False)\n",
    "WCALteams = WCAL.loc[:,\"team_id\"].values[0:2]\n",
    "winner_wc_al, elo_wc_al = get_winner(WCALteams[0],WCALteams[1],Team,Elo,\"ALWC\",K_elo)\n",
    "team_name.append(winner_wc_al)\n",
    "team_elo.append(elo_wc_al)\n",
    "\n",
    "NL = teams.loc[(teams[\"league_id\"]==\"NL\")&(teams[\"rank\"]==1)].sort_values(\"w\")\n",
    "dummy = NL.loc[:,\"team_id\"].values.tolist()\n",
    "for t in dummy:\n",
    "    t_id = Team.index(t)\n",
    "    team_name.append(t)\n",
    "    team_elo.append(Elo[t_id])\n",
    "\n",
    "WCNL = teams.loc[(teams[\"rank\"]>1)&(teams[\"league_id\"]==\"NL\")].sort_values(\"w\",ascending=False)\n",
    "WCNLteams = WCNL.loc[:,\"team_id\"].values[0:2]\n",
    "winner_wc_nl, elo_wc_nl = get_winner(WCNLteams[0],WCNLteams[1],Team,Elo,\"NLWC\",K_elo)\n",
    "team_name.append(winner_wc_nl)\n",
    "team_elo.append(elo_wc_nl)\n",
    "team_name, team_elo"
   ]
  }
 ],
 "metadata": {
  "kernelspec": {
   "display_name": "Python 2",
   "language": "python",
   "name": "python2"
  },
  "language_info": {
   "codemirror_mode": {
    "name": "ipython",
    "version": 2
   },
   "file_extension": ".py",
   "mimetype": "text/x-python",
   "name": "python",
   "nbconvert_exporter": "python",
   "pygments_lexer": "ipython2",
   "version": "2.7.11"
  }
 },
 "nbformat": 4,
 "nbformat_minor": 0
}
