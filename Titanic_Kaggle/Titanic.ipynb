{
 "cells": [
  {
   "cell_type": "code",
   "execution_count": 2,
   "metadata": {
    "collapsed": true
   },
   "outputs": [],
   "source": [
    "#This tutorial is following the Titanic dataquest example:\n",
    "#https://www.dataquest.io/mission/74/getting-started-with-kaggle\n",
    "import pandas as pd\n",
    "import seaborn as sns\n",
    "from sklearn.linear_model import LinearRegression\n",
    "from sklearn import metrics\n",
    "from sklearn.cross_validation import cross_val_score\n",
    "import numpy as np"
   ]
  },
  {
   "cell_type": "code",
   "execution_count": 3,
   "metadata": {
    "collapsed": false
   },
   "outputs": [
    {
     "name": "stdout",
     "output_type": "stream",
     "text": [
      "HEAD\n",
      "   PassengerId  Survived  Pclass  \\\n",
      "0            1         0       3   \n",
      "1            2         1       1   \n",
      "2            3         1       3   \n",
      "3            4         1       1   \n",
      "4            5         0       3   \n",
      "\n",
      "                                                Name     Sex   Age  SibSp  \\\n",
      "0                            Braund, Mr. Owen Harris    male  22.0      1   \n",
      "1  Cumings, Mrs. John Bradley (Florence Briggs Th...  female  38.0      1   \n",
      "2                             Heikkinen, Miss. Laina  female  26.0      0   \n",
      "3       Futrelle, Mrs. Jacques Heath (Lily May Peel)  female  35.0      1   \n",
      "4                           Allen, Mr. William Henry    male  35.0      0   \n",
      "\n",
      "   Parch            Ticket     Fare Cabin Embarked  \n",
      "0      0         A/5 21171   7.2500   NaN        S  \n",
      "1      0          PC 17599  71.2833   C85        C  \n",
      "2      0  STON/O2. 3101282   7.9250   NaN        S  \n",
      "3      0            113803  53.1000  C123        S  \n",
      "4      0            373450   8.0500   NaN        S  \n",
      "\n",
      "DESCRIBE\n",
      "       PassengerId    Survived      Pclass         Age       SibSp  \\\n",
      "count   891.000000  891.000000  891.000000  714.000000  891.000000   \n",
      "mean    446.000000    0.383838    2.308642   29.699118    0.523008   \n",
      "std     257.353842    0.486592    0.836071   14.526497    1.102743   \n",
      "min       1.000000    0.000000    1.000000    0.420000    0.000000   \n",
      "25%     223.500000    0.000000    2.000000   20.125000    0.000000   \n",
      "50%     446.000000    0.000000    3.000000   28.000000    0.000000   \n",
      "75%     668.500000    1.000000    3.000000   38.000000    1.000000   \n",
      "max     891.000000    1.000000    3.000000   80.000000    8.000000   \n",
      "\n",
      "            Parch        Fare  \n",
      "count  891.000000  891.000000  \n",
      "mean     0.381594   32.204208  \n",
      "std      0.806057   49.693429  \n",
      "min      0.000000    0.000000  \n",
      "25%      0.000000    7.910400  \n",
      "50%      0.000000   14.454200  \n",
      "75%      0.000000   31.000000  \n",
      "max      6.000000  512.329200  \n"
     ]
    }
   ],
   "source": [
    "#This is a dataframe\n",
    "titanic = pd.read_csv(\"train.csv\")\n",
    "print 'HEAD'\n",
    "print(titanic.head(5))\n",
    "print '\\nDESCRIBE'\n",
    "print(titanic.describe())"
   ]
  },
  {
   "cell_type": "code",
   "execution_count": 4,
   "metadata": {
    "collapsed": false
   },
   "outputs": [],
   "source": [
    "#count is the number of entries. We can see though that age only has 714. Fill in missing entries with median age.\n",
    "titanic[\"Age\"] = titanic[\"Age\"].fillna(titanic[\"Age\"].median())"
   ]
  },
  {
   "cell_type": "code",
   "execution_count": 5,
   "metadata": {
    "collapsed": false
   },
   "outputs": [
    {
     "name": "stdout",
     "output_type": "stream",
     "text": [
      "['male' 'female']\n"
     ]
    }
   ],
   "source": [
    "#Need to convert non-numeric entries to numeric entries - see all unique entries\n",
    "print(titanic[\"Sex\"].unique())\n",
    "titanic.loc[titanic[\"Sex\"] == \"male\", \"Sex\"] = 0\n",
    "titanic.loc[titanic[\"Sex\"] == \"female\", \"Sex\"] = 1"
   ]
  },
  {
   "cell_type": "code",
   "execution_count": 6,
   "metadata": {
    "collapsed": false
   },
   "outputs": [
    {
     "name": "stdout",
     "output_type": "stream",
     "text": [
      "['S' 'C' 'Q' nan]\n"
     ]
    }
   ],
   "source": [
    "#Do the same for embarked\n",
    "print(titanic[\"Embarked\"].unique())"
   ]
  },
  {
   "cell_type": "code",
   "execution_count": 7,
   "metadata": {
    "collapsed": false
   },
   "outputs": [],
   "source": [
    "titanic[\"Embarked\"].fillna(0, inplace=True)\n",
    "titanic.loc[titanic[\"Embarked\"] == \"S\", \"Embarked\"] = 0\n",
    "titanic.loc[titanic[\"Embarked\"] == \"C\", \"Embarked\"] = 1\n",
    "titanic.loc[titanic[\"Embarked\"] == \"Q\", \"Embarked\"] = 2"
   ]
  },
  {
   "cell_type": "code",
   "execution_count": 8,
   "metadata": {
    "collapsed": false
   },
   "outputs": [],
   "source": [
    "#Feature engineering - create new columns that will aid our analysis\n",
    "#For example, we know that on the Titanic, Women + Children got precidence. Create a field with them.\n",
    "MaxChildAge = 13\n",
    "titanic[\"WomenChildren\"] = titanic[\"Sex\"]\n",
    "titanic.loc[titanic[\"Age\"] < MaxChildAge, \"WomenChildren\"] = 1\n",
    "titanic[\"Fare/Class\"] = titanic[\"Fare\"]/titanic[\"Pclass\"]\n",
    "\n",
    "#how to print multiple columns a dataframe. Weird syntax...\n",
    "#print(titanic.ix[:,[\"Age\",\"Sex\",\"WomenChildren\"]])"
   ]
  },
  {
   "cell_type": "code",
   "execution_count": 9,
   "metadata": {
    "collapsed": false
   },
   "outputs": [
    {
     "name": "stdout",
     "output_type": "stream",
     "text": [
      "Index([u'PassengerId', u'Survived', u'Pclass', u'Name', u'Sex', u'Age',\n",
      "       u'SibSp', u'Parch', u'Ticket', u'Fare', u'Cabin', u'Embarked',\n",
      "       u'WomenChildren', u'Fare/Class'],\n",
      "      dtype='object')\n"
     ]
    }
   ],
   "source": [
    "#########PART 2#########\n",
    "#Now let's get to some machine learning! This section shows many different algorithms\n",
    "#########PART 2#########\n",
    "print(titanic.columns)\n",
    "#survival        Survival\n",
    "#                (0 = No; 1 = Yes)\n",
    "#pclass          Passenger Class\n",
    "#                (1 = 1st; 2 = 2nd; 3 = 3rd)\n",
    "#name            Name\n",
    "#sex             Sex\n",
    "#age             Age\n",
    "#sibsp           Number of Siblings/Spouses Aboard\n",
    "#parch           Number of Parents/Children Aboard\n",
    "#ticket          Ticket Number\n",
    "#fare            Passenger Fare\n",
    "#cabin           Cabin\n",
    "#embarked        Port of Embarkation\n",
    "#                (C = Cherbourg; Q = Queenstown; S = Southampton)"
   ]
  },
  {
   "cell_type": "code",
   "execution_count": 10,
   "metadata": {
    "collapsed": false
   },
   "outputs": [],
   "source": [
    "#Let's create the different items we want for the Linear Regression\n",
    "\n",
    "#feature_cols = ['Age','Sex','Fare','Pclass','Embarked','SibSp','Parch']\n",
    "feature_cols = [\"WomenChildren\",\"Pclass\",\"Fare\",\"Sex\"]\n",
    "# use the list to select a subset of the DataFrame (X)\n",
    "Y = titanic.Survived\n",
    "lm = LinearRegression()"
   ]
  },
  {
   "cell_type": "code",
   "execution_count": 11,
   "metadata": {
    "collapsed": false
   },
   "outputs": [],
   "source": [
    "#We can try various plotting things if we want\n",
    "#%matplotlib inline\n",
    "#sns.pairplot(titanic, x_vars=['WomenChildren'], y_vars='Survived', size=7, aspect=0.7)"
   ]
  },
  {
   "cell_type": "code",
   "execution_count": 12,
   "metadata": {
    "collapsed": false
   },
   "outputs": [
    {
     "name": "stdout",
     "output_type": "stream",
     "text": [
      "(1, 0.40200802086586834, 0.061115603207262038)\n",
      "(2, 0.37839825162555035, 0.044163523601727046)\n",
      "(3, 0.37908717213242171, 0.043991532999219665)\n"
     ]
    }
   ],
   "source": [
    "#cross_val_score computes a linear regression on X, Y using cv folds for the cross validation phase.\n",
    "#MSE = 1/n sum(Y_pred - Y_actual) = lower the better\n",
    "for i in xrange(1,len(feature_cols)):\n",
    "    X = titanic[feature_cols[0:i]]\n",
    "    CVS = np.sqrt(-cross_val_score(lm, X, Y, cv=10, scoring='mean_squared_error'))\n",
    "    print(i,CVS.mean(),CVS.std()*2)"
   ]
  },
  {
   "cell_type": "code",
   "execution_count": 13,
   "metadata": {
    "collapsed": false
   },
   "outputs": [
    {
     "name": "stdout",
     "output_type": "stream",
     "text": [
      "0.792354159573\n"
     ]
    }
   ],
   "source": [
    "#Instead of a particular scoring method (e.g. MSE), we can just print the fraction of times the alg\n",
    "#correctly predicted the Survivability of a passenger. \n",
    "#Logistic Reg maps linear reg values to 0/1, making it easy to compare to passenger survivability (0/1 also)\n",
    "from sklearn.linear_model import LogisticRegression\n",
    "alg = LogisticRegression(random_state=1)\n",
    "scores = cross_val_score(alg, X, Y, cv=10)\n",
    "print(scores.mean())"
   ]
  },
  {
   "cell_type": "code",
   "execution_count": 17,
   "metadata": {
    "collapsed": false
   },
   "outputs": [
    {
     "name": "stdout",
     "output_type": "stream",
     "text": [
      "(0.80389125799573569, 0.020675122697521465)\n"
     ]
    },
    {
     "data": {
      "image/png": "[encoded data removed]",
      "text/plain": [
       "<matplotlib.figure.Figure at 0x110b69510>"
      ]
     },
     "metadata": {},
     "output_type": "display_data"
    }
   ],
   "source": [
    "#Try a K-nearest neighbour algorithm? Need to make a train subset and a test subset from the training data\n",
    "from sklearn.neighbors import KNeighborsClassifier\n",
    "import matplotlib.pyplot as plt\n",
    "%matplotlib inline\n",
    "nn = np.arange(1,15)                          #Number of nearest neighbours for the KNN alg.\n",
    "N_scores = len(nn)\n",
    "knn_avg_score = np.zeros(N_scores)\n",
    "knn_std = np.zeros(N_scores)\n",
    "N_avg = 15\n",
    "L = 7*len(titanic.Fare)/10                #Ratio of train/test data set size\n",
    "\n",
    "for i in xrange(0,N_scores):\n",
    "    scores = np.zeros(N_avg)\n",
    "    for j in xrange(0,N_avg):\n",
    "        #first make a copy and randomize the entries (already randomized but for completeness)\n",
    "        titanic_copy = titanic.copy()\n",
    "        titanic_copy = titanic_copy.reindex(np.random.permutation(titanic_copy.index))\n",
    "        #split into two equal data frames\n",
    "        df1, df2 = np.array_split(titanic_copy, [L])\n",
    "        #Now train the KNN on df1, and then test on df2\n",
    "        #weight=distance: weights points by inverse of their distance. Closer neighbors of a query point = greater influence \n",
    "        knn = KNeighborsClassifier(n_neighbors=nn[i], weights=\"distance\")\n",
    "        knn.fit(df1[feature_cols], df1[\"Survived\"])\n",
    "        knn_predict = knn.predict(df2[feature_cols]) - df2[\"Survived\"]\n",
    "        scores[j] = len(knn_predict.loc[knn_predict == 0])/float(len(df2))\n",
    "    knn_avg_score[i] = np.mean(scores)\n",
    "    knn_std[i] = np.std(scores)\n",
    "plt.plot(nn,knn_avg_score,'o', label='data')\n",
    "plt.ylabel(\"KNN success rate\")\n",
    "plt.xlabel(\"# of nearest neighbours\")\n",
    "plt.errorbar(nn,knn_avg_score, yerr=knn_std, linestyle='None', color='b',label='')\n",
    "print(np.mean(knn_avg_score), np.mean(knn_std))"
   ]
  },
  {
   "cell_type": "code",
   "execution_count": 18,
   "metadata": {
    "collapsed": true
   },
   "outputs": [],
   "source": [
    "#########PART 3#########\n",
    "#Now that we have built a model on the training data, we test our model on the test data with the best alg of choice.\n",
    "#Need to prep it in the same way though!\n",
    "#########PART 3#########"
   ]
  },
  {
   "cell_type": "code",
   "execution_count": 19,
   "metadata": {
    "collapsed": true
   },
   "outputs": [],
   "source": [
    "titanic_test = pd.read_csv(\"test.csv\")"
   ]
  },
  {
   "cell_type": "code",
   "execution_count": 20,
   "metadata": {
    "collapsed": true
   },
   "outputs": [],
   "source": [
    "titanic_test[\"Age\"] = titanic_test[\"Age\"].fillna(titanic[\"Age\"].median())\n",
    "titanic_test.loc[titanic_test[\"Sex\"] == \"male\", \"Sex\"] = 0\n",
    "titanic_test.loc[titanic_test[\"Sex\"] == \"female\", \"Sex\"] = 1\n",
    "titanic[\"Embarked\"].fillna(0, inplace=True)\n",
    "titanic_test.loc[titanic_test[\"Embarked\"] == \"S\", \"Embarked\"] = 0\n",
    "titanic_test.loc[titanic_test[\"Embarked\"] == \"C\", \"Embarked\"] = 1\n",
    "titanic_test.loc[titanic_test[\"Embarked\"] == \"Q\", \"Embarked\"] = 2\n",
    "titanic_test[\"Fare\"] = titanic_test[\"Fare\"].fillna(titanic[\"Fare\"].median())\n",
    "titanic_test[\"WomenChildren\"] = titanic_test[\"Sex\"]\n",
    "titanic_test.loc[titanic_test[\"Age\"] < MaxChildAge, \"WomenChildren\"] = 1"
   ]
  },
  {
   "cell_type": "code",
   "execution_count": 21,
   "metadata": {
    "collapsed": false
   },
   "outputs": [],
   "source": [
    "#now make the new predictions on the test data (i.e. a dataset completely unseen by the linear regression)\n",
    "#The test data has no \"Survived\" column (i.e. no way to check our answer), so we submit it to Kaggle to check.\n",
    "\n",
    "#Logistic Regression - scored 0.77 - best submission so far\n",
    "alg = LogisticRegression(random_state=1)\n",
    "alg.fit(titanic[feature_cols], titanic[\"Survived\"])\n",
    "#predictions = alg.predict(titanic_test[feature_cols])\n",
    "\n",
    "#try KNN instead - scored 0.746\n",
    "knn = KNeighborsClassifier(n_neighbors=6, weights=\"distance\")\n",
    "knn.fit(titanic[feature_cols], titanic[\"Survived\"])\n",
    "predictions = knn.predict(titanic_test[feature_cols])"
   ]
  },
  {
   "cell_type": "code",
   "execution_count": 22,
   "metadata": {
    "collapsed": false
   },
   "outputs": [],
   "source": [
    "submission = pd.DataFrame({\n",
    "        \"PassengerId\": titanic_test[\"PassengerId\"],\n",
    "        \"Survived\": predictions\n",
    "    })\n",
    "\n",
    "#Submission to Kaggle\n",
    "submission.to_csv(\"Titanic_Kaggle_Submission.csv\", index=False)"
   ]
  },
  {
   "cell_type": "code",
   "execution_count": null,
   "metadata": {
    "collapsed": true
   },
   "outputs": [],
   "source": []
  }
 ],
 "metadata": {
  "kernelspec": {
   "display_name": "Python 2",
   "language": "python",
   "name": "python2"
  },
  "language_info": {
   "codemirror_mode": {
    "name": "ipython",
    "version": 2
   },
   "file_extension": ".py",
   "mimetype": "text/x-python",
   "name": "python",
   "nbconvert_exporter": "python",
   "pygments_lexer": "ipython2",
   "version": "2.7.11"
  }
 },
 "nbformat": 4,
 "nbformat_minor": 0
}
