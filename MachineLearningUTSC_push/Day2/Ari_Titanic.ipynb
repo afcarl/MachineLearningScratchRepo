{
 "cells": [
  {
   "cell_type": "code",
   "execution_count": 47,
   "metadata": {
    "collapsed": true
   },
   "outputs": [],
   "source": [
    "import pandas as pd\n",
    "import numpy as np\n",
    "import matplotlib.pyplot as plt\n",
    "%matplotlib inline\n",
    "from sklearn.ensemble import RandomForestClassifier\n",
    "from sklearn import cross_validation\n",
    "from sklearn.cross_validation import cross_val_score,train_test_split\n",
    "from pandas.tools.plotting import scatter_matrix"
   ]
  },
  {
   "cell_type": "code",
   "execution_count": 4,
   "metadata": {
    "collapsed": false
   },
   "outputs": [],
   "source": [
    "def process_data(df):\n",
    "    df['Female'] = pd.factorize(df['Sex'])[0]\n",
    "    df.loc[df['Age'].isnull(), 'Age'] = df['Age'].mean()\n",
    "    df.loc[df['Fare'].isnull(), 'Fare'] = df['Fare'].median()\n",
    "    df.loc[df['Cabin'].isnull(), 'Cabin'] = 'U0'\n",
    "    df.loc[df['Embarked'].isnull(), 'Embarked'] = df['Embarked'].dropna().mode()[0]\n",
    "    \n",
    "    #A.S. Dummy columns are supposed to be better, since some regression algorithms will think that\n",
    "    #the numbers have value (2>1>0). \n",
    "    df[\"Embarked\"].fillna(0, inplace=True)\n",
    "    df.loc[df[\"Embarked\"] == \"S\", \"Embarked\"] = 0\n",
    "    df.loc[df[\"Embarked\"] == \"C\", \"Embarked\"] = 1\n",
    "    df.loc[df[\"Embarked\"] == \"Q\", \"Embarked\"] = 2\n",
    "    #dummies_df = pd.get_dummies(df['Embarked'])\n",
    "    #def addEmbarked(name):\n",
    "    #    return 'Embarked_' + name\n",
    "    #dummies_df = dummies_df.rename(columns=addEmbarked)\n",
    "    #df = pd.concat([df, dummies_df], axis=1)\n",
    "    #df['EmbarkedNum'] = pd.factorize(df['Embarked'])[0]\n",
    "    \n",
    "    import re\n",
    "    def getDeck(cabin):\n",
    "        match = re.search(\"([A-Z])\", cabin)\n",
    "        return match.group(1) if match is not None else None\n",
    "    def getCabinNum(cabin):\n",
    "        match = re.search(\"([0-9]+)\", cabin)\n",
    "        return match.group(1) if match is not None else None\n",
    "    \n",
    "    df['Deck'] = df['Cabin'].map(getDeck)\n",
    "    df['DeckNum'] = df[\"Deck\"]\n",
    "    #df['DeckNum'] = pd.factorize(df['Deck'])[0]     #These don't put the Decks in order\n",
    "    def getCabinVal(df):\n",
    "        df.loc[df[\"Deck\"] == \"A\", \"DeckNum\"] = 0\n",
    "        df.loc[df[\"Deck\"] == \"B\", \"DeckNum\"] = 1\n",
    "        df.loc[df[\"Deck\"] == \"C\", \"DeckNum\"] = 2\n",
    "        df.loc[df[\"Deck\"] == \"D\", \"DeckNum\"] = 3\n",
    "        df.loc[df[\"Deck\"] == \"E\", \"DeckNum\"] = 4\n",
    "        df.loc[df[\"Deck\"] == \"F\", \"DeckNum\"] = 5\n",
    "        df.loc[df[\"Deck\"] == \"G\", \"DeckNum\"] = 6\n",
    "        df.loc[df[\"Deck\"] == \"T\", \"DeckNum\"] = 7\n",
    "        df.loc[df[\"Deck\"] == \"U\", \"DeckNum\"] = np.random.randint(0,7)\n",
    "    getCabinVal(df)\n",
    "    #df['CabinNum'] = df['Cabin'].map(getCabinNum)\n",
    "    #df.loc[df['CabinNum'].isnull(), 'CabinNum'] = 0\n",
    "    \n",
    "    df[\"SexNum\"] = pd.factorize(df[\"Sex\"])[0]\n",
    "    MaxChildAge = 13\n",
    "    df[\"WomenChildren\"] = df[\"SexNum\"]\n",
    "    df.loc[df[\"Age\"] < MaxChildAge, \"WomenChildren\"] = 1\n",
    "    \n",
    "    def numNames(name):\n",
    "        return len(re.split(' ', name))\n",
    "    df['NumNames'] = df['Name'].map(numNames)\n",
    "    \n",
    "    def getTitle(name):\n",
    "        match = re.search(\", (.*?)\\.\", name)\n",
    "        return match.group(1) if match is not None else None\n",
    "    df['Title'] = df['Name'].map(getTitle)\n",
    "    \n",
    "    df.loc[df['Title'] == 'Jonkheer', 'Title'] = 'Master'\n",
    "    df.loc[df['Title'].isin(['Ms', 'Mlle']), 'Title'] = 'Miss'\n",
    "    df.loc[df['Title'] == 'Mme', 'Title'] = 'Mrs'\n",
    "    df.loc[df['Title'].isin(['Capt', 'Don', 'Major', 'Col', 'Sir']), 'Title'] = 'Sir'\n",
    "    df.loc[df['Title'].isin(['Dona', 'Lady', 'the Countess']), 'Title'] = 'Lady'\n",
    "    df = pd.concat([df, pd.get_dummies(df['Title']).rename(columns=lambda x: 'Title_' + str(x))], axis=1)\n",
    "    \n",
    "    return df"
   ]
  },
  {
   "cell_type": "code",
   "execution_count": 5,
   "metadata": {
    "collapsed": false
   },
   "outputs": [],
   "source": [
    "df = pd.read_csv('data/train.csv')\n",
    "df = process_data(df)"
   ]
  },
  {
   "cell_type": "code",
   "execution_count": 45,
   "metadata": {
    "collapsed": false
   },
   "outputs": [
    {
     "data": {
      "text/plain": [
       "Index([u'PassengerId', u'Survived', u'Pclass', u'Name', u'Sex', u'Age',\n",
       "       u'SibSp', u'Parch', u'Ticket', u'Fare', u'Cabin', u'Embarked',\n",
       "       u'Female', u'Deck', u'DeckNum', u'SexNum', u'WomenChildren',\n",
       "       u'NumNames', u'Title', u'Title_Dr', u'Title_Lady', u'Title_Master',\n",
       "       u'Title_Miss', u'Title_Mr', u'Title_Mrs', u'Title_Rev', u'Title_Sir'],\n",
       "      dtype='object')"
      ]
     },
     "execution_count": 45,
     "metadata": {},
     "output_type": "execute_result"
    }
   ],
   "source": [
    "df.columns\n",
    "#survival        Survival (0 = No; 1 = Yes)\n",
    "#pclass          Passenger Class (1 = 1st; 2 = 2nd; 3 = 3rd)\n",
    "#name            Name\n",
    "#sex             Sex\n",
    "#age             Age\n",
    "#sibsp           Number of Siblings/Spouses Aboard\n",
    "#parch           Number of Parents/Children Aboard\n",
    "#ticket          Ticket Number\n",
    "#fare            Passenger Fare\n",
    "#cabin           Cabin\n",
    "#embarked        Port of Embarkation (C = Cherbourg; Q = Queenstown; S = Southampton)"
   ]
  },
  {
   "cell_type": "code",
   "execution_count": 6,
   "metadata": {
    "collapsed": false
   },
   "outputs": [
    {
     "data": {
      "text/plain": [
       "array(['U', 'C', 'E', 'G', 'D', 'A', 'B', 'F', 'T'], dtype=object)"
      ]
     },
     "execution_count": 6,
     "metadata": {},
     "output_type": "execute_result"
    }
   ],
   "source": [
    "df[\"Deck\"].unique()"
   ]
  },
  {
   "cell_type": "code",
   "execution_count": 7,
   "metadata": {
    "collapsed": false
   },
   "outputs": [
    {
     "data": {
      "text/html": [
       "<div>\n",
       "<table border=\"1\" class=\"dataframe\">\n",
       "  <thead>\n",
       "    <tr style=\"text-align: right;\">\n",
       "      <th></th>\n",
       "      <th>DeckNum</th>\n",
       "      <th>Deck</th>\n",
       "    </tr>\n",
       "  </thead>\n",
       "  <tbody>\n",
       "    <tr>\n",
       "      <th>0</th>\n",
       "      <td>0</td>\n",
       "      <td>U</td>\n",
       "    </tr>\n",
       "    <tr>\n",
       "      <th>1</th>\n",
       "      <td>2</td>\n",
       "      <td>C</td>\n",
       "    </tr>\n",
       "    <tr>\n",
       "      <th>2</th>\n",
       "      <td>0</td>\n",
       "      <td>U</td>\n",
       "    </tr>\n",
       "    <tr>\n",
       "      <th>3</th>\n",
       "      <td>2</td>\n",
       "      <td>C</td>\n",
       "    </tr>\n",
       "    <tr>\n",
       "      <th>4</th>\n",
       "      <td>0</td>\n",
       "      <td>U</td>\n",
       "    </tr>\n",
       "  </tbody>\n",
       "</table>\n",
       "</div>"
      ],
      "text/plain": [
       "  DeckNum Deck\n",
       "0       0    U\n",
       "1       2    C\n",
       "2       0    U\n",
       "3       2    C\n",
       "4       0    U"
      ]
     },
     "execution_count": 7,
     "metadata": {},
     "output_type": "execute_result"
    }
   ],
   "source": [
    "#np.where(df[\"Deck\"] == \"F\")\n",
    "df[[\"DeckNum\",\"Deck\"]].head()"
   ]
  },
  {
   "cell_type": "markdown",
   "metadata": {},
   "source": [
    "### Random Forest explanation - \n",
    "\n",
    "Each decision tree in the forest is deterministic and is constructed from a random subset of the data. E.g: For a given tree, every time it is cloudy, hot and windy, I will not play tennis. But there could be a similar data point where I do play tennis in a different tree. However it is not obvious how a decision tree handles two data points with the same features (clouds/no clouds, hot/cold, windy/not windy) but different outcomes (play/not play tennis), since a tree is fundamentally deterministic.\n",
    "\n",
    "Each tree in the forest is different since they are constructed from different subsets of features and data. Once the forest is built, a new data point is run through the forest and all the trees democratically vote to decide the outcome (could be weighted by some metric).  "
   ]
  },
  {
   "cell_type": "code",
   "execution_count": 8,
   "metadata": {
    "collapsed": false
   },
   "outputs": [],
   "source": [
    "#Random Forest\n",
    "features = [\"SexNum\",\"WomenChildren\",\"DeckNum\",\"Fare\"]\n",
    "response = df.Survived\n",
    "train = df[features]"
   ]
  },
  {
   "cell_type": "code",
   "execution_count": 40,
   "metadata": {
    "collapsed": false
   },
   "outputs": [
    {
     "name": "stdout",
     "output_type": "stream",
     "text": [
      "(0.80925388475724036, 0.032070136027965337)\n"
     ]
    },
    {
     "data": {
      "image/png": "[encoded data removed]",
      "text/plain": [
       "<matplotlib.figure.Figure at 0x10c629310>"
      ]
     },
     "metadata": {},
     "output_type": "display_data"
    }
   ],
   "source": [
    "#Try Random Forest\n",
    "#alg = RandomForestClassifier(n_jobs=-1, n_estimators=100, min_samples_split=5,random_state=1)\n",
    "alg = RandomForestClassifier(n_estimators=100, criterion='gini', max_depth=None, min_samples_split=1, \n",
    "                              min_samples_leaf=1, min_weight_fraction_leaf=0.0, max_features='auto', \n",
    "                              max_leaf_nodes=None, bootstrap=True, oob_score=False, n_jobs=-1, random_state=None, \n",
    "                              verbose=0, warm_start=False, class_weight=None)\n",
    "scores=cross_validation.cross_val_score(alg,train,response,cv=6)\n",
    "print(scores.mean(), scores.std())\n",
    "alg.fit(train,response)\n",
    "importances = alg.feature_importances_\n",
    "\n",
    "indecies = np.argsort(importances)\n",
    "\n",
    "plt.barh(range(len(importances)),importances[indecies], align='center')\n",
    "plt.yticks(range(len(importances)),train.columns[indecies])\n",
    "plt.xlabel('Feature Importance')\n",
    "plt.show()"
   ]
  },
  {
   "cell_type": "code",
   "execution_count": 36,
   "metadata": {
    "collapsed": false
   },
   "outputs": [],
   "source": [
    "#Try other forms of fitting that require scaling \n",
    "from sklearn.preprocessing import StandardScaler\n",
    "X = StandardScaler().fit_transform(train)"
   ]
  },
  {
   "cell_type": "code",
   "execution_count": 23,
   "metadata": {
    "collapsed": false
   },
   "outputs": [
    {
     "name": "stdout",
     "output_type": "stream",
     "text": [
      "(0.77778430371126994, 0.028239861697599587)\n"
     ]
    }
   ],
   "source": [
    "#Try Logistic Regression\n",
    "from sklearn.linear_model import LogisticRegression\n",
    "alg = LogisticRegression(random_state=1)\n",
    "scores = cross_val_score(alg, X, response, cv=10)\n",
    "print(scores.mean(), scores.std())"
   ]
  },
  {
   "cell_type": "markdown",
   "metadata": {},
   "source": [
    "### Support Vector Machine (SVM) Explanation\n",
    "\n",
    "SVM operates by"
   ]
  },
  {
   "cell_type": "code",
   "execution_count": 29,
   "metadata": {
    "collapsed": false
   },
   "outputs": [
    {
     "name": "stdout",
     "output_type": "stream",
     "text": [
      "The best parameters are {'C': 1.0, 'gamma': 0.001} with a score of 0.7813\n"
     ]
    }
   ],
   "source": [
    "#Try Support Vector Machine (SVM) - get best fit parameters\n",
    "from sklearn.svm import SVC\n",
    "from sklearn.grid_search import GridSearchCV\n",
    "from sklearn.cross_validation import StratifiedShuffleSplit\n",
    "\n",
    "C_range = np.logspace(-3, 3, 5)       #A.S. Logspace is important\n",
    "gamma_range = np.logspace(-3, 3, 5)\n",
    "param_grid = dict(gamma=gamma_range, C=C_range)\n",
    "cv = StratifiedShuffleSplit(response, n_iter=5, test_size=0.3, random_state=42)  #creates a cross validation set, n_iter = n_chunks\n",
    "grid = GridSearchCV(SVC(kernel='rbf'), scoring=\"accuracy\", param_grid=param_grid, cv=cv)\n",
    "grid.fit(X, response) \n",
    "print \"The best parameters are %s with a score of %0.4f\" % (grid.best_params_, grid.best_score_)"
   ]
  },
  {
   "cell_type": "code",
   "execution_count": 30,
   "metadata": {
    "collapsed": false
   },
   "outputs": [
    {
     "name": "stdout",
     "output_type": "stream",
     "text": [
      "(0.79342753376461228, 0.033389091231599506)\n"
     ]
    }
   ],
   "source": [
    "#Fit best fit parameters for SVM\n",
    "model=SVC(C=1.0, gamma=0.001)\n",
    "scores=cross_val_score(model,X,response,cv=10)\n",
    "print(scores.mean(), scores.std())"
   ]
  },
  {
   "cell_type": "markdown",
   "metadata": {},
   "source": [
    "### K-Nearest Neighbor Algorithm"
   ]
  },
  {
   "cell_type": "code",
   "execution_count": 54,
   "metadata": {
    "collapsed": false
   },
   "outputs": [
    {
     "name": "stdout",
     "output_type": "stream",
     "text": [
      "(0.79435757353788994, 0.033585940473055229)\n"
     ]
    },
    {
     "data": {
      "image/png": "[encoded data removed]",
      "text/plain": [
       "<matplotlib.figure.Figure at 0x1137631d0>"
      ]
     },
     "metadata": {},
     "output_type": "display_data"
    }
   ],
   "source": [
    "#Try a K-nearest neighbour algorithm, find optimum nearest neighbor (nn) value\n",
    "from sklearn.neighbors import KNeighborsClassifier\n",
    "nn = np.arange(1,15)                          #Number of nearest neighbours for the KNN alg.\n",
    "scores_mean = []\n",
    "scores_std = []\n",
    "\n",
    "#need to make a train subset and a test subset from the training data\n",
    "X_train,X_test,y_train,y_test=train_test_split(X,response,test_size=0.2,random_state=42)\n",
    "\n",
    "for n in nn:\n",
    "    knn = KNeighborsClassifier(n_neighbors=n, weights=\"distance\")\n",
    "    scores=cross_val_score(knn,X_train,y_train,cv=6,scoring='accuracy')\n",
    "    scores_mean.append(np.mean(scores))\n",
    "    scores_std.append(np.std(scores))\n",
    "\n",
    "plt.plot(nn,scores_mean,'o', label='data')\n",
    "plt.ylabel(\"KNN success rate\")\n",
    "plt.xlabel(\"# of nearest neighbours\")\n",
    "plt.errorbar(nn,scores_mean, yerr=scores_std, linestyle='None', color='b',label='')\n",
    "print(np.mean(scores_mean), np.mean(scores_std))"
   ]
  },
  {
   "cell_type": "code",
   "execution_count": null,
   "metadata": {
    "collapsed": true
   },
   "outputs": [],
   "source": []
  }
 ],
 "metadata": {
  "kernelspec": {
   "display_name": "Python 2",
   "language": "python",
   "name": "python2"
  },
  "language_info": {
   "codemirror_mode": {
    "name": "ipython",
    "version": 2
   },
   "file_extension": ".py",
   "mimetype": "text/x-python",
   "name": "python",
   "nbconvert_exporter": "python",
   "pygments_lexer": "ipython2",
   "version": "2.7.11"
  }
 },
 "nbformat": 4,
 "nbformat_minor": 0
}
