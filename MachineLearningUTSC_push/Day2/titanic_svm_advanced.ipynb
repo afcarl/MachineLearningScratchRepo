{
 "cells": [
  {
   "cell_type": "markdown",
   "metadata": {},
   "source": [
    "# Titanic kaggle competition with SVM - Advanced"
   ]
  },
  {
   "cell_type": "code",
   "execution_count": 1,
   "metadata": {
    "collapsed": false
   },
   "outputs": [],
   "source": [
    "#import all the needed package\n",
    "import numpy as np\n",
    "import scipy as sp\n",
    "import re\n",
    "import pandas as pd\n",
    "import sklearn\n",
    "from sklearn.cross_validation import train_test_split,cross_val_score\n",
    "from sklearn import metrics\n",
    "import matplotlib \n",
    "from matplotlib import pyplot as plt\n",
    "%matplotlib inline\n",
    "from sklearn.svm import SVC"
   ]
  },
  {
   "cell_type": "markdown",
   "metadata": {},
   "source": [
    "## Let's load the processed data and feature scale Age and Fare"
   ]
  },
  {
   "cell_type": "code",
   "execution_count": 2,
   "metadata": {
    "collapsed": false
   },
   "outputs": [
    {
     "data": {
      "text/html": [
       "<div>\n",
       "<table border=\"1\" class=\"dataframe\">\n",
       "  <thead>\n",
       "    <tr style=\"text-align: right;\">\n",
       "      <th></th>\n",
       "      <th>Age</th>\n",
       "      <th>Fare</th>\n",
       "      <th>Parch</th>\n",
       "      <th>Pclass</th>\n",
       "      <th>SibSp</th>\n",
       "      <th>Female</th>\n",
       "      <th>EmbarkedNum</th>\n",
       "      <th>DeckNum</th>\n",
       "      <th>CabinNum</th>\n",
       "      <th>NumNames</th>\n",
       "      <th>Title_Dr</th>\n",
       "      <th>Title_Lady</th>\n",
       "      <th>Title_Master</th>\n",
       "      <th>Title_Miss</th>\n",
       "      <th>Title_Mr</th>\n",
       "      <th>Title_Mrs</th>\n",
       "      <th>Title_Rev</th>\n",
       "      <th>Title_Sir</th>\n",
       "      <th>Survived</th>\n",
       "    </tr>\n",
       "    <tr>\n",
       "      <th>PassengerId</th>\n",
       "      <th></th>\n",
       "      <th></th>\n",
       "      <th></th>\n",
       "      <th></th>\n",
       "      <th></th>\n",
       "      <th></th>\n",
       "      <th></th>\n",
       "      <th></th>\n",
       "      <th></th>\n",
       "      <th></th>\n",
       "      <th></th>\n",
       "      <th></th>\n",
       "      <th></th>\n",
       "      <th></th>\n",
       "      <th></th>\n",
       "      <th></th>\n",
       "      <th></th>\n",
       "      <th></th>\n",
       "      <th></th>\n",
       "    </tr>\n",
       "  </thead>\n",
       "  <tbody>\n",
       "    <tr>\n",
       "      <th>1</th>\n",
       "      <td>-0.595254</td>\n",
       "      <td>-0.502445</td>\n",
       "      <td>0</td>\n",
       "      <td>3</td>\n",
       "      <td>1</td>\n",
       "      <td>0</td>\n",
       "      <td>0</td>\n",
       "      <td>0</td>\n",
       "      <td>0</td>\n",
       "      <td>4</td>\n",
       "      <td>0.0</td>\n",
       "      <td>0.0</td>\n",
       "      <td>0.0</td>\n",
       "      <td>0.0</td>\n",
       "      <td>1.0</td>\n",
       "      <td>0.0</td>\n",
       "      <td>0.0</td>\n",
       "      <td>0.0</td>\n",
       "      <td>0.0</td>\n",
       "    </tr>\n",
       "    <tr>\n",
       "      <th>2</th>\n",
       "      <td>0.635996</td>\n",
       "      <td>0.786845</td>\n",
       "      <td>0</td>\n",
       "      <td>1</td>\n",
       "      <td>1</td>\n",
       "      <td>1</td>\n",
       "      <td>1</td>\n",
       "      <td>1</td>\n",
       "      <td>85</td>\n",
       "      <td>7</td>\n",
       "      <td>0.0</td>\n",
       "      <td>0.0</td>\n",
       "      <td>0.0</td>\n",
       "      <td>0.0</td>\n",
       "      <td>0.0</td>\n",
       "      <td>1.0</td>\n",
       "      <td>0.0</td>\n",
       "      <td>0.0</td>\n",
       "      <td>1.0</td>\n",
       "    </tr>\n",
       "    <tr>\n",
       "      <th>3</th>\n",
       "      <td>-0.287441</td>\n",
       "      <td>-0.488854</td>\n",
       "      <td>0</td>\n",
       "      <td>3</td>\n",
       "      <td>0</td>\n",
       "      <td>1</td>\n",
       "      <td>0</td>\n",
       "      <td>0</td>\n",
       "      <td>0</td>\n",
       "      <td>3</td>\n",
       "      <td>0.0</td>\n",
       "      <td>0.0</td>\n",
       "      <td>0.0</td>\n",
       "      <td>1.0</td>\n",
       "      <td>0.0</td>\n",
       "      <td>0.0</td>\n",
       "      <td>0.0</td>\n",
       "      <td>0.0</td>\n",
       "      <td>1.0</td>\n",
       "    </tr>\n",
       "    <tr>\n",
       "      <th>4</th>\n",
       "      <td>0.405137</td>\n",
       "      <td>0.420730</td>\n",
       "      <td>0</td>\n",
       "      <td>1</td>\n",
       "      <td>1</td>\n",
       "      <td>1</td>\n",
       "      <td>0</td>\n",
       "      <td>1</td>\n",
       "      <td>123</td>\n",
       "      <td>7</td>\n",
       "      <td>0.0</td>\n",
       "      <td>0.0</td>\n",
       "      <td>0.0</td>\n",
       "      <td>0.0</td>\n",
       "      <td>0.0</td>\n",
       "      <td>1.0</td>\n",
       "      <td>0.0</td>\n",
       "      <td>0.0</td>\n",
       "      <td>1.0</td>\n",
       "    </tr>\n",
       "    <tr>\n",
       "      <th>5</th>\n",
       "      <td>0.405137</td>\n",
       "      <td>-0.486337</td>\n",
       "      <td>0</td>\n",
       "      <td>3</td>\n",
       "      <td>0</td>\n",
       "      <td>0</td>\n",
       "      <td>0</td>\n",
       "      <td>0</td>\n",
       "      <td>0</td>\n",
       "      <td>4</td>\n",
       "      <td>0.0</td>\n",
       "      <td>0.0</td>\n",
       "      <td>0.0</td>\n",
       "      <td>0.0</td>\n",
       "      <td>1.0</td>\n",
       "      <td>0.0</td>\n",
       "      <td>0.0</td>\n",
       "      <td>0.0</td>\n",
       "      <td>0.0</td>\n",
       "    </tr>\n",
       "  </tbody>\n",
       "</table>\n",
       "</div>"
      ],
      "text/plain": [
       "                  Age      Fare  Parch  Pclass  SibSp  Female  EmbarkedNum  \\\n",
       "PassengerId                                                                  \n",
       "1           -0.595254 -0.502445      0       3      1       0            0   \n",
       "2            0.635996  0.786845      0       1      1       1            1   \n",
       "3           -0.287441 -0.488854      0       3      0       1            0   \n",
       "4            0.405137  0.420730      0       1      1       1            0   \n",
       "5            0.405137 -0.486337      0       3      0       0            0   \n",
       "\n",
       "             DeckNum  CabinNum  NumNames  Title_Dr  Title_Lady  Title_Master  \\\n",
       "PassengerId                                                                    \n",
       "1                  0         0         4       0.0         0.0           0.0   \n",
       "2                  1        85         7       0.0         0.0           0.0   \n",
       "3                  0         0         3       0.0         0.0           0.0   \n",
       "4                  1       123         7       0.0         0.0           0.0   \n",
       "5                  0         0         4       0.0         0.0           0.0   \n",
       "\n",
       "             Title_Miss  Title_Mr  Title_Mrs  Title_Rev  Title_Sir  Survived  \n",
       "PassengerId                                                                   \n",
       "1                   0.0       1.0        0.0        0.0        0.0       0.0  \n",
       "2                   0.0       0.0        1.0        0.0        0.0       1.0  \n",
       "3                   1.0       0.0        0.0        0.0        0.0       1.0  \n",
       "4                   0.0       0.0        1.0        0.0        0.0       1.0  \n",
       "5                   0.0       1.0        0.0        0.0        0.0       0.0  "
      ]
     },
     "execution_count": 2,
     "metadata": {},
     "output_type": "execute_result"
    }
   ],
   "source": [
    "data = pd.read_csv('data/train_processed.csv', index_col=0)\n",
    "\n",
    "from sklearn.preprocessing import StandardScaler\n",
    "scaler = StandardScaler().fit(data[['Age', 'Fare']])\n",
    "data[['Age', 'Fare']] = scaler.transform(data[['Age', 'Fare']])\n",
    "data.head()"
   ]
  },
  {
   "cell_type": "markdown",
   "metadata": {},
   "source": [
    "Select the features from data, and convert to numpy arrays:"
   ]
  },
  {
   "cell_type": "code",
   "execution_count": 3,
   "metadata": {
    "collapsed": true
   },
   "outputs": [],
   "source": [
    "feature_cols=['Pclass','Age','SibSp','Parch','Fare','Female','Title_Dr','Title_Lady','Title_Master','Title_Miss','Title_Mr','Title_Mrs','Title_Rev','Title_Sir']\n",
    "X=data[feature_cols].values\n",
    "y=data['Survived'].values"
   ]
  },
  {
   "cell_type": "markdown",
   "metadata": {},
   "source": [
    "We want to perform algorithm tuning with **CV** now, to avoid information leak, let's create a hold out set"
   ]
  },
  {
   "cell_type": "code",
   "execution_count": 4,
   "metadata": {
    "collapsed": true
   },
   "outputs": [],
   "source": [
    "#create a holdout set\n",
    "X_train,X_test,y_train,y_test=train_test_split(X,y,test_size=0.2,random_state=42)"
   ]
  },
  {
   "cell_type": "markdown",
   "metadata": {},
   "source": [
    "Below is a simple example of algorithm tuning with the rbf kernel of SVM. "
   ]
  },
  {
   "cell_type": "code",
   "execution_count": 5,
   "metadata": {
    "collapsed": false
   },
   "outputs": [
    {
     "data": {
      "image/png": "[encoded data removed]",
      "text/plain": [
       "<matplotlib.figure.Figure at 0x1035b5690>"
      ]
     },
     "metadata": {},
     "output_type": "display_data"
    }
   ],
   "source": [
    "#tune the gamma parameter with our training set\n",
    "scores_mean=[]\n",
    "scores_std=[]\n",
    "model=SVC()\n",
    "model.C=1\n",
    "gammas=np.logspace(-3,1,50)\n",
    "for gamma in gammas:\n",
    "    model.gamma=gamma\n",
    "    scores=cross_val_score(model,X_train,y_train,cv=10,scoring='accuracy')\n",
    "    scores_mean.append(np.mean(scores))\n",
    "    scores_std.append(np.std(scores))\n",
    "plt.semilogx(gammas,scores_mean,'.')\n",
    "plt.show()\n"
   ]
  },
  {
   "cell_type": "markdown",
   "metadata": {},
   "source": [
    "It seems that gamma is good in a broad range, Let's just take the middle of the flat part."
   ]
  },
  {
   "cell_type": "code",
   "execution_count": 6,
   "metadata": {
    "collapsed": false
   },
   "outputs": [
    {
     "name": "stdout",
     "output_type": "stream",
     "text": [
      "(0.8398876404494382, 0.82122905027932958, 0.83053314039269088, 0.032688222355533959)\n"
     ]
    }
   ],
   "source": [
    "model.gamma=0.1\n",
    "model.fit(X_train,y_train)\n",
    "y_predta=model.predict(X_train)\n",
    "y_pred=model.predict(X_test)\n",
    "train_score=metrics.accuracy_score(y_train,y_predta)\n",
    "test_score=metrics.accuracy_score(y_test,y_pred)\n",
    "\n",
    "scores=cross_val_score(model,X,y,cv=10,scoring='accuracy')\n",
    "cvscore=np.mean(scores)\n",
    "cvscore_std=np.std(scores)\n",
    "print(train_score,test_score,cvscore,cvscore_std)"
   ]
  },
  {
   "cell_type": "markdown",
   "metadata": {},
   "source": [
    "Of course, in real life you should perform parameter grid search in both **C** and **gamma**. Let's try out our new GridSearchCV tools learned in the morning. "
   ]
  },
  {
   "cell_type": "code",
   "execution_count": 7,
   "metadata": {
    "collapsed": false
   },
   "outputs": [
    {
     "name": "stdout",
     "output_type": "stream",
     "text": [
      "The best parameters are {'C': 2.154434690031882, 'gamma': 0.021544346900318832} with a score of 0.8346\n"
     ]
    }
   ],
   "source": [
    "from sklearn.cross_validation import StratifiedShuffleSplit\n",
    "from sklearn.grid_search import GridSearchCV\n",
    "C_range = np.logspace(-3, 3, 10)\n",
    "gamma_range = np.logspace(-3, 3, 10)\n",
    "param_grid = dict(gamma=gamma_range, C=C_range)\n",
    "cv = StratifiedShuffleSplit(y_train, n_iter=5, test_size=0.3, random_state=42)\n",
    "grid = GridSearchCV(SVC(kernel='rbf'), scoring=\"accuracy\", param_grid=param_grid, cv=cv)\n",
    "grid.fit(X_train, y_train) \n",
    "print(\"The best parameters are %s with a score of %0.4f\" % (grid.best_params_, grid.best_score_))"
   ]
  },
  {
   "cell_type": "code",
   "execution_count": 8,
   "metadata": {
    "collapsed": false
   },
   "outputs": [
    {
     "name": "stdout",
     "output_type": "stream",
     "text": [
      "(0.8356741573033708, 0.81564245810055869, 0.8327550788786745, 0.031620946651051085)\n"
     ]
    }
   ],
   "source": [
    "model.gamma=grid.best_params_['gamma']\n",
    "model.C=grid.best_params_['C']\n",
    "model.fit(X_train,y_train)\n",
    "y_predta=model.predict(X_train)\n",
    "y_pred=model.predict(X_test)\n",
    "train_score=metrics.accuracy_score(y_train,y_predta)\n",
    "test_score=metrics.accuracy_score(y_test,y_pred)\n",
    "\n",
    "scores=cross_val_score(model,X,y,cv=10,scoring='accuracy')\n",
    "cvscore=np.mean(scores)\n",
    "cvscore_std=np.std(scores)\n",
    "print(train_score,test_score,cvscore,cvscore_std)"
   ]
  },
  {
   "cell_type": "markdown",
   "metadata": {},
   "source": [
    "### Are we nessary perform better than the simpler model? \n",
    "\n",
    "The real test is to submit the file to kaggle and let their hold out set decide.\n",
    "I did improve my result by ~0.03 with the newly added in name features. "
   ]
  },
  {
   "cell_type": "code",
   "execution_count": 9,
   "metadata": {
    "collapsed": false
   },
   "outputs": [],
   "source": [
    "model.fit(X,y)\n",
    "holdout_data = pd.read_csv('data/test_processed.csv')\n",
    "\n",
    "# rescale age and fare as we did for training data.  This is critical\n",
    "# Note that we can (and should) use the same scaler object we fit above to the training data\n",
    "holdout_data[['Age', 'Fare']] = scaler.transform(holdout_data[['Age', 'Fare']])\n",
    "\n",
    "#use our new features.\n",
    "feature_cols=['Pclass','Age','SibSp','Parch','Fare','Female','Title_Dr','Title_Lady','Title_Master','Title_Miss','Title_Mr','Title_Mrs','Title_Rev','Title_Sir']\n",
    "X_holdout=holdout_data[feature_cols].values"
   ]
  },
  {
   "cell_type": "code",
   "execution_count": 10,
   "metadata": {
    "collapsed": false
   },
   "outputs": [],
   "source": [
    "y_holdout=model.predict(X_holdout)\n",
    "samplesubmit = pd.read_csv(\"data/titanic_submit_example.csv\")\n",
    "samplesubmit[\"Survived\"]=np.int32(y_holdout)\n",
    "samplesubmit.to_csv(\"data/titanic_submit_fancytitle.csv\",index=False)"
   ]
  },
  {
   "cell_type": "code",
   "execution_count": null,
   "metadata": {
    "collapsed": true
   },
   "outputs": [],
   "source": []
  }
 ],
 "metadata": {
  "kernelspec": {
   "display_name": "Python 2",
   "language": "python",
   "name": "python2"
  },
  "language_info": {
   "codemirror_mode": {
    "name": "ipython",
    "version": 2
   },
   "file_extension": ".py",
   "mimetype": "text/x-python",
   "name": "python",
   "nbconvert_exporter": "python",
   "pygments_lexer": "ipython2",
   "version": "2.7.11"
  }
 },
 "nbformat": 4,
 "nbformat_minor": 0
}
