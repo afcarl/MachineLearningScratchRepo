{
 "cells": [
  {
   "cell_type": "markdown",
   "metadata": {},
   "source": [
    "# \"Writing my first randomforest code\" by \"AstroDave\" (modified) and other resources from the Kaggle forums.\n",
    "\n"
   ]
  },
  {
   "cell_type": "markdown",
   "metadata": {},
   "source": [
    "## The goal of this notebook is to create a minimal working example of a random forest fit to the titanic data. Its accuracy is limited, but can be built upon for better results."
   ]
  },
  {
   "cell_type": "markdown",
   "metadata": {},
   "source": [
    "See Notes at the end for features description.\n",
    "![fi](../images/feature_importance.png)\n",
    "![pp](../images/pair_plot.png)"
   ]
  },
  {
   "cell_type": "markdown",
   "metadata": {},
   "source": [
    "## Import stuffs and read training data file"
   ]
  },
  {
   "cell_type": "code",
   "execution_count": 1,
   "metadata": {
    "collapsed": false
   },
   "outputs": [],
   "source": [
    "import pandas as pd\n",
    "import numpy as np\n",
    "import csv as csv\n",
    "from sklearn.ensemble import RandomForestClassifier\n",
    "\n",
    "# Load the train file into a dataframe\n",
    "# header=0 means the header is in the first line of the file (line = 0)\n",
    "train_df = pd.read_csv('data/train.csv', header=0)        "
   ]
  },
  {
   "cell_type": "markdown",
   "metadata": {},
   "source": [
    "## Convert strings to integer classifiers."
   ]
  },
  {
   "cell_type": "code",
   "execution_count": 2,
   "metadata": {
    "collapsed": true
   },
   "outputs": [],
   "source": [
    "# female = 0, Male = 1\n",
    "# Add a new column to the data file labeled \"gender\" that maps \"Sex\" into integer values.\n",
    "train_df['Gender'] = train_df['Sex'].map( {'female': 0, 'male': 1} ).astype(int)"
   ]
  },
  {
   "cell_type": "markdown",
   "metadata": {},
   "source": [
    "## Fill in the missing values of the data and make it complete."
   ]
  },
  {
   "cell_type": "code",
   "execution_count": 3,
   "metadata": {
    "collapsed": false
   },
   "outputs": [
    {
     "name": "stderr",
     "output_type": "stream",
     "text": [
      "/home/mad/anaconda2/lib/python2.7/site-packages/ipykernel/__main__.py:6: SettingWithCopyWarning: \n",
      "A value is trying to be set on a copy of a slice from a DataFrame\n",
      "\n",
      "See the caveats in the documentation: http://pandas.pydata.org/pandas-docs/stable/indexing.html#indexing-view-versus-copy\n"
     ]
    }
   ],
   "source": [
    "# Embarked from 'C', 'Q', 'S'\n",
    "# Note this is not ideal: in translating categories to numbers, Port \"2\" is not 2 times greater than Port \"1\", etc.\n",
    "# All missing Embarked -> just make them embark from most common place (the mode of the distribution)\n",
    "# if the number of null elements > 0 then drop these and replace them with the mode\n",
    "if len(train_df.Embarked[ train_df.Embarked.isnull() ]) > 0:\n",
    "    train_df.Embarked[ train_df.Embarked.isnull() ] = train_df.Embarked.dropna().mode().values\n",
    "\n",
    "    \n",
    "    \n",
    "# Map Embark to integers (similar to Gender):\n",
    "Ports = list(enumerate(np.unique(train_df['Embarked'])))    # determine all values of Embarked,\n",
    "Ports_dict = { name : i for i, name in Ports }              # set up a dictionary in the form  Ports : index\n",
    "train_df.Embarked = train_df.Embarked.map( lambda x: Ports_dict[x]).astype(int)     # Convert all Embark strings to int\n",
    "# Or: train_df['Embarked'] = train_df['Embarked'].map( {'C': 0, 'Q': 1, 'S': 2} ).astype(int)\n",
    "\n",
    "\n",
    "\n",
    "# All the ages with no data -> make the median of all Ages\n",
    "median_age = train_df['Age'].dropna().median()\n",
    "if len(train_df.Age[ train_df.Age.isnull() ]) > 0:\n",
    "    train_df.loc[ (train_df.Age.isnull()), 'Age'] = median_age\n",
    "    \n",
    "    \n",
    "    \n",
    "\n",
    "# Remove the unused features: Name column, Cabin, Ticket, and Sex (since We copied and filled it to Gender)\n",
    "train_df = train_df.drop(['Name', 'Sex', 'Ticket', 'Cabin', 'PassengerId'], axis=1) \n",
    "#Note: Use axis=0 to apply a method down each column, axis=1 to apply a method across each row.    "
   ]
  },
  {
   "cell_type": "markdown",
   "metadata": {},
   "source": [
    "## Redo the same for the test data"
   ]
  },
  {
   "cell_type": "code",
   "execution_count": 4,
   "metadata": {
    "collapsed": false
   },
   "outputs": [],
   "source": [
    "test_df = pd.read_csv('data/test.csv', header=0)        # Load the test file into a dataframe\n",
    "\n",
    "\n",
    "# I need to convert all strings to integer classifiers:\n",
    "# female = 0, Male = 1\n",
    "test_df['Gender'] = test_df['Sex'].map( {'female': 0, 'male': 1} ).astype(int)\n",
    "\n",
    "\n",
    "\n",
    "# Embarked from 'C', 'Q', 'S'\n",
    "# All missing Embarked -> just make them embark from most common place\n",
    "if len(test_df.Embarked[ test_df.Embarked.isnull() ]) > 0:\n",
    "    test_df.Embarked[ test_df.Embarked.isnull() ] = test_df.Embarked.dropna().mode().values\n",
    "# Again convert all Embarked strings to int\n",
    "test_df.Embarked = test_df.Embarked.map( lambda x: Ports_dict[x]).astype(int)\n",
    "\n",
    "\n",
    "# All the ages with no data -> make the median of all Ages\n",
    "median_age = test_df['Age'].dropna().median()\n",
    "if len(test_df.Age[ test_df.Age.isnull() ]) > 0:\n",
    "    test_df.loc[ (test_df.Age.isnull()), 'Age'] = median_age\n",
    "\n",
    "    \n",
    "    \n",
    "# All the missing Fares -> assume median of their respective class\n",
    "# Only for test data because training data is complete\n",
    "if len(test_df.Fare[ test_df.Fare.isnull() ]) > 0:\n",
    "    median_fare = np.zeros(3)\n",
    "    for f in range(0,3):                                              # loop 0 to 2\n",
    "        median_fare[f] = test_df[ test_df.Pclass == f+1 ]['Fare'].dropna().median()\n",
    "    for f in range(0,3):                                              # loop 0 to 2\n",
    "        test_df.loc[ (test_df.Fare.isnull()) & (test_df.Pclass == f+1 ), 'Fare'] = median_fare[f]\n"
   ]
  },
  {
   "cell_type": "markdown",
   "metadata": {},
   "source": [
    "## Collect the test data's Passenger Ids and dropping unused features "
   ]
  },
  {
   "cell_type": "code",
   "execution_count": 5,
   "metadata": {
    "collapsed": false
   },
   "outputs": [],
   "source": [
    "# we need IDs only to verify our model, not as a feature\n",
    "ids = test_df['PassengerId'].values\n",
    "# Remove the Name column, Cabin, Ticket, and Sex (since I copied and filled it to Gender)\n",
    "test_df = test_df.drop(['Name', 'Sex', 'Ticket', 'Cabin', 'PassengerId'], axis=1) \n",
    "\n"
   ]
  },
  {
   "cell_type": "markdown",
   "metadata": {},
   "source": [
    "## Data is now ready to go. So lets fit the training data , then predict the test!"
   ]
  },
  {
   "cell_type": "code",
   "execution_count": 6,
   "metadata": {
    "collapsed": false
   },
   "outputs": [
    {
     "name": "stdout",
     "output_type": "stream",
     "text": [
      "Training...\n",
      "Predicting...\n",
      "Done.\n"
     ]
    }
   ],
   "source": [
    "# Convert back to a numpy array\n",
    "train_data = train_df.values\n",
    "test_data = test_df.values\n",
    "\n",
    "\n",
    "print 'Training...'\n",
    "# Initialize the training model, all parameters are default except n_estimators.\n",
    "# This is the simplest random forest you can fit.\n",
    "forest = RandomForestClassifier(n_estimators=1000, max_depth=None, min_samples_split=2, \n",
    "                              min_samples_leaf=1, bootstrap=True, oob_score=False, n_jobs=-1)\n",
    "# Fit the training data (X, Y)\n",
    "forest = forest.fit( train_data[0::,1::], train_data[0::,0] )\n",
    "print 'Predicting...'\n",
    "# Predict outcomes from the test data\n",
    "output = forest.predict(test_data).astype(int)\n",
    "\n",
    "\n",
    "\n",
    "# Write your predictions into file\n",
    "predictions_file = open(\"myfirstforest.csv\", \"wb\")\n",
    "open_file_object = csv.writer(predictions_file)\n",
    "open_file_object.writerow([\"PassengerId\",\"Survived\"])\n",
    "open_file_object.writerows(zip(ids, output))\n",
    "predictions_file.close()\n",
    "print 'Done.'\n",
    "\n",
    "\n"
   ]
  },
  {
   "cell_type": "markdown",
   "metadata": {},
   "source": [
    "## Results are in myfirstforest.csv. Check the score by Submitting it to Kaggle !"
   ]
  },
  {
   "cell_type": "markdown",
   "metadata": {},
   "source": [
    "# Notes\n",
    "\n",
    "\n",
    "## VARIABLE DESCRIPTIONS:\n",
    "survival:        Survival\n",
    "                (0 = No; 1 = Yes)\n",
    "                \n",
    "pclass:         Passenger Class\n",
    "                (1 = 1st; 2 = 2nd; 3 = 3rd)\n",
    "                \n",
    "name:            Name\n",
    "\n",
    "sex:             Sex\n",
    "\n",
    "age:             Age\n",
    "\n",
    "sibsp:           Number of Siblings/Spouses Aboard\n",
    "\n",
    "parch:           Number of Parents/Children Aboard\n",
    "\n",
    "ticket:          Ticket Number\n",
    "\n",
    "fare:            Passenger Fare\n",
    "\n",
    "cabin:           Cabin\n",
    "\n",
    "embarked:        Port of Embarkation\n",
    "                (C = Cherbourg; Q = Queenstown; S = Southampton)\n",
    "\n",
    "## SPECIAL NOTES:\n",
    "#Pclass is a proxy for socio-economic status (SES)\n",
    " 1st ~ Upper; 2nd ~ Middle; 3rd ~ Lower\n",
    "\n",
    "#Age is in Years; Fractional if Age less than One (1)\n",
    " If the Age is Estimated, it is in the form xx.5\n",
    "\n",
    "#With respect to the family relation variables (i.e. sibsp and parch)\n",
    "#some relations were ignored.  The following are the definitions used\n",
    "#for sibsp and parch.\n",
    "\n",
    "#Sibling:  Brother, Sister, Stepbrother, or Stepsister of Passenger Aboard Titanic\n",
    "#Spouse:   Husband or Wife of Passenger Aboard Titanic (Mistresses and Fiances Ignored)\n",
    "#Parent:   Mother or Father of Passenger Aboard Titanic\n",
    "#Child:    Son, Daughter, Stepson, or Stepdaughter of Passenger Aboard Titanic\n",
    "\n",
    "#Other family relatives excluded from this study include cousins,\n",
    "#nephews/nieces, aunts/uncles, and in-laws.  Some children travelled\n",
    "#only with a nanny, therefore parch=0 for them.  As well, some\n",
    "#travelled with very close friends or neighbors in a village, however,\n",
    "#the definitions do not support such relations."
   ]
  }
 ],
 "metadata": {
  "kernelspec": {
   "display_name": "Python 2",
   "language": "python",
   "name": "python2"
  },
  "language_info": {
   "codemirror_mode": {
    "name": "ipython",
    "version": 2
   },
   "file_extension": ".py",
   "mimetype": "text/x-python",
   "name": "python",
   "nbconvert_exporter": "python",
   "pygments_lexer": "ipython2",
   "version": "2.7.11"
  }
 },
 "nbformat": 4,
 "nbformat_minor": 0
}
