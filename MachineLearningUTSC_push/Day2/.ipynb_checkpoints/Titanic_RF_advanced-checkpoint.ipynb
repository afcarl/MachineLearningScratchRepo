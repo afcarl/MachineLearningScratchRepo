{
 "cells": [
  {
   "cell_type": "markdown",
   "metadata": {},
   "source": [
    "# This is a more advanced random forest fit with cross validation that gives much better results with the titanic data\n",
    "\n",
    "## This script takes few minutes atleast to run, so patience !"
   ]
  },
  {
   "cell_type": "markdown",
   "metadata": {},
   "source": [
    "## Import stuffs & read data files"
   ]
  },
  {
   "cell_type": "code",
   "execution_count": 1,
   "metadata": {
    "collapsed": false
   },
   "outputs": [
    {
     "name": "stdout",
     "output_type": "stream",
     "text": [
      "Importing libraries...\n",
      "Fetching the training and test datasets...\n"
     ]
    }
   ],
   "source": [
    "print('Importing libraries...')\n",
    "import numpy as np\n",
    "import pandas as pd\n",
    "from sklearn import cross_validation as cv\n",
    "from sklearn.cross_validation import KFold\n",
    "from sklearn.ensemble import RandomForestClassifier\n",
    "\n",
    "print('Fetching the training and test datasets...')\n",
    "train = pd.read_csv(\"data/train.csv\", dtype={\"Age\": np.float64}, )\n",
    "test  = pd.read_csv(\"data/test.csv\", dtype={\"Age\": np.float64}, )"
   ]
  },
  {
   "cell_type": "markdown",
   "metadata": {},
   "source": [
    "## Cleaning the data & preparing a submission file\n",
    "\n",
    "Similar to what we did in the simplest version, but written differently."
   ]
  },
  {
   "cell_type": "code",
   "execution_count": 2,
   "metadata": {
    "collapsed": false
   },
   "outputs": [
    {
     "name": "stdout",
     "output_type": "stream",
     "text": [
      "Cleaning the dataset...\n",
      "Defining submission file...\n",
      "Defining the clean dataset...\n"
     ]
    }
   ],
   "source": [
    "print('Cleaning the dataset...')\n",
    "def harmonize_data(titanic):\n",
    "    # Filling the blank data\n",
    "    titanic[\"Age\"] = titanic[\"Age\"].fillna(titanic[\"Age\"].mean())\n",
    "    titanic[\"Fare\"] = titanic[\"Fare\"].fillna(titanic[\"Fare\"].mean())\n",
    "    titanic[\"Embarked\"] = titanic[\"Embarked\"].fillna(\"S\")\n",
    "    # Assigning binary form to data for calculation purpose\n",
    "    titanic.loc[titanic[\"Sex\"] == \"male\", \"Sex\"] = 1\n",
    "    titanic.loc[titanic[\"Sex\"] == \"female\", \"Sex\"] = 0\n",
    "    titanic.loc[titanic[\"Embarked\"] == \"S\", \"Embarked\"] = 0\n",
    "    titanic.loc[titanic[\"Embarked\"] == \"C\", \"Embarked\"] = 1\n",
    "    titanic.loc[titanic[\"Embarked\"] == \"Q\", \"Embarked\"] = 2\n",
    "    return titanic\n",
    "\n",
    "print('Defining submission file...')    \n",
    "def create_submission(rfc, train, test, predictors, filename):\n",
    "    rfc.fit(train[predictors], train[\"Survived\"])\n",
    "    predictions = rfc.predict(test[predictors])\n",
    "    submission = pd.DataFrame({\n",
    "        \"PassengerId\": test[\"PassengerId\"],\n",
    "        \"Survived\": predictions\n",
    "    })\n",
    "    submission.to_csv(filename, index=False)\n",
    "\n",
    "print('Defining the clean dataset...')    \n",
    "train_data = harmonize_data(train)\n",
    "test_data  = harmonize_data(test)\n"
   ]
  },
  {
   "cell_type": "markdown",
   "metadata": {},
   "source": [
    "## Creating new features"
   ]
  },
  {
   "cell_type": "code",
   "execution_count": 3,
   "metadata": {
    "collapsed": false
   },
   "outputs": [
    {
     "name": "stdout",
     "output_type": "stream",
     "text": [
      "Performing feature enginnering...\n",
      "Defining predictors...\n"
     ]
    }
   ],
   "source": [
    "print('Performing feature enginnering...') \n",
    "train_data[\"PSA\"] = train_data[\"Pclass\"]*train_data[\"Sex\"]*train_data[\"Age\"]\n",
    "train_data[\"SP\"] = train_data[\"SibSp\"]+train_data[\"Parch\"]\n",
    "test_data[\"PSA\"] = test_data[\"Pclass\"]*test_data[\"Sex\"]*test_data[\"Age\"]\n",
    "test_data[\"SP\"] = test_data[\"SibSp\"]+test_data[\"Parch\"]\n",
    "\n",
    "print('Defining predictors...')\n",
    "predictors = [\"Pclass\", \"Sex\", \"Age\", \"PSA\", \"Fare\", \"Embarked\", \"SP\"]\n"
   ]
  },
  {
   "cell_type": "markdown",
   "metadata": {},
   "source": [
    "## Finding best values for n_estimators and max_depth"
   ]
  },
  {
   "cell_type": "code",
   "execution_count": 4,
   "metadata": {
    "collapsed": false
   },
   "outputs": [
    {
     "name": "stdout",
     "output_type": "stream",
     "text": [
      "Finding best n_estimators for RandomForestClassifier...\n",
      "(8, 0.80360799001248429)\n",
      "Finding best max_depth for RandomForestClassifier...\n",
      "(8, 4, 0.83163545568039954)\n"
     ]
    }
   ],
   "source": [
    "print('Finding best n_estimators for RandomForestClassifier...')\n",
    "max_score = 0\n",
    "best_n = 0\n",
    "\n",
    "# For each value of n_estimators:\n",
    "# 1- Split/CV your data (KFold)\n",
    "# 2- Fit RF \n",
    "# 3- Calculate score for n_estimators by averaging up the individual scores of the 10 folds\n",
    "# 4- Once best_n found, do the same for max_depth\n",
    "\n",
    "for n in range(1,100):\n",
    "    rfc_scr = 0.\n",
    "    rfc = RandomForestClassifier(n_estimators=n)\n",
    "    for train, test in KFold(len(train_data), n_folds=10, shuffle=True):\n",
    "        rfc.fit(train_data[predictors].T[train].T, train_data[\"Survived\"].T[train].T)\n",
    "        rfc_scr += rfc.score(train_data[predictors].T[test].T, train_data[\"Survived\"].T[test].T)/10\n",
    "    if rfc_scr > max_score:\n",
    "        max_score = rfc_scr\n",
    "        best_n = n\n",
    "print(best_n, max_score)\n",
    "\n",
    "print('Finding best max_depth for RandomForestClassifier...')\n",
    "max_score = 0\n",
    "best_m = 0\n",
    "for m in range(1,100):\n",
    "    rfc_scr = 0.\n",
    "    rfc = RandomForestClassifier(max_depth=m)\n",
    "    for train, test in KFold(len(train_data), n_folds=10, shuffle=True):\n",
    "        rfc.fit(train_data[predictors].T[train].T, train_data[\"Survived\"].T[train].T)\n",
    "        rfc_scr += rfc.score(train_data[predictors].T[test].T, train_data[\"Survived\"].T[test].T)/10\n",
    "    if rfc_scr > max_score:\n",
    "        max_score = rfc_scr\n",
    "        best_m = m\n",
    "print(best_n, best_m, max_score)"
   ]
  },
  {
   "cell_type": "markdown",
   "metadata": {},
   "source": [
    "## Final random forest and submission"
   ]
  },
  {
   "cell_type": "code",
   "execution_count": 5,
   "metadata": {
    "collapsed": false
   },
   "outputs": [
    {
     "name": "stdout",
     "output_type": "stream",
     "text": [
      "Applying method...\n",
      "Creating submission...\n",
      "Submitted.\n"
     ]
    }
   ],
   "source": [
    "# Finally, we just use the optimal parameters found to create the final RF and fit our data\n",
    "\n",
    "print('Applying method...')\n",
    "rfc = RandomForestClassifier(n_estimators=best_n, max_depth=best_m)\n",
    "print('Creating submission...')\n",
    "create_submission(rfc, train_data, test_data, predictors, \"rfcsurvivors.csv\")\n",
    "print('Submitted.')"
   ]
  }
 ],
 "metadata": {
  "kernelspec": {
   "display_name": "Python 2",
   "language": "python",
   "name": "python2"
  },
  "language_info": {
   "codemirror_mode": {
    "name": "ipython",
    "version": 2
   },
   "file_extension": ".py",
   "mimetype": "text/x-python",
   "name": "python",
   "nbconvert_exporter": "python",
   "pygments_lexer": "ipython2",
   "version": "2.7.11"
  }
 },
 "nbformat": 4,
 "nbformat_minor": 0
}
