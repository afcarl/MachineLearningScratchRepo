
<!DOCTYPE html>
<html>
<head>

<meta charset="utf-8" />
<meta http-equiv="X-UA-Compatible" content="chrome=1" />

<meta name="apple-mobile-web-app-capable" content="yes" />
<meta name="apple-mobile-web-app-status-bar-style" content="black-translucent" />

<title>07_linear_regression slides</title>

<script src="https://cdnjs.cloudflare.com/ajax/libs/require.js/2.1.10/require.min.js"></script>
<script src="https://cdnjs.cloudflare.com/ajax/libs/jquery/2.0.3/jquery.min.js"></script>

<!-- General and theme style sheets -->
<link rel="stylesheet" href="reveal.js/css/reveal.css">
<link rel="stylesheet" href="reveal.js/css/theme/simple.css" id="theme">

<!-- If the query includes 'print-pdf', include the PDF print sheet -->
<script>
if( window.location.search.match( /print-pdf/gi ) ) {
        var link = document.createElement( 'link' );
        link.rel = 'stylesheet';
        link.type = 'text/css';
        link.href = 'reveal.js/css/print/pdf.css';
        document.getElementsByTagName( 'head' )[0].appendChild( link );
}

</script>

<!--[if lt IE 9]>
<script src="reveal.js/lib/js/html5shiv.js"></script>
<![endif]-->

<!-- Loading the mathjax macro -->
<!-- Load mathjax -->
    <script src="https://cdn.mathjax.org/mathjax/latest/MathJax.js?config=TeX-AMS_HTML"></script>
    <!-- MathJax configuration -->
    <script type="text/x-mathjax-config">
    MathJax.Hub.Config({
        tex2jax: {
            inlineMath: [ ['$','$'], ["\\(","\\)"] ],
            displayMath: [ ['$$','$$'], ["\\[","\\]"] ],
            processEscapes: true,
            processEnvironments: true
        },
        // Center justify equations in code and markdown cells. Elsewhere
        // we use CSS to left justify single line equations in code cells.
        displayAlign: 'center',
        "HTML-CSS": {
            styles: {'.MathJax_Display': {"margin": 0}},
            linebreaks: { automatic: true }
        }
    });
    </script>
    <!-- End of mathjax configuration -->

<!-- Get Font-awesome from cdn -->
<link rel="stylesheet" href="//netdna.bootstrapcdn.com/font-awesome/4.1.0/css/font-awesome.css">

<style type="text/css">
    /*!
*
* Twitter Bootstrap
*
*//*! normalize.css v3.0.2 | MIT License | git.io/normalize */html{font-family:sans-serif;-ms-text-size-adjust:100%;-webkit-text-size-adjust:100%;font-size:10px;-webkit-tap-highlight-color:transparent}article,aside,details,figcaption,figure,footer,header,hgroup,main,menu,nav,section,summary{display:block}audio,canvas,progress,video{display:inline-block;vertical-align:baseline}audio:not([controls]){display:none;height:0}[hidden],template{display:none}a{background-color:transparent}a:active,a:hover{outline:0}abbr[title]{border-bottom:1px dotted}b,optgroup,strong{font-weight:700}dfn{font-style:italic}h1{font-size:2em;margin:.67em 0}mark{background:#ff0;color:#000}small{font-size:80%}sub,sup{font-size:75%;line-height:0;position:relative;vertical-align:baseline}sup{top:-.5em}sub{bottom:-.25em}img{border:0;vertical-align:middle}svg:not(:root){overflow:hidden}hr{-moz-box-sizing:content-box;box-sizing:content-box;height:0}pre,textarea{overflow:auto}code,kbd,pre,samp{font-size:1em}button,input,optgroup,select,textarea{color:inherit;font:inherit;margin:0}button{overflow:visible}button,select{text-transform:none}button,html input[type=button],input[type=reset],input[type=submit]{-webkit-appearance:button;cursor:pointer}button[disabled],html input[disabled]{cursor:default}button::-moz-focus-inner,input::-moz-focus-inner{border:0;padding:0}input{line-height:normal}input[type=checkbox],input[type=radio]{box-sizing:border-box;padding:0}input[type=number]::-webkit-inner-spin-button,input[type=number]::-webkit-outer-spin-button{height:auto}input[type=search]::-webkit-search-cancel-button,input[type=search]::-webkit-search-decoration{-webkit-appearance:none}table{border-collapse:collapse;border-spacing:0}td,th{padding:0}/*! Source: https://github.com/h5bp/html5-boilerplate/blob/master/src/css/main.css */@media print{*,:after,:before{background:0 0!important;color:#000!important;box-shadow:none!important;text-shadow:none!important}a,a:visited{text-decoration:underline}a[href]:after{content:" (" attr(href)")"}abbr[title]:after{content:" (" attr(title)")"}a[href^="javascript:"]:after,a[href^="#"]:after{content:""}blockquote,pre{border:1px solid #999;page-break-inside:avoid}thead{display:table-header-group}img,tr{page-break-inside:avoid}img{max-width:100%!important}h2,h3,p{orphans:3;widows:3}h2,h3{page-break-after:avoid}select{background:#fff!important}.navbar{display:none}.btn>.caret,.dropup>.btn>.caret{border-top-color:#000!important}.label{border:1px solid #000}.table{border-collapse:collapse!important}.table td,.table th{background-color:#fff!important}.table-bordered td,.table-bordered th{border:1px solid #ddd!important}}@font-face{font-family:'Glyphicons Halflings';src:url(../components/bootstrap/fonts/glyphicons-halflings-regular.eot);src:url(../components/bootstrap/fonts/glyphicons-halflings-regular.eot?#iefix)format('embedded-opentype'),url(../components/bootstrap/fonts/glyphicons-halflings-regular.woff2)format('woff2'),url(../components/bootstrap/fonts/glyphicons-halflings-regular.woff)format('woff'),url(../components/bootstrap/fonts/glyphicons-halflings-regular.ttf)format('truetype'),url(../components/bootstrap/fonts/glyphicons-halflings-regular.svg#glyphicons_halflingsregular)format('svg')}.glyphicon{position:relative;top:1px;display:inline-block;font-family:'Glyphicons Halflings';font-style:normal;font-weight:400;line-height:1;-webkit-font-smoothing:antialiased;-moz-osx-font-smoothing:grayscale}.glyphicon-asterisk:before{content:"\2a"}.glyphicon-plus:before{content:"\2b"}.glyphicon-eur:before,.glyphicon-euro:before{content:"\20ac"}.glyphicon-minus:before{content:"\2212"}.glyphicon-cloud:before{content:"\2601"}.glyphicon-envelope:before{content:"\2709"}.glyphicon-pencil:before{content:"\270f"}.glyphicon-glass:before{content:"\e001"}.glyphicon-music:before{content:"\e002"}.glyphicon-search:before{content:"\e003"}.glyphicon-heart:before{content:"\e005"}.glyphicon-star:before{content:"\e006"}.glyphicon-star-empty:before{content:"\e007"}.glyphicon-user:before{content:"\e008"}.glyphicon-film:before{content:"\e009"}.glyphicon-th-large:before{content:"\e010"}.glyphicon-th:before{content:"\e011"}.glyphicon-th-list:before{content:"\e012"}.glyphicon-ok:before{content:"\e013"}.glyphicon-remove:before{content:"\e014"}.glyphicon-zoom-in:before{content:"\e015"}.glyphicon-zoom-out:before{content:"\e016"}.glyphicon-off:before{content:"\e017"}.glyphicon-signal:before{content:"\e018"}.glyphicon-cog:before{content:"\e019"}.glyphicon-trash:before{content:"\e020"}.glyphicon-home:before{content:"\e021"}.glyphicon-file:before{content:"\e022"}.glyphicon-time:before{content:"\e023"}.glyphicon-road:before{content:"\e024"}.glyphicon-download-alt:before{content:"\e025"}.glyphicon-download:before{content:"\e026"}.glyphicon-upload:before{content:"\e027"}.glyphicon-inbox:before{content:"\e028"}.glyphicon-play-circle:before{content:"\e029"}.glyphicon-repeat:before{content:"\e030"}.glyphicon-refresh:before{content:"\e031"}.glyphicon-list-alt:before{content:"\e032"}.glyphicon-lock:before{content:"\e033"}.glyphicon-flag:before{content:"\e034"}.glyphicon-headphones:before{content:"\e035"}.glyphicon-volume-off:before{content:"\e036"}.glyphicon-volume-down:before{content:"\e037"}.glyphicon-volume-up:before{content:"\e038"}.glyphicon-qrcode:before{content:"\e039"}.glyphicon-barcode:before{content:"\e040"}.glyphicon-tag:before{content:"\e041"}.glyphicon-tags:before{content:"\e042"}.glyphicon-book:before{content:"\e043"}.glyphicon-bookmark:before{content:"\e044"}.glyphicon-print:before{content:"\e045"}.glyphicon-camera:before{content:"\e046"}.glyphicon-font:before{content:"\e047"}.glyphicon-bold:before{content:"\e048"}.glyphicon-italic:before{content:"\e049"}.glyphicon-text-height:before{content:"\e050"}.glyphicon-text-width:before{content:"\e051"}.glyphicon-align-left:before{content:"\e052"}.glyphicon-align-center:before{content:"\e053"}.glyphicon-align-right:before{content:"\e054"}.glyphicon-align-justify:before{content:"\e055"}.glyphicon-list:before{content:"\e056"}.glyphicon-indent-left:before{content:"\e057"}.glyphicon-indent-right:before{content:"\e058"}.glyphicon-facetime-video:before{content:"\e059"}.glyphicon-picture:before{content:"\e060"}.glyphicon-map-marker:before{content:"\e062"}.glyphicon-adjust:before{content:"\e063"}.glyphicon-tint:before{content:"\e064"}.glyphicon-edit:before{content:"\e065"}.glyphicon-share:before{content:"\e066"}.glyphicon-check:before{content:"\e067"}.glyphicon-move:before{content:"\e068"}.glyphicon-step-backward:before{content:"\e069"}.glyphicon-fast-backward:before{content:"\e070"}.glyphicon-backward:before{content:"\e071"}.glyphicon-play:before{content:"\e072"}.glyphicon-pause:before{content:"\e073"}.glyphicon-stop:before{content:"\e074"}.glyphicon-forward:before{content:"\e075"}.glyphicon-fast-forward:before{content:"\e076"}.glyphicon-step-forward:before{content:"\e077"}.glyphicon-eject:before{content:"\e078"}.glyphicon-chevron-left:before{content:"\e079"}.glyphicon-chevron-right:before{content:"\e080"}.glyphicon-plus-sign:before{content:"\e081"}.glyphicon-minus-sign:before{content:"\e082"}.glyphicon-remove-sign:before{content:"\e083"}.glyphicon-ok-sign:before{content:"\e084"}.glyphicon-question-sign:before{content:"\e085"}.glyphicon-info-sign:before{content:"\e086"}.glyphicon-screenshot:before{content:"\e087"}.glyphicon-remove-circle:before{content:"\e088"}.glyphicon-ok-circle:before{content:"\e089"}.glyphicon-ban-circle:before{content:"\e090"}.glyphicon-arrow-left:before{content:"\e091"}.glyphicon-arrow-right:before{content:"\e092"}.glyphicon-arrow-up:before{content:"\e093"}.glyphicon-arrow-down:before{content:"\e094"}.glyphicon-share-alt:before{content:"\e095"}.glyphicon-resize-full:before{content:"\e096"}.glyphicon-resize-small:before{content:"\e097"}.glyphicon-exclamation-sign:before{content:"\e101"}.glyphicon-gift:before{content:"\e102"}.glyphicon-leaf:before{content:"\e103"}.glyphicon-fire:before{content:"\e104"}.glyphicon-eye-open:before{content:"\e105"}.glyphicon-eye-close:before{content:"\e106"}.glyphicon-warning-sign:before{content:"\e107"}.glyphicon-plane:before{content:"\e108"}.glyphicon-calendar:before{content:"\e109"}.glyphicon-random:before{content:"\e110"}.glyphicon-comment:before{content:"\e111"}.glyphicon-magnet:before{content:"\e112"}.glyphicon-chevron-up:before{content:"\e113"}.glyphicon-chevron-down:before{content:"\e114"}.glyphicon-retweet:before{content:"\e115"}.glyphicon-shopping-cart:before{content:"\e116"}.glyphicon-folder-close:before{content:"\e117"}.glyphicon-folder-open:before{content:"\e118"}.glyphicon-resize-vertical:before{content:"\e119"}.glyphicon-resize-horizontal:before{content:"\e120"}.glyphicon-hdd:before{content:"\e121"}.glyphicon-bullhorn:before{content:"\e122"}.glyphicon-bell:before{content:"\e123"}.glyphicon-certificate:before{content:"\e124"}.glyphicon-thumbs-up:before{content:"\e125"}.glyphicon-thumbs-down:before{content:"\e126"}.glyphicon-hand-right:before{content:"\e127"}.glyphicon-hand-left:before{content:"\e128"}.glyphicon-hand-up:before{content:"\e129"}.glyphicon-hand-down:before{content:"\e130"}.glyphicon-circle-arrow-right:before{content:"\e131"}.glyphicon-circle-arrow-left:before{content:"\e132"}.glyphicon-circle-arrow-up:before{content:"\e133"}.glyphicon-circle-arrow-down:before{content:"\e134"}.glyphicon-globe:before{content:"\e135"}.glyphicon-wrench:before{content:"\e136"}.glyphicon-tasks:before{content:"\e137"}.glyphicon-filter:before{content:"\e138"}.glyphicon-briefcase:before{content:"\e139"}.glyphicon-fullscreen:before{content:"\e140"}.glyphicon-dashboard:before{content:"\e141"}.glyphicon-paperclip:before{content:"\e142"}.glyphicon-heart-empty:before{content:"\e143"}.glyphicon-link:before{content:"\e144"}.glyphicon-phone:before{content:"\e145"}.glyphicon-pushpin:before{content:"\e146"}.glyphicon-usd:before{content:"\e148"}.glyphicon-gbp:before{content:"\e149"}.glyphicon-sort:before{content:"\e150"}.glyphicon-sort-by-alphabet:before{content:"\e151"}.glyphicon-sort-by-alphabet-alt:before{content:"\e152"}.glyphicon-sort-by-order:before{content:"\e153"}.glyphicon-sort-by-order-alt:before{content:"\e154"}.glyphicon-sort-by-attributes:before{content:"\e155"}.glyphicon-sort-by-attributes-alt:before{content:"\e156"}.glyphicon-unchecked:before{content:"\e157"}.glyphicon-expand:before{content:"\e158"}.glyphicon-collapse-down:before{content:"\e159"}.glyphicon-collapse-up:before{content:"\e160"}.glyphicon-log-in:before{content:"\e161"}.glyphicon-flash:before{content:"\e162"}.glyphicon-log-out:before{content:"\e163"}.glyphicon-new-window:before{content:"\e164"}.glyphicon-record:before{content:"\e165"}.glyphicon-save:before{content:"\e166"}.glyphicon-open:before{content:"\e167"}.glyphicon-saved:before{content:"\e168"}.glyphicon-import:before{content:"\e169"}.glyphicon-export:before{content:"\e170"}.glyphicon-send:before{content:"\e171"}.glyphicon-floppy-disk:before{content:"\e172"}.glyphicon-floppy-saved:before{content:"\e173"}.glyphicon-floppy-remove:before{content:"\e174"}.glyphicon-floppy-save:before{content:"\e175"}.glyphicon-floppy-open:before{content:"\e176"}.glyphicon-credit-card:before{content:"\e177"}.glyphicon-transfer:before{content:"\e178"}.glyphicon-cutlery:before{content:"\e179"}.glyphicon-header:before{content:"\e180"}.glyphicon-compressed:before{content:"\e181"}.glyphicon-earphone:before{content:"\e182"}.glyphicon-phone-alt:before{content:"\e183"}.glyphicon-tower:before{content:"\e184"}.glyphicon-stats:before{content:"\e185"}.glyphicon-sd-video:before{content:"\e186"}.glyphicon-hd-video:before{content:"\e187"}.glyphicon-subtitles:before{content:"\e188"}.glyphicon-sound-stereo:before{content:"\e189"}.glyphicon-sound-dolby:before{content:"\e190"}.glyphicon-sound-5-1:before{content:"\e191"}.glyphicon-sound-6-1:before{content:"\e192"}.glyphicon-sound-7-1:before{content:"\e193"}.glyphicon-copyright-mark:before{content:"\e194"}.glyphicon-registration-mark:before{content:"\e195"}.glyphicon-cloud-download:before{content:"\e197"}.glyphicon-cloud-upload:before{content:"\e198"}.glyphicon-tree-conifer:before{content:"\e199"}.glyphicon-tree-deciduous:before{content:"\e200"}.glyphicon-cd:before{content:"\e201"}.glyphicon-save-file:before{content:"\e202"}.glyphicon-open-file:before{content:"\e203"}.glyphicon-level-up:before{content:"\e204"}.glyphicon-copy:before{content:"\e205"}.glyphicon-paste:before{content:"\e206"}.glyphicon-alert:before{content:"\e209"}.glyphicon-equalizer:before{content:"\e210"}.glyphicon-king:before{content:"\e211"}.glyphicon-queen:before{content:"\e212"}.glyphicon-pawn:before{content:"\e213"}.glyphicon-bishop:before{content:"\e214"}.glyphicon-knight:before{content:"\e215"}.glyphicon-baby-formula:before{content:"\e216"}.glyphicon-tent:before{content:"\26fa"}.glyphicon-blackboard:before{content:"\e218"}.glyphicon-bed:before{content:"\e219"}.glyphicon-apple:before{content:"\f8ff"}.glyphicon-erase:before{content:"\e221"}.glyphicon-hourglass:before{content:"\231b"}.glyphicon-lamp:before{content:"\e223"}.glyphicon-duplicate:before{content:"\e224"}.glyphicon-piggy-bank:before{content:"\e225"}.glyphicon-scissors:before{content:"\e226"}.glyphicon-bitcoin:before,.glyphicon-btc:before,.glyphicon-xbt:before{content:"\e227"}.glyphicon-jpy:before,.glyphicon-yen:before{content:"\00a5"}.glyphicon-rub:before,.glyphicon-ruble:before{content:"\20bd"}.glyphicon-scale:before{content:"\e230"}.glyphicon-ice-lolly:before{content:"\e231"}.glyphicon-ice-lolly-tasted:before{content:"\e232"}.glyphicon-education:before{content:"\e233"}.glyphicon-option-horizontal:before{content:"\e234"}.glyphicon-option-vertical:before{content:"\e235"}.glyphicon-menu-hamburger:before{content:"\e236"}.glyphicon-modal-window:before{content:"\e237"}.glyphicon-oil:before{content:"\e238"}.glyphicon-grain:before{content:"\e239"}.glyphicon-sunglasses:before{content:"\e240"}.glyphicon-text-size:before{content:"\e241"}.glyphicon-text-color:before{content:"\e242"}.glyphicon-text-background:before{content:"\e243"}.glyphicon-object-align-top:before{content:"\e244"}.glyphicon-object-align-bottom:before{content:"\e245"}.glyphicon-object-align-horizontal:before{content:"\e246"}.glyphicon-object-align-left:before{content:"\e247"}.glyphicon-object-align-vertical:before{content:"\e248"}.glyphicon-object-align-right:before{content:"\e249"}.glyphicon-triangle-right:before{content:"\e250"}.glyphicon-triangle-left:before{content:"\e251"}.glyphicon-triangle-bottom:before{content:"\e252"}.glyphicon-triangle-top:before{content:"\e253"}.glyphicon-console:before{content:"\e254"}.glyphicon-superscript:before{content:"\e255"}.glyphicon-subscript:before{content:"\e256"}.glyphicon-menu-left:before{content:"\e257"}.glyphicon-menu-right:before{content:"\e258"}.glyphicon-menu-down:before{content:"\e259"}.glyphicon-menu-up:before{content:"\e260"}*,:after,:before{-webkit-box-sizing:border-box;-moz-box-sizing:border-box;box-sizing:border-box}body{margin:0;font-family:"Helvetica Neue",Helvetica,Arial,sans-serif;font-size:13px;line-height:1.42857143;color:#000;background-color:#fff}button,input,select,textarea{font-family:inherit;font-size:inherit;line-height:inherit}a{color:#337ab7;text-decoration:none}a:focus,a:hover{color:#23527c;text-decoration:underline}a:focus{outline:dotted thin;outline:-webkit-focus-ring-color auto 5px;outline-offset:-2px}figure{margin:0}.carousel-inner>.item>a>img,.carousel-inner>.item>img,.img-responsive,.thumbnail a>img,.thumbnail>img{display:block;max-width:100%;height:auto}.img-rounded{border-radius:3px}.img-thumbnail{padding:4px;line-height:1.42857143;background-color:#fff;border:1px solid #ddd;border-radius:2px;-webkit-transition:all .2s ease-in-out;-o-transition:all .2s ease-in-out;transition:all .2s ease-in-out;display:inline-block;max-width:100%;height:auto}.img-circle{border-radius:50%}hr{margin-top:18px;margin-bottom:18px;border:0;border-top:1px solid #eee}.sr-only{position:absolute;width:1px;height:1px;margin:-1px;padding:0;overflow:hidden;clip:rect(0,0,0,0);border:0}.sr-only-focusable:active,.sr-only-focusable:focus{position:static;width:auto;height:auto;margin:0;overflow:visible;clip:auto}[role=button]{cursor:pointer}.h1,.h2,.h3,.h4,.h5,.h6,h1,h2,h3,h4,h5,h6{font-family:inherit;font-weight:500;line-height:1.1;color:inherit}.h1 .small,.h1 small,.h2 .small,.h2 small,.h3 .small,.h3 small,.h4 .small,.h4 small,.h5 .small,.h5 small,.h6 .small,.h6 small,h1 .small,h1 small,h2 .small,h2 small,h3 .small,h3 small,h4 .small,h4 small,h5 .small,h5 small,h6 .small,h6 small{font-weight:400;line-height:1;color:#777}.h1,.h2,.h3,h1,h2,h3{margin-top:18px;margin-bottom:9px}.h1 .small,.h1 small,.h2 .small,.h2 small,.h3 .small,.h3 small,h1 .small,h1 small,h2 .small,h2 small,h3 .small,h3 small{font-size:65%}.h4,.h5,.h6,h4,h5,h6{margin-top:9px;margin-bottom:9px}.h4 .small,.h4 small,.h5 .small,.h5 small,.h6 .small,.h6 small,h4 .small,h4 small,h5 .small,h5 small,h6 .small,h6 small{font-size:75%}.h1,h1{font-size:33px}.h2,h2{font-size:27px}.h3,h3{font-size:23px}.h4,h4{font-size:17px}.h5,h5{font-size:13px}.h6,h6{font-size:12px}p{margin:0 0 9px}.lead{margin-bottom:18px;font-size:14px;font-weight:300;line-height:1.4}@media (min-width:768px){.lead{font-size:19.5px}}.small,small{font-size:92%}.mark,mark{background-color:#fcf8e3;padding:.2em}.text-left{text-align:left}.text-right{text-align:right}.text-center{text-align:center}.text-justify{text-align:justify}.text-nowrap{white-space:nowrap}.text-lowercase{text-transform:lowercase}.text-uppercase{text-transform:uppercase}.text-capitalize{text-transform:capitalize}.text-muted{color:#777}.text-primary{color:#337ab7}a.text-primary:hover{color:#286090}.text-success{color:#3c763d}a.text-success:hover{color:#2b542c}.text-info{color:#31708f}a.text-info:hover{color:#245269}.text-warning{color:#8a6d3b}a.text-warning:hover{color:#66512c}.text-danger{color:#a94442}a.text-danger:hover{color:#843534}.bg-primary{color:#fff;background-color:#337ab7}a.bg-primary:hover{background-color:#286090}.bg-success{background-color:#dff0d8}a.bg-success:hover{background-color:#c1e2b3}.bg-info{background-color:#d9edf7}a.bg-info:hover{background-color:#afd9ee}.bg-warning{background-color:#fcf8e3}a.bg-warning:hover{background-color:#f7ecb5}.bg-danger{background-color:#f2dede}a.bg-danger:hover{background-color:#e4b9b9}.page-header{padding-bottom:8px;margin:36px 0 18px;border-bottom:1px solid #eee}ol,ul{margin-top:0;margin-bottom:9px}ol ol,ol ul,ul ol,ul ul{margin-bottom:0}.list-unstyled{padding-left:0;list-style:none}.list-inline{padding-left:0;list-style:none;margin-left:-5px}.list-inline>li{display:inline-block;padding-left:5px;padding-right:5px}dl{margin-top:0;margin-bottom:18px}dd,dt{line-height:1.42857143}dt{font-weight:700}dd{margin-left:0}@media (min-width:541px){.dl-horizontal dt{float:left;width:160px;clear:left;text-align:right;overflow:hidden;text-overflow:ellipsis;white-space:nowrap}.dl-horizontal dd{margin-left:180px}}abbr[data-original-title],abbr[title]{cursor:help;border-bottom:1px dotted #777}.initialism{font-size:90%;text-transform:uppercase}blockquote{padding:9px 18px;margin:0 0 18px;font-size:inherit;border-left:5px solid #eee}blockquote ol:last-child,blockquote p:last-child,blockquote ul:last-child{margin-bottom:0}blockquote .small,blockquote footer,blockquote small{display:block;font-size:80%;line-height:1.42857143;color:#777}blockquote .small:before,blockquote footer:before,blockquote small:before{content:'\2014 \00A0'}.blockquote-reverse,blockquote.pull-right{padding-right:15px;padding-left:0;border-right:5px solid #eee;border-left:0;text-align:right}.blockquote-reverse .small:before,.blockquote-reverse footer:before,.blockquote-reverse small:before,blockquote.pull-right .small:before,blockquote.pull-right footer:before,blockquote.pull-right small:before{content:''}.blockquote-reverse .small:after,.blockquote-reverse footer:after,.blockquote-reverse small:after,blockquote.pull-right .small:after,blockquote.pull-right footer:after,blockquote.pull-right small:after{content:'\00A0 \2014'}address{margin-bottom:18px;font-style:normal;line-height:1.42857143}code,kbd,pre,samp{font-family:monospace}code{padding:2px 4px;font-size:90%;background-color:#f9f2f4;border-radius:2px}kbd{padding:2px 4px;font-size:90%;color:#fff;background-color:#333;border-radius:1px;box-shadow:inset 0 -1px 0 rgba(0,0,0,.25)}kbd kbd{padding:0;font-size:100%;font-weight:700;box-shadow:none}pre{display:block;padding:8.5px;margin:0 0 9px;word-break:break-all;word-wrap:break-word;color:#333;background-color:#f5f5f5;border:1px solid #ccc;border-radius:2px}pre code{padding:0;font-size:inherit;color:inherit;white-space:pre-wrap;background-color:transparent;border-radius:0}.pre-scrollable{max-height:340px;overflow-y:scroll}.container{margin-right:auto;margin-left:auto;padding-left:0;padding-right:0}@media (min-width:768px){.container{width:768px}}@media (min-width:992px){.container{width:940px}}@media (min-width:1200px){.container{width:1140px}}.container-fluid{margin-right:auto;margin-left:auto;padding-left:0;padding-right:0}.row{margin-left:0;margin-right:0}.col-lg-1,.col-lg-10,.col-lg-11,.col-lg-12,.col-lg-2,.col-lg-3,.col-lg-4,.col-lg-5,.col-lg-6,.col-lg-7,.col-lg-8,.col-lg-9,.col-md-1,.col-md-10,.col-md-11,.col-md-12,.col-md-2,.col-md-3,.col-md-4,.col-md-5,.col-md-6,.col-md-7,.col-md-8,.col-md-9,.col-sm-1,.col-sm-10,.col-sm-11,.col-sm-12,.col-sm-2,.col-sm-3,.col-sm-4,.col-sm-5,.col-sm-6,.col-sm-7,.col-sm-8,.col-sm-9,.col-xs-1,.col-xs-10,.col-xs-11,.col-xs-12,.col-xs-2,.col-xs-3,.col-xs-4,.col-xs-5,.col-xs-6,.col-xs-7,.col-xs-8,.col-xs-9{position:relative;min-height:1px;padding-left:0;padding-right:0}.col-xs-1,.col-xs-10,.col-xs-11,.col-xs-12,.col-xs-2,.col-xs-3,.col-xs-4,.col-xs-5,.col-xs-6,.col-xs-7,.col-xs-8,.col-xs-9{float:left}.col-xs-12{width:100%}.col-xs-11{width:91.66666667%}.col-xs-10{width:83.33333333%}.col-xs-9{width:75%}.col-xs-8{width:66.66666667%}.col-xs-7{width:58.33333333%}.col-xs-6{width:50%}.col-xs-5{width:41.66666667%}.col-xs-4{width:33.33333333%}.col-xs-3{width:25%}.col-xs-2{width:16.66666667%}.col-xs-1{width:8.33333333%}.col-xs-pull-12{right:100%}.col-xs-pull-11{right:91.66666667%}.col-xs-pull-10{right:83.33333333%}.col-xs-pull-9{right:75%}.col-xs-pull-8{right:66.66666667%}.col-xs-pull-7{right:58.33333333%}.col-xs-pull-6{right:50%}.col-xs-pull-5{right:41.66666667%}.col-xs-pull-4{right:33.33333333%}.col-xs-pull-3{right:25%}.col-xs-pull-2{right:16.66666667%}.col-xs-pull-1{right:8.33333333%}.col-xs-pull-0{right:auto}.col-xs-push-12{left:100%}.col-xs-push-11{left:91.66666667%}.col-xs-push-10{left:83.33333333%}.col-xs-push-9{left:75%}.col-xs-push-8{left:66.66666667%}.col-xs-push-7{left:58.33333333%}.col-xs-push-6{left:50%}.col-xs-push-5{left:41.66666667%}.col-xs-push-4{left:33.33333333%}.col-xs-push-3{left:25%}.col-xs-push-2{left:16.66666667%}.col-xs-push-1{left:8.33333333%}.col-xs-push-0{left:auto}.col-xs-offset-12{margin-left:100%}.col-xs-offset-11{margin-left:91.66666667%}.col-xs-offset-10{margin-left:83.33333333%}.col-xs-offset-9{margin-left:75%}.col-xs-offset-8{margin-left:66.66666667%}.col-xs-offset-7{margin-left:58.33333333%}.col-xs-offset-6{margin-left:50%}.col-xs-offset-5{margin-left:41.66666667%}.col-xs-offset-4{margin-left:33.33333333%}.col-xs-offset-3{margin-left:25%}.col-xs-offset-2{margin-left:16.66666667%}.col-xs-offset-1{margin-left:8.33333333%}.col-xs-offset-0{margin-left:0}@media (min-width:768px){.col-sm-1,.col-sm-10,.col-sm-11,.col-sm-12,.col-sm-2,.col-sm-3,.col-sm-4,.col-sm-5,.col-sm-6,.col-sm-7,.col-sm-8,.col-sm-9{float:left}.col-sm-12{width:100%}.col-sm-11{width:91.66666667%}.col-sm-10{width:83.33333333%}.col-sm-9{width:75%}.col-sm-8{width:66.66666667%}.col-sm-7{width:58.33333333%}.col-sm-6{width:50%}.col-sm-5{width:41.66666667%}.col-sm-4{width:33.33333333%}.col-sm-3{width:25%}.col-sm-2{width:16.66666667%}.col-sm-1{width:8.33333333%}.col-sm-pull-12{right:100%}.col-sm-pull-11{right:91.66666667%}.col-sm-pull-10{right:83.33333333%}.col-sm-pull-9{right:75%}.col-sm-pull-8{right:66.66666667%}.col-sm-pull-7{right:58.33333333%}.col-sm-pull-6{right:50%}.col-sm-pull-5{right:41.66666667%}.col-sm-pull-4{right:33.33333333%}.col-sm-pull-3{right:25%}.col-sm-pull-2{right:16.66666667%}.col-sm-pull-1{right:8.33333333%}.col-sm-pull-0{right:auto}.col-sm-push-12{left:100%}.col-sm-push-11{left:91.66666667%}.col-sm-push-10{left:83.33333333%}.col-sm-push-9{left:75%}.col-sm-push-8{left:66.66666667%}.col-sm-push-7{left:58.33333333%}.col-sm-push-6{left:50%}.col-sm-push-5{left:41.66666667%}.col-sm-push-4{left:33.33333333%}.col-sm-push-3{left:25%}.col-sm-push-2{left:16.66666667%}.col-sm-push-1{left:8.33333333%}.col-sm-push-0{left:auto}.col-sm-offset-12{margin-left:100%}.col-sm-offset-11{margin-left:91.66666667%}.col-sm-offset-10{margin-left:83.33333333%}.col-sm-offset-9{margin-left:75%}.col-sm-offset-8{margin-left:66.66666667%}.col-sm-offset-7{margin-left:58.33333333%}.col-sm-offset-6{margin-left:50%}.col-sm-offset-5{margin-left:41.66666667%}.col-sm-offset-4{margin-left:33.33333333%}.col-sm-offset-3{margin-left:25%}.col-sm-offset-2{margin-left:16.66666667%}.col-sm-offset-1{margin-left:8.33333333%}.col-sm-offset-0{margin-left:0}}@media (min-width:992px){.col-md-1,.col-md-10,.col-md-11,.col-md-12,.col-md-2,.col-md-3,.col-md-4,.col-md-5,.col-md-6,.col-md-7,.col-md-8,.col-md-9{float:left}.col-md-12{width:100%}.col-md-11{width:91.66666667%}.col-md-10{width:83.33333333%}.col-md-9{width:75%}.col-md-8{width:66.66666667%}.col-md-7{width:58.33333333%}.col-md-6{width:50%}.col-md-5{width:41.66666667%}.col-md-4{width:33.33333333%}.col-md-3{width:25%}.col-md-2{width:16.66666667%}.col-md-1{width:8.33333333%}.col-md-pull-12{right:100%}.col-md-pull-11{right:91.66666667%}.col-md-pull-10{right:83.33333333%}.col-md-pull-9{right:75%}.col-md-pull-8{right:66.66666667%}.col-md-pull-7{right:58.33333333%}.col-md-pull-6{right:50%}.col-md-pull-5{right:41.66666667%}.col-md-pull-4{right:33.33333333%}.col-md-pull-3{right:25%}.col-md-pull-2{right:16.66666667%}.col-md-pull-1{right:8.33333333%}.col-md-pull-0{right:auto}.col-md-push-12{left:100%}.col-md-push-11{left:91.66666667%}.col-md-push-10{left:83.33333333%}.col-md-push-9{left:75%}.col-md-push-8{left:66.66666667%}.col-md-push-7{left:58.33333333%}.col-md-push-6{left:50%}.col-md-push-5{left:41.66666667%}.col-md-push-4{left:33.33333333%}.col-md-push-3{left:25%}.col-md-push-2{left:16.66666667%}.col-md-push-1{left:8.33333333%}.col-md-push-0{left:auto}.col-md-offset-12{margin-left:100%}.col-md-offset-11{margin-left:91.66666667%}.col-md-offset-10{margin-left:83.33333333%}.col-md-offset-9{margin-left:75%}.col-md-offset-8{margin-left:66.66666667%}.col-md-offset-7{margin-left:58.33333333%}.col-md-offset-6{margin-left:50%}.col-md-offset-5{margin-left:41.66666667%}.col-md-offset-4{margin-left:33.33333333%}.col-md-offset-3{margin-left:25%}.col-md-offset-2{margin-left:16.66666667%}.col-md-offset-1{margin-left:8.33333333%}.col-md-offset-0{margin-left:0}}@media (min-width:1200px){.col-lg-1,.col-lg-10,.col-lg-11,.col-lg-12,.col-lg-2,.col-lg-3,.col-lg-4,.col-lg-5,.col-lg-6,.col-lg-7,.col-lg-8,.col-lg-9{float:left}.col-lg-12{width:100%}.col-lg-11{width:91.66666667%}.col-lg-10{width:83.33333333%}.col-lg-9{width:75%}.col-lg-8{width:66.66666667%}.col-lg-7{width:58.33333333%}.col-lg-6{width:50%}.col-lg-5{width:41.66666667%}.col-lg-4{width:33.33333333%}.col-lg-3{width:25%}.col-lg-2{width:16.66666667%}.col-lg-1{width:8.33333333%}.col-lg-pull-12{right:100%}.col-lg-pull-11{right:91.66666667%}.col-lg-pull-10{right:83.33333333%}.col-lg-pull-9{right:75%}.col-lg-pull-8{right:66.66666667%}.col-lg-pull-7{right:58.33333333%}.col-lg-pull-6{right:50%}.col-lg-pull-5{right:41.66666667%}.col-lg-pull-4{right:33.33333333%}.col-lg-pull-3{right:25%}.col-lg-pull-2{right:16.66666667%}.col-lg-pull-1{right:8.33333333%}.col-lg-pull-0{right:auto}.col-lg-push-12{left:100%}.col-lg-push-11{left:91.66666667%}.col-lg-push-10{left:83.33333333%}.col-lg-push-9{left:75%}.col-lg-push-8{left:66.66666667%}.col-lg-push-7{left:58.33333333%}.col-lg-push-6{left:50%}.col-lg-push-5{left:41.66666667%}.col-lg-push-4{left:33.33333333%}.col-lg-push-3{left:25%}.col-lg-push-2{left:16.66666667%}.col-lg-push-1{left:8.33333333%}.col-lg-push-0{left:auto}.col-lg-offset-12{margin-left:100%}.col-lg-offset-11{margin-left:91.66666667%}.col-lg-offset-10{margin-left:83.33333333%}.col-lg-offset-9{margin-left:75%}.col-lg-offset-8{margin-left:66.66666667%}.col-lg-offset-7{margin-left:58.33333333%}.col-lg-offset-6{margin-left:50%}.col-lg-offset-5{margin-left:41.66666667%}.col-lg-offset-4{margin-left:33.33333333%}.col-lg-offset-3{margin-left:25%}.col-lg-offset-2{margin-left:16.66666667%}.col-lg-offset-1{margin-left:8.33333333%}.col-lg-offset-0{margin-left:0}}table{background-color:transparent}caption{padding-top:8px;padding-bottom:8px;color:#777;text-align:left}th{text-align:left}.table{width:100%;max-width:100%;margin-bottom:18px}.table>tbody>tr>td,.table>tbody>tr>th,.table>tfoot>tr>td,.table>tfoot>tr>th,.table>thead>tr>td,.table>thead>tr>th{padding:8px;line-height:1.42857143;vertical-align:top;border-top:1px solid #ddd}.table>thead>tr>th{vertical-align:bottom;border-bottom:2px solid #ddd}.table>caption+thead>tr:first-child>td,.table>caption+thead>tr:first-child>th,.table>colgroup+thead>tr:first-child>td,.table>colgroup+thead>tr:first-child>th,.table>thead:first-child>tr:first-child>td,.table>thead:first-child>tr:first-child>th{border-top:0}.table>tbody+tbody{border-top:2px solid #ddd}.table .table{background-color:#fff}.table-condensed>tbody>tr>td,.table-condensed>tbody>tr>th,.table-condensed>tfoot>tr>td,.table-condensed>tfoot>tr>th,.table-condensed>thead>tr>td,.table-condensed>thead>tr>th{padding:5px}.table-bordered,.table-bordered>tbody>tr>td,.table-bordered>tbody>tr>th,.table-bordered>tfoot>tr>td,.table-bordered>tfoot>tr>th,.table-bordered>thead>tr>td,.table-bordered>thead>tr>th{border:1px solid #ddd}.table-bordered>thead>tr>td,.table-bordered>thead>tr>th{border-bottom-width:2px}.table-striped>tbody>tr:nth-of-type(odd){background-color:#f9f9f9}.table-hover>tbody>tr:hover{background-color:#f5f5f5}table col[class*=col-]{position:static;float:none;display:table-column}table td[class*=col-],table th[class*=col-]{position:static;float:none;display:table-cell}.table>tbody>tr.active>td,.table>tbody>tr.active>th,.table>tbody>tr>td.active,.table>tbody>tr>th.active,.table>tfoot>tr.active>td,.table>tfoot>tr.active>th,.table>tfoot>tr>td.active,.table>tfoot>tr>th.active,.table>thead>tr.active>td,.table>thead>tr.active>th,.table>thead>tr>td.active,.table>thead>tr>th.active{background-color:#f5f5f5}.table-hover>tbody>tr.active:hover>td,.table-hover>tbody>tr.active:hover>th,.table-hover>tbody>tr:hover>.active,.table-hover>tbody>tr>td.active:hover,.table-hover>tbody>tr>th.active:hover{background-color:#e8e8e8}.table>tbody>tr.success>td,.table>tbody>tr.success>th,.table>tbody>tr>td.success,.table>tbody>tr>th.success,.table>tfoot>tr.success>td,.table>tfoot>tr.success>th,.table>tfoot>tr>td.success,.table>tfoot>tr>th.success,.table>thead>tr.success>td,.table>thead>tr.success>th,.table>thead>tr>td.success,.table>thead>tr>th.success{background-color:#dff0d8}.table-hover>tbody>tr.success:hover>td,.table-hover>tbody>tr.success:hover>th,.table-hover>tbody>tr:hover>.success,.table-hover>tbody>tr>td.success:hover,.table-hover>tbody>tr>th.success:hover{background-color:#d0e9c6}.table>tbody>tr.info>td,.table>tbody>tr.info>th,.table>tbody>tr>td.info,.table>tbody>tr>th.info,.table>tfoot>tr.info>td,.table>tfoot>tr.info>th,.table>tfoot>tr>td.info,.table>tfoot>tr>th.info,.table>thead>tr.info>td,.table>thead>tr.info>th,.table>thead>tr>td.info,.table>thead>tr>th.info{background-color:#d9edf7}.table-hover>tbody>tr.info:hover>td,.table-hover>tbody>tr.info:hover>th,.table-hover>tbody>tr:hover>.info,.table-hover>tbody>tr>td.info:hover,.table-hover>tbody>tr>th.info:hover{background-color:#c4e3f3}.table>tbody>tr.warning>td,.table>tbody>tr.warning>th,.table>tbody>tr>td.warning,.table>tbody>tr>th.warning,.table>tfoot>tr.warning>td,.table>tfoot>tr.warning>th,.table>tfoot>tr>td.warning,.table>tfoot>tr>th.warning,.table>thead>tr.warning>td,.table>thead>tr.warning>th,.table>thead>tr>td.warning,.table>thead>tr>th.warning{background-color:#fcf8e3}.table-hover>tbody>tr.warning:hover>td,.table-hover>tbody>tr.warning:hover>th,.table-hover>tbody>tr:hover>.warning,.table-hover>tbody>tr>td.warning:hover,.table-hover>tbody>tr>th.warning:hover{background-color:#faf2cc}.table>tbody>tr.danger>td,.table>tbody>tr.danger>th,.table>tbody>tr>td.danger,.table>tbody>tr>th.danger,.table>tfoot>tr.danger>td,.table>tfoot>tr.danger>th,.table>tfoot>tr>td.danger,.table>tfoot>tr>th.danger,.table>thead>tr.danger>td,.table>thead>tr.danger>th,.table>thead>tr>td.danger,.table>thead>tr>th.danger{background-color:#f2dede}.table-hover>tbody>tr.danger:hover>td,.table-hover>tbody>tr.danger:hover>th,.table-hover>tbody>tr:hover>.danger,.table-hover>tbody>tr>td.danger:hover,.table-hover>tbody>tr>th.danger:hover{background-color:#ebcccc}.table-responsive{overflow-x:auto;min-height:.01%}@media screen and (max-width:767px){.table-responsive{width:100%;margin-bottom:13.5px;overflow-y:hidden;-ms-overflow-style:-ms-autohiding-scrollbar;border:1px solid #ddd}.table-responsive>.table{margin-bottom:0}.table-responsive>.table>tbody>tr>td,.table-responsive>.table>tbody>tr>th,.table-responsive>.table>tfoot>tr>td,.table-responsive>.table>tfoot>tr>th,.table-responsive>.table>thead>tr>td,.table-responsive>.table>thead>tr>th{white-space:nowrap}.table-responsive>.table-bordered{border:0}.table-responsive>.table-bordered>tbody>tr>td:first-child,.table-responsive>.table-bordered>tbody>tr>th:first-child,.table-responsive>.table-bordered>tfoot>tr>td:first-child,.table-responsive>.table-bordered>tfoot>tr>th:first-child,.table-responsive>.table-bordered>thead>tr>td:first-child,.table-responsive>.table-bordered>thead>tr>th:first-child{border-left:0}.table-responsive>.table-bordered>tbody>tr>td:last-child,.table-responsive>.table-bordered>tbody>tr>th:last-child,.table-responsive>.table-bordered>tfoot>tr>td:last-child,.table-responsive>.table-bordered>tfoot>tr>th:last-child,.table-responsive>.table-bordered>thead>tr>td:last-child,.table-responsive>.table-bordered>thead>tr>th:last-child{border-right:0}.table-responsive>.table-bordered>tbody>tr:last-child>td,.table-responsive>.table-bordered>tbody>tr:last-child>th,.table-responsive>.table-bordered>tfoot>tr:last-child>td,.table-responsive>.table-bordered>tfoot>tr:last-child>th{border-bottom:0}}fieldset{padding:0;margin:0;border:0;min-width:0}legend{display:block;width:100%;padding:0;margin-bottom:18px;font-size:19.5px;line-height:inherit;color:#333;border:0;border-bottom:1px solid #e5e5e5}label{display:inline-block;max-width:100%;margin-bottom:5px}input[type=search]{-webkit-box-sizing:border-box;-moz-box-sizing:border-box;box-sizing:border-box;-webkit-appearance:none}input[type=checkbox],input[type=radio]{margin:4px 0 0;margin-top:1px \9;line-height:normal}input[type=file]{display:block}input[type=range]{display:block;width:100%}select[multiple],select[size]{height:auto}input[type=file]:focus,input[type=checkbox]:focus,input[type=radio]:focus{outline:dotted thin;outline:-webkit-focus-ring-color auto 5px;outline-offset:-2px}output{display:block;padding-top:7px;font-size:13px;line-height:1.42857143;color:#555}.form-control{display:block;width:100%;height:32px;padding:6px 12px;font-size:13px;line-height:1.42857143;color:#555;background-color:#fff;background-image:none;border:1px solid #ccc;border-radius:2px;-webkit-box-shadow:inset 0 1px 1px rgba(0,0,0,.075);box-shadow:inset 0 1px 1px rgba(0,0,0,.075);-webkit-transition:border-color ease-in-out .15s,box-shadow ease-in-out .15s;-o-transition:border-color ease-in-out .15s,box-shadow ease-in-out .15s;transition:border-color ease-in-out .15s,box-shadow ease-in-out .15s}.form-control:focus{border-color:#66afe9;outline:0;-webkit-box-shadow:inset 0 1px 1px rgba(0,0,0,.075),0 0 8px rgba(102,175,233,.6);box-shadow:inset 0 1px 1px rgba(0,0,0,.075),0 0 8px rgba(102,175,233,.6)}.form-control::-moz-placeholder{color:#999;opacity:1}.form-control:-ms-input-placeholder{color:#999}.form-control::-webkit-input-placeholder{color:#999}.form-control[disabled],.form-control[readonly],fieldset[disabled] .form-control{background-color:#eee;opacity:1}.form-control[disabled],fieldset[disabled] .form-control{cursor:not-allowed}textarea.form-control{height:auto}@media screen and (-webkit-min-device-pixel-ratio:0){input[type=date],input[type=time],input[type=datetime-local],input[type=month]{line-height:32px}.input-group-sm input[type=date],.input-group-sm input[type=time],.input-group-sm input[type=datetime-local],.input-group-sm input[type=month],input[type=date].input-sm,input[type=time].input-sm,input[type=datetime-local].input-sm,input[type=month].input-sm{line-height:30px}.input-group-lg input[type=date],.input-group-lg input[type=time],.input-group-lg input[type=datetime-local],.input-group-lg input[type=month],input[type=date].input-lg,input[type=time].input-lg,input[type=datetime-local].input-lg,input[type=month].input-lg{line-height:45px}}.form-group{margin-bottom:15px}.checkbox,.radio{position:relative;display:block;margin-top:10px;margin-bottom:10px}.checkbox label,.radio label{min-height:18px;padding-left:20px;margin-bottom:0;font-weight:400;cursor:pointer}.checkbox input[type=checkbox],.checkbox-inline input[type=checkbox],.radio input[type=radio],.radio-inline input[type=radio]{position:absolute;margin-left:-20px;margin-top:4px \9}.checkbox+.checkbox,.radio+.radio{margin-top:-5px}.checkbox-inline,.radio-inline{position:relative;display:inline-block;padding-left:20px;margin-bottom:0;vertical-align:middle;font-weight:400;cursor:pointer}.checkbox-inline+.checkbox-inline,.radio-inline+.radio-inline{margin-top:0;margin-left:10px}.checkbox-inline.disabled,.checkbox.disabled label,.radio-inline.disabled,.radio.disabled label,fieldset[disabled] .checkbox label,fieldset[disabled] .checkbox-inline,fieldset[disabled] .radio label,fieldset[disabled] .radio-inline,fieldset[disabled] input[type=checkbox],fieldset[disabled] input[type=radio],input[type=checkbox].disabled,input[type=checkbox][disabled],input[type=radio].disabled,input[type=radio][disabled]{cursor:not-allowed}.form-control-static{padding-top:7px;padding-bottom:7px;margin-bottom:0;min-height:31px}.form-control-static.input-lg,.form-control-static.input-sm{padding-left:0;padding-right:0}.input-sm{height:30px;padding:5px 10px;font-size:12px;line-height:1.5;border-radius:1px}select.input-sm{height:30px;line-height:30px}select[multiple].input-sm,textarea.input-sm{height:auto}.form-group-sm .form-control{height:30px;padding:5px 10px;font-size:12px;line-height:1.5;border-radius:1px}select.form-group-sm .form-control{height:30px;line-height:30px}select[multiple].form-group-sm .form-control,textarea.form-group-sm .form-control{height:auto}.form-group-sm .form-control-static{height:30px;padding:5px 10px;font-size:12px;line-height:1.5;min-height:30px}.input-lg{height:45px;padding:10px 16px;font-size:17px;line-height:1.3333333;border-radius:3px}select.input-lg{height:45px;line-height:45px}select[multiple].input-lg,textarea.input-lg{height:auto}.form-group-lg .form-control{height:45px;padding:10px 16px;font-size:17px;line-height:1.3333333;border-radius:3px}select.form-group-lg .form-control{height:45px;line-height:45px}select[multiple].form-group-lg .form-control,textarea.form-group-lg .form-control{height:auto}.form-group-lg .form-control-static{height:45px;padding:10px 16px;font-size:17px;line-height:1.3333333;min-height:35px}.has-feedback{position:relative}.has-feedback .form-control{padding-right:40px}.form-control-feedback{position:absolute;top:0;right:0;z-index:2;display:block;width:32px;height:32px;line-height:32px;text-align:center;pointer-events:none}.input-lg+.form-control-feedback{width:45px;height:45px;line-height:45px}.input-sm+.form-control-feedback{width:30px;height:30px;line-height:30px}.has-success .checkbox,.has-success .checkbox-inline,.has-success .control-label,.has-success .help-block,.has-success .radio,.has-success .radio-inline,.has-success.checkbox label,.has-success.checkbox-inline label,.has-success.radio label,.has-success.radio-inline label{color:#3c763d}.has-success .form-control{border-color:#3c763d;-webkit-box-shadow:inset 0 1px 1px rgba(0,0,0,.075);box-shadow:inset 0 1px 1px rgba(0,0,0,.075)}.has-success .form-control:focus{border-color:#2b542c;-webkit-box-shadow:inset 0 1px 1px rgba(0,0,0,.075),0 0 6px #67b168;box-shadow:inset 0 1px 1px rgba(0,0,0,.075),0 0 6px #67b168}.has-success .input-group-addon{color:#3c763d;border-color:#3c763d;background-color:#dff0d8}.has-success .form-control-feedback{color:#3c763d}.has-warning .checkbox,.has-warning .checkbox-inline,.has-warning .control-label,.has-warning .help-block,.has-warning .radio,.has-warning .radio-inline,.has-warning.checkbox label,.has-warning.checkbox-inline label,.has-warning.radio label,.has-warning.radio-inline label{color:#8a6d3b}.has-warning .form-control{border-color:#8a6d3b;-webkit-box-shadow:inset 0 1px 1px rgba(0,0,0,.075);box-shadow:inset 0 1px 1px rgba(0,0,0,.075)}.has-warning .form-control:focus{border-color:#66512c;-webkit-box-shadow:inset 0 1px 1px rgba(0,0,0,.075),0 0 6px #c0a16b;box-shadow:inset 0 1px 1px rgba(0,0,0,.075),0 0 6px #c0a16b}.has-warning .input-group-addon{color:#8a6d3b;border-color:#8a6d3b;background-color:#fcf8e3}.has-warning .form-control-feedback{color:#8a6d3b}.has-error .checkbox,.has-error .checkbox-inline,.has-error .control-label,.has-error .help-block,.has-error .radio,.has-error .radio-inline,.has-error.checkbox label,.has-error.checkbox-inline label,.has-error.radio label,.has-error.radio-inline label{color:#a94442}.has-error .form-control{border-color:#a94442;-webkit-box-shadow:inset 0 1px 1px rgba(0,0,0,.075);box-shadow:inset 0 1px 1px rgba(0,0,0,.075)}.has-error .form-control:focus{border-color:#843534;-webkit-box-shadow:inset 0 1px 1px rgba(0,0,0,.075),0 0 6px #ce8483;box-shadow:inset 0 1px 1px rgba(0,0,0,.075),0 0 6px #ce8483}.has-error .input-group-addon{color:#a94442;border-color:#a94442;background-color:#f2dede}.has-error .form-control-feedback{color:#a94442}.has-feedback label~.form-control-feedback{top:23px}.has-feedback label.sr-only~.form-control-feedback{top:0}.help-block{display:block;margin-top:5px;margin-bottom:10px;color:#404040}.form-horizontal .checkbox,.form-horizontal .checkbox-inline,.form-horizontal .radio,.form-horizontal .radio-inline{margin-top:0;margin-bottom:0;padding-top:7px}.form-horizontal .checkbox,.form-horizontal .radio{min-height:25px}.form-horizontal .form-group{margin-left:0;margin-right:0}.form-horizontal .has-feedback .form-control-feedback{right:0}@media (min-width:768px){.form-inline .form-group{display:inline-block;margin-bottom:0;vertical-align:middle}.form-inline .form-control{display:inline-block;width:auto;vertical-align:middle}.form-inline .form-control-static{display:inline-block}.form-inline .input-group{display:inline-table;vertical-align:middle}.form-inline .input-group .form-control,.form-inline .input-group .input-group-addon,.form-inline .input-group .input-group-btn{width:auto}.form-inline .input-group>.form-control{width:100%}.form-inline .control-label{margin-bottom:0;vertical-align:middle}.form-inline .checkbox,.form-inline .radio{display:inline-block;margin-top:0;margin-bottom:0;vertical-align:middle}.form-inline .checkbox label,.form-inline .radio label{padding-left:0}.form-inline .checkbox input[type=checkbox],.form-inline .radio input[type=radio]{position:relative;margin-left:0}.form-inline .has-feedback .form-control-feedback{top:0}.form-horizontal .control-label{text-align:right;margin-bottom:0;padding-top:7px}.form-horizontal .form-group-lg .control-label{padding-top:14.33px}.form-horizontal .form-group-sm .control-label{padding-top:6px}}.btn{display:inline-block;margin-bottom:0;font-weight:400;text-align:center;vertical-align:middle;touch-action:manipulation;cursor:pointer;background-image:none;border:1px solid transparent;white-space:nowrap;padding:6px 12px;font-size:13px;line-height:1.42857143;border-radius:2px;-webkit-user-select:none;-moz-user-select:none;-ms-user-select:none;user-select:none}.btn.active.focus,.btn.active:focus,.btn.focus,.btn:active.focus,.btn:active:focus,.btn:focus{outline:dotted thin;outline:-webkit-focus-ring-color auto 5px;outline-offset:-2px}.btn.focus,.btn:focus,.btn:hover{color:#333;text-decoration:none}.btn.active,.btn:active{outline:0;background-image:none;-webkit-box-shadow:inset 0 3px 5px rgba(0,0,0,.125);box-shadow:inset 0 3px 5px rgba(0,0,0,.125)}.btn.disabled,.btn[disabled],fieldset[disabled] .btn{cursor:not-allowed;pointer-events:none;opacity:.65;filter:alpha(opacity=65);-webkit-box-shadow:none;box-shadow:none}.btn-default{color:#333;background-color:#fff;border-color:#ccc}.btn-default.active,.btn-default.focus,.btn-default:active,.btn-default:focus,.btn-default:hover,.open>.dropdown-toggle.btn-default{color:#333;background-color:#e6e6e6;border-color:#adadad}.btn-default.active,.btn-default:active,.open>.dropdown-toggle.btn-default{background-image:none}.btn-default.disabled,.btn-default.disabled.active,.btn-default.disabled.focus,.btn-default.disabled:active,.btn-default.disabled:focus,.btn-default.disabled:hover,.btn-default[disabled],.btn-default[disabled].active,.btn-default[disabled].focus,.btn-default[disabled]:active,.btn-default[disabled]:focus,.btn-default[disabled]:hover,fieldset[disabled] .btn-default,fieldset[disabled] .btn-default.active,fieldset[disabled] .btn-default.focus,fieldset[disabled] .btn-default:active,fieldset[disabled] .btn-default:focus,fieldset[disabled] .btn-default:hover{background-color:#fff;border-color:#ccc}.btn-default .badge{color:#fff;background-color:#333}.btn-primary{color:#fff;background-color:#337ab7;border-color:#2e6da4}.btn-primary.active,.btn-primary.focus,.btn-primary:active,.btn-primary:focus,.btn-primary:hover,.open>.dropdown-toggle.btn-primary{color:#fff;background-color:#286090;border-color:#204d74}.btn-primary.active,.btn-primary:active,.open>.dropdown-toggle.btn-primary{background-image:none}.btn-primary.disabled,.btn-primary.disabled.active,.btn-primary.disabled.focus,.btn-primary.disabled:active,.btn-primary.disabled:focus,.btn-primary.disabled:hover,.btn-primary[disabled],.btn-primary[disabled].active,.btn-primary[disabled].focus,.btn-primary[disabled]:active,.btn-primary[disabled]:focus,.btn-primary[disabled]:hover,fieldset[disabled] .btn-primary,fieldset[disabled] .btn-primary.active,fieldset[disabled] .btn-primary.focus,fieldset[disabled] .btn-primary:active,fieldset[disabled] .btn-primary:focus,fieldset[disabled] .btn-primary:hover{background-color:#337ab7;border-color:#2e6da4}.btn-primary .badge{color:#337ab7;background-color:#fff}.btn-success{color:#fff;background-color:#5cb85c;border-color:#4cae4c}.btn-success.active,.btn-success.focus,.btn-success:active,.btn-success:focus,.btn-success:hover,.open>.dropdown-toggle.btn-success{color:#fff;background-color:#449d44;border-color:#398439}.btn-success.active,.btn-success:active,.open>.dropdown-toggle.btn-success{background-image:none}.btn-success.disabled,.btn-success.disabled.active,.btn-success.disabled.focus,.btn-success.disabled:active,.btn-success.disabled:focus,.btn-success.disabled:hover,.btn-success[disabled],.btn-success[disabled].active,.btn-success[disabled].focus,.btn-success[disabled]:active,.btn-success[disabled]:focus,.btn-success[disabled]:hover,fieldset[disabled] .btn-success,fieldset[disabled] .btn-success.active,fieldset[disabled] .btn-success.focus,fieldset[disabled] .btn-success:active,fieldset[disabled] .btn-success:focus,fieldset[disabled] .btn-success:hover{background-color:#5cb85c;border-color:#4cae4c}.btn-success .badge{color:#5cb85c;background-color:#fff}.btn-info{color:#fff;background-color:#5bc0de;border-color:#46b8da}.btn-info.active,.btn-info.focus,.btn-info:active,.btn-info:focus,.btn-info:hover,.open>.dropdown-toggle.btn-info{color:#fff;background-color:#31b0d5;border-color:#269abc}.btn-info.active,.btn-info:active,.open>.dropdown-toggle.btn-info{background-image:none}.btn-info.disabled,.btn-info.disabled.active,.btn-info.disabled.focus,.btn-info.disabled:active,.btn-info.disabled:focus,.btn-info.disabled:hover,.btn-info[disabled],.btn-info[disabled].active,.btn-info[disabled].focus,.btn-info[disabled]:active,.btn-info[disabled]:focus,.btn-info[disabled]:hover,fieldset[disabled] .btn-info,fieldset[disabled] .btn-info.active,fieldset[disabled] .btn-info.focus,fieldset[disabled] .btn-info:active,fieldset[disabled] .btn-info:focus,fieldset[disabled] .btn-info:hover{background-color:#5bc0de;border-color:#46b8da}.btn-info .badge{color:#5bc0de;background-color:#fff}.btn-warning{color:#fff;background-color:#f0ad4e;border-color:#eea236}.btn-warning.active,.btn-warning.focus,.btn-warning:active,.btn-warning:focus,.btn-warning:hover,.open>.dropdown-toggle.btn-warning{color:#fff;background-color:#ec971f;border-color:#d58512}.btn-warning.active,.btn-warning:active,.open>.dropdown-toggle.btn-warning{background-image:none}.btn-warning.disabled,.btn-warning.disabled.active,.btn-warning.disabled.focus,.btn-warning.disabled:active,.btn-warning.disabled:focus,.btn-warning.disabled:hover,.btn-warning[disabled],.btn-warning[disabled].active,.btn-warning[disabled].focus,.btn-warning[disabled]:active,.btn-warning[disabled]:focus,.btn-warning[disabled]:hover,fieldset[disabled] .btn-warning,fieldset[disabled] .btn-warning.active,fieldset[disabled] .btn-warning.focus,fieldset[disabled] .btn-warning:active,fieldset[disabled] .btn-warning:focus,fieldset[disabled] .btn-warning:hover{background-color:#f0ad4e;border-color:#eea236}.btn-warning .badge{color:#f0ad4e;background-color:#fff}.btn-danger{color:#fff;background-color:#d9534f;border-color:#d43f3a}.btn-danger.active,.btn-danger.focus,.btn-danger:active,.btn-danger:focus,.btn-danger:hover,.open>.dropdown-toggle.btn-danger{color:#fff;background-color:#c9302c;border-color:#ac2925}.btn-danger.active,.btn-danger:active,.open>.dropdown-toggle.btn-danger{background-image:none}.btn-danger.disabled,.btn-danger.disabled.active,.btn-danger.disabled.focus,.btn-danger.disabled:active,.btn-danger.disabled:focus,.btn-danger.disabled:hover,.btn-danger[disabled],.btn-danger[disabled].active,.btn-danger[disabled].focus,.btn-danger[disabled]:active,.btn-danger[disabled]:focus,.btn-danger[disabled]:hover,fieldset[disabled] .btn-danger,fieldset[disabled] .btn-danger.active,fieldset[disabled] .btn-danger.focus,fieldset[disabled] .btn-danger:active,fieldset[disabled] .btn-danger:focus,fieldset[disabled] .btn-danger:hover{background-color:#d9534f;border-color:#d43f3a}.btn-danger .badge{color:#d9534f;background-color:#fff}.btn-link{color:#337ab7;font-weight:400;border-radius:0}.btn-link,.btn-link.active,.btn-link:active,.btn-link[disabled],fieldset[disabled] .btn-link{background-color:transparent;-webkit-box-shadow:none;box-shadow:none}.btn-link,.btn-link:active,.btn-link:focus,.btn-link:hover{border-color:transparent}.btn-link:focus,.btn-link:hover{color:#23527c;text-decoration:underline;background-color:transparent}.btn-link[disabled]:focus,.btn-link[disabled]:hover,fieldset[disabled] .btn-link:focus,fieldset[disabled] .btn-link:hover{color:#777;text-decoration:none}.btn-group-lg>.btn,.btn-lg{padding:10px 16px;font-size:17px;line-height:1.3333333;border-radius:3px}.btn-group-sm>.btn,.btn-sm{padding:5px 10px;font-size:12px;line-height:1.5;border-radius:1px}.btn-group-xs>.btn,.btn-xs{padding:1px 5px;font-size:12px;line-height:1.5;border-radius:1px}.btn-block{display:block;width:100%}.btn-block+.btn-block{margin-top:5px}input[type=button].btn-block,input[type=reset].btn-block,input[type=submit].btn-block{width:100%}.fade{opacity:0;-webkit-transition:opacity .15s linear;-o-transition:opacity .15s linear;transition:opacity .15s linear}.fade.in{opacity:1}.collapse{display:none}.collapse.in{display:block}tr.collapse.in{display:table-row}tbody.collapse.in{display:table-row-group}.collapsing{position:relative;height:0;overflow:hidden;-webkit-transition-property:height,visibility;transition-property:height,visibility;-webkit-transition-duration:.35s;transition-duration:.35s;-webkit-transition-timing-function:ease;transition-timing-function:ease}.caret{display:inline-block;width:0;height:0;margin-left:2px;vertical-align:middle;border-top:4px dashed;border-right:4px solid transparent;border-left:4px solid transparent}.dropdown,.dropup{position:relative}.dropdown-toggle:focus{outline:0}.dropdown-menu{position:absolute;top:100%;left:0;z-index:1000;display:none;float:left;min-width:160px;padding:5px 0;margin:2px 0 0;list-style:none;font-size:13px;text-align:left;background-color:#fff;border:1px solid #ccc;border:1px solid rgba(0,0,0,.15);border-radius:2px;-webkit-box-shadow:0 6px 12px rgba(0,0,0,.175);box-shadow:0 6px 12px rgba(0,0,0,.175);background-clip:padding-box}.dropdown-menu.pull-right{right:0;left:auto}.dropdown-menu .divider{height:1px;margin:8px 0;overflow:hidden;background-color:#e5e5e5}.dropdown-menu>li>a{display:block;padding:3px 20px;clear:both;font-weight:400;line-height:1.42857143;color:#333;white-space:nowrap}.dropdown-menu>li>a:focus,.dropdown-menu>li>a:hover{text-decoration:none;color:#262626;background-color:#f5f5f5}.dropdown-menu>.active>a,.dropdown-menu>.active>a:focus,.dropdown-menu>.active>a:hover{color:#fff;text-decoration:none;outline:0;background-color:#337ab7}.dropdown-menu>.disabled>a,.dropdown-menu>.disabled>a:focus,.dropdown-menu>.disabled>a:hover{color:#777}.dropdown-menu>.disabled>a:focus,.dropdown-menu>.disabled>a:hover{text-decoration:none;background-color:transparent;background-image:none;filter:progid:DXImageTransform.Microsoft.gradient(enabled=false);cursor:not-allowed}.open>.dropdown-menu{display:block}.open>a{outline:0}.dropdown-menu-right{left:auto;right:0}.dropdown-menu-left{left:0;right:auto}.dropdown-header{display:block;padding:3px 20px;font-size:12px;line-height:1.42857143;color:#777;white-space:nowrap}.dropdown-backdrop{position:fixed;left:0;right:0;bottom:0;top:0;z-index:990}.pull-right>.dropdown-menu{right:0;left:auto}.dropup .caret,.navbar-fixed-bottom .dropdown .caret{border-top:0;border-bottom:4px solid;content:""}.dropup .dropdown-menu,.navbar-fixed-bottom .dropdown .dropdown-menu{top:auto;bottom:100%;margin-bottom:2px}@media (min-width:541px){.navbar-right .dropdown-menu{left:auto;right:0}.navbar-right .dropdown-menu-left{left:0;right:auto}}.btn-group,.btn-group-vertical{position:relative;display:inline-block;vertical-align:middle}.btn-group-vertical>.btn,.btn-group>.btn{position:relative;float:left}.btn-group-vertical>.btn.active,.btn-group-vertical>.btn:active,.btn-group-vertical>.btn:focus,.btn-group-vertical>.btn:hover,.btn-group>.btn.active,.btn-group>.btn:active,.btn-group>.btn:focus,.btn-group>.btn:hover{z-index:2}.btn-group .btn+.btn,.btn-group .btn+.btn-group,.btn-group .btn-group+.btn,.btn-group .btn-group+.btn-group{margin-left:-1px}.btn-toolbar{margin-left:-5px}.btn-toolbar .btn-group,.btn-toolbar .input-group{float:left}.btn-toolbar>.btn,.btn-toolbar>.btn-group,.btn-toolbar>.input-group{margin-left:5px}.btn-group>.btn:not(:first-child):not(:last-child):not(.dropdown-toggle){border-radius:0}.btn-group>.btn:first-child{margin-left:0}.btn-group>.btn:first-child:not(:last-child):not(.dropdown-toggle){border-bottom-right-radius:0;border-top-right-radius:0}.btn-group>.btn:last-child:not(:first-child),.btn-group>.dropdown-toggle:not(:first-child){border-bottom-left-radius:0;border-top-left-radius:0}.btn-group>.btn-group{float:left}.btn-group>.btn-group:not(:first-child):not(:last-child)>.btn{border-radius:0}.btn-group>.btn-group:first-child:not(:last-child)>.btn:last-child,.btn-group>.btn-group:first-child:not(:last-child)>.dropdown-toggle{border-bottom-right-radius:0;border-top-right-radius:0}.btn-group>.btn-group:last-child:not(:first-child)>.btn:first-child{border-bottom-left-radius:0;border-top-left-radius:0}.btn-group .dropdown-toggle:active,.btn-group.open .dropdown-toggle{outline:0}.btn-group>.btn+.dropdown-toggle{padding-left:8px;padding-right:8px}.btn-group>.btn-lg+.dropdown-toggle{padding-left:12px;padding-right:12px}.btn-group.open .dropdown-toggle{-webkit-box-shadow:inset 0 3px 5px rgba(0,0,0,.125);box-shadow:inset 0 3px 5px rgba(0,0,0,.125)}.btn-group.open .dropdown-toggle.btn-link{-webkit-box-shadow:none;box-shadow:none}.btn .caret{margin-left:0}.btn-lg .caret{border-width:5px 5px 0}.dropup .btn-lg .caret{border-width:0 5px 5px}.btn-group-vertical>.btn,.btn-group-vertical>.btn-group,.btn-group-vertical>.btn-group>.btn{display:block;float:none;width:100%;max-width:100%}.btn-group-vertical>.btn-group>.btn{float:none}.btn-group-vertical>.btn+.btn,.btn-group-vertical>.btn+.btn-group,.btn-group-vertical>.btn-group+.btn,.btn-group-vertical>.btn-group+.btn-group{margin-top:-1px;margin-left:0}.btn-group-vertical>.btn:not(:first-child):not(:last-child){border-radius:0}.btn-group-vertical>.btn:first-child:not(:last-child){border-top-right-radius:2px;border-bottom-right-radius:0;border-bottom-left-radius:0}.btn-group-vertical>.btn:last-child:not(:first-child){border-bottom-left-radius:2px;border-top-right-radius:0;border-top-left-radius:0}.btn-group-vertical>.btn-group:not(:first-child):not(:last-child)>.btn{border-radius:0}.btn-group-vertical>.btn-group:first-child:not(:last-child)>.btn:last-child,.btn-group-vertical>.btn-group:first-child:not(:last-child)>.dropdown-toggle{border-bottom-right-radius:0;border-bottom-left-radius:0}.btn-group-vertical>.btn-group:last-child:not(:first-child)>.btn:first-child{border-top-right-radius:0;border-top-left-radius:0}.btn-group-justified{display:table;width:100%;table-layout:fixed;border-collapse:separate}.btn-group-justified>.btn,.btn-group-justified>.btn-group{float:none;display:table-cell;width:1%}.btn-group-justified>.btn-group .btn{width:100%}.btn-group-justified>.btn-group .dropdown-menu{left:auto}[data-toggle=buttons]>.btn input[type=checkbox],[data-toggle=buttons]>.btn input[type=radio],[data-toggle=buttons]>.btn-group>.btn input[type=checkbox],[data-toggle=buttons]>.btn-group>.btn input[type=radio]{position:absolute;clip:rect(0,0,0,0);pointer-events:none}.input-group{position:relative;display:table;border-collapse:separate}.input-group[class*=col-]{float:none;padding-left:0;padding-right:0}.input-group .form-control{position:relative;z-index:2;float:left;width:100%;margin-bottom:0}.input-group-lg>.form-control,.input-group-lg>.input-group-addon,.input-group-lg>.input-group-btn>.btn{height:45px;padding:10px 16px;font-size:17px;line-height:1.3333333;border-radius:3px}select.input-group-lg>.form-control,select.input-group-lg>.input-group-addon,select.input-group-lg>.input-group-btn>.btn{height:45px;line-height:45px}select[multiple].input-group-lg>.form-control,select[multiple].input-group-lg>.input-group-addon,select[multiple].input-group-lg>.input-group-btn>.btn,textarea.input-group-lg>.form-control,textarea.input-group-lg>.input-group-addon,textarea.input-group-lg>.input-group-btn>.btn{height:auto}.input-group-sm>.form-control,.input-group-sm>.input-group-addon,.input-group-sm>.input-group-btn>.btn{height:30px;padding:5px 10px;font-size:12px;line-height:1.5;border-radius:1px}select.input-group-sm>.form-control,select.input-group-sm>.input-group-addon,select.input-group-sm>.input-group-btn>.btn{height:30px;line-height:30px}select[multiple].input-group-sm>.form-control,select[multiple].input-group-sm>.input-group-addon,select[multiple].input-group-sm>.input-group-btn>.btn,textarea.input-group-sm>.form-control,textarea.input-group-sm>.input-group-addon,textarea.input-group-sm>.input-group-btn>.btn{height:auto}.input-group .form-control,.input-group-addon,.input-group-btn{display:table-cell}.input-group .form-control:not(:first-child):not(:last-child),.input-group-addon:not(:first-child):not(:last-child),.input-group-btn:not(:first-child):not(:last-child){border-radius:0}.input-group-addon,.input-group-btn{width:1%;white-space:nowrap;vertical-align:middle}.input-group-addon{padding:6px 12px;font-size:13px;font-weight:400;line-height:1;color:#555;text-align:center;background-color:#eee;border:1px solid #ccc;border-radius:2px}.input-group-addon.input-sm{padding:5px 10px;font-size:12px;border-radius:1px}.input-group-addon.input-lg{padding:10px 16px;font-size:17px;border-radius:3px}.input-group-addon input[type=checkbox],.input-group-addon input[type=radio]{margin-top:0}.input-group .form-control:first-child,.input-group-addon:first-child,.input-group-btn:first-child>.btn,.input-group-btn:first-child>.btn-group>.btn,.input-group-btn:first-child>.dropdown-toggle,.input-group-btn:last-child>.btn-group:not(:last-child)>.btn,.input-group-btn:last-child>.btn:not(:last-child):not(.dropdown-toggle){border-bottom-right-radius:0;border-top-right-radius:0}.input-group-addon:first-child{border-right:0}.input-group .form-control:last-child,.input-group-addon:last-child,.input-group-btn:first-child>.btn-group:not(:first-child)>.btn,.input-group-btn:first-child>.btn:not(:first-child),.input-group-btn:last-child>.btn,.input-group-btn:last-child>.btn-group>.btn,.input-group-btn:last-child>.dropdown-toggle{border-bottom-left-radius:0;border-top-left-radius:0}.input-group-addon:last-child{border-left:0}.input-group-btn{position:relative;font-size:0;white-space:nowrap}.input-group-btn>.btn{position:relative}.input-group-btn>.btn+.btn{margin-left:-1px}.input-group-btn>.btn:active,.input-group-btn>.btn:focus,.input-group-btn>.btn:hover{z-index:2}.input-group-btn:first-child>.btn,.input-group-btn:first-child>.btn-group{margin-right:-1px}.input-group-btn:last-child>.btn,.input-group-btn:last-child>.btn-group{margin-left:-1px}.nav{margin-bottom:0;padding-left:0;list-style:none}.nav>li{position:relative;display:block}.nav>li>a{position:relative;display:block;padding:10px 15px}.nav>li>a:focus,.nav>li>a:hover{text-decoration:none;background-color:#eee}.nav>li.disabled>a{color:#777}.nav>li.disabled>a:focus,.nav>li.disabled>a:hover{color:#777;text-decoration:none;background-color:transparent;cursor:not-allowed}.nav .open>a,.nav .open>a:focus,.nav .open>a:hover{background-color:#eee;border-color:#337ab7}.nav .nav-divider{height:1px;margin:8px 0;overflow:hidden;background-color:#e5e5e5}.nav>li>a>img{max-width:none}.nav-tabs{border-bottom:1px solid #ddd}.nav-tabs>li{float:left;margin-bottom:-1px}.nav-tabs>li>a{margin-right:2px;line-height:1.42857143;border:1px solid transparent;border-radius:2px 2px 0 0}.nav-tabs>li>a:hover{border-color:#eee #eee #ddd}.nav-tabs>li.active>a,.nav-tabs>li.active>a:focus,.nav-tabs>li.active>a:hover{color:#555;background-color:#fff;border:1px solid #ddd;border-bottom-color:transparent;cursor:default}.nav-tabs.nav-justified{width:100%;border-bottom:0}.nav-tabs.nav-justified>li{float:none}.nav-tabs.nav-justified>li>a{text-align:center;margin-bottom:5px;margin-right:0;border-radius:2px}.nav-tabs.nav-justified>.dropdown .dropdown-menu{top:auto;left:auto}.nav-tabs.nav-justified>.active>a,.nav-tabs.nav-justified>.active>a:focus,.nav-tabs.nav-justified>.active>a:hover{border:1px solid #ddd}@media (min-width:768px){.nav-tabs.nav-justified>li{display:table-cell;width:1%}.nav-tabs.nav-justified>li>a{margin-bottom:0;border-bottom:1px solid #ddd;border-radius:2px 2px 0 0}.nav-tabs.nav-justified>.active>a,.nav-tabs.nav-justified>.active>a:focus,.nav-tabs.nav-justified>.active>a:hover{border-bottom-color:#fff}}.nav-pills>li{float:left}.nav-pills>li>a{border-radius:2px}.nav-pills>li+li{margin-left:2px}.nav-pills>li.active>a,.nav-pills>li.active>a:focus,.nav-pills>li.active>a:hover{color:#fff;background-color:#337ab7}.nav-stacked>li{float:none}.nav-stacked>li+li{margin-top:2px;margin-left:0}.nav-justified{width:100%}.nav-justified>li{float:none}.nav-justified>li>a{text-align:center;margin-bottom:5px}.nav-justified>.dropdown .dropdown-menu{top:auto;left:auto}.nav-tabs-justified{border-bottom:0}.nav-tabs-justified>li>a{margin-right:0;border-radius:2px}.nav-tabs-justified>.active>a,.nav-tabs-justified>.active>a:focus,.nav-tabs-justified>.active>a:hover{border:1px solid #ddd}@media (min-width:768px){.nav-justified>li{display:table-cell;width:1%}.nav-justified>li>a{margin-bottom:0}.nav-tabs-justified>li>a{border-bottom:1px solid #ddd;border-radius:2px 2px 0 0}.nav-tabs-justified>.active>a,.nav-tabs-justified>.active>a:focus,.nav-tabs-justified>.active>a:hover{border-bottom-color:#fff}}.tab-content>.tab-pane{display:none}.tab-content>.active{display:block}.nav-tabs .dropdown-menu{margin-top:-1px;border-top-right-radius:0;border-top-left-radius:0}.navbar{position:relative;min-height:30px;margin-bottom:18px;border:1px solid transparent}.navbar-collapse{overflow-x:visible;padding-right:0;padding-left:0;border-top:1px solid transparent;box-shadow:inset 0 1px 0 rgba(255,255,255,.1);-webkit-overflow-scrolling:touch}.navbar-collapse.in{overflow-y:auto}.navbar-fixed-bottom .navbar-collapse,.navbar-fixed-top .navbar-collapse{max-height:340px}@media (max-device-width:540px)and (orientation:landscape){.navbar-fixed-bottom .navbar-collapse,.navbar-fixed-top .navbar-collapse{max-height:200px}}.container-fluid>.navbar-collapse,.container-fluid>.navbar-header,.container>.navbar-collapse,.container>.navbar-header{margin-right:0;margin-left:0}.navbar-static-top{z-index:1000;border-width:0 0 1px}.navbar-fixed-bottom,.navbar-fixed-top{position:fixed;right:0;left:0;z-index:1030}@media (min-width:541px){.navbar{border-radius:2px}.navbar-header{float:left}.navbar-collapse{width:auto;border-top:0;box-shadow:none}.navbar-collapse.collapse{display:block!important;height:auto!important;padding-bottom:0;overflow:visible!important}.navbar-collapse.in{overflow-y:visible}.navbar-fixed-bottom .navbar-collapse,.navbar-fixed-top .navbar-collapse,.navbar-static-top .navbar-collapse{padding-left:0;padding-right:0}.container-fluid>.navbar-collapse,.container-fluid>.navbar-header,.container>.navbar-collapse,.container>.navbar-header{margin-right:0;margin-left:0}.navbar-fixed-bottom,.navbar-fixed-top,.navbar-static-top{border-radius:0}}.navbar-fixed-top{top:0;border-width:0 0 1px}.navbar-fixed-bottom{bottom:0;margin-bottom:0;border-width:1px 0 0}.navbar-brand{float:left;padding:6px 0;font-size:17px;line-height:18px;height:30px}.navbar-brand:focus,.navbar-brand:hover{text-decoration:none}.navbar-brand>img{display:block}.navbar-toggle{position:relative;float:right;margin-right:0;padding:9px 10px;margin-top:-2px;margin-bottom:-2px;background-color:transparent;background-image:none;border:1px solid transparent;border-radius:2px}.navbar-toggle:focus{outline:0}.navbar-toggle .icon-bar{display:block;width:22px;height:2px;border-radius:1px}.navbar-toggle .icon-bar+.icon-bar{margin-top:4px}@media (min-width:541px){.navbar>.container .navbar-brand,.navbar>.container-fluid .navbar-brand{margin-left:0}.navbar-toggle{display:none}}.navbar-nav{margin:3px 0}.navbar-nav>li>a{padding-top:10px;padding-bottom:10px;line-height:18px}@media (max-width:540px){.navbar-nav .open .dropdown-menu{position:static;float:none;width:auto;margin-top:0;background-color:transparent;border:0;box-shadow:none}.navbar-nav .open .dropdown-menu .dropdown-header,.navbar-nav .open .dropdown-menu>li>a{padding:5px 15px 5px 25px}.navbar-nav .open .dropdown-menu>li>a{line-height:18px}.navbar-nav .open .dropdown-menu>li>a:focus,.navbar-nav .open .dropdown-menu>li>a:hover{background-image:none}}@media (min-width:541px){.navbar-nav{float:left;margin:0}.navbar-nav>li{float:left}.navbar-nav>li>a{padding-top:6px;padding-bottom:6px}}.navbar-form{padding:10px 0;border-top:1px solid transparent;border-bottom:1px solid transparent;-webkit-box-shadow:inset 0 1px 0 rgba(255,255,255,.1),0 1px 0 rgba(255,255,255,.1);box-shadow:inset 0 1px 0 rgba(255,255,255,.1),0 1px 0 rgba(255,255,255,.1);margin:-1px 0}@media (min-width:768px){.navbar-form .form-group{display:inline-block;margin-bottom:0;vertical-align:middle}.navbar-form .form-control{display:inline-block;width:auto;vertical-align:middle}.navbar-form .form-control-static{display:inline-block}.navbar-form .input-group{display:inline-table;vertical-align:middle}.navbar-form .input-group .form-control,.navbar-form .input-group .input-group-addon,.navbar-form .input-group .input-group-btn{width:auto}.navbar-form .input-group>.form-control{width:100%}.navbar-form .control-label{margin-bottom:0;vertical-align:middle}.navbar-form .checkbox,.navbar-form .radio{display:inline-block;margin-top:0;margin-bottom:0;vertical-align:middle}.navbar-form .checkbox label,.navbar-form .radio label{padding-left:0}.navbar-form .checkbox input[type=checkbox],.navbar-form .radio input[type=radio]{position:relative;margin-left:0}.navbar-form .has-feedback .form-control-feedback{top:0}}@media (max-width:540px){.navbar-form .form-group{margin-bottom:5px}.navbar-form .form-group:last-child{margin-bottom:0}}.navbar-nav>li>.dropdown-menu{margin-top:0;border-top-right-radius:0;border-top-left-radius:0}.navbar-fixed-bottom .navbar-nav>li>.dropdown-menu{margin-bottom:0;border-radius:2px 2px 0 0}.navbar-btn{margin-top:-1px;margin-bottom:-1px}.navbar-btn.btn-sm{margin-top:0;margin-bottom:0}.navbar-btn.btn-xs{margin-top:4px;margin-bottom:4px}.navbar-text{margin-top:6px;margin-bottom:6px}@media (min-width:541px){.navbar-form{width:auto;border:0;margin-left:0;margin-right:0;padding-top:0;padding-bottom:0;-webkit-box-shadow:none;box-shadow:none}.navbar-text{float:left;margin-left:0;margin-right:0}.navbar-left{float:left!important;float:left}.navbar-right{float:right!important;float:right;margin-right:0}.navbar-right~.navbar-right{margin-right:0}}.navbar-default{background-color:#f8f8f8;border-color:#e7e7e7}.navbar-default .navbar-brand{color:#777}.navbar-default .navbar-brand:focus,.navbar-default .navbar-brand:hover{color:#5e5e5e;background-color:transparent}.navbar-default .navbar-nav>li>a,.navbar-default .navbar-text{color:#777}.navbar-default .navbar-nav>li>a:focus,.navbar-default .navbar-nav>li>a:hover{color:#333;background-color:transparent}.navbar-default .navbar-nav>.active>a,.navbar-default .navbar-nav>.active>a:focus,.navbar-default .navbar-nav>.active>a:hover{color:#555;background-color:#e7e7e7}.navbar-default .navbar-nav>.disabled>a,.navbar-default .navbar-nav>.disabled>a:focus,.navbar-default .navbar-nav>.disabled>a:hover{color:#ccc;background-color:transparent}.navbar-default .navbar-toggle{border-color:#ddd}.navbar-default .navbar-toggle:focus,.navbar-default .navbar-toggle:hover{background-color:#ddd}.navbar-default .navbar-toggle .icon-bar{background-color:#888}.navbar-default .navbar-collapse,.navbar-default .navbar-form{border-color:#e7e7e7}.navbar-default .navbar-nav>.open>a,.navbar-default .navbar-nav>.open>a:focus,.navbar-default .navbar-nav>.open>a:hover{background-color:#e7e7e7;color:#555}@media (max-width:540px){.navbar-default .navbar-nav .open .dropdown-menu>li>a{color:#777}.navbar-default .navbar-nav .open .dropdown-menu>li>a:focus,.navbar-default .navbar-nav .open .dropdown-menu>li>a:hover{color:#333;background-color:transparent}.navbar-default .navbar-nav .open .dropdown-menu>.active>a,.navbar-default .navbar-nav .open .dropdown-menu>.active>a:focus,.navbar-default .navbar-nav .open .dropdown-menu>.active>a:hover{color:#555;background-color:#e7e7e7}.navbar-default .navbar-nav .open .dropdown-menu>.disabled>a,.navbar-default .navbar-nav .open .dropdown-menu>.disabled>a:focus,.navbar-default .navbar-nav .open .dropdown-menu>.disabled>a:hover{color:#ccc;background-color:transparent}}.navbar-default .navbar-link{color:#777}.navbar-default .navbar-link:hover{color:#333}.navbar-default .btn-link{color:#777}.navbar-default .btn-link:focus,.navbar-default .btn-link:hover{color:#333}.navbar-default .btn-link[disabled]:focus,.navbar-default .btn-link[disabled]:hover,fieldset[disabled] .navbar-default .btn-link:focus,fieldset[disabled] .navbar-default .btn-link:hover{color:#ccc}.navbar-inverse{background-color:#222;border-color:#080808}.navbar-inverse .navbar-brand{color:#9d9d9d}.navbar-inverse .navbar-brand:focus,.navbar-inverse .navbar-brand:hover{color:#fff;background-color:transparent}.navbar-inverse .navbar-nav>li>a,.navbar-inverse .navbar-text{color:#9d9d9d}.navbar-inverse .navbar-nav>li>a:focus,.navbar-inverse .navbar-nav>li>a:hover{color:#fff;background-color:transparent}.navbar-inverse .navbar-nav>.active>a,.navbar-inverse .navbar-nav>.active>a:focus,.navbar-inverse .navbar-nav>.active>a:hover{color:#fff;background-color:#080808}.navbar-inverse .navbar-nav>.disabled>a,.navbar-inverse .navbar-nav>.disabled>a:focus,.navbar-inverse .navbar-nav>.disabled>a:hover{color:#444;background-color:transparent}.navbar-inverse .navbar-toggle{border-color:#333}.navbar-inverse .navbar-toggle:focus,.navbar-inverse .navbar-toggle:hover{background-color:#333}.navbar-inverse .navbar-toggle .icon-bar{background-color:#fff}.navbar-inverse .navbar-collapse,.navbar-inverse .navbar-form{border-color:#101010}.navbar-inverse .navbar-nav>.open>a,.navbar-inverse .navbar-nav>.open>a:focus,.navbar-inverse .navbar-nav>.open>a:hover{background-color:#080808;color:#fff}@media (max-width:540px){.navbar-inverse .navbar-nav .open .dropdown-menu>.dropdown-header{border-color:#080808}.navbar-inverse .navbar-nav .open .dropdown-menu .divider{background-color:#080808}.navbar-inverse .navbar-nav .open .dropdown-menu>li>a{color:#9d9d9d}.navbar-inverse .navbar-nav .open .dropdown-menu>li>a:focus,.navbar-inverse .navbar-nav .open .dropdown-menu>li>a:hover{color:#fff;background-color:transparent}.navbar-inverse .navbar-nav .open .dropdown-menu>.active>a,.navbar-inverse .navbar-nav .open .dropdown-menu>.active>a:focus,.navbar-inverse .navbar-nav .open .dropdown-menu>.active>a:hover{color:#fff;background-color:#080808}.navbar-inverse .navbar-nav .open .dropdown-menu>.disabled>a,.navbar-inverse .navbar-nav .open .dropdown-menu>.disabled>a:focus,.navbar-inverse .navbar-nav .open .dropdown-menu>.disabled>a:hover{color:#444;background-color:transparent}}.navbar-inverse .navbar-link{color:#9d9d9d}.navbar-inverse .navbar-link:hover{color:#fff}.navbar-inverse .btn-link{color:#9d9d9d}.navbar-inverse .btn-link:focus,.navbar-inverse .btn-link:hover{color:#fff}.navbar-inverse .btn-link[disabled]:focus,.navbar-inverse .btn-link[disabled]:hover,fieldset[disabled] .navbar-inverse .btn-link:focus,fieldset[disabled] .navbar-inverse .btn-link:hover{color:#444}.breadcrumb{padding:8px 15px;margin-bottom:18px;list-style:none;background-color:#f5f5f5;border-radius:2px}.breadcrumb>li{display:inline-block}.breadcrumb>li+li:before{content:"/\00a0";padding:0 5px;color:#5e5e5e}.breadcrumb>.active{color:#777}.pagination{display:inline-block;padding-left:0;margin:18px 0;border-radius:2px}.pagination>li{display:inline}.pagination>li>a,.pagination>li>span{position:relative;float:left;padding:6px 12px;line-height:1.42857143;text-decoration:none;color:#337ab7;background-color:#fff;border:1px solid #ddd;margin-left:-1px}.pagination>li:first-child>a,.pagination>li:first-child>span{margin-left:0;border-bottom-left-radius:2px;border-top-left-radius:2px}.pagination>li:last-child>a,.pagination>li:last-child>span{border-bottom-right-radius:2px;border-top-right-radius:2px}.pagination>li>a:focus,.pagination>li>a:hover,.pagination>li>span:focus,.pagination>li>span:hover{color:#23527c;background-color:#eee;border-color:#ddd}.pagination>.active>a,.pagination>.active>a:focus,.pagination>.active>a:hover,.pagination>.active>span,.pagination>.active>span:focus,.pagination>.active>span:hover{z-index:2;color:#fff;background-color:#337ab7;border-color:#337ab7;cursor:default}.pagination>.disabled>a,.pagination>.disabled>a:focus,.pagination>.disabled>a:hover,.pagination>.disabled>span,.pagination>.disabled>span:focus,.pagination>.disabled>span:hover{color:#777;background-color:#fff;border-color:#ddd;cursor:not-allowed}.pagination-lg>li>a,.pagination-lg>li>span{padding:10px 16px;font-size:17px}.pagination-lg>li:first-child>a,.pagination-lg>li:first-child>span{border-bottom-left-radius:3px;border-top-left-radius:3px}.pagination-lg>li:last-child>a,.pagination-lg>li:last-child>span{border-bottom-right-radius:3px;border-top-right-radius:3px}.pagination-sm>li>a,.pagination-sm>li>span{padding:5px 10px;font-size:12px}.pagination-sm>li:first-child>a,.pagination-sm>li:first-child>span{border-bottom-left-radius:1px;border-top-left-radius:1px}.pagination-sm>li:last-child>a,.pagination-sm>li:last-child>span{border-bottom-right-radius:1px;border-top-right-radius:1px}.pager{padding-left:0;margin:18px 0;list-style:none;text-align:center}.pager li{display:inline}.pager li>a,.pager li>span{display:inline-block;padding:5px 14px;background-color:#fff;border:1px solid #ddd;border-radius:15px}.pager li>a:focus,.pager li>a:hover{text-decoration:none;background-color:#eee}.pager .next>a,.pager .next>span{float:right}.pager .previous>a,.pager .previous>span{float:left}.pager .disabled>a,.pager .disabled>a:focus,.pager .disabled>a:hover,.pager .disabled>span{color:#777;background-color:#fff;cursor:not-allowed}.label{display:inline;padding:.2em .6em .3em;font-size:75%;font-weight:700;line-height:1;color:#fff;text-align:center;white-space:nowrap;vertical-align:baseline;border-radius:.25em}a.label:focus,a.label:hover{color:#fff;text-decoration:none;cursor:pointer}.label:empty{display:none}.btn .label{position:relative;top:-1px}.label-default{background-color:#777}.label-default[href]:focus,.label-default[href]:hover{background-color:#5e5e5e}.label-primary{background-color:#337ab7}.label-primary[href]:focus,.label-primary[href]:hover{background-color:#286090}.label-success{background-color:#5cb85c}.label-success[href]:focus,.label-success[href]:hover{background-color:#449d44}.label-info{background-color:#5bc0de}.label-info[href]:focus,.label-info[href]:hover{background-color:#31b0d5}.label-warning{background-color:#f0ad4e}.label-warning[href]:focus,.label-warning[href]:hover{background-color:#ec971f}.label-danger{background-color:#d9534f}.label-danger[href]:focus,.label-danger[href]:hover{background-color:#c9302c}.badge{display:inline-block;min-width:10px;padding:3px 7px;font-size:12px;font-weight:700;color:#fff;line-height:1;vertical-align:baseline;white-space:nowrap;text-align:center;background-color:#777;border-radius:10px}.badge:empty{display:none}.btn .badge{position:relative;top:-1px}.btn-group-xs>.btn .badge,.btn-xs .badge{top:0;padding:1px 5px}a.badge:focus,a.badge:hover{color:#fff;text-decoration:none;cursor:pointer}.list-group-item.active>.badge,.nav-pills>.active>a>.badge{color:#337ab7;background-color:#fff}.list-group-item>.badge{float:right}.list-group-item>.badge+.badge{margin-right:5px}.nav-pills>li>a>.badge{margin-left:3px}.jumbotron{padding:30px 15px;margin-bottom:30px;color:inherit;background-color:#eee}.jumbotron .h1,.jumbotron h1{color:inherit}.jumbotron p{margin-bottom:15px;font-size:20px;font-weight:200}.jumbotron>hr{border-top-color:#d5d5d5}.container .jumbotron,.container-fluid .jumbotron{border-radius:3px}.jumbotron .container{max-width:100%}@media screen and (min-width:768px){.jumbotron{padding:48px 0}.container .jumbotron,.container-fluid .jumbotron{padding-left:60px;padding-right:60px}.jumbotron .h1,.jumbotron h1{font-size:58.5px}}.thumbnail{display:block;padding:4px;margin-bottom:18px;line-height:1.42857143;background-color:#fff;border:1px solid #ddd;border-radius:2px;-webkit-transition:border .2s ease-in-out;-o-transition:border .2s ease-in-out;transition:border .2s ease-in-out}.thumbnail a>img,.thumbnail>img{margin-left:auto;margin-right:auto}a.thumbnail.active,a.thumbnail:focus,a.thumbnail:hover{border-color:#337ab7}.thumbnail .caption{padding:9px;color:#000}.alert{padding:15px;margin-bottom:18px;border:1px solid transparent;border-radius:2px}.alert h4{margin-top:0;color:inherit}.alert .alert-link{font-weight:700}.alert>p,.alert>ul{margin-bottom:0}.alert>p+p{margin-top:5px}.alert-dismissable,.alert-dismissible{padding-right:35px}.alert-dismissable .close,.alert-dismissible .close{position:relative;top:-2px;right:-21px;color:inherit}.alert-success{background-color:#dff0d8;border-color:#d6e9c6;color:#3c763d}.alert-success hr{border-top-color:#c9e2b3}.alert-success .alert-link{color:#2b542c}.alert-info{background-color:#d9edf7;border-color:#bce8f1;color:#31708f}.alert-info hr{border-top-color:#a6e1ec}.alert-info .alert-link{color:#245269}.alert-warning{background-color:#fcf8e3;border-color:#faebcc;color:#8a6d3b}.alert-warning hr{border-top-color:#f7e1b5}.alert-warning .alert-link{color:#66512c}.alert-danger{background-color:#f2dede;border-color:#ebccd1;color:#a94442}.alert-danger hr{border-top-color:#e4b9c0}.alert-danger .alert-link{color:#843534}@-webkit-keyframes progress-bar-stripes{from{background-position:40px 0}to{background-position:0 0}}@keyframes progress-bar-stripes{from{background-position:40px 0}to{background-position:0 0}}.progress{overflow:hidden;height:18px;margin-bottom:18px;background-color:#f5f5f5;border-radius:2px;-webkit-box-shadow:inset 0 1px 2px rgba(0,0,0,.1);box-shadow:inset 0 1px 2px rgba(0,0,0,.1)}.progress-bar{float:left;width:0;height:100%;font-size:12px;line-height:18px;color:#fff;text-align:center;background-color:#337ab7;-webkit-box-shadow:inset 0 -1px 0 rgba(0,0,0,.15);box-shadow:inset 0 -1px 0 rgba(0,0,0,.15);-webkit-transition:width .6s ease;-o-transition:width .6s ease;transition:width .6s ease}.progress-bar-striped,.progress-striped .progress-bar{background-image:-webkit-linear-gradient(45deg,rgba(255,255,255,.15) 25%,transparent 25%,transparent 50%,rgba(255,255,255,.15) 50%,rgba(255,255,255,.15) 75%,transparent 75%,transparent);background-image:-o-linear-gradient(45deg,rgba(255,255,255,.15) 25%,transparent 25%,transparent 50%,rgba(255,255,255,.15) 50%,rgba(255,255,255,.15) 75%,transparent 75%,transparent);background-image:linear-gradient(45deg,rgba(255,255,255,.15) 25%,transparent 25%,transparent 50%,rgba(255,255,255,.15) 50%,rgba(255,255,255,.15) 75%,transparent 75%,transparent);background-size:40px 40px}.progress-bar.active,.progress.active .progress-bar{-webkit-animation:progress-bar-stripes 2s linear infinite;-o-animation:progress-bar-stripes 2s linear infinite;animation:progress-bar-stripes 2s linear infinite}.progress-bar-success{background-color:#5cb85c}.progress-striped .progress-bar-success{background-image:-webkit-linear-gradient(45deg,rgba(255,255,255,.15) 25%,transparent 25%,transparent 50%,rgba(255,255,255,.15) 50%,rgba(255,255,255,.15) 75%,transparent 75%,transparent);background-image:-o-linear-gradient(45deg,rgba(255,255,255,.15) 25%,transparent 25%,transparent 50%,rgba(255,255,255,.15) 50%,rgba(255,255,255,.15) 75%,transparent 75%,transparent);background-image:linear-gradient(45deg,rgba(255,255,255,.15) 25%,transparent 25%,transparent 50%,rgba(255,255,255,.15) 50%,rgba(255,255,255,.15) 75%,transparent 75%,transparent)}.progress-bar-info{background-color:#5bc0de}.progress-striped .progress-bar-info{background-image:-webkit-linear-gradient(45deg,rgba(255,255,255,.15) 25%,transparent 25%,transparent 50%,rgba(255,255,255,.15) 50%,rgba(255,255,255,.15) 75%,transparent 75%,transparent);background-image:-o-linear-gradient(45deg,rgba(255,255,255,.15) 25%,transparent 25%,transparent 50%,rgba(255,255,255,.15) 50%,rgba(255,255,255,.15) 75%,transparent 75%,transparent);background-image:linear-gradient(45deg,rgba(255,255,255,.15) 25%,transparent 25%,transparent 50%,rgba(255,255,255,.15) 50%,rgba(255,255,255,.15) 75%,transparent 75%,transparent)}.progress-bar-warning{background-color:#f0ad4e}.progress-striped .progress-bar-warning{background-image:-webkit-linear-gradient(45deg,rgba(255,255,255,.15) 25%,transparent 25%,transparent 50%,rgba(255,255,255,.15) 50%,rgba(255,255,255,.15) 75%,transparent 75%,transparent);background-image:-o-linear-gradient(45deg,rgba(255,255,255,.15) 25%,transparent 25%,transparent 50%,rgba(255,255,255,.15) 50%,rgba(255,255,255,.15) 75%,transparent 75%,transparent);background-image:linear-gradient(45deg,rgba(255,255,255,.15) 25%,transparent 25%,transparent 50%,rgba(255,255,255,.15) 50%,rgba(255,255,255,.15) 75%,transparent 75%,transparent)}.progress-bar-danger{background-color:#d9534f}.progress-striped .progress-bar-danger{background-image:-webkit-linear-gradient(45deg,rgba(255,255,255,.15) 25%,transparent 25%,transparent 50%,rgba(255,255,255,.15) 50%,rgba(255,255,255,.15) 75%,transparent 75%,transparent);background-image:-o-linear-gradient(45deg,rgba(255,255,255,.15) 25%,transparent 25%,transparent 50%,rgba(255,255,255,.15) 50%,rgba(255,255,255,.15) 75%,transparent 75%,transparent);background-image:linear-gradient(45deg,rgba(255,255,255,.15) 25%,transparent 25%,transparent 50%,rgba(255,255,255,.15) 50%,rgba(255,255,255,.15) 75%,transparent 75%,transparent)}.media{margin-top:15px}.media:first-child{margin-top:0}.media,.media-body{zoom:1;overflow:hidden}.media-body{width:10000px}.media-object{display:block}.media-right,.media>.pull-right{padding-left:10px}.media-left,.media>.pull-left{padding-right:10px}.media-body,.media-left,.media-right{display:table-cell;vertical-align:top}.media-middle{vertical-align:middle}.media-bottom{vertical-align:bottom}.media-heading{margin-top:0;margin-bottom:5px}.media-list{padding-left:0;list-style:none}.list-group{margin-bottom:20px;padding-left:0}.list-group-item{position:relative;display:block;padding:10px 15px;margin-bottom:-1px;background-color:#fff;border:1px solid #ddd}.list-group-item:first-child{border-top-right-radius:2px;border-top-left-radius:2px}.list-group-item:last-child{margin-bottom:0;border-bottom-right-radius:2px;border-bottom-left-radius:2px}a.list-group-item{color:#555}a.list-group-item .list-group-item-heading{color:#333}a.list-group-item:focus,a.list-group-item:hover{text-decoration:none;color:#555;background-color:#f5f5f5}.list-group-item.disabled,.list-group-item.disabled:focus,.list-group-item.disabled:hover{background-color:#eee;color:#777;cursor:not-allowed}.list-group-item.disabled .list-group-item-heading,.list-group-item.disabled:focus .list-group-item-heading,.list-group-item.disabled:hover .list-group-item-heading{color:inherit}.list-group-item.disabled .list-group-item-text,.list-group-item.disabled:focus .list-group-item-text,.list-group-item.disabled:hover .list-group-item-text{color:#777}.list-group-item.active,.list-group-item.active:focus,.list-group-item.active:hover{z-index:2;color:#fff;background-color:#337ab7;border-color:#337ab7}.list-group-item.active .list-group-item-heading,.list-group-item.active .list-group-item-heading>.small,.list-group-item.active .list-group-item-heading>small,.list-group-item.active:focus .list-group-item-heading,.list-group-item.active:focus .list-group-item-heading>.small,.list-group-item.active:focus .list-group-item-heading>small,.list-group-item.active:hover .list-group-item-heading,.list-group-item.active:hover .list-group-item-heading>.small,.list-group-item.active:hover .list-group-item-heading>small{color:inherit}.list-group-item.active .list-group-item-text,.list-group-item.active:focus .list-group-item-text,.list-group-item.active:hover .list-group-item-text{color:#c7ddef}.list-group-item-success{color:#3c763d;background-color:#dff0d8}a.list-group-item-success{color:#3c763d}a.list-group-item-success .list-group-item-heading{color:inherit}a.list-group-item-success:focus,a.list-group-item-success:hover{color:#3c763d;background-color:#d0e9c6}a.list-group-item-success.active,a.list-group-item-success.active:focus,a.list-group-item-success.active:hover{color:#fff;background-color:#3c763d;border-color:#3c763d}.list-group-item-info{color:#31708f;background-color:#d9edf7}a.list-group-item-info{color:#31708f}a.list-group-item-info .list-group-item-heading{color:inherit}a.list-group-item-info:focus,a.list-group-item-info:hover{color:#31708f;background-color:#c4e3f3}a.list-group-item-info.active,a.list-group-item-info.active:focus,a.list-group-item-info.active:hover{color:#fff;background-color:#31708f;border-color:#31708f}.list-group-item-warning{color:#8a6d3b;background-color:#fcf8e3}a.list-group-item-warning{color:#8a6d3b}a.list-group-item-warning .list-group-item-heading{color:inherit}a.list-group-item-warning:focus,a.list-group-item-warning:hover{color:#8a6d3b;background-color:#faf2cc}a.list-group-item-warning.active,a.list-group-item-warning.active:focus,a.list-group-item-warning.active:hover{color:#fff;background-color:#8a6d3b;border-color:#8a6d3b}.list-group-item-danger{color:#a94442;background-color:#f2dede}a.list-group-item-danger{color:#a94442}a.list-group-item-danger .list-group-item-heading{color:inherit}a.list-group-item-danger:focus,a.list-group-item-danger:hover{color:#a94442;background-color:#ebcccc}a.list-group-item-danger.active,a.list-group-item-danger.active:focus,a.list-group-item-danger.active:hover{color:#fff;background-color:#a94442;border-color:#a94442}.list-group-item-heading{margin-top:0;margin-bottom:5px}.list-group-item-text{margin-bottom:0;line-height:1.3}.panel{margin-bottom:18px;background-color:#fff;border:1px solid transparent;border-radius:2px;-webkit-box-shadow:0 1px 1px rgba(0,0,0,.05);box-shadow:0 1px 1px rgba(0,0,0,.05)}.panel-body{padding:15px}.panel-heading{padding:10px 15px;border-bottom:1px solid transparent;border-top-right-radius:1px;border-top-left-radius:1px}.panel-heading>.dropdown .dropdown-toggle{color:inherit}.panel-title{margin-top:0;margin-bottom:0;font-size:15px;color:inherit}.panel-title>.small,.panel-title>.small>a,.panel-title>a,.panel-title>small,.panel-title>small>a{color:inherit}.panel-footer{padding:10px 15px;background-color:#f5f5f5;border-top:1px solid #ddd;border-bottom-right-radius:1px;border-bottom-left-radius:1px}.panel>.list-group,.panel>.panel-collapse>.list-group{margin-bottom:0}.panel>.list-group .list-group-item,.panel>.panel-collapse>.list-group .list-group-item{border-width:1px 0;border-radius:0}.panel>.list-group:first-child .list-group-item:first-child,.panel>.panel-collapse>.list-group:first-child .list-group-item:first-child{border-top:0;border-top-right-radius:1px;border-top-left-radius:1px}.panel>.list-group:last-child .list-group-item:last-child,.panel>.panel-collapse>.list-group:last-child .list-group-item:last-child{border-bottom:0;border-bottom-right-radius:1px;border-bottom-left-radius:1px}.list-group+.panel-footer,.panel-heading+.list-group .list-group-item:first-child{border-top-width:0}.panel>.panel-collapse>.table,.panel>.table,.panel>.table-responsive>.table{margin-bottom:0}.panel>.panel-collapse>.table caption,.panel>.table caption,.panel>.table-responsive>.table caption{padding-left:15px;padding-right:15px}.panel>.table-responsive:first-child>.table:first-child,.panel>.table:first-child{border-top-right-radius:1px;border-top-left-radius:1px}.panel>.table-responsive:first-child>.table:first-child>tbody:first-child>tr:first-child,.panel>.table-responsive:first-child>.table:first-child>thead:first-child>tr:first-child,.panel>.table:first-child>tbody:first-child>tr:first-child,.panel>.table:first-child>thead:first-child>tr:first-child{border-top-left-radius:1px;border-top-right-radius:1px}.panel>.table-responsive:first-child>.table:first-child>tbody:first-child>tr:first-child td:first-child,.panel>.table-responsive:first-child>.table:first-child>tbody:first-child>tr:first-child th:first-child,.panel>.table-responsive:first-child>.table:first-child>thead:first-child>tr:first-child td:first-child,.panel>.table-responsive:first-child>.table:first-child>thead:first-child>tr:first-child th:first-child,.panel>.table:first-child>tbody:first-child>tr:first-child td:first-child,.panel>.table:first-child>tbody:first-child>tr:first-child th:first-child,.panel>.table:first-child>thead:first-child>tr:first-child td:first-child,.panel>.table:first-child>thead:first-child>tr:first-child th:first-child{border-top-left-radius:1px}.panel>.table-responsive:first-child>.table:first-child>tbody:first-child>tr:first-child td:last-child,.panel>.table-responsive:first-child>.table:first-child>tbody:first-child>tr:first-child th:last-child,.panel>.table-responsive:first-child>.table:first-child>thead:first-child>tr:first-child td:last-child,.panel>.table-responsive:first-child>.table:first-child>thead:first-child>tr:first-child th:last-child,.panel>.table:first-child>tbody:first-child>tr:first-child td:last-child,.panel>.table:first-child>tbody:first-child>tr:first-child th:last-child,.panel>.table:first-child>thead:first-child>tr:first-child td:last-child,.panel>.table:first-child>thead:first-child>tr:first-child th:last-child{border-top-right-radius:1px}.panel>.table-responsive:last-child>.table:last-child,.panel>.table:last-child{border-bottom-right-radius:1px;border-bottom-left-radius:1px}.panel>.table-responsive:last-child>.table:last-child>tbody:last-child>tr:last-child,.panel>.table-responsive:last-child>.table:last-child>tfoot:last-child>tr:last-child,.panel>.table:last-child>tbody:last-child>tr:last-child,.panel>.table:last-child>tfoot:last-child>tr:last-child{border-bottom-left-radius:1px;border-bottom-right-radius:1px}.panel>.table-responsive:last-child>.table:last-child>tbody:last-child>tr:last-child td:first-child,.panel>.table-responsive:last-child>.table:last-child>tbody:last-child>tr:last-child th:first-child,.panel>.table-responsive:last-child>.table:last-child>tfoot:last-child>tr:last-child td:first-child,.panel>.table-responsive:last-child>.table:last-child>tfoot:last-child>tr:last-child th:first-child,.panel>.table:last-child>tbody:last-child>tr:last-child td:first-child,.panel>.table:last-child>tbody:last-child>tr:last-child th:first-child,.panel>.table:last-child>tfoot:last-child>tr:last-child td:first-child,.panel>.table:last-child>tfoot:last-child>tr:last-child th:first-child{border-bottom-left-radius:1px}.panel>.table-responsive:last-child>.table:last-child>tbody:last-child>tr:last-child td:last-child,.panel>.table-responsive:last-child>.table:last-child>tbody:last-child>tr:last-child th:last-child,.panel>.table-responsive:last-child>.table:last-child>tfoot:last-child>tr:last-child td:last-child,.panel>.table-responsive:last-child>.table:last-child>tfoot:last-child>tr:last-child th:last-child,.panel>.table:last-child>tbody:last-child>tr:last-child td:last-child,.panel>.table:last-child>tbody:last-child>tr:last-child th:last-child,.panel>.table:last-child>tfoot:last-child>tr:last-child td:last-child,.panel>.table:last-child>tfoot:last-child>tr:last-child th:last-child{border-bottom-right-radius:1px}.panel>.panel-body+.table,.panel>.panel-body+.table-responsive,.panel>.table+.panel-body,.panel>.table-responsive+.panel-body{border-top:1px solid #ddd}.panel>.table>tbody:first-child>tr:first-child td,.panel>.table>tbody:first-child>tr:first-child th{border-top:0}.panel>.table-bordered,.panel>.table-responsive>.table-bordered{border:0}.panel>.table-bordered>tbody>tr>td:first-child,.panel>.table-bordered>tbody>tr>th:first-child,.panel>.table-bordered>tfoot>tr>td:first-child,.panel>.table-bordered>tfoot>tr>th:first-child,.panel>.table-bordered>thead>tr>td:first-child,.panel>.table-bordered>thead>tr>th:first-child,.panel>.table-responsive>.table-bordered>tbody>tr>td:first-child,.panel>.table-responsive>.table-bordered>tbody>tr>th:first-child,.panel>.table-responsive>.table-bordered>tfoot>tr>td:first-child,.panel>.table-responsive>.table-bordered>tfoot>tr>th:first-child,.panel>.table-responsive>.table-bordered>thead>tr>td:first-child,.panel>.table-responsive>.table-bordered>thead>tr>th:first-child{border-left:0}.panel>.table-bordered>tbody>tr>td:last-child,.panel>.table-bordered>tbody>tr>th:last-child,.panel>.table-bordered>tfoot>tr>td:last-child,.panel>.table-bordered>tfoot>tr>th:last-child,.panel>.table-bordered>thead>tr>td:last-child,.panel>.table-bordered>thead>tr>th:last-child,.panel>.table-responsive>.table-bordered>tbody>tr>td:last-child,.panel>.table-responsive>.table-bordered>tbody>tr>th:last-child,.panel>.table-responsive>.table-bordered>tfoot>tr>td:last-child,.panel>.table-responsive>.table-bordered>tfoot>tr>th:last-child,.panel>.table-responsive>.table-bordered>thead>tr>td:last-child,.panel>.table-responsive>.table-bordered>thead>tr>th:last-child{border-right:0}.panel>.table-bordered>tbody>tr:first-child>td,.panel>.table-bordered>tbody>tr:first-child>th,.panel>.table-bordered>tbody>tr:last-child>td,.panel>.table-bordered>tbody>tr:last-child>th,.panel>.table-bordered>tfoot>tr:last-child>td,.panel>.table-bordered>tfoot>tr:last-child>th,.panel>.table-bordered>thead>tr:first-child>td,.panel>.table-bordered>thead>tr:first-child>th,.panel>.table-responsive>.table-bordered>tbody>tr:first-child>td,.panel>.table-responsive>.table-bordered>tbody>tr:first-child>th,.panel>.table-responsive>.table-bordered>tbody>tr:last-child>td,.panel>.table-responsive>.table-bordered>tbody>tr:last-child>th,.panel>.table-responsive>.table-bordered>tfoot>tr:last-child>td,.panel>.table-responsive>.table-bordered>tfoot>tr:last-child>th,.panel>.table-responsive>.table-bordered>thead>tr:first-child>td,.panel>.table-responsive>.table-bordered>thead>tr:first-child>th{border-bottom:0}.panel>.table-responsive{border:0;margin-bottom:0}.panel-group{margin-bottom:18px}.panel-group .panel{margin-bottom:0;border-radius:2px}.panel-group .panel+.panel{margin-top:5px}.panel-group .panel-heading{border-bottom:0}.panel-group .panel-heading+.panel-collapse>.list-group,.panel-group .panel-heading+.panel-collapse>.panel-body{border-top:1px solid #ddd}.panel-group .panel-footer{border-top:0}.panel-group .panel-footer+.panel-collapse .panel-body{border-bottom:1px solid #ddd}.panel-default{border-color:#ddd}.panel-default>.panel-heading{color:#333;background-color:#f5f5f5;border-color:#ddd}.panel-default>.panel-heading+.panel-collapse>.panel-body{border-top-color:#ddd}.panel-default>.panel-heading .badge{color:#f5f5f5;background-color:#333}.panel-default>.panel-footer+.panel-collapse>.panel-body{border-bottom-color:#ddd}.panel-primary{border-color:#337ab7}.panel-primary>.panel-heading{color:#fff;background-color:#337ab7;border-color:#337ab7}.panel-primary>.panel-heading+.panel-collapse>.panel-body{border-top-color:#337ab7}.panel-primary>.panel-heading .badge{color:#337ab7;background-color:#fff}.panel-primary>.panel-footer+.panel-collapse>.panel-body{border-bottom-color:#337ab7}.panel-success{border-color:#d6e9c6}.panel-success>.panel-heading{color:#3c763d;background-color:#dff0d8;border-color:#d6e9c6}.panel-success>.panel-heading+.panel-collapse>.panel-body{border-top-color:#d6e9c6}.panel-success>.panel-heading .badge{color:#dff0d8;background-color:#3c763d}.panel-success>.panel-footer+.panel-collapse>.panel-body{border-bottom-color:#d6e9c6}.panel-info{border-color:#bce8f1}.panel-info>.panel-heading{color:#31708f;background-color:#d9edf7;border-color:#bce8f1}.panel-info>.panel-heading+.panel-collapse>.panel-body{border-top-color:#bce8f1}.panel-info>.panel-heading .badge{color:#d9edf7;background-color:#31708f}.panel-info>.panel-footer+.panel-collapse>.panel-body{border-bottom-color:#bce8f1}.panel-warning{border-color:#faebcc}.panel-warning>.panel-heading{color:#8a6d3b;background-color:#fcf8e3;border-color:#faebcc}.panel-warning>.panel-heading+.panel-collapse>.panel-body{border-top-color:#faebcc}.panel-warning>.panel-heading .badge{color:#fcf8e3;background-color:#8a6d3b}.panel-warning>.panel-footer+.panel-collapse>.panel-body{border-bottom-color:#faebcc}.panel-danger{border-color:#ebccd1}.panel-danger>.panel-heading{color:#a94442;background-color:#f2dede;border-color:#ebccd1}.panel-danger>.panel-heading+.panel-collapse>.panel-body{border-top-color:#ebccd1}.panel-danger>.panel-heading .badge{color:#f2dede;background-color:#a94442}.panel-danger>.panel-footer+.panel-collapse>.panel-body{border-bottom-color:#ebccd1}.embed-responsive{position:relative;display:block;height:0;padding:0;overflow:hidden}.embed-responsive .embed-responsive-item,.embed-responsive embed,.embed-responsive iframe,.embed-responsive object,.embed-responsive video{position:absolute;top:0;left:0;bottom:0;height:100%;width:100%;border:0}.embed-responsive-16by9{padding-bottom:56.25%}.embed-responsive-4by3{padding-bottom:75%}.well{min-height:20px;padding:19px;margin-bottom:20px;background-color:#f5f5f5;border:1px solid #e3e3e3;border-radius:2px;-webkit-box-shadow:inset 0 1px 1px rgba(0,0,0,.05);box-shadow:inset 0 1px 1px rgba(0,0,0,.05)}.well blockquote{border-color:#ddd;border-color:rgba(0,0,0,.15)}.well-lg{padding:24px;border-radius:3px}.well-sm{padding:9px;border-radius:1px}.close{float:right;font-size:19.5px;font-weight:700;line-height:1;color:#000;text-shadow:0 1px 0 #fff;opacity:.2;filter:alpha(opacity=20)}.close:focus,.close:hover{color:#000;text-decoration:none;cursor:pointer;opacity:.5;filter:alpha(opacity=50)}button.close{padding:0;cursor:pointer;background:0 0;border:0;-webkit-appearance:none}.modal-open{overflow:hidden}.modal{display:none;overflow:hidden;position:fixed;top:0;right:0;bottom:0;left:0;z-index:1050;-webkit-overflow-scrolling:touch;outline:0}.modal.fade .modal-dialog{-webkit-transition:-webkit-transform .3s ease-out;-moz-transition:-moz-transform .3s ease-out;-o-transition:-o-transform .3s ease-out;transition:transform .3s ease-out}.modal.in .modal-dialog{-webkit-transform:translate(0,0);-ms-transform:translate(0,0);-o-transform:translate(0,0);transform:translate(0,0)}.modal-open .modal{overflow-x:hidden;overflow-y:auto}.modal-dialog{position:relative;width:auto;margin:10px}.modal-content{position:relative;background-color:#fff;border:1px solid #999;border:1px solid rgba(0,0,0,.2);border-radius:3px;-webkit-box-shadow:0 3px 9px rgba(0,0,0,.5);box-shadow:0 3px 9px rgba(0,0,0,.5);background-clip:padding-box;outline:0}.modal-backdrop{position:fixed;top:0;right:0;bottom:0;left:0;z-index:1040;background-color:#000}.modal-backdrop.fade{opacity:0;filter:alpha(opacity=0)}.modal-backdrop.in{opacity:.5;filter:alpha(opacity=50)}.modal-header{padding:15px;border-bottom:1px solid #e5e5e5;min-height:16.43px}.modal-header .close{margin-top:-2px}.modal-title{margin:0;line-height:1.42857143}.modal-body{position:relative;padding:15px}.modal-footer{padding:15px;text-align:right;border-top:1px solid #e5e5e5}.modal-footer .btn+.btn{margin-left:5px;margin-bottom:0}.modal-footer .btn-group .btn+.btn{margin-left:-1px}.modal-footer .btn-block+.btn-block{margin-left:0}.modal-scrollbar-measure{position:absolute;top:-9999px;width:50px;height:50px;overflow:scroll}@media (min-width:768px){.modal-dialog{width:600px;margin:30px auto}.modal-content{-webkit-box-shadow:0 5px 15px rgba(0,0,0,.5);box-shadow:0 5px 15px rgba(0,0,0,.5)}.modal-sm{width:300px}}@media (min-width:992px){.modal-lg{width:900px}}.tooltip{position:absolute;z-index:1070;display:block;font-family:"Helvetica Neue",Helvetica,Arial,sans-serif;font-size:12px;font-weight:400;line-height:1.4;opacity:0;filter:alpha(opacity=0)}.tooltip.in{opacity:.9;filter:alpha(opacity=90)}.tooltip.top{margin-top:-3px;padding:5px 0}.tooltip.right{margin-left:3px;padding:0 5px}.tooltip.bottom{margin-top:3px;padding:5px 0}.tooltip.left{margin-left:-3px;padding:0 5px}.tooltip-inner{max-width:200px;padding:3px 8px;color:#fff;text-align:center;text-decoration:none;background-color:#000;border-radius:2px}.tooltip-arrow{position:absolute;width:0;height:0;border-color:transparent;border-style:solid}.tooltip.top .tooltip-arrow{bottom:0;left:50%;margin-left:-5px;border-width:5px 5px 0;border-top-color:#000}.tooltip.top-left .tooltip-arrow{bottom:0;right:5px;margin-bottom:-5px;border-width:5px 5px 0;border-top-color:#000}.tooltip.top-right .tooltip-arrow{bottom:0;left:5px;margin-bottom:-5px;border-width:5px 5px 0;border-top-color:#000}.tooltip.right .tooltip-arrow{top:50%;left:0;margin-top:-5px;border-width:5px 5px 5px 0;border-right-color:#000}.tooltip.left .tooltip-arrow{top:50%;right:0;margin-top:-5px;border-width:5px 0 5px 5px;border-left-color:#000}.tooltip.bottom .tooltip-arrow{top:0;left:50%;margin-left:-5px;border-width:0 5px 5px;border-bottom-color:#000}.tooltip.bottom-left .tooltip-arrow{top:0;right:5px;margin-top:-5px;border-width:0 5px 5px;border-bottom-color:#000}.tooltip.bottom-right .tooltip-arrow{top:0;left:5px;margin-top:-5px;border-width:0 5px 5px;border-bottom-color:#000}.popover{position:absolute;top:0;left:0;z-index:1060;display:none;max-width:276px;padding:1px;font-family:"Helvetica Neue",Helvetica,Arial,sans-serif;font-size:13px;font-weight:400;line-height:1.42857143;text-align:left;background-color:#fff;background-clip:padding-box;border:1px solid #ccc;border:1px solid rgba(0,0,0,.2);border-radius:3px;-webkit-box-shadow:0 5px 10px rgba(0,0,0,.2);box-shadow:0 5px 10px rgba(0,0,0,.2);white-space:normal}.popover.top{margin-top:-10px}.popover.right{margin-left:10px}.popover.bottom{margin-top:10px}.popover.left{margin-left:-10px}.popover-title{margin:0;padding:8px 14px;font-size:13px;background-color:#f7f7f7;border-bottom:1px solid #ebebeb;border-radius:2px 2px 0 0}.popover-content{padding:9px 14px}.popover>.arrow,.popover>.arrow:after{position:absolute;display:block;width:0;height:0;border-color:transparent;border-style:solid}.popover>.arrow{border-width:11px}.popover>.arrow:after{border-width:10px;content:""}.popover.top>.arrow{left:50%;margin-left:-11px;border-bottom-width:0;border-top-color:#999;border-top-color:rgba(0,0,0,.25);bottom:-11px}.popover.top>.arrow:after{content:" ";bottom:1px;margin-left:-10px;border-bottom-width:0;border-top-color:#fff}.popover.right>.arrow{top:50%;left:-11px;margin-top:-11px;border-left-width:0;border-right-color:#999;border-right-color:rgba(0,0,0,.25)}.popover.right>.arrow:after{content:" ";left:1px;bottom:-10px;border-left-width:0;border-right-color:#fff}.popover.bottom>.arrow{left:50%;margin-left:-11px;border-top-width:0;border-bottom-color:#999;border-bottom-color:rgba(0,0,0,.25);top:-11px}.popover.bottom>.arrow:after{content:" ";top:1px;margin-left:-10px;border-top-width:0;border-bottom-color:#fff}.popover.left>.arrow{top:50%;right:-11px;margin-top:-11px;border-right-width:0;border-left-color:#999;border-left-color:rgba(0,0,0,.25)}.popover.left>.arrow:after{content:" ";right:1px;border-right-width:0;border-left-color:#fff;bottom:-10px}.carousel{position:relative}.carousel-inner{position:relative;overflow:hidden;width:100%}.carousel-inner>.item{display:none;position:relative;-webkit-transition:.6s ease-in-out left;-o-transition:.6s ease-in-out left;transition:.6s ease-in-out left}.carousel-inner>.item>a>img,.carousel-inner>.item>img{line-height:1}@media all and (transform-3d),(-webkit-transform-3d){.carousel-inner>.item{-webkit-transition:-webkit-transform .6s ease-in-out;-moz-transition:-moz-transform .6s ease-in-out;-o-transition:-o-transform .6s ease-in-out;transition:transform .6s ease-in-out;-webkit-backface-visibility:hidden;-moz-backface-visibility:hidden;backface-visibility:hidden;-webkit-perspective:1000;-moz-perspective:1000;perspective:1000}.carousel-inner>.item.active.right,.carousel-inner>.item.next{-webkit-transform:translate3d(100%,0,0);transform:translate3d(100%,0,0);left:0}.carousel-inner>.item.active.left,.carousel-inner>.item.prev{-webkit-transform:translate3d(-100%,0,0);transform:translate3d(-100%,0,0);left:0}.carousel-inner>.item.active,.carousel-inner>.item.next.left,.carousel-inner>.item.prev.right{-webkit-transform:translate3d(0,0,0);transform:translate3d(0,0,0);left:0}}.carousel-inner>.active,.carousel-inner>.next,.carousel-inner>.prev{display:block}.carousel-inner>.active{left:0}.carousel-inner>.next,.carousel-inner>.prev{position:absolute;top:0;width:100%}.carousel-inner>.next{left:100%}.carousel-inner>.prev{left:-100%}.carousel-inner>.next.left,.carousel-inner>.prev.right{left:0}.carousel-inner>.active.left{left:-100%}.carousel-inner>.active.right{left:100%}.carousel-control{position:absolute;top:0;left:0;bottom:0;width:15%;opacity:.5;filter:alpha(opacity=50);font-size:20px;color:#fff;text-align:center;text-shadow:0 1px 2px rgba(0,0,0,.6)}.carousel-control.left{background-image:-webkit-linear-gradient(left,rgba(0,0,0,.5) 0,rgba(0,0,0,.0001) 100%);background-image:-o-linear-gradient(left,rgba(0,0,0,.5) 0,rgba(0,0,0,.0001) 100%);background-image:linear-gradient(to right,rgba(0,0,0,.5) 0,rgba(0,0,0,.0001) 100%);background-repeat:repeat-x;filter:progid:DXImageTransform.Microsoft.gradient(startColorstr='#80000000', endColorstr='#00000000', GradientType=1)}.carousel-control.right{left:auto;right:0;background-image:-webkit-linear-gradient(left,rgba(0,0,0,.0001) 0,rgba(0,0,0,.5) 100%);background-image:-o-linear-gradient(left,rgba(0,0,0,.0001) 0,rgba(0,0,0,.5) 100%);background-image:linear-gradient(to right,rgba(0,0,0,.0001) 0,rgba(0,0,0,.5) 100%);background-repeat:repeat-x;filter:progid:DXImageTransform.Microsoft.gradient(startColorstr='#00000000', endColorstr='#80000000', GradientType=1)}.carousel-control:focus,.carousel-control:hover{outline:0;color:#fff;text-decoration:none;opacity:.9;filter:alpha(opacity=90)}.carousel-control .glyphicon-chevron-left,.carousel-control .glyphicon-chevron-right,.carousel-control .icon-next,.carousel-control .icon-prev{position:absolute;top:50%;z-index:5;display:inline-block}.carousel-control .glyphicon-chevron-left,.carousel-control .icon-prev{left:50%;margin-left:-10px}.carousel-control .glyphicon-chevron-right,.carousel-control .icon-next{right:50%;margin-right:-10px}.carousel-control .icon-next,.carousel-control .icon-prev{width:20px;height:20px;margin-top:-10px;line-height:1;font-family:serif}.carousel-control .icon-prev:before{content:'\2039'}.carousel-control .icon-next:before{content:'\203a'}.carousel-indicators{position:absolute;bottom:10px;left:50%;z-index:15;width:60%;margin-left:-30%;padding-left:0;list-style:none;text-align:center}.carousel-indicators li{display:inline-block;width:10px;height:10px;margin:1px;text-indent:-999px;border:1px solid #fff;border-radius:10px;cursor:pointer;background-color:transparent}.carousel-indicators .active{margin:0;width:12px;height:12px;background-color:#fff}.carousel-caption{position:absolute;left:15%;right:15%;bottom:20px;z-index:10;padding-top:20px;padding-bottom:20px;color:#fff;text-align:center;text-shadow:0 1px 2px rgba(0,0,0,.6)}.carousel-caption .btn{text-shadow:none}@media screen and (min-width:768px){.carousel-control .glyphicon-chevron-left,.carousel-control .glyphicon-chevron-right,.carousel-control .icon-next,.carousel-control .icon-prev{width:30px;height:30px;margin-top:-15px;font-size:30px}.carousel-control .glyphicon-chevron-left,.carousel-control .icon-prev{margin-left:-15px}.carousel-control .glyphicon-chevron-right,.carousel-control .icon-next{margin-right:-15px}.carousel-caption{left:20%;right:20%;padding-bottom:30px}.carousel-indicators{bottom:20px}}.btn-group-vertical>.btn-group:after,.btn-group-vertical>.btn-group:before,.btn-toolbar:after,.btn-toolbar:before,.clearfix:after,.clearfix:before,.container-fluid:after,.container-fluid:before,.container:after,.container:before,.dl-horizontal dd:after,.dl-horizontal dd:before,.form-horizontal .form-group:after,.form-horizontal .form-group:before,.item_buttons:after,.item_buttons:before,.modal-footer:after,.modal-footer:before,.nav:after,.nav:before,.navbar-collapse:after,.navbar-collapse:before,.navbar-header:after,.navbar-header:before,.navbar:after,.navbar:before,.pager:after,.pager:before,.panel-body:after,.panel-body:before,.row:after,.row:before{content:" ";display:table}.btn-group-vertical>.btn-group:after,.btn-toolbar:after,.clearfix:after,.container-fluid:after,.container:after,.dl-horizontal dd:after,.form-horizontal .form-group:after,.item_buttons:after,.modal-footer:after,.nav:after,.navbar-collapse:after,.navbar-header:after,.navbar:after,.pager:after,.panel-body:after,.row:after{clear:both}.center-block{display:block;margin-left:auto;margin-right:auto}.pull-right{float:right!important}.pull-left{float:left!important}.hide{display:none!important}.show{display:block!important}.invisible{visibility:hidden}.text-hide{font:0/0 a;color:transparent;text-shadow:none;background-color:transparent;border:0}.hidden{display:none!important}.affix{position:fixed}@-ms-viewport{width:device-width}.visible-lg,.visible-lg-block,.visible-lg-inline,.visible-lg-inline-block,.visible-md,.visible-md-block,.visible-md-inline,.visible-md-inline-block,.visible-sm,.visible-sm-block,.visible-sm-inline,.visible-sm-inline-block,.visible-xs,.visible-xs-block,.visible-xs-inline,.visible-xs-inline-block{display:none!important}@media (max-width:767px){.visible-xs{display:block!important}table.visible-xs{display:table}tr.visible-xs{display:table-row!important}td.visible-xs,th.visible-xs{display:table-cell!important}.visible-xs-block{display:block!important}.visible-xs-inline{display:inline!important}.visible-xs-inline-block{display:inline-block!important}}@media (min-width:768px)and (max-width:991px){.visible-sm{display:block!important}table.visible-sm{display:table}tr.visible-sm{display:table-row!important}td.visible-sm,th.visible-sm{display:table-cell!important}.visible-sm-block{display:block!important}.visible-sm-inline{display:inline!important}.visible-sm-inline-block{display:inline-block!important}}@media (min-width:992px)and (max-width:1199px){.visible-md{display:block!important}table.visible-md{display:table}tr.visible-md{display:table-row!important}td.visible-md,th.visible-md{display:table-cell!important}.visible-md-block{display:block!important}.visible-md-inline{display:inline!important}.visible-md-inline-block{display:inline-block!important}}@media (min-width:1200px){.visible-lg{display:block!important}table.visible-lg{display:table}tr.visible-lg{display:table-row!important}td.visible-lg,th.visible-lg{display:table-cell!important}.visible-lg-block{display:block!important}.visible-lg-inline{display:inline!important}.visible-lg-inline-block{display:inline-block!important}}@media (max-width:767px){.hidden-xs{display:none!important}}@media (min-width:768px)and (max-width:991px){.hidden-sm{display:none!important}}@media (min-width:992px)and (max-width:1199px){.hidden-md{display:none!important}}@media (min-width:1200px){.hidden-lg{display:none!important}}.visible-print{display:none!important}@media print{.visible-print{display:block!important}table.visible-print{display:table}tr.visible-print{display:table-row!important}td.visible-print,th.visible-print{display:table-cell!important}}.visible-print-block{display:none!important}@media print{.visible-print-block{display:block!important}}.visible-print-inline{display:none!important}@media print{.visible-print-inline{display:inline!important}}.visible-print-inline-block{display:none!important}@media print{.visible-print-inline-block{display:inline-block!important}.hidden-print{display:none!important}}/*!
*
* Font Awesome
*
*//*!
 *  Font Awesome 4.2.0 by @davegandy - http://fontawesome.io - @fontawesome
 *  License - http://fontawesome.io/license (Font: SIL OFL 1.1, CSS: MIT License)
 */@font-face{font-family:'FontAwesome';src:url(../components/font-awesome/fonts/fontawesome-webfont.eot?v=4.2.0);src:url(../components/font-awesome/fonts/fontawesome-webfont.eot?#iefix&v=4.2.0)format('embedded-opentype'),url(../components/font-awesome/fonts/fontawesome-webfont.woff?v=4.2.0)format('woff'),url(../components/font-awesome/fonts/fontawesome-webfont.ttf?v=4.2.0)format('truetype'),url(../components/font-awesome/fonts/fontawesome-webfont.svg?v=4.2.0#fontawesomeregular)format('svg');font-weight:400;font-style:normal}.fa{display:inline-block;font:normal normal normal 14px/1 FontAwesome;font-size:inherit;text-rendering:auto;-webkit-font-smoothing:antialiased;-moz-osx-font-smoothing:grayscale}.fa-lg{font-size:1.33333333em;line-height:.75em;vertical-align:-15%}.fa-2x{font-size:2em}.fa-3x{font-size:3em}.fa-4x{font-size:4em}.fa-5x{font-size:5em}.fa-fw{width:1.28571429em;text-align:center}.fa-ul{padding-left:0;margin-left:2.14285714em;list-style-type:none}.fa-ul>li{position:relative}.fa-li{position:absolute;left:-2.14285714em;width:2.14285714em;top:.14285714em;text-align:center}.fa-li.fa-lg{left:-1.85714286em}.fa-border{padding:.2em .25em .15em;border:.08em solid #eee;border-radius:.1em}.fa.pull-left{margin-right:.3em}.fa.pull-right{margin-left:.3em}.fa-spin{-webkit-animation:fa-spin 2s infinite linear;animation:fa-spin 2s infinite linear}@-webkit-keyframes fa-spin{0%{-webkit-transform:rotate(0);transform:rotate(0)}100%{-webkit-transform:rotate(359deg);transform:rotate(359deg)}}@keyframes fa-spin{0%{-webkit-transform:rotate(0);transform:rotate(0)}100%{-webkit-transform:rotate(359deg);transform:rotate(359deg)}}.fa-rotate-90{filter:progid:DXImageTransform.Microsoft.BasicImage(rotation=1);-webkit-transform:rotate(90deg);-ms-transform:rotate(90deg);transform:rotate(90deg)}.fa-rotate-180{filter:progid:DXImageTransform.Microsoft.BasicImage(rotation=2);-webkit-transform:rotate(180deg);-ms-transform:rotate(180deg);transform:rotate(180deg)}.fa-rotate-270{filter:progid:DXImageTransform.Microsoft.BasicImage(rotation=3);-webkit-transform:rotate(270deg);-ms-transform:rotate(270deg);transform:rotate(270deg)}.fa-flip-horizontal{filter:progid:DXImageTransform.Microsoft.BasicImage(rotation=0, mirror=1);-webkit-transform:scale(-1,1);-ms-transform:scale(-1,1);transform:scale(-1,1)}.fa-flip-vertical{filter:progid:DXImageTransform.Microsoft.BasicImage(rotation=2, mirror=1);-webkit-transform:scale(1,-1);-ms-transform:scale(1,-1);transform:scale(1,-1)}:root .fa-flip-horizontal,:root .fa-flip-vertical,:root .fa-rotate-180,:root .fa-rotate-270,:root .fa-rotate-90{filter:none}.fa-stack{position:relative;display:inline-block;width:2em;height:2em;line-height:2em;vertical-align:middle}.fa-stack-1x,.fa-stack-2x{position:absolute;left:0;width:100%;text-align:center}.fa-stack-1x{line-height:inherit}.fa-stack-2x{font-size:2em}.fa-inverse{color:#fff}.fa-glass:before{content:"\f000"}.fa-music:before{content:"\f001"}.fa-search:before{content:"\f002"}.fa-envelope-o:before{content:"\f003"}.fa-heart:before{content:"\f004"}.fa-star:before{content:"\f005"}.fa-star-o:before{content:"\f006"}.fa-user:before{content:"\f007"}.fa-film:before{content:"\f008"}.fa-th-large:before{content:"\f009"}.fa-th:before{content:"\f00a"}.fa-th-list:before{content:"\f00b"}.fa-check:before{content:"\f00c"}.fa-close:before,.fa-remove:before,.fa-times:before{content:"\f00d"}.fa-search-plus:before{content:"\f00e"}.fa-search-minus:before{content:"\f010"}.fa-power-off:before{content:"\f011"}.fa-signal:before{content:"\f012"}.fa-cog:before,.fa-gear:before{content:"\f013"}.fa-trash-o:before{content:"\f014"}.fa-home:before{content:"\f015"}.fa-file-o:before{content:"\f016"}.fa-clock-o:before{content:"\f017"}.fa-road:before{content:"\f018"}.fa-download:before{content:"\f019"}.fa-arrow-circle-o-down:before{content:"\f01a"}.fa-arrow-circle-o-up:before{content:"\f01b"}.fa-inbox:before{content:"\f01c"}.fa-play-circle-o:before{content:"\f01d"}.fa-repeat:before,.fa-rotate-right:before{content:"\f01e"}.fa-refresh:before{content:"\f021"}.fa-list-alt:before{content:"\f022"}.fa-lock:before{content:"\f023"}.fa-flag:before{content:"\f024"}.fa-headphones:before{content:"\f025"}.fa-volume-off:before{content:"\f026"}.fa-volume-down:before{content:"\f027"}.fa-volume-up:before{content:"\f028"}.fa-qrcode:before{content:"\f029"}.fa-barcode:before{content:"\f02a"}.fa-tag:before{content:"\f02b"}.fa-tags:before{content:"\f02c"}.fa-book:before{content:"\f02d"}.fa-bookmark:before{content:"\f02e"}.fa-print:before{content:"\f02f"}.fa-camera:before{content:"\f030"}.fa-font:before{content:"\f031"}.fa-bold:before{content:"\f032"}.fa-italic:before{content:"\f033"}.fa-text-height:before{content:"\f034"}.fa-text-width:before{content:"\f035"}.fa-align-left:before{content:"\f036"}.fa-align-center:before{content:"\f037"}.fa-align-right:before{content:"\f038"}.fa-align-justify:before{content:"\f039"}.fa-list:before{content:"\f03a"}.fa-dedent:before,.fa-outdent:before{content:"\f03b"}.fa-indent:before{content:"\f03c"}.fa-video-camera:before{content:"\f03d"}.fa-image:before,.fa-photo:before,.fa-picture-o:before{content:"\f03e"}.fa-pencil:before{content:"\f040"}.fa-map-marker:before{content:"\f041"}.fa-adjust:before{content:"\f042"}.fa-tint:before{content:"\f043"}.fa-edit:before,.fa-pencil-square-o:before{content:"\f044"}.fa-share-square-o:before{content:"\f045"}.fa-check-square-o:before{content:"\f046"}.fa-arrows:before{content:"\f047"}.fa-step-backward:before{content:"\f048"}.fa-fast-backward:before{content:"\f049"}.fa-backward:before{content:"\f04a"}.fa-play:before{content:"\f04b"}.fa-pause:before{content:"\f04c"}.fa-stop:before{content:"\f04d"}.fa-forward:before{content:"\f04e"}.fa-fast-forward:before{content:"\f050"}.fa-step-forward:before{content:"\f051"}.fa-eject:before{content:"\f052"}.fa-chevron-left:before{content:"\f053"}.fa-chevron-right:before{content:"\f054"}.fa-plus-circle:before{content:"\f055"}.fa-minus-circle:before{content:"\f056"}.fa-times-circle:before{content:"\f057"}.fa-check-circle:before{content:"\f058"}.fa-question-circle:before{content:"\f059"}.fa-info-circle:before{content:"\f05a"}.fa-crosshairs:before{content:"\f05b"}.fa-times-circle-o:before{content:"\f05c"}.fa-check-circle-o:before{content:"\f05d"}.fa-ban:before{content:"\f05e"}.fa-arrow-left:before{content:"\f060"}.fa-arrow-right:before{content:"\f061"}.fa-arrow-up:before{content:"\f062"}.fa-arrow-down:before{content:"\f063"}.fa-mail-forward:before,.fa-share:before{content:"\f064"}.fa-expand:before{content:"\f065"}.fa-compress:before{content:"\f066"}.fa-plus:before{content:"\f067"}.fa-minus:before{content:"\f068"}.fa-asterisk:before{content:"\f069"}.fa-exclamation-circle:before{content:"\f06a"}.fa-gift:before{content:"\f06b"}.fa-leaf:before{content:"\f06c"}.fa-fire:before{content:"\f06d"}.fa-eye:before{content:"\f06e"}.fa-eye-slash:before{content:"\f070"}.fa-exclamation-triangle:before,.fa-warning:before{content:"\f071"}.fa-plane:before{content:"\f072"}.fa-calendar:before{content:"\f073"}.fa-random:before{content:"\f074"}.fa-comment:before{content:"\f075"}.fa-magnet:before{content:"\f076"}.fa-chevron-up:before{content:"\f077"}.fa-chevron-down:before{content:"\f078"}.fa-retweet:before{content:"\f079"}.fa-shopping-cart:before{content:"\f07a"}.fa-folder:before{content:"\f07b"}.fa-folder-open:before{content:"\f07c"}.fa-arrows-v:before{content:"\f07d"}.fa-arrows-h:before{content:"\f07e"}.fa-bar-chart-o:before,.fa-bar-chart:before{content:"\f080"}.fa-twitter-square:before{content:"\f081"}.fa-facebook-square:before{content:"\f082"}.fa-camera-retro:before{content:"\f083"}.fa-key:before{content:"\f084"}.fa-cogs:before,.fa-gears:before{content:"\f085"}.fa-comments:before{content:"\f086"}.fa-thumbs-o-up:before{content:"\f087"}.fa-thumbs-o-down:before{content:"\f088"}.fa-star-half:before{content:"\f089"}.fa-heart-o:before{content:"\f08a"}.fa-sign-out:before{content:"\f08b"}.fa-linkedin-square:before{content:"\f08c"}.fa-thumb-tack:before{content:"\f08d"}.fa-external-link:before{content:"\f08e"}.fa-sign-in:before{content:"\f090"}.fa-trophy:before{content:"\f091"}.fa-github-square:before{content:"\f092"}.fa-upload:before{content:"\f093"}.fa-lemon-o:before{content:"\f094"}.fa-phone:before{content:"\f095"}.fa-square-o:before{content:"\f096"}.fa-bookmark-o:before{content:"\f097"}.fa-phone-square:before{content:"\f098"}.fa-twitter:before{content:"\f099"}.fa-facebook:before{content:"\f09a"}.fa-github:before{content:"\f09b"}.fa-unlock:before{content:"\f09c"}.fa-credit-card:before{content:"\f09d"}.fa-rss:before{content:"\f09e"}.fa-hdd-o:before{content:"\f0a0"}.fa-bullhorn:before{content:"\f0a1"}.fa-bell:before{content:"\f0f3"}.fa-certificate:before{content:"\f0a3"}.fa-hand-o-right:before{content:"\f0a4"}.fa-hand-o-left:before{content:"\f0a5"}.fa-hand-o-up:before{content:"\f0a6"}.fa-hand-o-down:before{content:"\f0a7"}.fa-arrow-circle-left:before{content:"\f0a8"}.fa-arrow-circle-right:before{content:"\f0a9"}.fa-arrow-circle-up:before{content:"\f0aa"}.fa-arrow-circle-down:before{content:"\f0ab"}.fa-globe:before{content:"\f0ac"}.fa-wrench:before{content:"\f0ad"}.fa-tasks:before{content:"\f0ae"}.fa-filter:before{content:"\f0b0"}.fa-briefcase:before{content:"\f0b1"}.fa-arrows-alt:before{content:"\f0b2"}.fa-group:before,.fa-users:before{content:"\f0c0"}.fa-chain:before,.fa-link:before{content:"\f0c1"}.fa-cloud:before{content:"\f0c2"}.fa-flask:before{content:"\f0c3"}.fa-cut:before,.fa-scissors:before{content:"\f0c4"}.fa-copy:before,.fa-files-o:before{content:"\f0c5"}.fa-paperclip:before{content:"\f0c6"}.fa-floppy-o:before,.fa-save:before{content:"\f0c7"}.fa-square:before{content:"\f0c8"}.fa-bars:before,.fa-navicon:before,.fa-reorder:before{content:"\f0c9"}.fa-list-ul:before{content:"\f0ca"}.fa-list-ol:before{content:"\f0cb"}.fa-strikethrough:before{content:"\f0cc"}.fa-underline:before{content:"\f0cd"}.fa-table:before{content:"\f0ce"}.fa-magic:before{content:"\f0d0"}.fa-truck:before{content:"\f0d1"}.fa-pinterest:before{content:"\f0d2"}.fa-pinterest-square:before{content:"\f0d3"}.fa-google-plus-square:before{content:"\f0d4"}.fa-google-plus:before{content:"\f0d5"}.fa-money:before{content:"\f0d6"}.fa-caret-down:before{content:"\f0d7"}.fa-caret-up:before{content:"\f0d8"}.fa-caret-left:before{content:"\f0d9"}.fa-caret-right:before{content:"\f0da"}.fa-columns:before{content:"\f0db"}.fa-sort:before,.fa-unsorted:before{content:"\f0dc"}.fa-sort-desc:before,.fa-sort-down:before{content:"\f0dd"}.fa-sort-asc:before,.fa-sort-up:before{content:"\f0de"}.fa-envelope:before{content:"\f0e0"}.fa-linkedin:before{content:"\f0e1"}.fa-rotate-left:before,.fa-undo:before{content:"\f0e2"}.fa-gavel:before,.fa-legal:before{content:"\f0e3"}.fa-dashboard:before,.fa-tachometer:before{content:"\f0e4"}.fa-comment-o:before{content:"\f0e5"}.fa-comments-o:before{content:"\f0e6"}.fa-bolt:before,.fa-flash:before{content:"\f0e7"}.fa-sitemap:before{content:"\f0e8"}.fa-umbrella:before{content:"\f0e9"}.fa-clipboard:before,.fa-paste:before{content:"\f0ea"}.fa-lightbulb-o:before{content:"\f0eb"}.fa-exchange:before{content:"\f0ec"}.fa-cloud-download:before{content:"\f0ed"}.fa-cloud-upload:before{content:"\f0ee"}.fa-user-md:before{content:"\f0f0"}.fa-stethoscope:before{content:"\f0f1"}.fa-suitcase:before{content:"\f0f2"}.fa-bell-o:before{content:"\f0a2"}.fa-coffee:before{content:"\f0f4"}.fa-cutlery:before{content:"\f0f5"}.fa-file-text-o:before{content:"\f0f6"}.fa-building-o:before{content:"\f0f7"}.fa-hospital-o:before{content:"\f0f8"}.fa-ambulance:before{content:"\f0f9"}.fa-medkit:before{content:"\f0fa"}.fa-fighter-jet:before{content:"\f0fb"}.fa-beer:before{content:"\f0fc"}.fa-h-square:before{content:"\f0fd"}.fa-plus-square:before{content:"\f0fe"}.fa-angle-double-left:before{content:"\f100"}.fa-angle-double-right:before{content:"\f101"}.fa-angle-double-up:before{content:"\f102"}.fa-angle-double-down:before{content:"\f103"}.fa-angle-left:before{content:"\f104"}.fa-angle-right:before{content:"\f105"}.fa-angle-up:before{content:"\f106"}.fa-angle-down:before{content:"\f107"}.fa-desktop:before{content:"\f108"}.fa-laptop:before{content:"\f109"}.fa-tablet:before{content:"\f10a"}.fa-mobile-phone:before,.fa-mobile:before{content:"\f10b"}.fa-circle-o:before{content:"\f10c"}.fa-quote-left:before{content:"\f10d"}.fa-quote-right:before{content:"\f10e"}.fa-spinner:before{content:"\f110"}.fa-circle:before{content:"\f111"}.fa-mail-reply:before,.fa-reply:before{content:"\f112"}.fa-github-alt:before{content:"\f113"}.fa-folder-o:before{content:"\f114"}.fa-folder-open-o:before{content:"\f115"}.fa-smile-o:before{content:"\f118"}.fa-frown-o:before{content:"\f119"}.fa-meh-o:before{content:"\f11a"}.fa-gamepad:before{content:"\f11b"}.fa-keyboard-o:before{content:"\f11c"}.fa-flag-o:before{content:"\f11d"}.fa-flag-checkered:before{content:"\f11e"}.fa-terminal:before{content:"\f120"}.fa-code:before{content:"\f121"}.fa-mail-reply-all:before,.fa-reply-all:before{content:"\f122"}.fa-star-half-empty:before,.fa-star-half-full:before,.fa-star-half-o:before{content:"\f123"}.fa-location-arrow:before{content:"\f124"}.fa-crop:before{content:"\f125"}.fa-code-fork:before{content:"\f126"}.fa-chain-broken:before,.fa-unlink:before{content:"\f127"}.fa-question:before{content:"\f128"}.fa-info:before{content:"\f129"}.fa-exclamation:before{content:"\f12a"}.fa-superscript:before{content:"\f12b"}.fa-subscript:before{content:"\f12c"}.fa-eraser:before{content:"\f12d"}.fa-puzzle-piece:before{content:"\f12e"}.fa-microphone:before{content:"\f130"}.fa-microphone-slash:before{content:"\f131"}.fa-shield:before{content:"\f132"}.fa-calendar-o:before{content:"\f133"}.fa-fire-extinguisher:before{content:"\f134"}.fa-rocket:before{content:"\f135"}.fa-maxcdn:before{content:"\f136"}.fa-chevron-circle-left:before{content:"\f137"}.fa-chevron-circle-right:before{content:"\f138"}.fa-chevron-circle-up:before{content:"\f139"}.fa-chevron-circle-down:before{content:"\f13a"}.fa-html5:before{content:"\f13b"}.fa-css3:before{content:"\f13c"}.fa-anchor:before{content:"\f13d"}.fa-unlock-alt:before{content:"\f13e"}.fa-bullseye:before{content:"\f140"}.fa-ellipsis-h:before{content:"\f141"}.fa-ellipsis-v:before{content:"\f142"}.fa-rss-square:before{content:"\f143"}.fa-play-circle:before{content:"\f144"}.fa-ticket:before{content:"\f145"}.fa-minus-square:before{content:"\f146"}.fa-minus-square-o:before{content:"\f147"}.fa-level-up:before{content:"\f148"}.fa-level-down:before{content:"\f149"}.fa-check-square:before{content:"\f14a"}.fa-pencil-square:before{content:"\f14b"}.fa-external-link-square:before{content:"\f14c"}.fa-share-square:before{content:"\f14d"}.fa-compass:before{content:"\f14e"}.fa-caret-square-o-down:before,.fa-toggle-down:before{content:"\f150"}.fa-caret-square-o-up:before,.fa-toggle-up:before{content:"\f151"}.fa-caret-square-o-right:before,.fa-toggle-right:before{content:"\f152"}.fa-eur:before,.fa-euro:before{content:"\f153"}.fa-gbp:before{content:"\f154"}.fa-dollar:before,.fa-usd:before{content:"\f155"}.fa-inr:before,.fa-rupee:before{content:"\f156"}.fa-cny:before,.fa-jpy:before,.fa-rmb:before,.fa-yen:before{content:"\f157"}.fa-rouble:before,.fa-rub:before,.fa-ruble:before{content:"\f158"}.fa-krw:before,.fa-won:before{content:"\f159"}.fa-bitcoin:before,.fa-btc:before{content:"\f15a"}.fa-file:before{content:"\f15b"}.fa-file-text:before{content:"\f15c"}.fa-sort-alpha-asc:before{content:"\f15d"}.fa-sort-alpha-desc:before{content:"\f15e"}.fa-sort-amount-asc:before{content:"\f160"}.fa-sort-amount-desc:before{content:"\f161"}.fa-sort-numeric-asc:before{content:"\f162"}.fa-sort-numeric-desc:before{content:"\f163"}.fa-thumbs-up:before{content:"\f164"}.fa-thumbs-down:before{content:"\f165"}.fa-youtube-square:before{content:"\f166"}.fa-youtube:before{content:"\f167"}.fa-xing:before{content:"\f168"}.fa-xing-square:before{content:"\f169"}.fa-youtube-play:before{content:"\f16a"}.fa-dropbox:before{content:"\f16b"}.fa-stack-overflow:before{content:"\f16c"}.fa-instagram:before{content:"\f16d"}.fa-flickr:before{content:"\f16e"}.fa-adn:before{content:"\f170"}.fa-bitbucket:before{content:"\f171"}.fa-bitbucket-square:before{content:"\f172"}.fa-tumblr:before{content:"\f173"}.fa-tumblr-square:before{content:"\f174"}.fa-long-arrow-down:before{content:"\f175"}.fa-long-arrow-up:before{content:"\f176"}.fa-long-arrow-left:before{content:"\f177"}.fa-long-arrow-right:before{content:"\f178"}.fa-apple:before{content:"\f179"}.fa-windows:before{content:"\f17a"}.fa-android:before{content:"\f17b"}.fa-linux:before{content:"\f17c"}.fa-dribbble:before{content:"\f17d"}.fa-skype:before{content:"\f17e"}.fa-foursquare:before{content:"\f180"}.fa-trello:before{content:"\f181"}.fa-female:before{content:"\f182"}.fa-male:before{content:"\f183"}.fa-gittip:before{content:"\f184"}.fa-sun-o:before{content:"\f185"}.fa-moon-o:before{content:"\f186"}.fa-archive:before{content:"\f187"}.fa-bug:before{content:"\f188"}.fa-vk:before{content:"\f189"}.fa-weibo:before{content:"\f18a"}.fa-renren:before{content:"\f18b"}.fa-pagelines:before{content:"\f18c"}.fa-stack-exchange:before{content:"\f18d"}.fa-arrow-circle-o-right:before{content:"\f18e"}.fa-arrow-circle-o-left:before{content:"\f190"}.fa-caret-square-o-left:before,.fa-toggle-left:before{content:"\f191"}.fa-dot-circle-o:before{content:"\f192"}.fa-wheelchair:before{content:"\f193"}.fa-vimeo-square:before{content:"\f194"}.fa-try:before,.fa-turkish-lira:before{content:"\f195"}.fa-plus-square-o:before{content:"\f196"}.fa-space-shuttle:before{content:"\f197"}.fa-slack:before{content:"\f198"}.fa-envelope-square:before{content:"\f199"}.fa-wordpress:before{content:"\f19a"}.fa-openid:before{content:"\f19b"}.fa-bank:before,.fa-institution:before,.fa-university:before{content:"\f19c"}.fa-graduation-cap:before,.fa-mortar-board:before{content:"\f19d"}.fa-yahoo:before{content:"\f19e"}.fa-google:before{content:"\f1a0"}.fa-reddit:before{content:"\f1a1"}.fa-reddit-square:before{content:"\f1a2"}.fa-stumbleupon-circle:before{content:"\f1a3"}.fa-stumbleupon:before{content:"\f1a4"}.fa-delicious:before{content:"\f1a5"}.fa-digg:before{content:"\f1a6"}.fa-pied-piper:before{content:"\f1a7"}.fa-pied-piper-alt:before{content:"\f1a8"}.fa-drupal:before{content:"\f1a9"}.fa-joomla:before{content:"\f1aa"}.fa-language:before{content:"\f1ab"}.fa-fax:before{content:"\f1ac"}.fa-building:before{content:"\f1ad"}.fa-child:before{content:"\f1ae"}.fa-paw:before{content:"\f1b0"}.fa-spoon:before{content:"\f1b1"}.fa-cube:before{content:"\f1b2"}.fa-cubes:before{content:"\f1b3"}.fa-behance:before{content:"\f1b4"}.fa-behance-square:before{content:"\f1b5"}.fa-steam:before{content:"\f1b6"}.fa-steam-square:before{content:"\f1b7"}.fa-recycle:before{content:"\f1b8"}.fa-automobile:before,.fa-car:before{content:"\f1b9"}.fa-cab:before,.fa-taxi:before{content:"\f1ba"}.fa-tree:before{content:"\f1bb"}.fa-spotify:before{content:"\f1bc"}.fa-deviantart:before{content:"\f1bd"}.fa-soundcloud:before{content:"\f1be"}.fa-database:before{content:"\f1c0"}.fa-file-pdf-o:before{content:"\f1c1"}.fa-file-word-o:before{content:"\f1c2"}.fa-file-excel-o:before{content:"\f1c3"}.fa-file-powerpoint-o:before{content:"\f1c4"}.fa-file-image-o:before,.fa-file-photo-o:before,.fa-file-picture-o:before{content:"\f1c5"}.fa-file-archive-o:before,.fa-file-zip-o:before{content:"\f1c6"}.fa-file-audio-o:before,.fa-file-sound-o:before{content:"\f1c7"}.fa-file-movie-o:before,.fa-file-video-o:before{content:"\f1c8"}.fa-file-code-o:before{content:"\f1c9"}.fa-vine:before{content:"\f1ca"}.fa-codepen:before{content:"\f1cb"}.fa-jsfiddle:before{content:"\f1cc"}.fa-life-bouy:before,.fa-life-buoy:before,.fa-life-ring:before,.fa-life-saver:before,.fa-support:before{content:"\f1cd"}.fa-circle-o-notch:before{content:"\f1ce"}.fa-ra:before,.fa-rebel:before{content:"\f1d0"}.fa-empire:before,.fa-ge:before{content:"\f1d1"}.fa-git-square:before{content:"\f1d2"}.fa-git:before{content:"\f1d3"}.fa-hacker-news:before{content:"\f1d4"}.fa-tencent-weibo:before{content:"\f1d5"}.fa-qq:before{content:"\f1d6"}.fa-wechat:before,.fa-weixin:before{content:"\f1d7"}.fa-paper-plane:before,.fa-send:before{content:"\f1d8"}.fa-paper-plane-o:before,.fa-send-o:before{content:"\f1d9"}.fa-history:before{content:"\f1da"}.fa-circle-thin:before{content:"\f1db"}.fa-header:before{content:"\f1dc"}.fa-paragraph:before{content:"\f1dd"}.fa-sliders:before{content:"\f1de"}.fa-share-alt:before{content:"\f1e0"}.fa-share-alt-square:before{content:"\f1e1"}.fa-bomb:before{content:"\f1e2"}.fa-futbol-o:before,.fa-soccer-ball-o:before{content:"\f1e3"}.fa-tty:before{content:"\f1e4"}.fa-binoculars:before{content:"\f1e5"}.fa-plug:before{content:"\f1e6"}.fa-slideshare:before{content:"\f1e7"}.fa-twitch:before{content:"\f1e8"}.fa-yelp:before{content:"\f1e9"}.fa-newspaper-o:before{content:"\f1ea"}.fa-wifi:before{content:"\f1eb"}.fa-calculator:before{content:"\f1ec"}.fa-paypal:before{content:"\f1ed"}.fa-google-wallet:before{content:"\f1ee"}.fa-cc-visa:before{content:"\f1f0"}.fa-cc-mastercard:before{content:"\f1f1"}.fa-cc-discover:before{content:"\f1f2"}.fa-cc-amex:before{content:"\f1f3"}.fa-cc-paypal:before{content:"\f1f4"}.fa-cc-stripe:before{content:"\f1f5"}.fa-bell-slash:before{content:"\f1f6"}.fa-bell-slash-o:before{content:"\f1f7"}.fa-trash:before{content:"\f1f8"}.fa-copyright:before{content:"\f1f9"}.fa-at:before{content:"\f1fa"}.fa-eyedropper:before{content:"\f1fb"}.fa-paint-brush:before{content:"\f1fc"}.fa-birthday-cake:before{content:"\f1fd"}.fa-area-chart:before{content:"\f1fe"}.fa-pie-chart:before{content:"\f200"}.fa-line-chart:before{content:"\f201"}.fa-lastfm:before{content:"\f202"}.fa-lastfm-square:before{content:"\f203"}.fa-toggle-off:before{content:"\f204"}.fa-toggle-on:before{content:"\f205"}.fa-bicycle:before{content:"\f206"}.fa-bus:before{content:"\f207"}.fa-ioxhost:before{content:"\f208"}.fa-angellist:before{content:"\f209"}.fa-cc:before{content:"\f20a"}.fa-ils:before,.fa-shekel:before,.fa-sheqel:before{content:"\f20b"}.fa-meanpath:before{content:"\f20c"}/*!
*
* IPython base
*
*/.modal.fade .modal-dialog{-webkit-transform:translate(0,0);-ms-transform:translate(0,0);-o-transform:translate(0,0);transform:translate(0,0)}code{color:#000}pre{font-size:inherit;line-height:inherit}label{font-weight:400}.border-box-sizing{box-sizing:border-box;-moz-box-sizing:border-box;-webkit-box-sizing:border-box}.corner-all{border-radius:2px}.no-padding{padding:0}.hbox{display:-webkit-box;-webkit-box-orient:horizontal;display:-moz-box;-moz-box-orient:horizontal;display:box;box-orient:horizontal;box-align:stretch;display:flex;flex-direction:row;align-items:stretch}.hbox>*{-webkit-box-flex:0;-moz-box-flex:0;box-flex:0;flex:none}.vbox{display:-webkit-box;-webkit-box-orient:vertical;display:-moz-box;-moz-box-orient:vertical;display:box;box-orient:vertical;box-align:stretch;display:flex;flex-direction:column;align-items:stretch}.vbox>*{-webkit-box-flex:0;-moz-box-flex:0;box-flex:0;flex:none}.hbox.reverse,.reverse,.vbox.reverse{-webkit-box-direction:reverse;-moz-box-direction:reverse;box-direction:reverse;flex-direction:row-reverse}.box-flex0,.hbox.box-flex0,.vbox.box-flex0{-webkit-box-flex:0;-moz-box-flex:0;box-flex:0;flex:none;width:auto}.box-flex1,.hbox.box-flex1,.vbox.box-flex1{-webkit-box-flex:1;-moz-box-flex:1;box-flex:1;flex:1}.box-flex,.hbox.box-flex,.vbox.box-flex{-webkit-box-flex:1;-moz-box-flex:1;box-flex:1;flex:1}.box-flex2,.hbox.box-flex2,.vbox.box-flex2{-webkit-box-flex:2;-moz-box-flex:2;box-flex:2;flex:2}.box-group1{-webkit-box-flex-group:1;-moz-box-flex-group:1;box-flex-group:1}.box-group2{-webkit-box-flex-group:2;-moz-box-flex-group:2;box-flex-group:2}.hbox.start,.start,.vbox.start{-webkit-box-pack:start;-moz-box-pack:start;box-pack:start;justify-content:flex-start}.end,.hbox.end,.vbox.end{-webkit-box-pack:end;-moz-box-pack:end;box-pack:end;justify-content:flex-end}.center,.hbox.center,.vbox.center{-webkit-box-pack:center;-moz-box-pack:center;box-pack:center;justify-content:center}.baseline,.hbox.baseline,.vbox.baseline{-webkit-box-pack:baseline;-moz-box-pack:baseline;box-pack:baseline;justify-content:baseline}.hbox.stretch,.stretch,.vbox.stretch{-webkit-box-pack:stretch;-moz-box-pack:stretch;box-pack:stretch;justify-content:stretch}.align-start,.hbox.align-start,.vbox.align-start{-webkit-box-align:start;-moz-box-align:start;box-align:start;align-items:flex-start}.align-end,.hbox.align-end,.vbox.align-end{-webkit-box-align:end;-moz-box-align:end;box-align:end;align-items:flex-end}.align-center,.hbox.align-center,.vbox.align-center{-webkit-box-align:center;-moz-box-align:center;box-align:center;align-items:center}.align-baseline,.hbox.align-baseline,.vbox.align-baseline{-webkit-box-align:baseline;-moz-box-align:baseline;box-align:baseline;align-items:baseline}.align-stretch,.hbox.align-stretch,.vbox.align-stretch{-webkit-box-align:stretch;-moz-box-align:stretch;box-align:stretch;align-items:stretch}div.error{margin:2em;text-align:center}div.error>h1{font-size:500%;line-height:normal}div.error>p{font-size:200%;line-height:normal}div.traceback-wrapper{text-align:left;max-width:800px;margin:auto}body{position:absolute;left:0;right:0;top:0;bottom:0;overflow:visible}#header{display:none;background-color:#fff;position:relative;z-index:100}#header #header-container{padding-bottom:5px;padding-top:5px;box-sizing:border-box;-moz-box-sizing:border-box;-webkit-box-sizing:border-box}#header .header-bar{width:100%;height:1px;background:#e7e7e7;margin-bottom:-1px}#header-spacer{width:100%;visibility:hidden}@media print{#header{display:none!important}#header-spacer{display:none}}#ipython_notebook{padding-left:0;padding-top:1px;padding-bottom:1px}@media (max-width:991px){#ipython_notebook{margin-left:10px}}#noscript{width:auto;padding-top:16px;padding-bottom:16px;text-align:center;font-size:22px;color:red;font-weight:700}#ipython_notebook img{height:28px}#site{width:100%;display:none;box-sizing:border-box;-moz-box-sizing:border-box;-webkit-box-sizing:border-box;overflow:auto}@media print{#site{height:auto!important}}.ui-button .ui-button-text{padding:.2em .8em;font-size:77%}input.ui-button{padding:.3em .9em}span#login_widget{float:right}#logout,span#login_widget>.button{color:#333;background-color:#fff;border-color:#ccc}#logout.active,#logout.focus,#logout:active,#logout:focus,#logout:hover,.open>.dropdown-toggle#logout,.open>.dropdown-togglespan#login_widget>.button,span#login_widget>.button.active,span#login_widget>.button.focus,span#login_widget>.button:active,span#login_widget>.button:focus,span#login_widget>.button:hover{color:#333;background-color:#e6e6e6;border-color:#adadad}#logout.active,#logout:active,.open>.dropdown-toggle#logout,.open>.dropdown-togglespan#login_widget>.button,span#login_widget>.button.active,span#login_widget>.button:active{background-image:none}#logout.disabled,#logout.disabled.active,#logout.disabled.focus,#logout.disabled:active,#logout.disabled:focus,#logout.disabled:hover,#logout[disabled],#logout[disabled].active,#logout[disabled].focus,#logout[disabled]:active,#logout[disabled]:focus,#logout[disabled]:hover,fieldset[disabled] #logout,fieldset[disabled] #logout.active,fieldset[disabled] #logout.focus,fieldset[disabled] #logout:active,fieldset[disabled] #logout:focus,fieldset[disabled] #logout:hover,fieldset[disabled] span#login_widget>.button,fieldset[disabled] span#login_widget>.button.active,fieldset[disabled] span#login_widget>.button.focus,fieldset[disabled] span#login_widget>.button:active,fieldset[disabled] span#login_widget>.button:focus,fieldset[disabled] span#login_widget>.button:hover,span#login_widget>.button.disabled,span#login_widget>.button.disabled.active,span#login_widget>.button.disabled.focus,span#login_widget>.button.disabled:active,span#login_widget>.button.disabled:focus,span#login_widget>.button.disabled:hover,span#login_widget>.button[disabled],span#login_widget>.button[disabled].active,span#login_widget>.button[disabled].focus,span#login_widget>.button[disabled]:active,span#login_widget>.button[disabled]:focus,span#login_widget>.button[disabled]:hover{background-color:#fff;border-color:#ccc}#logout .badge,span#login_widget>.button .badge{color:#fff;background-color:#333}.nav-header{text-transform:none}#header>span{margin-top:10px}.modal_stretch .modal-dialog{display:-webkit-box;-webkit-box-orient:vertical;display:-moz-box;-moz-box-orient:vertical;display:box;box-orient:vertical;box-align:stretch;display:flex;flex-direction:column;align-items:stretch;min-height:80vh}.modal_stretch .modal-dialog .modal-body{max-height:calc(100vh - 200px);overflow:auto;flex:1}@media (min-width:768px){.modal .modal-dialog{width:700px}select.form-control{margin-left:12px;margin-right:12px}}/*!
*
* IPython auth
*
*/.center-nav{display:inline-block;margin-bottom:-4px}/*!
*
* IPython tree view
*
*/.alternate_upload{background-color:none;display:inline}.alternate_upload.form{padding:0;margin:0}.alternate_upload input.fileinput{text-align:center;vertical-align:middle;display:inline;opacity:0;z-index:2;width:12ex;margin-right:-12ex}.alternate_upload .btn-upload{height:22px}ul#tabs{margin-bottom:4px}ul#tabs a{padding-top:6px;padding-bottom:4px}ul.breadcrumb a:focus,ul.breadcrumb a:hover{text-decoration:none}ul.breadcrumb i.icon-home{font-size:16px;margin-right:4px}ul.breadcrumb span{color:#5e5e5e}.list_toolbar{padding:4px 0;vertical-align:middle}.list_toolbar .tree-buttons{padding-top:1px}.dynamic-buttons{padding-top:3px;display:inline-block}.list_toolbar [class*=span]{min-height:24px}.list_header{font-weight:700;background-color:#eee}.list_placeholder{font-weight:700;padding:4px 7px}.list_container{margin-top:4px;margin-bottom:20px;border:1px solid #ddd;border-radius:2px}.list_container>div{border-bottom:1px solid #ddd}.list_container>div:hover .list-item{background-color:red}.list_container>div:last-child{border:none}.list_item:hover .list_item{background-color:#ddd}.list_item a{text-decoration:none}.list_item:hover{background-color:#fafafa}.action_col{text-align:right}.list_header>div,.list_item>div{line-height:22px;padding:4px 7px}.list_header>div input,.list_item>div input{margin-right:7px;margin-left:14px;vertical-align:baseline;line-height:22px;position:relative;top:-1px}.list_header>div .item_link,.list_item>div .item_link{margin-left:-1px;vertical-align:baseline;line-height:22px}.new-file input[type=checkbox]{visibility:hidden}.item_name{line-height:22px;height:24px}.item_icon{font-size:14px;color:#5e5e5e;margin-right:7px;margin-left:7px;line-height:22px;vertical-align:baseline}.item_buttons{line-height:1em;margin-left:-5px}.item_buttons .btn-group,.item_buttons .input-group{float:left}.item_buttons>.btn,.item_buttons>.btn-group,.item_buttons>.input-group{margin-left:5px}.item_buttons .btn{min-width:13ex}.item_buttons .running-indicator{padding-top:4px;color:#5cb85c}.toolbar_info{height:24px;line-height:24px}input.engine_num_input,input.nbname_input{padding-top:3px;padding-bottom:3px;height:22px;line-height:14px;margin:0}input.engine_num_input{width:60px}.highlight_text{color:#00f}#project_name{display:inline-block;padding-left:7px;margin-left:-2px}#project_name>.breadcrumb{padding:0;margin-bottom:0;background-color:transparent;font-weight:700}#tree-selector{padding-right:0}#button-select-all{min-width:50px}#select-all{margin-left:7px;margin-right:2px}.menu_icon{margin-right:2px}.tab-content .row{margin-left:0;margin-right:0}.folder_icon:before{display:inline-block;font:normal normal normal 14px/1 FontAwesome;font-size:inherit;text-rendering:auto;-webkit-font-smoothing:antialiased;-moz-osx-font-smoothing:grayscale;content:"\f114"}.folder_icon:before.pull-left{margin-right:.3em}.folder_icon:before.pull-right{margin-left:.3em}.notebook_icon:before{display:inline-block;font:normal normal normal 14px/1 FontAwesome;font-size:inherit;text-rendering:auto;-webkit-font-smoothing:antialiased;-moz-osx-font-smoothing:grayscale;content:"\f02d";position:relative;top:-1px}.notebook_icon:before.pull-left{margin-right:.3em}.notebook_icon:before.pull-right{margin-left:.3em}.running_notebook_icon:before{display:inline-block;font:normal normal normal 14px/1 FontAwesome;font-size:inherit;text-rendering:auto;-webkit-font-smoothing:antialiased;-moz-osx-font-smoothing:grayscale;content:"\f02d";position:relative;top:-1px;color:#5cb85c}.running_notebook_icon:before.pull-left{margin-right:.3em}.running_notebook_icon:before.pull-right{margin-left:.3em}.file_icon:before{display:inline-block;font:normal normal normal 14px/1 FontAwesome;font-size:inherit;text-rendering:auto;-webkit-font-smoothing:antialiased;-moz-osx-font-smoothing:grayscale;content:"\f016";position:relative;top:-2px}.file_icon:before.pull-left{margin-right:.3em}.file_icon:before.pull-right{margin-left:.3em}#notebook_toolbar .pull-right{padding-top:0;margin-right:-1px}ul#new-menu{left:auto;right:0}.kernel-menu-icon{padding-right:12px;width:24px;content:"\f096"}.kernel-menu-icon:before{content:"\f096"}.kernel-menu-icon-current:before{content:"\f00c"}#tab_content{padding-top:20px}#running .panel-group .panel{margin-top:3px;margin-bottom:1em}#running .panel-group .panel .panel-heading{background-color:#eee;line-height:22px;padding:4px 7px}#running .panel-group .panel .panel-heading a:focus,#running .panel-group .panel .panel-heading a:hover{text-decoration:none}#running .panel-group .panel .panel-body{padding:0}#running .panel-group .panel .panel-body .list_container{margin-top:0;margin-bottom:0;border:0;border-radius:0}#running .panel-group .panel .panel-body .list_container .list_item{border-bottom:1px solid #ddd}#running .panel-group .panel .panel-body .list_container .list_item:last-child{border-bottom:0}.delete-button,.duplicate-button,.rename-button,.shutdown-button{display:none}.dynamic-instructions{display:inline-block;padding-top:4px}/*!
*
* IPython text editor webapp
*
*/.selected-keymap i.fa{padding:0 5px}.selected-keymap i.fa:before{content:"\f00c"}#mode-menu{overflow:auto;max-height:20em}.edit_app #header{-webkit-box-shadow:0 0 12px 1px rgba(87,87,87,.2);box-shadow:0 0 12px 1px rgba(87,87,87,.2)}.edit_app #menubar .navbar{margin-bottom:-1px}.dirty-indicator{display:inline-block;font:normal normal normal 14px/1 FontAwesome;font-size:inherit;text-rendering:auto;-webkit-font-smoothing:antialiased;-moz-osx-font-smoothing:grayscale;width:20px}.dirty-indicator.pull-left{margin-right:.3em}.dirty-indicator.pull-right{margin-left:.3em}.dirty-indicator-dirty{display:inline-block;font:normal normal normal 14px/1 FontAwesome;font-size:inherit;text-rendering:auto;-webkit-font-smoothing:antialiased;-moz-osx-font-smoothing:grayscale;width:20px}.dirty-indicator-dirty.pull-left{margin-right:.3em}.dirty-indicator-dirty.pull-right{margin-left:.3em}.dirty-indicator-clean{display:inline-block;font:normal normal normal 14px/1 FontAwesome;font-size:inherit;text-rendering:auto;-webkit-font-smoothing:antialiased;-moz-osx-font-smoothing:grayscale;width:20px}.dirty-indicator-clean.pull-left{margin-right:.3em}.dirty-indicator-clean.pull-right{margin-left:.3em}.dirty-indicator-clean:before{display:inline-block;font:normal normal normal 14px/1 FontAwesome;font-size:inherit;text-rendering:auto;-webkit-font-smoothing:antialiased;-moz-osx-font-smoothing:grayscale;content:"\f00c"}.dirty-indicator-clean:before.pull-left{margin-right:.3em}.dirty-indicator-clean:before.pull-right{margin-left:.3em}#filename{font-size:16pt;display:table;padding:0 5px}#current-mode{padding-left:5px;padding-right:5px}#texteditor-backdrop{padding-top:20px;padding-bottom:20px}@media not print{#texteditor-backdrop{background-color:#eee}}@media print{#texteditor-backdrop #texteditor-container .CodeMirror-gutter,#texteditor-backdrop #texteditor-container .CodeMirror-gutters{background-color:#fff}}@media not print{#texteditor-backdrop #texteditor-container .CodeMirror-gutter,#texteditor-backdrop #texteditor-container .CodeMirror-gutters{background-color:#fff}#texteditor-backdrop #texteditor-container{padding:0;background-color:#fff;-webkit-box-shadow:0 0 12px 1px rgba(87,87,87,.2);box-shadow:0 0 12px 1px rgba(87,87,87,.2)}}/*!
*
* IPython notebook
*
*/.ansibold{font-weight:700}.ansiblack{color:#000}.ansired{color:#8b0000}.ansigreen{color:#006400}.ansiyellow{color:#c4a000}.ansiblue{color:#00008b}.ansipurple{color:#9400d3}.ansicyan{color:#4682b4}.ansigray{color:gray}.ansibgblack{background-color:#000}.ansibgred{background-color:red}.ansibggreen{background-color:green}.ansibgyellow{background-color:#ff0}.ansibgblue{background-color:#00f}.ansibgpurple{background-color:#ff00ff}.ansibgcyan{background-color:#0ff}.ansibggray{background-color:gray}div.cell{border:1px solid transparent;display:-webkit-box;-webkit-box-orient:vertical;display:-moz-box;-moz-box-orient:vertical;display:box;box-orient:vertical;box-align:stretch;display:flex;flex-direction:column;align-items:stretch;border-radius:2px;box-sizing:border-box;-moz-box-sizing:border-box;border-width:thin;border-style:solid;width:100%;padding:5px;margin:0;outline:0}div.cell.selected{border-color:#ababab}@media print{div.cell.selected{border-color:transparent}}.edit_mode div.cell.selected{border-color:green}.prompt{min-width:14ex;padding:.4em;margin:0;font-family:monospace;text-align:right;line-height:1.21429em}div.inner_cell{display:-webkit-box;-webkit-box-orient:vertical;display:-moz-box;-moz-box-orient:vertical;display:box;box-orient:vertical;box-align:stretch;display:flex;flex-direction:column;align-items:stretch;-webkit-box-flex:1;-moz-box-flex:1;box-flex:1;flex:1}@-moz-document url-prefix(){div.inner_cell{overflow-x:hidden}}div.input_area{border:1px solid #cfcfcf;border-radius:2px;background:#f7f7f7;line-height:1.21429em}div.prompt:empty{padding-top:0;padding-bottom:0}div.unrecognized_cell{padding:5px 5px 5px 0;display:-webkit-box;-webkit-box-orient:horizontal;display:-moz-box;-moz-box-orient:horizontal;display:box;box-orient:horizontal;box-align:stretch;display:flex;flex-direction:row;align-items:stretch}div.unrecognized_cell .inner_cell{border-radius:2px;padding:5px;font-weight:700;color:red;border:1px solid #cfcfcf;background:#eaeaea}div.unrecognized_cell .inner_cell a,div.unrecognized_cell .inner_cell a:hover{color:inherit;text-decoration:none}@media (max-width:540px){.prompt{text-align:left}div.unrecognized_cell>div.prompt{display:none}}div.code_cell{}div.input{page-break-inside:avoid;display:-webkit-box;-webkit-box-orient:horizontal;display:-moz-box;-moz-box-orient:horizontal;display:box;box-orient:horizontal;box-align:stretch;display:flex;flex-direction:row;align-items:stretch}@media (max-width:540px){div.input{-webkit-box-orient:vertical;-moz-box-orient:vertical;box-orient:vertical;box-align:stretch;display:flex;flex-direction:column;align-items:stretch}}div.input_prompt{color:navy;border-top:1px solid transparent}div.input_area>div.highlight{margin:.4em;border:none;padding:0;background-color:transparent}div.input_area>div.highlight>pre{margin:0;border:none;padding:0;background-color:transparent}.CodeMirror{line-height:1.21429em;font-size:14px;height:auto;background:0 0}.CodeMirror-scroll{overflow-y:hidden;overflow-x:auto}.CodeMirror-lines{padding:.4em}.CodeMirror-linenumber{padding:0 8px 0 4px}.CodeMirror-gutters{border-bottom-left-radius:2px;border-top-left-radius:2px}.CodeMirror pre{padding:0;border:0;border-radius:0}.highlight-base,.highlight-variable{color:#000}.highlight-variable-2{color:#1a1a1a}.highlight-variable-3{color:#333}.highlight-string{color:#BA2121}.highlight-comment{color:#408080;font-style:italic}.highlight-number{color:#080}.highlight-atom{color:#88F}.highlight-keyword{color:green;font-weight:700}.highlight-builtin{color:green}.highlight-error{color:red}.highlight-operator{color:#A2F;font-weight:700}.highlight-meta{color:#A2F}.highlight-def{color:#00f}.highlight-string-2{color:#f50}.highlight-qualifier{color:#555}.highlight-bracket{color:#997}.highlight-tag{color:#170}.highlight-attribute{color:#00c}.highlight-header{color:#00f}.highlight-quote{color:#090}.highlight-link{color:#00c}.cm-s-ipython span.cm-keyword{color:green;font-weight:700}.cm-s-ipython span.cm-atom{color:#88F}.cm-s-ipython span.cm-number{color:#080}.cm-s-ipython span.cm-def{color:#00f}.cm-s-ipython span.cm-variable{color:#000}.cm-s-ipython span.cm-operator{color:#A2F;font-weight:700}.cm-s-ipython span.cm-variable-2{color:#1a1a1a}.cm-s-ipython span.cm-variable-3{color:#333}.cm-s-ipython span.cm-comment{color:#408080;font-style:italic}.cm-s-ipython span.cm-string{color:#BA2121}.cm-s-ipython span.cm-string-2{color:#f50}.cm-s-ipython span.cm-meta{color:#A2F}.cm-s-ipython span.cm-qualifier{color:#555}.cm-s-ipython span.cm-builtin{color:green}.cm-s-ipython span.cm-bracket{color:#997}.cm-s-ipython span.cm-tag{color:#170}.cm-s-ipython span.cm-attribute{color:#00c}.cm-s-ipython span.cm-header{color:#00f}.cm-s-ipython span.cm-quote{color:#090}.cm-s-ipython span.cm-link{color:#00c}.cm-s-ipython span.cm-error{color:red}.cm-s-ipython span.cm-tab{background:url('data:image/png;base64,iVBORw0KGgoAAAANSUhEUgAAADAAAAAMCAYAAAAkuj5RAAAAAXNSR0IArs4c6QAAAGFJREFUSMft1LsRQFAQheHPowAKoACx3IgEKtaEHujDjORSgWTH/ZOdnZOcM/sgk/kFFWY0qV8foQwS4MKBCS3qR6ixBJvElOobYAtivseIE120FaowJPN75GMu8j/LfMwNjh4HUpwg4LUAAAAASUVORK5CYII=')right no-repeat}div.output_wrapper{display:-webkit-box;-webkit-box-align:stretch;display:-moz-box;-moz-box-align:stretch;display:box;box-orient:vertical;box-align:stretch;display:flex;flex-direction:column;align-items:stretch;z-index:1}div.output_scroll{height:24em;width:100%;overflow:auto;border-radius:2px;-webkit-box-shadow:inset 0 2px 8px rgba(0,0,0,.8);box-shadow:inset 0 2px 8px rgba(0,0,0,.8);display:block}div.output_collapsed{margin:0;padding:0;display:-webkit-box;-webkit-box-orient:vertical;display:-moz-box;-moz-box-orient:vertical;display:box;box-orient:vertical;box-align:stretch;display:flex;flex-direction:column;align-items:stretch}div.out_prompt_overlay{height:100%;padding:0 .4em;position:absolute;border-radius:2px}div.out_prompt_overlay:hover{-webkit-box-shadow:inset 0 0 1px #000;box-shadow:inset 0 0 1px #000;background:rgba(240,240,240,.5)}div.output_prompt{color:#8b0000}div.output_area{padding:0;page-break-inside:avoid;display:-webkit-box;-webkit-box-orient:horizontal;display:-moz-box;-moz-box-orient:horizontal;display:box;box-orient:horizontal;box-align:stretch;display:flex;flex-direction:row;align-items:stretch}div.output_area .MathJax_Display{text-align:left!important}div.output_area .rendered_html img,div.output_area .rendered_html table{margin-left:0;margin-right:0}div.output_area img,div.output_area svg{max-width:100%;height:auto}div.output_area img.unconfined,div.output_area svg.unconfined{max-width:none}.output{display:-webkit-box;-webkit-box-orient:vertical;display:-moz-box;-moz-box-orient:vertical;display:box;box-orient:vertical;box-align:stretch;display:flex;flex-direction:column;align-items:stretch}@media (max-width:540px){div.output_area{-webkit-box-orient:vertical;-moz-box-orient:vertical;box-orient:vertical;box-align:stretch;display:flex;flex-direction:column;align-items:stretch}}div.output_area pre{margin:0;padding:0;border:0;vertical-align:baseline;color:#000;background-color:transparent;border-radius:0}div.output_subarea{overflow-x:auto;padding:.4em;-webkit-box-flex:1;-moz-box-flex:1;box-flex:1;flex:1;max-width:calc(100% - 14ex)}div.output_text{text-align:left;color:#000;line-height:1.21429em}div.output_stderr{background:#fdd}div.output_latex{text-align:left}div.output_javascript:empty{padding:0}.js-error{color:#8b0000}div.raw_input_container{font-family:monospace;padding-top:5px}span.raw_input_prompt{}input.raw_input{font-family:inherit;font-size:inherit;color:inherit;width:auto;vertical-align:baseline;padding:0 .25em;margin:0 .25em}input.raw_input:focus{box-shadow:none}p.p-space{margin-bottom:10px}div.output_unrecognized{padding:5px;font-weight:700;color:red}div.output_unrecognized a,div.output_unrecognized a:hover{color:inherit;text-decoration:none}.rendered_html{color:#000}.rendered_html em{font-style:italic}.rendered_html strong{font-weight:700}.rendered_html :link,.rendered_html :visited,.rendered_html u{text-decoration:underline}.rendered_html h1{font-size:185.7%;margin:1.08em 0 0;font-weight:700;line-height:1}.rendered_html h2{font-size:157.1%;margin:1.27em 0 0;font-weight:700;line-height:1}.rendered_html h3{font-size:128.6%;margin:1.55em 0 0;font-weight:700;line-height:1}.rendered_html h4{font-size:100%;margin:2em 0 0;font-weight:700;line-height:1}.rendered_html h5,.rendered_html h6{font-size:100%;margin:2em 0 0;font-weight:700;line-height:1;font-style:italic}.rendered_html h1:first-child{margin-top:.538em}.rendered_html h2:first-child{margin-top:.636em}.rendered_html h3:first-child{margin-top:.777em}.rendered_html h4:first-child,.rendered_html h5:first-child,.rendered_html h6:first-child{margin-top:1em}.rendered_html ul{list-style:disc;margin:0 2em;padding-left:0}.rendered_html ul ul{list-style:square;margin:0 2em}.rendered_html ul ul ul{list-style:circle;margin:0 2em}.rendered_html ol{list-style:decimal;margin:0 2em;padding-left:0}.rendered_html ol ol{list-style:upper-alpha;margin:0 2em}.rendered_html ol ol ol{list-style:lower-alpha;margin:0 2em}.rendered_html ol ol ol ol{list-style:lower-roman;margin:0 2em}.rendered_html ol ol ol ol ol{list-style:decimal;margin:0 2em}.rendered_html *+ol,.rendered_html *+ul{margin-top:1em}.rendered_html hr{color:#000;background-color:#000}.rendered_html pre{margin:1em 2em}.rendered_html code,.rendered_html pre{border:0;background-color:#fff;color:#000;font-size:100%;padding:0}.rendered_html blockquote{margin:1em 2em}.rendered_html table{margin-left:auto;margin-right:auto;border:1px solid #000;border-collapse:collapse}.rendered_html td,.rendered_html th,.rendered_html tr{border:1px solid #000;border-collapse:collapse;margin:1em 2em}.rendered_html td,.rendered_html th{text-align:left;vertical-align:middle;padding:4px}.rendered_html th{font-weight:700}.rendered_html *+table{margin-top:1em}.rendered_html p{text-align:left}.rendered_html *+p{margin-top:1em}.rendered_html img{display:block;margin-left:auto;margin-right:auto}.rendered_html *+img{margin-top:1em}.rendered_html img,.rendered_html svg{max-width:100%;height:auto}.rendered_html img.unconfined,.rendered_html svg.unconfined{max-width:none}div.text_cell{display:-webkit-box;-webkit-box-orient:horizontal;display:-moz-box;-moz-box-orient:horizontal;display:box;box-orient:horizontal;box-align:stretch;display:flex;flex-direction:row;align-items:stretch}@media (max-width:540px){div.text_cell>div.prompt{display:none}}div.text_cell_render{outline:0;resize:none;width:inherit;border-style:none;padding:.5em .5em .5em .4em;color:#000;box-sizing:border-box;-moz-box-sizing:border-box;-webkit-box-sizing:border-box}a.anchor-link:link{text-decoration:none;padding:0 20px;visibility:hidden}h1:hover .anchor-link,h2:hover .anchor-link,h3:hover .anchor-link,h4:hover .anchor-link,h5:hover .anchor-link,h6:hover .anchor-link{visibility:visible}.text_cell.rendered .input_area{display:none}.text_cell.rendered .rendered_html{overflow-x:auto}.text_cell.unrendered .text_cell_render{display:none}.cm-header-1,.cm-header-2,.cm-header-3,.cm-header-4,.cm-header-5,.cm-header-6{font-weight:700;font-family:"Helvetica Neue",Helvetica,Arial,sans-serif}.cm-header-1{font-size:185.7%}.cm-header-2{font-size:157.1%}.cm-header-3{font-size:128.6%}.cm-header-4{font-size:110%}.cm-header-5,.cm-header-6{font-size:100%;font-style:italic}/*!
*
* IPython notebook webapp
*
*/@media (max-width:767px){.notebook_app{padding-left:0;padding-right:0}}#ipython-main-app{box-sizing:border-box;-moz-box-sizing:border-box;-webkit-box-sizing:border-box;height:100%}div#notebook_panel{margin:0;padding:0;box-sizing:border-box;-moz-box-sizing:border-box;-webkit-box-sizing:border-box;height:100%}#notebook{font-size:14px;line-height:20px;overflow-y:hidden;overflow-x:auto;width:100%;padding-top:20px;margin:0;outline:0;box-sizing:border-box;-moz-box-sizing:border-box;-webkit-box-sizing:border-box;min-height:100%}@media not print{#notebook-container{padding:15px;background-color:#fff;min-height:0;-webkit-box-shadow:0 0 12px 1px rgba(87,87,87,.2);box-shadow:0 0 12px 1px rgba(87,87,87,.2)}}div.ui-widget-content{border:1px solid #ababab;outline:0}pre.dialog{background-color:#f7f7f7;border:1px solid #ddd;border-radius:2px;padding:.4em .4em .4em 2em}p.dialog{padding:.2em}code,kbd,pre,samp{white-space:pre-wrap}#fonttest{font-family:monospace}p{margin-bottom:0}.end_space{min-height:100px;transition:height .2s ease}.notebook_app #header{-webkit-box-shadow:0 0 12px 1px rgba(87,87,87,.2);box-shadow:0 0 12px 1px rgba(87,87,87,.2)}@media not print{.notebook_app{background-color:#eee}}.celltoolbar{border:thin solid #CFCFCF;border-bottom:none;background:#EEE;border-radius:2px 2px 0 0;width:100%;height:29px;padding-right:4px;-webkit-box-orient:horizontal;-moz-box-orient:horizontal;box-orient:horizontal;box-align:stretch;display:flex;flex-direction:row;align-items:stretch;-webkit-box-pack:end;-moz-box-pack:end;box-pack:end;justify-content:flex-end;font-size:87%;padding-top:3px}@media print{.edit_mode div.cell.selected{border-color:transparent}div.code_cell{page-break-inside:avoid}#notebook-container{width:100%}.celltoolbar{display:none}}.ctb_hideshow{display:none;vertical-align:bottom}.ctb_global_show .ctb_show.ctb_hideshow{display:block}.ctb_global_show .ctb_show+.input_area,.ctb_global_show .ctb_show+div.text_cell_input,.ctb_global_show .ctb_show~div.text_cell_render{border-top-right-radius:0;border-top-left-radius:0}.ctb_global_show .ctb_show~div.text_cell_render{border:1px solid #cfcfcf}.celltoolbar select{color:#555;background-color:#fff;background-image:none;border:1px solid #ccc;-webkit-box-shadow:inset 0 1px 1px rgba(0,0,0,.075);box-shadow:inset 0 1px 1px rgba(0,0,0,.075);-webkit-transition:border-color ease-in-out .15s,box-shadow ease-in-out .15s;-o-transition:border-color ease-in-out .15s,box-shadow ease-in-out .15s;transition:border-color ease-in-out .15s,box-shadow ease-in-out .15s;line-height:1.5;border-radius:1px;width:inherit;font-size:inherit;height:22px;padding:0;display:inline-block}.celltoolbar select:focus{border-color:#66afe9;outline:0;-webkit-box-shadow:inset 0 1px 1px rgba(0,0,0,.075),0 0 8px rgba(102,175,233,.6);box-shadow:inset 0 1px 1px rgba(0,0,0,.075),0 0 8px rgba(102,175,233,.6)}.celltoolbar select::-moz-placeholder{color:#999;opacity:1}.celltoolbar select:-ms-input-placeholder{color:#999}.celltoolbar select::-webkit-input-placeholder{color:#999}.celltoolbar select[disabled],.celltoolbar select[readonly],fieldset[disabled] .celltoolbar select{background-color:#eee;opacity:1}.celltoolbar select[disabled],fieldset[disabled] .celltoolbar select{cursor:not-allowed}textarea.celltoolbar select{height:auto}select.celltoolbar select{height:30px;line-height:30px}select[multiple].celltoolbar select,textarea.celltoolbar select{height:auto}.celltoolbar label{margin-left:5px;margin-right:5px}.completions{position:absolute;z-index:10;overflow:hidden;border:1px solid #ababab;border-radius:2px;-webkit-box-shadow:0 6px 10px -1px #adadad;box-shadow:0 6px 10px -1px #adadad;line-height:1}.completions select{background:#fff;outline:0;border:none;padding:0;margin:0;overflow:auto;font-family:monospace;font-size:110%;color:#000;width:auto}.completions select option.context{color:#286090}#kernel_logo_widget{float:right!important;float:right}#kernel_logo_widget .current_kernel_logo{display:none;margin-top:-1px;margin-bottom:-1px;width:32px;height:32px}#menubar{box-sizing:border-box;-moz-box-sizing:border-box;-webkit-box-sizing:border-box;margin-top:1px}#menubar .navbar{border-top:1px;border-radius:0 0 2px 2px;margin-bottom:0}#menubar .navbar-toggle{float:left;padding-top:7px;padding-bottom:7px;border:none}#menubar .navbar-collapse{clear:left}.nav-wrapper{border-bottom:1px solid #e7e7e7}i.menu-icon{padding-top:4px}ul#help_menu li a{overflow:hidden;padding-right:2.2em}ul#help_menu li a i{margin-right:-1.2em}.dropdown-submenu{position:relative}.dropdown-submenu>.dropdown-menu{top:0;left:100%;margin-top:-6px;margin-left:-1px}.dropdown-submenu:hover>.dropdown-menu{display:block}.dropdown-submenu>a:after{font:normal normal normal 14px/1 FontAwesome;font-size:inherit;text-rendering:auto;-webkit-font-smoothing:antialiased;-moz-osx-font-smoothing:grayscale;display:block;content:"\f0da";float:right;color:#333;margin-top:2px;margin-right:-10px}.dropdown-submenu>a:after.pull-left{margin-right:.3em}.dropdown-submenu>a:after.pull-right{margin-left:.3em}.dropdown-submenu:hover>a:after{color:#262626}.dropdown-submenu.pull-left{float:none}.dropdown-submenu.pull-left>.dropdown-menu{left:-100%;margin-left:10px}#notification_area{float:right!important;float:right;z-index:10}.indicator_area{float:right!important;float:right;color:#777;margin-left:5px;margin-right:5px;z-index:10;text-align:center;width:auto}#kernel_indicator{float:right!important;float:right;color:#777;margin-left:5px;margin-right:5px;z-index:10;text-align:center;width:auto;border-left:1px solid}#kernel_indicator .kernel_indicator_name{padding-left:5px;padding-right:5px}#modal_indicator{float:right!important;float:right;color:#777;margin-left:5px;margin-right:5px;z-index:10;text-align:center;width:auto}#readonly-indicator{float:right!important;float:right;color:#777;z-index:10;text-align:center;width:auto;display:none;margin:2px 0 0}.modal_indicator:before{width:1.28571429em;text-align:center}.edit_mode .modal_indicator:before{display:inline-block;font:normal normal normal 14px/1 FontAwesome;font-size:inherit;text-rendering:auto;-webkit-font-smoothing:antialiased;-moz-osx-font-smoothing:grayscale;content:"\f040"}.edit_mode .modal_indicator:before.pull-left{margin-right:.3em}.edit_mode .modal_indicator:before.pull-right{margin-left:.3em}.command_mode .modal_indicator:before{display:inline-block;font:normal normal normal 14px/1 FontAwesome;font-size:inherit;text-rendering:auto;-webkit-font-smoothing:antialiased;-moz-osx-font-smoothing:grayscale;content:' '}.command_mode .modal_indicator:before.pull-left{margin-right:.3em}.command_mode .modal_indicator:before.pull-right{margin-left:.3em}.kernel_idle_icon:before{display:inline-block;font:normal normal normal 14px/1 FontAwesome;font-size:inherit;text-rendering:auto;-webkit-font-smoothing:antialiased;-moz-osx-font-smoothing:grayscale;content:"\f10c"}.kernel_idle_icon:before.pull-left{margin-right:.3em}.kernel_idle_icon:before.pull-right{margin-left:.3em}.kernel_busy_icon:before{display:inline-block;font:normal normal normal 14px/1 FontAwesome;font-size:inherit;text-rendering:auto;-webkit-font-smoothing:antialiased;-moz-osx-font-smoothing:grayscale;content:"\f111"}.kernel_busy_icon:before.pull-left{margin-right:.3em}.kernel_busy_icon:before.pull-right{margin-left:.3em}.kernel_dead_icon:before{display:inline-block;font:normal normal normal 14px/1 FontAwesome;font-size:inherit;text-rendering:auto;-webkit-font-smoothing:antialiased;-moz-osx-font-smoothing:grayscale;content:"\f1e2"}.kernel_dead_icon:before.pull-left{margin-right:.3em}.kernel_dead_icon:before.pull-right{margin-left:.3em}.kernel_disconnected_icon:before{display:inline-block;font:normal normal normal 14px/1 FontAwesome;font-size:inherit;text-rendering:auto;-webkit-font-smoothing:antialiased;-moz-osx-font-smoothing:grayscale;content:"\f127"}.kernel_disconnected_icon:before.pull-left{margin-right:.3em}.kernel_disconnected_icon:before.pull-right{margin-left:.3em}.notification_widget{z-index:10;background:rgba(240,240,240,.5);margin-right:4px;color:#333;background-color:#fff;border-color:#ccc}.notification_widget.active,.notification_widget.focus,.notification_widget:active,.notification_widget:focus,.notification_widget:hover,.open>.dropdown-toggle.notification_widget{color:#333;background-color:#e6e6e6;border-color:#adadad}.notification_widget.active,.notification_widget:active,.open>.dropdown-toggle.notification_widget{background-image:none}.notification_widget.disabled,.notification_widget.disabled.active,.notification_widget.disabled.focus,.notification_widget.disabled:active,.notification_widget.disabled:focus,.notification_widget.disabled:hover,.notification_widget[disabled],.notification_widget[disabled].active,.notification_widget[disabled].focus,.notification_widget[disabled]:active,.notification_widget[disabled]:focus,.notification_widget[disabled]:hover,fieldset[disabled] .notification_widget,fieldset[disabled] .notification_widget.active,fieldset[disabled] .notification_widget.focus,fieldset[disabled] .notification_widget:active,fieldset[disabled] .notification_widget:focus,fieldset[disabled] .notification_widget:hover{background-color:#fff;border-color:#ccc}.notification_widget .badge{color:#fff;background-color:#333}.notification_widget.warning{color:#fff;background-color:#f0ad4e;border-color:#eea236}.notification_widget.warning.active,.notification_widget.warning.focus,.notification_widget.warning:active,.notification_widget.warning:focus,.notification_widget.warning:hover,.open>.dropdown-toggle.notification_widget.warning{color:#fff;background-color:#ec971f;border-color:#d58512}.notification_widget.warning.active,.notification_widget.warning:active,.open>.dropdown-toggle.notification_widget.warning{background-image:none}.notification_widget.warning.disabled,.notification_widget.warning.disabled.active,.notification_widget.warning.disabled.focus,.notification_widget.warning.disabled:active,.notification_widget.warning.disabled:focus,.notification_widget.warning.disabled:hover,.notification_widget.warning[disabled],.notification_widget.warning[disabled].active,.notification_widget.warning[disabled].focus,.notification_widget.warning[disabled]:active,.notification_widget.warning[disabled]:focus,.notification_widget.warning[disabled]:hover,fieldset[disabled] .notification_widget.warning,fieldset[disabled] .notification_widget.warning.active,fieldset[disabled] .notification_widget.warning.focus,fieldset[disabled] .notification_widget.warning:active,fieldset[disabled] .notification_widget.warning:focus,fieldset[disabled] .notification_widget.warning:hover{background-color:#f0ad4e;border-color:#eea236}.notification_widget.warning .badge{color:#f0ad4e;background-color:#fff}.notification_widget.success{color:#fff;background-color:#5cb85c;border-color:#4cae4c}.notification_widget.success.active,.notification_widget.success.focus,.notification_widget.success:active,.notification_widget.success:focus,.notification_widget.success:hover,.open>.dropdown-toggle.notification_widget.success{color:#fff;background-color:#449d44;border-color:#398439}.notification_widget.success.active,.notification_widget.success:active,.open>.dropdown-toggle.notification_widget.success{background-image:none}.notification_widget.success.disabled,.notification_widget.success.disabled.active,.notification_widget.success.disabled.focus,.notification_widget.success.disabled:active,.notification_widget.success.disabled:focus,.notification_widget.success.disabled:hover,.notification_widget.success[disabled],.notification_widget.success[disabled].active,.notification_widget.success[disabled].focus,.notification_widget.success[disabled]:active,.notification_widget.success[disabled]:focus,.notification_widget.success[disabled]:hover,fieldset[disabled] .notification_widget.success,fieldset[disabled] .notification_widget.success.active,fieldset[disabled] .notification_widget.success.focus,fieldset[disabled] .notification_widget.success:active,fieldset[disabled] .notification_widget.success:focus,fieldset[disabled] .notification_widget.success:hover{background-color:#5cb85c;border-color:#4cae4c}.notification_widget.success .badge{color:#5cb85c;background-color:#fff}.notification_widget.info{color:#fff;background-color:#5bc0de;border-color:#46b8da}.notification_widget.info.active,.notification_widget.info.focus,.notification_widget.info:active,.notification_widget.info:focus,.notification_widget.info:hover,.open>.dropdown-toggle.notification_widget.info{color:#fff;background-color:#31b0d5;border-color:#269abc}.notification_widget.info.active,.notification_widget.info:active,.open>.dropdown-toggle.notification_widget.info{background-image:none}.notification_widget.info.disabled,.notification_widget.info.disabled.active,.notification_widget.info.disabled.focus,.notification_widget.info.disabled:active,.notification_widget.info.disabled:focus,.notification_widget.info.disabled:hover,.notification_widget.info[disabled],.notification_widget.info[disabled].active,.notification_widget.info[disabled].focus,.notification_widget.info[disabled]:active,.notification_widget.info[disabled]:focus,.notification_widget.info[disabled]:hover,fieldset[disabled] .notification_widget.info,fieldset[disabled] .notification_widget.info.active,fieldset[disabled] .notification_widget.info.focus,fieldset[disabled] .notification_widget.info:active,fieldset[disabled] .notification_widget.info:focus,fieldset[disabled] .notification_widget.info:hover{background-color:#5bc0de;border-color:#46b8da}.notification_widget.info .badge{color:#5bc0de;background-color:#fff}.notification_widget.danger{color:#fff;background-color:#d9534f;border-color:#d43f3a}.notification_widget.danger.active,.notification_widget.danger.focus,.notification_widget.danger:active,.notification_widget.danger:focus,.notification_widget.danger:hover,.open>.dropdown-toggle.notification_widget.danger{color:#fff;background-color:#c9302c;border-color:#ac2925}.notification_widget.danger.active,.notification_widget.danger:active,.open>.dropdown-toggle.notification_widget.danger{background-image:none}.notification_widget.danger.disabled,.notification_widget.danger.disabled.active,.notification_widget.danger.disabled.focus,.notification_widget.danger.disabled:active,.notification_widget.danger.disabled:focus,.notification_widget.danger.disabled:hover,.notification_widget.danger[disabled],.notification_widget.danger[disabled].active,.notification_widget.danger[disabled].focus,.notification_widget.danger[disabled]:active,.notification_widget.danger[disabled]:focus,.notification_widget.danger[disabled]:hover,fieldset[disabled] .notification_widget.danger,fieldset[disabled] .notification_widget.danger.active,fieldset[disabled] .notification_widget.danger.focus,fieldset[disabled] .notification_widget.danger:active,fieldset[disabled] .notification_widget.danger:focus,fieldset[disabled] .notification_widget.danger:hover{background-color:#d9534f;border-color:#d43f3a}.notification_widget.danger .badge{color:#d9534f;background-color:#fff}div#pager{background-color:#fff;font-size:14px;line-height:20px;overflow:hidden;display:none;position:fixed;bottom:0;width:100%;max-height:50%;padding-top:8px;-webkit-box-shadow:0 0 12px 1px rgba(87,87,87,.2);box-shadow:0 0 12px 1px rgba(87,87,87,.2);z-index:100;top:auto!important}div#pager pre{line-height:1.21429em;color:#000;background-color:#f7f7f7;padding:.4em}div#pager #pager-button-area{position:absolute;top:8px;right:20px}div#pager #pager-contents{position:relative;overflow:auto;width:100%;height:100%}div#pager #pager-contents #pager-container{position:relative;padding:15px 0;box-sizing:border-box;-moz-box-sizing:border-box;-webkit-box-sizing:border-box}div#pager .ui-resizable-handle{top:0;height:8px;background:#f7f7f7;border-top:1px solid #cfcfcf;border-bottom:1px solid #cfcfcf}div#pager .ui-resizable-handle::after{content:'';top:2px;left:50%;height:3px;width:30px;margin-left:-15px;position:absolute;border-top:1px solid #cfcfcf}.quickhelp{display:-webkit-box;-webkit-box-orient:horizontal;display:-moz-box;-moz-box-orient:horizontal;display:box;box-orient:horizontal;box-align:stretch;display:flex;flex-direction:row;align-items:stretch}.shortcut_key{display:inline-block;width:20ex;text-align:right;font-family:monospace}.shortcut_descr{display:inline-block;-webkit-box-flex:1;-moz-box-flex:1;box-flex:1;flex:1}span.save_widget{margin-top:6px}span.save_widget span.filename{height:1em;line-height:1em;padding:3px;margin-left:16px;border:none;font-size:146.5%;border-radius:2px}span.save_widget span.filename:hover{background-color:#e6e6e6}span.autosave_status,span.checkpoint_status{font-size:small}@media (max-width:767px){span.save_widget{font-size:small}span.autosave_status,span.checkpoint_status{display:none}}@media (min-width:768px)and (max-width:991px){span.checkpoint_status{display:none}span.autosave_status{font-size:x-small}}.toolbar{padding:0;margin-left:-5px;margin-top:2px;margin-bottom:5px;box-sizing:border-box;-moz-box-sizing:border-box;-webkit-box-sizing:border-box}.toolbar label,.toolbar select{width:auto;vertical-align:middle;margin-bottom:0;display:inline;font-size:92%;margin-left:.3em;margin-right:.3em;padding:3px 0 0}.toolbar .btn{padding:2px 8px}.toolbar .btn-group{margin-top:0;margin-left:5px}#maintoolbar{margin-bottom:-3px;margin-top:-8px;border:0;min-height:27px;margin-left:0;padding-top:11px;padding-bottom:3px}#maintoolbar .navbar-text{float:none;vertical-align:middle;text-align:right;margin-left:5px;margin-right:0;margin-top:0}.select-xs{height:24px}@-moz-keyframes fadeOut{from{opacity:1}to{opacity:0}}@-webkit-keyframes fadeOut{from{opacity:1}to{opacity:0}}@-moz-keyframes fadeIn{from{opacity:0}to{opacity:1}}@-webkit-keyframes fadeIn{from{opacity:0}to{opacity:1}}.bigtooltip{overflow:auto;height:200px;-webkit-transition-property:height;-webkit-transition-duration:500ms;-moz-transition-property:height;-moz-transition-duration:500ms;transition-property:height;transition-duration:500ms}.smalltooltip{-webkit-transition-property:height;-webkit-transition-duration:500ms;-moz-transition-property:height;-moz-transition-duration:500ms;transition-property:height;transition-duration:500ms;text-overflow:ellipsis;overflow:hidden;height:80px}.tooltipbuttons{position:absolute;padding-right:15px;top:0;right:0}.tooltiptext{padding-right:30px}.ipython_tooltip{max-width:700px;animation:fadeOut 400ms;-webkit-animation:fadeIn 400ms;-moz-animation:fadeIn 400ms;animation:fadeIn 400ms;vertical-align:middle;background-color:#f7f7f7;overflow:visible;border:1px solid #ababab;outline:0;padding:3px 3px 3px 7px;padding-left:7px;font-family:monospace;min-height:50px;-moz-box-shadow:0 6px 10px -1px #adadad;-webkit-box-shadow:0 6px 10px -1px #adadad;box-shadow:0 6px 10px -1px #adadad;border-radius:2px;position:absolute;z-index:1000}.ipython_tooltip a{float:right}.ipython_tooltip .tooltiptext pre{border:0;border-radius:0;font-size:100%;background-color:#f7f7f7}.pretooltiparrow{left:0;margin:0;top:-16px;width:40px;height:16px;overflow:hidden;position:absolute}.pretooltiparrow:before{background-color:#f7f7f7;border:1px solid #ababab;z-index:11;content:"";position:absolute;left:15px;top:10px;width:25px;height:25px;-webkit-transform:rotate(45deg);-moz-transform:rotate(45deg);-ms-transform:rotate(45deg);-o-transform:rotate(45deg)}.terminal-app{background:#eee}.terminal-app #header{background:#fff;-webkit-box-shadow:0 0 12px 1px rgba(87,87,87,.2);box-shadow:0 0 12px 1px rgba(87,87,87,.2)}.terminal-app .terminal{float:left;font-family:monospace;color:#fff;background:#000;padding:.4em;border-radius:2px;-webkit-box-shadow:0 0 12px 1px rgba(87,87,87,.4);box-shadow:0 0 12px 1px rgba(87,87,87,.4)}.terminal-app .terminal,.terminal-app .terminal dummy-screen{line-height:1em;font-size:14px}.terminal-app .terminal-cursor{color:#000;background:#fff}.terminal-app #terminado-container{margin-top:20px}
/*# sourceMappingURL=style.min.css.map */
    </style>
<style type="text/css">
    .highlight .hll { background-color: #ffffcc }
.highlight  { background: #f8f8f8; }
.highlight .c { color: #408080; font-style: italic } /* Comment */
.highlight .err { border: 1px solid #FF0000 } /* Error */
.highlight .k { color: #008000; font-weight: bold } /* Keyword */
.highlight .o { color: #666666 } /* Operator */
.highlight .cm { color: #408080; font-style: italic } /* Comment.Multiline */
.highlight .cp { color: #BC7A00 } /* Comment.Preproc */
.highlight .c1 { color: #408080; font-style: italic } /* Comment.Single */
.highlight .cs { color: #408080; font-style: italic } /* Comment.Special */
.highlight .gd { color: #A00000 } /* Generic.Deleted */
.highlight .ge { font-style: italic } /* Generic.Emph */
.highlight .gr { color: #FF0000 } /* Generic.Error */
.highlight .gh { color: #000080; font-weight: bold } /* Generic.Heading */
.highlight .gi { color: #00A000 } /* Generic.Inserted */
.highlight .go { color: #888888 } /* Generic.Output */
.highlight .gp { color: #000080; font-weight: bold } /* Generic.Prompt */
.highlight .gs { font-weight: bold } /* Generic.Strong */
.highlight .gu { color: #800080; font-weight: bold } /* Generic.Subheading */
.highlight .gt { color: #0044DD } /* Generic.Traceback */
.highlight .kc { color: #008000; font-weight: bold } /* Keyword.Constant */
.highlight .kd { color: #008000; font-weight: bold } /* Keyword.Declaration */
.highlight .kn { color: #008000; font-weight: bold } /* Keyword.Namespace */
.highlight .kp { color: #008000 } /* Keyword.Pseudo */
.highlight .kr { color: #008000; font-weight: bold } /* Keyword.Reserved */
.highlight .kt { color: #B00040 } /* Keyword.Type */
.highlight .m { color: #666666 } /* Literal.Number */
.highlight .s { color: #BA2121 } /* Literal.String */
.highlight .na { color: #7D9029 } /* Name.Attribute */
.highlight .nb { color: #008000 } /* Name.Builtin */
.highlight .nc { color: #0000FF; font-weight: bold } /* Name.Class */
.highlight .no { color: #880000 } /* Name.Constant */
.highlight .nd { color: #AA22FF } /* Name.Decorator */
.highlight .ni { color: #999999; font-weight: bold } /* Name.Entity */
.highlight .ne { color: #D2413A; font-weight: bold } /* Name.Exception */
.highlight .nf { color: #0000FF } /* Name.Function */
.highlight .nl { color: #A0A000 } /* Name.Label */
.highlight .nn { color: #0000FF; font-weight: bold } /* Name.Namespace */
.highlight .nt { color: #008000; font-weight: bold } /* Name.Tag */
.highlight .nv { color: #19177C } /* Name.Variable */
.highlight .ow { color: #AA22FF; font-weight: bold } /* Operator.Word */
.highlight .w { color: #bbbbbb } /* Text.Whitespace */
.highlight .mb { color: #666666 } /* Literal.Number.Bin */
.highlight .mf { color: #666666 } /* Literal.Number.Float */
.highlight .mh { color: #666666 } /* Literal.Number.Hex */
.highlight .mi { color: #666666 } /* Literal.Number.Integer */
.highlight .mo { color: #666666 } /* Literal.Number.Oct */
.highlight .sb { color: #BA2121 } /* Literal.String.Backtick */
.highlight .sc { color: #BA2121 } /* Literal.String.Char */
.highlight .sd { color: #BA2121; font-style: italic } /* Literal.String.Doc */
.highlight .s2 { color: #BA2121 } /* Literal.String.Double */
.highlight .se { color: #BB6622; font-weight: bold } /* Literal.String.Escape */
.highlight .sh { color: #BA2121 } /* Literal.String.Heredoc */
.highlight .si { color: #BB6688; font-weight: bold } /* Literal.String.Interpol */
.highlight .sx { color: #008000 } /* Literal.String.Other */
.highlight .sr { color: #BB6688 } /* Literal.String.Regex */
.highlight .s1 { color: #BA2121 } /* Literal.String.Single */
.highlight .ss { color: #19177C } /* Literal.String.Symbol */
.highlight .bp { color: #008000 } /* Name.Builtin.Pseudo */
.highlight .vc { color: #19177C } /* Name.Variable.Class */
.highlight .vg { color: #19177C } /* Name.Variable.Global */
.highlight .vi { color: #19177C } /* Name.Variable.Instance */
.highlight .il { color: #666666 } /* Literal.Number.Integer.Long */
    </style>


<style type="text/css">
/* Overrides of notebook CSS for static HTML export */
.reveal {
  font-size: 160%;
  overflow-y: scroll;
}
.reveal pre {
  width: inherit;
  padding: 0.4em;
  margin: 0px;
  font-family: monospace, sans-serif;
  font-size: 80%;
  box-shadow: 0px 0px 0px rgba(0, 0, 0, 0);
}
.reveal pre code {
  padding: 0px;
}
.reveal section img {
  border: 0px solid black;
  box-shadow: 0 0 10px rgba(0, 0, 0, 0);
}
.reveal i {
  font-style: normal;
  font-family: FontAwesome;
  font-size: 2em;
}
.reveal .slides {
  text-align: left;
}
.reveal.fade {
  opacity: 1;
}
.reveal .progress {
  position: static;
}
div.input_area {
  padding: 0.06em;
}
div.code_cell {
  background-color: transparent;
}
div.prompt {
  width: 11ex;
  padding: 0.4em;
  margin: 0px;
  font-family: monospace, sans-serif;
  font-size: 80%;
  text-align: right;
}
div.output_area pre {
  font-family: monospace, sans-serif;
  font-size: 80%;
}
div.output_prompt {
  /* 5px right shift to account for margin in parent container */
  margin: 5px 5px 0 0;
}
div.text_cell.rendered .rendered_html {
  /* The H1 height seems miscalculated, we are just hidding the scrollbar */
  overflow-y: hidden;
}
a.anchor-link {
  /* There is still an anchor, we are only hidding it */
  display: none;
}
.rendered_html p {
  text-align: inherit;
}
</style>

<!-- Custom stylesheet, it must be in the same directory as the html file -->
<link rel="stylesheet" href="custom.css">

</head>

<body>
<div class="reveal">
<div class="slides">
<section><section>
<div class="cell border-box-sizing text_cell rendered">
<div class="prompt input_prompt">
</div>
<div class="inner_cell">
<div class="text_cell_render border-box-sizing rendered_html">
<h1 id="UTSC-Machine-Learning-Workshop">UTSC Machine Learning Workshop<a class="anchor-link" href="#UTSC-Machine-Learning-Workshop">&#182;</a></h1><h2 id="Introduction-to-Linear-Regression">Introduction to Linear Regression<a class="anchor-link" href="#Introduction-to-Linear-Regression">&#182;</a></h2><p><em>Adapted from Chapter 3 of <a href="http://www-bcf.usc.edu/~gareth/ISL/">An Introduction to Statistical Learning</a></em></p>

</div>
</div>
</div>
<div class="cell border-box-sizing text_cell rendered">
<div class="prompt input_prompt">
</div>
<div class="inner_cell">
<div class="text_cell_render border-box-sizing rendered_html">
<h2 id="Motivation">Motivation<a class="anchor-link" href="#Motivation">&#182;</a></h2><p><strong>Regression problems</strong> are supervised learning problems in which the response is continuous. <strong>Classification problems</strong> are supervised learning problems in which the response is categorical. <strong>Linear regression</strong> is a technique that is useful for regression problems.</p>
<p>So, why are we learning linear regression?</p>
<ul>
<li>widely used</li>
<li>runs fast</li>
<li>easy to use (not a lot of tuning required)</li>
<li>highly interpretable</li>
<li>basis for many other methods</li>
</ul>

</div>
</div>
</div>
<div class="cell border-box-sizing text_cell rendered">
<div class="prompt input_prompt">
</div>
<div class="inner_cell">
<div class="text_cell_render border-box-sizing rendered_html">
<h2 id="Libraries">Libraries<a class="anchor-link" href="#Libraries">&#182;</a></h2><p>We'll be using <a href="http://scikit-learn.org/stable/">scikit-learn</a> since it provides significantly more useful functionality for machine learning in general.</p>

</div>
</div>
</div>
<div class="cell border-box-sizing code_cell rendered">
<div class="input">
<div class="prompt input_prompt">In&nbsp;[1]:</div>
<div class="inner_cell">
    <div class="input_area">
<div class=" highlight hl-ipython2"><pre><span class="c"># imports</span>
<span class="kn">import</span> <span class="nn">pandas</span> <span class="kn">as</span> <span class="nn">pd</span>
<span class="kn">import</span> <span class="nn">seaborn</span> <span class="kn">as</span> <span class="nn">sns</span>
<span class="c">#import statsmodels.formula.api as smf</span>
<span class="kn">from</span> <span class="nn">sklearn.linear_model</span> <span class="kn">import</span> <span class="n">LinearRegression</span>
<span class="kn">from</span> <span class="nn">sklearn</span> <span class="kn">import</span> <span class="n">metrics</span>
<span class="kn">import</span> <span class="nn">numpy</span> <span class="kn">as</span> <span class="nn">np</span>

<span class="c"># allow plots to appear directly in the notebook</span>
<span class="o">%</span><span class="k">matplotlib</span> inline
</pre></div>

</div>
</div>
</div>

<div class="output_wrapper">
<div class="output">


<div class="output_area"><div class="prompt"></div>
<div class="output_subarea output_stream output_stderr output_text">
<pre>/Users/chelsea/miniconda2/lib/python2.7/site-packages/matplotlib/font_manager.py:273: UserWarning: Matplotlib is building the font cache using fc-list. This may take a moment.
  warnings.warn(&apos;Matplotlib is building the font cache using fc-list. This may take a moment.&apos;)
</pre>
</div>
</div>

</div>
</div>

</div>
<div class="cell border-box-sizing text_cell rendered">
<div class="prompt input_prompt">
</div>
<div class="inner_cell">
<div class="text_cell_render border-box-sizing rendered_html">
<h2 id="Example:-Advertising-Data">Example: Advertising Data<a class="anchor-link" href="#Example:-Advertising-Data">&#182;</a></h2><p>Let's take a look at some data, ask some questions about that data, and then use linear regression to answer those questions!</p>

</div>
</div>
</div>
<div class="cell border-box-sizing code_cell rendered">
<div class="input">
<div class="prompt input_prompt">In&nbsp;[2]:</div>
<div class="inner_cell">
    <div class="input_area">
<div class=" highlight hl-ipython2"><pre><span class="c"># read data into a DataFrame</span>
<span class="n">data</span> <span class="o">=</span> <span class="n">pd</span><span class="o">.</span><span class="n">read_csv</span><span class="p">(</span><span class="s">&#39;data/Advertising.csv&#39;</span><span class="p">,</span> <span class="n">index_col</span><span class="o">=</span><span class="mi">0</span><span class="p">)</span>
<span class="n">data</span><span class="o">.</span><span class="n">head</span><span class="p">()</span>
</pre></div>

</div>
</div>
</div>

<div class="output_wrapper">
<div class="output">


<div class="output_area"><div class="prompt output_prompt">Out[2]:</div>

<div class="output_html rendered_html output_subarea output_execute_result">
<div>
<table border="1" class="dataframe">
  <thead>
    <tr style="text-align: right;">
      <th></th>
      <th>TV</th>
      <th>Radio</th>
      <th>Newspaper</th>
      <th>Sales</th>
    </tr>
  </thead>
  <tbody>
    <tr>
      <th>1</th>
      <td>230.1</td>
      <td>37.8</td>
      <td>69.2</td>
      <td>22.1</td>
    </tr>
    <tr>
      <th>2</th>
      <td>44.5</td>
      <td>39.3</td>
      <td>45.1</td>
      <td>10.4</td>
    </tr>
    <tr>
      <th>3</th>
      <td>17.2</td>
      <td>45.9</td>
      <td>69.3</td>
      <td>9.3</td>
    </tr>
    <tr>
      <th>4</th>
      <td>151.5</td>
      <td>41.3</td>
      <td>58.5</td>
      <td>18.5</td>
    </tr>
    <tr>
      <th>5</th>
      <td>180.8</td>
      <td>10.8</td>
      <td>58.4</td>
      <td>12.9</td>
    </tr>
  </tbody>
</table>
</div>
</div>

</div>

</div>
</div>

</div>
<div class="cell border-box-sizing text_cell rendered">
<div class="prompt input_prompt">
</div>
<div class="inner_cell">
<div class="text_cell_render border-box-sizing rendered_html">
<p>What are the <strong>features</strong>?</p>
<ul>
<li>TV: advertising dollars spent on TV for a single product in a given market (in thousands of dollars)</li>
<li>Radio: advertising dollars spent on Radio</li>
<li>Newspaper: advertising dollars spent on Newspaper</li>
</ul>
<p>What is the <strong>response</strong>?</p>
<ul>
<li>Sales: sales of a single product in a given market (in thousands of widgets)</li>
</ul>

</div>
</div>
</div>
<div class="cell border-box-sizing code_cell rendered">
<div class="input">
<div class="prompt input_prompt">In&nbsp;[3]:</div>
<div class="inner_cell">
    <div class="input_area">
<div class=" highlight hl-ipython2"><pre><span class="c"># print the shape of the DataFrame</span>
<span class="n">data</span><span class="o">.</span><span class="n">shape</span>
</pre></div>

</div>
</div>
</div>

<div class="output_wrapper">
<div class="output">


<div class="output_area"><div class="prompt output_prompt">Out[3]:</div>


<div class="output_text output_subarea output_execute_result">
<pre>(200, 4)</pre>
</div>

</div>

</div>
</div>

</div>
<div class="cell border-box-sizing text_cell rendered">
<div class="prompt input_prompt">
</div>
<div class="inner_cell">
<div class="text_cell_render border-box-sizing rendered_html">
<p>There are 200 <strong>observations</strong>, and thus 200 markets in the dataset.</p>

</div>
</div>
</div>
<div class="cell border-box-sizing code_cell rendered">
<div class="input">
<div class="prompt input_prompt">In&nbsp;[4]:</div>
<div class="inner_cell">
    <div class="input_area">
<div class=" highlight hl-ipython2"><pre><span class="c"># visualize the relationship between the features and the response using scatterplots</span>
<span class="n">sns</span><span class="o">.</span><span class="n">pairplot</span><span class="p">(</span><span class="n">data</span><span class="p">,</span> <span class="n">x_vars</span><span class="o">=</span><span class="p">[</span><span class="s">&#39;TV&#39;</span><span class="p">,</span><span class="s">&#39;Radio&#39;</span><span class="p">,</span><span class="s">&#39;Newspaper&#39;</span><span class="p">],</span> <span class="n">y_vars</span><span class="o">=</span><span class="s">&#39;Sales&#39;</span><span class="p">,</span> <span class="n">size</span><span class="o">=</span><span class="mi">7</span><span class="p">,</span> <span class="n">aspect</span><span class="o">=</span><span class="mf">0.7</span><span class="p">)</span>
</pre></div>

</div>
</div>
</div>

<div class="output_wrapper">
<div class="output">


<div class="output_area"><div class="prompt output_prompt">Out[4]:</div>


<div class="output_text output_subarea output_execute_result">
<pre>&lt;seaborn.axisgrid.PairGrid at 0x108419e10&gt;</pre>
</div>

</div>

<div class="output_area"><div class="prompt"></div>


<div class="output_png output_subarea ">
<img src="data:image/png;base64,iVBORw0KGgoAAAANSUhEUgAABBoAAAHxCAYAAADDZ9+5AAAABHNCSVQICAgIfAhkiAAAAAlwSFlz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"
>
</div>

</div>

</div>
</div>

</div>
<div class="cell border-box-sizing text_cell rendered">
<div class="prompt input_prompt">
</div>
<div class="inner_cell">
<div class="text_cell_render border-box-sizing rendered_html">
<h2 id="Questions-About-the-Advertising-Data">Questions About the Advertising Data<a class="anchor-link" href="#Questions-About-the-Advertising-Data">&#182;</a></h2><p>Let's pretend you work for the company that manufactures and markets this widget. The company might ask you the following: On the basis of this data, how should we spend our advertising money in the future?</p>
<p>This general question might lead you to more specific questions:</p>
<ol>
<li>Is there a relationship between ads and sales?</li>
<li>How strong is that relationship?</li>
<li>Which ad types contribute to sales?</li>
<li>What is the effect of each ad type of sales?</li>
<li>Given ad spending in a particular market, can sales be predicted?</li>
</ol>
<p>We will explore these questions below!</p>

</div>
</div>
</div>
<div class="cell border-box-sizing text_cell rendered">
<div class="prompt input_prompt">
</div>
<div class="inner_cell">
<div class="text_cell_render border-box-sizing rendered_html">
<h2 id="Simple-Linear-Regression">Simple Linear Regression<a class="anchor-link" href="#Simple-Linear-Regression">&#182;</a></h2><p>Simple linear regression is an approach for predicting a <strong>quantitative response</strong> using a <strong>single feature</strong> (or "predictor" or "input variable"). It takes the following form:</p>
<p>$y = \beta_0 + \beta_1x$</p>
<p>What does each term represent?</p>
<ul>
<li>$y$ is the response</li>
<li>$x$ is the feature</li>
<li>$\beta_0$ is the intercept</li>
<li>$\beta_1$ is the coefficient for x</li>
</ul>
<p>Together, $\beta_0$ and $\beta_1$ are called the <strong>model coefficients</strong>. To create your model, you must "learn" the values of these coefficients. And once we've learned these coefficients, we can use the model to predict Sales!</p>

</div>
</div>
</div>
<div class="cell border-box-sizing text_cell rendered">
<div class="prompt input_prompt">
</div>
<div class="inner_cell">
<div class="text_cell_render border-box-sizing rendered_html">
<h2 id="Estimating-(&quot;Learning&quot;)-Model-Coefficients">Estimating ("Learning") Model Coefficients<a class="anchor-link" href="#Estimating-(&quot;Learning&quot;)-Model-Coefficients">&#182;</a></h2><p>Generally speaking, coefficients are estimated using the <strong>least squares criterion</strong>, which means we are find the line (mathematically) which minimizes the <strong>sum of squared residuals</strong> (or "sum of squared errors"):</p>

</div>
</div>
</div>
<div class="cell border-box-sizing text_cell rendered">
<div class="prompt input_prompt">
</div>
<div class="inner_cell">
<div class="text_cell_render border-box-sizing rendered_html">
<p><img src="images/estimating_coefficients.png" alt="Estimating coefficients"></p>

</div>
</div>
</div>
<div class="cell border-box-sizing text_cell rendered">
<div class="prompt input_prompt">
</div>
<div class="inner_cell">
<div class="text_cell_render border-box-sizing rendered_html">
<p>What elements are present in the diagram?</p>
<ul>
<li>The black dots are the <strong>observed values</strong> of x and y.</li>
<li>The blue line is our <strong>least squares line</strong>.</li>
<li>The red lines are the <strong>residuals</strong>, which are the distances between the observed values and the least squares line.</li>
</ul>
<p>How do the model coefficients relate to the least squares line?</p>
<ul>
<li>$\beta_0$ is the <strong>intercept</strong> (the value of $y$ when $x$=0)</li>
<li>$\beta_1$ is the <strong>slope</strong> (the change in $y$ divided by change in $x$)</li>
</ul>
<p>Here is a graphical depiction of those calculations:</p>

</div>
</div>
</div>
<div class="cell border-box-sizing text_cell rendered">
<div class="prompt input_prompt">
</div>
<div class="inner_cell">
<div class="text_cell_render border-box-sizing rendered_html">
<p><img src="images/slope_intercept.png" alt="Slope-intercept"></p>

</div>
</div>
</div>
<div class="cell border-box-sizing text_cell rendered">
<div class="prompt input_prompt">
</div>
<div class="inner_cell">
<div class="text_cell_render border-box-sizing rendered_html">
<p>Let's estimate the model coefficients for the advertising data:</p>

</div>
</div>
</div>
<div class="cell border-box-sizing code_cell rendered">
<div class="input">
<div class="prompt input_prompt">In&nbsp;[5]:</div>
<div class="inner_cell">
    <div class="input_area">
<div class=" highlight hl-ipython2"><pre><span class="c">### SCIKIT-LEARN ###</span>

<span class="c"># create X and y</span>
<span class="n">feature_cols</span> <span class="o">=</span> <span class="p">[</span><span class="s">&#39;TV&#39;</span><span class="p">]</span>
<span class="n">X</span> <span class="o">=</span> <span class="n">data</span><span class="p">[</span><span class="n">feature_cols</span><span class="p">]</span>
<span class="n">y</span> <span class="o">=</span> <span class="n">data</span><span class="o">.</span><span class="n">Sales</span>

<span class="c"># instantiate and fit</span>
<span class="n">lm</span> <span class="o">=</span> <span class="n">LinearRegression</span><span class="p">()</span>
<span class="n">lm</span><span class="o">.</span><span class="n">fit</span><span class="p">(</span><span class="n">X</span><span class="p">,</span> <span class="n">y</span><span class="p">)</span>

<span class="c"># print the coefficients</span>
<span class="k">print</span> <span class="n">lm</span><span class="o">.</span><span class="n">intercept_</span>
<span class="k">print</span> <span class="n">lm</span><span class="o">.</span><span class="n">coef_</span>
</pre></div>

</div>
</div>
</div>

<div class="output_wrapper">
<div class="output">


<div class="output_area"><div class="prompt"></div>
<div class="output_subarea output_stream output_stdout output_text">
<pre>7.03259354913
[ 0.04753664]
</pre>
</div>
</div>

</div>
</div>

</div>
<div class="cell border-box-sizing text_cell rendered">
<div class="prompt input_prompt">
</div>
<div class="inner_cell">
<div class="text_cell_render border-box-sizing rendered_html">
<h2 id="Interpreting-Model-Coefficients">Interpreting Model Coefficients<a class="anchor-link" href="#Interpreting-Model-Coefficients">&#182;</a></h2><p>How do we interpret the TV coefficient ($\beta_1$)?</p>
<ul>
<li>A "unit" increase in TV ad spending is <strong>associated with</strong> a 0.047537 "unit" increase in Sales.</li>
<li>Or more clearly: An additional $1,000 spent on TV ads is <strong>associated with</strong> an increase in sales of 47.537 widgets.</li>
</ul>
<p>Note that if an increase in TV ad spending was associated with a <strong>decrease</strong> in sales, $\beta_1$ would be <strong>negative</strong>.</p>

</div>
</div>
</div>
<div class="cell border-box-sizing text_cell rendered">
<div class="prompt input_prompt">
</div>
<div class="inner_cell">
<div class="text_cell_render border-box-sizing rendered_html">
<h2 id="Using-the-Model-for-Prediction">Using the Model for Prediction<a class="anchor-link" href="#Using-the-Model-for-Prediction">&#182;</a></h2><p>Let's say that there was a new market where the TV advertising spend was <strong>$50,000</strong>. What would we predict for the Sales in that market?</p>
$$y = \beta_0 + \beta_1x$$$$y = 7.032594 + 0.047537 \times 50$$
</div>
</div>
</div>
<div class="cell border-box-sizing code_cell rendered">
<div class="input">
<div class="prompt input_prompt">In&nbsp;[6]:</div>
<div class="inner_cell">
    <div class="input_area">
<div class=" highlight hl-ipython2"><pre><span class="c"># manually calculate the prediction</span>
<span class="mf">7.032594</span> <span class="o">+</span> <span class="mf">0.047537</span><span class="o">*</span><span class="mi">50</span>
</pre></div>

</div>
</div>
</div>

<div class="output_wrapper">
<div class="output">


<div class="output_area"><div class="prompt output_prompt">Out[6]:</div>


<div class="output_text output_subarea output_execute_result">
<pre>9.409444</pre>
</div>

</div>

</div>
</div>

</div>
<div class="cell border-box-sizing code_cell rendered">
<div class="input">
<div class="prompt input_prompt">In&nbsp;[7]:</div>
<div class="inner_cell">
    <div class="input_area">
<div class=" highlight hl-ipython2"><pre><span class="c">### SCIKIT-LEARN ###</span>

<span class="c"># predict for a new observation</span>
<span class="n">lm</span><span class="o">.</span><span class="n">predict</span><span class="p">(</span><span class="mi">50</span><span class="p">)</span>
</pre></div>

</div>
</div>
</div>

<div class="output_wrapper">
<div class="output">


<div class="output_area"><div class="prompt output_prompt">Out[7]:</div>


<div class="output_text output_subarea output_execute_result">
<pre>array([ 9.40942557])</pre>
</div>

</div>

</div>
</div>

</div>
<div class="cell border-box-sizing text_cell rendered">
<div class="prompt input_prompt">
</div>
<div class="inner_cell">
<div class="text_cell_render border-box-sizing rendered_html">
<p>Thus, we would predict Sales of <strong>9,409 widgets</strong> in that market.</p>

</div>
</div>
</div>
<div class="cell border-box-sizing text_cell rendered">
<div class="prompt input_prompt">
</div>
<div class="inner_cell">
<div class="text_cell_render border-box-sizing rendered_html">
<h2 id="Plotting-the-Least-Squares-Line">Plotting the Least Squares Line<a class="anchor-link" href="#Plotting-the-Least-Squares-Line">&#182;</a></h2><p>Let's plot the least squares line for Sales versus each of the features:</p>

</div>
</div>
</div>
<div class="cell border-box-sizing code_cell rendered">
<div class="input">
<div class="prompt input_prompt">In&nbsp;[8]:</div>
<div class="inner_cell">
    <div class="input_area">
<div class=" highlight hl-ipython2"><pre><span class="n">sns</span><span class="o">.</span><span class="n">pairplot</span><span class="p">(</span><span class="n">data</span><span class="p">,</span> <span class="n">x_vars</span><span class="o">=</span><span class="p">[</span><span class="s">&#39;TV&#39;</span><span class="p">,</span><span class="s">&#39;Radio&#39;</span><span class="p">,</span><span class="s">&#39;Newspaper&#39;</span><span class="p">],</span> <span class="n">y_vars</span><span class="o">=</span><span class="s">&#39;Sales&#39;</span><span class="p">,</span> <span class="n">size</span><span class="o">=</span><span class="mi">7</span><span class="p">,</span> <span class="n">aspect</span><span class="o">=</span><span class="mf">0.7</span><span class="p">,</span> <span class="n">kind</span><span class="o">=</span><span class="s">&#39;reg&#39;</span><span class="p">)</span>
</pre></div>

</div>
</div>
</div>

<div class="output_wrapper">
<div class="output">


<div class="output_area"><div class="prompt output_prompt">Out[8]:</div>


<div class="output_text output_subarea output_execute_result">
<pre>&lt;seaborn.axisgrid.PairGrid at 0x108423310&gt;</pre>
</div>

</div>

<div class="output_area"><div class="prompt"></div>


<div class="output_png output_subarea ">
<img src="data:image/png;base64,iVBORw0KGgoAAAANSUhEUgAABBoAAAHxCAYAAADDZ9+5AAAABHNCSVQICAgIfAhkiAAAAAlwSFlz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"
>
</div>

</div>

</div>
</div>

</div>
<div class="cell border-box-sizing text_cell rendered">
<div class="prompt input_prompt">
</div>
<div class="inner_cell">
<div class="text_cell_render border-box-sizing rendered_html">
<h2 id="Multiple-Linear-Regression">Multiple Linear Regression<a class="anchor-link" href="#Multiple-Linear-Regression">&#182;</a></h2><p>Simple linear regression can easily be extended to include multiple features. This is called <strong>multiple linear regression</strong>:</p>
<p>$y = \beta_0 + \beta_1x_1 + ... + \beta_nx_n$</p>
<p>Each $x$ represents a different feature, and each feature has its own coefficient. In this case:</p>
<p>$y = \beta_0 + \beta_1 \times TV + \beta_2 \times Radio + \beta_3 \times Newspaper$</p>
<p>Let's estimate these coefficients:</p>

</div>
</div>
</div>
<div class="cell border-box-sizing code_cell rendered">
<div class="input">
<div class="prompt input_prompt">In&nbsp;[9]:</div>
<div class="inner_cell">
    <div class="input_area">
<div class=" highlight hl-ipython2"><pre><span class="c">### SCIKIT-LEARN ###</span>

<span class="c"># create X and y</span>
<span class="n">feature_cols</span> <span class="o">=</span> <span class="p">[</span><span class="s">&#39;TV&#39;</span><span class="p">,</span> <span class="s">&#39;Radio&#39;</span><span class="p">,</span> <span class="s">&#39;Newspaper&#39;</span><span class="p">]</span>
<span class="n">X</span> <span class="o">=</span> <span class="n">data</span><span class="p">[</span><span class="n">feature_cols</span><span class="p">]</span>
<span class="n">y</span> <span class="o">=</span> <span class="n">data</span><span class="o">.</span><span class="n">Sales</span>

<span class="c"># instantiate and fit</span>
<span class="n">lm</span> <span class="o">=</span> <span class="n">LinearRegression</span><span class="p">()</span>
<span class="n">lm</span><span class="o">.</span><span class="n">fit</span><span class="p">(</span><span class="n">X</span><span class="p">,</span> <span class="n">y</span><span class="p">)</span>

<span class="c"># print the coefficients</span>
<span class="k">print</span> <span class="n">lm</span><span class="o">.</span><span class="n">intercept_</span>
<span class="k">print</span> <span class="n">lm</span><span class="o">.</span><span class="n">coef_</span>
</pre></div>

</div>
</div>
</div>

<div class="output_wrapper">
<div class="output">


<div class="output_area"><div class="prompt"></div>
<div class="output_subarea output_stream output_stdout output_text">
<pre>2.93888936946
[ 0.04576465  0.18853002 -0.00103749]
</pre>
</div>
</div>

</div>
</div>

</div>
<div class="cell border-box-sizing code_cell rendered">
<div class="input">
<div class="prompt input_prompt">In&nbsp;[10]:</div>
<div class="inner_cell">
    <div class="input_area">
<div class=" highlight hl-ipython2"><pre><span class="c"># pair the feature names with the coefficients</span>
<span class="nb">zip</span><span class="p">(</span><span class="n">feature_cols</span><span class="p">,</span> <span class="n">lm</span><span class="o">.</span><span class="n">coef_</span><span class="p">)</span>
</pre></div>

</div>
</div>
</div>

<div class="output_wrapper">
<div class="output">


<div class="output_area"><div class="prompt output_prompt">Out[10]:</div>


<div class="output_text output_subarea output_execute_result">
<pre>[(&apos;TV&apos;, 0.045764645455397601),
 (&apos;Radio&apos;, 0.18853001691820448),
 (&apos;Newspaper&apos;, -0.0010374930424762578)]</pre>
</div>

</div>

</div>
</div>

</div>
<div class="cell border-box-sizing text_cell rendered">
<div class="prompt input_prompt">
</div>
<div class="inner_cell">
<div class="text_cell_render border-box-sizing rendered_html">
<p>How do we interpret these coefficients? For a given amount of Radio and Newspaper ad spending, an <strong>increase of $1000 in TV ad spending</strong> is associated with an <strong>increase in Sales of 45.765 widgets</strong>.</p>
<p>A lot of the information we have been reviewing piece-by-piece is available in the Statsmodels model summary output:</p>

</div>
</div>
</div>
<div class="cell border-box-sizing text_cell rendered">
<div class="prompt input_prompt">
</div>
<div class="inner_cell">
<div class="text_cell_render border-box-sizing rendered_html">
<h2 id="Feature-Selection">Feature Selection<a class="anchor-link" href="#Feature-Selection">&#182;</a></h2><p>How do I decide <strong>which features to include</strong> in a linear model?</p>
<p>-the answer will be in the next session.</p>

</div>
</div>
</div>
<div class="cell border-box-sizing text_cell rendered">
<div class="prompt input_prompt">
</div>
<div class="inner_cell">
<div class="text_cell_render border-box-sizing rendered_html">
<h2 id="Handling-Categorical-Features-with-Two-Categories">Handling Categorical Features with Two Categories<a class="anchor-link" href="#Handling-Categorical-Features-with-Two-Categories">&#182;</a></h2><p>Up to now, all of our features have been numeric. What if one of our features was categorical?</p>
<p>Let's create a new feature called <strong>Size</strong>, and randomly assign observations to be <strong>small or large</strong>:</p>

</div>
</div>
</div>
<div class="cell border-box-sizing code_cell rendered">
<div class="input">
<div class="prompt input_prompt">In&nbsp;[11]:</div>
<div class="inner_cell">
    <div class="input_area">
<div class=" highlight hl-ipython2"><pre><span class="c"># set a seed for reproducibility</span>
<span class="n">np</span><span class="o">.</span><span class="n">random</span><span class="o">.</span><span class="n">seed</span><span class="p">(</span><span class="mi">12345</span><span class="p">)</span>

<span class="c"># create a Series of booleans in which roughly half are True</span>
<span class="n">nums</span> <span class="o">=</span> <span class="n">np</span><span class="o">.</span><span class="n">random</span><span class="o">.</span><span class="n">rand</span><span class="p">(</span><span class="nb">len</span><span class="p">(</span><span class="n">data</span><span class="p">))</span>
<span class="n">mask_large</span> <span class="o">=</span> <span class="n">nums</span> <span class="o">&gt;</span> <span class="mf">0.5</span>

<span class="c"># initially set Size to small, then change roughly half to be large</span>
<span class="n">data</span><span class="p">[</span><span class="s">&#39;Size&#39;</span><span class="p">]</span> <span class="o">=</span> <span class="s">&#39;small&#39;</span>
<span class="n">data</span><span class="o">.</span><span class="n">loc</span><span class="p">[</span><span class="n">mask_large</span><span class="p">,</span> <span class="s">&#39;Size&#39;</span><span class="p">]</span> <span class="o">=</span> <span class="s">&#39;large&#39;</span>
<span class="n">data</span><span class="o">.</span><span class="n">head</span><span class="p">()</span>
</pre></div>

</div>
</div>
</div>

<div class="output_wrapper">
<div class="output">


<div class="output_area"><div class="prompt output_prompt">Out[11]:</div>

<div class="output_html rendered_html output_subarea output_execute_result">
<div>
<table border="1" class="dataframe">
  <thead>
    <tr style="text-align: right;">
      <th></th>
      <th>TV</th>
      <th>Radio</th>
      <th>Newspaper</th>
      <th>Sales</th>
      <th>Size</th>
    </tr>
  </thead>
  <tbody>
    <tr>
      <th>1</th>
      <td>230.1</td>
      <td>37.8</td>
      <td>69.2</td>
      <td>22.1</td>
      <td>large</td>
    </tr>
    <tr>
      <th>2</th>
      <td>44.5</td>
      <td>39.3</td>
      <td>45.1</td>
      <td>10.4</td>
      <td>small</td>
    </tr>
    <tr>
      <th>3</th>
      <td>17.2</td>
      <td>45.9</td>
      <td>69.3</td>
      <td>9.3</td>
      <td>small</td>
    </tr>
    <tr>
      <th>4</th>
      <td>151.5</td>
      <td>41.3</td>
      <td>58.5</td>
      <td>18.5</td>
      <td>small</td>
    </tr>
    <tr>
      <th>5</th>
      <td>180.8</td>
      <td>10.8</td>
      <td>58.4</td>
      <td>12.9</td>
      <td>large</td>
    </tr>
  </tbody>
</table>
</div>
</div>

</div>

</div>
</div>

</div>
<div class="cell border-box-sizing text_cell rendered">
<div class="prompt input_prompt">
</div>
<div class="inner_cell">
<div class="text_cell_render border-box-sizing rendered_html">
<p>For scikit-learn, we need to represent all data <strong>numerically</strong>. If the feature only has two categories, we can simply create a <strong>dummy variable</strong> that represents the categories as a binary value:</p>

</div>
</div>
</div>
<div class="cell border-box-sizing code_cell rendered">
<div class="input">
<div class="prompt input_prompt">In&nbsp;[12]:</div>
<div class="inner_cell">
    <div class="input_area">
<div class=" highlight hl-ipython2"><pre><span class="c"># create a new Series called Size_large</span>
<span class="n">data</span><span class="p">[</span><span class="s">&#39;Size_large&#39;</span><span class="p">]</span> <span class="o">=</span> <span class="n">data</span><span class="o">.</span><span class="n">Size</span><span class="o">.</span><span class="n">map</span><span class="p">({</span><span class="s">&#39;small&#39;</span><span class="p">:</span><span class="mi">0</span><span class="p">,</span> <span class="s">&#39;large&#39;</span><span class="p">:</span><span class="mi">1</span><span class="p">})</span>
<span class="n">data</span><span class="o">.</span><span class="n">head</span><span class="p">()</span>
</pre></div>

</div>
</div>
</div>

<div class="output_wrapper">
<div class="output">


<div class="output_area"><div class="prompt output_prompt">Out[12]:</div>

<div class="output_html rendered_html output_subarea output_execute_result">
<div>
<table border="1" class="dataframe">
  <thead>
    <tr style="text-align: right;">
      <th></th>
      <th>TV</th>
      <th>Radio</th>
      <th>Newspaper</th>
      <th>Sales</th>
      <th>Size</th>
      <th>Size_large</th>
    </tr>
  </thead>
  <tbody>
    <tr>
      <th>1</th>
      <td>230.1</td>
      <td>37.8</td>
      <td>69.2</td>
      <td>22.1</td>
      <td>large</td>
      <td>1</td>
    </tr>
    <tr>
      <th>2</th>
      <td>44.5</td>
      <td>39.3</td>
      <td>45.1</td>
      <td>10.4</td>
      <td>small</td>
      <td>0</td>
    </tr>
    <tr>
      <th>3</th>
      <td>17.2</td>
      <td>45.9</td>
      <td>69.3</td>
      <td>9.3</td>
      <td>small</td>
      <td>0</td>
    </tr>
    <tr>
      <th>4</th>
      <td>151.5</td>
      <td>41.3</td>
      <td>58.5</td>
      <td>18.5</td>
      <td>small</td>
      <td>0</td>
    </tr>
    <tr>
      <th>5</th>
      <td>180.8</td>
      <td>10.8</td>
      <td>58.4</td>
      <td>12.9</td>
      <td>large</td>
      <td>1</td>
    </tr>
  </tbody>
</table>
</div>
</div>

</div>

</div>
</div>

</div>
<div class="cell border-box-sizing text_cell rendered">
<div class="prompt input_prompt">
</div>
<div class="inner_cell">
<div class="text_cell_render border-box-sizing rendered_html">
<p>Let's redo the multiple linear regression and include the <strong>Size_large</strong> feature:</p>

</div>
</div>
</div>
<div class="cell border-box-sizing code_cell rendered">
<div class="input">
<div class="prompt input_prompt">In&nbsp;[13]:</div>
<div class="inner_cell">
    <div class="input_area">
<div class=" highlight hl-ipython2"><pre><span class="c"># create X and y</span>
<span class="n">feature_cols</span> <span class="o">=</span> <span class="p">[</span><span class="s">&#39;TV&#39;</span><span class="p">,</span> <span class="s">&#39;Radio&#39;</span><span class="p">,</span> <span class="s">&#39;Newspaper&#39;</span><span class="p">,</span> <span class="s">&#39;Size_large&#39;</span><span class="p">]</span>
<span class="n">X</span> <span class="o">=</span> <span class="n">data</span><span class="p">[</span><span class="n">feature_cols</span><span class="p">]</span>
<span class="n">y</span> <span class="o">=</span> <span class="n">data</span><span class="o">.</span><span class="n">Sales</span>

<span class="c"># instantiate, fit</span>
<span class="n">lm</span> <span class="o">=</span> <span class="n">LinearRegression</span><span class="p">()</span>
<span class="n">lm</span><span class="o">.</span><span class="n">fit</span><span class="p">(</span><span class="n">X</span><span class="p">,</span> <span class="n">y</span><span class="p">)</span>

<span class="c"># print coefficients</span>
<span class="nb">zip</span><span class="p">(</span><span class="n">feature_cols</span><span class="p">,</span> <span class="n">lm</span><span class="o">.</span><span class="n">coef_</span><span class="p">)</span>
</pre></div>

</div>
</div>
</div>

<div class="output_wrapper">
<div class="output">


<div class="output_area"><div class="prompt output_prompt">Out[13]:</div>


<div class="output_text output_subarea output_execute_result">
<pre>[(&apos;TV&apos;, 0.045719820924362817),
 (&apos;Radio&apos;, 0.18872814313427849),
 (&apos;Newspaper&apos;, -0.0010976794483516447),
 (&apos;Size_large&apos;, 0.057423850854827867)]</pre>
</div>

</div>

</div>
</div>

</div>
<div class="cell border-box-sizing text_cell rendered">
<div class="prompt input_prompt">
</div>
<div class="inner_cell">
<div class="text_cell_render border-box-sizing rendered_html">
<p>How do we interpret the <strong>Size_large coefficient</strong>? For a given amount of TV/Radio/Newspaper ad spending, being a large market is associated with an average <strong>increase</strong> in Sales of 57.42 widgets (as compared to a small market, which is called the <strong>baseline level</strong>).</p>
<p>What if we had reversed the 0/1 coding and created the feature 'Size_small' instead? The coefficient would be the same, except it would be <strong>negative instead of positive</strong>. As such, your choice of category for the baseline does not matter, all that changes is your <strong>interpretation</strong> of the coefficient.</p>

</div>
</div>
</div>
<div class="cell border-box-sizing text_cell rendered">
<div class="prompt input_prompt">
</div>
<div class="inner_cell">
<div class="text_cell_render border-box-sizing rendered_html">
<h2 id="Handling-Categorical-Features-with-More-than-Two-Categories">Handling Categorical Features with More than Two Categories<a class="anchor-link" href="#Handling-Categorical-Features-with-More-than-Two-Categories">&#182;</a></h2><p>Let's create a new feature called <strong>Area</strong>, and randomly assign observations to be <strong>rural, suburban, or urban</strong>:</p>

</div>
</div>
</div>
<div class="cell border-box-sizing code_cell rendered">
<div class="input">
<div class="prompt input_prompt">In&nbsp;[14]:</div>
<div class="inner_cell">
    <div class="input_area">
<div class=" highlight hl-ipython2"><pre><span class="c"># set a seed for reproducibility</span>
<span class="n">np</span><span class="o">.</span><span class="n">random</span><span class="o">.</span><span class="n">seed</span><span class="p">(</span><span class="mi">123456</span><span class="p">)</span>

<span class="c"># assign roughly one third of observations to each group</span>
<span class="n">nums</span> <span class="o">=</span> <span class="n">np</span><span class="o">.</span><span class="n">random</span><span class="o">.</span><span class="n">rand</span><span class="p">(</span><span class="nb">len</span><span class="p">(</span><span class="n">data</span><span class="p">))</span>
<span class="n">mask_suburban</span> <span class="o">=</span> <span class="p">(</span><span class="n">nums</span> <span class="o">&gt;</span> <span class="mf">0.33</span><span class="p">)</span> <span class="o">&amp;</span> <span class="p">(</span><span class="n">nums</span> <span class="o">&lt;</span> <span class="mf">0.66</span><span class="p">)</span>
<span class="n">mask_urban</span> <span class="o">=</span> <span class="n">nums</span> <span class="o">&gt;</span> <span class="mf">0.66</span>
<span class="n">data</span><span class="p">[</span><span class="s">&#39;Area&#39;</span><span class="p">]</span> <span class="o">=</span> <span class="s">&#39;rural&#39;</span>
<span class="n">data</span><span class="o">.</span><span class="n">loc</span><span class="p">[</span><span class="n">mask_suburban</span><span class="p">,</span> <span class="s">&#39;Area&#39;</span><span class="p">]</span> <span class="o">=</span> <span class="s">&#39;suburban&#39;</span>
<span class="n">data</span><span class="o">.</span><span class="n">loc</span><span class="p">[</span><span class="n">mask_urban</span><span class="p">,</span> <span class="s">&#39;Area&#39;</span><span class="p">]</span> <span class="o">=</span> <span class="s">&#39;urban&#39;</span>
<span class="n">data</span><span class="o">.</span><span class="n">head</span><span class="p">()</span>
</pre></div>

</div>
</div>
</div>

<div class="output_wrapper">
<div class="output">


<div class="output_area"><div class="prompt output_prompt">Out[14]:</div>

<div class="output_html rendered_html output_subarea output_execute_result">
<div>
<table border="1" class="dataframe">
  <thead>
    <tr style="text-align: right;">
      <th></th>
      <th>TV</th>
      <th>Radio</th>
      <th>Newspaper</th>
      <th>Sales</th>
      <th>Size</th>
      <th>Size_large</th>
      <th>Area</th>
    </tr>
  </thead>
  <tbody>
    <tr>
      <th>1</th>
      <td>230.1</td>
      <td>37.8</td>
      <td>69.2</td>
      <td>22.1</td>
      <td>large</td>
      <td>1</td>
      <td>rural</td>
    </tr>
    <tr>
      <th>2</th>
      <td>44.5</td>
      <td>39.3</td>
      <td>45.1</td>
      <td>10.4</td>
      <td>small</td>
      <td>0</td>
      <td>urban</td>
    </tr>
    <tr>
      <th>3</th>
      <td>17.2</td>
      <td>45.9</td>
      <td>69.3</td>
      <td>9.3</td>
      <td>small</td>
      <td>0</td>
      <td>rural</td>
    </tr>
    <tr>
      <th>4</th>
      <td>151.5</td>
      <td>41.3</td>
      <td>58.5</td>
      <td>18.5</td>
      <td>small</td>
      <td>0</td>
      <td>urban</td>
    </tr>
    <tr>
      <th>5</th>
      <td>180.8</td>
      <td>10.8</td>
      <td>58.4</td>
      <td>12.9</td>
      <td>large</td>
      <td>1</td>
      <td>suburban</td>
    </tr>
  </tbody>
</table>
</div>
</div>

</div>

</div>
</div>

</div>
<div class="cell border-box-sizing text_cell rendered">
<div class="prompt input_prompt">
</div>
<div class="inner_cell">
<div class="text_cell_render border-box-sizing rendered_html">
<p>We have to represent Area numerically, but we can't simply code it as 0=rural, 1=suburban, 2=urban because that would imply an <strong>ordered relationship</strong> between suburban and urban, and thus urban is somehow "twice" the suburban category. Note that if you do have ordered categories (i.e., strongly disagree, disagree, neutral, agree, strongly agree), you can use a single dummy variable and represent the categories numerically (such as 1, 2, 3, 4, 5).</p>
<p>Anyway, our Area feature is unordered, so we have to create <strong>additional dummy variables</strong>. Let's explore how to do this using pandas:</p>

</div>
</div>
</div>
<div class="cell border-box-sizing code_cell rendered">
<div class="input">
<div class="prompt input_prompt">In&nbsp;[15]:</div>
<div class="inner_cell">
    <div class="input_area">
<div class=" highlight hl-ipython2"><pre><span class="c"># create three dummy variables using get_dummies</span>
<span class="n">pd</span><span class="o">.</span><span class="n">get_dummies</span><span class="p">(</span><span class="n">data</span><span class="o">.</span><span class="n">Area</span><span class="p">,</span> <span class="n">prefix</span><span class="o">=</span><span class="s">&#39;Area&#39;</span><span class="p">)</span><span class="o">.</span><span class="n">head</span><span class="p">()</span>
</pre></div>

</div>
</div>
</div>

<div class="output_wrapper">
<div class="output">


<div class="output_area"><div class="prompt output_prompt">Out[15]:</div>

<div class="output_html rendered_html output_subarea output_execute_result">
<div>
<table border="1" class="dataframe">
  <thead>
    <tr style="text-align: right;">
      <th></th>
      <th>Area_rural</th>
      <th>Area_suburban</th>
      <th>Area_urban</th>
    </tr>
  </thead>
  <tbody>
    <tr>
      <th>1</th>
      <td>1</td>
      <td>0</td>
      <td>0</td>
    </tr>
    <tr>
      <th>2</th>
      <td>0</td>
      <td>0</td>
      <td>1</td>
    </tr>
    <tr>
      <th>3</th>
      <td>1</td>
      <td>0</td>
      <td>0</td>
    </tr>
    <tr>
      <th>4</th>
      <td>0</td>
      <td>0</td>
      <td>1</td>
    </tr>
    <tr>
      <th>5</th>
      <td>0</td>
      <td>1</td>
      <td>0</td>
    </tr>
  </tbody>
</table>
</div>
</div>

</div>

</div>
</div>

</div>
<div class="cell border-box-sizing text_cell rendered">
<div class="prompt input_prompt">
</div>
<div class="inner_cell">
<div class="text_cell_render border-box-sizing rendered_html">
<p>However, we actually only need <strong>two dummy variables, not three</strong>. Why? Because two dummies captures all of the "information" about the Area feature, and implicitly defines rural as the "baseline level".</p>
<p>Let's see what that looks like:</p>

</div>
</div>
</div>
<div class="cell border-box-sizing code_cell rendered">
<div class="input">
<div class="prompt input_prompt">In&nbsp;[16]:</div>
<div class="inner_cell">
    <div class="input_area">
<div class=" highlight hl-ipython2"><pre><span class="c"># create three dummy variables using get_dummies, then exclude the first dummy column</span>
<span class="n">area_dummies</span> <span class="o">=</span> <span class="n">pd</span><span class="o">.</span><span class="n">get_dummies</span><span class="p">(</span><span class="n">data</span><span class="o">.</span><span class="n">Area</span><span class="p">,</span> <span class="n">prefix</span><span class="o">=</span><span class="s">&#39;Area&#39;</span><span class="p">)</span><span class="o">.</span><span class="n">iloc</span><span class="p">[:,</span> <span class="mi">1</span><span class="p">:]</span>
<span class="n">area_dummies</span><span class="o">.</span><span class="n">head</span><span class="p">()</span>
</pre></div>

</div>
</div>
</div>

<div class="output_wrapper">
<div class="output">


<div class="output_area"><div class="prompt output_prompt">Out[16]:</div>

<div class="output_html rendered_html output_subarea output_execute_result">
<div>
<table border="1" class="dataframe">
  <thead>
    <tr style="text-align: right;">
      <th></th>
      <th>Area_suburban</th>
      <th>Area_urban</th>
    </tr>
  </thead>
  <tbody>
    <tr>
      <th>1</th>
      <td>0</td>
      <td>0</td>
    </tr>
    <tr>
      <th>2</th>
      <td>0</td>
      <td>1</td>
    </tr>
    <tr>
      <th>3</th>
      <td>0</td>
      <td>0</td>
    </tr>
    <tr>
      <th>4</th>
      <td>0</td>
      <td>1</td>
    </tr>
    <tr>
      <th>5</th>
      <td>1</td>
      <td>0</td>
    </tr>
  </tbody>
</table>
</div>
</div>

</div>

</div>
</div>

</div>
<div class="cell border-box-sizing text_cell rendered">
<div class="prompt input_prompt">
</div>
<div class="inner_cell">
<div class="text_cell_render border-box-sizing rendered_html">
<p>Here is how we interpret the coding:</p>
<ul>
<li><strong>rural</strong> is coded as Area_suburban=0 and Area_urban=0</li>
<li><strong>suburban</strong> is coded as Area_suburban=1 and Area_urban=0</li>
<li><strong>urban</strong> is coded as Area_suburban=0 and Area_urban=1</li>
</ul>
<p>If this is confusing, think about why we only needed one dummy variable for Size (Size_large), not two dummy variables (Size_small and Size_large). In general, if you have a categorical feature with k "levels", you create k-1 dummy variables.</p>
<p>Anyway, let's add these two new dummy variables onto the original DataFrame, and then include them in the linear regression model:</p>

</div>
</div>
</div>
<div class="cell border-box-sizing code_cell rendered">
<div class="input">
<div class="prompt input_prompt">In&nbsp;[17]:</div>
<div class="inner_cell">
    <div class="input_area">
<div class=" highlight hl-ipython2"><pre><span class="c"># concatenate the dummy variable columns onto the DataFrame (axis=0 means rows, axis=1 means columns)</span>
<span class="n">data</span> <span class="o">=</span> <span class="n">pd</span><span class="o">.</span><span class="n">concat</span><span class="p">([</span><span class="n">data</span><span class="p">,</span> <span class="n">area_dummies</span><span class="p">],</span> <span class="n">axis</span><span class="o">=</span><span class="mi">1</span><span class="p">)</span>
<span class="n">data</span><span class="o">.</span><span class="n">head</span><span class="p">()</span>
</pre></div>

</div>
</div>
</div>

<div class="output_wrapper">
<div class="output">


<div class="output_area"><div class="prompt output_prompt">Out[17]:</div>

<div class="output_html rendered_html output_subarea output_execute_result">
<div>
<table border="1" class="dataframe">
  <thead>
    <tr style="text-align: right;">
      <th></th>
      <th>TV</th>
      <th>Radio</th>
      <th>Newspaper</th>
      <th>Sales</th>
      <th>Size</th>
      <th>Size_large</th>
      <th>Area</th>
      <th>Area_suburban</th>
      <th>Area_urban</th>
    </tr>
  </thead>
  <tbody>
    <tr>
      <th>1</th>
      <td>230.1</td>
      <td>37.8</td>
      <td>69.2</td>
      <td>22.1</td>
      <td>large</td>
      <td>1</td>
      <td>rural</td>
      <td>0</td>
      <td>0</td>
    </tr>
    <tr>
      <th>2</th>
      <td>44.5</td>
      <td>39.3</td>
      <td>45.1</td>
      <td>10.4</td>
      <td>small</td>
      <td>0</td>
      <td>urban</td>
      <td>0</td>
      <td>1</td>
    </tr>
    <tr>
      <th>3</th>
      <td>17.2</td>
      <td>45.9</td>
      <td>69.3</td>
      <td>9.3</td>
      <td>small</td>
      <td>0</td>
      <td>rural</td>
      <td>0</td>
      <td>0</td>
    </tr>
    <tr>
      <th>4</th>
      <td>151.5</td>
      <td>41.3</td>
      <td>58.5</td>
      <td>18.5</td>
      <td>small</td>
      <td>0</td>
      <td>urban</td>
      <td>0</td>
      <td>1</td>
    </tr>
    <tr>
      <th>5</th>
      <td>180.8</td>
      <td>10.8</td>
      <td>58.4</td>
      <td>12.9</td>
      <td>large</td>
      <td>1</td>
      <td>suburban</td>
      <td>1</td>
      <td>0</td>
    </tr>
  </tbody>
</table>
</div>
</div>

</div>

</div>
</div>

</div>
<div class="cell border-box-sizing code_cell rendered">
<div class="input">
<div class="prompt input_prompt">In&nbsp;[18]:</div>
<div class="inner_cell">
    <div class="input_area">
<div class=" highlight hl-ipython2"><pre><span class="c"># create X and y</span>
<span class="n">feature_cols</span> <span class="o">=</span> <span class="p">[</span><span class="s">&#39;TV&#39;</span><span class="p">,</span> <span class="s">&#39;Radio&#39;</span><span class="p">,</span> <span class="s">&#39;Newspaper&#39;</span><span class="p">,</span> <span class="s">&#39;Size_large&#39;</span><span class="p">,</span> <span class="s">&#39;Area_suburban&#39;</span><span class="p">,</span> <span class="s">&#39;Area_urban&#39;</span><span class="p">]</span>
<span class="n">X</span> <span class="o">=</span> <span class="n">data</span><span class="p">[</span><span class="n">feature_cols</span><span class="p">]</span>
<span class="n">y</span> <span class="o">=</span> <span class="n">data</span><span class="o">.</span><span class="n">Sales</span>

<span class="c"># instantiate and fit</span>
<span class="n">lm</span> <span class="o">=</span> <span class="n">LinearRegression</span><span class="p">()</span>
<span class="n">lm</span><span class="o">.</span><span class="n">fit</span><span class="p">(</span><span class="n">X</span><span class="p">,</span> <span class="n">y</span><span class="p">)</span>

<span class="c"># print the coefficients</span>
<span class="nb">zip</span><span class="p">(</span><span class="n">feature_cols</span><span class="p">,</span> <span class="n">lm</span><span class="o">.</span><span class="n">coef_</span><span class="p">)</span>
</pre></div>

</div>
</div>
</div>

<div class="output_wrapper">
<div class="output">


<div class="output_area"><div class="prompt output_prompt">Out[18]:</div>


<div class="output_text output_subarea output_execute_result">
<pre>[(&apos;TV&apos;, 0.045744010363313742),
 (&apos;Radio&apos;, 0.18786669552525795),
 (&apos;Newspaper&apos;, -0.0010876977267108706),
 (&apos;Size_large&apos;, 0.077396607497479383),
 (&apos;Area_suburban&apos;, -0.10656299015958602),
 (&apos;Area_urban&apos;, 0.26813802165220041)]</pre>
</div>

</div>

</div>
</div>

</div>
<div class="cell border-box-sizing text_cell rendered">
<div class="prompt input_prompt">
</div>
<div class="inner_cell">
<div class="text_cell_render border-box-sizing rendered_html">
<p>How do we interpret the coefficients?</p>
<ul>
<li>Holding all other variables fixed, being a <strong>suburban</strong> area is associated with an average <strong>decrease</strong> in Sales of 106.56 widgets (as compared to the baseline level, which is rural).</li>
<li>Being an <strong>urban</strong> area is associated with an average <strong>increase</strong> in Sales of 268.13 widgets (as compared to rural).</li>
</ul>

</div>
</div>
</div>
<div class="cell border-box-sizing text_cell rendered">
<div class="prompt input_prompt">
</div>
<div class="inner_cell">
<div class="text_cell_render border-box-sizing rendered_html">
<h2 id="Linear-Regression-with-nonLinear-Terms">Linear Regression with nonLinear Terms<a class="anchor-link" href="#Linear-Regression-with-nonLinear-Terms">&#182;</a></h2><p>Let's look at another example of linear regression with <strong>nonlinear</strong> terms inside.
We will use the trees data set from pydataset package.</p>

</div>
</div>
</div>
<div class="cell border-box-sizing code_cell rendered">
<div class="input">
<div class="prompt input_prompt">In&nbsp;[19]:</div>
<div class="inner_cell">
    <div class="input_area">
<div class=" highlight hl-ipython2"><pre><span class="kn">import</span> <span class="nn">pydataset</span>
<span class="kn">from</span> <span class="nn">pydataset</span> <span class="kn">import</span> <span class="n">data</span>
<span class="n">trees</span><span class="o">=</span><span class="n">data</span><span class="p">(</span><span class="s">&#39;trees&#39;</span><span class="p">)</span>
<span class="c">#can use the below line to examine the detailed data description</span>
<span class="c">#data(&#39;trees&#39;,show_doc=True)</span>
<span class="n">trees</span><span class="o">.</span><span class="n">head</span><span class="p">()</span>
</pre></div>

</div>
</div>
</div>

<div class="output_wrapper">
<div class="output">


<div class="output_area"><div class="prompt output_prompt">Out[19]:</div>

<div class="output_html rendered_html output_subarea output_execute_result">
<div>
<table border="1" class="dataframe">
  <thead>
    <tr style="text-align: right;">
      <th></th>
      <th>Girth</th>
      <th>Height</th>
      <th>Volume</th>
    </tr>
  </thead>
  <tbody>
    <tr>
      <th>1</th>
      <td>8.3</td>
      <td>70</td>
      <td>10.3</td>
    </tr>
    <tr>
      <th>2</th>
      <td>8.6</td>
      <td>65</td>
      <td>10.3</td>
    </tr>
    <tr>
      <th>3</th>
      <td>8.8</td>
      <td>63</td>
      <td>10.2</td>
    </tr>
    <tr>
      <th>4</th>
      <td>10.5</td>
      <td>72</td>
      <td>16.4</td>
    </tr>
    <tr>
      <th>5</th>
      <td>10.7</td>
      <td>81</td>
      <td>18.8</td>
    </tr>
  </tbody>
</table>
</div>
</div>

</div>

</div>
</div>

</div>
<div class="cell border-box-sizing text_cell rendered">
<div class="prompt input_prompt">
</div>
<div class="inner_cell">
<div class="text_cell_render border-box-sizing rendered_html">
<p>The dataset trees have two features Girth and Height. we want to use them to predict the Volume of the trees.</p>

</div>
</div>
</div>
<div class="cell border-box-sizing code_cell rendered">
<div class="input">
<div class="prompt input_prompt">In&nbsp;[20]:</div>
<div class="inner_cell">
    <div class="input_area">
<div class=" highlight hl-ipython2"><pre><span class="c">#set up features and aimed result</span>
<span class="n">feature_cols</span><span class="o">=</span><span class="p">[</span><span class="s">&quot;Girth&quot;</span><span class="p">,</span> <span class="s">&quot;Height&quot;</span><span class="p">]</span>
<span class="n">X</span><span class="o">=</span><span class="n">trees</span><span class="p">[</span><span class="n">feature_cols</span><span class="p">]</span>
<span class="n">Y</span><span class="o">=</span><span class="n">trees</span><span class="o">.</span><span class="n">Volume</span>
<span class="c"># fit with LinearRegression</span>
<span class="n">lm</span><span class="o">=</span><span class="n">LinearRegression</span><span class="p">()</span>
<span class="n">lm</span><span class="o">.</span><span class="n">fit</span><span class="p">(</span><span class="n">X</span><span class="p">,</span><span class="n">Y</span><span class="p">)</span>
<span class="c">#print out result</span>
<span class="nb">zip</span><span class="p">(</span><span class="n">feature_cols</span><span class="p">,</span> <span class="n">lm</span><span class="o">.</span><span class="n">coef_</span><span class="p">)</span>
</pre></div>

</div>
</div>
</div>

<div class="output_wrapper">
<div class="output">


<div class="output_area"><div class="prompt output_prompt">Out[20]:</div>


<div class="output_text output_subarea output_execute_result">
<pre>[(&apos;Girth&apos;, 4.708160503017508), (&apos;Height&apos;, 0.33925123424470072)]</pre>
</div>

</div>

</div>
</div>

</div>
<div class="cell border-box-sizing text_cell rendered">
<div class="prompt input_prompt">
</div>
<div class="inner_cell">
<div class="text_cell_render border-box-sizing rendered_html">
<p>Let's examine the result of the fitting.</p>

</div>
</div>
</div>
<div class="cell border-box-sizing code_cell rendered">
<div class="input">
<div class="prompt input_prompt">In&nbsp;[21]:</div>
<div class="inner_cell">
    <div class="input_area">
<div class=" highlight hl-ipython2"><pre><span class="n">Ypredict</span><span class="o">=</span><span class="n">lm</span><span class="o">.</span><span class="n">predict</span><span class="p">(</span><span class="n">X</span><span class="p">)</span>
<span class="k">print</span> <span class="s">&quot;MSE&quot;</span><span class="p">,</span><span class="n">np</span><span class="o">.</span><span class="n">sqrt</span><span class="p">(</span><span class="n">metrics</span><span class="o">.</span><span class="n">mean_squared_error</span><span class="p">(</span><span class="n">Y</span><span class="p">,</span> <span class="n">Ypredict</span><span class="p">))</span>
<span class="c">#print type(X)</span>
<span class="kn">from</span> <span class="nn">matplotlib</span> <span class="kn">import</span> <span class="n">pyplot</span>
<span class="n">pyplot</span><span class="o">.</span><span class="n">plot</span><span class="p">(</span><span class="n">X</span><span class="p">[</span><span class="s">&quot;Girth&quot;</span><span class="p">],</span><span class="n">Ypredict</span><span class="p">)</span>
<span class="n">pyplot</span><span class="o">.</span><span class="n">scatter</span><span class="p">(</span><span class="n">X</span><span class="p">[</span><span class="s">&quot;Girth&quot;</span><span class="p">],</span><span class="n">Y</span><span class="p">)</span>
</pre></div>

</div>
</div>
</div>

<div class="output_wrapper">
<div class="output">


<div class="output_area"><div class="prompt"></div>
<div class="output_subarea output_stream output_stdout output_text">
<pre>MSE 3.68922301122
</pre>
</div>
</div>

<div class="output_area"><div class="prompt output_prompt">Out[21]:</div>


<div class="output_text output_subarea output_execute_result">
<pre>&lt;matplotlib.collections.PathCollection at 0x10c342f50&gt;</pre>
</div>

</div>

<div class="output_area"><div class="prompt"></div>


<div class="output_png output_subarea ">
<img src="data:image/png;base64,iVBORw0KGgoAAAANSUhEUgAAAXUAAAECCAYAAAAB2kexAAAABHNCSVQICAgIfAhkiAAAAAlwSFlz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"
>
</div>

</div>

</div>
</div>

</div>
<div class="cell border-box-sizing text_cell rendered">
<div class="prompt input_prompt">
</div>
<div class="inner_cell">
<div class="text_cell_render border-box-sizing rendered_html">
<p>Can we do better than this? Let us add in non linear features</p>

</div>
</div>
</div>
<div class="cell border-box-sizing code_cell rendered">
<div class="input">
<div class="prompt input_prompt">In&nbsp;[22]:</div>
<div class="inner_cell">
    <div class="input_area">
<div class=" highlight hl-ipython2"><pre><span class="c">#since we are interested in the Volume of trees</span>
<span class="c">#it&#39;s nature to add in the square of Girth into our features</span>

<span class="c">#add in a new feature</span>
<span class="n">X</span><span class="p">[</span><span class="s">&quot;GirthSquare&quot;</span><span class="p">]</span><span class="o">=</span><span class="n">trees</span><span class="p">[</span><span class="s">&quot;Girth&quot;</span><span class="p">]</span><span class="o">**</span><span class="mf">2.</span>

<span class="n">feature_cols</span><span class="o">=</span><span class="p">[</span><span class="s">&quot;Girth&quot;</span><span class="p">,</span> <span class="s">&quot;Height&quot;</span><span class="p">,</span><span class="s">&quot;GirthSquare&quot;</span><span class="p">]</span>

<span class="c"># fit with LinearRegression</span>
<span class="n">lm</span><span class="o">=</span><span class="n">LinearRegression</span><span class="p">()</span>
<span class="n">lm</span><span class="o">.</span><span class="n">fit</span><span class="p">(</span><span class="n">X</span><span class="p">,</span><span class="n">Y</span><span class="p">)</span>
<span class="c">#print out result</span>
<span class="nb">zip</span><span class="p">(</span><span class="n">feature_cols</span><span class="p">,</span> <span class="n">lm</span><span class="o">.</span><span class="n">coef_</span><span class="p">)</span>
</pre></div>

</div>
</div>
</div>

<div class="output_wrapper">
<div class="output">


<div class="output_area"><div class="prompt output_prompt">Out[22]:</div>


<div class="output_text output_subarea output_execute_result">
<pre>[(&apos;Girth&apos;, -2.8850787436520897),
 (&apos;Height&apos;, 0.37638730041234708),
 (&apos;GirthSquare&apos;, 0.26862242042510553)]</pre>
</div>

</div>

</div>
</div>

</div>
<div class="cell border-box-sizing code_cell rendered">
<div class="input">
<div class="prompt input_prompt">In&nbsp;[24]:</div>
<div class="inner_cell">
    <div class="input_area">
<div class=" highlight hl-ipython2"><pre><span class="n">Ypredict</span><span class="o">=</span><span class="n">lm</span><span class="o">.</span><span class="n">predict</span><span class="p">(</span><span class="n">X</span><span class="p">)</span>
<span class="c">#print &quot;MSE&quot;,np.sqrt(metrics.mean_squared_error(Y, Ypredict))</span>
<span class="kn">from</span> <span class="nn">matplotlib</span> <span class="kn">import</span> <span class="n">pyplot</span>
<span class="n">pyplot</span><span class="o">.</span><span class="n">plot</span><span class="p">(</span><span class="n">X</span><span class="p">[</span><span class="s">&quot;Girth&quot;</span><span class="p">],</span><span class="n">Ypredict</span><span class="p">)</span>
<span class="n">pyplot</span><span class="o">.</span><span class="n">scatter</span><span class="p">(</span><span class="n">X</span><span class="p">[</span><span class="s">&quot;Girth&quot;</span><span class="p">],</span><span class="n">Y</span><span class="p">)</span>
</pre></div>

</div>
</div>
</div>

<div class="output_wrapper">
<div class="output">


<div class="output_area"><div class="prompt output_prompt">Out[24]:</div>


<div class="output_text output_subarea output_execute_result">
<pre>&lt;matplotlib.collections.PathCollection at 0x10c4648d0&gt;</pre>
</div>

</div>

<div class="output_area"><div class="prompt"></div>


<div class="output_png output_subarea ">
<img src="data:image/png;base64,iVBORw0KGgoAAAANSUhEUgAAAXUAAAECCAYAAAAB2kexAAAABHNCSVQICAgIfAhkiAAAAAlwSFlz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"
>
</div>

</div>

</div>
</div>

</div>
<div class="cell border-box-sizing code_cell rendered">
<div class="input">
<div class="prompt input_prompt">In&nbsp;[25]:</div>
<div class="inner_cell">
    <div class="input_area">
<div class=" highlight hl-ipython2"><pre><span class="c">#We can keep on trying even higher order non liearn features</span>
<span class="n">X</span><span class="p">[</span><span class="s">&quot;GirthCube&quot;</span><span class="p">]</span><span class="o">=</span><span class="n">trees</span><span class="p">[</span><span class="s">&quot;Girth&quot;</span><span class="p">]</span><span class="o">**</span><span class="mf">3.</span>
<span class="n">X</span><span class="p">[</span><span class="s">&quot;GirthFouth&quot;</span><span class="p">]</span><span class="o">=</span><span class="n">trees</span><span class="p">[</span><span class="s">&quot;Girth&quot;</span><span class="p">]</span><span class="o">**</span><span class="mf">4.</span>
<span class="k">print</span> <span class="n">X</span><span class="o">.</span><span class="n">shape</span>
<span class="n">feature_cols</span><span class="o">=</span><span class="p">[</span><span class="s">&quot;Girth&quot;</span><span class="p">,</span> <span class="s">&quot;Height&quot;</span><span class="p">,</span><span class="s">&quot;GirthSquare&quot;</span><span class="p">,</span><span class="s">&quot;GirthCube&quot;</span><span class="p">,</span><span class="s">&quot;GirthFouth&quot;</span><span class="p">]</span>
<span class="c"># fit with LinearRegression</span>
<span class="n">lm</span><span class="o">=</span><span class="n">LinearRegression</span><span class="p">()</span>
<span class="n">lm</span><span class="o">.</span><span class="n">fit</span><span class="p">(</span><span class="n">X</span><span class="p">,</span><span class="n">Y</span><span class="p">)</span>
<span class="c">#print out result</span>
<span class="nb">zip</span><span class="p">(</span><span class="n">feature_cols</span><span class="p">,</span> <span class="n">lm</span><span class="o">.</span><span class="n">coef_</span><span class="p">)</span>
</pre></div>

</div>
</div>
</div>

<div class="output_wrapper">
<div class="output">


<div class="output_area"><div class="prompt"></div>
<div class="output_subarea output_stream output_stdout output_text">
<pre>(31, 5)
</pre>
</div>
</div>

<div class="output_area"><div class="prompt output_prompt">Out[25]:</div>


<div class="output_text output_subarea output_execute_result">
<pre>[(&apos;Girth&apos;, -0.49232364137881096),
 (&apos;Height&apos;, 0.38882908073109251),
 (&apos;GirthSquare&apos;, -0.11443890151448453),
 (&apos;GirthCube&apos;, 0.02378968565895425),
 (&apos;GirthFouth&apos;, -0.00050704093134010166)]</pre>
</div>

</div>

</div>
</div>

</div>
<div class="cell border-box-sizing code_cell rendered">
<div class="input">
<div class="prompt input_prompt">In&nbsp;[26]:</div>
<div class="inner_cell">
    <div class="input_area">
<div class=" highlight hl-ipython2"><pre><span class="n">Ypredict</span><span class="o">=</span><span class="n">lm</span><span class="o">.</span><span class="n">predict</span><span class="p">(</span><span class="n">X</span><span class="p">)</span>
<span class="c">#print &quot;MSE&quot;,np.sqrt(metrics.mean_squared_error(Y, Ypredict))</span>
<span class="c">#print type(X)</span>
<span class="kn">from</span> <span class="nn">matplotlib</span> <span class="kn">import</span> <span class="n">pyplot</span>
<span class="n">pyplot</span><span class="o">.</span><span class="n">plot</span><span class="p">(</span><span class="n">X</span><span class="p">[</span><span class="s">&quot;Girth&quot;</span><span class="p">],</span><span class="n">Ypredict</span><span class="p">)</span>
<span class="n">pyplot</span><span class="o">.</span><span class="n">scatter</span><span class="p">(</span><span class="n">X</span><span class="p">[</span><span class="s">&quot;Girth&quot;</span><span class="p">],</span><span class="n">Y</span><span class="p">)</span>
</pre></div>

</div>
</div>
</div>

<div class="output_wrapper">
<div class="output">


<div class="output_area"><div class="prompt output_prompt">Out[26]:</div>


<div class="output_text output_subarea output_execute_result">
<pre>&lt;matplotlib.collections.PathCollection at 0x10c464290&gt;</pre>
</div>

</div>

<div class="output_area"><div class="prompt"></div>


<div class="output_png output_subarea ">
<img src="data:image/png;base64,iVBORw0KGgoAAAANSUhEUgAAAXUAAAECCAYAAAAB2kexAAAABHNCSVQICAgIfAhkiAAAAAlwSFlz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=
"
>
</div>

</div>

</div>
</div>

</div>
<div class="cell border-box-sizing text_cell rendered">
<div class="prompt input_prompt">
</div>
<div class="inner_cell">
<div class="text_cell_render border-box-sizing rendered_html">
<h2 id="What-Didn't-We-Cover?">What Didn't We Cover?<a class="anchor-link" href="#What-Didn't-We-Cover?">&#182;</a></h2><ul>
<li>Detecting collinearity</li>
<li>Diagnosing model fit</li>
<li>Transforming features to fit non-linear relationships</li>
<li>Interaction terms</li>
<li>Assumptions of linear regression</li>
<li>And so much more!</li>
</ul>
<p>You could certainly go very deep into linear regression, and learn how to apply it really, really well. It's an excellent way to <strong>start your modeling process</strong> when working a regression problem. However, it is limited by the fact that it can only make good predictions if there is a <strong>linear relationship</strong> between the features and the response, which is why more complex methods (with higher variance and lower bias) will often outperform linear regression.</p>
<p>Therefore, we want you to understand linear regression conceptually, understand its strengths and weaknesses, be familiar with the terminology, and know how to apply it. However, we also want to spend time on many other machine learning models, which is why we aren't going deeper here.</p>

</div>
</div>
</div>
<div class="cell border-box-sizing text_cell rendered">
<div class="prompt input_prompt">
</div>
<div class="inner_cell">
<div class="text_cell_render border-box-sizing rendered_html">
<h2 id="Resources">Resources<a class="anchor-link" href="#Resources">&#182;</a></h2><ul>
<li>To go much more in-depth on linear regression, read Chapter 3 of <a href="http://www-bcf.usc.edu/~gareth/ISL/">An Introduction to Statistical Learning</a>, from which this lesson was adapted. Alternatively, watch the <a href="http://www.dataschool.io/15-hours-of-expert-machine-learning-videos/">related videos</a> or read my <a href="http://www.dataschool.io/applying-and-interpreting-linear-regression/">quick reference guide</a> to the key points in that chapter.</li>
<li>To learn more about Statsmodels and how to interpret the output, DataRobot has some decent posts on <a href="http://www.datarobot.com/blog/ordinary-least-squares-in-python/">simple linear regression</a> and <a href="http://www.datarobot.com/blog/multiple-regression-using-statsmodels/">multiple linear regression</a>.</li>
<li>This <a href="http://people.duke.edu/~rnau/regintro.htm">introduction to linear regression</a> is much more detailed and mathematically thorough, and includes lots of good advice.</li>
<li>This is a relatively quick post on the <a href="http://pareonline.net/getvn.asp?n=2&v=8">assumptions of linear regression</a>.</li>
</ul>

</div>
</div>
</div></section></section>
</div>
</div>

<script>

require(
    {
      // it makes sense to wait a little bit when you are loading
      // reveal from a cdn in a slow connection environment
      waitSeconds: 15
    },
    [
      "reveal.js/lib/js/head.min.js",
      "reveal.js/js/reveal.js"
    ],

    function(head, Reveal){

        // Full list of configuration options available here: https://github.com/hakimel/reveal.js#configuration
        Reveal.initialize({
            controls: true,
            progress: true,
            history: true,

            theme: Reveal.getQueryHash().theme, // available themes are in /css/theme
            transition: Reveal.getQueryHash().transition || 'linear', // default/cube/page/concave/zoom/linear/none

            // Optional libraries used to extend on reveal.js
            dependencies: [
                { src: "reveal.js/lib/js/classList.js",
                  condition: function() { return !document.body.classList; } },
                { src: "reveal.js/plugin/notes/notes.js",
                  async: true,
                  condition: function() { return !!document.body.classList; } }
            ]
        });

        var update = function(event){
          if(MathJax.Hub.getAllJax(Reveal.getCurrentSlide())){
            MathJax.Hub.Rerender(Reveal.getCurrentSlide());
          }
        };

        Reveal.addEventListener('slidechanged', update);

        var update_scroll = function(event){
          $(".reveal").scrollTop(0);
        };

        Reveal.addEventListener('slidechanged', update_scroll);

    }
);

</script>

</body>

</html>
