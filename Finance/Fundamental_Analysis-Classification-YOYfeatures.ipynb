{
 "cells": [
  {
   "cell_type": "markdown",
   "metadata": {},
   "source": [
    "# Fundamental Analysis\n",
    "This notebook plots various fundamental statistics of different stocks.  \n",
    "These links were helpful:  \n",
    "https://simply-python.com/2015/02/13/getting-historical-financial-statistics-of-stock-using-python/  \n",
    "http://stackoverflow.com/questions/40139537/scrape-yahoo-finance-financial-ratios  \n",
    "https://automatetheboringstuff.com/chapter11/  \n",
    "http://docs.python-guide.org/en/latest/scenarios/scrape/  \n",
    "https://www.boxcontrol.net/write-simple-currency-converter-in-python.html  \n",
    "\n",
    "## Todo\n",
    "- Bug somewhere, need to figure out why alg skipped so many stocks\n",
    "- Need currency conversion at the specified date... take an average\n",
    "- Try and merge other currencies into USD columns? Might increase # stocks by a lot\n",
    "- Need to try and fix some columns, like Revenue USD Mil\n",
    "- Need to check out bad stocks that were strongly predicted to be good, there's many"
   ]
  },
  {
   "cell_type": "code",
   "execution_count": 4,
   "metadata": {
    "collapsed": false
   },
   "outputs": [],
   "source": [
    "import pandas as pd\n",
    "import numpy as np\n",
    "import requests\n",
    "import sys\n",
    "import matplotlib.pyplot as plt\n",
    "from pandas_datareader.data import DataReader\n",
    "from pandas.tseries.offsets import BMonthEnd\n",
    "from pattern.web import URL\n",
    "from forex_python.converter import CurrencyRates\n",
    "import datetime\n",
    "%matplotlib inline"
   ]
  },
  {
   "cell_type": "markdown",
   "metadata": {},
   "source": [
    "## Choose Sector to analyze\n",
    "- Important to analyze stocks from the same sector, as different sectors have different standards. E.g. a typical Debt/Equity ratio of one sector can be very different from another sector.  \n",
    "- Download stock lists from http://www.nasdaq.com/screening/industries.aspx  "
   ]
  },
  {
   "cell_type": "code",
   "execution_count": 27,
   "metadata": {
    "collapsed": false
   },
   "outputs": [
    {
     "data": {
      "text/html": [
       "<div>\n",
       "<table border=\"1\" class=\"dataframe\">\n",
       "  <thead>\n",
       "    <tr style=\"text-align: right;\">\n",
       "      <th></th>\n",
       "      <th>Symbol</th>\n",
       "      <th>Company</th>\n",
       "    </tr>\n",
       "  </thead>\n",
       "  <tbody>\n",
       "    <tr>\n",
       "      <th>0</th>\n",
       "      <td>A</td>\n",
       "      <td>Agilent Technologies</td>\n",
       "    </tr>\n",
       "    <tr>\n",
       "      <th>1</th>\n",
       "      <td>AA</td>\n",
       "      <td>Alcoa Inc</td>\n",
       "    </tr>\n",
       "    <tr>\n",
       "      <th>2</th>\n",
       "      <td>AACC</td>\n",
       "      <td>Asset Accep Cap Corp</td>\n",
       "    </tr>\n",
       "    <tr>\n",
       "      <th>3</th>\n",
       "      <td>AAI</td>\n",
       "      <td>Airtran Hldgs Inc</td>\n",
       "    </tr>\n",
       "    <tr>\n",
       "      <th>4</th>\n",
       "      <td>AAII</td>\n",
       "      <td>Alabama Aircraft Ind In</td>\n",
       "    </tr>\n",
       "  </tbody>\n",
       "</table>\n",
       "</div>"
      ],
      "text/plain": [
       "  Symbol                  Company\n",
       "0      A     Agilent Technologies\n",
       "1     AA                Alcoa Inc\n",
       "2   AACC     Asset Accep Cap Corp\n",
       "3    AAI        Airtran Hldgs Inc\n",
       "4   AAII  Alabama Aircraft Ind In"
      ]
     },
     "execution_count": 27,
     "metadata": {},
     "output_type": "execute_result"
    }
   ],
   "source": [
    "#tickers = pd.read_csv('csv/s&p500.csv',delimiter=\",\")\n",
    "tickers = pd.read_csv('csv/wilshire5000.csv',delimiter=\",\")\n",
    "\n",
    "#tickers = pd.read_csv('csv/nasdaq/Finance.csv',delimiter=\",\")\n",
    "#tickers = tickers.loc[tickers['MarketCap']>1e6]  #exclude stocks with small market cap\n",
    "tickers.head()"
   ]
  },
  {
   "cell_type": "markdown",
   "metadata": {},
   "source": [
    "## Get Data"
   ]
  },
  {
   "cell_type": "code",
   "execution_count": 40,
   "metadata": {
    "collapsed": false,
    "scrolled": false
   },
   "outputs": [],
   "source": [
    "############################################# Helper Functions #############################################\n",
    "#############################################                  #############################################\n",
    "#simple progress bar\n",
    "def progress_bar(sequence, every=10):\n",
    "    length = float(len(sequence))\n",
    "    for index, item in enumerate(sequence):\n",
    "        if index % every == 0:\n",
    "            print >>sys.stderr, index/length,\n",
    "        yield item\n",
    "\n",
    "#small helper function for get_mean_frac_price_change\n",
    "def first_and_last_weekday_of_month(date):\n",
    "    return pd.date_range(date, periods=1, freq='BMS'), pd.date_range(date, periods=1, freq='BM')\n",
    "\n",
    "#collects data from yahoo finance, gets mean fractional price change, averaged over the relevant month\n",
    "def get_mean_frac_price_change(stock,current_date):\n",
    "    ds = current_date.split('-')\n",
    "    first_current, last_current = first_and_last_weekday_of_month(current_date)\n",
    "    first_future, last_future = first_and_last_weekday_of_month('%d-%s'%(int(ds[0])+1, ds[1]))\n",
    "    first_past, last_past = first_and_last_weekday_of_month('%d-%s'%(int(ds[0])-1, ds[1]))\n",
    "    mean_current_price = DataReader(stock, 'yahoo', first_current, last_current)['Adj Close'].mean()\n",
    "    mean_future_price = DataReader(stock, 'yahoo', first_future, last_future)['Adj Close'].mean()\n",
    "    mean_past_price = DataReader(stock, 'yahoo', first_past, last_past)['Adj Close'].mean()\n",
    "    return mean_future_price/mean_current_price, mean_current_price/mean_past_price, mean_current_price\n",
    "\n",
    "def clean_data(d):\n",
    "    #delete annoying repeated columns\n",
    "    del_columns = ['Year over Year','3-Year Average','5-Year Average','10-Year Average','Taxes Payable','Long-Term Debt']\n",
    "    for dc in del_columns: \n",
    "        try:\n",
    "            del d[dc]\n",
    "        except:\n",
    "            pass\n",
    "    \n",
    "    #convert commas to dots in relevant columns\n",
    "    for c in d.columns:\n",
    "        try:\n",
    "            d[c]=d[c].str.replace(',','.')\n",
    "        except:\n",
    "            pass\n",
    "    return d\n",
    "\n",
    "#convert currency values into USD\n",
    "def convert_currency(values,date):\n",
    "    currencies = ['AED','ARS','AUD','BRL','CAD','CHF','CLP','CNY','COP','CZK','EUR','GBP','HKD','ILS','INR','JPY','KRW','MXN','OMR','PEN','PLN','RON','RUB','SEK','THB','TWD','ZAR']\n",
    "    date = date.split(\"-\")\n",
    "    year, month = int(date[0]), int(date[1])\n",
    "    for c in currencies:\n",
    "        mask = values.index.str.contains(c)\n",
    "        if np.any(mask):\n",
    "            cr = CurrencyRates()\n",
    "            values.loc[values.index[mask]] *= cr.get_rate(c, 'USD', datetime.datetime(year, month, 1))\n",
    "            values.index = [col.replace(c, 'USD') for col in values.index]\n",
    "            return values\n",
    "    return values\n",
    "\n",
    "############################################# Main Functions #############################################\n",
    "#############################################                #############################################\n",
    "\n",
    "#scrape financial data from Morningstar for a given stock\n",
    "def get_stock_financials(stock,year):\n",
    "    #pre-load stuff\n",
    "    path = \"Fundamental_Analysis/\"\n",
    "    skiprows = [19,20,31,41,42,43,48,58,53,64,65,72,73,95,101,102]\n",
    "    \n",
    "    #load/scrape data\n",
    "    try:\n",
    "        d = pd.read_csv('%s%s_keyratios.csv'%(path, stock), header=2, index_col=0, skiprows=skiprows)\n",
    "    except:\n",
    "        webpage = \"http://financials.morningstar.com/ajax/exportKR2CSV.html?t=%s&culture=en-CA&region=USA&order=asc&r=314562\"%stock\n",
    "        url = URL(webpage)\n",
    "        f = open('%s%s_keyratios.csv'%(path, stock), 'wb') #save key ratios\n",
    "        f.write(url.download())\n",
    "        f.close()\n",
    "        d = pd.read_csv('%s%s_keyratios.csv'%(path, stock), header=2, index_col=0, skiprows=skiprows)\n",
    "    \n",
    "    #clean data\n",
    "    d = d.transpose().reset_index()\n",
    "    d = clean_data(d)\n",
    "    \n",
    "    #get indices for years of interest\n",
    "    i_current = np.where(d['index'].str.contains(\"%d\"%year))[0][0]\n",
    "    i_past = np.where(d['index'].str.contains(\"%d\"%(year-1)))[0][0]\n",
    "    date_current = d['index'].iloc[i_current]\n",
    "    date_past = d['index'].iloc[i_past]\n",
    "    \n",
    "    #convert data from string to numeric, do currency conversion (if need be), get YOY-ratios\n",
    "    values_current = convert_currency(pd.to_numeric(d.iloc[i_current], errors='coerce'), date_current)\n",
    "    values_past = convert_currency(pd.to_numeric(d.iloc[i_past], errors='coerce'), date_past)\n",
    "    YOY = values_current/values_past\n",
    "    YOY = YOY.add_suffix(' YOY')\n",
    "    \n",
    "    #final dataframe\n",
    "    d = pd.DataFrame(pd.concat([values_current, YOY])).transpose()\n",
    "    \n",
    "    #get Fractional price changes (future/current -> for target and current/past -> for features)\n",
    "    d['Stock'] = stock\n",
    "    MFFPC, MPFPC, MP = get_mean_frac_price_change(stock,date_current)\n",
    "    d['Mean Future Fractional Price Change'] = MFFPC\n",
    "    d['Mean Past Fractional Price Change'] = MPFPC\n",
    "    d['Mean Price'] = MP\n",
    "    return d\n",
    "\n",
    "###############################################\n",
    "#Top-level function which compiles all stock data into a single DataFrame\n",
    "def get_data(ticker_csv,year,true_threshold):\n",
    "    ticker_loc = ticker_csv.split(\".csv\")[0]\n",
    "    try:\n",
    "        X = pd.read_csv(\"%s_year%d_data.csv\"%(ticker_loc,year))\n",
    "        skip = np.loadtxt(\"%s_year%d_skip.csv\"%(ticker_loc,year), dtype=\"str\",delimiter=\",\")\n",
    "        print \"Loaded data from csv's...\"\n",
    "    except:\n",
    "        print \"Couldn't find DataFrame, scraping data from Morningstar...\"\n",
    "        stocks = pd.read_csv(ticker_csv,delimiter=\",\")\n",
    "        cols = get_stock_financials(stocks[\"Symbol\"][0],year).columns\n",
    "        X = pd.DataFrame(columns=cols)                                     #empty dataframe with available columns\n",
    "        skip = []\n",
    "        for s in progress_bar(stocks[\"Symbol\"], len(stocks[\"Symbol\"])/10): #main loop, fill dataframe\n",
    "            try:\n",
    "                _X = get_stock_financials(s,year)\n",
    "                if _X.shape[1] >= 1:                                       #only append if alg recovered data\n",
    "                    X = X.append(_X)\n",
    "            except:\n",
    "                skip.append(s)\n",
    "        X = X.set_index('Stock')\n",
    "        \n",
    "        #save to csv for ease of loading next time\n",
    "        skip = np.asarray(skip)\n",
    "        X.to_csv(\"%s_year%d_data.csv\"%(ticker_loc,year))\n",
    "        np.savetxt(\"%s_year%d_skip.csv\"%(ticker_loc,year), skip, fmt=\"%s\", delimiter=\",\")\n",
    "    \n",
    "    #create target\n",
    "    y = np.zeros(X.shape[0])\n",
    "    y[np.where(X['Mean Future Fractional Price Change']>true_threshold)] = 1\n",
    "    return X, y, skip"
   ]
  },
  {
   "cell_type": "markdown",
   "metadata": {},
   "source": [
    "Load the data below. This will take a minute."
   ]
  },
  {
   "cell_type": "code",
   "execution_count": 41,
   "metadata": {
    "collapsed": false
   },
   "outputs": [
    {
     "name": "stdout",
     "output_type": "stream",
     "text": [
      "Couldn't find DataFrame, scraping data from Morningstar...\n"
     ]
    },
    {
     "name": "stderr",
     "output_type": "stream",
     "text": [
      "0.0 0.0999756750182 0.199951350036 0.299927025055 0.399902700073 0.499878375091 0.599854050109 0.699829725128 0.799805400146 0.899781075164 0.999756750182"
     ]
    }
   ],
   "source": [
    "year = 2015\n",
    "true_threshold=1.0  #Minimum fractional change in price required for target=True (=1). Otherwise False (=0). \n",
    "ticker_csv = \"csv/wilshire5000.csv\"\n",
    "#ticker_csv = 'csv/nasdaq/Finance.csv'\n",
    "\n",
    "X, y, skip = get_data(ticker_csv, year, true_threshold)"
   ]
  },
  {
   "cell_type": "code",
   "execution_count": 42,
   "metadata": {
    "collapsed": false
   },
   "outputs": [
    {
     "name": "stdout",
     "output_type": "stream",
     "text": [
      "Number of True cases = 1697\n",
      "Number of False cases = 799\n",
      "Total cases = 2496\n"
     ]
    }
   ],
   "source": [
    "#Relative class numbers\n",
    "print \"Number of True cases = %d\"%len(y[y==1])\n",
    "print \"Number of False cases = %d\"%len(y[y==0])\n",
    "print \"Total cases = %d\"%len(y)"
   ]
  },
  {
   "cell_type": "markdown",
   "metadata": {},
   "source": [
    "## Engineer Features and Process Data\n",
    "Grab columns of interest to be used, replace NaN values, get training/test sets."
   ]
  },
  {
   "cell_type": "code",
   "execution_count": 43,
   "metadata": {
    "collapsed": false
   },
   "outputs": [
    {
     "name": "stdout",
     "output_type": "stream",
     "text": [
      "**Deleted** Accounts Payable: NaN fraction = 0.2376\n",
      "**Deleted** Accounts Payable YOY: NaN fraction = 0.2636\n",
      "**Deleted** Accounts Receivable: NaN fraction = 0.1102\n",
      "**Deleted** Accounts Receivable YOY: NaN fraction = 0.1342\n",
      "**Deleted** Accrued Liabilities: NaN fraction = 0.2192\n",
      "**Deleted** Accrued Liabilities YOY: NaN fraction = 0.2412\n",
      "Asset Turnover: NaN fraction = 0.0673\n",
      "Asset Turnover (Average): NaN fraction = 0.0673\n",
      "Asset Turnover (Average) YOY: NaN fraction = 0.0905\n",
      "Asset Turnover YOY: NaN fraction = 0.0905\n",
      "Book Value Per Share * USD: NaN fraction = 0.0557\n",
      "Book Value Per Share * USD YOY: NaN fraction = 0.0777\n",
      "**Deleted** COGS: NaN fraction = 0.2480\n",
      "**Deleted** COGS YOY: NaN fraction = 0.2660\n",
      "Cap Ex as a % of Sales: NaN fraction = 0.0986\n",
      "**Deleted** Cap Ex as a % of Sales YOY: NaN fraction = 0.1266\n",
      "Cap Spending USD Mil: NaN fraction = 0.0841\n",
      "**Deleted** Cap Spending USD Mil YOY: NaN fraction = 0.1587\n",
      "Cash & Short-Term Investments: NaN fraction = 0.0477\n",
      "Cash & Short-Term Investments YOY: NaN fraction = 0.0681\n",
      "**Deleted** Cash Conversion Cycle: NaN fraction = 0.4427\n",
      "**Deleted** Cash Conversion Cycle YOY: NaN fraction = 0.4571\n",
      "**Deleted** Current Ratio: NaN fraction = 0.1919\n",
      "**Deleted** Current Ratio YOY: NaN fraction = 0.2091\n",
      "**Deleted** Days Inventory: NaN fraction = 0.4219\n",
      "**Deleted** Days Inventory YOY: NaN fraction = 0.4375\n",
      "**Deleted** Days Sales Outstanding: NaN fraction = 0.2364\n",
      "**Deleted** Days Sales Outstanding YOY: NaN fraction = 0.2544\n",
      "**Deleted** Debt/Equity: NaN fraction = 0.2965\n",
      "**Deleted** Debt/Equity YOY: NaN fraction = 0.3446\n",
      "**Deleted** Dividends USD: NaN fraction = 0.4784\n",
      "**Deleted** Dividends USD YOY: NaN fraction = 0.5004\n",
      "EBT Margin: NaN fraction = 0.0745\n",
      "**Deleted** EBT Margin YOY: NaN fraction = 0.1018\n",
      "Earnings Per Share USD: NaN fraction = 0.0509\n",
      "Earnings Per Share USD YOY: NaN fraction = 0.0729\n",
      "Financial Leverage: NaN fraction = 0.0950\n",
      "Financial Leverage (Average): NaN fraction = 0.0950\n",
      "**Deleted** Financial Leverage (Average) YOY: NaN fraction = 0.1186\n",
      "**Deleted** Financial Leverage YOY: NaN fraction = 0.1186\n",
      "Fixed Assets Turnover: NaN fraction = 0.0873\n",
      "**Deleted** Fixed Assets Turnover YOY: NaN fraction = 0.1102\n",
      "**Deleted** Free Cash Flow Growth % YOY: NaN fraction = 0.5962\n",
      "**Deleted** Free Cash Flow Growth % YOY YOY: NaN fraction = 0.6731\n",
      "Free Cash Flow Per Share * USD: NaN fraction = 0.0613\n",
      "Free Cash Flow Per Share * USD YOY: NaN fraction = 0.0849\n",
      "Free Cash Flow USD Mil: NaN fraction = 0.0449\n",
      "Free Cash Flow USD Mil YOY: NaN fraction = 0.0709\n",
      "Free Cash Flow/Net Income: NaN fraction = 0.0489\n",
      "Free Cash Flow/Net Income YOY: NaN fraction = 0.0689\n",
      "Free Cash Flow/Sales %: NaN fraction = 0.0753\n",
      "**Deleted** Free Cash Flow/Sales % YOY: NaN fraction = 0.1026\n",
      "**Deleted** Gross Margin: NaN fraction = 0.2151\n",
      "**Deleted** Gross Margin %: NaN fraction = 0.2151\n",
      "**Deleted** Gross Margin % YOY: NaN fraction = 0.2348\n",
      "**Deleted** Gross Margin YOY: NaN fraction = 0.2348\n",
      "**Deleted** Intangibles: NaN fraction = 0.2352\n",
      "**Deleted** Intangibles YOY: NaN fraction = 0.2636\n",
      "**Deleted** Interest Coverage: NaN fraction = 0.4343\n",
      "**Deleted** Interest Coverage YOY: NaN fraction = 0.4808\n",
      "**Deleted** Inventory: NaN fraction = 0.4167\n",
      "**Deleted** Inventory Turnover: NaN fraction = 0.4219\n",
      "**Deleted** Inventory Turnover YOY: NaN fraction = 0.4375\n",
      "**Deleted** Inventory YOY: NaN fraction = 0.4307\n",
      "**Deleted** Key Ratios -> Efficiency Ratios: NaN fraction = 1.0000\n",
      "**Deleted** Key Ratios -> Efficiency Ratios YOY: NaN fraction = 1.0000\n",
      "**Deleted** Key Ratios -> Financial Health: NaN fraction = 1.0000\n",
      "**Deleted** Key Ratios -> Financial Health YOY: NaN fraction = 1.0000\n",
      "**Deleted** Liquidity/Financial Health: NaN fraction = 1.0000\n",
      "**Deleted** Liquidity/Financial Health YOY: NaN fraction = 1.0000\n",
      "Mean Future Fractional Price Change: NaN fraction = 0.0000\n",
      "Mean Past Fractional Price Change: NaN fraction = 0.0000\n",
      "Mean Price: NaN fraction = 0.0000\n",
      "Net Income USD Mil: NaN fraction = 0.0433\n",
      "Net Income USD Mil YOY: NaN fraction = 0.0677\n",
      "**Deleted** Net Int Inc & Other: NaN fraction = 0.1398\n",
      "**Deleted** Net Int Inc & Other YOY: NaN fraction = 0.1711\n",
      "Net Margin %: NaN fraction = 0.0757\n",
      "**Deleted** Net Margin % YOY: NaN fraction = 0.1050\n",
      "Net PP&E: NaN fraction = 0.0733\n",
      "Net PP&E YOY: NaN fraction = 0.0929\n",
      "**Deleted** Operating Cash Flow Growth % YOY: NaN fraction = 0.4784\n",
      "**Deleted** Operating Cash Flow Growth % YOY YOY: NaN fraction = 0.5581\n",
      "Operating Cash Flow USD Mil: NaN fraction = 0.0453\n",
      "Operating Cash Flow USD Mil YOY: NaN fraction = 0.0701\n",
      "Operating Income USD Mil: NaN fraction = 0.0445\n",
      "Operating Income USD Mil YOY: NaN fraction = 0.0685\n",
      "Operating Margin: NaN fraction = 0.0737\n",
      "Operating Margin %: NaN fraction = 0.0737\n",
      "**Deleted** Operating Margin % YOY: NaN fraction = 0.1002\n",
      "**Deleted** Operating Margin YOY: NaN fraction = 0.1002\n",
      "**Deleted** Other: NaN fraction = 0.2881\n",
      "**Deleted** Other Current Assets: NaN fraction = 0.1923\n",
      "**Deleted** Other Current Assets YOY: NaN fraction = 0.2115\n",
      "**Deleted** Other Long-Term Assets: NaN fraction = 0.2023\n",
      "**Deleted** Other Long-Term Assets YOY: NaN fraction = 0.2260\n",
      "**Deleted** Other Long-Term Liabilities: NaN fraction = 0.2075\n",
      "**Deleted** Other Long-Term Liabilities YOY: NaN fraction = 0.2300\n",
      "**Deleted** Other Short-Term Liabilities: NaN fraction = 0.2837\n",
      "**Deleted** Other Short-Term Liabilities YOY: NaN fraction = 0.3237\n",
      "**Deleted** Other YOY: NaN fraction = 0.3317\n",
      "**Deleted** Payables Period: NaN fraction = 0.2933\n",
      "**Deleted** Payables Period YOY: NaN fraction = 0.3121\n",
      "**Deleted** Payout Ratio % *: NaN fraction = 0.5337\n",
      "**Deleted** Payout Ratio % * YOY: NaN fraction = 0.5677\n",
      "**Deleted** Quick Ratio: NaN fraction = 0.1923\n",
      "**Deleted** Quick Ratio YOY: NaN fraction = 0.2091\n",
      "**Deleted** R&D: NaN fraction = 0.7208\n",
      "**Deleted** R&D YOY: NaN fraction = 0.7304\n",
      "**Deleted** Receivables Turnover: NaN fraction = 0.2356\n",
      "**Deleted** Receivables Turnover YOY: NaN fraction = 0.2536\n",
      "Return on Assets %: NaN fraction = 0.0453\n",
      "Return on Assets % YOY: NaN fraction = 0.0649\n",
      "Return on Equity %: NaN fraction = 0.0901\n",
      "**Deleted** Return on Equity % YOY: NaN fraction = 0.1138\n",
      "**Deleted** Return on Invested Capital %: NaN fraction = 0.2344\n",
      "**Deleted** Return on Invested Capital % YOY: NaN fraction = 0.2548\n",
      "Revenue: NaN fraction = 0.0613\n",
      "Revenue USD Mil: NaN fraction = 0.0617\n",
      "Revenue USD Mil YOY: NaN fraction = 0.0905\n",
      "Revenue YOY: NaN fraction = 0.0841\n",
      "**Deleted** SG&A: NaN fraction = 0.1070\n",
      "**Deleted** SG&A YOY: NaN fraction = 0.1294\n",
      "Shares Mil: NaN fraction = 0.0445\n",
      "Shares Mil YOY: NaN fraction = 0.0649\n",
      "**Deleted** Short-Term Debt: NaN fraction = 0.4880\n",
      "**Deleted** Short-Term Debt YOY: NaN fraction = 0.5457\n",
      "**Deleted** Tax Rate %: NaN fraction = 0.3626\n",
      "**Deleted** Tax Rate % YOY: NaN fraction = 0.4375\n",
      "Total Assets: NaN fraction = 0.0433\n",
      "Total Assets YOY: NaN fraction = 0.0625\n",
      "**Deleted** Total Current Assets: NaN fraction = 0.1899\n",
      "**Deleted** Total Current Assets YOY: NaN fraction = 0.2067\n",
      "**Deleted** Total Current Liabilities: NaN fraction = 0.1919\n",
      "**Deleted** Total Current Liabilities YOY: NaN fraction = 0.2083\n",
      "Total Liabilities: NaN fraction = 0.0465\n",
      "Total Liabilities & Equity: NaN fraction = 0.0429\n",
      "Total Liabilities & Equity YOY: NaN fraction = 0.0613\n",
      "Total Liabilities YOY: NaN fraction = 0.0657\n",
      "Total Stockholders' Equity: NaN fraction = 0.0617\n",
      "Total Stockholders' Equity YOY: NaN fraction = 0.0813\n",
      "**Deleted** Working Capital USD Mil: NaN fraction = 0.1903\n",
      "**Deleted** Working Capital USD Mil YOY: NaN fraction = 0.2115\n",
      "**Deleted** index: NaN fraction = 1.0000\n",
      "**Deleted** index YOY: NaN fraction = 1.0000\n"
     ]
    }
   ],
   "source": [
    "#delete columns with >10% NaN values...\n",
    "#...for remaining columns, replace NaN values with median\n",
    "for c in X.columns:\n",
    "    frac_NaN = X[c].isnull().sum()/float(len(X))\n",
    "    if frac_NaN > 0.1:\n",
    "        del X[c]\n",
    "        print \"**Deleted** %s: NaN fraction = %.4f\"%(c, frac_NaN)\n",
    "    else:\n",
    "        try:\n",
    "            #X[c] = pd.to_numeric(X[c])\n",
    "            X[c].fillna(X[c].median(), inplace=True)\n",
    "            print \"%s: NaN fraction = %.4f\"%(c, frac_NaN)\n",
    "        except:\n",
    "            print \"!couldnt convert %s column to numeric. NaN fraction=%.4f\"%(c, frac_NaN)"
   ]
  },
  {
   "cell_type": "code",
   "execution_count": 44,
   "metadata": {
    "collapsed": false
   },
   "outputs": [
    {
     "data": {
      "text/plain": [
       "Index([u'Asset Turnover', u'Asset Turnover (Average)',\n",
       "       u'Asset Turnover (Average) YOY', u'Asset Turnover YOY',\n",
       "       u'Book Value Per Share * USD', u'Book Value Per Share * USD YOY',\n",
       "       u'Cap Ex as a % of Sales', u'Cap Spending USD Mil',\n",
       "       u'Cash & Short-Term Investments', u'Cash & Short-Term Investments YOY',\n",
       "       u'EBT Margin', u'Earnings Per Share USD', u'Earnings Per Share USD YOY',\n",
       "       u'Financial Leverage', u'Financial Leverage (Average)',\n",
       "       u'Fixed Assets Turnover', u'Free Cash Flow Per Share * USD',\n",
       "       u'Free Cash Flow Per Share * USD YOY', u'Free Cash Flow USD Mil',\n",
       "       u'Free Cash Flow USD Mil YOY', u'Free Cash Flow/Net Income',\n",
       "       u'Free Cash Flow/Net Income YOY', u'Free Cash Flow/Sales %',\n",
       "       u'Mean Future Fractional Price Change',\n",
       "       u'Mean Past Fractional Price Change', u'Mean Price',\n",
       "       u'Net Income USD Mil', u'Net Income USD Mil YOY', u'Net Margin %',\n",
       "       u'Net PP&E', u'Net PP&E YOY', u'Operating Cash Flow USD Mil',\n",
       "       u'Operating Cash Flow USD Mil YOY', u'Operating Income USD Mil',\n",
       "       u'Operating Income USD Mil YOY', u'Operating Margin',\n",
       "       u'Operating Margin %', u'Return on Assets %', u'Return on Assets % YOY',\n",
       "       u'Return on Equity %', u'Revenue', u'Revenue USD Mil',\n",
       "       u'Revenue USD Mil YOY', u'Revenue YOY', u'Shares Mil',\n",
       "       u'Shares Mil YOY', u'Total Assets', u'Total Assets YOY',\n",
       "       u'Total Liabilities', u'Total Liabilities & Equity',\n",
       "       u'Total Liabilities & Equity YOY', u'Total Liabilities YOY',\n",
       "       u'Total Stockholders' Equity', u'Total Stockholders' Equity YOY'],\n",
       "      dtype='object')"
      ]
     },
     "execution_count": 44,
     "metadata": {},
     "output_type": "execute_result"
    }
   ],
   "source": [
    "X.columns"
   ]
  },
  {
   "cell_type": "markdown",
   "metadata": {},
   "source": [
    "Feature Engineering:\n",
    "- Working Capital Ratio - how easily that company can turn assets into cash to pay short-term obligations\n",
    "- Price/Earnings Ratio - investors' assessment of future earnings\n",
    "- Price/Book Ratio\n",
    "- Debt/Equity Ratio"
   ]
  },
  {
   "cell_type": "code",
   "execution_count": 45,
   "metadata": {
    "collapsed": false
   },
   "outputs": [],
   "source": [
    "#feature engineering\n",
    "X['Working Capital Ratio'] = X['Total Assets']/X['Total Liabilities']   \n",
    "X['P/E Ratio'] = X['Mean Price']/X['Earnings Per Share USD']                 \n",
    "X['P/B Ratio'] = X['Mean Price']/X['Book Value Per Share * USD']\n",
    "X['D/E Ratio'] = X['Total Liabilities']/X[\"Total Stockholders' Equity\"] \n",
    "\n",
    "X['Working Capital Ratio YOY'] = X['Total Assets YOY']/X['Total Liabilities YOY']   \n",
    "X['P/E Ratio YOY'] = X['Mean Past Fractional Price Change']/X['Earnings Per Share USD YOY']                 \n",
    "X['P/B Ratio YOY'] = X['Mean Past Fractional Price Change']/X['Book Value Per Share * USD YOY']\n",
    "X['D/E Ratio YOY'] = X['Total Liabilities YOY']/X[\"Total Stockholders' Equity YOY\"] \n",
    "\n",
    "columns = X.columns.tolist()\n",
    "remove = ['Mean Future Fractional Price Change','Stock']\n",
    "features = [x for x in columns if x not in remove]\n",
    "\n",
    "#features to include for analysis\n",
    "#percentiles = ['Net Margin %','Return on Equity %','Return on Assets %','Operating Margin %','Free Cash Flow/Sales %','Cap Ex as a % of Sales']\n",
    "#ratios = ['Book Value Per Share * USD', 'Earnings Per Share USD','Free Cash Flow Per Share * USD',\n",
    "#          'Working Capital Ratio','P/E Ratio','P/B Ratio', 'D/E Ratio', 'Asset Turnover', 'Financial Leverage']\n",
    "#other = ['Cash & Short-Term Investments','EBT Margin']\n",
    "#features = ratios + percentiles + other\n",
    "\n",
    "#Top features from analysis\n",
    "#features = feat_imp[0:20].index"
   ]
  },
  {
   "cell_type": "code",
   "execution_count": 46,
   "metadata": {
    "collapsed": false
   },
   "outputs": [
    {
     "data": {
      "text/html": [
       "<div>\n",
       "<table border=\"1\" class=\"dataframe\">\n",
       "  <thead>\n",
       "    <tr style=\"text-align: right;\">\n",
       "      <th></th>\n",
       "      <th>Asset Turnover</th>\n",
       "      <th>Asset Turnover (Average)</th>\n",
       "      <th>Asset Turnover (Average) YOY</th>\n",
       "      <th>Asset Turnover YOY</th>\n",
       "      <th>Book Value Per Share * USD</th>\n",
       "      <th>Book Value Per Share * USD YOY</th>\n",
       "      <th>Cap Ex as a % of Sales</th>\n",
       "      <th>Cap Spending USD Mil</th>\n",
       "      <th>Cash &amp; Short-Term Investments</th>\n",
       "      <th>Cash &amp; Short-Term Investments YOY</th>\n",
       "      <th>...</th>\n",
       "      <th>Total Stockholders' Equity</th>\n",
       "      <th>Total Stockholders' Equity YOY</th>\n",
       "      <th>Working Capital Ratio</th>\n",
       "      <th>P/E Ratio</th>\n",
       "      <th>P/B Ratio</th>\n",
       "      <th>D/E Ratio</th>\n",
       "      <th>Working Capital Ratio YOY</th>\n",
       "      <th>P/E Ratio YOY</th>\n",
       "      <th>P/B Ratio YOY</th>\n",
       "      <th>D/E Ratio YOY</th>\n",
       "    </tr>\n",
       "    <tr>\n",
       "      <th>Stock</th>\n",
       "      <th></th>\n",
       "      <th></th>\n",
       "      <th></th>\n",
       "      <th></th>\n",
       "      <th></th>\n",
       "      <th></th>\n",
       "      <th></th>\n",
       "      <th></th>\n",
       "      <th></th>\n",
       "      <th></th>\n",
       "      <th></th>\n",
       "      <th></th>\n",
       "      <th></th>\n",
       "      <th></th>\n",
       "      <th></th>\n",
       "      <th></th>\n",
       "      <th></th>\n",
       "      <th></th>\n",
       "      <th></th>\n",
       "      <th></th>\n",
       "      <th></th>\n",
       "    </tr>\n",
       "  </thead>\n",
       "  <tbody>\n",
       "    <tr>\n",
       "      <th>A</th>\n",
       "      <td>0.44</td>\n",
       "      <td>0.44</td>\n",
       "      <td>0.676923</td>\n",
       "      <td>0.676923</td>\n",
       "      <td>12.36</td>\n",
       "      <td>0.734403</td>\n",
       "      <td>2.43</td>\n",
       "      <td>-98.0</td>\n",
       "      <td>26.78</td>\n",
       "      <td>0.957797</td>\n",
       "      <td>...</td>\n",
       "      <td>55.72</td>\n",
       "      <td>1.139002</td>\n",
       "      <td>2.258356</td>\n",
       "      <td>29.630282</td>\n",
       "      <td>2.876726</td>\n",
       "      <td>0.794688</td>\n",
       "      <td>1.153568</td>\n",
       "      <td>1.268805</td>\n",
       "      <td>1.279754</td>\n",
       "      <td>0.761083</td>\n",
       "    </tr>\n",
       "    <tr>\n",
       "      <th>AAI</th>\n",
       "      <td>0.38</td>\n",
       "      <td>0.38</td>\n",
       "      <td>0.974359</td>\n",
       "      <td>0.974359</td>\n",
       "      <td>11.40</td>\n",
       "      <td>1.018060</td>\n",
       "      <td>27.02</td>\n",
       "      <td>-18.0</td>\n",
       "      <td>8.04</td>\n",
       "      <td>1.163531</td>\n",
       "      <td>...</td>\n",
       "      <td>100.00</td>\n",
       "      <td>1.546073</td>\n",
       "      <td>1.643791</td>\n",
       "      <td>0.126457</td>\n",
       "      <td>0.011404</td>\n",
       "      <td>0.608350</td>\n",
       "      <td>0.992864</td>\n",
       "      <td>1.116002</td>\n",
       "      <td>4.256461</td>\n",
       "      <td>0.651449</td>\n",
       "    </tr>\n",
       "    <tr>\n",
       "      <th>AAME</th>\n",
       "      <td>0.53</td>\n",
       "      <td>0.53</td>\n",
       "      <td>1.019231</td>\n",
       "      <td>1.019231</td>\n",
       "      <td>5.05</td>\n",
       "      <td>1.018145</td>\n",
       "      <td>0.19</td>\n",
       "      <td>-0.0</td>\n",
       "      <td>4.97</td>\n",
       "      <td>0.961315</td>\n",
       "      <td>...</td>\n",
       "      <td>32.58</td>\n",
       "      <td>0.991177</td>\n",
       "      <td>1.483239</td>\n",
       "      <td>25.086183</td>\n",
       "      <td>0.943837</td>\n",
       "      <td>2.069368</td>\n",
       "      <td>0.995699</td>\n",
       "      <td>1.238390</td>\n",
       "      <td>1.216320</td>\n",
       "      <td>1.013260</td>\n",
       "    </tr>\n",
       "    <tr>\n",
       "      <th>AAN</th>\n",
       "      <td>1.24</td>\n",
       "      <td>1.24</td>\n",
       "      <td>0.976378</td>\n",
       "      <td>0.976378</td>\n",
       "      <td>18.50</td>\n",
       "      <td>1.116476</td>\n",
       "      <td>1.90</td>\n",
       "      <td>-61.0</td>\n",
       "      <td>1.40</td>\n",
       "      <td>1.386139</td>\n",
       "      <td>...</td>\n",
       "      <td>51.40</td>\n",
       "      <td>1.032129</td>\n",
       "      <td>2.057613</td>\n",
       "      <td>12.284312</td>\n",
       "      <td>1.235071</td>\n",
       "      <td>0.945525</td>\n",
       "      <td>1.032922</td>\n",
       "      <td>0.466568</td>\n",
       "      <td>0.719705</td>\n",
       "      <td>0.937991</td>\n",
       "    </tr>\n",
       "    <tr>\n",
       "      <th>AAON</th>\n",
       "      <td>1.54</td>\n",
       "      <td>1.54</td>\n",
       "      <td>0.968553</td>\n",
       "      <td>0.968553</td>\n",
       "      <td>3.74</td>\n",
       "      <td>1.129909</td>\n",
       "      <td>5.85</td>\n",
       "      <td>-21.0</td>\n",
       "      <td>8.74</td>\n",
       "      <td>0.509027</td>\n",
       "      <td>...</td>\n",
       "      <td>76.84</td>\n",
       "      <td>1.029061</td>\n",
       "      <td>4.317789</td>\n",
       "      <td>27.779792</td>\n",
       "      <td>6.239312</td>\n",
       "      <td>0.301406</td>\n",
       "      <td>1.093696</td>\n",
       "      <td>1.051847</td>\n",
       "      <td>0.977458</td>\n",
       "      <td>0.888510</td>\n",
       "    </tr>\n",
       "  </tbody>\n",
       "</table>\n",
       "<p>5 rows × 61 columns</p>\n",
       "</div>"
      ],
      "text/plain": [
       "       Asset Turnover  Asset Turnover (Average)  Asset Turnover (Average) YOY  \\\n",
       "Stock                                                                           \n",
       "A                0.44                      0.44                      0.676923   \n",
       "AAI              0.38                      0.38                      0.974359   \n",
       "AAME             0.53                      0.53                      1.019231   \n",
       "AAN              1.24                      1.24                      0.976378   \n",
       "AAON             1.54                      1.54                      0.968553   \n",
       "\n",
       "       Asset Turnover YOY  Book Value Per Share * USD  \\\n",
       "Stock                                                   \n",
       "A                0.676923                       12.36   \n",
       "AAI              0.974359                       11.40   \n",
       "AAME             1.019231                        5.05   \n",
       "AAN              0.976378                       18.50   \n",
       "AAON             0.968553                        3.74   \n",
       "\n",
       "       Book Value Per Share * USD YOY  Cap Ex as a % of Sales  \\\n",
       "Stock                                                           \n",
       "A                            0.734403                    2.43   \n",
       "AAI                          1.018060                   27.02   \n",
       "AAME                         1.018145                    0.19   \n",
       "AAN                          1.116476                    1.90   \n",
       "AAON                         1.129909                    5.85   \n",
       "\n",
       "       Cap Spending USD Mil  Cash & Short-Term Investments  \\\n",
       "Stock                                                        \n",
       "A                     -98.0                          26.78   \n",
       "AAI                   -18.0                           8.04   \n",
       "AAME                   -0.0                           4.97   \n",
       "AAN                   -61.0                           1.40   \n",
       "AAON                  -21.0                           8.74   \n",
       "\n",
       "       Cash & Short-Term Investments YOY      ...        \\\n",
       "Stock                                         ...         \n",
       "A                               0.957797      ...         \n",
       "AAI                             1.163531      ...         \n",
       "AAME                            0.961315      ...         \n",
       "AAN                             1.386139      ...         \n",
       "AAON                            0.509027      ...         \n",
       "\n",
       "       Total Stockholders' Equity  Total Stockholders' Equity YOY  \\\n",
       "Stock                                                               \n",
       "A                           55.72                        1.139002   \n",
       "AAI                        100.00                        1.546073   \n",
       "AAME                        32.58                        0.991177   \n",
       "AAN                         51.40                        1.032129   \n",
       "AAON                        76.84                        1.029061   \n",
       "\n",
       "       Working Capital Ratio  P/E Ratio  P/B Ratio  D/E Ratio  \\\n",
       "Stock                                                           \n",
       "A                   2.258356  29.630282   2.876726   0.794688   \n",
       "AAI                 1.643791   0.126457   0.011404   0.608350   \n",
       "AAME                1.483239  25.086183   0.943837   2.069368   \n",
       "AAN                 2.057613  12.284312   1.235071   0.945525   \n",
       "AAON                4.317789  27.779792   6.239312   0.301406   \n",
       "\n",
       "       Working Capital Ratio YOY  P/E Ratio YOY  P/B Ratio YOY  D/E Ratio YOY  \n",
       "Stock                                                                          \n",
       "A                       1.153568       1.268805       1.279754       0.761083  \n",
       "AAI                     0.992864       1.116002       4.256461       0.651449  \n",
       "AAME                    0.995699       1.238390       1.216320       1.013260  \n",
       "AAN                     1.032922       0.466568       0.719705       0.937991  \n",
       "AAON                    1.093696       1.051847       0.977458       0.888510  \n",
       "\n",
       "[5 rows x 61 columns]"
      ]
     },
     "execution_count": 46,
     "metadata": {},
     "output_type": "execute_result"
    }
   ],
   "source": [
    "X[features].head()"
   ]
  },
  {
   "cell_type": "code",
   "execution_count": 47,
   "metadata": {
    "collapsed": true
   },
   "outputs": [],
   "source": [
    "from sklearn.model_selection import train_test_split\n",
    "X_train, X_test, y_train, y_test = train_test_split(X[features], y, test_size=0.25, random_state=42)"
   ]
  },
  {
   "cell_type": "markdown",
   "metadata": {},
   "source": [
    "## Machine Learning tyme\n",
    "Do an initial search with a high learning rate and few n_estimators, then do a second tune with lower learning rate and many more estimators.  "
   ]
  },
  {
   "cell_type": "code",
   "execution_count": 48,
   "metadata": {
    "collapsed": false
   },
   "outputs": [
    {
     "name": "stderr",
     "output_type": "stream",
     "text": [
      "/Users/silburt/anaconda2/envs/ml/lib/python2.7/site-packages/sklearn/cross_validation.py:44: DeprecationWarning: This module was deprecated in version 0.18 in favor of the model_selection module into which all the refactored classes and functions are moved. Also note that the interface of the new CV iterators are different from that of this module. This module will be removed in 0.20.\n",
      "  \"This module will be removed in 0.20.\", DeprecationWarning)\n"
     ]
    },
    {
     "data": {
      "text/plain": [
       "XGBClassifier(base_score=0.5, colsample_bylevel=1, colsample_bytree=1,\n",
       "       gamma=0, learning_rate=0.1, max_delta_step=0, max_depth=3,\n",
       "       min_child_weight=1, missing=None, n_estimators=100, nthread=-1,\n",
       "       objective='binary:logistic', reg_alpha=0, reg_lambda=1,\n",
       "       scale_pos_weight=1, seed=0, silent=True, subsample=1)"
      ]
     },
     "execution_count": 48,
     "metadata": {},
     "output_type": "execute_result"
    }
   ],
   "source": [
    "import xgboost as xgb\n",
    "from sklearn.model_selection import GridSearchCV, RandomizedSearchCV\n",
    "xgb.XGBClassifier()"
   ]
  },
  {
   "cell_type": "code",
   "execution_count": 49,
   "metadata": {
    "collapsed": false
   },
   "outputs": [
    {
     "data": {
      "text/plain": [
       "0.45680933852140077"
      ]
     },
     "execution_count": 49,
     "metadata": {},
     "output_type": "execute_result"
    }
   ],
   "source": [
    "#scale classes based on relative imbalance\n",
    "scale_pos_weight = len(y_train[y_train==0])/float(len(y_train[y_train==1]))\n",
    "scale_pos_weight"
   ]
  },
  {
   "cell_type": "code",
   "execution_count": 50,
   "metadata": {
    "collapsed": false
   },
   "outputs": [
    {
     "name": "stdout",
     "output_type": "stream",
     "text": [
      "0.711470978056\n",
      "{'colsample_bytree': 0.5, 'learning_rate': 0.1, 'min_child_weight': 0.1, 'n_estimators': 1000, 'max_depth': 16, 'gamma': 0.2}\n"
     ]
    }
   ],
   "source": [
    "model = xgb.XGBClassifier(scale_pos_weight=scale_pos_weight)\n",
    "n_cv = 4\n",
    "n_iter = 15     #number of RandomizedSearchCV search iterations\n",
    "param_grid={\n",
    "    'learning_rate': [0.1],\n",
    "    'max_depth': [2,4,8,16],\n",
    "    'min_child_weight': [0.1,0.5,1,3],\n",
    "    'colsample_bytree': [0.1,0.5,1],\n",
    "    'gamma': [0,0.2,0.4,0.8],\n",
    "    'n_estimators':[1000],\n",
    "}\n",
    "\n",
    "grid = RandomizedSearchCV(model, param_distributions=param_grid, n_iter=n_iter, cv=n_cv, scoring='roc_auc')\n",
    "grid.fit(X_train,y_train)\n",
    "\n",
    "print(grid.best_score_)\n",
    "print(grid.best_params_)"
   ]
  },
  {
   "cell_type": "code",
   "execution_count": 51,
   "metadata": {
    "collapsed": false
   },
   "outputs": [
    {
     "name": "stdout",
     "output_type": "stream",
     "text": [
      "0.712988400246\n"
     ]
    }
   ],
   "source": [
    "#Do final train with best parameters, lower learning rate and more estimators\n",
    "model = xgb.XGBClassifier(scale_pos_weight=scale_pos_weight)\n",
    "n_cv = 4\n",
    "best_params={\n",
    "    'learning_rate': [5e-3],\n",
    "    'n_estimators':[4000],\n",
    "    'max_depth': [8],\n",
    "    'min_child_weight': [0.1],\n",
    "    'colsample_bytree': [0.5],\n",
    "    'gamma': [0.2],\n",
    "}\n",
    "final_model = GridSearchCV(model, param_grid=best_params, cv=n_cv, scoring='roc_auc')\n",
    "final_model.fit(X_train,y_train)\n",
    "\n",
    "#best model\n",
    "xgb_model = final_model.best_estimator_\n",
    "print(final_model.best_score_)"
   ]
  },
  {
   "cell_type": "code",
   "execution_count": 52,
   "metadata": {
    "collapsed": false
   },
   "outputs": [
    {
     "data": {
      "text/plain": [
       "<matplotlib.text.Text at 0x111eb84d0>"
      ]
     },
     "execution_count": 52,
     "metadata": {},
     "output_type": "execute_result"
    },
    {
     "data": {
      "image/png": "[encoded data removed]",
      "text/plain": [
       "<matplotlib.figure.Figure at 0x10b389310>"
      ]
     },
     "metadata": {},
     "output_type": "display_data"
    }
   ],
   "source": [
    "#model.feature_importances_\n",
    "feat_imp = pd.Series(xgb_model.booster().get_fscore()).sort_values(ascending=False) \n",
    "feat_imp.plot(kind='bar', title='Feature Importances')\n",
    "plt.ylabel('Feature Importance Score')"
   ]
  },
  {
   "cell_type": "code",
   "execution_count": 53,
   "metadata": {
    "collapsed": false
   },
   "outputs": [
    {
     "data": {
      "text/plain": [
       "<matplotlib.text.Text at 0x10c1fafd0>"
      ]
     },
     "execution_count": 53,
     "metadata": {},
     "output_type": "execute_result"
    },
    {
     "data": {
      "image/png": "[encoded data removed]",
      "text/plain": [
       "<matplotlib.figure.Figure at 0x10c163e10>"
      ]
     },
     "metadata": {},
     "output_type": "display_data"
    }
   ],
   "source": [
    "from sklearn.metrics import precision_recall_curve\n",
    "y_pred = xgb_model.predict_proba(X_test)\n",
    "precision, recall, thresholds = precision_recall_curve(y_test, y_pred[:,1])\n",
    "fig, ax = plt.subplots()\n",
    "ax.plot(recall, precision)\n",
    "ax.set_xlim([0.0, 1.0])\n",
    "ax.set_ylim([0.0, 1.0])\n",
    "ax.set_xlabel('Recall')\n",
    "ax.set_ylabel('Precision')\n",
    "ax.set_title('Precision Recall curve')"
   ]
  },
  {
   "cell_type": "code",
   "execution_count": 54,
   "metadata": {
    "collapsed": false
   },
   "outputs": [
    {
     "data": {
      "image/png": "[encoded data removed]",
      "text/plain": [
       "<matplotlib.figure.Figure at 0x10bfb3410>"
      ]
     },
     "metadata": {},
     "output_type": "display_data"
    }
   ],
   "source": [
    "# Histogram to see class predictions\n",
    "bins = 50\n",
    "y_pred=xgb_model.predict_proba(X_test)\n",
    "True_Class=y_pred[y_test==1][:,1]\n",
    "False_Class=y_pred[y_test==0][:,1]\n",
    "\n",
    "fig, ax1 = plt.subplots()\n",
    "ax1.hist(False_Class, bins, alpha=0.5, label='No', color='blue')\n",
    "ax1.set_xlabel('Predicted Probability', fontsize=14)\n",
    "ax1.set_ylabel('$S_f/S_i<%.2f$'%true_threshold,  fontsize=14, color='blue')\n",
    "for tl in ax1.get_yticklabels():\n",
    "    tl.set_color('blue')\n",
    "    \n",
    "ax2 = ax1.twinx()\n",
    "ax2.hist(True_Class, bins, alpha=0.5, label='Yes',color='green')\n",
    "ax2.set_ylabel('$S_f/S_i>%.2f$'%true_threshold, fontsize=14, color='green')\n",
    "for tl in ax2.get_yticklabels():\n",
    "    tl.set_color('green')"
   ]
  },
  {
   "cell_type": "markdown",
   "metadata": {
    "collapsed": true
   },
   "source": [
    "# Extra"
   ]
  },
  {
   "cell_type": "code",
   "execution_count": 26,
   "metadata": {
    "collapsed": false,
    "scrolled": true
   },
   "outputs": [
    {
     "data": {
      "text/plain": [
       "0.76488500000000004"
      ]
     },
     "execution_count": 26,
     "metadata": {},
     "output_type": "execute_result"
    }
   ],
   "source": [
    "stock=\"AA\"\n",
    "year=2015\n",
    "path = \"Fundamental_Analysis/\"\n",
    "skiprows = [19,20,31,41,42,43,48,58,53,64,65,72,73,95,101,102]\n",
    "del_if_present = ['AUD','EUR','BRL','CAD','ARS','CHF','CLP','CNY','COP','GBP','ILS','INR','JPY','KRW','MXN','PEN','PLN','RON','RUB','SEK','THB','TWD','ZAR','CZK','OMR','AED']\n",
    "del_columns = ['Year over Year','3-Year Average','5-Year Average','10-Year Average','Taxes Payable','Long-Term Debt']\n",
    "#scrape/load data\n",
    "path = \"Fundamental_Analysis/\"\n",
    "skiprows = [19,20,31,41,42,43,48,58,53,64,65,72,73,95,101,102]\n",
    "\n",
    "#load/scrape data\n",
    "try:\n",
    "    d = pd.read_csv('%s%s_keyratios.csv'%(path, stock), header=2, index_col=0, skiprows=skiprows)\n",
    "except:\n",
    "    webpage = \"http://financials.morningstar.com/ajax/exportKR2CSV.html?t=%s&culture=en-CA&region=USA&order=asc&r=314562\"%stock\n",
    "    url = URL(webpage)\n",
    "    f = open('%s%s_keyratios.csv'%(path, stock), 'wb') #save key ratios\n",
    "    f.write(url.download())\n",
    "    f.close()\n",
    "    d = pd.read_csv('%s%s_keyratios.csv'%(path, stock), header=2, index_col=0, skiprows=skiprows)\n",
    "\n",
    "#clean data\n",
    "d = d.transpose().reset_index()\n",
    "\n",
    "#convert commas to dots in relevant columns\n",
    "for c in d.columns:\n",
    "    try:\n",
    "        d[c]=d[c].str.replace(',','.')\n",
    "    except:\n",
    "        pass\n",
    "#d = clean_data(d)\n",
    "date = d['index'][0].split('-')\n",
    "#datetime.datetime(int(date[0]), int(date[1]), 1)\n",
    "cr = CurrencyRates()\n",
    "\n"
   ]
  },
  {
   "cell_type": "code",
   "execution_count": 55,
   "metadata": {
    "collapsed": false
   },
   "outputs": [
    {
     "data": {
      "text/html": [
       "<div>\n",
       "<table border=\"1\" class=\"dataframe\">\n",
       "  <thead>\n",
       "    <tr style=\"text-align: right;\">\n",
       "      <th></th>\n",
       "      <th>Asset Turnover</th>\n",
       "      <th>Asset Turnover (Average)</th>\n",
       "      <th>Asset Turnover (Average) YOY</th>\n",
       "      <th>Asset Turnover YOY</th>\n",
       "      <th>Book Value Per Share * USD</th>\n",
       "      <th>Book Value Per Share * USD YOY</th>\n",
       "      <th>Cap Ex as a % of Sales</th>\n",
       "      <th>Cap Spending USD Mil</th>\n",
       "      <th>Cash &amp; Short-Term Investments</th>\n",
       "      <th>Cash &amp; Short-Term Investments YOY</th>\n",
       "      <th>...</th>\n",
       "      <th>Working Capital Ratio</th>\n",
       "      <th>P/E Ratio</th>\n",
       "      <th>P/B Ratio</th>\n",
       "      <th>D/E Ratio</th>\n",
       "      <th>Working Capital Ratio YOY</th>\n",
       "      <th>P/E Ratio YOY</th>\n",
       "      <th>P/B Ratio YOY</th>\n",
       "      <th>D/E Ratio YOY</th>\n",
       "      <th>y_pred</th>\n",
       "      <th>y_test</th>\n",
       "    </tr>\n",
       "    <tr>\n",
       "      <th>Stock</th>\n",
       "      <th></th>\n",
       "      <th></th>\n",
       "      <th></th>\n",
       "      <th></th>\n",
       "      <th></th>\n",
       "      <th></th>\n",
       "      <th></th>\n",
       "      <th></th>\n",
       "      <th></th>\n",
       "      <th></th>\n",
       "      <th></th>\n",
       "      <th></th>\n",
       "      <th></th>\n",
       "      <th></th>\n",
       "      <th></th>\n",
       "      <th></th>\n",
       "      <th></th>\n",
       "      <th></th>\n",
       "      <th></th>\n",
       "      <th></th>\n",
       "      <th></th>\n",
       "    </tr>\n",
       "  </thead>\n",
       "  <tbody>\n",
       "    <tr>\n",
       "      <th>UFCS</th>\n",
       "      <td>0.27</td>\n",
       "      <td>0.27</td>\n",
       "      <td>0.990813</td>\n",
       "      <td>0.990813</td>\n",
       "      <td>33.61</td>\n",
       "      <td>1.018060</td>\n",
       "      <td>0.94</td>\n",
       "      <td>-10.0</td>\n",
       "      <td>2.74</td>\n",
       "      <td>0.967668</td>\n",
       "      <td>...</td>\n",
       "      <td>1.291823</td>\n",
       "      <td>10.698471</td>\n",
       "      <td>1.123642</td>\n",
       "      <td>3.426737</td>\n",
       "      <td>0.992864</td>\n",
       "      <td>1.390366</td>\n",
       "      <td>1.347246</td>\n",
       "      <td>1.022996</td>\n",
       "      <td>0.980985</td>\n",
       "      <td>1.0</td>\n",
       "    </tr>\n",
       "    <tr>\n",
       "      <th>PVR</th>\n",
       "      <td>0.67</td>\n",
       "      <td>0.67</td>\n",
       "      <td>0.990813</td>\n",
       "      <td>0.990813</td>\n",
       "      <td>0.02</td>\n",
       "      <td>1.018060</td>\n",
       "      <td>2.09</td>\n",
       "      <td>-1.0</td>\n",
       "      <td>5.62</td>\n",
       "      <td>0.967668</td>\n",
       "      <td>...</td>\n",
       "      <td>1.406668</td>\n",
       "      <td>-323043.478261</td>\n",
       "      <td>161521.739130</td>\n",
       "      <td>2.459011</td>\n",
       "      <td>0.992864</td>\n",
       "      <td>1.056349</td>\n",
       "      <td>1.023588</td>\n",
       "      <td>1.022996</td>\n",
       "      <td>0.015457</td>\n",
       "      <td>0.0</td>\n",
       "    </tr>\n",
       "    <tr>\n",
       "      <th>FINL</th>\n",
       "      <td>2.17</td>\n",
       "      <td>2.17</td>\n",
       "      <td>0.995413</td>\n",
       "      <td>0.995413</td>\n",
       "      <td>12.31</td>\n",
       "      <td>1.109009</td>\n",
       "      <td>4.84</td>\n",
       "      <td>-88.0</td>\n",
       "      <td>17.60</td>\n",
       "      <td>0.633777</td>\n",
       "      <td>...</td>\n",
       "      <td>3.265839</td>\n",
       "      <td>13.621968</td>\n",
       "      <td>1.881182</td>\n",
       "      <td>0.441338</td>\n",
       "      <td>0.961137</td>\n",
       "      <td>0.875162</td>\n",
       "      <td>0.859959</td>\n",
       "      <td>1.058280</td>\n",
       "      <td>0.269948</td>\n",
       "      <td>0.0</td>\n",
       "    </tr>\n",
       "    <tr>\n",
       "      <th>VGR</th>\n",
       "      <td>1.15</td>\n",
       "      <td>1.15</td>\n",
       "      <td>1.026786</td>\n",
       "      <td>1.026786</td>\n",
       "      <td>-1.09</td>\n",
       "      <td>1.535211</td>\n",
       "      <td>0.66</td>\n",
       "      <td>-11.0</td>\n",
       "      <td>32.22</td>\n",
       "      <td>0.753861</td>\n",
       "      <td>...</td>\n",
       "      <td>0.864155</td>\n",
       "      <td>45.017046</td>\n",
       "      <td>-19.411020</td>\n",
       "      <td>-7.361323</td>\n",
       "      <td>0.895437</td>\n",
       "      <td>0.837120</td>\n",
       "      <td>0.826715</td>\n",
       "      <td>0.257170</td>\n",
       "      <td>0.593391</td>\n",
       "      <td>1.0</td>\n",
       "    </tr>\n",
       "    <tr>\n",
       "      <th>KBH</th>\n",
       "      <td>0.62</td>\n",
       "      <td>0.62</td>\n",
       "      <td>1.033333</td>\n",
       "      <td>1.033333</td>\n",
       "      <td>17.78</td>\n",
       "      <td>2.195062</td>\n",
       "      <td>0.15</td>\n",
       "      <td>-5.0</td>\n",
       "      <td>11.17</td>\n",
       "      <td>1.481432</td>\n",
       "      <td>...</td>\n",
       "      <td>1.508523</td>\n",
       "      <td>15.651891</td>\n",
       "      <td>0.748262</td>\n",
       "      <td>1.966479</td>\n",
       "      <td>1.002564</td>\n",
       "      <td>8.695743</td>\n",
       "      <td>0.364030</td>\n",
       "      <td>0.992412</td>\n",
       "      <td>0.698608</td>\n",
       "      <td>1.0</td>\n",
       "    </tr>\n",
       "  </tbody>\n",
       "</table>\n",
       "<p>5 rows × 63 columns</p>\n",
       "</div>"
      ],
      "text/plain": [
       "       Asset Turnover  Asset Turnover (Average)  Asset Turnover (Average) YOY  \\\n",
       "Stock                                                                           \n",
       "UFCS             0.27                      0.27                      0.990813   \n",
       "PVR              0.67                      0.67                      0.990813   \n",
       "FINL             2.17                      2.17                      0.995413   \n",
       "VGR              1.15                      1.15                      1.026786   \n",
       "KBH              0.62                      0.62                      1.033333   \n",
       "\n",
       "       Asset Turnover YOY  Book Value Per Share * USD  \\\n",
       "Stock                                                   \n",
       "UFCS             0.990813                       33.61   \n",
       "PVR              0.990813                        0.02   \n",
       "FINL             0.995413                       12.31   \n",
       "VGR              1.026786                       -1.09   \n",
       "KBH              1.033333                       17.78   \n",
       "\n",
       "       Book Value Per Share * USD YOY  Cap Ex as a % of Sales  \\\n",
       "Stock                                                           \n",
       "UFCS                         1.018060                    0.94   \n",
       "PVR                          1.018060                    2.09   \n",
       "FINL                         1.109009                    4.84   \n",
       "VGR                          1.535211                    0.66   \n",
       "KBH                          2.195062                    0.15   \n",
       "\n",
       "       Cap Spending USD Mil  Cash & Short-Term Investments  \\\n",
       "Stock                                                        \n",
       "UFCS                  -10.0                           2.74   \n",
       "PVR                    -1.0                           5.62   \n",
       "FINL                  -88.0                          17.60   \n",
       "VGR                   -11.0                          32.22   \n",
       "KBH                    -5.0                          11.17   \n",
       "\n",
       "       Cash & Short-Term Investments YOY   ...    Working Capital Ratio  \\\n",
       "Stock                                      ...                            \n",
       "UFCS                            0.967668   ...                 1.291823   \n",
       "PVR                             0.967668   ...                 1.406668   \n",
       "FINL                            0.633777   ...                 3.265839   \n",
       "VGR                             0.753861   ...                 0.864155   \n",
       "KBH                             1.481432   ...                 1.508523   \n",
       "\n",
       "           P/E Ratio      P/B Ratio  D/E Ratio  Working Capital Ratio YOY  \\\n",
       "Stock                                                                       \n",
       "UFCS       10.698471       1.123642   3.426737                   0.992864   \n",
       "PVR   -323043.478261  161521.739130   2.459011                   0.992864   \n",
       "FINL       13.621968       1.881182   0.441338                   0.961137   \n",
       "VGR        45.017046     -19.411020  -7.361323                   0.895437   \n",
       "KBH        15.651891       0.748262   1.966479                   1.002564   \n",
       "\n",
       "       P/E Ratio YOY  P/B Ratio YOY  D/E Ratio YOY    y_pred  y_test  \n",
       "Stock                                                                 \n",
       "UFCS        1.390366       1.347246       1.022996  0.980985     1.0  \n",
       "PVR         1.056349       1.023588       1.022996  0.015457     0.0  \n",
       "FINL        0.875162       0.859959       1.058280  0.269948     0.0  \n",
       "VGR         0.837120       0.826715       0.257170  0.593391     1.0  \n",
       "KBH         8.695743       0.364030       0.992412  0.698608     1.0  \n",
       "\n",
       "[5 rows x 63 columns]"
      ]
     },
     "execution_count": 55,
     "metadata": {},
     "output_type": "execute_result"
    }
   ],
   "source": [
    "XX = X_test\n",
    "XX['y_pred'] = y_pred[:,1]\n",
    "XX['y_test'] = y_test\n",
    "XX.head()"
   ]
  },
  {
   "cell_type": "code",
   "execution_count": 56,
   "metadata": {
    "collapsed": false
   },
   "outputs": [
    {
     "data": {
      "text/plain": [
       "Index([u'AME', u'TGI', u'CMTL', u'LBTYA', u'TITN', u'CSS', u'SHLM', u'MTSC',\n",
       "       u'AIRM', u'DO', u'XRAY', u'RSO', u'KMT', u'PRAA', u'CFW', u'CPN',\n",
       "       u'PPG', u'TTI', u'BWA', u'HCP', u'GPK', u'GTN', u'ALCO', u'CCE', u'SLG',\n",
       "       u'OCN', u'HURN', u'GGP'],\n",
       "      dtype='object', name=u'Stock')"
      ]
     },
     "execution_count": 56,
     "metadata": {},
     "output_type": "execute_result"
    }
   ],
   "source": [
    "XX[(XX['y_test']==0) & (XX['y_pred']>0.9)].index"
   ]
  },
  {
   "cell_type": "code",
   "execution_count": 90,
   "metadata": {
    "collapsed": false
   },
   "outputs": [
    {
     "data": {
      "text/html": [
       "<div>\n",
       "<table border=\"1\" class=\"dataframe\">\n",
       "  <thead>\n",
       "    <tr style=\"text-align: right;\">\n",
       "      <th></th>\n",
       "      <th>Asset Turnover</th>\n",
       "      <th>Asset Turnover (Average)</th>\n",
       "      <th>Asset Turnover (Average) YOY</th>\n",
       "      <th>Asset Turnover YOY</th>\n",
       "      <th>Book Value Per Share * USD</th>\n",
       "      <th>Book Value Per Share * USD YOY</th>\n",
       "      <th>Cap Ex as a % of Sales</th>\n",
       "      <th>Cap Spending USD Mil</th>\n",
       "      <th>Cash &amp; Short-Term Investments</th>\n",
       "      <th>Cash &amp; Short-Term Investments YOY</th>\n",
       "      <th>...</th>\n",
       "      <th>Total Stockholders' Equity</th>\n",
       "      <th>Total Stockholders' Equity YOY</th>\n",
       "      <th>Working Capital Ratio</th>\n",
       "      <th>P/E Ratio</th>\n",
       "      <th>P/B Ratio</th>\n",
       "      <th>D/E Ratio</th>\n",
       "      <th>Working Capital Ratio YOY</th>\n",
       "      <th>P/E Ratio YOY</th>\n",
       "      <th>P/B Ratio YOY</th>\n",
       "      <th>D/E Ratio YOY</th>\n",
       "    </tr>\n",
       "    <tr>\n",
       "      <th>Stock</th>\n",
       "      <th></th>\n",
       "      <th></th>\n",
       "      <th></th>\n",
       "      <th></th>\n",
       "      <th></th>\n",
       "      <th></th>\n",
       "      <th></th>\n",
       "      <th></th>\n",
       "      <th></th>\n",
       "      <th></th>\n",
       "      <th></th>\n",
       "      <th></th>\n",
       "      <th></th>\n",
       "      <th></th>\n",
       "      <th></th>\n",
       "      <th></th>\n",
       "      <th></th>\n",
       "      <th></th>\n",
       "      <th></th>\n",
       "      <th></th>\n",
       "      <th></th>\n",
       "    </tr>\n",
       "  </thead>\n",
       "  <tbody>\n",
       "    <tr>\n",
       "      <th>CFW</th>\n",
       "      <td>0.02</td>\n",
       "      <td>0.02</td>\n",
       "      <td>1.000000</td>\n",
       "      <td>1.000000</td>\n",
       "      <td>9.25</td>\n",
       "      <td>1.103819</td>\n",
       "      <td>5.70</td>\n",
       "      <td>-12.0</td>\n",
       "      <td>7.85</td>\n",
       "      <td>0.954988</td>\n",
       "      <td>...</td>\n",
       "      <td>14.39</td>\n",
       "      <td>0.951091</td>\n",
       "      <td>1.168088</td>\n",
       "      <td>5.049537</td>\n",
       "      <td>0.316620</td>\n",
       "      <td>5.949270</td>\n",
       "      <td>0.991356</td>\n",
       "      <td>0.178809</td>\n",
       "      <td>0.167777</td>\n",
       "      <td>1.060592</td>\n",
       "    </tr>\n",
       "    <tr>\n",
       "      <th>MHGC</th>\n",
       "      <td>0.40</td>\n",
       "      <td>0.40</td>\n",
       "      <td>0.952381</td>\n",
       "      <td>0.952381</td>\n",
       "      <td>-9.48</td>\n",
       "      <td>1.116608</td>\n",
       "      <td>3.24</td>\n",
       "      <td>-7.0</td>\n",
       "      <td>8.17</td>\n",
       "      <td>3.334694</td>\n",
       "      <td>...</td>\n",
       "      <td>-37.39</td>\n",
       "      <td>0.884552</td>\n",
       "      <td>0.727855</td>\n",
       "      <td>21.533333</td>\n",
       "      <td>-0.340717</td>\n",
       "      <td>-3.674512</td>\n",
       "      <td>1.035519</td>\n",
       "      <td>-5.385530</td>\n",
       "      <td>0.371009</td>\n",
       "      <td>1.091738</td>\n",
       "    </tr>\n",
       "    <tr>\n",
       "      <th>OCN</th>\n",
       "      <td>0.22</td>\n",
       "      <td>0.22</td>\n",
       "      <td>0.846154</td>\n",
       "      <td>0.846154</td>\n",
       "      <td>8.63</td>\n",
       "      <td>0.670552</td>\n",
       "      <td>2.15</td>\n",
       "      <td>-37.0</td>\n",
       "      <td>3.47</td>\n",
       "      <td>2.210191</td>\n",
       "      <td>...</td>\n",
       "      <td>11.50</td>\n",
       "      <td>0.915605</td>\n",
       "      <td>1.129944</td>\n",
       "      <td>-3.379788</td>\n",
       "      <td>0.771516</td>\n",
       "      <td>7.695652</td>\n",
       "      <td>0.988023</td>\n",
       "      <td>0.617313</td>\n",
       "      <td>0.503775</td>\n",
       "      <td>1.105414</td>\n",
       "    </tr>\n",
       "  </tbody>\n",
       "</table>\n",
       "<p>3 rows × 62 columns</p>\n",
       "</div>"
      ],
      "text/plain": [
       "       Asset Turnover  Asset Turnover (Average)  Asset Turnover (Average) YOY  \\\n",
       "Stock                                                                           \n",
       "CFW              0.02                      0.02                      1.000000   \n",
       "MHGC             0.40                      0.40                      0.952381   \n",
       "OCN              0.22                      0.22                      0.846154   \n",
       "\n",
       "       Asset Turnover YOY  Book Value Per Share * USD  \\\n",
       "Stock                                                   \n",
       "CFW              1.000000                        9.25   \n",
       "MHGC             0.952381                       -9.48   \n",
       "OCN              0.846154                        8.63   \n",
       "\n",
       "       Book Value Per Share * USD YOY  Cap Ex as a % of Sales  \\\n",
       "Stock                                                           \n",
       "CFW                          1.103819                    5.70   \n",
       "MHGC                         1.116608                    3.24   \n",
       "OCN                          0.670552                    2.15   \n",
       "\n",
       "       Cap Spending USD Mil  Cash & Short-Term Investments  \\\n",
       "Stock                                                        \n",
       "CFW                   -12.0                           7.85   \n",
       "MHGC                   -7.0                           8.17   \n",
       "OCN                   -37.0                           3.47   \n",
       "\n",
       "       Cash & Short-Term Investments YOY      ...        \\\n",
       "Stock                                         ...         \n",
       "CFW                             0.954988      ...         \n",
       "MHGC                            3.334694      ...         \n",
       "OCN                             2.210191      ...         \n",
       "\n",
       "       Total Stockholders' Equity  Total Stockholders' Equity YOY  \\\n",
       "Stock                                                               \n",
       "CFW                         14.39                        0.951091   \n",
       "MHGC                       -37.39                        0.884552   \n",
       "OCN                         11.50                        0.915605   \n",
       "\n",
       "       Working Capital Ratio  P/E Ratio  P/B Ratio  D/E Ratio  \\\n",
       "Stock                                                           \n",
       "CFW                 1.168088   5.049537   0.316620   5.949270   \n",
       "MHGC                0.727855  21.533333  -0.340717  -3.674512   \n",
       "OCN                 1.129944  -3.379788   0.771516   7.695652   \n",
       "\n",
       "       Working Capital Ratio YOY  P/E Ratio YOY  P/B Ratio YOY  D/E Ratio YOY  \n",
       "Stock                                                                          \n",
       "CFW                     0.991356       0.178809       0.167777       1.060592  \n",
       "MHGC                    1.035519      -5.385530       0.371009       1.091738  \n",
       "OCN                     0.988023       0.617313       0.503775       1.105414  \n",
       "\n",
       "[3 rows x 62 columns]"
      ]
     },
     "execution_count": 90,
     "metadata": {},
     "output_type": "execute_result"
    }
   ],
   "source": [
    "colies=['Mean Future Fractional Price Change', 'Mean Past Fractional Price Change']\n",
    "index = XX[(XX['y_test']==0) & (XX['y_pred']>0.8) & (XX['Mean Past Fractional Price Change']<0.6)].index\n",
    "X.loc[index]"
   ]
  },
  {
   "cell_type": "code",
   "execution_count": 101,
   "metadata": {
    "collapsed": false
   },
   "outputs": [
    {
     "data": {
      "text/plain": [
       "<matplotlib.text.Text at 0x117d95610>"
      ]
     },
     "execution_count": 101,
     "metadata": {},
     "output_type": "execute_result"
    },
    {
     "data": {
      "image/png": "[encoded data removed]",
      "text/plain": [
       "<matplotlib.figure.Figure at 0x10caa1dd0>"
      ]
     },
     "metadata": {},
     "output_type": "display_data"
    }
   ],
   "source": [
    "def plot_labels(a,x,y,size,xlo=None,xhi=None,ylo=None,yhi=None):\n",
    "    arr = a.loc[(a[y]>ylo)&(a[y]<yhi)&(a[x]>xlo)&(a[x]<xhi)]\n",
    "    arrx, arry, arrnames = arr[x].values, arr[y].values, arr.index.values\n",
    "    for i in range(len(arrx)):\n",
    "        plt.text(arrx[i], arry[i], arrnames[i], size=size)\n",
    "\n",
    "feature_x = \"Mean Future Fractional Price Change\"\n",
    "feature = \"Mean Price\"\n",
    "plt.plot(X.loc[y==1,feature_x], X.loc[y==1,feature], '.', alpha=0.5)\n",
    "plt.plot(X.loc[y==0,feature_x], X.loc[y==0,feature], '.', alpha=0.5)\n",
    "\n",
    "index = XX[(XX['y_test']==0) & (XX['y_pred']>0.8)].index\n",
    "plt.plot(X[feature_x].loc[index], X[feature].loc[index], 'o')\n",
    "\n",
    "xlo,xhi,ylo,yhi = 0,2,0,100\n",
    "plot_labels(X.loc[index],feature_x,feature,6,xlo,xhi,ylo,yhi)\n",
    "plt.ylim([ylo,yhi])\n",
    "plt.xlim([xlo,xhi])\n",
    "plt.xlabel(feature_x)\n",
    "plt.ylabel(feature)"
   ]
  },
  {
   "cell_type": "markdown",
   "metadata": {},
   "source": [
    "Testing"
   ]
  },
  {
   "cell_type": "code",
   "execution_count": 47,
   "metadata": {
    "collapsed": false
   },
   "outputs": [
    {
     "data": {
      "text/plain": [
       "False"
      ]
     },
     "execution_count": 47,
     "metadata": {},
     "output_type": "execute_result"
    }
   ],
   "source": [
    "path = \"Fundamental_Analysis/\"\n",
    "skiprows = [19,20,31,41,42,43,48,58,53,64,65,72,73,95,101,102]\n",
    "del_if_present = ['AUD','EUR','BRL','CAD','ARS','CHF','CLP','CNY','COP','GBP','ILS','INR','JPY','KRW','MXN','PEN','PLN','RON','RUB','SEK','THB','TWD','ZAR','CZK']\n",
    "del_columns = ['Year over Year','3-Year Average','5-Year Average','10-Year Average','Taxes Payable','Long-Term Debt']\n",
    "stock=\"WFD\"\n",
    "d = pd.read_csv('%s%s_keyratios.csv'%(path, stock), header=2, index_col=0, skiprows=skiprows)\n",
    "d = d.transpose().reset_index()\n",
    "#date = d['index'].values\n",
    "i1,i2 = np.where(d['index'].str.contains(\"%d\"%2015))[0][0], np.where(d['index'].str.contains(\"%d\"%(2015-1)))[0][0]\n",
    "#ratios = d.iloc[i1].convert_objects(convert_numeric=True)/d.iloc[i2].convert_objects(convert_numeric=True)\n",
    "#d = pd.DataFrame(ratios).transpose()\n",
    "#d.insert(0,'Stock',stock)                              #keep stock ticker\n",
    "#d.insert(1,'Mean Fractional Price Change',get_mean_frac_price_change(stock,date)) #get fractional price change\n",
    "np.any(d.columns.str.contains(\"EUR\"))\n",
    "#cols = d.columns[d.columns.str.contains(\"AUD\")]\n",
    "#d[cols] *= 2\n",
    "#d[cols] = 2*d[cols]\n",
    "\n",
    "#d.columns = [c.replace('AUD', 'USD') for c in d.columns]\n",
    "#d.columns"
   ]
  },
  {
   "cell_type": "code",
   "execution_count": null,
   "metadata": {
    "collapsed": false
   },
   "outputs": [],
   "source": [
    "i1=np.where(d['index'].str.contains(\"%d\"%year))[0][0]\n",
    "date=d['index'].iloc[i1]\n",
    "get_mean_frac_price_change(\"ABCB\",date)"
   ]
  },
  {
   "cell_type": "code",
   "execution_count": null,
   "metadata": {
    "collapsed": false
   },
   "outputs": [],
   "source": [
    "plt.plot(X['Earnings Per Share USD'],X['Mean Fractional Price Change'], '.',alpha=0.05)\n",
    "plt.xlim([-5,5])\n",
    "plt.ylim([0,4])"
   ]
  },
  {
   "cell_type": "code",
   "execution_count": null,
   "metadata": {
    "collapsed": true
   },
   "outputs": [],
   "source": [
    "# param_grid={\n",
    "#     'learning_rate': [0.01],\n",
    "#     'max_depth': [4],\n",
    "#     'min_child_weight': [0.1],\n",
    "#     'n_estimators':[2000],\n",
    "# }\n",
    "#grid = GridSearchCV(model, param_grid=param_grid, cv=n_cv, scoring='neg_mean_squared_error')"
   ]
  },
  {
   "cell_type": "code",
   "execution_count": null,
   "metadata": {
    "collapsed": false
   },
   "outputs": [],
   "source": [
    "#s = \"AA\"\n",
    "#data = get_stock_financials(s,2014)\n",
    "#start = data['index'].values[0]\n",
    "#get_frac_price_change(s,start)\n",
    "\n",
    "#a= get_stock_price_change(\"ACN\",start)\n",
    "#print a"
   ]
  },
  {
   "cell_type": "code",
   "execution_count": null,
   "metadata": {
    "collapsed": true
   },
   "outputs": [],
   "source": [
    "#This is useful scraping code for extracting the sector that each stock is from...\n",
    "#http://docs.python-guide.org/en/latest/scenarios/scrape/\n",
    "from lxml import html\n",
    "import requests\n",
    "def get_sectors(df,path):\n",
    "    sectors = ['financials', 'healthcare', 'energy', 'basic-materials', 'industrials', \n",
    "           'technology', 'telecoms', 'utilities', 'non-cyclicals']\n",
    "    df['Sector'] = ''\n",
    "    DNF = []\n",
    "    for i,st in enumerate(df['Ticker']):\n",
    "        url = \"http://www.reuters.com/finance/stocks/overview?symbol=%s\"%st\n",
    "        page = requests.get(url)\n",
    "        tree = html.fromstring(page.content)\n",
    "        found_sector = 0\n",
    "        for sec in sectors:\n",
    "            if len(tree.xpath('//a[@href=\"/sectors/%s\"]/text()'%sec)) > 0:\n",
    "                df[\"Sector\"].iloc[i] = sec\n",
    "                found_sector = 1\n",
    "        if found_sector == 0:\n",
    "            DNF.append(st)\n",
    "            #print 'couldnt find sector for %s'%st\n",
    "    df.to_csv(path)\n",
    "    print \"%f stocks did not have a sector found\"%float(len(DNF))/float(len(df['Ticker']))\n",
    "    return df, DNF"
   ]
  },
  {
   "cell_type": "code",
   "execution_count": null,
   "metadata": {
    "collapsed": false
   },
   "outputs": [],
   "source": [
    "df, dnf = get_sectors(tickers,'csv/wilshire5000_sectors.csv')"
   ]
  },
  {
   "cell_type": "code",
   "execution_count": null,
   "metadata": {
    "collapsed": false
   },
   "outputs": [],
   "source": [
    "stock = \"AEM\"\n",
    "webpage = \"http://financials.morningstar.com/ajax/exportKR2CSV.html?t=%s&culture=en-CA&region=USA&order=asc&r=314562\"%stock\n",
    "url = URL(webpage)\n",
    "f = open('Fundamental_Analysis/%s_keyratios.csv'%stock, 'wb') # save as test.gif\n",
    "f.write(url.download())\n",
    "f.close()"
   ]
  },
  {
   "cell_type": "code",
   "execution_count": 17,
   "metadata": {
    "collapsed": false
   },
   "outputs": [
    {
     "name": "stdout",
     "output_type": "stream",
     "text": [
      "0.7674469\n"
     ]
    }
   ],
   "source": []
  },
  {
   "cell_type": "code",
   "execution_count": null,
   "metadata": {
    "collapsed": true
   },
   "outputs": [],
   "source": []
  }
 ],
 "metadata": {
  "kernelspec": {
   "display_name": "Python 2",
   "language": "python",
   "name": "python2"
  },
  "language_info": {
   "codemirror_mode": {
    "name": "ipython",
    "version": 2
   },
   "file_extension": ".py",
   "mimetype": "text/x-python",
   "name": "python",
   "nbconvert_exporter": "python",
   "pygments_lexer": "ipython2",
   "version": "2.7.11"
  }
 },
 "nbformat": 4,
 "nbformat_minor": 1
}
