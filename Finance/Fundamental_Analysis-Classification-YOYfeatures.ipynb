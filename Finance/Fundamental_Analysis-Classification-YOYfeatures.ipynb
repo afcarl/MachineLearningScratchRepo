{
 "cells": [
  {
   "cell_type": "markdown",
   "metadata": {},
   "source": [
    "# Fundamental Analysis\n",
    "This notebook plots various fundamental statistics of different stocks.  \n",
    "These links were helpful:  \n",
    "https://simply-python.com/2015/02/13/getting-historical-financial-statistics-of-stock-using-python/  \n",
    "http://stackoverflow.com/questions/40139537/scrape-yahoo-finance-financial-ratios  \n",
    "https://automatetheboringstuff.com/chapter11/  \n",
    "http://docs.python-guide.org/en/latest/scenarios/scrape/  \n",
    "\n",
    "## Todo\n",
    "- Try and merge other currencies into USD columns? Might increase # stocks by a lot\n",
    "- Need to try and fix some columns, like Revenue USD Mil\n",
    "- Need to check out bad stocks that were strongly predicted to be good, there's many"
   ]
  },
  {
   "cell_type": "code",
   "execution_count": 1,
   "metadata": {
    "collapsed": false
   },
   "outputs": [],
   "source": [
    "import pandas as pd\n",
    "import numpy as np\n",
    "import requests\n",
    "import sys\n",
    "import matplotlib.pyplot as plt\n",
    "from pandas_datareader.data import DataReader\n",
    "from pandas.tseries.offsets import BMonthEnd\n",
    "from pattern.web import URL\n",
    "%matplotlib inline"
   ]
  },
  {
   "cell_type": "markdown",
   "metadata": {},
   "source": [
    "## Choose Sector to analyze\n",
    "- Important to analyze stocks from the same sector, as different sectors have different standards. E.g. a typical Debt/Equity ratio of one sector can be very different from another sector.  \n",
    "- Download stock lists from http://www.nasdaq.com/screening/industries.aspx  "
   ]
  },
  {
   "cell_type": "code",
   "execution_count": 2,
   "metadata": {
    "collapsed": false
   },
   "outputs": [
    {
     "data": {
      "text/html": [
       "<div>\n",
       "<table border=\"1\" class=\"dataframe\">\n",
       "  <thead>\n",
       "    <tr style=\"text-align: right;\">\n",
       "      <th></th>\n",
       "      <th>Symbol</th>\n",
       "      <th>Company</th>\n",
       "    </tr>\n",
       "  </thead>\n",
       "  <tbody>\n",
       "    <tr>\n",
       "      <th>0</th>\n",
       "      <td>A</td>\n",
       "      <td>Agilent Technologies</td>\n",
       "    </tr>\n",
       "    <tr>\n",
       "      <th>1</th>\n",
       "      <td>AA</td>\n",
       "      <td>Alcoa Inc</td>\n",
       "    </tr>\n",
       "    <tr>\n",
       "      <th>2</th>\n",
       "      <td>AACC</td>\n",
       "      <td>Asset Accep Cap Corp</td>\n",
       "    </tr>\n",
       "    <tr>\n",
       "      <th>3</th>\n",
       "      <td>AAI</td>\n",
       "      <td>Airtran Hldgs Inc</td>\n",
       "    </tr>\n",
       "    <tr>\n",
       "      <th>4</th>\n",
       "      <td>AAII</td>\n",
       "      <td>Alabama Aircraft Ind In</td>\n",
       "    </tr>\n",
       "  </tbody>\n",
       "</table>\n",
       "</div>"
      ],
      "text/plain": [
       "  Symbol                  Company\n",
       "0      A     Agilent Technologies\n",
       "1     AA                Alcoa Inc\n",
       "2   AACC     Asset Accep Cap Corp\n",
       "3    AAI        Airtran Hldgs Inc\n",
       "4   AAII  Alabama Aircraft Ind In"
      ]
     },
     "execution_count": 2,
     "metadata": {},
     "output_type": "execute_result"
    }
   ],
   "source": [
    "#tickers = pd.read_csv('csv/s&p500.csv',delimiter=\",\")\n",
    "tickers = pd.read_csv('csv/wilshire5000.csv',delimiter=\",\")\n",
    "\n",
    "#tickers = pd.read_csv('csv/nasdaq/Finance.csv',delimiter=\",\")\n",
    "#tickers = tickers.loc[tickers['MarketCap']>1e6]  #exclude stocks with small market cap\n",
    "tickers.head()"
   ]
  },
  {
   "cell_type": "markdown",
   "metadata": {},
   "source": [
    "## Get Data"
   ]
  },
  {
   "cell_type": "code",
   "execution_count": 3,
   "metadata": {
    "collapsed": false,
    "scrolled": false
   },
   "outputs": [],
   "source": [
    "#small helper function for get_mean_frac_price_change\n",
    "def first_and_last_weekday_of_month(date):\n",
    "    return pd.date_range(date, periods=1, freq='BMS'), pd.date_range(date, periods=1, freq='BM')\n",
    "\n",
    "#collects data from yahoo finance, gets mean fractional price change, averaged over the relevant month\n",
    "def get_mean_frac_price_change(stock,current_date):\n",
    "    ds = current_date.split('-')\n",
    "    first_current, last_current = first_and_last_weekday_of_month(current_date)\n",
    "    first_future, last_future = first_and_last_weekday_of_month('%d-%s'%(int(ds[0])+1, ds[1]))\n",
    "    first_past, last_past = first_and_last_weekday_of_month('%d-%s'%(int(ds[0])-1, ds[1]))\n",
    "    mean_current_price = DataReader(stock, 'yahoo', first_current, last_current)['Adj Close'].mean()\n",
    "    mean_future_price = DataReader(stock, 'yahoo', first_future, last_future)['Adj Close'].mean()\n",
    "    mean_past_price = DataReader(stock, 'yahoo', first_past, last_past)['Adj Close'].mean()\n",
    "    return mean_future_price/mean_current_price, mean_current_price/mean_past_price, mean_current_price\n",
    "    \n",
    "#simple progress bar\n",
    "def progress_bar(sequence, every=10):\n",
    "    length = float(len(sequence))\n",
    "    for index, item in enumerate(sequence):\n",
    "        if index % every == 0:\n",
    "            print >>sys.stderr, index/length,\n",
    "        yield item\n",
    "\n",
    "#scrape financial data from Morningstar\n",
    "def get_stock_financials(stock,year):\n",
    "    #pre-load stuff\n",
    "    path = \"Fundamental_Analysis/\"\n",
    "    skiprows = [19,20,31,41,42,43,48,58,53,64,65,72,73,95,101,102]\n",
    "    del_if_present = ['AUD','EUR','BRL','CAD','ARS','CHF','CLP','CNY','COP','GBP','ILS','INR','JPY','KRW','MXN','PEN','PLN','RON','RUB','SEK','THB','TWD','ZAR','CZK','OMR','AED']\n",
    "    del_columns = ['Year over Year','3-Year Average','5-Year Average','10-Year Average','Taxes Payable','Long-Term Debt']\n",
    "    #scrape/load data\n",
    "    try:\n",
    "        d = pd.read_csv('%s%s_keyratios.csv'%(path, stock), header=2, index_col=0, skiprows=skiprows)\n",
    "    except:\n",
    "        webpage = \"http://financials.morningstar.com/ajax/exportKR2CSV.html?t=%s&culture=en-CA&region=USA&order=asc&r=314562\"%stock\n",
    "        url = URL(webpage)\n",
    "        f = open('%s%s_keyratios.csv'%(path, stock), 'wb') #save key ratios\n",
    "        f.write(url.download())\n",
    "        f.close()\n",
    "        d = pd.read_csv('%s%s_keyratios.csv'%(path, stock), header=2, index_col=0, skiprows=skiprows)\n",
    "    d = d.transpose().reset_index()\n",
    "    #ignore if non-US stocks for consistency\n",
    "    for dip in del_if_present:\n",
    "        if np.any(d.columns.str.contains(dip)):            #delete if present\n",
    "            return pd.DataFrame(columns=d.columns)         #return empty dataframe so that this entry will be ignored\n",
    "    d = d.dropna(axis='columns', how='all')\n",
    "    #delete annoying repeated columns\n",
    "    for dc in del_columns: \n",
    "        try:\n",
    "            del d[dc]\n",
    "        except:\n",
    "            pass\n",
    "    #get indices\n",
    "    i_current = np.where(d['index'].str.contains(\"%d\"%year))[0][0]\n",
    "    i_past = np.where(d['index'].str.contains(\"%d\"%(year-1)))[0][0]\n",
    "    date_current = d['index'].iloc[i_current]\n",
    "    #get data (values and YOY-ratios)\n",
    "    values = pd.to_numeric(d.iloc[i_current], errors='coerce')\n",
    "    YOY = values/pd.to_numeric(d.iloc[i_past], errors='coerce')\n",
    "    YOY = YOY.add_suffix(' YOY')\n",
    "    d = pd.DataFrame(pd.concat([values, YOY])).transpose()\n",
    "    #get Fractional price changes (future/current -> for target and current/past -> for features)\n",
    "    d['Stock'] = stock\n",
    "    MFFPC, MPFPC, MP = get_mean_frac_price_change(stock,date_current)\n",
    "    d['Mean Future Fractional Price Change'] = MFFPC\n",
    "    d['Mean Past Fractional Price Change'] = MPFPC\n",
    "    d['Mean Price'] = MP\n",
    "    return d\n",
    "        \n",
    "#Top-level function which acquires all the data\n",
    "def get_data(ticker_csv,year,true_threshold):\n",
    "    ticker_loc = ticker_csv.split(\".csv\")[0]\n",
    "    try:\n",
    "        X = pd.read_csv(\"%s_year%d_data.csv\"%(ticker_loc,year))\n",
    "        skip = np.loadtxt(\"%s_year%d_skip.csv\"%(ticker_loc,year), dtype=\"str\",delimiter=\",\")\n",
    "        print \"Loaded data from csv's...\"\n",
    "    except:\n",
    "        print \"Couldn't find DataFrame, scraping data from Morningstar...\"\n",
    "        #create empty dataframe with available columns\n",
    "        stocks = pd.read_csv(ticker_csv,delimiter=\",\")\n",
    "        cols = get_stock_financials(stocks[\"Symbol\"][0],year).columns\n",
    "        X = pd.DataFrame(columns=cols)\n",
    "        skip = []\n",
    "        for s in progress_bar(stocks[\"Symbol\"], len(stocks[\"Symbol\"])/10):\n",
    "            try:\n",
    "                _X = get_stock_financials(s,year)\n",
    "                if _X.shape[1] > 1: #only append if alg actually recovered data\n",
    "                    X = X.append(_X)\n",
    "            except:\n",
    "                skip.append(s)\n",
    "        X = X.set_index('Stock')\n",
    "        #save to csv for ease of loading next time\n",
    "        skip = np.asarray(skip)\n",
    "        X.to_csv(\"%s_year%d_data.csv\"%(ticker_loc,year))\n",
    "        np.savetxt(\"%s_year%d_skip.csv\"%(ticker_loc,year), skip, fmt=\"%s\", delimiter=\",\")\n",
    "    #create target\n",
    "    y = np.zeros(X.shape[0])\n",
    "    y[np.where(X['Mean Future Fractional Price Change']>true_threshold)] = 1\n",
    "    return X, y, skip"
   ]
  },
  {
   "cell_type": "markdown",
   "metadata": {},
   "source": [
    "Load the data below. This could take a minute."
   ]
  },
  {
   "cell_type": "code",
   "execution_count": 11,
   "metadata": {
    "collapsed": false
   },
   "outputs": [
    {
     "name": "stdout",
     "output_type": "stream",
     "text": [
      "Loaded data from csv's...\n"
     ]
    }
   ],
   "source": [
    "year = 2015\n",
    "true_threshold=1.0  #Minimum fractional change in price required for target=True (=1). Otherwise False (=0). \n",
    "ticker_csv = \"csv/wilshire5000.csv\"\n",
    "#ticker_csv = 'csv/nasdaq/Finance.csv'\n",
    "\n",
    "X, y, skip = get_data(ticker_csv, year, true_threshold)"
   ]
  },
  {
   "cell_type": "code",
   "execution_count": 12,
   "metadata": {
    "collapsed": false
   },
   "outputs": [
    {
     "name": "stdout",
     "output_type": "stream",
     "text": [
      "Number of True cases = 1667\n",
      "Number of False cases = 771\n"
     ]
    }
   ],
   "source": [
    "#Relative class numbers\n",
    "print \"Number of True cases = %d\"%len(y[y==1])\n",
    "print \"Number of False cases = %d\"%len(y[y==0])"
   ]
  },
  {
   "cell_type": "markdown",
   "metadata": {},
   "source": [
    "## Engineer Features and Process Data\n",
    "Grab columns of interest to be used, replace NaN values, get training/test sets."
   ]
  },
  {
   "cell_type": "code",
   "execution_count": 13,
   "metadata": {
    "collapsed": false
   },
   "outputs": [
    {
     "name": "stdout",
     "output_type": "stream",
     "text": [
      "!couldnt convert Stock column to numeric. NaN fraction=0.0000\n",
      "**Deleted** Accounts Payable: NaN fraction = 0.2063\n",
      "**Deleted** Accounts Payable YOY: NaN fraction = 0.2170\n",
      "Accounts Receivable: NaN fraction = 0.0648\n",
      "Accounts Receivable YOY: NaN fraction = 0.0722\n",
      "**Deleted** Accrued Liabilities: NaN fraction = 0.1669\n",
      "**Deleted** Accrued Liabilities YOY: NaN fraction = 0.1756\n",
      "Asset Turnover: NaN fraction = 0.0193\n",
      "Asset Turnover (Average): NaN fraction = 0.0193\n",
      "Asset Turnover (Average) YOY: NaN fraction = 0.0242\n",
      "Asset Turnover YOY: NaN fraction = 0.0242\n",
      "Book Value Per Share * USD: NaN fraction = 0.0074\n",
      "Book Value Per Share * USD YOY: NaN fraction = 0.0111\n",
      "**Deleted** COGS: NaN fraction = 0.2088\n",
      "**Deleted** COGS YOY: NaN fraction = 0.2121\n",
      "Cap Ex as a % of Sales: NaN fraction = 0.0496\n",
      "Cap Ex as a % of Sales YOY: NaN fraction = 0.0611\n",
      "**Deleted** Cap Spending USD Mil: NaN fraction = 0.1107\n",
      "**Deleted** Cap Spending USD Mil YOY: NaN fraction = 0.1735\n",
      "Cash & Short-Term Investments: NaN fraction = 0.0053\n",
      "Cash & Short-Term Investments YOY: NaN fraction = 0.0074\n",
      "**Deleted** Cash Conversion Cycle: NaN fraction = 0.4159\n",
      "**Deleted** Cash Conversion Cycle YOY: NaN fraction = 0.4237\n",
      "**Deleted** Current Ratio: NaN fraction = 0.1571\n",
      "**Deleted** Current Ratio YOY: NaN fraction = 0.1583\n",
      "**Deleted** Days Inventory: NaN fraction = 0.3942\n",
      "**Deleted** Days Inventory YOY: NaN fraction = 0.4020\n",
      "**Deleted** Days Sales Outstanding: NaN fraction = 0.1961\n",
      "**Deleted** Days Sales Outstanding YOY: NaN fraction = 0.1993\n",
      "**Deleted** Debt/Equity: NaN fraction = 0.2576\n",
      "**Deleted** Debt/Equity YOY: NaN fraction = 0.2974\n",
      "**Deleted** Dividends USD: NaN fraction = 0.4487\n",
      "**Deleted** Dividends USD YOY: NaN fraction = 0.4655\n",
      "EBT Margin: NaN fraction = 0.0254\n",
      "EBT Margin YOY: NaN fraction = 0.0345\n",
      "Earnings Per Share USD: NaN fraction = 0.0053\n",
      "Earnings Per Share USD YOY: NaN fraction = 0.0082\n",
      "Financial Leverage: NaN fraction = 0.0546\n",
      "Financial Leverage (Average): NaN fraction = 0.0546\n",
      "Financial Leverage (Average) YOY: NaN fraction = 0.0619\n",
      "Financial Leverage YOY: NaN fraction = 0.0619\n",
      "Fixed Assets Turnover: NaN fraction = 0.0406\n",
      "Fixed Assets Turnover YOY: NaN fraction = 0.0459\n",
      "**Deleted** Free Cash Flow Growth % YOY: NaN fraction = 0.5767\n",
      "**Deleted** Free Cash Flow Growth % YOY YOY: NaN fraction = 0.6518\n",
      "Free Cash Flow Per Share * USD: NaN fraction = 0.0131\n",
      "Free Cash Flow Per Share * USD YOY: NaN fraction = 0.0185\n",
      "**Deleted** Free Cash Flow USD Mil: NaN fraction = 0.1009\n",
      "**Deleted** Free Cash Flow USD Mil YOY: NaN fraction = 0.1231\n",
      "Free Cash Flow/Net Income: NaN fraction = 0.0057\n",
      "Free Cash Flow/Net Income YOY: NaN fraction = 0.0074\n",
      "Free Cash Flow/Sales %: NaN fraction = 0.0267\n",
      "Free Cash Flow/Sales % YOY: NaN fraction = 0.0357\n",
      "**Deleted** Gross Margin: NaN fraction = 0.1739\n",
      "**Deleted** Gross Margin %: NaN fraction = 0.1739\n",
      "**Deleted** Gross Margin % YOY: NaN fraction = 0.1780\n",
      "**Deleted** Gross Margin YOY: NaN fraction = 0.1780\n",
      "**Deleted** Intangibles: NaN fraction = 0.1993\n",
      "**Deleted** Intangibles YOY: NaN fraction = 0.2149\n",
      "**Deleted** Interest Coverage: NaN fraction = 0.4044\n",
      "**Deleted** Interest Coverage YOY: NaN fraction = 0.4389\n",
      "**Deleted** Inventory: NaN fraction = 0.3888\n",
      "**Deleted** Inventory Turnover: NaN fraction = 0.3942\n",
      "**Deleted** Inventory Turnover YOY: NaN fraction = 0.4020\n",
      "**Deleted** Inventory YOY: NaN fraction = 0.3946\n",
      "**Deleted** Liquidity/Financial Health: NaN fraction = 1.0000\n",
      "**Deleted** Liquidity/Financial Health YOY: NaN fraction = 1.0000\n",
      "Mean Future Fractional Price Change: NaN fraction = 0.0000\n",
      "Mean Past Fractional Price Change: NaN fraction = 0.0000\n",
      "Mean Price: NaN fraction = 0.0000\n",
      "Net Income USD Mil: NaN fraction = 0.0943\n",
      "**Deleted** Net Income USD Mil YOY: NaN fraction = 0.1120\n",
      "Net Int Inc & Other: NaN fraction = 0.0947\n",
      "**Deleted** Net Int Inc & Other YOY: NaN fraction = 0.1107\n",
      "Net Margin %: NaN fraction = 0.0267\n",
      "Net Margin % YOY: NaN fraction = 0.0377\n",
      "Net PP&E: NaN fraction = 0.0312\n",
      "Net PP&E YOY: NaN fraction = 0.0328\n",
      "**Deleted** Operating Cash Flow Growth % YOY: NaN fraction = 0.4516\n",
      "**Deleted** Operating Cash Flow Growth % YOY YOY: NaN fraction = 0.5279\n",
      "**Deleted** Operating Cash Flow USD Mil: NaN fraction = 0.1407\n",
      "**Deleted** Operating Cash Flow USD Mil YOY: NaN fraction = 0.1575\n",
      "**Deleted** Operating Income USD Mil: NaN fraction = 0.1304\n",
      "**Deleted** Operating Income USD Mil YOY: NaN fraction = 0.1501\n",
      "Operating Margin: NaN fraction = 0.0246\n",
      "Operating Margin %: NaN fraction = 0.0246\n",
      "Operating Margin % YOY: NaN fraction = 0.0328\n",
      "Operating Margin YOY: NaN fraction = 0.0328\n",
      "**Deleted** Other: NaN fraction = 0.2502\n",
      "**Deleted** Other Current Assets: NaN fraction = 0.1542\n",
      "**Deleted** Other Current Assets YOY: NaN fraction = 0.1579\n",
      "**Deleted** Other Long-Term Assets: NaN fraction = 0.1604\n",
      "**Deleted** Other Long-Term Assets YOY: NaN fraction = 0.1669\n",
      "**Deleted** Other Long-Term Liabilities: NaN fraction = 0.1653\n",
      "**Deleted** Other Long-Term Liabilities YOY: NaN fraction = 0.1735\n",
      "**Deleted** Other Short-Term Liabilities: NaN fraction = 0.2527\n",
      "**Deleted** Other Short-Term Liabilities YOY: NaN fraction = 0.2818\n",
      "**Deleted** Other YOY: NaN fraction = 0.2785\n",
      "**Deleted** Payables Period: NaN fraction = 0.2584\n",
      "**Deleted** Payables Period YOY: NaN fraction = 0.2642\n",
      "**Deleted** Payout Ratio % *: NaN fraction = 0.5070\n",
      "**Deleted** Payout Ratio % * YOY: NaN fraction = 0.5386\n",
      "**Deleted** Quick Ratio: NaN fraction = 0.1571\n",
      "**Deleted** Quick Ratio YOY: NaN fraction = 0.1583\n",
      "**Deleted** R&D: NaN fraction = 0.7067\n",
      "**Deleted** R&D YOY: NaN fraction = 0.7121\n",
      "**Deleted** Receivables Turnover: NaN fraction = 0.1952\n",
      "**Deleted** Receivables Turnover YOY: NaN fraction = 0.1985\n",
      "Return on Assets %: NaN fraction = 0.0021\n",
      "Return on Assets % YOY: NaN fraction = 0.0033\n",
      "Return on Equity %: NaN fraction = 0.0484\n",
      "Return on Equity % YOY: NaN fraction = 0.0550\n",
      "**Deleted** Return on Invested Capital %: NaN fraction = 0.2002\n",
      "**Deleted** Return on Invested Capital % YOY: NaN fraction = 0.2063\n",
      "Revenue: NaN fraction = 0.0131\n",
      "**Deleted** Revenue USD Mil: NaN fraction = 0.4553\n",
      "**Deleted** Revenue USD Mil YOY: NaN fraction = 0.4705\n",
      "Revenue YOY: NaN fraction = 0.0176\n",
      "SG&A: NaN fraction = 0.0570\n",
      "SG&A YOY: NaN fraction = 0.0619\n",
      "Shares Mil: NaN fraction = 0.0304\n",
      "Shares Mil YOY: NaN fraction = 0.0336\n",
      "**Deleted** Short-Term Debt: NaN fraction = 0.4639\n",
      "**Deleted** Short-Term Debt YOY: NaN fraction = 0.5176\n",
      "**Deleted** Tax Rate %: NaN fraction = 0.3331\n",
      "**Deleted** Tax Rate % YOY: NaN fraction = 0.4036\n",
      "Total Assets: NaN fraction = 0.0004\n",
      "Total Assets YOY: NaN fraction = 0.0008\n",
      "**Deleted** Total Current Assets: NaN fraction = 0.1550\n",
      "**Deleted** Total Current Assets YOY: NaN fraction = 0.1559\n",
      "**Deleted** Total Current Liabilities: NaN fraction = 0.1571\n",
      "**Deleted** Total Current Liabilities YOY: NaN fraction = 0.1579\n",
      "Total Liabilities: NaN fraction = 0.0033\n",
      "Total Liabilities & Equity: NaN fraction = 0.0004\n",
      "Total Liabilities & Equity YOY: NaN fraction = 0.0004\n",
      "Total Liabilities YOY: NaN fraction = 0.0041\n",
      "Total Stockholders' Equity: NaN fraction = 0.0193\n",
      "Total Stockholders' Equity YOY: NaN fraction = 0.0209\n",
      "**Deleted** Working Capital USD Mil: NaN fraction = 0.2884\n",
      "**Deleted** Working Capital USD Mil YOY: NaN fraction = 0.3130\n",
      "**Deleted** index: NaN fraction = 1.0000\n",
      "**Deleted** index YOY: NaN fraction = 1.0000\n"
     ]
    }
   ],
   "source": [
    "#delete columns with >10% NaN values...\n",
    "#...for remaining columns, replace NaN values with median\n",
    "for c in X.columns:\n",
    "    frac_NaN = X[c].isnull().sum()/float(len(X))\n",
    "    if frac_NaN > 0.1:\n",
    "        del X[c]\n",
    "        print \"**Deleted** %s: NaN fraction = %.4f\"%(c, frac_NaN)\n",
    "    else:\n",
    "        try:\n",
    "            #X[c] = pd.to_numeric(X[c])\n",
    "            X[c].fillna(X[c].median(), inplace=True)\n",
    "            print \"%s: NaN fraction = %.4f\"%(c, frac_NaN)\n",
    "        except:\n",
    "            print \"!couldnt convert %s column to numeric. NaN fraction=%.4f\"%(c, frac_NaN)"
   ]
  },
  {
   "cell_type": "code",
   "execution_count": 14,
   "metadata": {
    "collapsed": false
   },
   "outputs": [
    {
     "data": {
      "text/plain": [
       "Index([u'Stock', u'Accounts Receivable', u'Accounts Receivable YOY',\n",
       "       u'Asset Turnover', u'Asset Turnover (Average)',\n",
       "       u'Asset Turnover (Average) YOY', u'Asset Turnover YOY',\n",
       "       u'Book Value Per Share * USD', u'Book Value Per Share * USD YOY',\n",
       "       u'Cap Ex as a % of Sales', u'Cap Ex as a % of Sales YOY',\n",
       "       u'Cash & Short-Term Investments', u'Cash & Short-Term Investments YOY',\n",
       "       u'EBT Margin', u'EBT Margin YOY', u'Earnings Per Share USD',\n",
       "       u'Earnings Per Share USD YOY', u'Financial Leverage',\n",
       "       u'Financial Leverage (Average)', u'Financial Leverage (Average) YOY',\n",
       "       u'Financial Leverage YOY', u'Fixed Assets Turnover',\n",
       "       u'Fixed Assets Turnover YOY', u'Free Cash Flow Per Share * USD',\n",
       "       u'Free Cash Flow Per Share * USD YOY', u'Free Cash Flow/Net Income',\n",
       "       u'Free Cash Flow/Net Income YOY', u'Free Cash Flow/Sales %',\n",
       "       u'Free Cash Flow/Sales % YOY', u'Mean Future Fractional Price Change',\n",
       "       u'Mean Past Fractional Price Change', u'Mean Price',\n",
       "       u'Net Income USD Mil', u'Net Int Inc & Other', u'Net Margin %',\n",
       "       u'Net Margin % YOY', u'Net PP&E', u'Net PP&E YOY', u'Operating Margin',\n",
       "       u'Operating Margin %', u'Operating Margin % YOY',\n",
       "       u'Operating Margin YOY', u'Return on Assets %',\n",
       "       u'Return on Assets % YOY', u'Return on Equity %',\n",
       "       u'Return on Equity % YOY', u'Revenue', u'Revenue YOY', u'SG&A',\n",
       "       u'SG&A YOY', u'Shares Mil', u'Shares Mil YOY', u'Total Assets',\n",
       "       u'Total Assets YOY', u'Total Liabilities',\n",
       "       u'Total Liabilities & Equity', u'Total Liabilities & Equity YOY',\n",
       "       u'Total Liabilities YOY', u'Total Stockholders' Equity',\n",
       "       u'Total Stockholders' Equity YOY'],\n",
       "      dtype='object')"
      ]
     },
     "execution_count": 14,
     "metadata": {},
     "output_type": "execute_result"
    }
   ],
   "source": [
    "X.columns"
   ]
  },
  {
   "cell_type": "markdown",
   "metadata": {},
   "source": [
    "Feature Engineering:\n",
    "- Working Capital Ratio - how easily that company can turn assets into cash to pay short-term obligations\n",
    "- Price/Earnings Ratio - investors' assessment of future earnings\n",
    "- Price/Book Ratio\n",
    "- Debt/Equity Ratio"
   ]
  },
  {
   "cell_type": "code",
   "execution_count": 45,
   "metadata": {
    "collapsed": false
   },
   "outputs": [],
   "source": [
    "#feature engineering\n",
    "X['Working Capital Ratio'] = X['Total Assets']/X['Total Liabilities']   \n",
    "X['P/E Ratio'] = X['Mean Price']/X['Earnings Per Share USD']                 \n",
    "X['P/B Ratio'] = X['Mean Price']/X['Book Value Per Share * USD']\n",
    "X['D/E Ratio'] = X['Total Liabilities']/X[\"Total Stockholders' Equity\"] \n",
    "\n",
    "X['Working Capital Ratio YOY'] = X['Total Assets YOY']/X['Total Liabilities YOY']   \n",
    "X['P/E Ratio YOY'] = X['Mean Past Fractional Price Change']/X['Earnings Per Share USD YOY']                 \n",
    "X['P/B Ratio YOY'] = X['Mean Past Fractional Price Change']/X['Book Value Per Share * USD YOY']\n",
    "X['D/E Ratio YOY'] = X['Total Liabilities YOY']/X[\"Total Stockholders' Equity YOY\"] \n",
    "\n",
    "columns = X.columns.tolist()\n",
    "remove = ['Mean Future Fractional Price Change','Stock']\n",
    "features = [x for x in columns if x not in remove]\n",
    "\n",
    "#features to include for analysis\n",
    "#percentiles = ['Net Margin %','Return on Equity %','Return on Assets %','Operating Margin %','Free Cash Flow/Sales %','Cap Ex as a % of Sales']\n",
    "#ratios = ['Book Value Per Share * USD', 'Earnings Per Share USD','Free Cash Flow Per Share * USD',\n",
    "#          'Working Capital Ratio','P/E Ratio','P/B Ratio', 'D/E Ratio', 'Asset Turnover', 'Financial Leverage']\n",
    "#other = ['Cash & Short-Term Investments','EBT Margin']\n",
    "#features = ratios + percentiles + other\n",
    "\n",
    "#Top features from analysis\n",
    "#features = feat_imp[0:20].index"
   ]
  },
  {
   "cell_type": "code",
   "execution_count": 46,
   "metadata": {
    "collapsed": false
   },
   "outputs": [
    {
     "data": {
      "text/html": [
       "<div>\n",
       "<table border=\"1\" class=\"dataframe\">\n",
       "  <thead>\n",
       "    <tr style=\"text-align: right;\">\n",
       "      <th></th>\n",
       "      <th>Accounts Receivable</th>\n",
       "      <th>Accounts Receivable YOY</th>\n",
       "      <th>Asset Turnover</th>\n",
       "      <th>Asset Turnover (Average)</th>\n",
       "      <th>Asset Turnover (Average) YOY</th>\n",
       "      <th>Asset Turnover YOY</th>\n",
       "      <th>Book Value Per Share * USD</th>\n",
       "      <th>Book Value Per Share * USD YOY</th>\n",
       "      <th>Cap Ex as a % of Sales</th>\n",
       "      <th>Cap Ex as a % of Sales YOY</th>\n",
       "      <th>...</th>\n",
       "      <th>Total Stockholders' Equity</th>\n",
       "      <th>Total Stockholders' Equity YOY</th>\n",
       "      <th>Working Capital Ratio</th>\n",
       "      <th>P/E Ratio</th>\n",
       "      <th>P/B Ratio</th>\n",
       "      <th>D/E Ratio</th>\n",
       "      <th>Working Capital Ratio YOY</th>\n",
       "      <th>P/E Ratio YOY</th>\n",
       "      <th>P/B Ratio YOY</th>\n",
       "      <th>D/E Ratio YOY</th>\n",
       "    </tr>\n",
       "  </thead>\n",
       "  <tbody>\n",
       "    <tr>\n",
       "      <th>0</th>\n",
       "      <td>8.10</td>\n",
       "      <td>0.892070</td>\n",
       "      <td>0.44</td>\n",
       "      <td>0.44</td>\n",
       "      <td>0.676923</td>\n",
       "      <td>0.676923</td>\n",
       "      <td>12.36</td>\n",
       "      <td>0.734403</td>\n",
       "      <td>2.43</td>\n",
       "      <td>0.480237</td>\n",
       "      <td>...</td>\n",
       "      <td>55.72</td>\n",
       "      <td>1.139002</td>\n",
       "      <td>2.258356</td>\n",
       "      <td>29.630282</td>\n",
       "      <td>2.876726</td>\n",
       "      <td>0.794688</td>\n",
       "      <td>1.153568</td>\n",
       "      <td>1.268805</td>\n",
       "      <td>1.279754</td>\n",
       "      <td>0.761083</td>\n",
       "    </tr>\n",
       "    <tr>\n",
       "      <th>1</th>\n",
       "      <td>3.81</td>\n",
       "      <td>1.127219</td>\n",
       "      <td>0.53</td>\n",
       "      <td>0.53</td>\n",
       "      <td>1.019231</td>\n",
       "      <td>1.019231</td>\n",
       "      <td>5.05</td>\n",
       "      <td>1.018145</td>\n",
       "      <td>0.19</td>\n",
       "      <td>0.076613</td>\n",
       "      <td>...</td>\n",
       "      <td>32.58</td>\n",
       "      <td>0.991177</td>\n",
       "      <td>1.483239</td>\n",
       "      <td>25.086183</td>\n",
       "      <td>0.943837</td>\n",
       "      <td>2.069368</td>\n",
       "      <td>0.995699</td>\n",
       "      <td>1.238390</td>\n",
       "      <td>1.216320</td>\n",
       "      <td>1.013260</td>\n",
       "    </tr>\n",
       "    <tr>\n",
       "      <th>2</th>\n",
       "      <td>7.49</td>\n",
       "      <td>1.713959</td>\n",
       "      <td>1.24</td>\n",
       "      <td>1.24</td>\n",
       "      <td>0.976378</td>\n",
       "      <td>0.976378</td>\n",
       "      <td>18.50</td>\n",
       "      <td>1.116476</td>\n",
       "      <td>1.90</td>\n",
       "      <td>1.079545</td>\n",
       "      <td>...</td>\n",
       "      <td>51.40</td>\n",
       "      <td>1.032129</td>\n",
       "      <td>2.057613</td>\n",
       "      <td>12.284312</td>\n",
       "      <td>1.235071</td>\n",
       "      <td>0.945525</td>\n",
       "      <td>1.032922</td>\n",
       "      <td>0.466568</td>\n",
       "      <td>0.719705</td>\n",
       "      <td>0.937991</td>\n",
       "    </tr>\n",
       "    <tr>\n",
       "      <th>3</th>\n",
       "      <td>23.51</td>\n",
       "      <td>1.173739</td>\n",
       "      <td>1.54</td>\n",
       "      <td>1.54</td>\n",
       "      <td>0.968553</td>\n",
       "      <td>0.968553</td>\n",
       "      <td>3.74</td>\n",
       "      <td>1.129909</td>\n",
       "      <td>5.85</td>\n",
       "      <td>1.291391</td>\n",
       "      <td>...</td>\n",
       "      <td>76.84</td>\n",
       "      <td>1.029061</td>\n",
       "      <td>4.317789</td>\n",
       "      <td>27.888996</td>\n",
       "      <td>6.263839</td>\n",
       "      <td>0.301406</td>\n",
       "      <td>1.093696</td>\n",
       "      <td>1.055982</td>\n",
       "      <td>0.981301</td>\n",
       "      <td>0.888510</td>\n",
       "    </tr>\n",
       "    <tr>\n",
       "      <th>4</th>\n",
       "      <td>7.35</td>\n",
       "      <td>1.009615</td>\n",
       "      <td>1.21</td>\n",
       "      <td>1.21</td>\n",
       "      <td>0.828767</td>\n",
       "      <td>0.828767</td>\n",
       "      <td>32.94</td>\n",
       "      <td>1.248673</td>\n",
       "      <td>2.41</td>\n",
       "      <td>1.038793</td>\n",
       "      <td>...</td>\n",
       "      <td>30.25</td>\n",
       "      <td>1.202783</td>\n",
       "      <td>1.433692</td>\n",
       "      <td>23.773717</td>\n",
       "      <td>4.619059</td>\n",
       "      <td>2.305785</td>\n",
       "      <td>1.073118</td>\n",
       "      <td>1.016741</td>\n",
       "      <td>0.776639</td>\n",
       "      <td>0.774756</td>\n",
       "    </tr>\n",
       "  </tbody>\n",
       "</table>\n",
       "<p>5 rows × 66 columns</p>\n",
       "</div>"
      ],
      "text/plain": [
       "   Accounts Receivable  Accounts Receivable YOY  Asset Turnover  \\\n",
       "0                 8.10                 0.892070            0.44   \n",
       "1                 3.81                 1.127219            0.53   \n",
       "2                 7.49                 1.713959            1.24   \n",
       "3                23.51                 1.173739            1.54   \n",
       "4                 7.35                 1.009615            1.21   \n",
       "\n",
       "   Asset Turnover (Average)  Asset Turnover (Average) YOY  Asset Turnover YOY  \\\n",
       "0                      0.44                      0.676923            0.676923   \n",
       "1                      0.53                      1.019231            1.019231   \n",
       "2                      1.24                      0.976378            0.976378   \n",
       "3                      1.54                      0.968553            0.968553   \n",
       "4                      1.21                      0.828767            0.828767   \n",
       "\n",
       "   Book Value Per Share * USD  Book Value Per Share * USD YOY  \\\n",
       "0                       12.36                        0.734403   \n",
       "1                        5.05                        1.018145   \n",
       "2                       18.50                        1.116476   \n",
       "3                        3.74                        1.129909   \n",
       "4                       32.94                        1.248673   \n",
       "\n",
       "   Cap Ex as a % of Sales  Cap Ex as a % of Sales YOY      ...        \\\n",
       "0                    2.43                    0.480237      ...         \n",
       "1                    0.19                    0.076613      ...         \n",
       "2                    1.90                    1.079545      ...         \n",
       "3                    5.85                    1.291391      ...         \n",
       "4                    2.41                    1.038793      ...         \n",
       "\n",
       "   Total Stockholders' Equity  Total Stockholders' Equity YOY  \\\n",
       "0                       55.72                        1.139002   \n",
       "1                       32.58                        0.991177   \n",
       "2                       51.40                        1.032129   \n",
       "3                       76.84                        1.029061   \n",
       "4                       30.25                        1.202783   \n",
       "\n",
       "   Working Capital Ratio  P/E Ratio  P/B Ratio  D/E Ratio  \\\n",
       "0               2.258356  29.630282   2.876726   0.794688   \n",
       "1               1.483239  25.086183   0.943837   2.069368   \n",
       "2               2.057613  12.284312   1.235071   0.945525   \n",
       "3               4.317789  27.888996   6.263839   0.301406   \n",
       "4               1.433692  23.773717   4.619059   2.305785   \n",
       "\n",
       "   Working Capital Ratio YOY  P/E Ratio YOY  P/B Ratio YOY  D/E Ratio YOY  \n",
       "0                   1.153568       1.268805       1.279754       0.761083  \n",
       "1                   0.995699       1.238390       1.216320       1.013260  \n",
       "2                   1.032922       0.466568       0.719705       0.937991  \n",
       "3                   1.093696       1.055982       0.981301       0.888510  \n",
       "4                   1.073118       1.016741       0.776639       0.774756  \n",
       "\n",
       "[5 rows x 66 columns]"
      ]
     },
     "execution_count": 46,
     "metadata": {},
     "output_type": "execute_result"
    }
   ],
   "source": [
    "X[features].head()"
   ]
  },
  {
   "cell_type": "code",
   "execution_count": 41,
   "metadata": {
    "collapsed": true
   },
   "outputs": [],
   "source": [
    "from sklearn.model_selection import train_test_split\n",
    "X_train, X_test, y_train, y_test = train_test_split(X[features], y, test_size=0.25, random_state=42)"
   ]
  },
  {
   "cell_type": "markdown",
   "metadata": {},
   "source": [
    "## Machine Learning tyme\n",
    "Do an initial search with a high learning rate and few n_estimators, then do a second tune with lower learning rate and many more estimators.  "
   ]
  },
  {
   "cell_type": "code",
   "execution_count": 42,
   "metadata": {
    "collapsed": false
   },
   "outputs": [
    {
     "data": {
      "text/plain": [
       "XGBClassifier(base_score=0.5, colsample_bylevel=1, colsample_bytree=1,\n",
       "       gamma=0, learning_rate=0.1, max_delta_step=0, max_depth=3,\n",
       "       min_child_weight=1, missing=None, n_estimators=100, nthread=-1,\n",
       "       objective='binary:logistic', reg_alpha=0, reg_lambda=1,\n",
       "       scale_pos_weight=1, seed=0, silent=True, subsample=1)"
      ]
     },
     "execution_count": 42,
     "metadata": {},
     "output_type": "execute_result"
    }
   ],
   "source": [
    "import xgboost as xgb\n",
    "from sklearn.model_selection import GridSearchCV, RandomizedSearchCV\n",
    "xgb.XGBClassifier()"
   ]
  },
  {
   "cell_type": "code",
   "execution_count": 43,
   "metadata": {
    "collapsed": false
   },
   "outputs": [
    {
     "data": {
      "text/plain": [
       "0.4507936507936508"
      ]
     },
     "execution_count": 43,
     "metadata": {},
     "output_type": "execute_result"
    }
   ],
   "source": [
    "#scale classes based on relative imbalance\n",
    "scale_pos_weight = len(y_train[y_train==0])/float(len(y_train[y_train==1]))\n",
    "scale_pos_weight"
   ]
  },
  {
   "cell_type": "code",
   "execution_count": 44,
   "metadata": {
    "collapsed": false
   },
   "outputs": [
    {
     "name": "stdout",
     "output_type": "stream",
     "text": [
      "0.718259557344\n",
      "{'colsample_bytree': 0.5, 'learning_rate': 0.1, 'min_child_weight': 0.5, 'n_estimators': 1000, 'max_depth': 8, 'gamma': 0.2}\n"
     ]
    }
   ],
   "source": [
    "model = xgb.XGBClassifier(scale_pos_weight=scale_pos_weight)\n",
    "n_cv = 4\n",
    "n_iter = 15     #number of RandomizedSearchCV search iterations\n",
    "param_grid={\n",
    "    'learning_rate': [0.1],\n",
    "    'max_depth': [2,4,8,16],\n",
    "    'min_child_weight': [0.1,0.5,1,3],\n",
    "    'colsample_bytree': [0.1,0.5,1],\n",
    "    'gamma': [0,0.2,0.4,0.8],\n",
    "    'n_estimators':[1000],\n",
    "}\n",
    "\n",
    "grid = RandomizedSearchCV(model, param_distributions=param_grid, n_iter=n_iter, cv=n_cv, scoring='roc_auc')\n",
    "grid.fit(X_train,y_train)\n",
    "\n",
    "print(grid.best_score_)\n",
    "print(grid.best_params_)"
   ]
  },
  {
   "cell_type": "code",
   "execution_count": 47,
   "metadata": {
    "collapsed": false
   },
   "outputs": [
    {
     "name": "stdout",
     "output_type": "stream",
     "text": [
      "0.713318801699\n"
     ]
    }
   ],
   "source": [
    "#Do final train with best parameters, lower learning rate and more estimators\n",
    "model = xgb.XGBClassifier(scale_pos_weight=scale_pos_weight)\n",
    "n_cv = 4\n",
    "best_params={\n",
    "    'learning_rate': [5e-3],\n",
    "    'n_estimators':[4000],\n",
    "    'max_depth': [8],\n",
    "    'min_child_weight': [0.1],\n",
    "    'colsample_bytree': [0.5],\n",
    "    'gamma': [0.2],\n",
    "}\n",
    "final_model = GridSearchCV(model, param_grid=best_params, cv=n_cv, scoring='roc_auc')\n",
    "final_model.fit(X_train,y_train)\n",
    "\n",
    "#best model\n",
    "xgb_model = final_model.best_estimator_\n",
    "print(final_model.best_score_)"
   ]
  },
  {
   "cell_type": "code",
   "execution_count": 48,
   "metadata": {
    "collapsed": false
   },
   "outputs": [
    {
     "data": {
      "text/plain": [
       "<matplotlib.text.Text at 0x117b4e310>"
      ]
     },
     "execution_count": 48,
     "metadata": {},
     "output_type": "execute_result"
    },
    {
     "data": {
      "image/png": "[encoded data removed]",
      "text/plain": [
       "<matplotlib.figure.Figure at 0x117b49350>"
      ]
     },
     "metadata": {},
     "output_type": "display_data"
    }
   ],
   "source": [
    "#seems equivalent to model.feature_importances_\n",
    "feat_imp = pd.Series(xgb_model.booster().get_fscore()).sort_values(ascending=False) \n",
    "feat_imp.plot(kind='bar', title='Feature Importances')\n",
    "plt.ylabel('Feature Importance Score')"
   ]
  },
  {
   "cell_type": "code",
   "execution_count": 49,
   "metadata": {
    "collapsed": false
   },
   "outputs": [
    {
     "data": {
      "text/plain": [
       "<matplotlib.text.Text at 0x1117d2710>"
      ]
     },
     "execution_count": 49,
     "metadata": {},
     "output_type": "execute_result"
    },
    {
     "data": {
      "image/png": "[encoded data removed]",
      "text/plain": [
       "<matplotlib.figure.Figure at 0x111520e10>"
      ]
     },
     "metadata": {},
     "output_type": "display_data"
    }
   ],
   "source": [
    "from sklearn.metrics import precision_recall_curve\n",
    "y_pred = xgb_model.predict_proba(X_test)\n",
    "precision, recall, thresholds = precision_recall_curve(y_test, y_pred[:,1])\n",
    "fig, ax = plt.subplots()\n",
    "ax.plot(recall, precision)\n",
    "ax.set_xlim([0.0, 1.0])\n",
    "ax.set_ylim([0.0, 1.0])\n",
    "ax.set_xlabel('Recall')\n",
    "ax.set_ylabel('Precision')\n",
    "ax.set_title('Precision Recall curve')"
   ]
  },
  {
   "cell_type": "code",
   "execution_count": 50,
   "metadata": {
    "collapsed": false
   },
   "outputs": [
    {
     "data": {
      "image/png": "[encoded data removed]",
      "text/plain": [
       "<matplotlib.figure.Figure at 0x11581da90>"
      ]
     },
     "metadata": {},
     "output_type": "display_data"
    }
   ],
   "source": [
    "# Histogram to see class predictions\n",
    "bins = 50\n",
    "y_pred=xgb_model.predict_proba(X_test)\n",
    "True_Class=y_pred[y_test==1][:,1]\n",
    "False_Class=y_pred[y_test==0][:,1]\n",
    "\n",
    "fig, ax1 = plt.subplots()\n",
    "ax1.hist(False_Class, bins, alpha=0.5, label='No', color='blue')\n",
    "ax1.set_xlabel('Predicted Probability', fontsize=14)\n",
    "ax1.set_ylabel('$S_f/S_i<%.2f$'%true_threshold,  fontsize=14, color='blue')\n",
    "for tl in ax1.get_yticklabels():\n",
    "    tl.set_color('blue')\n",
    "    \n",
    "ax2 = ax1.twinx()\n",
    "ax2.hist(True_Class, bins, alpha=0.5, label='Yes',color='green')\n",
    "ax2.set_ylabel('$S_f/S_i>%.2f$'%true_threshold, fontsize=14, color='green')\n",
    "for tl in ax2.get_yticklabels():\n",
    "    tl.set_color('green')"
   ]
  },
  {
   "cell_type": "markdown",
   "metadata": {
    "collapsed": true
   },
   "source": [
    "# Extra"
   ]
  },
  {
   "cell_type": "code",
   "execution_count": 25,
   "metadata": {
    "collapsed": false
   },
   "outputs": [
    {
     "data": {
      "text/html": [
       "<div>\n",
       "<table border=\"1\" class=\"dataframe\">\n",
       "  <thead>\n",
       "    <tr style=\"text-align: right;\">\n",
       "      <th></th>\n",
       "      <th>index YOY</th>\n",
       "      <th>Revenue USD Mil YOY</th>\n",
       "      <th>Gross Margin % YOY</th>\n",
       "      <th>Operating Income USD Mil YOY</th>\n",
       "      <th>Operating Margin % YOY</th>\n",
       "      <th>Net Income USD Mil YOY</th>\n",
       "      <th>Earnings Per Share USD YOY</th>\n",
       "      <th>Dividends USD YOY</th>\n",
       "      <th>Payout Ratio % * YOY</th>\n",
       "      <th>Shares Mil YOY</th>\n",
       "      <th>...</th>\n",
       "      <th>Financial Leverage</th>\n",
       "      <th>Debt/Equity</th>\n",
       "      <th>Days Sales Outstanding</th>\n",
       "      <th>Days Inventory</th>\n",
       "      <th>Payables Period</th>\n",
       "      <th>Cash Conversion Cycle</th>\n",
       "      <th>Receivables Turnover</th>\n",
       "      <th>Inventory Turnover</th>\n",
       "      <th>Fixed Assets Turnover</th>\n",
       "      <th>Asset Turnover</th>\n",
       "    </tr>\n",
       "  </thead>\n",
       "  <tbody>\n",
       "    <tr>\n",
       "      <th>0</th>\n",
       "      <td>NaN</td>\n",
       "      <td>NaN</td>\n",
       "      <td>1.034836</td>\n",
       "      <td>1.245823</td>\n",
       "      <td>1.240385</td>\n",
       "      <td>0.730419</td>\n",
       "      <td>0.740741</td>\n",
       "      <td>0.754717</td>\n",
       "      <td>1.003968</td>\n",
       "      <td>0.991124</td>\n",
       "      <td>...</td>\n",
       "      <td>1.79</td>\n",
       "      <td>0.4</td>\n",
       "      <td>71.82</td>\n",
       "      <td>147.41</td>\n",
       "      <td>68.91</td>\n",
       "      <td>150.32</td>\n",
       "      <td>5.08</td>\n",
       "      <td>2.48</td>\n",
       "      <td>4.74</td>\n",
       "      <td>0.44</td>\n",
       "    </tr>\n",
       "  </tbody>\n",
       "</table>\n",
       "<p>1 rows × 172 columns</p>\n",
       "</div>"
      ],
      "text/plain": [
       "   index YOY  Revenue USD Mil YOY  Gross Margin % YOY  \\\n",
       "0        NaN                  NaN            1.034836   \n",
       "\n",
       "   Operating Income USD Mil YOY  Operating Margin % YOY  \\\n",
       "0                      1.245823                1.240385   \n",
       "\n",
       "   Net Income USD Mil YOY  Earnings Per Share USD YOY  Dividends USD YOY  \\\n",
       "0                0.730419                    0.740741           0.754717   \n",
       "\n",
       "   Payout Ratio % * YOY  Shares Mil YOY       ...        Financial Leverage  \\\n",
       "0              1.003968        0.991124       ...                      1.79   \n",
       "\n",
       "   Debt/Equity  Days Sales Outstanding  Days Inventory  Payables Period  \\\n",
       "0          0.4                   71.82          147.41            68.91   \n",
       "\n",
       "   Cash Conversion Cycle  Receivables Turnover  Inventory Turnover  \\\n",
       "0                 150.32                  5.08                2.48   \n",
       "\n",
       "   Fixed Assets Turnover  Asset Turnover  \n",
       "0                   4.74            0.44  \n",
       "\n",
       "[1 rows x 172 columns]"
      ]
     },
     "execution_count": 25,
     "metadata": {},
     "output_type": "execute_result"
    }
   ],
   "source": [
    "path = \"Fundamental_Analysis/\"\n",
    "skiprows = [19,20,31,41,42,43,48,58,53,64,65,72,73,95,101,102]\n",
    "del_if_present = ['AUD','EUR','BRL','CAD','ARS','CHF','CLP','CNY','COP','GBP','ILS','INR','JPY','KRW','MXN','PEN','PLN','RON','RUB','SEK','THB','TWD','ZAR','CZK','OMR','AED']\n",
    "del_columns = ['Year over Year','3-Year Average','5-Year Average','10-Year Average','Taxes Payable','Long-Term Debt']\n",
    "#scrape/load data\n",
    "d = pd.read_csv('%s%s_keyratios.csv'%(path, \"A\"), header=2, index_col=0, skiprows=skiprows)\n",
    "d = d.transpose().reset_index()\n",
    "i1 = np.where(d['index'].str.contains(\"%d\"%2015))[0][0]\n",
    "values = pd.to_numeric(d.iloc[i1], errors='coerce')\n",
    "i2 = np.where(d['index'].str.contains(\"%d\"%(2015-1)))[0][0]\n",
    "ratios = values/pd.to_numeric(d.iloc[i2], errors='coerce')\n",
    "ratios = ratios.add_suffix(' YOY')\n"
   ]
  },
  {
   "cell_type": "code",
   "execution_count": 36,
   "metadata": {
    "collapsed": false
   },
   "outputs": [
    {
     "data": {
      "text/html": [
       "<div>\n",
       "<table border=\"1\" class=\"dataframe\">\n",
       "  <thead>\n",
       "    <tr style=\"text-align: right;\">\n",
       "      <th></th>\n",
       "      <th>Net Margin %</th>\n",
       "      <th>Return on Equity %</th>\n",
       "      <th>Return on Assets %</th>\n",
       "      <th>Operating Margin %</th>\n",
       "      <th>Free Cash Flow/Sales %</th>\n",
       "      <th>Cap Ex as a % of Sales</th>\n",
       "      <th>Book Value Per Share * USD</th>\n",
       "      <th>Earnings Per Share USD</th>\n",
       "      <th>Free Cash Flow Per Share * USD</th>\n",
       "      <th>EBT Margin</th>\n",
       "      <th>Working Capital Ratio</th>\n",
       "      <th>P/E Ratio</th>\n",
       "      <th>P/B Ratio</th>\n",
       "      <th>D/E Ratio</th>\n",
       "      <th>Asset Turnover</th>\n",
       "      <th>Financial Leverage</th>\n",
       "      <th>y_pred</th>\n",
       "      <th>y_test</th>\n",
       "    </tr>\n",
       "  </thead>\n",
       "  <tbody>\n",
       "    <tr>\n",
       "      <th>1598</th>\n",
       "      <td>0.906746</td>\n",
       "      <td>1.037358</td>\n",
       "      <td>0.964687</td>\n",
       "      <td>1.008621</td>\n",
       "      <td>1.000561</td>\n",
       "      <td>0.817143</td>\n",
       "      <td>0.949461</td>\n",
       "      <td>0.956284</td>\n",
       "      <td>0.946903</td>\n",
       "      <td>0.993174</td>\n",
       "      <td>0.925408</td>\n",
       "      <td>1.451823</td>\n",
       "      <td>1.462255</td>\n",
       "      <td>1.221928</td>\n",
       "      <td>1.064516</td>\n",
       "      <td>1.131687</td>\n",
       "      <td>0.055927</td>\n",
       "      <td>0.0</td>\n",
       "    </tr>\n",
       "    <tr>\n",
       "      <th>620</th>\n",
       "      <td>1.653061</td>\n",
       "      <td>1.515385</td>\n",
       "      <td>1.414634</td>\n",
       "      <td>0.958333</td>\n",
       "      <td>0.036800</td>\n",
       "      <td>0.245747</td>\n",
       "      <td>1.130788</td>\n",
       "      <td>1.670732</td>\n",
       "      <td>-0.192090</td>\n",
       "      <td>1.153005</td>\n",
       "      <td>1.004233</td>\n",
       "      <td>2.401226</td>\n",
       "      <td>3.547796</td>\n",
       "      <td>0.971822</td>\n",
       "      <td>0.867470</td>\n",
       "      <td>0.975182</td>\n",
       "      <td>0.000460</td>\n",
       "      <td>0.0</td>\n",
       "    </tr>\n",
       "    <tr>\n",
       "      <th>1266</th>\n",
       "      <td>0.851986</td>\n",
       "      <td>0.775388</td>\n",
       "      <td>0.786227</td>\n",
       "      <td>0.511111</td>\n",
       "      <td>1.137579</td>\n",
       "      <td>1.073034</td>\n",
       "      <td>1.073663</td>\n",
       "      <td>0.827160</td>\n",
       "      <td>0.423729</td>\n",
       "      <td>0.518055</td>\n",
       "      <td>1.120737</td>\n",
       "      <td>0.921339</td>\n",
       "      <td>0.709808</td>\n",
       "      <td>0.873764</td>\n",
       "      <td>0.920635</td>\n",
       "      <td>0.975000</td>\n",
       "      <td>0.970860</td>\n",
       "      <td>1.0</td>\n",
       "    </tr>\n",
       "    <tr>\n",
       "      <th>649</th>\n",
       "      <td>0.158382</td>\n",
       "      <td>0.138399</td>\n",
       "      <td>0.119332</td>\n",
       "      <td>0.377483</td>\n",
       "      <td>0.096491</td>\n",
       "      <td>2.085470</td>\n",
       "      <td>0.968100</td>\n",
       "      <td>0.135484</td>\n",
       "      <td>0.681159</td>\n",
       "      <td>0.150738</td>\n",
       "      <td>0.930813</td>\n",
       "      <td>5.781380</td>\n",
       "      <td>0.809094</td>\n",
       "      <td>1.157813</td>\n",
       "      <td>0.750000</td>\n",
       "      <td>1.076142</td>\n",
       "      <td>0.964769</td>\n",
       "      <td>1.0</td>\n",
       "    </tr>\n",
       "    <tr>\n",
       "      <th>1908</th>\n",
       "      <td>1.050256</td>\n",
       "      <td>1.009162</td>\n",
       "      <td>1.029792</td>\n",
       "      <td>1.045161</td>\n",
       "      <td>0.901024</td>\n",
       "      <td>1.303922</td>\n",
       "      <td>1.057778</td>\n",
       "      <td>1.111111</td>\n",
       "      <td>0.893333</td>\n",
       "      <td>1.052733</td>\n",
       "      <td>1.109525</td>\n",
       "      <td>0.702828</td>\n",
       "      <td>0.738265</td>\n",
       "      <td>0.839412</td>\n",
       "      <td>0.983516</td>\n",
       "      <td>0.931429</td>\n",
       "      <td>0.980430</td>\n",
       "      <td>1.0</td>\n",
       "    </tr>\n",
       "  </tbody>\n",
       "</table>\n",
       "</div>"
      ],
      "text/plain": [
       "      Net Margin %  Return on Equity %  Return on Assets %  \\\n",
       "1598      0.906746            1.037358            0.964687   \n",
       "620       1.653061            1.515385            1.414634   \n",
       "1266      0.851986            0.775388            0.786227   \n",
       "649       0.158382            0.138399            0.119332   \n",
       "1908      1.050256            1.009162            1.029792   \n",
       "\n",
       "      Operating Margin %  Free Cash Flow/Sales %  Cap Ex as a % of Sales  \\\n",
       "1598            1.008621                1.000561                0.817143   \n",
       "620             0.958333                0.036800                0.245747   \n",
       "1266            0.511111                1.137579                1.073034   \n",
       "649             0.377483                0.096491                2.085470   \n",
       "1908            1.045161                0.901024                1.303922   \n",
       "\n",
       "      Book Value Per Share * USD  Earnings Per Share USD  \\\n",
       "1598                    0.949461                0.956284   \n",
       "620                     1.130788                1.670732   \n",
       "1266                    1.073663                0.827160   \n",
       "649                     0.968100                0.135484   \n",
       "1908                    1.057778                1.111111   \n",
       "\n",
       "      Free Cash Flow Per Share * USD  EBT Margin  Working Capital Ratio  \\\n",
       "1598                        0.946903    0.993174               0.925408   \n",
       "620                        -0.192090    1.153005               1.004233   \n",
       "1266                        0.423729    0.518055               1.120737   \n",
       "649                         0.681159    0.150738               0.930813   \n",
       "1908                        0.893333    1.052733               1.109525   \n",
       "\n",
       "      P/E Ratio  P/B Ratio  D/E Ratio  Asset Turnover  Financial Leverage  \\\n",
       "1598   1.451823   1.462255   1.221928        1.064516            1.131687   \n",
       "620    2.401226   3.547796   0.971822        0.867470            0.975182   \n",
       "1266   0.921339   0.709808   0.873764        0.920635            0.975000   \n",
       "649    5.781380   0.809094   1.157813        0.750000            1.076142   \n",
       "1908   0.702828   0.738265   0.839412        0.983516            0.931429   \n",
       "\n",
       "        y_pred  y_test  \n",
       "1598  0.055927     0.0  \n",
       "620   0.000460     0.0  \n",
       "1266  0.970860     1.0  \n",
       "649   0.964769     1.0  \n",
       "1908  0.980430     1.0  "
      ]
     },
     "execution_count": 36,
     "metadata": {},
     "output_type": "execute_result"
    }
   ],
   "source": [
    "XX = X_test\n",
    "XX['y_pred'] = y_pred[:,1]\n",
    "XX['y_test'] = y_test\n",
    "XX.head()"
   ]
  },
  {
   "cell_type": "code",
   "execution_count": 51,
   "metadata": {
    "collapsed": false
   },
   "outputs": [
    {
     "data": {
      "text/plain": [
       "Int64Index([2033, 802, 2425, 25, 275], dtype='int64')"
      ]
     },
     "execution_count": 51,
     "metadata": {},
     "output_type": "execute_result"
    }
   ],
   "source": [
    "XX[(XX['y_test']==1) & (XX['y_pred']<0.3)].index"
   ]
  },
  {
   "cell_type": "code",
   "execution_count": 57,
   "metadata": {
    "collapsed": false
   },
   "outputs": [
    {
     "data": {
      "text/plain": [
       "2033    0.874455\n",
       "208     1.016921\n",
       "2132    0.879365\n",
       "163     0.317043\n",
       "857     0.073529\n",
       "802     0.024000\n",
       "2229    0.952813\n",
       "2425    0.855476\n",
       "25      0.109589\n",
       "283     0.406906\n",
       "275     0.031536\n",
       "1309    0.465116\n",
       "1844    1.042789\n",
       "Name: Book Value Per Share * USD, dtype: float64"
      ]
     },
     "execution_count": 57,
     "metadata": {},
     "output_type": "execute_result"
    }
   ],
   "source": [
    "index = XX[(XX['y_test']==1) & (XX['y_pred']<0.4)].index\n",
    "X[\"Book Value Per Share * USD\"].iloc[index]"
   ]
  },
  {
   "cell_type": "code",
   "execution_count": 78,
   "metadata": {
    "collapsed": false
   },
   "outputs": [
    {
     "data": {
      "text/plain": [
       "<matplotlib.text.Text at 0x10f0f2510>"
      ]
     },
     "execution_count": 78,
     "metadata": {},
     "output_type": "execute_result"
    },
    {
     "data": {
      "image/png": "[encoded data removed]",
      "text/plain": [
       "<matplotlib.figure.Figure at 0x110366690>"
      ]
     },
     "metadata": {},
     "output_type": "display_data"
    }
   ],
   "source": [
    "feature=\"P/B Ratio\"\n",
    "plt.plot(X.loc[y==1,feature], X.loc[y==1,\"Mean Future Fractional Price Change\"], '.', alpha=0.1)\n",
    "plt.plot(X.loc[y==0,feature], X.loc[y==0,\"Mean Future Fractional Price Change\"], '.', alpha=0.1)\n",
    "\n",
    "index = XX[(XX['y_test']==1) & (XX['y_pred']<0.4)].index\n",
    "plt.plot(X[feature].iloc[index], X[\"Mean Future Fractional Price Change\"].iloc[index], '.')\n",
    "plt.ylim([0,2])\n",
    "plt.xlim([0,2])\n",
    "plt.xlabel(feature)\n",
    "plt.ylabel(\"Mean Future Fractional Price Change\")"
   ]
  },
  {
   "cell_type": "markdown",
   "metadata": {},
   "source": [
    "Testing"
   ]
  },
  {
   "cell_type": "code",
   "execution_count": null,
   "metadata": {
    "collapsed": false
   },
   "outputs": [],
   "source": [
    "path = \"Fundamental_Analysis/\"\n",
    "skiprows = [19,20,31,41,42,43,48,58,53,64,65,72,73,95,101,102]\n",
    "del_if_present = ['AUD','EUR','BRL','CAD','ARS','CHF','CLP','CNY','COP','GBP','ILS','INR','JPY','KRW','MXN','PEN','PLN','RON','RUB','SEK','THB','TWD','ZAR','CZK']\n",
    "del_columns = ['Year over Year','3-Year Average','5-Year Average','10-Year Average','Taxes Payable','Long-Term Debt']\n",
    "stock=\"A\"\n",
    "d = pd.read_csv('%s%s_keyratios.csv'%(path, stock), header=2, index_col=0, skiprows=skiprows)\n",
    "d = d.transpose().reset_index()\n",
    "#date = d['index'].values\n",
    "#i1,i2 = np.where(d['index'].str.contains(\"%d\"%year))[0][0], np.where(d['index'].str.contains(\"%d\"%(year-1)))[0][0]\n",
    "#ratios = d.iloc[i1].convert_objects(convert_numeric=True)/d.iloc[i2].convert_objects(convert_numeric=True)\n",
    "#d = pd.DataFrame(ratios).transpose()\n",
    "#d.insert(0,'Stock',stock)                              #keep stock ticker\n",
    "#d.insert(1,'Mean Fractional Price Change',get_mean_frac_price_change(stock,date)) #get fractional price change\n",
    "l=pd.to_numeric(d.iloc[0], errors='coerce')/pd.to_numeric(d.iloc[1], errors='coerce')\n",
    "l"
   ]
  },
  {
   "cell_type": "code",
   "execution_count": null,
   "metadata": {
    "collapsed": false
   },
   "outputs": [],
   "source": [
    "i1=np.where(d['index'].str.contains(\"%d\"%year))[0][0]\n",
    "date=d['index'].iloc[i1]\n",
    "get_mean_frac_price_change(\"ABCB\",date)"
   ]
  },
  {
   "cell_type": "code",
   "execution_count": null,
   "metadata": {
    "collapsed": false
   },
   "outputs": [],
   "source": [
    "plt.plot(X['Earnings Per Share USD'],X['Mean Fractional Price Change'], '.',alpha=0.05)\n",
    "plt.xlim([-5,5])\n",
    "plt.ylim([0,4])"
   ]
  },
  {
   "cell_type": "code",
   "execution_count": null,
   "metadata": {
    "collapsed": true
   },
   "outputs": [],
   "source": [
    "# param_grid={\n",
    "#     'learning_rate': [0.01],\n",
    "#     'max_depth': [4],\n",
    "#     'min_child_weight': [0.1],\n",
    "#     'n_estimators':[2000],\n",
    "# }\n",
    "#grid = GridSearchCV(model, param_grid=param_grid, cv=n_cv, scoring='neg_mean_squared_error')"
   ]
  },
  {
   "cell_type": "code",
   "execution_count": null,
   "metadata": {
    "collapsed": false
   },
   "outputs": [],
   "source": [
    "#s = \"AA\"\n",
    "#data = get_stock_financials(s,2014)\n",
    "#start = data['index'].values[0]\n",
    "#get_frac_price_change(s,start)\n",
    "\n",
    "#a= get_stock_price_change(\"ACN\",start)\n",
    "#print a"
   ]
  },
  {
   "cell_type": "code",
   "execution_count": null,
   "metadata": {
    "collapsed": true
   },
   "outputs": [],
   "source": [
    "#This is useful scraping code for extracting the sector that each stock is from...\n",
    "#http://docs.python-guide.org/en/latest/scenarios/scrape/\n",
    "from lxml import html\n",
    "import requests\n",
    "def get_sectors(df,path):\n",
    "    sectors = ['financials', 'healthcare', 'energy', 'basic-materials', 'industrials', \n",
    "           'technology', 'telecoms', 'utilities', 'non-cyclicals']\n",
    "    df['Sector'] = ''\n",
    "    DNF = []\n",
    "    for i,st in enumerate(df['Ticker']):\n",
    "        url = \"http://www.reuters.com/finance/stocks/overview?symbol=%s\"%st\n",
    "        page = requests.get(url)\n",
    "        tree = html.fromstring(page.content)\n",
    "        found_sector = 0\n",
    "        for sec in sectors:\n",
    "            if len(tree.xpath('//a[@href=\"/sectors/%s\"]/text()'%sec)) > 0:\n",
    "                df[\"Sector\"].iloc[i] = sec\n",
    "                found_sector = 1\n",
    "        if found_sector == 0:\n",
    "            DNF.append(st)\n",
    "            #print 'couldnt find sector for %s'%st\n",
    "    df.to_csv(path)\n",
    "    print \"%f stocks did not have a sector found\"%float(len(DNF))/float(len(df['Ticker']))\n",
    "    return df, DNF"
   ]
  },
  {
   "cell_type": "code",
   "execution_count": null,
   "metadata": {
    "collapsed": false
   },
   "outputs": [],
   "source": [
    "df, dnf = get_sectors(tickers,'csv/wilshire5000_sectors.csv')"
   ]
  },
  {
   "cell_type": "code",
   "execution_count": null,
   "metadata": {
    "collapsed": false
   },
   "outputs": [],
   "source": [
    "stock = \"AEM\"\n",
    "webpage = \"http://financials.morningstar.com/ajax/exportKR2CSV.html?t=%s&culture=en-CA&region=USA&order=asc&r=314562\"%stock\n",
    "url = URL(webpage)\n",
    "f = open('Fundamental_Analysis/%s_keyratios.csv'%stock, 'wb') # save as test.gif\n",
    "f.write(url.download())\n",
    "f.close()"
   ]
  },
  {
   "cell_type": "code",
   "execution_count": null,
   "metadata": {
    "collapsed": true
   },
   "outputs": [],
   "source": []
  }
 ],
 "metadata": {
  "kernelspec": {
   "display_name": "Python 2",
   "language": "python",
   "name": "python2"
  },
  "language_info": {
   "codemirror_mode": {
    "name": "ipython",
    "version": 2
   },
   "file_extension": ".py",
   "mimetype": "text/x-python",
   "name": "python",
   "nbconvert_exporter": "python",
   "pygments_lexer": "ipython2",
   "version": "2.7.11"
  }
 },
 "nbformat": 4,
 "nbformat_minor": 1
}
