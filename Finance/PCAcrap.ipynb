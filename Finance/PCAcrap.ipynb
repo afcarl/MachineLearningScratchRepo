{
 "cells": [
  {
   "cell_type": "markdown",
   "metadata": {},
   "source": [
    "#### Principal Component Analysis (PCA)\n",
    "The role of PCA is to preserve as much information about the data as possible while greatly reducing the dimensionality of the problem, simplying the analysis. One technique used by Gavrilov et al. is to represent each stock's time series as a single point in $d$-dimensional space, where $d$ is the number of data points. Using PCA we can greatly reduce the number of data points making our analysis much easier. Keep in mind that the principal components do not necessarily have a physical meaning.\n",
    "\n",
    "There are other applications of PCA however, for example, determining which features (e.g. P/E ratio, sales volume, etc.) are most important to a stock's performance. \n",
    "\n",
    "You can determine PCA by the following:\n",
    "1. Calculate the correlation (or covariance) matrix. The correlation matrix is safer, since if some of your data is on different scales they will dominate your PCA and not give you the true components.\n",
    "2. Get the eigenvectors and eigenvalues of your correlation matrix. Each eigenvector is a column vector with as many elements as the number of variables in the original dataset. \n",
    "3. The eigenvalues for each of the eigenvectors represent the amount of variance that the given eigenvector accounts for. We arrange the eigenvectors in decreasing order of the eigenvalues, and pick the top 2, 3 or as many eigenvalues that we are interested in depending upon how much variance we want to capture in our model. "
   ]
  },
  {
   "cell_type": "code",
   "execution_count": null,
   "metadata": {
    "collapsed": true
   },
   "outputs": [],
   "source": [
    "import numpy.linalg as la\n",
    "eigval, eigvec = la.eig(corr)\n",
    "eigval, eigvec = (list(x) for x in zip(*sorted(zip(eigval, eigvec), key=lambda pair: pair[0])))\n",
    "eigval = np.asarray(eigval)\n",
    "eigvec = np.asarray(eigvec)"
   ]
  },
  {
   "cell_type": "code",
   "execution_count": null,
   "metadata": {
    "collapsed": true
   },
   "outputs": [],
   "source": [
    "#### PCA\n",
    "https://www.riskprep.com/all-tutorials/36-exam-22/132-understanding-principal-component-analysis-pca"
   ]
  }
 ],
 "metadata": {
  "kernelspec": {
   "display_name": "Python 2",
   "language": "python",
   "name": "python2"
  },
  "language_info": {
   "codemirror_mode": {
    "name": "ipython",
    "version": 2
   },
   "file_extension": ".py",
   "mimetype": "text/x-python",
   "name": "python",
   "nbconvert_exporter": "python",
   "pygments_lexer": "ipython2",
   "version": "2.7.11"
  }
 },
 "nbformat": 4,
 "nbformat_minor": 0
}
