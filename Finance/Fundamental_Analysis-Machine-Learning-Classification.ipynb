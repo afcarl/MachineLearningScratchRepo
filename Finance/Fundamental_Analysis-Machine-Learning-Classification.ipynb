{
 "cells": [
  {
   "cell_type": "markdown",
   "metadata": {},
   "source": [
    "# Fundamental Analysis\n",
    "This notebook plots various fundamental statistics of different stocks.  \n",
    "These links were helpful:  \n",
    "https://simply-python.com/2015/02/13/getting-historical-financial-statistics-of-stock-using-python/  \n",
    "http://stackoverflow.com/questions/40139537/scrape-yahoo-finance-financial-ratios  \n",
    "https://automatetheboringstuff.com/chapter11/  \n",
    "http://docs.python-guide.org/en/latest/scenarios/scrape/  \n",
    "\n",
    "## Todo\n",
    "- See the Learning curve, to determine if I'm limited by my sample size...\n",
    "- Check classification instead of regression as well - will the stock go up or down? Looks imbalanced set though...\n",
    "- Maybe try predicting only 6 months in advance instead of a year.\n",
    "- Have time information for featuers, i.e. EPS_i+1 / EPS_i for a given stock"
   ]
  },
  {
   "cell_type": "code",
   "execution_count": 1,
   "metadata": {},
   "outputs": [],
   "source": [
    "import pandas as pd\n",
    "import numpy as np\n",
    "import requests\n",
    "import sys\n",
    "import matplotlib.pyplot as plt\n",
    "from pandas_datareader.data import DataReader\n",
    "from pandas.tseries.offsets import BMonthEnd\n",
    "from pattern.web import URL\n",
    "%matplotlib inline"
   ]
  },
  {
   "cell_type": "markdown",
   "metadata": {},
   "source": [
    "## Choose Sector to analyze\n",
    "- Important to analyze stocks from the same sector, as different sectors have different standards. E.g. a typical Debt/Equity ratio of one sector can be very different from another sector.  \n",
    "- Download stock lists from http://www.nasdaq.com/screening/industries.aspx  "
   ]
  },
  {
   "cell_type": "code",
   "execution_count": 2,
   "metadata": {},
   "outputs": [
    {
     "data": {
      "text/html": [
       "<div>\n",
       "<table border=\"1\" class=\"dataframe\">\n",
       "  <thead>\n",
       "    <tr style=\"text-align: right;\">\n",
       "      <th></th>\n",
       "      <th>Symbol</th>\n",
       "      <th>Company</th>\n",
       "    </tr>\n",
       "  </thead>\n",
       "  <tbody>\n",
       "    <tr>\n",
       "      <th>0</th>\n",
       "      <td>A</td>\n",
       "      <td>Agilent Technologies</td>\n",
       "    </tr>\n",
       "    <tr>\n",
       "      <th>1</th>\n",
       "      <td>AA</td>\n",
       "      <td>Alcoa Inc</td>\n",
       "    </tr>\n",
       "    <tr>\n",
       "      <th>2</th>\n",
       "      <td>AACC</td>\n",
       "      <td>Asset Accep Cap Corp</td>\n",
       "    </tr>\n",
       "    <tr>\n",
       "      <th>3</th>\n",
       "      <td>AAI</td>\n",
       "      <td>Airtran Hldgs Inc</td>\n",
       "    </tr>\n",
       "    <tr>\n",
       "      <th>4</th>\n",
       "      <td>AAII</td>\n",
       "      <td>Alabama Aircraft Ind In</td>\n",
       "    </tr>\n",
       "  </tbody>\n",
       "</table>\n",
       "</div>"
      ],
      "text/plain": [
       "  Symbol                  Company\n",
       "0      A     Agilent Technologies\n",
       "1     AA                Alcoa Inc\n",
       "2   AACC     Asset Accep Cap Corp\n",
       "3    AAI        Airtran Hldgs Inc\n",
       "4   AAII  Alabama Aircraft Ind In"
      ]
     },
     "execution_count": 2,
     "metadata": {},
     "output_type": "execute_result"
    }
   ],
   "source": [
    "#tickers = pd.read_csv('csv/s&p500.csv',delimiter=\",\")\n",
    "tickers = pd.read_csv('csv/wilshire5000.csv',delimiter=\",\")\n",
    "\n",
    "#industry = 'Finance'\n",
    "#tickers = pd.read_csv('csv/nasdaq/%s.csv'%industry,delimiter=\",\")\n",
    "#tickers = tickers.loc[stocks['MarketCap']>1e7]  #exclude stocks with small market cap\n",
    "\n",
    "tickers.head()"
   ]
  },
  {
   "cell_type": "markdown",
   "metadata": {},
   "source": [
    "## Get Data"
   ]
  },
  {
   "cell_type": "code",
   "execution_count": 44,
   "metadata": {
    "scrolled": false
   },
   "outputs": [],
   "source": [
    "#scrape financial data from Morningstar\n",
    "def get_stock_financials(stock,year):\n",
    "    #pre-load stuff\n",
    "    path = \"Fundamental_Analysis/\"\n",
    "    skiprows = [19,20,31,41,42,43,48,58,53,64,65,72,73,95,101,102]\n",
    "    del_if_present = ['AUD','EUR','BRL','CAD','ARS','CHF','CLP','CNY','COP','GBP','ILS','INR','JPY','KRW','MXN','PEN','PLN','RON','RUB','SEK','THB','TWD','ZAR']\n",
    "    del_columns = ['Year over Year','3-Year Average','5-Year Average','10-Year Average','Taxes Payable','Long-Term Debt']\n",
    "    #scrape/load data\n",
    "    try:\n",
    "        d = pd.read_csv('%s%s_keyratios.csv'%(path, stock), header=2, index_col=0, skiprows=skiprows)\n",
    "    except:\n",
    "        webpage = \"http://financials.morningstar.com/ajax/exportKR2CSV.html?t=%s&culture=en-CA&region=USA&order=asc&r=314562\"%stock\n",
    "        url = URL(webpage)\n",
    "        f = open('%s%s_keyratios.csv'%(path, stock), 'wb') #save key ratios\n",
    "        f.write(url.download())\n",
    "        f.close()\n",
    "        d = pd.read_csv('%s%s_keyratios.csv'%(path, stock), header=2, index_col=0, skiprows=skiprows)\n",
    "    d = d.transpose().reset_index()\n",
    "    #delete annoying repeated columns, ignore if non-US stocks for consistency\n",
    "    for dip in del_if_present:\n",
    "        if np.any(d.columns.str.contains(dip)):            #delete if present\n",
    "            return pd.DataFrame(columns=d.columns)         #return empty dataframe so that this entry will be ignored\n",
    "    d = d.dropna(axis='columns', how='all')\n",
    "    for dc in del_columns: \n",
    "        try:\n",
    "            del d[dc]\n",
    "        except:\n",
    "            pass\n",
    "    #isolate desired year\n",
    "    d = d[d['index'].str.contains(\"%d\"%year)] \n",
    "    #final additions\n",
    "    d.insert(0,'Stock',stock)                              #keep stock ticker\n",
    "    date = last_weekday_of_month(d['index'].values[0])\n",
    "    d.insert(1,'Price',DataReader(stock,'yahoo',date,date)['Adj Close'].values[0]) #get stock price\n",
    "    return d\n",
    "\n",
    "#small helper function for getting target\n",
    "def last_weekday_of_month(date):\n",
    "    return pd.date_range(date, periods=1, freq='BM')\n",
    "\n",
    "#scrapes data from yahoo, gets target\n",
    "def get_frac_price_change(stock,date,true_threshold):\n",
    "    last_current = last_weekday_of_month(date)\n",
    "    ds = date.split('-')\n",
    "    last_future = last_weekday_of_month('%d-%s'%(int(ds[0])+1, ds[1]))\n",
    "    current_price = DataReader(stock, 'yahoo', last_current, last_current)['Adj Close'].values[0]\n",
    "    future_price = DataReader(stock, 'yahoo', last_future, last_future)['Adj Close'].values[0]\n",
    "    fractional_change = future_price/current_price\n",
    "    if fractional_change > true_threshold:\n",
    "        return 1, fractional_change\n",
    "    else:\n",
    "        return 0, fractional_change\n",
    "    \n",
    "#simple progress bar\n",
    "def progress(sequence, every=10):\n",
    "    length = float(len(sequence))\n",
    "    for index, item in enumerate(sequence):\n",
    "        if index % every == 0:\n",
    "            print >>sys.stderr, index/length,\n",
    "        yield item\n",
    "    \n",
    "#Top-level function which acquires all the data\n",
    "def get_data(ticker_csv,year,true_threshold):\n",
    "    ticker_loc = ticker_csv.split(\".csv\")[0]\n",
    "    try:\n",
    "        X = pd.read_csv(\"%s_%d_X.csv\"%(ticker_loc,year))\n",
    "        ychange = np.loadtxt(\"%s_%d_ychange.csv\"%(ticker_loc,year), delimiter=\",\")\n",
    "        skip = np.loadtxt(\"%s_%d_skip.csv\"%(ticker_loc,year), dtype=\"str\",delimiter=\",\")\n",
    "        y = np.zeros(ychange.shape[0])\n",
    "        y[ychange > true_threshold] = 1\n",
    "        print \"Loaded data from csv's...\"\n",
    "    except:\n",
    "        print \"Couldn't find csvs, scraping data from Morningstar...\"\n",
    "        #create empty dataframe with available columns\n",
    "        stocks = pd.read_csv(ticker_csv,delimiter=\",\")\n",
    "        cols = get_stock_financials(stocks[\"Symbol\"][0],year).columns\n",
    "        X = pd.DataFrame(columns=cols)\n",
    "        y = []\n",
    "        ychange = []\n",
    "        skip = []\n",
    "        for s in progress(stocks[\"Symbol\"], len(stocks[\"Symbol\"])/10):\n",
    "            try:\n",
    "                _X = get_stock_financials(s,year)\n",
    "                _y, _ychange = get_frac_price_change(s,_X['index'].values[0],true_threshold)\n",
    "                if _X.shape[1] > 1 and np.isfinite(_y): #only append if alg actually recovered data\n",
    "                    X = X.append(_X)\n",
    "                    y.append(_y)\n",
    "                    ychange.append(_ychange)\n",
    "            except:\n",
    "                skip.append(s)\n",
    "        X = X.set_index('Stock')\n",
    "        X = X.convert_objects(convert_numeric=True)     #X = pd.to_numeric(X)\n",
    "        #save to csv for ease of loading next time\n",
    "        y, ychange, skip = np.asarray(y), np.asarray(ychange), np.asarray(skip)\n",
    "        X.to_csv(\"%s_%d_X.csv\"%(ticker_loc,year))\n",
    "        np.savetxt(\"%s_%d_ychange.csv\"%(ticker_loc,year), ychange, delimiter=\",\")\n",
    "        np.savetxt(\"%s_%d_skip.csv\"%(ticker_loc,year), skip, fmt=\"%s\", delimiter=\",\")\n",
    "    return X, y, ychange, skip"
   ]
  },
  {
   "cell_type": "markdown",
   "metadata": {},
   "source": [
    "Load the data below. This could take a minute.  \n",
    "- true_threshold = fractional change in price ($S_{i+1}/S_i$) for classifying stock as True (i.e. 1). Otherwise False (i.e. 0). "
   ]
  },
  {
   "cell_type": "code",
   "execution_count": 100,
   "metadata": {},
   "outputs": [
    {
     "name": "stdout",
     "output_type": "stream",
     "text": [
      "Loaded data from csv's...\n"
     ]
    }
   ],
   "source": [
    "year = 2015\n",
    "true_threshold=1.0 \n",
    "ticker_csv = \"csv/wilshire5000.csv\"\n",
    "\n",
    "X, y, ychange, skip = get_data(ticker_csv, year, true_threshold)"
   ]
  },
  {
   "cell_type": "code",
   "execution_count": 101,
   "metadata": {},
   "outputs": [],
   "source": [
    "#X['Debt/Equity'] = pd.to_numeric(X['Debt/Equity'])\n",
    "#X = X.convert_objects(convert_numeric=True)"
   ]
  },
  {
   "cell_type": "markdown",
   "metadata": {},
   "source": [
    "## Engineer Features and Process Data\n",
    "Grab columns of interest to be used, replace NaN values, get training/test sets."
   ]
  },
  {
   "cell_type": "code",
   "execution_count": 102,
   "metadata": {},
   "outputs": [
    {
     "name": "stdout",
     "output_type": "stream",
     "text": [
      "couldnt convert Stock column to numeric. NaN fraction=0.0000\n",
      "**Deleted** Accounts Payable: NaN fraction = 0.2055\n",
      "Accounts Receivable: NaN fraction = 0.0656\n",
      "**Deleted** Accrued Liabilities: NaN fraction = 0.1655\n",
      "Asset Turnover: NaN fraction = 0.0204\n",
      "Asset Turnover (Average): NaN fraction = 0.0204\n",
      "Book Value Per Share * USD: NaN fraction = 0.0082\n",
      "**Deleted** COGS: NaN fraction = 0.2087\n",
      "Cap Ex as a % of Sales: NaN fraction = 0.0506\n",
      "**Deleted** Cap Spending USD Mil: NaN fraction = 0.1105\n",
      "Cash & Short-Term Investments: NaN fraction = 0.0053\n",
      "**Deleted** Cash Conversion Cycle: NaN fraction = 0.4142\n",
      "**Deleted** Current Ratio: NaN fraction = 0.1553\n",
      "**Deleted** Days Inventory: NaN fraction = 0.3926\n",
      "**Deleted** Days Sales Outstanding: NaN fraction = 0.1957\n",
      "**Deleted** Debt/Equity: NaN fraction = 0.2605\n",
      "**Deleted** Dividends USD: NaN fraction = 0.4509\n",
      "EBT Margin: NaN fraction = 0.0269\n",
      "Earnings Per Share USD: NaN fraction = 0.0057\n",
      "Financial Leverage: NaN fraction = 0.0554\n",
      "Financial Leverage (Average): NaN fraction = 0.0554\n",
      "Fixed Assets Turnover: NaN fraction = 0.0420\n",
      "**Deleted** Free Cash Flow Growth % YOY: NaN fraction = 0.5764\n",
      "Free Cash Flow Per Share * USD: NaN fraction = 0.0139\n",
      "**Deleted** Free Cash Flow USD Mil: NaN fraction = 0.1003\n",
      "Free Cash Flow/Net Income: NaN fraction = 0.0057\n",
      "Free Cash Flow/Sales %: NaN fraction = 0.0281\n",
      "**Deleted** Gross Margin: NaN fraction = 0.1733\n",
      "**Deleted** Gross Margin %: NaN fraction = 0.1733\n",
      "**Deleted** Intangibles: NaN fraction = 0.1993\n",
      "**Deleted** Interest Coverage: NaN fraction = 0.4044\n",
      "**Deleted** Inventory: NaN fraction = 0.3873\n",
      "**Deleted** Inventory Turnover: NaN fraction = 0.3926\n",
      "**Deleted** Liquidity/Financial Health: NaN fraction = 0.9992\n",
      "Net Income USD Mil: NaN fraction = 0.0942\n",
      "Net Int Inc & Other: NaN fraction = 0.0950\n",
      "Net Margin %: NaN fraction = 0.0281\n",
      "Net PP&E: NaN fraction = 0.0314\n",
      "**Deleted** Operating Cash Flow Growth % YOY: NaN fraction = 0.4525\n",
      "**Deleted** Operating Cash Flow USD Mil: NaN fraction = 0.1398\n",
      "**Deleted** Operating Income USD Mil: NaN fraction = 0.1300\n",
      "Operating Margin: NaN fraction = 0.0261\n",
      "Operating Margin %: NaN fraction = 0.0261\n",
      "**Deleted** Other: NaN fraction = 0.2523\n",
      "**Deleted** Other Current Assets: NaN fraction = 0.1529\n",
      "**Deleted** Other Long-Term Assets: NaN fraction = 0.1602\n",
      "**Deleted** Other Long-Term Liabilities: NaN fraction = 0.1651\n",
      "**Deleted** Other Short-Term Liabilities: NaN fraction = 0.2519\n",
      "**Deleted** Payables Period: NaN fraction = 0.2576\n",
      "**Deleted** Payout Ratio % *: NaN fraction = 0.5104\n",
      "Price: NaN fraction = 0.0000\n",
      "**Deleted** Quick Ratio: NaN fraction = 0.1553\n",
      "**Deleted** R&D: NaN fraction = 0.7077\n",
      "**Deleted** Receivables Turnover: NaN fraction = 0.1949\n",
      "Return on Assets %: NaN fraction = 0.0020\n",
      "Return on Equity %: NaN fraction = 0.0489\n",
      "**Deleted** Return on Invested Capital %: NaN fraction = 0.1989\n",
      "Revenue: NaN fraction = 0.0143\n",
      "**Deleted** Revenue USD Mil: NaN fraction = 0.4574\n",
      "SG&A: NaN fraction = 0.0579\n",
      "Shares Mil: NaN fraction = 0.0310\n",
      "**Deleted** Short-Term Debt: NaN fraction = 0.4615\n",
      "**Deleted** Tax Rate %: NaN fraction = 0.3343\n",
      "Total Assets: NaN fraction = 0.0004\n",
      "**Deleted** Total Current Assets: NaN fraction = 0.1533\n",
      "**Deleted** Total Current Liabilities: NaN fraction = 0.1553\n",
      "Total Liabilities: NaN fraction = 0.0033\n",
      "Total Liabilities & Equity: NaN fraction = 0.0004\n",
      "Total Stockholders' Equity: NaN fraction = 0.0196\n",
      "**Deleted** Working Capital USD Mil: NaN fraction = 0.2858\n",
      "couldnt convert index column to numeric. NaN fraction=0.0000\n"
     ]
    }
   ],
   "source": [
    "#delete columns with >10% NaN values...\n",
    "#...for remaining columns, replace NaN values with median\n",
    "for c in X.columns:\n",
    "    frac_NaN = X[c].isnull().sum()/float(len(X))\n",
    "    if frac_NaN > 0.1:\n",
    "        del X[c]\n",
    "        print \"**Deleted** %s: NaN fraction = %.4f\"%(c, frac_NaN)\n",
    "    else:\n",
    "        try:\n",
    "            X[c] = pd.to_numeric(X[c])\n",
    "            X[c].fillna(X[c].median(), inplace=True)\n",
    "            print \"%s: NaN fraction = %.4f\"%(c, frac_NaN)\n",
    "        except:\n",
    "            print \"couldnt convert %s column to numeric. NaN fraction=%.4f\"%(c, frac_NaN)"
   ]
  },
  {
   "cell_type": "code",
   "execution_count": 103,
   "metadata": {},
   "outputs": [
    {
     "data": {
      "text/plain": [
       "Index([u'Stock', u'Accounts Receivable', u'Asset Turnover',\n",
       "       u'Asset Turnover (Average)', u'Book Value Per Share * USD',\n",
       "       u'Cap Ex as a % of Sales', u'Cash & Short-Term Investments',\n",
       "       u'EBT Margin', u'Earnings Per Share USD', u'Financial Leverage',\n",
       "       u'Financial Leverage (Average)', u'Fixed Assets Turnover',\n",
       "       u'Free Cash Flow Per Share * USD', u'Free Cash Flow/Net Income',\n",
       "       u'Free Cash Flow/Sales %', u'Net Income USD Mil',\n",
       "       u'Net Int Inc & Other', u'Net Margin %', u'Net PP&E',\n",
       "       u'Operating Margin', u'Operating Margin %', u'Price',\n",
       "       u'Return on Assets %', u'Return on Equity %', u'Revenue', u'SG&A',\n",
       "       u'Shares Mil', u'Total Assets', u'Total Liabilities',\n",
       "       u'Total Liabilities & Equity', u'Total Stockholders' Equity', u'index'],\n",
       "      dtype='object')"
      ]
     },
     "execution_count": 103,
     "metadata": {},
     "output_type": "execute_result"
    }
   ],
   "source": [
    "X.columns"
   ]
  },
  {
   "cell_type": "markdown",
   "metadata": {},
   "source": [
    "Feature Engineering:\n",
    "- Working Capital Ratio - how easily that company can turn assets into cash to pay short-term obligations\n",
    "- Price/Earnings Ratio - investors' assessment of future earnings\n",
    "- Price/Book Ratio\n",
    "- Debt/Equity Ratio"
   ]
  },
  {
   "cell_type": "code",
   "execution_count": 104,
   "metadata": {},
   "outputs": [],
   "source": [
    "#feature engineering\n",
    "X['Working Capital Ratio'] = X['Total Assets']/X['Total Liabilities']   \n",
    "X['P/E Ratio'] = X['Price']/X['Earnings Per Share USD']                 \n",
    "X['P/B Ratio'] = X['Price']/X['Book Value Per Share * USD']\n",
    "X['D/E Ratio'] = X['Total Liabilities']/X[\"Total Stockholders' Equity\"] \n",
    "\n",
    "#features to include for analysis\n",
    "percentiles = ['Net Margin %','Return on Equity %','Return on Assets %','Operating Margin %','Free Cash Flow/Sales %', 'Cap Ex as a % of Sales']\n",
    "ratios = ['Book Value Per Share * USD', 'Earnings Per Share USD','Free Cash Flow Per Share * USD','EBT Margin',\n",
    "          'Working Capital Ratio','P/E Ratio','P/B Ratio', 'D/E Ratio', 'Asset Turnover', 'Financial Leverage']\n",
    "\n",
    "features = percentiles + ratios"
   ]
  },
  {
   "cell_type": "code",
   "execution_count": 105,
   "metadata": {},
   "outputs": [],
   "source": [
    "XX = X[features]"
   ]
  },
  {
   "cell_type": "code",
   "execution_count": 106,
   "metadata": {},
   "outputs": [
    {
     "data": {
      "text/html": [
       "<div>\n",
       "<table border=\"1\" class=\"dataframe\">\n",
       "  <thead>\n",
       "    <tr style=\"text-align: right;\">\n",
       "      <th></th>\n",
       "      <th>Net Margin %</th>\n",
       "      <th>Return on Equity %</th>\n",
       "      <th>Return on Assets %</th>\n",
       "      <th>Operating Margin %</th>\n",
       "      <th>Free Cash Flow/Sales %</th>\n",
       "      <th>Cap Ex as a % of Sales</th>\n",
       "      <th>Book Value Per Share * USD</th>\n",
       "      <th>Earnings Per Share USD</th>\n",
       "      <th>Free Cash Flow Per Share * USD</th>\n",
       "      <th>EBT Margin</th>\n",
       "      <th>Working Capital Ratio</th>\n",
       "      <th>P/E Ratio</th>\n",
       "      <th>P/B Ratio</th>\n",
       "      <th>D/E Ratio</th>\n",
       "      <th>Asset Turnover</th>\n",
       "      <th>Financial Leverage</th>\n",
       "    </tr>\n",
       "  </thead>\n",
       "  <tbody>\n",
       "    <tr>\n",
       "      <th>0</th>\n",
       "      <td>9.93</td>\n",
       "      <td>8.47</td>\n",
       "      <td>4.38</td>\n",
       "      <td>12.9</td>\n",
       "      <td>9.73</td>\n",
       "      <td>2.43</td>\n",
       "      <td>12.36</td>\n",
       "      <td>1.20</td>\n",
       "      <td>0.90</td>\n",
       "      <td>11.89</td>\n",
       "      <td>2.258356</td>\n",
       "      <td>31.040855</td>\n",
       "      <td>3.013675</td>\n",
       "      <td>0.794688</td>\n",
       "      <td>0.44</td>\n",
       "      <td>1.79</td>\n",
       "    </tr>\n",
       "    <tr>\n",
       "      <th>1</th>\n",
       "      <td>2.40</td>\n",
       "      <td>3.86</td>\n",
       "      <td>1.26</td>\n",
       "      <td>3.4</td>\n",
       "      <td>1.14</td>\n",
       "      <td>0.19</td>\n",
       "      <td>5.05</td>\n",
       "      <td>0.19</td>\n",
       "      <td>0.21</td>\n",
       "      <td>3.44</td>\n",
       "      <td>1.483239</td>\n",
       "      <td>26.155963</td>\n",
       "      <td>0.984086</td>\n",
       "      <td>2.069368</td>\n",
       "      <td>0.53</td>\n",
       "      <td>3.07</td>\n",
       "    </tr>\n",
       "    <tr>\n",
       "      <th>2</th>\n",
       "      <td>4.27</td>\n",
       "      <td>10.48</td>\n",
       "      <td>5.31</td>\n",
       "      <td>7.4</td>\n",
       "      <td>3.34</td>\n",
       "      <td>1.90</td>\n",
       "      <td>18.50</td>\n",
       "      <td>1.86</td>\n",
       "      <td>1.72</td>\n",
       "      <td>6.70</td>\n",
       "      <td>2.057613</td>\n",
       "      <td>11.990263</td>\n",
       "      <td>1.205508</td>\n",
       "      <td>0.945525</td>\n",
       "      <td>1.24</td>\n",
       "      <td>1.95</td>\n",
       "    </tr>\n",
       "    <tr>\n",
       "      <th>3</th>\n",
       "      <td>12.75</td>\n",
       "      <td>25.91</td>\n",
       "      <td>19.63</td>\n",
       "      <td>19.9</td>\n",
       "      <td>8.91</td>\n",
       "      <td>5.85</td>\n",
       "      <td>3.74</td>\n",
       "      <td>0.84</td>\n",
       "      <td>0.62</td>\n",
       "      <td>19.89</td>\n",
       "      <td>4.317789</td>\n",
       "      <td>27.532204</td>\n",
       "      <td>6.183703</td>\n",
       "      <td>0.301406</td>\n",
       "      <td>1.54</td>\n",
       "      <td>1.30</td>\n",
       "    </tr>\n",
       "    <tr>\n",
       "      <th>4</th>\n",
       "      <td>4.84</td>\n",
       "      <td>21.14</td>\n",
       "      <td>5.86</td>\n",
       "      <td>8.5</td>\n",
       "      <td>4.67</td>\n",
       "      <td>2.41</td>\n",
       "      <td>32.94</td>\n",
       "      <td>6.40</td>\n",
       "      <td>6.26</td>\n",
       "      <td>7.73</td>\n",
       "      <td>1.433692</td>\n",
       "      <td>23.481358</td>\n",
       "      <td>4.562255</td>\n",
       "      <td>2.305785</td>\n",
       "      <td>1.21</td>\n",
       "      <td>3.31</td>\n",
       "    </tr>\n",
       "  </tbody>\n",
       "</table>\n",
       "</div>"
      ],
      "text/plain": [
       "   Net Margin %  Return on Equity %  Return on Assets %  Operating Margin %  \\\n",
       "0          9.93                8.47                4.38                12.9   \n",
       "1          2.40                3.86                1.26                 3.4   \n",
       "2          4.27               10.48                5.31                 7.4   \n",
       "3         12.75               25.91               19.63                19.9   \n",
       "4          4.84               21.14                5.86                 8.5   \n",
       "\n",
       "   Free Cash Flow/Sales %  Cap Ex as a % of Sales  Book Value Per Share * USD  \\\n",
       "0                    9.73                    2.43                       12.36   \n",
       "1                    1.14                    0.19                        5.05   \n",
       "2                    3.34                    1.90                       18.50   \n",
       "3                    8.91                    5.85                        3.74   \n",
       "4                    4.67                    2.41                       32.94   \n",
       "\n",
       "   Earnings Per Share USD  Free Cash Flow Per Share * USD  EBT Margin  \\\n",
       "0                    1.20                            0.90       11.89   \n",
       "1                    0.19                            0.21        3.44   \n",
       "2                    1.86                            1.72        6.70   \n",
       "3                    0.84                            0.62       19.89   \n",
       "4                    6.40                            6.26        7.73   \n",
       "\n",
       "   Working Capital Ratio  P/E Ratio  P/B Ratio  D/E Ratio  Asset Turnover  \\\n",
       "0               2.258356  31.040855   3.013675   0.794688            0.44   \n",
       "1               1.483239  26.155963   0.984086   2.069368            0.53   \n",
       "2               2.057613  11.990263   1.205508   0.945525            1.24   \n",
       "3               4.317789  27.532204   6.183703   0.301406            1.54   \n",
       "4               1.433692  23.481358   4.562255   2.305785            1.21   \n",
       "\n",
       "   Financial Leverage  \n",
       "0                1.79  \n",
       "1                3.07  \n",
       "2                1.95  \n",
       "3                1.30  \n",
       "4                3.31  "
      ]
     },
     "execution_count": 106,
     "metadata": {},
     "output_type": "execute_result"
    }
   ],
   "source": [
    "XX.head()"
   ]
  },
  {
   "cell_type": "code",
   "execution_count": 107,
   "metadata": {
    "collapsed": true
   },
   "outputs": [],
   "source": [
    "from sklearn.model_selection import train_test_split\n",
    "X_train, X_test, y_train, y_test = train_test_split(XX, y, test_size=0.25, random_state=42)"
   ]
  },
  {
   "cell_type": "markdown",
   "metadata": {},
   "source": [
    "## Machine Learning tyme\n",
    "Do an initial search with a high learning rate and few n_estimators, then do a second tune with lower learning rate and many more estimators.  "
   ]
  },
  {
   "cell_type": "code",
   "execution_count": 108,
   "metadata": {},
   "outputs": [
    {
     "data": {
      "text/plain": [
       "XGBClassifier(base_score=0.5, colsample_bylevel=1, colsample_bytree=1,\n",
       "       gamma=0, learning_rate=0.1, max_delta_step=0, max_depth=3,\n",
       "       min_child_weight=1, missing=None, n_estimators=100, nthread=-1,\n",
       "       objective='binary:logistic', reg_alpha=0, reg_lambda=1,\n",
       "       scale_pos_weight=1, seed=0, silent=True, subsample=1)"
      ]
     },
     "execution_count": 108,
     "metadata": {},
     "output_type": "execute_result"
    }
   ],
   "source": [
    "import xgboost as xgb\n",
    "from sklearn.model_selection import GridSearchCV, RandomizedSearchCV\n",
    "xgb.XGBClassifier()"
   ]
  },
  {
   "cell_type": "code",
   "execution_count": 111,
   "metadata": {},
   "outputs": [
    {
     "data": {
      "text/plain": [
       "0.4322429906542056"
      ]
     },
     "execution_count": 111,
     "metadata": {},
     "output_type": "execute_result"
    }
   ],
   "source": [
    "#scale classes based on relative imbalance\n",
    "scale_pos_weight = len(y_train[y_train==0])/float(len(y_train[y_train==1]))\n",
    "scale_pos_weight"
   ]
  },
  {
   "cell_type": "code",
   "execution_count": 70,
   "metadata": {},
   "outputs": [
    {
     "name": "stdout",
     "output_type": "stream",
     "text": [
      "0.650044452255\n",
      "{'colsample_bytree': 0.5, 'learning_rate': 0.1, 'min_child_weight': 1, 'n_estimators': 1000, 'max_depth': 2, 'gamma': 0}\n"
     ]
    }
   ],
   "source": [
    "model = xgb.XGBClassifier(scale_pos_weight=scale_pos_weight)\n",
    "n_cv = 5\n",
    "n_iter = 10     #number of RandomizedSearchCV search iterations\n",
    "param_grid={\n",
    "    'learning_rate': [0.1],\n",
    "    'max_depth': [2,4,8,16],\n",
    "    'min_child_weight': [0.1,0.5,1,3],\n",
    "    'colsample_bytree': [0.5,1],\n",
    "    'gamma': [0,0.2,0.4],\n",
    "    'n_estimators':[1000],\n",
    "}\n",
    "\n",
    "grid = RandomizedSearchCV(model, param_distributions=param_grid, n_iter=n_iter, cv=n_cv, scoring='roc_auc')\n",
    "grid.fit(X_train,y_train)\n",
    "\n",
    "print(grid.best_score_)\n",
    "print(grid.best_params_)"
   ]
  },
  {
   "cell_type": "code",
   "execution_count": 112,
   "metadata": {},
   "outputs": [
    {
     "name": "stdout",
     "output_type": "stream",
     "text": [
      "0.68610636574\n"
     ]
    }
   ],
   "source": [
    "#Do final train with best parameters, lower learning rate and more estimators\n",
    "model = xgb.XGBClassifier(scale_pos_weight=scale_pos_weight)\n",
    "best_params={\n",
    "    'learning_rate': [5e-3],\n",
    "    'n_estimators':[3000],\n",
    "    'max_depth': [2],\n",
    "    'min_child_weight': [1],\n",
    "    'colsample_bytree': [0.5],\n",
    "    'gamma': [0],\n",
    "}\n",
    "final_model = GridSearchCV(model, param_grid=best_params, cv=n_cv, scoring='roc_auc')\n",
    "final_model.fit(X_train,y_train)\n",
    "\n",
    "#best model\n",
    "xgb_model = final_model.best_estimator_\n",
    "print(final_model.best_score_)"
   ]
  },
  {
   "cell_type": "code",
   "execution_count": 113,
   "metadata": {},
   "outputs": [
    {
     "data": {
      "text/plain": [
       "<matplotlib.text.Text at 0x112850e50>"
      ]
     },
     "execution_count": 113,
     "metadata": {},
     "output_type": "execute_result"
    },
    {
     "data": {
      "image/png": "[encoded data removed]",
      "text/plain": [
       "<matplotlib.figure.Figure at 0x10b97c750>"
      ]
     },
     "metadata": {},
     "output_type": "display_data"
    }
   ],
   "source": [
    "#seems equivalent to model.feature_importances_\n",
    "feat_imp = pd.Series(xgb_model.booster().get_fscore()).sort_values(ascending=False) \n",
    "feat_imp.plot(kind='bar', title='Feature Importances')\n",
    "plt.ylabel('Feature Importance Score')"
   ]
  },
  {
   "cell_type": "code",
   "execution_count": 114,
   "metadata": {},
   "outputs": [
    {
     "data": {
      "text/plain": [
       "<matplotlib.text.Text at 0x110cb1e10>"
      ]
     },
     "execution_count": 114,
     "metadata": {},
     "output_type": "execute_result"
    },
    {
     "data": {
      "image/png": "[encoded data removed]",
      "text/plain": [
       "<matplotlib.figure.Figure at 0x112c0a7d0>"
      ]
     },
     "metadata": {},
     "output_type": "display_data"
    }
   ],
   "source": [
    "from sklearn.metrics import precision_recall_curve\n",
    "y_pred = xgb_model.predict_proba(X_test)\n",
    "precision, recall, thresholds = precision_recall_curve(y_test, y_pred[:,1])\n",
    "fig, ax = plt.subplots()\n",
    "ax.plot(recall, precision)\n",
    "ax.set_xlim([0.0, 1.0])\n",
    "ax.set_ylim([0.0, 1.0])\n",
    "ax.set_xlabel('Recall')\n",
    "ax.set_ylabel('Precision')\n",
    "ax.set_title('Precision Recall curve')"
   ]
  },
  {
   "cell_type": "code",
   "execution_count": 116,
   "metadata": {},
   "outputs": [
    {
     "data": {
      "image/png": "[encoded data removed]",
      "text/plain": [
       "<matplotlib.figure.Figure at 0x110b21e50>"
      ]
     },
     "metadata": {},
     "output_type": "display_data"
    }
   ],
   "source": [
    "# Histogram to see class predictions\n",
    "bins = 50\n",
    "y_pred=xgb_model.predict_proba(X_test)\n",
    "True_Class=y_pred[y_test==1][:,1]\n",
    "False_Class=y_pred[y_test==0][:,1]\n",
    "\n",
    "fig, ax1 = plt.subplots()\n",
    "ax1.hist(False_Class, bins, alpha=0.5, label='No', color='blue')\n",
    "ax1.set_xlabel('Predicted Probability', fontsize=14)\n",
    "ax1.set_ylabel('$S_f/S_i<%.1f$'%true_threshold,  fontsize=14, color='blue')\n",
    "for tl in ax1.get_yticklabels():\n",
    "    tl.set_color('blue')\n",
    "    \n",
    "ax2 = ax1.twinx()\n",
    "ax2.hist(True_Class, bins, alpha=0.5, label='Yes',color='green')\n",
    "ax2.set_ylabel('$S_f/S_i>%.1f$'%true_threshold, fontsize=14, color='green')\n",
    "for tl in ax2.get_yticklabels():\n",
    "    tl.set_color('green')"
   ]
  },
  {
   "cell_type": "markdown",
   "metadata": {
    "collapsed": true
   },
   "source": [
    "# Extra"
   ]
  },
  {
   "cell_type": "code",
   "execution_count": null,
   "metadata": {
    "collapsed": true
   },
   "outputs": [],
   "source": [
    "# param_grid={\n",
    "#     'learning_rate': [0.01],\n",
    "#     'max_depth': [4],\n",
    "#     'min_child_weight': [0.1],\n",
    "#     'n_estimators':[2000],\n",
    "# }\n",
    "#grid = GridSearchCV(model, param_grid=param_grid, cv=n_cv, scoring='neg_mean_squared_error')"
   ]
  },
  {
   "cell_type": "code",
   "execution_count": 38,
   "metadata": {},
   "outputs": [],
   "source": [
    "#s = \"AA\"\n",
    "#data = get_stock_financials(s,2014)\n",
    "#start = data['index'].values[0]\n",
    "#get_frac_price_change(s,start)\n",
    "\n",
    "#a= get_stock_price_change(\"ACN\",start)\n",
    "#print a"
   ]
  },
  {
   "cell_type": "code",
   "execution_count": 33,
   "metadata": {
    "collapsed": true
   },
   "outputs": [],
   "source": [
    "#This is useful scraping code for extracting the sector that each stock is from...\n",
    "#http://docs.python-guide.org/en/latest/scenarios/scrape/\n",
    "from lxml import html\n",
    "import requests\n",
    "def get_sectors(df,path):\n",
    "    sectors = ['financials', 'healthcare', 'energy', 'basic-materials', 'industrials', \n",
    "           'technology', 'telecoms', 'utilities', 'non-cyclicals']\n",
    "    df['Sector'] = ''\n",
    "    DNF = []\n",
    "    for i,st in enumerate(df['Ticker']):\n",
    "        url = \"http://www.reuters.com/finance/stocks/overview?symbol=%s\"%st\n",
    "        page = requests.get(url)\n",
    "        tree = html.fromstring(page.content)\n",
    "        found_sector = 0\n",
    "        for sec in sectors:\n",
    "            if len(tree.xpath('//a[@href=\"/sectors/%s\"]/text()'%sec)) > 0:\n",
    "                df[\"Sector\"].iloc[i] = sec\n",
    "                found_sector = 1\n",
    "        if found_sector == 0:\n",
    "            DNF.append(st)\n",
    "            #print 'couldnt find sector for %s'%st\n",
    "    df.to_csv(path)\n",
    "    print \"%f stocks did not have a sector found\"%float(len(DNF))/float(len(df['Ticker']))\n",
    "    return df, DNF"
   ]
  },
  {
   "cell_type": "code",
   "execution_count": 32,
   "metadata": {},
   "outputs": [],
   "source": [
    "df, dnf = get_sectors(tickers,'csv/wilshire5000_sectors.csv')"
   ]
  },
  {
   "cell_type": "code",
   "execution_count": 24,
   "metadata": {},
   "outputs": [],
   "source": [
    "stock = \"AEM\"\n",
    "webpage = \"http://financials.morningstar.com/ajax/exportKR2CSV.html?t=%s&culture=en-CA&region=USA&order=asc&r=314562\"%stock\n",
    "url = URL(webpage)\n",
    "f = open('Fundamental_Analysis/%s_keyratios.csv'%stock, 'wb') # save as test.gif\n",
    "f.write(url.download())\n",
    "f.close()"
   ]
  },
  {
   "cell_type": "code",
   "execution_count": null,
   "metadata": {
    "collapsed": true
   },
   "outputs": [],
   "source": []
  }
 ],
 "metadata": {
  "kernelspec": {
   "display_name": "Python 2",
   "language": "python",
   "name": "python2"
  },
  "language_info": {
   "codemirror_mode": {
    "name": "ipython",
    "version": 2
   },
   "file_extension": ".py",
   "mimetype": "text/x-python",
   "name": "python",
   "nbconvert_exporter": "python",
   "pygments_lexer": "ipython2",
   "version": "2.7.13"
  }
 },
 "nbformat": 4,
 "nbformat_minor": 1
}
