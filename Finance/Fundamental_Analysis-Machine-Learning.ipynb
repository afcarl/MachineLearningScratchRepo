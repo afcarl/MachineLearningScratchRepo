{
 "cells": [
  {
   "cell_type": "markdown",
   "metadata": {},
   "source": [
    "# Fundamental Analysis\n",
    "This notebook plots various fundamental statistics of different stocks.  \n",
    "These links were helpful:  \n",
    "https://simply-python.com/2015/02/13/getting-historical-financial-statistics-of-stock-using-python/  \n",
    "http://stackoverflow.com/questions/40139537/scrape-yahoo-finance-financial-ratios  \n",
    "https://automatetheboringstuff.com/chapter11/  \n",
    "http://docs.python-guide.org/en/latest/scenarios/scrape/  \n",
    "\n",
    "## Todo\n",
    "- Work on some features.\n",
    "- Check classification instead of regression as well - will the stock go up or down? Looks imbalanced set though...\n",
    "- Maybe try predicting only 6 months in advance instead of a year.\n",
    "- Maybe do a market cap cut, need to analyze companies of similar sizes\n",
    "- Need to do a large parameter search for XGBoost."
   ]
  },
  {
   "cell_type": "code",
   "execution_count": 18,
   "metadata": {
    "collapsed": false
   },
   "outputs": [],
   "source": [
    "import pandas as pd\n",
    "import numpy as np\n",
    "import requests\n",
    "import sys\n",
    "import matplotlib.pyplot as plt\n",
    "from pandas_datareader.data import DataReader\n",
    "from pandas.tseries.offsets import BMonthEnd\n",
    "from pattern.web import URL\n",
    "%matplotlib inline"
   ]
  },
  {
   "cell_type": "markdown",
   "metadata": {},
   "source": [
    "## Choose Sector to analyze\n",
    "- Important to analyze stocks from the same sector, as different sectors have different standards. E.g. a typical Debt/Equity ratio of one sector can be very different from another sector.  \n",
    "- Download stock lists from http://www.nasdaq.com/screening/industries.aspx  "
   ]
  },
  {
   "cell_type": "code",
   "execution_count": 19,
   "metadata": {
    "collapsed": false
   },
   "outputs": [
    {
     "data": {
      "text/html": [
       "<div>\n",
       "<table border=\"1\" class=\"dataframe\">\n",
       "  <thead>\n",
       "    <tr style=\"text-align: right;\">\n",
       "      <th></th>\n",
       "      <th>Symbol</th>\n",
       "      <th>Name</th>\n",
       "      <th>LastSale</th>\n",
       "      <th>MarketCap</th>\n",
       "      <th>ADR TSO</th>\n",
       "      <th>IPOyear</th>\n",
       "      <th>Sector</th>\n",
       "      <th>Industry</th>\n",
       "      <th>Summary Quote</th>\n",
       "      <th>Unnamed: 9</th>\n",
       "    </tr>\n",
       "  </thead>\n",
       "  <tbody>\n",
       "    <tr>\n",
       "      <th>0</th>\n",
       "      <td>PIH</td>\n",
       "      <td>1347 Property Insurance Holdings, Inc.</td>\n",
       "      <td>6.5001</td>\n",
       "      <td>3.873322e+07</td>\n",
       "      <td>n/a</td>\n",
       "      <td>2014</td>\n",
       "      <td>Finance</td>\n",
       "      <td>Property-Casualty Insurers</td>\n",
       "      <td>http://www.nasdaq.com/symbol/pih</td>\n",
       "      <td>NaN</td>\n",
       "    </tr>\n",
       "    <tr>\n",
       "      <th>1</th>\n",
       "      <td>FCCY</td>\n",
       "      <td>1st Constitution Bancorp (NJ)</td>\n",
       "      <td>18</td>\n",
       "      <td>1.436993e+08</td>\n",
       "      <td>n/a</td>\n",
       "      <td>n/a</td>\n",
       "      <td>Finance</td>\n",
       "      <td>Savings Institutions</td>\n",
       "      <td>http://www.nasdaq.com/symbol/fccy</td>\n",
       "      <td>NaN</td>\n",
       "    </tr>\n",
       "    <tr>\n",
       "      <th>2</th>\n",
       "      <td>SRCE</td>\n",
       "      <td>1st Source Corporation</td>\n",
       "      <td>44.82</td>\n",
       "      <td>1.159751e+09</td>\n",
       "      <td>n/a</td>\n",
       "      <td>n/a</td>\n",
       "      <td>Finance</td>\n",
       "      <td>Major Banks</td>\n",
       "      <td>http://www.nasdaq.com/symbol/srce</td>\n",
       "      <td>NaN</td>\n",
       "    </tr>\n",
       "    <tr>\n",
       "      <th>3</th>\n",
       "      <td>ABIL</td>\n",
       "      <td>Ability Inc.</td>\n",
       "      <td>3.21</td>\n",
       "      <td>8.267722e+07</td>\n",
       "      <td>n/a</td>\n",
       "      <td>2014</td>\n",
       "      <td>Finance</td>\n",
       "      <td>Business Services</td>\n",
       "      <td>http://www.nasdaq.com/symbol/abil</td>\n",
       "      <td>NaN</td>\n",
       "    </tr>\n",
       "    <tr>\n",
       "      <th>4</th>\n",
       "      <td>ABM</td>\n",
       "      <td>ABM Industries Incorporated</td>\n",
       "      <td>40.86</td>\n",
       "      <td>2.270007e+09</td>\n",
       "      <td>n/a</td>\n",
       "      <td>n/a</td>\n",
       "      <td>Finance</td>\n",
       "      <td>Diversified Commercial Services</td>\n",
       "      <td>http://www.nasdaq.com/symbol/abm</td>\n",
       "      <td>NaN</td>\n",
       "    </tr>\n",
       "  </tbody>\n",
       "</table>\n",
       "</div>"
      ],
      "text/plain": [
       "  Symbol                                    Name LastSale     MarketCap  \\\n",
       "0    PIH  1347 Property Insurance Holdings, Inc.   6.5001  3.873322e+07   \n",
       "1   FCCY           1st Constitution Bancorp (NJ)       18  1.436993e+08   \n",
       "2   SRCE                  1st Source Corporation    44.82  1.159751e+09   \n",
       "3   ABIL                            Ability Inc.     3.21  8.267722e+07   \n",
       "4    ABM             ABM Industries Incorporated    40.86  2.270007e+09   \n",
       "\n",
       "  ADR TSO IPOyear   Sector                         Industry  \\\n",
       "0     n/a    2014  Finance       Property-Casualty Insurers   \n",
       "1     n/a     n/a  Finance             Savings Institutions   \n",
       "2     n/a     n/a  Finance                      Major Banks   \n",
       "3     n/a    2014  Finance                Business Services   \n",
       "4     n/a     n/a  Finance  Diversified Commercial Services   \n",
       "\n",
       "                       Summary Quote  Unnamed: 9  \n",
       "0   http://www.nasdaq.com/symbol/pih         NaN  \n",
       "1  http://www.nasdaq.com/symbol/fccy         NaN  \n",
       "2  http://www.nasdaq.com/symbol/srce         NaN  \n",
       "3  http://www.nasdaq.com/symbol/abil         NaN  \n",
       "4   http://www.nasdaq.com/symbol/abm         NaN  "
      ]
     },
     "execution_count": 19,
     "metadata": {},
     "output_type": "execute_result"
    }
   ],
   "source": [
    "#tickers = pd.read_csv('csv/s&p500.csv',delimiter=\",\")\n",
    "#tickers = pd.read_csv('csv/wilshire5000.csv',delimiter=\",\")\n",
    "tickers = pd.read_csv('csv/nasdaq/Finance.csv',delimiter=\",\")\n",
    "tickers.head()"
   ]
  },
  {
   "cell_type": "markdown",
   "metadata": {},
   "source": [
    "## Get Data"
   ]
  },
  {
   "cell_type": "code",
   "execution_count": 28,
   "metadata": {
    "collapsed": false,
    "scrolled": false
   },
   "outputs": [],
   "source": [
    "#scrape financial data from Morningstar\n",
    "def get_stock_financials(stock,year):\n",
    "    #pre-load stuff\n",
    "    path = \"Fundamental_Analysis/\"\n",
    "    skiprows = [19,20,31,41,42,43,48,58,53,64,65,72,73,95,101,102]\n",
    "    del_if_present = ['AUD','EUR','BRL','CAD','ARS','CHF','CLP','CNY','COP','GBP','ILS','INR','JPY','KRW','MXN','PEN']\n",
    "    del_columns = ['Year over Year','3-Year Average','5-Year Average','10-Year Average','Taxes Payable','Long-Term Debt']\n",
    "    #scrape/load data\n",
    "    try:\n",
    "        d = pd.read_csv('%s%s_keyratios.csv'%(path, stock), header=2, index_col=0, skiprows=skiprows)\n",
    "    except:\n",
    "        webpage = \"http://financials.morningstar.com/ajax/exportKR2CSV.html?t=%s&culture=en-CA&region=USA&order=asc&r=314562\"%stock\n",
    "        url = URL(webpage)\n",
    "        f = open('%s%s_keyratios.csv'%(path, stock), 'wb') #save key ratios\n",
    "        f.write(url.download())\n",
    "        f.close()\n",
    "        d = pd.read_csv('%s%s_keyratios.csv'%(path, stock), header=2, index_col=0, skiprows=skiprows)\n",
    "    d = d.transpose().reset_index()\n",
    "    #delete annoying repeated columns, ignore if non-US stocks for consistency\n",
    "    for dip in del_if_present:\n",
    "        if np.any(d.columns.str.contains(dip)):            #delete if present\n",
    "            return pd.DataFrame(columns=d.columns)         #return empty dataframe so that this entry will be ignored\n",
    "    d = d.dropna(axis='columns', how='all')\n",
    "    for dc in del_columns: \n",
    "        try:\n",
    "            del d[dc]\n",
    "        except:\n",
    "            pass\n",
    "    #isolate desired year\n",
    "    d = d[d['index'].str.contains(\"%d\"%year)] \n",
    "    #final additions\n",
    "    d.insert(0,'Stock',stock)                              #keep stock ticker\n",
    "    date = last_weekday_of_month(d['index'].values[0])\n",
    "    d.insert(1,'Price',DataReader(stock,'yahoo',date,date)['Adj Close'].values[0]) #get stock price\n",
    "    return d\n",
    "\n",
    "#small helper function for getting target\n",
    "def last_weekday_of_month(date):\n",
    "    return pd.date_range(date, periods=1, freq='BM')\n",
    "\n",
    "#scrapes data from yahoo, gets target\n",
    "def get_frac_price_change(stock,date):\n",
    "    last_current = last_weekday_of_month(date)\n",
    "    ds = date.split('-')\n",
    "    last_future = last_weekday_of_month('%d-%s'%(int(ds[0])+1, ds[1]))\n",
    "    current_price = DataReader(stock, 'yahoo', last_current, last_current)['Adj Close'].values[0]\n",
    "    future_price = DataReader(stock, 'yahoo', last_future, last_future)['Adj Close'].values[0]\n",
    "    return (future_price - current_price)/current_price\n",
    "    \n",
    "#simple progress bar\n",
    "def progress(sequence, every=10):\n",
    "    length = float(len(sequence))\n",
    "    for index, item in enumerate(sequence):\n",
    "        if index % every == 0:\n",
    "            print >>sys.stderr, index/length,\n",
    "        yield item\n",
    "    \n",
    "#Top-level function which acquires all the data\n",
    "def get_data(stocks,year):\n",
    "    #create empty dataframe with available columns\n",
    "    cols = get_stock_financials(stocks[\"Symbol\"][0],year).columns\n",
    "    X = pd.DataFrame(columns=cols)\n",
    "    y = []\n",
    "    skip = []\n",
    "    for s in progress(stocks[\"Symbol\"], len(stocks[\"Symbol\"])/10):\n",
    "        try:\n",
    "            _X = get_stock_financials(s,year)\n",
    "            _y = get_frac_price_change(s,_X['index'].values[0])\n",
    "            if _X.shape[1] > 1 and _y: #only append if alg actually recovered data\n",
    "                X = X.append(_X)\n",
    "                y.append(_y)\n",
    "        except:\n",
    "            skip.append(s)\n",
    "    X = X.set_index('Stock')\n",
    "    #X = pd.to_numeric(X)\n",
    "    X = X.convert_objects(convert_numeric=True)\n",
    "    return X, y, skip"
   ]
  },
  {
   "cell_type": "code",
   "execution_count": 48,
   "metadata": {
    "collapsed": false
   },
   "outputs": [
    {
     "name": "stderr",
     "output_type": "stream",
     "text": [
      " 0.0 0.09887359199 0.19774718398 0.29662077597 0.39549436796 0.49436795995 0.59324155194 0.69211514393 0.79098873592 0.88986232791 0.9887359199/Users/silburt/anaconda2/envs/ml/lib/python2.7/site-packages/ipykernel/__main__.py:76: FutureWarning: convert_objects is deprecated.  Use the data-type specific converters pd.to_datetime, pd.to_timedelta and pd.to_numeric.\n"
     ]
    }
   ],
   "source": [
    "year = 2015\n",
    "stocks = pd.read_csv('csv/nasdaq/Finance.csv',delimiter=\",\")\n",
    "stocks = stocks.loc[stocks['MarketCap']>1e7]  #exclude stocks with small market cap\n",
    "\n",
    "#get data - this will take a minute!\n",
    "X, y, skip = get_data(stocks, year)"
   ]
  },
  {
   "cell_type": "code",
   "execution_count": 19,
   "metadata": {
    "collapsed": false
   },
   "outputs": [],
   "source": [
    "#X['Debt/Equity'] = pd.to_numeric(X['Debt/Equity'])\n",
    "#X = X.convert_objects(convert_numeric=True)"
   ]
  },
  {
   "cell_type": "markdown",
   "metadata": {},
   "source": [
    "## Engineer Features and Process Data\n",
    "Grab columns of interest to be used, replace NaN values, get training/test sets."
   ]
  },
  {
   "cell_type": "code",
   "execution_count": 49,
   "metadata": {
    "collapsed": false
   },
   "outputs": [
    {
     "name": "stdout",
     "output_type": "stream",
     "text": [
      "**Deleted** Accounts Payable: NaN fraction = 0.7020\n",
      "**Deleted** Accounts Receivable: NaN fraction = 0.1948\n",
      "**Deleted** Accrued Liabilities: NaN fraction = 0.5785\n",
      "Asset Turnover: NaN fraction = 0.0218\n",
      "Asset Turnover (Average): NaN fraction = 0.0218\n",
      "Book Value Per Share * USD: NaN fraction = 0.0145\n",
      "**Deleted** COGS: NaN fraction = 0.8939\n",
      "**Deleted** Cap Ex as a % of Sales: NaN fraction = 0.1134\n",
      "**Deleted** Cap Spending USD Mil: NaN fraction = 0.1265\n",
      "Cash & Short-Term Investments: NaN fraction = 0.0116\n",
      "**Deleted** Cash Conversion Cycle: NaN fraction = 0.9826\n",
      "**Deleted** Current Ratio: NaN fraction = 0.8270\n",
      "**Deleted** Days Inventory: NaN fraction = 0.9826\n",
      "**Deleted** Days Sales Outstanding: NaN fraction = 0.8488\n",
      "**Deleted** Debt/Equity: NaN fraction = 0.1366\n",
      "**Deleted** Dividends USD: NaN fraction = 0.2936\n",
      "EBT Margin: NaN fraction = 0.0160\n",
      "Earnings Per Share USD: NaN fraction = 0.0131\n",
      "Financial Leverage: NaN fraction = 0.0160\n",
      "Financial Leverage (Average): NaN fraction = 0.0160\n",
      "**Deleted** Fixed Assets Turnover: NaN fraction = 0.1148\n",
      "**Deleted** Free Cash Flow Growth % YOY: NaN fraction = 0.8140\n",
      "Free Cash Flow Per Share * USD: NaN fraction = 0.0276\n",
      "Free Cash Flow USD Mil: NaN fraction = 0.0945\n",
      "Free Cash Flow/Net Income: NaN fraction = 0.0102\n",
      "Free Cash Flow/Sales %: NaN fraction = 0.0174\n",
      "**Deleted** Gross Margin: NaN fraction = 0.8358\n",
      "**Deleted** Gross Margin %: NaN fraction = 0.8358\n",
      "**Deleted** Intangibles: NaN fraction = 0.2456\n",
      "**Deleted** Interest Coverage: NaN fraction = 0.9041\n",
      "**Deleted** Inventory: NaN fraction = 0.9826\n",
      "**Deleted** Inventory Turnover: NaN fraction = 0.9826\n",
      "**Deleted** Liquidity/Financial Health: NaN fraction = 0.9898\n",
      "Net Income USD Mil: NaN fraction = 0.0698\n",
      "**Deleted** Net Int Inc & Other: NaN fraction = 0.3052\n",
      "Net Margin %: NaN fraction = 0.0203\n",
      "**Deleted** Net PP&E: NaN fraction = 0.1105\n",
      "**Deleted** Operating Cash Flow Growth % YOY: NaN fraction = 0.7965\n",
      "Operating Cash Flow USD Mil: NaN fraction = 0.0974\n",
      "Operating Income USD Mil: NaN fraction = 0.0843\n",
      "Operating Margin: NaN fraction = 0.0145\n",
      "Operating Margin %: NaN fraction = 0.0145\n",
      "Other: NaN fraction = 0.0451\n",
      "**Deleted** Other Current Assets: NaN fraction = 0.7718\n",
      "**Deleted** Other Long-Term Assets: NaN fraction = 0.7558\n",
      "**Deleted** Other Long-Term Liabilities: NaN fraction = 0.7689\n",
      "**Deleted** Other Short-Term Liabilities: NaN fraction = 0.7733\n",
      "**Deleted** Payables Period: NaN fraction = 0.9128\n",
      "**Deleted** Payout Ratio % *: NaN fraction = 0.3140\n",
      "Price: NaN fraction = 0.0000\n",
      "**Deleted** Quick Ratio: NaN fraction = 0.8169\n",
      "**Deleted** R&D: NaN fraction = 0.9869\n",
      "**Deleted** Receivables Turnover: NaN fraction = 0.8387\n",
      "Return on Assets %: NaN fraction = 0.0000\n",
      "Return on Equity %: NaN fraction = 0.0131\n",
      "**Deleted** Return on Invested Capital %: NaN fraction = 0.8256\n",
      "Revenue: NaN fraction = 0.0116\n",
      "**Deleted** Revenue USD Mil: NaN fraction = 0.2587\n",
      "SG&A: NaN fraction = 0.0538\n",
      "Shares Mil: NaN fraction = 0.0320\n",
      "**Deleted** Short-Term Debt: NaN fraction = 0.6948\n",
      "**Deleted** Tax Rate %: NaN fraction = 0.1599\n",
      "Total Assets: NaN fraction = 0.0000\n",
      "**Deleted** Total Current Assets: NaN fraction = 0.8154\n",
      "**Deleted** Total Current Liabilities: NaN fraction = 0.8169\n",
      "Total Liabilities: NaN fraction = 0.0015\n",
      "Total Liabilities & Equity: NaN fraction = 0.0000\n",
      "Total Stockholders' Equity: NaN fraction = 0.0102\n",
      "**Deleted** Working Capital USD Mil: NaN fraction = 0.8459\n"
     ]
    },
    {
     "ename": "ValueError",
     "evalue": "Unable to parse string",
     "output_type": "error",
     "traceback": [
      "\u001b[0;31m---------------------------------------------------------------------------\u001b[0m",
      "\u001b[0;31mValueError\u001b[0m                                Traceback (most recent call last)",
      "\u001b[0;32m<ipython-input-49-1896eef48ef7>\u001b[0m in \u001b[0;36m<module>\u001b[0;34m()\u001b[0m\n\u001b[1;32m      7\u001b[0m         \u001b[0;32mprint\u001b[0m \u001b[0;34m\"**Deleted** %s: NaN fraction = %.4f\"\u001b[0m\u001b[0;34m%\u001b[0m\u001b[0;34m(\u001b[0m\u001b[0mc\u001b[0m\u001b[0;34m,\u001b[0m \u001b[0mfrac_NaN\u001b[0m\u001b[0;34m)\u001b[0m\u001b[0;34m\u001b[0m\u001b[0m\n\u001b[1;32m      8\u001b[0m     \u001b[0;32melse\u001b[0m\u001b[0;34m:\u001b[0m\u001b[0;34m\u001b[0m\u001b[0m\n\u001b[0;32m----> 9\u001b[0;31m         \u001b[0mX\u001b[0m\u001b[0;34m[\u001b[0m\u001b[0mc\u001b[0m\u001b[0;34m]\u001b[0m \u001b[0;34m=\u001b[0m \u001b[0mpd\u001b[0m\u001b[0;34m.\u001b[0m\u001b[0mto_numeric\u001b[0m\u001b[0;34m(\u001b[0m\u001b[0mX\u001b[0m\u001b[0;34m[\u001b[0m\u001b[0mc\u001b[0m\u001b[0;34m]\u001b[0m\u001b[0;34m)\u001b[0m\u001b[0;34m\u001b[0m\u001b[0m\n\u001b[0m\u001b[1;32m     10\u001b[0m         \u001b[0mX\u001b[0m\u001b[0;34m[\u001b[0m\u001b[0mc\u001b[0m\u001b[0;34m]\u001b[0m\u001b[0;34m.\u001b[0m\u001b[0mfillna\u001b[0m\u001b[0;34m(\u001b[0m\u001b[0mX\u001b[0m\u001b[0;34m[\u001b[0m\u001b[0mc\u001b[0m\u001b[0;34m]\u001b[0m\u001b[0;34m.\u001b[0m\u001b[0mmedian\u001b[0m\u001b[0;34m(\u001b[0m\u001b[0;34m)\u001b[0m\u001b[0;34m,\u001b[0m \u001b[0minplace\u001b[0m\u001b[0;34m=\u001b[0m\u001b[0mTrue\u001b[0m\u001b[0;34m)\u001b[0m\u001b[0;34m\u001b[0m\u001b[0m\n\u001b[1;32m     11\u001b[0m         \u001b[0;32mprint\u001b[0m \u001b[0;34m\"%s: NaN fraction = %.4f\"\u001b[0m\u001b[0;34m%\u001b[0m\u001b[0;34m(\u001b[0m\u001b[0mc\u001b[0m\u001b[0;34m,\u001b[0m \u001b[0mfrac_NaN\u001b[0m\u001b[0;34m)\u001b[0m\u001b[0;34m\u001b[0m\u001b[0m\n",
      "\u001b[0;32m/Users/silburt/anaconda2/envs/ml/lib/python2.7/site-packages/pandas/tools/util.pyc\u001b[0m in \u001b[0;36mto_numeric\u001b[0;34m(arg, errors)\u001b[0m\n\u001b[1;32m     96\u001b[0m         conv = lib.maybe_convert_numeric(arg,\n\u001b[1;32m     97\u001b[0m                                          \u001b[0mset\u001b[0m\u001b[0;34m(\u001b[0m\u001b[0;34m)\u001b[0m\u001b[0;34m,\u001b[0m\u001b[0;34m\u001b[0m\u001b[0m\n\u001b[0;32m---> 98\u001b[0;31m                                          coerce_numeric=coerce_numeric)\n\u001b[0m\u001b[1;32m     99\u001b[0m     \u001b[0;32mexcept\u001b[0m\u001b[0;34m:\u001b[0m\u001b[0;34m\u001b[0m\u001b[0m\n\u001b[1;32m    100\u001b[0m         \u001b[0;32mif\u001b[0m \u001b[0merrors\u001b[0m \u001b[0;34m==\u001b[0m \u001b[0;34m'raise'\u001b[0m\u001b[0;34m:\u001b[0m\u001b[0;34m\u001b[0m\u001b[0m\n",
      "\u001b[0;32mpandas/src/inference.pyx\u001b[0m in \u001b[0;36mpandas.lib.maybe_convert_numeric (pandas/lib.c:53932)\u001b[0;34m()\u001b[0m\n",
      "\u001b[0;32mpandas/src/inference.pyx\u001b[0m in \u001b[0;36mpandas.lib.maybe_convert_numeric (pandas/lib.c:53719)\u001b[0;34m()\u001b[0m\n",
      "\u001b[0;31mValueError\u001b[0m: Unable to parse string"
     ]
    }
   ],
   "source": [
    "#delete columns with >10% NaN values...\n",
    "#...for remaining columns, replace NaN values with median\n",
    "for c in X.columns:\n",
    "    frac_NaN = X[c].isnull().sum()/float(len(X))\n",
    "    if frac_NaN > 0.1:\n",
    "        del X[c]\n",
    "        print \"**Deleted** %s: NaN fraction = %.4f\"%(c, frac_NaN)\n",
    "    else:\n",
    "        try:\n",
    "            X[c] = pd.to_numeric(X[c])\n",
    "            X[c].fillna(X[c].median(), inplace=True)\n",
    "            print \"%s: NaN fraction = %.4f\"%(c, frac_NaN)\n",
    "        except:\n",
    "            print \"couldnt convert %s column to numeric. NaN fraction=%.4f\"%(c, frac_NaN)"
   ]
  },
  {
   "cell_type": "code",
   "execution_count": 50,
   "metadata": {
    "collapsed": false
   },
   "outputs": [
    {
     "data": {
      "text/plain": [
       "Index([u'Asset Turnover', u'Asset Turnover (Average)',\n",
       "       u'Book Value Per Share * USD', u'Cash & Short-Term Investments',\n",
       "       u'EBT Margin', u'Earnings Per Share USD', u'Financial Leverage',\n",
       "       u'Financial Leverage (Average)', u'Free Cash Flow Per Share * USD',\n",
       "       u'Free Cash Flow USD Mil', u'Free Cash Flow/Net Income',\n",
       "       u'Free Cash Flow/Sales %', u'Net Income USD Mil', u'Net Margin %',\n",
       "       u'Operating Cash Flow USD Mil', u'Operating Income USD Mil',\n",
       "       u'Operating Margin', u'Operating Margin %', u'Other', u'Price',\n",
       "       u'Return on Assets %', u'Return on Equity %', u'Revenue', u'SG&A',\n",
       "       u'Shares Mil', u'Total Assets', u'Total Liabilities',\n",
       "       u'Total Liabilities & Equity', u'Total Stockholders' Equity', u'index'],\n",
       "      dtype='object')"
      ]
     },
     "execution_count": 50,
     "metadata": {},
     "output_type": "execute_result"
    }
   ],
   "source": [
    "X.columns"
   ]
  },
  {
   "cell_type": "code",
   "execution_count": 53,
   "metadata": {
    "collapsed": false
   },
   "outputs": [],
   "source": [
    "#feature engineering\n",
    "X['Working Capital Ratio'] = X['Total Assets']/X['Total Liabilities']   #how easily that company can turn assets into cash to pay short-term obligations\n",
    "X['P/E Ratio'] = X['Price']/X['Earnings Per Share USD']                 #investors' assessment of future earnings\n",
    "X['P/B Ratio'] = X['Price']/X['Book Value Per Share * USD']\n",
    "X['D/E Ratio'] = X['Total Liabilities']/X[\"Total Stockholders' Equity\"] #debt/equity ratio\n",
    "\n",
    "#features to include for analysis\n",
    "percentiles = ['Net Margin %','Return on Equity %','Return on Assets %','Operating Margin %','Free Cash Flow/Sales %']\n",
    "ratios = ['Book Value Per Share * USD', 'Earnings Per Share USD','Free Cash Flow Per Share * USD','EBT Margin',\n",
    "          'Working Capital Ratio','P/E Ratio','P/B Ratio', 'D/E Ratio', 'Asset Turnover']\n",
    "\n",
    "features = percentiles + ratios"
   ]
  },
  {
   "cell_type": "code",
   "execution_count": 54,
   "metadata": {
    "collapsed": false
   },
   "outputs": [],
   "source": [
    "XX = X[features]"
   ]
  },
  {
   "cell_type": "code",
   "execution_count": 58,
   "metadata": {
    "collapsed": false
   },
   "outputs": [
    {
     "data": {
      "text/html": [
       "<div>\n",
       "<table border=\"1\" class=\"dataframe\">\n",
       "  <thead>\n",
       "    <tr style=\"text-align: right;\">\n",
       "      <th></th>\n",
       "      <th>Net Margin %</th>\n",
       "      <th>Return on Equity %</th>\n",
       "      <th>Return on Assets %</th>\n",
       "      <th>Operating Margin %</th>\n",
       "      <th>Free Cash Flow/Sales %</th>\n",
       "      <th>Book Value Per Share * USD</th>\n",
       "      <th>Earnings Per Share USD</th>\n",
       "      <th>Free Cash Flow Per Share * USD</th>\n",
       "      <th>EBT Margin</th>\n",
       "      <th>Working Capital Ratio</th>\n",
       "      <th>P/E Ratio</th>\n",
       "      <th>P/B Ratio</th>\n",
       "      <th>D/E Ratio</th>\n",
       "      <th>Asset Turnover</th>\n",
       "    </tr>\n",
       "    <tr>\n",
       "      <th>Stock</th>\n",
       "      <th></th>\n",
       "      <th></th>\n",
       "      <th></th>\n",
       "      <th></th>\n",
       "      <th></th>\n",
       "      <th></th>\n",
       "      <th></th>\n",
       "      <th></th>\n",
       "      <th></th>\n",
       "      <th></th>\n",
       "      <th></th>\n",
       "      <th></th>\n",
       "      <th></th>\n",
       "      <th></th>\n",
       "    </tr>\n",
       "  </thead>\n",
       "  <tbody>\n",
       "    <tr>\n",
       "      <th>PIH</th>\n",
       "      <td>-6.17</td>\n",
       "      <td>-3.43</td>\n",
       "      <td>-2.14</td>\n",
       "      <td>-8.6</td>\n",
       "      <td>19.79</td>\n",
       "      <td>7.48</td>\n",
       "      <td>-0.27</td>\n",
       "      <td>1.45</td>\n",
       "      <td>-8.61</td>\n",
       "      <td>2.374169</td>\n",
       "      <td>-28.333333</td>\n",
       "      <td>1.022727</td>\n",
       "      <td>0.727713</td>\n",
       "      <td>0.35</td>\n",
       "    </tr>\n",
       "    <tr>\n",
       "      <th>FCCY</th>\n",
       "      <td>19.88</td>\n",
       "      <td>9.47</td>\n",
       "      <td>0.90</td>\n",
       "      <td>29.2</td>\n",
       "      <td>32.00</td>\n",
       "      <td>11.92</td>\n",
       "      <td>1.07</td>\n",
       "      <td>2.14</td>\n",
       "      <td>29.20</td>\n",
       "      <td>1.110001</td>\n",
       "      <td>11.950756</td>\n",
       "      <td>1.072761</td>\n",
       "      <td>9.090817</td>\n",
       "      <td>0.05</td>\n",
       "    </tr>\n",
       "    <tr>\n",
       "      <th>SRCE</th>\n",
       "      <td>23.01</td>\n",
       "      <td>9.14</td>\n",
       "      <td>1.15</td>\n",
       "      <td>35.4</td>\n",
       "      <td>36.64</td>\n",
       "      <td>24.56</td>\n",
       "      <td>2.17</td>\n",
       "      <td>3.44</td>\n",
       "      <td>35.45</td>\n",
       "      <td>1.141683</td>\n",
       "      <td>13.859179</td>\n",
       "      <td>1.224528</td>\n",
       "      <td>7.058018</td>\n",
       "      <td>0.05</td>\n",
       "    </tr>\n",
       "    <tr>\n",
       "      <th>ABIL</th>\n",
       "      <td>28.29</td>\n",
       "      <td>129.67</td>\n",
       "      <td>23.24</td>\n",
       "      <td>34.3</td>\n",
       "      <td>17.66</td>\n",
       "      <td>0.19</td>\n",
       "      <td>0.60</td>\n",
       "      <td>-0.20</td>\n",
       "      <td>34.09</td>\n",
       "      <td>1.638270</td>\n",
       "      <td>16.500000</td>\n",
       "      <td>52.105263</td>\n",
       "      <td>1.566735</td>\n",
       "      <td>0.82</td>\n",
       "    </tr>\n",
       "    <tr>\n",
       "      <th>ABM</th>\n",
       "      <td>1.56</td>\n",
       "      <td>7.72</td>\n",
       "      <td>3.51</td>\n",
       "      <td>1.5</td>\n",
       "      <td>2.43</td>\n",
       "      <td>17.58</td>\n",
       "      <td>1.33</td>\n",
       "      <td>2.35</td>\n",
       "      <td>1.48</td>\n",
       "      <td>1.881822</td>\n",
       "      <td>20.846357</td>\n",
       "      <td>1.577113</td>\n",
       "      <td>1.134016</td>\n",
       "      <td>2.26</td>\n",
       "    </tr>\n",
       "  </tbody>\n",
       "</table>\n",
       "</div>"
      ],
      "text/plain": [
       "       Net Margin %  Return on Equity %  Return on Assets %  \\\n",
       "Stock                                                         \n",
       "PIH           -6.17               -3.43               -2.14   \n",
       "FCCY          19.88                9.47                0.90   \n",
       "SRCE          23.01                9.14                1.15   \n",
       "ABIL          28.29              129.67               23.24   \n",
       "ABM            1.56                7.72                3.51   \n",
       "\n",
       "       Operating Margin %  Free Cash Flow/Sales %  Book Value Per Share * USD  \\\n",
       "Stock                                                                           \n",
       "PIH                  -8.6                   19.79                        7.48   \n",
       "FCCY                 29.2                   32.00                       11.92   \n",
       "SRCE                 35.4                   36.64                       24.56   \n",
       "ABIL                 34.3                   17.66                        0.19   \n",
       "ABM                   1.5                    2.43                       17.58   \n",
       "\n",
       "       Earnings Per Share USD  Free Cash Flow Per Share * USD  EBT Margin  \\\n",
       "Stock                                                                       \n",
       "PIH                     -0.27                            1.45       -8.61   \n",
       "FCCY                     1.07                            2.14       29.20   \n",
       "SRCE                     2.17                            3.44       35.45   \n",
       "ABIL                     0.60                           -0.20       34.09   \n",
       "ABM                      1.33                            2.35        1.48   \n",
       "\n",
       "       Working Capital Ratio  P/E Ratio  P/B Ratio  D/E Ratio  Asset Turnover  \n",
       "Stock                                                                          \n",
       "PIH                 2.374169 -28.333333   1.022727   0.727713            0.35  \n",
       "FCCY                1.110001  11.950756   1.072761   9.090817            0.05  \n",
       "SRCE                1.141683  13.859179   1.224528   7.058018            0.05  \n",
       "ABIL                1.638270  16.500000  52.105263   1.566735            0.82  \n",
       "ABM                 1.881822  20.846357   1.577113   1.134016            2.26  "
      ]
     },
     "execution_count": 58,
     "metadata": {},
     "output_type": "execute_result"
    }
   ],
   "source": [
    "XX.head()"
   ]
  },
  {
   "cell_type": "code",
   "execution_count": 59,
   "metadata": {
    "collapsed": true
   },
   "outputs": [],
   "source": [
    "from sklearn.model_selection import train_test_split\n",
    "X_train, X_test, y_train, y_test = train_test_split(XX, y, test_size=0.25, random_state=42)"
   ]
  },
  {
   "cell_type": "markdown",
   "metadata": {},
   "source": [
    "## Machine Learning tyme\n",
    "Do an initial search with a high learning rate and few n_estimators, then do a second tune with lower learning rate and many more estimators.  "
   ]
  },
  {
   "cell_type": "code",
   "execution_count": 76,
   "metadata": {
    "collapsed": false
   },
   "outputs": [
    {
     "data": {
      "text/plain": [
       "XGBClassifier(base_score=0.5, colsample_bylevel=1, colsample_bytree=1,\n",
       "       gamma=0, learning_rate=0.1, max_delta_step=0, max_depth=3,\n",
       "       min_child_weight=1, missing=None, n_estimators=100, nthread=-1,\n",
       "       objective='binary:logistic', reg_alpha=0, reg_lambda=1,\n",
       "       scale_pos_weight=1, seed=0, silent=True, subsample=1)"
      ]
     },
     "execution_count": 76,
     "metadata": {},
     "output_type": "execute_result"
    }
   ],
   "source": [
    "import xgboost as xgb\n",
    "from sklearn.model_selection import GridSearchCV, RandomizedSearchCV\n",
    "xgb.XGBClassifier()"
   ]
  },
  {
   "cell_type": "markdown",
   "metadata": {},
   "source": [
    "#### Best params so far\n",
    "-0.111054839795\n",
    "{'n_estimators': 1000, 'learning_rate': 0.01, 'max_depth': 4, 'min_child_weight': 0.1}"
   ]
  },
  {
   "cell_type": "code",
   "execution_count": 64,
   "metadata": {
    "collapsed": false
   },
   "outputs": [
    {
     "name": "stdout",
     "output_type": "stream",
     "text": [
      "-0.135278055089\n",
      "{'colsample_bytree': 1, 'learning_rate': 0.1, 'min_child_weight': 0.5, 'n_estimators': 1000, 'max_depth': 8, 'gamma': 0.2}\n"
     ]
    }
   ],
   "source": [
    "model = xgb.XGBClassifier()\n",
    "n_cv = 3\n",
    "n_iter = 10     #number of RandomizedSearchCV search iterations\n",
    "param_grid={\n",
    "    'learning_rate': [0.1],\n",
    "    'max_depth': [2,4,8,16],\n",
    "    'min_child_weight': [0.1,0.5,1,3],\n",
    "    'colsample_bytree': [0.5,1],\n",
    "    'gamma': [0,0.2,0.4],\n",
    "    'n_estimators':[1000],\n",
    "}\n",
    "\n",
    "grid = RandomizedSearchCV(model, param_distributions=param_grid, n_iter=n_iter, cv=n_cv, scoring='neg_mean_squared_error')\n",
    "grid.fit(X_train,y_train)\n",
    "\n",
    "print(grid.best_score_)\n",
    "print(grid.best_params_)"
   ]
  },
  {
   "cell_type": "code",
   "execution_count": 77,
   "metadata": {
    "collapsed": false
   },
   "outputs": [
    {
     "name": "stdout",
     "output_type": "stream",
     "text": [
      "-0.14184235702\n"
     ]
    }
   ],
   "source": [
    "#Do final train with best parameters, lower learning rate and more estimators\n",
    "model = xgb.XGBClassifier()\n",
    "best_params={\n",
    "    'learning_rate': [1e-2],\n",
    "    'n_estimators':[3000],\n",
    "    'max_depth': [8],\n",
    "    'min_child_weight': [0.5],\n",
    "    'colsample_bytree': [1],\n",
    "    'gamma': [0.2],\n",
    "}\n",
    "final_model = GridSearchCV(model, param_grid=best_params, scoring='neg_mean_squared_error')\n",
    "final_model.fit(X_train,y_train)\n",
    "\n",
    "#best model\n",
    "xgb_model = final_model.best_estimator_\n",
    "print(final_model.best_score_)"
   ]
  },
  {
   "cell_type": "code",
   "execution_count": 79,
   "metadata": {
    "collapsed": false
   },
   "outputs": [
    {
     "data": {
      "text/plain": [
       "<matplotlib.text.Text at 0x108207c90>"
      ]
     },
     "execution_count": 79,
     "metadata": {},
     "output_type": "execute_result"
    },
    {
     "data": {
      "image/png": "[encoded data removed]",
      "text/plain": [
       "<matplotlib.figure.Figure at 0x107229190>"
      ]
     },
     "metadata": {},
     "output_type": "display_data"
    }
   ],
   "source": [
    "#seems equivalent to model.feature_importances_\n",
    "feat_imp = pd.Series(xgb_model.booster().get_fscore()).sort_values(ascending=False) \n",
    "feat_imp.plot(kind='bar', title='Feature Importances')\n",
    "plt.ylabel('Feature Importance Score')"
   ]
  },
  {
   "cell_type": "code",
   "execution_count": 81,
   "metadata": {
    "collapsed": false
   },
   "outputs": [],
   "source": [
    "y_test_predict = xgb_model.predict(X_test)"
   ]
  },
  {
   "cell_type": "code",
   "execution_count": 102,
   "metadata": {
    "collapsed": false
   },
   "outputs": [
    {
     "data": {
      "image/png": "[encoded data removed]",
      "text/plain": [
       "<matplotlib.figure.Figure at 0x14e14e050>"
      ]
     },
     "metadata": {},
     "output_type": "display_data"
    }
   ],
   "source": [
    "_,_,_ = plt.hist((y_test_predict - y_test), 20)"
   ]
  },
  {
   "cell_type": "code",
   "execution_count": 103,
   "metadata": {
    "collapsed": false
   },
   "outputs": [
    {
     "data": {
      "text/plain": [
       "[<matplotlib.lines.Line2D at 0x14d632190>]"
      ]
     },
     "execution_count": 103,
     "metadata": {},
     "output_type": "execute_result"
    },
    {
     "data": {
      "image/png": "[encoded data removed]",
      "text/plain": [
       "<matplotlib.figure.Figure at 0x149c5a9d0>"
      ]
     },
     "metadata": {},
     "output_type": "display_data"
    }
   ],
   "source": [
    "plt.plot(y_test)"
   ]
  },
  {
   "cell_type": "code",
   "execution_count": 100,
   "metadata": {
    "collapsed": false
   },
   "outputs": [
    {
     "data": {
      "image/png": "[encoded data removed]",
      "text/plain": [
       "<matplotlib.figure.Figure at 0x14e17ec90>"
      ]
     },
     "metadata": {},
     "output_type": "display_data"
    }
   ],
   "source": [
    "#plt.plot(y_test_predict, '.', label='predicted')\n",
    "#plt.plot(y_test, '.', label='true')\n",
    "plt.plot((y_test_predict - y_test)/y_test, '.')\n",
    "plt.legend(fontsize=8, numpoints=1)\n",
    "plt.xticks(range(len(y_test)), X_test.index, rotation='vertical', fontsize=8)\n",
    "#plt.xlim([40,80])\n",
    "plt.ylim([-3,3])\n",
    "plt.title('Difference between predicted and true $\\Delta P$ values');"
   ]
  },
  {
   "cell_type": "markdown",
   "metadata": {
    "collapsed": true
   },
   "source": [
    "# Extra"
   ]
  },
  {
   "cell_type": "code",
   "execution_count": null,
   "metadata": {
    "collapsed": true
   },
   "outputs": [],
   "source": [
    "# param_grid={\n",
    "#     'learning_rate': [0.01],\n",
    "#     'max_depth': [4],\n",
    "#     'min_child_weight': [0.1],\n",
    "#     'n_estimators':[2000],\n",
    "# }\n",
    "#grid = GridSearchCV(model, param_grid=param_grid, cv=n_cv, scoring='neg_mean_squared_error')"
   ]
  },
  {
   "cell_type": "code",
   "execution_count": 38,
   "metadata": {
    "collapsed": false
   },
   "outputs": [],
   "source": [
    "#s = \"AA\"\n",
    "#data = get_stock_financials(s,2014)\n",
    "#start = data['index'].values[0]\n",
    "#get_frac_price_change(s,start)\n",
    "\n",
    "#a= get_stock_price_change(\"ACN\",start)\n",
    "#print a"
   ]
  },
  {
   "cell_type": "code",
   "execution_count": 33,
   "metadata": {
    "collapsed": true
   },
   "outputs": [],
   "source": [
    "#This is useful scraping code for extracting the sector that each stock is from...\n",
    "#http://docs.python-guide.org/en/latest/scenarios/scrape/\n",
    "from lxml import html\n",
    "import requests\n",
    "def get_sectors(df,path):\n",
    "    sectors = ['financials', 'healthcare', 'energy', 'basic-materials', 'industrials', \n",
    "           'technology', 'telecoms', 'utilities', 'non-cyclicals']\n",
    "    df['Sector'] = ''\n",
    "    DNF = []\n",
    "    for i,st in enumerate(df['Ticker']):\n",
    "        url = \"http://www.reuters.com/finance/stocks/overview?symbol=%s\"%st\n",
    "        page = requests.get(url)\n",
    "        tree = html.fromstring(page.content)\n",
    "        found_sector = 0\n",
    "        for sec in sectors:\n",
    "            if len(tree.xpath('//a[@href=\"/sectors/%s\"]/text()'%sec)) > 0:\n",
    "                df[\"Sector\"].iloc[i] = sec\n",
    "                found_sector = 1\n",
    "        if found_sector == 0:\n",
    "            DNF.append(st)\n",
    "            #print 'couldnt find sector for %s'%st\n",
    "    df.to_csv(path)\n",
    "    print \"%f stocks did not have a sector found\"%float(len(DNF))/float(len(df['Ticker']))\n",
    "    return df, DNF"
   ]
  },
  {
   "cell_type": "code",
   "execution_count": 32,
   "metadata": {
    "collapsed": false
   },
   "outputs": [],
   "source": [
    "df, dnf = get_sectors(tickers,'csv/wilshire5000_sectors.csv')"
   ]
  },
  {
   "cell_type": "code",
   "execution_count": 24,
   "metadata": {
    "collapsed": false
   },
   "outputs": [],
   "source": [
    "stock = \"AEM\"\n",
    "webpage = \"http://financials.morningstar.com/ajax/exportKR2CSV.html?t=%s&culture=en-CA&region=USA&order=asc&r=314562\"%stock\n",
    "url = URL(webpage)\n",
    "f = open('Fundamental_Analysis/%s_keyratios.csv'%stock, 'wb') # save as test.gif\n",
    "f.write(url.download())\n",
    "f.close()"
   ]
  },
  {
   "cell_type": "code",
   "execution_count": null,
   "metadata": {
    "collapsed": true
   },
   "outputs": [],
   "source": []
  }
 ],
 "metadata": {
  "kernelspec": {
   "display_name": "Python 2",
   "language": "python",
   "name": "python2"
  },
  "language_info": {
   "codemirror_mode": {
    "name": "ipython",
    "version": 2
   },
   "file_extension": ".py",
   "mimetype": "text/x-python",
   "name": "python",
   "nbconvert_exporter": "python",
   "pygments_lexer": "ipython2",
   "version": "2.7.11"
  }
 },
 "nbformat": 4,
 "nbformat_minor": 1
}
