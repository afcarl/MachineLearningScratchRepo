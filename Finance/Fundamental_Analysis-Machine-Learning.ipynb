{
 "cells": [
  {
   "cell_type": "markdown",
   "metadata": {},
   "source": [
    "# Fundamental Analysis\n",
    "This notebook plots various fundamental statistics of different stocks.  \n",
    "These links were helpful:  \n",
    "https://simply-python.com/2015/02/13/getting-historical-financial-statistics-of-stock-using-python/  \n",
    "http://stackoverflow.com/questions/40139537/scrape-yahoo-finance-financial-ratios  \n",
    "https://automatetheboringstuff.com/chapter11/  \n",
    "http://docs.python-guide.org/en/latest/scenarios/scrape/  \n",
    "\n",
    "## Todo\n",
    "- See the Learning rate, to determine if I'm limited by my sample size...\n",
    "- Check classification instead of regression as well - will the stock go up or down? Looks imbalanced set though...\n",
    "- Maybe try predicting only 6 months in advance instead of a year."
   ]
  },
  {
   "cell_type": "code",
   "execution_count": 1,
   "metadata": {
    "collapsed": false
   },
   "outputs": [],
   "source": [
    "import pandas as pd\n",
    "import numpy as np\n",
    "import requests\n",
    "import sys\n",
    "import matplotlib.pyplot as plt\n",
    "from pandas_datareader.data import DataReader\n",
    "from pandas.tseries.offsets import BMonthEnd\n",
    "from pattern.web import URL\n",
    "%matplotlib inline"
   ]
  },
  {
   "cell_type": "markdown",
   "metadata": {},
   "source": [
    "## Choose Sector to analyze\n",
    "- Important to analyze stocks from the same sector, as different sectors have different standards. E.g. a typical Debt/Equity ratio of one sector can be very different from another sector.  \n",
    "- Download stock lists from http://www.nasdaq.com/screening/industries.aspx  "
   ]
  },
  {
   "cell_type": "code",
   "execution_count": 2,
   "metadata": {
    "collapsed": false
   },
   "outputs": [
    {
     "data": {
      "text/html": [
       "<div>\n",
       "<table border=\"1\" class=\"dataframe\">\n",
       "  <thead>\n",
       "    <tr style=\"text-align: right;\">\n",
       "      <th></th>\n",
       "      <th>Symbol</th>\n",
       "      <th>Name</th>\n",
       "      <th>LastSale</th>\n",
       "      <th>MarketCap</th>\n",
       "      <th>ADR TSO</th>\n",
       "      <th>IPOyear</th>\n",
       "      <th>Sector</th>\n",
       "      <th>Industry</th>\n",
       "      <th>Summary Quote</th>\n",
       "      <th>Unnamed: 9</th>\n",
       "    </tr>\n",
       "  </thead>\n",
       "  <tbody>\n",
       "    <tr>\n",
       "      <th>0</th>\n",
       "      <td>FLWS</td>\n",
       "      <td>1-800 FLOWERS.COM, Inc.</td>\n",
       "      <td>9.50</td>\n",
       "      <td>6.201760e+08</td>\n",
       "      <td>n/a</td>\n",
       "      <td>1999</td>\n",
       "      <td>Consumer Services</td>\n",
       "      <td>Other Specialty Stores</td>\n",
       "      <td>http://www.nasdaq.com/symbol/flws</td>\n",
       "      <td>NaN</td>\n",
       "    </tr>\n",
       "    <tr>\n",
       "      <th>1</th>\n",
       "      <td>WBAI</td>\n",
       "      <td>500.com Limited</td>\n",
       "      <td>13.32</td>\n",
       "      <td>5.527541e+08</td>\n",
       "      <td>n/a</td>\n",
       "      <td>2013</td>\n",
       "      <td>Consumer Services</td>\n",
       "      <td>Services-Misc. Amusement &amp; Recreation</td>\n",
       "      <td>http://www.nasdaq.com/symbol/wbai</td>\n",
       "      <td>NaN</td>\n",
       "    </tr>\n",
       "    <tr>\n",
       "      <th>2</th>\n",
       "      <td>AHC</td>\n",
       "      <td>A.H. Belo Corporation</td>\n",
       "      <td>6.50</td>\n",
       "      <td>1.408957e+08</td>\n",
       "      <td>n/a</td>\n",
       "      <td>n/a</td>\n",
       "      <td>Consumer Services</td>\n",
       "      <td>Newspapers/Magazines</td>\n",
       "      <td>http://www.nasdaq.com/symbol/ahc</td>\n",
       "      <td>NaN</td>\n",
       "    </tr>\n",
       "    <tr>\n",
       "      <th>3</th>\n",
       "      <td>ANF</td>\n",
       "      <td>Abercrombie &amp; Fitch Company</td>\n",
       "      <td>11.69</td>\n",
       "      <td>7.911206e+08</td>\n",
       "      <td>n/a</td>\n",
       "      <td>n/a</td>\n",
       "      <td>Consumer Services</td>\n",
       "      <td>Clothing/Shoe/Accessory Stores</td>\n",
       "      <td>http://www.nasdaq.com/symbol/anf</td>\n",
       "      <td>NaN</td>\n",
       "    </tr>\n",
       "    <tr>\n",
       "      <th>4</th>\n",
       "      <td>AKR</td>\n",
       "      <td>Acadia Realty Trust</td>\n",
       "      <td>32.15</td>\n",
       "      <td>2.599758e+09</td>\n",
       "      <td>n/a</td>\n",
       "      <td>n/a</td>\n",
       "      <td>Consumer Services</td>\n",
       "      <td>Real Estate Investment Trusts</td>\n",
       "      <td>http://www.nasdaq.com/symbol/akr</td>\n",
       "      <td>NaN</td>\n",
       "    </tr>\n",
       "  </tbody>\n",
       "</table>\n",
       "</div>"
      ],
      "text/plain": [
       "  Symbol                         Name  LastSale     MarketCap ADR TSO IPOyear  \\\n",
       "0   FLWS      1-800 FLOWERS.COM, Inc.      9.50  6.201760e+08     n/a    1999   \n",
       "1   WBAI              500.com Limited     13.32  5.527541e+08     n/a    2013   \n",
       "2    AHC        A.H. Belo Corporation      6.50  1.408957e+08     n/a     n/a   \n",
       "3    ANF  Abercrombie & Fitch Company     11.69  7.911206e+08     n/a     n/a   \n",
       "4    AKR          Acadia Realty Trust     32.15  2.599758e+09     n/a     n/a   \n",
       "\n",
       "              Sector                               Industry  \\\n",
       "0  Consumer Services                 Other Specialty Stores   \n",
       "1  Consumer Services  Services-Misc. Amusement & Recreation   \n",
       "2  Consumer Services                   Newspapers/Magazines   \n",
       "3  Consumer Services         Clothing/Shoe/Accessory Stores   \n",
       "4  Consumer Services          Real Estate Investment Trusts   \n",
       "\n",
       "                       Summary Quote  Unnamed: 9  \n",
       "0  http://www.nasdaq.com/symbol/flws         NaN  \n",
       "1  http://www.nasdaq.com/symbol/wbai         NaN  \n",
       "2   http://www.nasdaq.com/symbol/ahc         NaN  \n",
       "3   http://www.nasdaq.com/symbol/anf         NaN  \n",
       "4   http://www.nasdaq.com/symbol/akr         NaN  "
      ]
     },
     "execution_count": 2,
     "metadata": {},
     "output_type": "execute_result"
    }
   ],
   "source": [
    "#tickers = pd.read_csv('csv/s&p500.csv',delimiter=\",\")\n",
    "#tickers = pd.read_csv('csv/wilshire5000.csv',delimiter=\",\")\n",
    "industry = 'Consumer_Services'\n",
    "tickers = pd.read_csv('csv/nasdaq/%s.csv'%industry,delimiter=\",\")\n",
    "tickers.head()"
   ]
  },
  {
   "cell_type": "markdown",
   "metadata": {},
   "source": [
    "## Get Data"
   ]
  },
  {
   "cell_type": "code",
   "execution_count": 3,
   "metadata": {
    "collapsed": false,
    "scrolled": false
   },
   "outputs": [],
   "source": [
    "#scrape financial data from Morningstar\n",
    "def get_stock_financials(stock,year):\n",
    "    #pre-load stuff\n",
    "    path = \"Fundamental_Analysis/\"\n",
    "    skiprows = [19,20,31,41,42,43,48,58,53,64,65,72,73,95,101,102]\n",
    "    del_if_present = ['AUD','EUR','BRL','CAD','ARS','CHF','CLP','CNY','COP','GBP','ILS','INR','JPY','KRW','MXN','PEN']\n",
    "    del_columns = ['Year over Year','3-Year Average','5-Year Average','10-Year Average','Taxes Payable','Long-Term Debt']\n",
    "    #scrape/load data\n",
    "    try:\n",
    "        d = pd.read_csv('%s%s_keyratios.csv'%(path, stock), header=2, index_col=0, skiprows=skiprows)\n",
    "    except:\n",
    "        webpage = \"http://financials.morningstar.com/ajax/exportKR2CSV.html?t=%s&culture=en-CA&region=USA&order=asc&r=314562\"%stock\n",
    "        url = URL(webpage)\n",
    "        f = open('%s%s_keyratios.csv'%(path, stock), 'wb') #save key ratios\n",
    "        f.write(url.download())\n",
    "        f.close()\n",
    "        d = pd.read_csv('%s%s_keyratios.csv'%(path, stock), header=2, index_col=0, skiprows=skiprows)\n",
    "    d = d.transpose().reset_index()\n",
    "    #delete annoying repeated columns, ignore if non-US stocks for consistency\n",
    "    for dip in del_if_present:\n",
    "        if np.any(d.columns.str.contains(dip)):            #delete if present\n",
    "            return pd.DataFrame(columns=d.columns)         #return empty dataframe so that this entry will be ignored\n",
    "    d = d.dropna(axis='columns', how='all')\n",
    "    for dc in del_columns: \n",
    "        try:\n",
    "            del d[dc]\n",
    "        except:\n",
    "            pass\n",
    "    #isolate desired year\n",
    "    d = d[d['index'].str.contains(\"%d\"%year)] \n",
    "    #final additions\n",
    "    d.insert(0,'Stock',stock)                              #keep stock ticker\n",
    "    date = last_weekday_of_month(d['index'].values[0])\n",
    "    d.insert(1,'Price',DataReader(stock,'yahoo',date,date)['Adj Close'].values[0]) #get stock price\n",
    "    return d\n",
    "\n",
    "#small helper function for getting target\n",
    "def last_weekday_of_month(date):\n",
    "    return pd.date_range(date, periods=1, freq='BM')\n",
    "\n",
    "#scrapes data from yahoo, gets target\n",
    "def get_frac_price_change(stock,date):\n",
    "    last_current = last_weekday_of_month(date)\n",
    "    ds = date.split('-')\n",
    "    last_future = last_weekday_of_month('%d-%s'%(int(ds[0])+1, ds[1]))\n",
    "    current_price = DataReader(stock, 'yahoo', last_current, last_current)['Adj Close'].values[0]\n",
    "    future_price = DataReader(stock, 'yahoo', last_future, last_future)['Adj Close'].values[0]\n",
    "    return (future_price - current_price)/current_price\n",
    "    \n",
    "#simple progress bar\n",
    "def progress(sequence, every=10):\n",
    "    length = float(len(sequence))\n",
    "    for index, item in enumerate(sequence):\n",
    "        if index % every == 0:\n",
    "            print >>sys.stderr, index/length,\n",
    "        yield item\n",
    "    \n",
    "#Top-level function which acquires all the data\n",
    "def get_data(stocks,year):\n",
    "    #create empty dataframe with available columns\n",
    "    cols = get_stock_financials(stocks[\"Symbol\"][0],year).columns\n",
    "    X = pd.DataFrame(columns=cols)\n",
    "    y = []\n",
    "    skip = []\n",
    "    for s in progress(stocks[\"Symbol\"], len(stocks[\"Symbol\"])/10):\n",
    "        try:\n",
    "            _X = get_stock_financials(s,year)\n",
    "            _y = get_frac_price_change(s,_X['index'].values[0])\n",
    "            if _X.shape[1] > 1 and _y: #only append if alg actually recovered data\n",
    "                X = X.append(_X)\n",
    "                y.append(_y)\n",
    "        except:\n",
    "            skip.append(s)\n",
    "    X = X.set_index('Stock')\n",
    "    #X = pd.to_numeric(X)\n",
    "    X = X.convert_objects(convert_numeric=True)\n",
    "    return X, y, skip"
   ]
  },
  {
   "cell_type": "code",
   "execution_count": 4,
   "metadata": {
    "collapsed": false
   },
   "outputs": [
    {
     "name": "stderr",
     "output_type": "stream",
     "text": [
      "0.0 0.0997409326425 0.199481865285 0.299222797927 0.39896373057 0.498704663212 0.598445595855 0.698186528497 0.79792746114 0.897668393782 0.997409326425/Users/silburt/anaconda2/envs/ml/lib/python2.7/site-packages/ipykernel/__main__.py:76: FutureWarning: convert_objects is deprecated.  Use the data-type specific converters pd.to_datetime, pd.to_timedelta and pd.to_numeric.\n"
     ]
    }
   ],
   "source": [
    "year = 2015\n",
    "stocks = pd.read_csv('csv/nasdaq/%s.csv'%industry,delimiter=\",\")\n",
    "stocks = stocks.loc[stocks['MarketCap']>1e7]  #exclude stocks with small market cap\n",
    "\n",
    "#get data - this will take a minute!\n",
    "X, y, skip = get_data(stocks, year)"
   ]
  },
  {
   "cell_type": "code",
   "execution_count": 5,
   "metadata": {
    "collapsed": false
   },
   "outputs": [],
   "source": [
    "#X['Debt/Equity'] = pd.to_numeric(X['Debt/Equity'])\n",
    "#X = X.convert_objects(convert_numeric=True)"
   ]
  },
  {
   "cell_type": "markdown",
   "metadata": {},
   "source": [
    "## Engineer Features and Process Data\n",
    "Grab columns of interest to be used, replace NaN values, get training/test sets."
   ]
  },
  {
   "cell_type": "code",
   "execution_count": 12,
   "metadata": {
    "collapsed": false
   },
   "outputs": [
    {
     "name": "stdout",
     "output_type": "stream",
     "text": [
      "Accounts Receivable: NaN fraction = 0.0000\n",
      "Asset Turnover: NaN fraction = 0.0000\n",
      "Asset Turnover (Average): NaN fraction = 0.0000\n",
      "Book Value Per Share * USD: NaN fraction = 0.0000\n",
      "COGS: NaN fraction = 0.0000\n",
      "Cap Ex as a % of Sales: NaN fraction = 0.0000\n",
      "Cash & Short-Term Investments: NaN fraction = 0.0000\n",
      "Current Ratio: NaN fraction = 0.0000\n",
      "EBT Margin: NaN fraction = 0.0000\n",
      "Earnings Per Share USD: NaN fraction = 0.0000\n",
      "Financial Leverage: NaN fraction = 0.0000\n",
      "Financial Leverage (Average): NaN fraction = 0.0000\n",
      "Fixed Assets Turnover: NaN fraction = 0.0000\n",
      "Free Cash Flow Per Share * USD: NaN fraction = 0.0000\n",
      "Free Cash Flow USD Mil: NaN fraction = 0.0000\n",
      "Free Cash Flow/Net Income: NaN fraction = 0.0000\n",
      "Free Cash Flow/Sales %: NaN fraction = 0.0000\n",
      "Gross Margin: NaN fraction = 0.0000\n",
      "Gross Margin %: NaN fraction = 0.0000\n",
      "Net Income USD Mil: NaN fraction = 0.0000\n",
      "Net Int Inc & Other: NaN fraction = 0.0000\n",
      "Net Margin %: NaN fraction = 0.0000\n",
      "Net PP&E: NaN fraction = 0.0000\n",
      "Operating Income USD Mil: NaN fraction = 0.0000\n",
      "Operating Margin: NaN fraction = 0.0000\n",
      "Operating Margin %: NaN fraction = 0.0000\n",
      "Other Current Assets: NaN fraction = 0.0000\n",
      "Other Long-Term Assets: NaN fraction = 0.0000\n",
      "Other Long-Term Liabilities: NaN fraction = 0.0000\n",
      "Price: NaN fraction = 0.0000\n",
      "Quick Ratio: NaN fraction = 0.0000\n",
      "Return on Assets %: NaN fraction = 0.0000\n",
      "Return on Equity %: NaN fraction = 0.0000\n",
      "Revenue: NaN fraction = 0.0000\n",
      "SG&A: NaN fraction = 0.0000\n",
      "Shares Mil: NaN fraction = 0.0000\n",
      "Total Assets: NaN fraction = 0.0000\n",
      "Total Current Assets: NaN fraction = 0.0000\n",
      "Total Current Liabilities: NaN fraction = 0.0000\n",
      "Total Liabilities: NaN fraction = 0.0000\n",
      "Total Liabilities & Equity: NaN fraction = 0.0000\n",
      "Total Stockholders' Equity: NaN fraction = 0.0000\n",
      "couldnt convert index column to numeric. NaN fraction=0.0000\n",
      "Working Capital Ratio: NaN fraction = 0.0000\n",
      "P/E Ratio: NaN fraction = 0.0000\n",
      "P/B Ratio: NaN fraction = 0.0000\n",
      "D/E Ratio: NaN fraction = 0.0000\n"
     ]
    }
   ],
   "source": [
    "#delete columns with >10% NaN values...\n",
    "#...for remaining columns, replace NaN values with median\n",
    "for c in X.columns:\n",
    "    frac_NaN = X[c].isnull().sum()/float(len(X))\n",
    "    if frac_NaN > 0.1:\n",
    "        del X[c]\n",
    "        print \"**Deleted** %s: NaN fraction = %.4f\"%(c, frac_NaN)\n",
    "    else:\n",
    "        try:\n",
    "            X[c] = pd.to_numeric(X[c])\n",
    "            X[c].fillna(X[c].median(), inplace=True)\n",
    "            print \"%s: NaN fraction = %.4f\"%(c, frac_NaN)\n",
    "        except:\n",
    "            print \"couldnt convert %s column to numeric. NaN fraction=%.4f\"%(c, frac_NaN)"
   ]
  },
  {
   "cell_type": "code",
   "execution_count": 7,
   "metadata": {
    "collapsed": false
   },
   "outputs": [
    {
     "data": {
      "text/plain": [
       "Index([u'Accounts Receivable', u'Asset Turnover', u'Asset Turnover (Average)',\n",
       "       u'Book Value Per Share * USD', u'COGS', u'Cap Ex as a % of Sales',\n",
       "       u'Cash & Short-Term Investments', u'Current Ratio', u'EBT Margin',\n",
       "       u'Earnings Per Share USD', u'Financial Leverage',\n",
       "       u'Financial Leverage (Average)', u'Fixed Assets Turnover',\n",
       "       u'Free Cash Flow Per Share * USD', u'Free Cash Flow USD Mil',\n",
       "       u'Free Cash Flow/Net Income', u'Free Cash Flow/Sales %',\n",
       "       u'Gross Margin', u'Gross Margin %', u'Net Income USD Mil',\n",
       "       u'Net Int Inc & Other', u'Net Margin %', u'Net PP&E',\n",
       "       u'Operating Income USD Mil', u'Operating Margin', u'Operating Margin %',\n",
       "       u'Other Current Assets', u'Other Long-Term Assets',\n",
       "       u'Other Long-Term Liabilities', u'Price', u'Quick Ratio',\n",
       "       u'Return on Assets %', u'Return on Equity %', u'Revenue', u'SG&A',\n",
       "       u'Shares Mil', u'Total Assets', u'Total Current Assets',\n",
       "       u'Total Current Liabilities', u'Total Liabilities',\n",
       "       u'Total Liabilities & Equity', u'Total Stockholders' Equity', u'index'],\n",
       "      dtype='object')"
      ]
     },
     "execution_count": 7,
     "metadata": {},
     "output_type": "execute_result"
    }
   ],
   "source": [
    "X.columns"
   ]
  },
  {
   "cell_type": "code",
   "execution_count": 8,
   "metadata": {
    "collapsed": false
   },
   "outputs": [],
   "source": [
    "#feature engineering\n",
    "X['Working Capital Ratio'] = X['Total Assets']/X['Total Liabilities']   #how easily that company can turn assets into cash to pay short-term obligations\n",
    "X['P/E Ratio'] = X['Price']/X['Earnings Per Share USD']                 #investors' assessment of future earnings\n",
    "X['P/B Ratio'] = X['Price']/X['Book Value Per Share * USD']\n",
    "X['D/E Ratio'] = X['Total Liabilities']/X[\"Total Stockholders' Equity\"] #debt/equity ratio\n",
    "\n",
    "#features to include for analysis\n",
    "percentiles = ['Net Margin %','Return on Equity %','Return on Assets %','Operating Margin %','Free Cash Flow/Sales %',\n",
    "              'Gross Margin %']\n",
    "ratios = ['Book Value Per Share * USD', 'Earnings Per Share USD','Free Cash Flow Per Share * USD','EBT Margin',\n",
    "          'Working Capital Ratio','P/E Ratio','P/B Ratio', 'D/E Ratio', 'Asset Turnover', 'Quick Ratio', \n",
    "          'Current Ratio', 'Financial Leverage']\n",
    "\n",
    "features = percentiles + ratios"
   ]
  },
  {
   "cell_type": "code",
   "execution_count": 9,
   "metadata": {
    "collapsed": false
   },
   "outputs": [],
   "source": [
    "XX = X[features]"
   ]
  },
  {
   "cell_type": "code",
   "execution_count": 10,
   "metadata": {
    "collapsed": false
   },
   "outputs": [
    {
     "data": {
      "text/html": [
       "<div>\n",
       "<table border=\"1\" class=\"dataframe\">\n",
       "  <thead>\n",
       "    <tr style=\"text-align: right;\">\n",
       "      <th></th>\n",
       "      <th>Net Margin %</th>\n",
       "      <th>Return on Equity %</th>\n",
       "      <th>Return on Assets %</th>\n",
       "      <th>Operating Margin %</th>\n",
       "      <th>Free Cash Flow/Sales %</th>\n",
       "      <th>Gross Margin %</th>\n",
       "      <th>Book Value Per Share * USD</th>\n",
       "      <th>Earnings Per Share USD</th>\n",
       "      <th>Free Cash Flow Per Share * USD</th>\n",
       "      <th>EBT Margin</th>\n",
       "      <th>Working Capital Ratio</th>\n",
       "      <th>P/E Ratio</th>\n",
       "      <th>P/B Ratio</th>\n",
       "      <th>D/E Ratio</th>\n",
       "      <th>Asset Turnover</th>\n",
       "      <th>Quick Ratio</th>\n",
       "      <th>Current Ratio</th>\n",
       "      <th>Financial Leverage</th>\n",
       "    </tr>\n",
       "    <tr>\n",
       "      <th>Stock</th>\n",
       "      <th></th>\n",
       "      <th></th>\n",
       "      <th></th>\n",
       "      <th></th>\n",
       "      <th></th>\n",
       "      <th></th>\n",
       "      <th></th>\n",
       "      <th></th>\n",
       "      <th></th>\n",
       "      <th></th>\n",
       "      <th></th>\n",
       "      <th></th>\n",
       "      <th></th>\n",
       "      <th></th>\n",
       "      <th></th>\n",
       "      <th></th>\n",
       "      <th></th>\n",
       "      <th></th>\n",
       "    </tr>\n",
       "  </thead>\n",
       "  <tbody>\n",
       "    <tr>\n",
       "      <th>FLWS</th>\n",
       "      <td>1.81</td>\n",
       "      <td>10.36</td>\n",
       "      <td>5.27</td>\n",
       "      <td>3.4</td>\n",
       "      <td>8.31</td>\n",
       "      <td>43.4</td>\n",
       "      <td>3.35</td>\n",
       "      <td>0.30</td>\n",
       "      <td>1.89</td>\n",
       "      <td>2.70</td>\n",
       "      <td>1.710279</td>\n",
       "      <td>34.866667</td>\n",
       "      <td>3.122388</td>\n",
       "      <td>1.407898</td>\n",
       "      <td>2.91</td>\n",
       "      <td>0.38</td>\n",
       "      <td>1.29</td>\n",
       "      <td>2.40</td>\n",
       "    </tr>\n",
       "    <tr>\n",
       "      <th>AHC</th>\n",
       "      <td>-6.56</td>\n",
       "      <td>-14.65</td>\n",
       "      <td>-6.86</td>\n",
       "      <td>-6.7</td>\n",
       "      <td>-4.55</td>\n",
       "      <td>42.4</td>\n",
       "      <td>5.63</td>\n",
       "      <td>-0.84</td>\n",
       "      <td>-2.09</td>\n",
       "      <td>-7.26</td>\n",
       "      <td>2.135383</td>\n",
       "      <td>-5.552792</td>\n",
       "      <td>0.828480</td>\n",
       "      <td>0.880760</td>\n",
       "      <td>1.05</td>\n",
       "      <td>2.82</td>\n",
       "      <td>3.17</td>\n",
       "      <td>1.88</td>\n",
       "    </tr>\n",
       "    <tr>\n",
       "      <th>ANF</th>\n",
       "      <td>1.38</td>\n",
       "      <td>3.32</td>\n",
       "      <td>1.94</td>\n",
       "      <td>3.0</td>\n",
       "      <td>3.68</td>\n",
       "      <td>61.8</td>\n",
       "      <td>20.12</td>\n",
       "      <td>0.71</td>\n",
       "      <td>3.46</td>\n",
       "      <td>2.65</td>\n",
       "      <td>2.245677</td>\n",
       "      <td>33.732790</td>\n",
       "      <td>1.190372</td>\n",
       "      <td>0.802776</td>\n",
       "      <td>1.39</td>\n",
       "      <td>1.18</td>\n",
       "      <td>2.40</td>\n",
       "      <td>1.80</td>\n",
       "    </tr>\n",
       "    <tr>\n",
       "      <th>AKR</th>\n",
       "      <td>30.24</td>\n",
       "      <td>6.10</td>\n",
       "      <td>2.28</td>\n",
       "      <td>28.8</td>\n",
       "      <td>-181.90</td>\n",
       "      <td>73.1</td>\n",
       "      <td>15.49</td>\n",
       "      <td>0.94</td>\n",
       "      <td>-7.32</td>\n",
       "      <td>69.85</td>\n",
       "      <td>1.569612</td>\n",
       "      <td>34.072463</td>\n",
       "      <td>2.067664</td>\n",
       "      <td>1.755580</td>\n",
       "      <td>0.08</td>\n",
       "      <td>1.48</td>\n",
       "      <td>1.97</td>\n",
       "      <td>2.76</td>\n",
       "    </tr>\n",
       "    <tr>\n",
       "      <th>ATV</th>\n",
       "      <td>-84.46</td>\n",
       "      <td>-29.80</td>\n",
       "      <td>-21.92</td>\n",
       "      <td>-85.9</td>\n",
       "      <td>-47.02</td>\n",
       "      <td>26.6</td>\n",
       "      <td>23.82</td>\n",
       "      <td>-10.20</td>\n",
       "      <td>-11.37</td>\n",
       "      <td>-83.79</td>\n",
       "      <td>3.858025</td>\n",
       "      <td>-0.533333</td>\n",
       "      <td>0.228380</td>\n",
       "      <td>0.349892</td>\n",
       "      <td>0.26</td>\n",
       "      <td>0.82</td>\n",
       "      <td>1.72</td>\n",
       "      <td>1.35</td>\n",
       "    </tr>\n",
       "  </tbody>\n",
       "</table>\n",
       "</div>"
      ],
      "text/plain": [
       "       Net Margin %  Return on Equity %  Return on Assets %  \\\n",
       "Stock                                                         \n",
       "FLWS           1.81               10.36                5.27   \n",
       "AHC           -6.56              -14.65               -6.86   \n",
       "ANF            1.38                3.32                1.94   \n",
       "AKR           30.24                6.10                2.28   \n",
       "ATV          -84.46              -29.80              -21.92   \n",
       "\n",
       "       Operating Margin %  Free Cash Flow/Sales %  Gross Margin %  \\\n",
       "Stock                                                               \n",
       "FLWS                  3.4                    8.31            43.4   \n",
       "AHC                  -6.7                   -4.55            42.4   \n",
       "ANF                   3.0                    3.68            61.8   \n",
       "AKR                  28.8                 -181.90            73.1   \n",
       "ATV                 -85.9                  -47.02            26.6   \n",
       "\n",
       "       Book Value Per Share * USD  Earnings Per Share USD  \\\n",
       "Stock                                                       \n",
       "FLWS                         3.35                    0.30   \n",
       "AHC                          5.63                   -0.84   \n",
       "ANF                         20.12                    0.71   \n",
       "AKR                         15.49                    0.94   \n",
       "ATV                         23.82                  -10.20   \n",
       "\n",
       "       Free Cash Flow Per Share * USD  EBT Margin  Working Capital Ratio  \\\n",
       "Stock                                                                      \n",
       "FLWS                             1.89        2.70               1.710279   \n",
       "AHC                             -2.09       -7.26               2.135383   \n",
       "ANF                              3.46        2.65               2.245677   \n",
       "AKR                             -7.32       69.85               1.569612   \n",
       "ATV                            -11.37      -83.79               3.858025   \n",
       "\n",
       "       P/E Ratio  P/B Ratio  D/E Ratio  Asset Turnover  Quick Ratio  \\\n",
       "Stock                                                                 \n",
       "FLWS   34.866667   3.122388   1.407898            2.91         0.38   \n",
       "AHC    -5.552792   0.828480   0.880760            1.05         2.82   \n",
       "ANF    33.732790   1.190372   0.802776            1.39         1.18   \n",
       "AKR    34.072463   2.067664   1.755580            0.08         1.48   \n",
       "ATV    -0.533333   0.228380   0.349892            0.26         0.82   \n",
       "\n",
       "       Current Ratio  Financial Leverage  \n",
       "Stock                                     \n",
       "FLWS            1.29                2.40  \n",
       "AHC             3.17                1.88  \n",
       "ANF             2.40                1.80  \n",
       "AKR             1.97                2.76  \n",
       "ATV             1.72                1.35  "
      ]
     },
     "execution_count": 10,
     "metadata": {},
     "output_type": "execute_result"
    }
   ],
   "source": [
    "XX.head()"
   ]
  },
  {
   "cell_type": "code",
   "execution_count": 13,
   "metadata": {
    "collapsed": true
   },
   "outputs": [],
   "source": [
    "from sklearn.model_selection import train_test_split\n",
    "X_train, X_test, y_train, y_test = train_test_split(XX, y, test_size=0.2, random_state=42)"
   ]
  },
  {
   "cell_type": "markdown",
   "metadata": {},
   "source": [
    "## Machine Learning tyme\n",
    "Do an initial search with a high learning rate and few n_estimators, then do a second tune with lower learning rate and many more estimators.  "
   ]
  },
  {
   "cell_type": "code",
   "execution_count": 14,
   "metadata": {
    "collapsed": false
   },
   "outputs": [
    {
     "name": "stderr",
     "output_type": "stream",
     "text": [
      "/Users/silburt/anaconda2/envs/ml/lib/python2.7/site-packages/sklearn/cross_validation.py:44: DeprecationWarning: This module was deprecated in version 0.18 in favor of the model_selection module into which all the refactored classes and functions are moved. Also note that the interface of the new CV iterators are different from that of this module. This module will be removed in 0.20.\n",
      "  \"This module will be removed in 0.20.\", DeprecationWarning)\n"
     ]
    },
    {
     "data": {
      "text/plain": [
       "XGBRegressor(base_score=0.5, colsample_bylevel=1, colsample_bytree=1, gamma=0,\n",
       "       learning_rate=0.1, max_delta_step=0, max_depth=3,\n",
       "       min_child_weight=1, missing=None, n_estimators=100, nthread=-1,\n",
       "       objective='reg:linear', reg_alpha=0, reg_lambda=1,\n",
       "       scale_pos_weight=1, seed=0, silent=True, subsample=1)"
      ]
     },
     "execution_count": 14,
     "metadata": {},
     "output_type": "execute_result"
    }
   ],
   "source": [
    "import xgboost as xgb\n",
    "from sklearn.model_selection import GridSearchCV, RandomizedSearchCV\n",
    "xgb.XGBRegressor()"
   ]
  },
  {
   "cell_type": "markdown",
   "metadata": {},
   "source": [
    "#### Best params so far\n",
    "-0.111054839795\n",
    "{'n_estimators': 1000, 'learning_rate': 0.01, 'max_depth': 4, 'min_child_weight': 0.1}"
   ]
  },
  {
   "cell_type": "code",
   "execution_count": 27,
   "metadata": {
    "collapsed": false
   },
   "outputs": [
    {
     "name": "stdout",
     "output_type": "stream",
     "text": [
      "-0.131820566889\n",
      "{'colsample_bytree': 1, 'learning_rate': 0.1, 'min_child_weight': 3, 'n_estimators': 1000, 'max_depth': 16, 'gamma': 0.4}\n"
     ]
    }
   ],
   "source": [
    "model = xgb.XGBRegressor()\n",
    "n_cv = 3\n",
    "n_iter = 15     #number of RandomizedSearchCV search iterations\n",
    "param_grid={\n",
    "    'learning_rate': [0.1],\n",
    "    'max_depth': [2,4,8,16],\n",
    "    'min_child_weight': [0.1,0.5,1,3],\n",
    "    'colsample_bytree': [0.2,0.5,1],\n",
    "    'gamma': [0,0.2,0.4],\n",
    "    'n_estimators':[1000],\n",
    "}\n",
    "\n",
    "grid = RandomizedSearchCV(model, param_distributions=param_grid, n_iter=n_iter, cv=n_cv, scoring='neg_mean_squared_error')\n",
    "grid.fit(X_train,y_train)\n",
    "\n",
    "print(grid.best_score_)\n",
    "print(grid.best_params_)"
   ]
  },
  {
   "cell_type": "code",
   "execution_count": 28,
   "metadata": {
    "collapsed": false
   },
   "outputs": [
    {
     "name": "stdout",
     "output_type": "stream",
     "text": [
      "-0.129371644896\n"
     ]
    }
   ],
   "source": [
    "#Do final train with best parameters, lower learning rate and more estimators\n",
    "model = xgb.XGBRegressor()\n",
    "best_params={\n",
    "    'learning_rate': [1e-2],\n",
    "    'n_estimators':[3000],\n",
    "    'max_depth': [16],\n",
    "    'min_child_weight': [3],\n",
    "    'colsample_bytree': [1],\n",
    "    'gamma': [0.4],\n",
    "}\n",
    "final_model = GridSearchCV(model, param_grid=best_params, scoring='neg_mean_squared_error')\n",
    "final_model.fit(X_train,y_train)\n",
    "\n",
    "#best model\n",
    "xgb_model = final_model.best_estimator_\n",
    "print(final_model.best_score_)"
   ]
  },
  {
   "cell_type": "code",
   "execution_count": 29,
   "metadata": {
    "collapsed": false
   },
   "outputs": [
    {
     "data": {
      "text/plain": [
       "<matplotlib.text.Text at 0x110df7110>"
      ]
     },
     "execution_count": 29,
     "metadata": {},
     "output_type": "execute_result"
    },
    {
     "data": {
      "image/png": "[encoded data removed]",
      "text/plain": [
       "<matplotlib.figure.Figure at 0x11142e590>"
      ]
     },
     "metadata": {},
     "output_type": "display_data"
    }
   ],
   "source": [
    "#seems equivalent to model.feature_importances_\n",
    "feat_imp = pd.Series(xgb_model.booster().get_fscore()).sort_values(ascending=False) \n",
    "feat_imp.plot(kind='bar', title='Feature Importances')\n",
    "plt.ylabel('Feature Importance Score')"
   ]
  },
  {
   "cell_type": "code",
   "execution_count": 30,
   "metadata": {
    "collapsed": false
   },
   "outputs": [],
   "source": [
    "y_test_predict = xgb_model.predict(X_test)"
   ]
  },
  {
   "cell_type": "code",
   "execution_count": 31,
   "metadata": {
    "collapsed": false
   },
   "outputs": [
    {
     "data": {
      "image/png": "[encoded data removed]",
      "text/plain": [
       "<matplotlib.figure.Figure at 0x11143b210>"
      ]
     },
     "metadata": {},
     "output_type": "display_data"
    }
   ],
   "source": [
    "_,_,_ = plt.hist((y_test_predict - y_test), 20)"
   ]
  },
  {
   "cell_type": "code",
   "execution_count": 33,
   "metadata": {
    "collapsed": false
   },
   "outputs": [
    {
     "data": {
      "image/png": "[encoded data removed]",
      "text/plain": [
       "<matplotlib.figure.Figure at 0x114160a50>"
      ]
     },
     "metadata": {},
     "output_type": "display_data"
    }
   ],
   "source": [
    "#plt.plot(y_test_predict, '.', label='predicted')\n",
    "#plt.plot(y_test, '.', label='true')\n",
    "plt.plot((y_test_predict - y_test)/y_test, '.')\n",
    "plt.legend(fontsize=8, numpoints=1)\n",
    "plt.xticks(range(len(y_test)), X_test.index, rotation='vertical', fontsize=8)\n",
    "#plt.xlim([40,80])\n",
    "plt.ylim([-3,3])\n",
    "plt.title('Difference between predicted and true $\\Delta P$ values');"
   ]
  },
  {
   "cell_type": "markdown",
   "metadata": {
    "collapsed": true
   },
   "source": [
    "# Extra"
   ]
  },
  {
   "cell_type": "code",
   "execution_count": null,
   "metadata": {
    "collapsed": true
   },
   "outputs": [],
   "source": [
    "# param_grid={\n",
    "#     'learning_rate': [0.01],\n",
    "#     'max_depth': [4],\n",
    "#     'min_child_weight': [0.1],\n",
    "#     'n_estimators':[2000],\n",
    "# }\n",
    "#grid = GridSearchCV(model, param_grid=param_grid, cv=n_cv, scoring='neg_mean_squared_error')"
   ]
  },
  {
   "cell_type": "code",
   "execution_count": 38,
   "metadata": {
    "collapsed": false
   },
   "outputs": [],
   "source": [
    "#s = \"AA\"\n",
    "#data = get_stock_financials(s,2014)\n",
    "#start = data['index'].values[0]\n",
    "#get_frac_price_change(s,start)\n",
    "\n",
    "#a= get_stock_price_change(\"ACN\",start)\n",
    "#print a"
   ]
  },
  {
   "cell_type": "code",
   "execution_count": 33,
   "metadata": {
    "collapsed": true
   },
   "outputs": [],
   "source": [
    "#This is useful scraping code for extracting the sector that each stock is from...\n",
    "#http://docs.python-guide.org/en/latest/scenarios/scrape/\n",
    "from lxml import html\n",
    "import requests\n",
    "def get_sectors(df,path):\n",
    "    sectors = ['financials', 'healthcare', 'energy', 'basic-materials', 'industrials', \n",
    "           'technology', 'telecoms', 'utilities', 'non-cyclicals']\n",
    "    df['Sector'] = ''\n",
    "    DNF = []\n",
    "    for i,st in enumerate(df['Ticker']):\n",
    "        url = \"http://www.reuters.com/finance/stocks/overview?symbol=%s\"%st\n",
    "        page = requests.get(url)\n",
    "        tree = html.fromstring(page.content)\n",
    "        found_sector = 0\n",
    "        for sec in sectors:\n",
    "            if len(tree.xpath('//a[@href=\"/sectors/%s\"]/text()'%sec)) > 0:\n",
    "                df[\"Sector\"].iloc[i] = sec\n",
    "                found_sector = 1\n",
    "        if found_sector == 0:\n",
    "            DNF.append(st)\n",
    "            #print 'couldnt find sector for %s'%st\n",
    "    df.to_csv(path)\n",
    "    print \"%f stocks did not have a sector found\"%float(len(DNF))/float(len(df['Ticker']))\n",
    "    return df, DNF"
   ]
  },
  {
   "cell_type": "code",
   "execution_count": 32,
   "metadata": {
    "collapsed": false
   },
   "outputs": [],
   "source": [
    "df, dnf = get_sectors(tickers,'csv/wilshire5000_sectors.csv')"
   ]
  },
  {
   "cell_type": "code",
   "execution_count": 24,
   "metadata": {
    "collapsed": false
   },
   "outputs": [],
   "source": [
    "stock = \"AEM\"\n",
    "webpage = \"http://financials.morningstar.com/ajax/exportKR2CSV.html?t=%s&culture=en-CA&region=USA&order=asc&r=314562\"%stock\n",
    "url = URL(webpage)\n",
    "f = open('Fundamental_Analysis/%s_keyratios.csv'%stock, 'wb') # save as test.gif\n",
    "f.write(url.download())\n",
    "f.close()"
   ]
  },
  {
   "cell_type": "code",
   "execution_count": null,
   "metadata": {
    "collapsed": true
   },
   "outputs": [],
   "source": []
  }
 ],
 "metadata": {
  "kernelspec": {
   "display_name": "Python 2",
   "language": "python",
   "name": "python2"
  },
  "language_info": {
   "codemirror_mode": {
    "name": "ipython",
    "version": 2
   },
   "file_extension": ".py",
   "mimetype": "text/x-python",
   "name": "python",
   "nbconvert_exporter": "python",
   "pygments_lexer": "ipython2",
   "version": "2.7.11"
  }
 },
 "nbformat": 4,
 "nbformat_minor": 1
}
