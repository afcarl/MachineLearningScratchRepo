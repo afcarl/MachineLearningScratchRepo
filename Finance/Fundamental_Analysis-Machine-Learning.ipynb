{
 "cells": [
  {
   "cell_type": "markdown",
   "metadata": {},
   "source": [
    "# Fundamental Analysis\n",
    "This notebook plots various fundamental statistics of different stocks.  \n",
    "These links were helpful:  \n",
    "https://simply-python.com/2015/02/13/getting-historical-financial-statistics-of-stock-using-python/  \n",
    "http://stackoverflow.com/questions/40139537/scrape-yahoo-finance-financial-ratios  \n",
    "https://automatetheboringstuff.com/chapter11/  \n",
    "\n",
    "## Todo\n",
    "- Also need to make sure you're using stocks from the **same sector**, as different sectors can have different debt/equity standards, profit margins, etc.\n",
    "- Then, just get that ML algorithm working baybee."
   ]
  },
  {
   "cell_type": "code",
   "execution_count": 1,
   "metadata": {
    "collapsed": false
   },
   "outputs": [],
   "source": [
    "import pandas as pd\n",
    "import numpy as np\n",
    "import requests\n",
    "from pprint import pprint as pp\n",
    "import matplotlib.pyplot as plt\n",
    "from pandas_datareader.data import DataReader\n",
    "from pandas.tseries.offsets import BMonthEnd\n",
    "from pattern.web import URL\n",
    "%matplotlib inline"
   ]
  },
  {
   "cell_type": "code",
   "execution_count": 2,
   "metadata": {
    "collapsed": false
   },
   "outputs": [
    {
     "name": "stdout",
     "output_type": "stream",
     "text": [
      "['Industrials' 'Health Care' 'Information Technology'\n",
      " 'Consumer Discretionary' 'Utilities' 'Financials' 'Materials'\n",
      " 'Consumer Staples' 'Energy' 'Telecommunications Services']\n"
     ]
    },
    {
     "data": {
      "text/html": [
       "<div>\n",
       "<table border=\"1\" class=\"dataframe\">\n",
       "  <thead>\n",
       "    <tr style=\"text-align: right;\">\n",
       "      <th></th>\n",
       "      <th>Symbol</th>\n",
       "      <th>Name</th>\n",
       "      <th>Sector</th>\n",
       "    </tr>\n",
       "  </thead>\n",
       "  <tbody>\n",
       "    <tr>\n",
       "      <th>0</th>\n",
       "      <td>MMM</td>\n",
       "      <td>3M Company</td>\n",
       "      <td>Industrials</td>\n",
       "    </tr>\n",
       "    <tr>\n",
       "      <th>1</th>\n",
       "      <td>ABT</td>\n",
       "      <td>Abbott Laboratories</td>\n",
       "      <td>Health Care</td>\n",
       "    </tr>\n",
       "    <tr>\n",
       "      <th>2</th>\n",
       "      <td>ABBV</td>\n",
       "      <td>AbbVie</td>\n",
       "      <td>Health Care</td>\n",
       "    </tr>\n",
       "    <tr>\n",
       "      <th>3</th>\n",
       "      <td>ACN</td>\n",
       "      <td>Accenture plc</td>\n",
       "      <td>Information Technology</td>\n",
       "    </tr>\n",
       "    <tr>\n",
       "      <th>4</th>\n",
       "      <td>ATVI</td>\n",
       "      <td>Activision Blizzard</td>\n",
       "      <td>Information Technology</td>\n",
       "    </tr>\n",
       "  </tbody>\n",
       "</table>\n",
       "</div>"
      ],
      "text/plain": [
       "  Symbol                 Name                  Sector\n",
       "0    MMM           3M Company             Industrials\n",
       "1    ABT  Abbott Laboratories             Health Care\n",
       "2   ABBV               AbbVie             Health Care\n",
       "3    ACN        Accenture plc  Information Technology\n",
       "4   ATVI  Activision Blizzard  Information Technology"
      ]
     },
     "execution_count": 2,
     "metadata": {},
     "output_type": "execute_result"
    }
   ],
   "source": [
    "tickers = pd.read_csv('csv/s&p500.csv',delimiter=\",\")\n",
    "print tickers[\"Sector\"].unique()\n",
    "tickers.head()"
   ]
  },
  {
   "cell_type": "code",
   "execution_count": 46,
   "metadata": {
    "collapsed": false,
    "scrolled": false
   },
   "outputs": [],
   "source": [
    "#scrapes financial data from Morningstar\n",
    "def get_stock_financials(stock,year):\n",
    "    path = \"Fundamental_Analysis/\"\n",
    "    skiprows = [19,20,31,41,42,43,48,58,53,64,65,72,73,95,101,102]\n",
    "    del_columns = ['Year over Year','3-Year Average','5-Year Average','10-Year Average','Taxes Payable','Long-Term Debt']\n",
    "    try:\n",
    "        d = pd.read_csv('%s%s_keyratios.csv'%(path, stock), header=2, index_col=0, skiprows=skiprows, dtype='float')\n",
    "    except:\n",
    "        webpage = \"http://financials.morningstar.com/ajax/exportKR2CSV.html?t=%s&culture=en-CA&region=USA&order=asc&r=314562\"%stock\n",
    "        url = URL(webpage)\n",
    "        f = open('%s%s_keyratios.csv'%(path, stock), 'wb') # save as test.gif\n",
    "        f.write(url.download())\n",
    "        f.close()\n",
    "        d = pd.read_csv('%s%s_keyratios.csv'%(path, stock), header=2, index_col=0, skiprows=skiprows, dtype='float')\n",
    "    d = d.transpose().reset_index()\n",
    "    d = d.dropna(axis='columns', how='all')\n",
    "    d.insert(0,'stock',stock)\n",
    "    for dc in del_columns: #delete annoying repeated columns\n",
    "        try:\n",
    "            del d[dc]\n",
    "        except:\n",
    "            pass\n",
    "    return d[d['index'].str.contains(\"%d\"%year)]\n",
    "\n",
    "def last_weekday_of_month(date):\n",
    "    return pd.date_range(date, periods=1, freq='BM')\n",
    "\n",
    "def get_frac_price_change(stock,date):\n",
    "    last_current = last_weekday_of_month(date)\n",
    "    ds = date.split('-')\n",
    "    last_future = last_weekday_of_month('%d-%s'%(int(ds[0])+1, ds[1]))\n",
    "    current_price = DataReader(stock, 'yahoo', last_current, last_current)['Adj Close'].values[0]\n",
    "    future_price = DataReader(stock, 'yahoo', last_future, last_future)['Adj Close'].values[0]\n",
    "    return (future_price - current_price)/current_price"
   ]
  },
  {
   "cell_type": "markdown",
   "metadata": {},
   "source": [
    "## Get Data\n",
    "Process data, could take a moment."
   ]
  },
  {
   "cell_type": "code",
   "execution_count": 32,
   "metadata": {
    "collapsed": false
   },
   "outputs": [
    {
     "name": "stdout",
     "output_type": "stream",
     "text": [
      "could not process stock AA\n",
      "could not process stock BRK-B\n",
      "could not process stock BF-B\n",
      "could not process stock CSRA\n",
      "could not process stock FTV\n",
      "could not process stock HPE\n",
      "could not process stock KHC\n",
      "could not process stock PYPL\n",
      "could not process stock QRVO\n",
      "could not process stock UA\n",
      "could not process stock WRK\n",
      "could not process stock WLTW\n"
     ]
    }
   ],
   "source": [
    "stocks = pd.read_csv('csv/s&p500.csv',delimiter=\",\")\n",
    "year = 2014\n",
    "\n",
    "#get X data and y data\n",
    "cols = get_stock_financials(stocks[\"Symbol\"][0],year).columns\n",
    "X = pd.DataFrame(columns=cols)\n",
    "y = []\n",
    "for s in stocks[\"Symbol\"]:\n",
    "    try:\n",
    "        _X = get_stock_financials(s,year)\n",
    "        _y = get_frac_price_change(s,_X['index'].values[0])\n",
    "        if _X.shape[1] > 1 and _y:\n",
    "            X = X.append(_X)\n",
    "            y.append(_y)\n",
    "    except:\n",
    "        print \"could not process stock %s\"%s\n",
    "X = X.set_index('stock')\n",
    "X = X.convert_objects(convert_numeric=True)"
   ]
  },
  {
   "cell_type": "code",
   "execution_count": 5,
   "metadata": {
    "collapsed": false
   },
   "outputs": [],
   "source": [
    "#all available columns for analysis\n",
    "#X.columns"
   ]
  },
  {
   "cell_type": "code",
   "execution_count": 55,
   "metadata": {
    "collapsed": false
   },
   "outputs": [],
   "source": [
    "X['Debt/Equity'] = pd.to_numeric(X['Debt/Equity'])\n",
    "#X = X.convert_objects(convert_numeric=True)"
   ]
  },
  {
   "cell_type": "markdown",
   "metadata": {},
   "source": [
    "## Process Data\n",
    "Grab columns of interest to be used, replace NaN values, get training/test sets."
   ]
  },
  {
   "cell_type": "code",
   "execution_count": 56,
   "metadata": {
    "collapsed": false
   },
   "outputs": [],
   "source": [
    "percentiles = ['Net Margin %','Gross Margin %','Operating Margin %','Return on Assets %', 'Payout Ratio % *',\n",
    "               'Return on Invested Capital %','Return on Equity %','Free Cash Flow/Sales %']\n",
    "ratios = ['Book Value Per Share * USD', 'Earnings Per Share USD','Free Cash Flow Per Share * USD', 'Debt/Equity',\n",
    "         'Current Ratio','Dividends USD','EBT Margin','Quick Ratio']\n",
    "\n",
    "columns = percentiles + ratios"
   ]
  },
  {
   "cell_type": "code",
   "execution_count": 57,
   "metadata": {
    "collapsed": true
   },
   "outputs": [],
   "source": [
    "XX = X[columns]"
   ]
  },
  {
   "cell_type": "code",
   "execution_count": 58,
   "metadata": {
    "collapsed": false
   },
   "outputs": [
    {
     "name": "stderr",
     "output_type": "stream",
     "text": [
      "/Users/silburt/anaconda2/envs/ml/lib/python2.7/site-packages/ipykernel/__main__.py:7: SettingWithCopyWarning: \n",
      "A value is trying to be set on a copy of a slice from a DataFrame.\n",
      "Try using .loc[row_indexer,col_indexer] = value instead\n",
      "\n",
      "See the caveats in the documentation: http://pandas.pydata.org/pandas-docs/stable/indexing.html#indexing-view-versus-copy\n"
     ]
    },
    {
     "name": "stdout",
     "output_type": "stream",
     "text": [
      "Net Margin % 0.0\n",
      "Gross Margin % 0.105691056911\n",
      "Operating Margin % 0.0\n",
      "Return on Assets % 0.0\n",
      "Payout Ratio % * 0.197154471545\n",
      "Return on Invested Capital % 0.126016260163\n",
      "Return on Equity % 0.0243902439024\n",
      "Free Cash Flow/Sales % 0.0\n",
      "Book Value Per Share * USD 0.0020325203252\n",
      "Earnings Per Share USD 0.0\n",
      "Free Cash Flow Per Share * USD 0.00406504065041\n",
      "Debt/Equity 0.0772357723577\n",
      "Current Ratio 0.103658536585\n",
      "Dividends USD 0.170731707317\n",
      "EBT Margin 0.0\n",
      "Quick Ratio 0.103658536585\n"
     ]
    }
   ],
   "source": [
    "#replace NaN values with median of column if they represent <10% of values\n",
    "for c in columns:\n",
    "    frac_NaN = XX[c].isnull().sum()/float(len(XX))\n",
    "    if frac_NaN > 0.1:\n",
    "        del XX[c]\n",
    "    else:\n",
    "        XX[c] = pd.to_numeric(XX[c])\n",
    "        XX[c].fillna(XX[c].median(), inplace=True)\n",
    "    print c, frac_NaN\n",
    "\n",
    "columns = XX.columns"
   ]
  },
  {
   "cell_type": "code",
   "execution_count": 63,
   "metadata": {
    "collapsed": false
   },
   "outputs": [
    {
     "data": {
      "text/html": [
       "<div>\n",
       "<table border=\"1\" class=\"dataframe\">\n",
       "  <thead>\n",
       "    <tr style=\"text-align: right;\">\n",
       "      <th></th>\n",
       "      <th>Net Margin %</th>\n",
       "      <th>Operating Margin %</th>\n",
       "      <th>Return on Assets %</th>\n",
       "      <th>Return on Equity %</th>\n",
       "      <th>Free Cash Flow/Sales %</th>\n",
       "      <th>Book Value Per Share * USD</th>\n",
       "      <th>Earnings Per Share USD</th>\n",
       "      <th>Free Cash Flow Per Share * USD</th>\n",
       "      <th>Debt/Equity</th>\n",
       "      <th>EBT Margin</th>\n",
       "    </tr>\n",
       "    <tr>\n",
       "      <th>stock</th>\n",
       "      <th></th>\n",
       "      <th></th>\n",
       "      <th></th>\n",
       "      <th></th>\n",
       "      <th></th>\n",
       "      <th></th>\n",
       "      <th></th>\n",
       "      <th></th>\n",
       "      <th></th>\n",
       "      <th></th>\n",
       "    </tr>\n",
       "  </thead>\n",
       "  <tbody>\n",
       "    <tr>\n",
       "      <th>MMM</th>\n",
       "      <td>15.57</td>\n",
       "      <td>22.4</td>\n",
       "      <td>15.29</td>\n",
       "      <td>32.38</td>\n",
       "      <td>16.13</td>\n",
       "      <td>25.46</td>\n",
       "      <td>7.49</td>\n",
       "      <td>7.30</td>\n",
       "      <td>0.52</td>\n",
       "      <td>22.08</td>\n",
       "    </tr>\n",
       "    <tr>\n",
       "      <th>ABT</th>\n",
       "      <td>11.28</td>\n",
       "      <td>12.8</td>\n",
       "      <td>5.42</td>\n",
       "      <td>9.78</td>\n",
       "      <td>12.83</td>\n",
       "      <td>15.18</td>\n",
       "      <td>1.49</td>\n",
       "      <td>1.93</td>\n",
       "      <td>0.16</td>\n",
       "      <td>12.44</td>\n",
       "    </tr>\n",
       "    <tr>\n",
       "      <th>ABBV</th>\n",
       "      <td>8.89</td>\n",
       "      <td>17.1</td>\n",
       "      <td>6.25</td>\n",
       "      <td>56.91</td>\n",
       "      <td>14.71</td>\n",
       "      <td>2.92</td>\n",
       "      <td>1.10</td>\n",
       "      <td>2.96</td>\n",
       "      <td>6.06</td>\n",
       "      <td>11.87</td>\n",
       "    </tr>\n",
       "    <tr>\n",
       "      <th>ACN</th>\n",
       "      <td>9.23</td>\n",
       "      <td>13.5</td>\n",
       "      <td>16.91</td>\n",
       "      <td>55.02</td>\n",
       "      <td>9.93</td>\n",
       "      <td>8.53</td>\n",
       "      <td>4.52</td>\n",
       "      <td>4.00</td>\n",
       "      <td>0.67</td>\n",
       "      <td>13.48</td>\n",
       "    </tr>\n",
       "    <tr>\n",
       "      <th>ATVI</th>\n",
       "      <td>18.94</td>\n",
       "      <td>26.8</td>\n",
       "      <td>5.81</td>\n",
       "      <td>12.05</td>\n",
       "      <td>26.88</td>\n",
       "      <td>9.69</td>\n",
       "      <td>1.13</td>\n",
       "      <td>1.19</td>\n",
       "      <td>0.60</td>\n",
       "      <td>22.25</td>\n",
       "    </tr>\n",
       "  </tbody>\n",
       "</table>\n",
       "</div>"
      ],
      "text/plain": [
       "       Net Margin %  Operating Margin %  Return on Assets %  \\\n",
       "stock                                                         \n",
       "MMM           15.57                22.4               15.29   \n",
       "ABT           11.28                12.8                5.42   \n",
       "ABBV           8.89                17.1                6.25   \n",
       "ACN            9.23                13.5               16.91   \n",
       "ATVI          18.94                26.8                5.81   \n",
       "\n",
       "       Return on Equity %  Free Cash Flow/Sales %  Book Value Per Share * USD  \\\n",
       "stock                                                                           \n",
       "MMM                 32.38                   16.13                       25.46   \n",
       "ABT                  9.78                   12.83                       15.18   \n",
       "ABBV                56.91                   14.71                        2.92   \n",
       "ACN                 55.02                    9.93                        8.53   \n",
       "ATVI                12.05                   26.88                        9.69   \n",
       "\n",
       "       Earnings Per Share USD  Free Cash Flow Per Share * USD  Debt/Equity  \\\n",
       "stock                                                                        \n",
       "MMM                      7.49                            7.30         0.52   \n",
       "ABT                      1.49                            1.93         0.16   \n",
       "ABBV                     1.10                            2.96         6.06   \n",
       "ACN                      4.52                            4.00         0.67   \n",
       "ATVI                     1.13                            1.19         0.60   \n",
       "\n",
       "       EBT Margin  \n",
       "stock              \n",
       "MMM         22.08  \n",
       "ABT         12.44  \n",
       "ABBV        11.87  \n",
       "ACN         13.48  \n",
       "ATVI        22.25  "
      ]
     },
     "execution_count": 63,
     "metadata": {},
     "output_type": "execute_result"
    }
   ],
   "source": [
    "XX.head()"
   ]
  },
  {
   "cell_type": "code",
   "execution_count": 66,
   "metadata": {
    "collapsed": true
   },
   "outputs": [],
   "source": [
    "from sklearn.model_selection import train_test_split\n",
    "X_train, X_test, y_train, y_test = train_test_split(XX, y, test_size=0.33, random_state=42)"
   ]
  },
  {
   "cell_type": "markdown",
   "metadata": {},
   "source": [
    "## Machine Learning tyme"
   ]
  },
  {
   "cell_type": "code",
   "execution_count": 74,
   "metadata": {
    "collapsed": false
   },
   "outputs": [
    {
     "data": {
      "text/plain": [
       "XGBClassifier(base_score=0.5, colsample_bylevel=1, colsample_bytree=1,\n",
       "       gamma=0, learning_rate=0.1, max_delta_step=0, max_depth=3,\n",
       "       min_child_weight=1, missing=None, n_estimators=100, nthread=-1,\n",
       "       objective='binary:logistic', reg_alpha=0, reg_lambda=1,\n",
       "       scale_pos_weight=1, seed=0, silent=True, subsample=1)"
      ]
     },
     "execution_count": 74,
     "metadata": {},
     "output_type": "execute_result"
    }
   ],
   "source": [
    "xgb.XGBClassifier()"
   ]
  },
  {
   "cell_type": "markdown",
   "metadata": {},
   "source": [
    "### Best params so far:\n",
    "-0.111054839795\n",
    "{'n_estimators': 1000, 'learning_rate': 0.01, 'max_depth': 4, 'min_child_weight': 0.1}"
   ]
  },
  {
   "cell_type": "code",
   "execution_count": 75,
   "metadata": {
    "collapsed": false
   },
   "outputs": [
    {
     "name": "stdout",
     "output_type": "stream",
     "text": [
      "-0.111054839795\n",
      "{'n_estimators': 1000, 'learning_rate': 0.01, 'max_depth': 4, 'min_child_weight': 0.1}\n"
     ]
    }
   ],
   "source": [
    "import xgboost as xgb\n",
    "from sklearn.grid_search import GridSearchCV\n",
    "model = xgb.XGBClassifier()\n",
    "n_cv = 3    #use 3 since dataset is kind of small\n",
    "param_grid={\n",
    "    'learning_rate': [0.1,0.01],\n",
    "    'max_depth': [4,8,12,20],\n",
    "    'min_child_weight': [0.1,1,10,100],\n",
    "    'n_estimators':[1000],\n",
    "}\n",
    "grid = GridSearchCV(model, param_grid=param_grid, cv=n_cv, scoring='neg_mean_squared_error')\n",
    "grid.fit(X_train,y_train)\n",
    "\n",
    "print(grid.best_score_)\n",
    "print(grid.best_params_)"
   ]
  },
  {
   "cell_type": "code",
   "execution_count": 77,
   "metadata": {
    "collapsed": false
   },
   "outputs": [
    {
     "data": {
      "text/plain": [
       "<matplotlib.text.Text at 0x110520210>"
      ]
     },
     "execution_count": 77,
     "metadata": {},
     "output_type": "execute_result"
    },
    {
     "data": {
      "image/png": "[encoded data removed]",
      "text/plain": [
       "<matplotlib.figure.Figure at 0x104356490>"
      ]
     },
     "metadata": {},
     "output_type": "display_data"
    }
   ],
   "source": [
    "model = grid.best_estimator_\n",
    "feat_imp = pd.Series(model.booster().get_fscore()).sort_values(ascending=False)\n",
    "feat_imp.plot(kind='bar', title='Feature Importances')\n",
    "plt.ylabel('Feature Importance Score')"
   ]
  },
  {
   "cell_type": "code",
   "execution_count": 81,
   "metadata": {
    "collapsed": true
   },
   "outputs": [],
   "source": [
    "y_test_predict = model.predict(X_test)"
   ]
  },
  {
   "cell_type": "code",
   "execution_count": 99,
   "metadata": {
    "collapsed": false
   },
   "outputs": [
    {
     "data": {
      "image/png": "[encoded data removed]",
      "text/plain": [
       "<matplotlib.figure.Figure at 0x1233cd250>"
      ]
     },
     "metadata": {},
     "output_type": "display_data"
    }
   ],
   "source": [
    "plt.plot(y_test_predict, '.', label='predicted')\n",
    "plt.plot(y_test, '.', label='true')\n",
    "plt.legend(fontsize=8, numpoints=1)\n",
    "plt.xticks(range(len(y_test)), X_test.index, rotation='vertical', fontsize=8)\n",
    "plt.xlim([0,20])\n",
    "plt.title('Difference between predicted and true $\\Delta P$ values');"
   ]
  },
  {
   "cell_type": "markdown",
   "metadata": {
    "collapsed": true
   },
   "source": [
    "# Extra"
   ]
  },
  {
   "cell_type": "code",
   "execution_count": 38,
   "metadata": {
    "collapsed": false
   },
   "outputs": [],
   "source": [
    "#s = \"AA\"\n",
    "#data = get_stock_financials(s,2014)\n",
    "#start = data['index'].values[0]\n",
    "#get_frac_price_change(s,start)\n",
    "\n",
    "#a= get_stock_price_change(\"ACN\",start)\n",
    "#print a"
   ]
  },
  {
   "cell_type": "code",
   "execution_count": 24,
   "metadata": {
    "collapsed": false
   },
   "outputs": [],
   "source": [
    "stock = \"AEM\"\n",
    "webpage = \"http://financials.morningstar.com/ajax/exportKR2CSV.html?t=%s&culture=en-CA&region=USA&order=asc&r=314562\"%stock\n",
    "url = URL(webpage)\n",
    "f = open('Fundamental_Analysis/%s_keyratios.csv'%stock, 'wb') # save as test.gif\n",
    "f.write(url.download())\n",
    "f.close()"
   ]
  },
  {
   "cell_type": "code",
   "execution_count": null,
   "metadata": {
    "collapsed": true
   },
   "outputs": [],
   "source": []
  }
 ],
 "metadata": {
  "kernelspec": {
   "display_name": "Python 2",
   "language": "python",
   "name": "python2"
  },
  "language_info": {
   "codemirror_mode": {
    "name": "ipython",
    "version": 2
   },
   "file_extension": ".py",
   "mimetype": "text/x-python",
   "name": "python",
   "nbconvert_exporter": "python",
   "pygments_lexer": "ipython2",
   "version": "2.7.11"
  }
 },
 "nbformat": 4,
 "nbformat_minor": 1
}
