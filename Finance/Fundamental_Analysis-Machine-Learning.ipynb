{
 "cells": [
  {
   "cell_type": "markdown",
   "metadata": {},
   "source": [
    "# Fundamental Analysis\n",
    "This notebook plots various fundamental statistics of different stocks.  \n",
    "These links were helpful:  \n",
    "https://simply-python.com/2015/02/13/getting-historical-financial-statistics-of-stock-using-python/  \n",
    "http://stackoverflow.com/questions/40139537/scrape-yahoo-finance-financial-ratios  \n",
    "https://automatetheboringstuff.com/chapter11/  \n",
    "http://docs.python-guide.org/en/latest/scenarios/scrape/  \n",
    "\n",
    "## Todo\n",
    "- Work on some features.\n",
    "- Check classification instead of regression as well - will the stock go up or down?\n",
    "- Maybe try predicting only 6 months in advance instead of a year.\n",
    "- Need to do a large parameter search for XGBoost."
   ]
  },
  {
   "cell_type": "code",
   "execution_count": 1,
   "metadata": {
    "collapsed": false
   },
   "outputs": [],
   "source": [
    "import pandas as pd\n",
    "import numpy as np\n",
    "import requests\n",
    "import sys\n",
    "import matplotlib.pyplot as plt\n",
    "from pandas_datareader.data import DataReader\n",
    "from pandas.tseries.offsets import BMonthEnd\n",
    "from pattern.web import URL\n",
    "%matplotlib inline"
   ]
  },
  {
   "cell_type": "markdown",
   "metadata": {},
   "source": [
    "## Choose Sector to analyze\n",
    "- Important to analyze stocks from the same sector, as different sectors have different standards. E.g. a typical Debt/Equity ratio of one sector can be very different from another sector.  \n",
    "- Download stock lists from http://www.nasdaq.com/screening/industries.aspx  "
   ]
  },
  {
   "cell_type": "code",
   "execution_count": 15,
   "metadata": {
    "collapsed": false
   },
   "outputs": [
    {
     "data": {
      "text/html": [
       "<div>\n",
       "<table border=\"1\" class=\"dataframe\">\n",
       "  <thead>\n",
       "    <tr style=\"text-align: right;\">\n",
       "      <th></th>\n",
       "      <th>Symbol</th>\n",
       "      <th>Name</th>\n",
       "      <th>LastSale</th>\n",
       "      <th>MarketCap</th>\n",
       "      <th>ADR TSO</th>\n",
       "      <th>IPOyear</th>\n",
       "      <th>Sector</th>\n",
       "      <th>Industry</th>\n",
       "      <th>Summary Quote</th>\n",
       "      <th>Unnamed: 9</th>\n",
       "    </tr>\n",
       "  </thead>\n",
       "  <tbody>\n",
       "    <tr>\n",
       "      <th>0</th>\n",
       "      <td>PIH</td>\n",
       "      <td>1347 Property Insurance Holdings, Inc.</td>\n",
       "      <td>6.5001</td>\n",
       "      <td>3.873322e+07</td>\n",
       "      <td>n/a</td>\n",
       "      <td>2014</td>\n",
       "      <td>Finance</td>\n",
       "      <td>Property-Casualty Insurers</td>\n",
       "      <td>http://www.nasdaq.com/symbol/pih</td>\n",
       "      <td>NaN</td>\n",
       "    </tr>\n",
       "    <tr>\n",
       "      <th>1</th>\n",
       "      <td>FCCY</td>\n",
       "      <td>1st Constitution Bancorp (NJ)</td>\n",
       "      <td>18</td>\n",
       "      <td>1.436993e+08</td>\n",
       "      <td>n/a</td>\n",
       "      <td>n/a</td>\n",
       "      <td>Finance</td>\n",
       "      <td>Savings Institutions</td>\n",
       "      <td>http://www.nasdaq.com/symbol/fccy</td>\n",
       "      <td>NaN</td>\n",
       "    </tr>\n",
       "    <tr>\n",
       "      <th>2</th>\n",
       "      <td>SRCE</td>\n",
       "      <td>1st Source Corporation</td>\n",
       "      <td>44.82</td>\n",
       "      <td>1.159751e+09</td>\n",
       "      <td>n/a</td>\n",
       "      <td>n/a</td>\n",
       "      <td>Finance</td>\n",
       "      <td>Major Banks</td>\n",
       "      <td>http://www.nasdaq.com/symbol/srce</td>\n",
       "      <td>NaN</td>\n",
       "    </tr>\n",
       "    <tr>\n",
       "      <th>3</th>\n",
       "      <td>ABIL</td>\n",
       "      <td>Ability Inc.</td>\n",
       "      <td>3.21</td>\n",
       "      <td>8.267722e+07</td>\n",
       "      <td>n/a</td>\n",
       "      <td>2014</td>\n",
       "      <td>Finance</td>\n",
       "      <td>Business Services</td>\n",
       "      <td>http://www.nasdaq.com/symbol/abil</td>\n",
       "      <td>NaN</td>\n",
       "    </tr>\n",
       "    <tr>\n",
       "      <th>4</th>\n",
       "      <td>ABM</td>\n",
       "      <td>ABM Industries Incorporated</td>\n",
       "      <td>40.86</td>\n",
       "      <td>2.270007e+09</td>\n",
       "      <td>n/a</td>\n",
       "      <td>n/a</td>\n",
       "      <td>Finance</td>\n",
       "      <td>Diversified Commercial Services</td>\n",
       "      <td>http://www.nasdaq.com/symbol/abm</td>\n",
       "      <td>NaN</td>\n",
       "    </tr>\n",
       "  </tbody>\n",
       "</table>\n",
       "</div>"
      ],
      "text/plain": [
       "  Symbol                                    Name LastSale     MarketCap  \\\n",
       "0    PIH  1347 Property Insurance Holdings, Inc.   6.5001  3.873322e+07   \n",
       "1   FCCY           1st Constitution Bancorp (NJ)       18  1.436993e+08   \n",
       "2   SRCE                  1st Source Corporation    44.82  1.159751e+09   \n",
       "3   ABIL                            Ability Inc.     3.21  8.267722e+07   \n",
       "4    ABM             ABM Industries Incorporated    40.86  2.270007e+09   \n",
       "\n",
       "  ADR TSO IPOyear   Sector                         Industry  \\\n",
       "0     n/a    2014  Finance       Property-Casualty Insurers   \n",
       "1     n/a     n/a  Finance             Savings Institutions   \n",
       "2     n/a     n/a  Finance                      Major Banks   \n",
       "3     n/a    2014  Finance                Business Services   \n",
       "4     n/a     n/a  Finance  Diversified Commercial Services   \n",
       "\n",
       "                       Summary Quote  Unnamed: 9  \n",
       "0   http://www.nasdaq.com/symbol/pih         NaN  \n",
       "1  http://www.nasdaq.com/symbol/fccy         NaN  \n",
       "2  http://www.nasdaq.com/symbol/srce         NaN  \n",
       "3  http://www.nasdaq.com/symbol/abil         NaN  \n",
       "4   http://www.nasdaq.com/symbol/abm         NaN  "
      ]
     },
     "execution_count": 15,
     "metadata": {},
     "output_type": "execute_result"
    }
   ],
   "source": [
    "#tickers = pd.read_csv('csv/s&p500.csv',delimiter=\",\")\n",
    "#tickers = pd.read_csv('csv/wilshire5000.csv',delimiter=\",\")\n",
    "tickers = pd.read_csv('csv/nasdaq/Finance.csv',delimiter=\",\")\n",
    "tickers.head()"
   ]
  },
  {
   "cell_type": "markdown",
   "metadata": {},
   "source": [
    "## Get Data"
   ]
  },
  {
   "cell_type": "code",
   "execution_count": 16,
   "metadata": {
    "collapsed": false,
    "scrolled": false
   },
   "outputs": [],
   "source": [
    "#scrapes financial data from Morningstar, gets features\n",
    "def get_stock_financials(stock,year):\n",
    "    path = \"Fundamental_Analysis/\"\n",
    "    skiprows = [19,20,31,41,42,43,48,58,53,64,65,72,73,95,101,102]\n",
    "    del_if_present = ['AUD','EUR','BRL']\n",
    "    del_columns = ['Year over Year','3-Year Average','5-Year Average','10-Year Average','Taxes Payable','Long-Term Debt']\n",
    "    try:\n",
    "        d = pd.read_csv('%s%s_keyratios.csv'%(path, stock), header=2, index_col=0, skiprows=skiprows)\n",
    "    except:\n",
    "        webpage = \"http://financials.morningstar.com/ajax/exportKR2CSV.html?t=%s&culture=en-CA&region=USA&order=asc&r=314562\"%stock\n",
    "        url = URL(webpage)\n",
    "        f = open('%s%s_keyratios.csv'%(path, stock), 'wb') # save as test.gif\n",
    "        f.write(url.download())\n",
    "        f.close()\n",
    "        d = pd.read_csv('%s%s_keyratios.csv'%(path, stock), header=2, index_col=0, skiprows=skiprows)\n",
    "    d = d.transpose().reset_index()\n",
    "    for dip in del_if_present:\n",
    "        if np.any(d.columns.str.contains(dip)):\n",
    "            #print 'skipping %s, stock in EUR/AUD'%stock\n",
    "            return pd.DataFrame(columns=d.columns)  #return empty dataframe so that this entry will be ignored\n",
    "    d = d.dropna(axis='columns', how='all')\n",
    "    d.insert(0,'stock',stock)\n",
    "    for dc in del_columns: #delete annoying repeated columns\n",
    "        try:\n",
    "            del d[dc]\n",
    "        except:\n",
    "            pass\n",
    "    return d[d['index'].str.contains(\"%d\"%year)]\n",
    "\n",
    "#small helper function for getting target\n",
    "def last_weekday_of_month(date):\n",
    "    return pd.date_range(date, periods=1, freq='BM')\n",
    "\n",
    "#scrapes data from yahoo, gets target\n",
    "def get_frac_price_change(stock,date):\n",
    "    last_current = last_weekday_of_month(date)\n",
    "    ds = date.split('-')\n",
    "    last_future = last_weekday_of_month('%d-%s'%(int(ds[0])+1, ds[1]))\n",
    "    current_price = DataReader(stock, 'yahoo', last_current, last_current)['Adj Close'].values[0]\n",
    "    future_price = DataReader(stock, 'yahoo', last_future, last_future)['Adj Close'].values[0]\n",
    "    return (future_price - current_price)/current_price\n",
    "    \n",
    "#simple progress bar\n",
    "def log_progress(sequence, every=10):\n",
    "    length = float(len(sequence))\n",
    "    for index, item in enumerate(sequence):\n",
    "        if index % every == 0:\n",
    "            print >>sys.stderr, index/length,\n",
    "        yield item\n",
    "    \n",
    "#Top-level function which acquires all the data\n",
    "def get_data(stocks,year):\n",
    "    #create empty dataframe with available columns\n",
    "    cols = get_stock_financials(stocks[\"Symbol\"][0],year).columns\n",
    "    X = pd.DataFrame(columns=cols)\n",
    "    y = []\n",
    "    skip = []\n",
    "    #for s in stocks[\"Symbol\"][0:100]:\n",
    "    for s in log_progress(stocks[\"Symbol\"], len(stocks[\"Symbol\"])/10):\n",
    "        try:\n",
    "            _X = get_stock_financials(s,year)\n",
    "            _y = get_frac_price_change(s,_X['index'].values[0])\n",
    "            if _X.shape[1] > 1 and _y: #only append if alg actually recovered data\n",
    "                X = X.append(_X)\n",
    "                y.append(_y)\n",
    "        except:\n",
    "            skip.append(s)\n",
    "    X = X.set_index('stock')\n",
    "    #X = pd.to_numeric(X)\n",
    "    X = X.convert_objects(convert_numeric=True)\n",
    "    return X, y, skip"
   ]
  },
  {
   "cell_type": "code",
   "execution_count": 17,
   "metadata": {
    "collapsed": false
   },
   "outputs": [
    {
     "name": "stderr",
     "output_type": "stream",
     "text": [
      " 0.0 0.0997008973081 0.199401794616 0.299102691924 0.398803589232 0.49850448654 0.598205383848 0.697906281157 0.797607178465 0.897308075773 0.997008973081/Users/silburt/anaconda2/envs/ml/lib/python2.7/site-packages/ipykernel/__main__.py:70: FutureWarning: convert_objects is deprecated.  Use the data-type specific converters pd.to_datetime, pd.to_timedelta and pd.to_numeric.\n"
     ]
    }
   ],
   "source": [
    "#stocks = pd.read_csv('csv/s&p500.csv',delimiter=\",\")\n",
    "stocks = pd.read_csv('csv/nasdaq/Finance.csv',delimiter=\",\")\n",
    "year = 2014\n",
    "\n",
    "X, y, skip = get_data(stocks, year)"
   ]
  },
  {
   "cell_type": "code",
   "execution_count": 18,
   "metadata": {
    "collapsed": false
   },
   "outputs": [],
   "source": [
    "#all available columns for analysis\n",
    "#X.columns"
   ]
  },
  {
   "cell_type": "code",
   "execution_count": 19,
   "metadata": {
    "collapsed": false
   },
   "outputs": [],
   "source": [
    "#X['Debt/Equity'] = pd.to_numeric(X['Debt/Equity'])\n",
    "#X = X.convert_objects(convert_numeric=True)"
   ]
  },
  {
   "cell_type": "markdown",
   "metadata": {},
   "source": [
    "## Process Data\n",
    "Grab columns of interest to be used, replace NaN values, get training/test sets."
   ]
  },
  {
   "cell_type": "code",
   "execution_count": 20,
   "metadata": {
    "collapsed": false
   },
   "outputs": [],
   "source": [
    "percentiles = ['Net Margin %','Gross Margin %','Operating Margin %','Return on Assets %', 'Payout Ratio % *',\n",
    "               'Return on Invested Capital %','Return on Equity %','Free Cash Flow/Sales %']\n",
    "ratios = ['Book Value Per Share * USD', 'Earnings Per Share USD','Free Cash Flow Per Share * USD', 'Debt/Equity',\n",
    "         'Current Ratio','Dividends USD','EBT Margin','Quick Ratio']\n",
    "\n",
    "columns = percentiles + ratios"
   ]
  },
  {
   "cell_type": "code",
   "execution_count": 50,
   "metadata": {
    "collapsed": true
   },
   "outputs": [],
   "source": [
    "XX = X[columns]"
   ]
  },
  {
   "cell_type": "code",
   "execution_count": 51,
   "metadata": {
    "collapsed": false
   },
   "outputs": [
    {
     "name": "stderr",
     "output_type": "stream",
     "text": [
      "/Users/silburt/anaconda2/envs/ml/lib/python2.7/site-packages/ipykernel/__main__.py:7: SettingWithCopyWarning: \n",
      "A value is trying to be set on a copy of a slice from a DataFrame.\n",
      "Try using .loc[row_indexer,col_indexer] = value instead\n",
      "\n",
      "See the caveats in the documentation: http://pandas.pydata.org/pandas-docs/stable/indexing.html#indexing-view-versus-copy\n"
     ]
    },
    {
     "name": "stdout",
     "output_type": "stream",
     "text": [
      "Net Margin %: NaN fraction = 0.0182\n",
      "Operating Margin %: NaN fraction = 0.0126\n",
      "Return on Assets %: NaN fraction = 0.0028\n",
      "Return on Equity %: NaN fraction = 0.0168\n",
      "Free Cash Flow/Sales %: NaN fraction = 0.0154\n",
      "Book Value Per Share * USD: NaN fraction = 0.0965\n",
      "Earnings Per Share USD: NaN fraction = 0.0881\n",
      "Free Cash Flow Per Share * USD: NaN fraction = 0.0993\n",
      "EBT Margin: NaN fraction = 0.0140\n"
     ]
    }
   ],
   "source": [
    "#replace NaN values with median of column if they represent <10% of values\n",
    "for c in columns:\n",
    "    frac_NaN = XX[c].isnull().sum()/float(len(XX))\n",
    "    if frac_NaN > 0.1:\n",
    "        del XX[c]\n",
    "    else:\n",
    "        XX[c] = pd.to_numeric(XX[c])\n",
    "        XX[c].fillna(XX[c].median(), inplace=True)\n",
    "    print \"%s: NaN fraction = %.4f\"%(c, frac_NaN)\n",
    "\n",
    "columns = XX.columns"
   ]
  },
  {
   "cell_type": "code",
   "execution_count": 23,
   "metadata": {
    "collapsed": false
   },
   "outputs": [
    {
     "data": {
      "text/html": [
       "<div>\n",
       "<table border=\"1\" class=\"dataframe\">\n",
       "  <thead>\n",
       "    <tr style=\"text-align: right;\">\n",
       "      <th></th>\n",
       "      <th>Net Margin %</th>\n",
       "      <th>Operating Margin %</th>\n",
       "      <th>Return on Assets %</th>\n",
       "      <th>Return on Equity %</th>\n",
       "      <th>Free Cash Flow/Sales %</th>\n",
       "      <th>Book Value Per Share * USD</th>\n",
       "      <th>Earnings Per Share USD</th>\n",
       "      <th>Free Cash Flow Per Share * USD</th>\n",
       "      <th>EBT Margin</th>\n",
       "    </tr>\n",
       "    <tr>\n",
       "      <th>stock</th>\n",
       "      <th></th>\n",
       "      <th></th>\n",
       "      <th></th>\n",
       "      <th></th>\n",
       "      <th></th>\n",
       "      <th></th>\n",
       "      <th></th>\n",
       "      <th></th>\n",
       "      <th></th>\n",
       "    </tr>\n",
       "  </thead>\n",
       "  <tbody>\n",
       "    <tr>\n",
       "      <th>PIH</th>\n",
       "      <td>16.59</td>\n",
       "      <td>30.2</td>\n",
       "      <td>6.46</td>\n",
       "      <td>10.89</td>\n",
       "      <td>66.87</td>\n",
       "      <td>7.74</td>\n",
       "      <td>0.71</td>\n",
       "      <td>3.31</td>\n",
       "      <td>30.21</td>\n",
       "    </tr>\n",
       "    <tr>\n",
       "      <th>FCCY</th>\n",
       "      <td>11.32</td>\n",
       "      <td>13.7</td>\n",
       "      <td>0.51</td>\n",
       "      <td>5.60</td>\n",
       "      <td>40.26</td>\n",
       "      <td>10.74</td>\n",
       "      <td>0.55</td>\n",
       "      <td>2.08</td>\n",
       "      <td>13.74</td>\n",
       "    </tr>\n",
       "    <tr>\n",
       "      <th>SRCE</th>\n",
       "      <td>24.38</td>\n",
       "      <td>35.4</td>\n",
       "      <td>1.22</td>\n",
       "      <td>9.68</td>\n",
       "      <td>30.77</td>\n",
       "      <td>22.97</td>\n",
       "      <td>2.17</td>\n",
       "      <td>2.74</td>\n",
       "      <td>35.45</td>\n",
       "    </tr>\n",
       "    <tr>\n",
       "      <th>ABM</th>\n",
       "      <td>1.50</td>\n",
       "      <td>2.5</td>\n",
       "      <td>3.51</td>\n",
       "      <td>8.02</td>\n",
       "      <td>1.79</td>\n",
       "      <td>17.12</td>\n",
       "      <td>1.32</td>\n",
       "      <td>1.20</td>\n",
       "      <td>2.38</td>\n",
       "    </tr>\n",
       "    <tr>\n",
       "      <th>ANCX</th>\n",
       "      <td>25.54</td>\n",
       "      <td>39.4</td>\n",
       "      <td>1.47</td>\n",
       "      <td>14.66</td>\n",
       "      <td>-15.76</td>\n",
       "      <td>9.53</td>\n",
       "      <td>1.33</td>\n",
       "      <td>-1.50</td>\n",
       "      <td>39.45</td>\n",
       "    </tr>\n",
       "  </tbody>\n",
       "</table>\n",
       "</div>"
      ],
      "text/plain": [
       "       Net Margin %  Operating Margin %  Return on Assets %  \\\n",
       "stock                                                         \n",
       "PIH           16.59                30.2                6.46   \n",
       "FCCY          11.32                13.7                0.51   \n",
       "SRCE          24.38                35.4                1.22   \n",
       "ABM            1.50                 2.5                3.51   \n",
       "ANCX          25.54                39.4                1.47   \n",
       "\n",
       "       Return on Equity %  Free Cash Flow/Sales %  Book Value Per Share * USD  \\\n",
       "stock                                                                           \n",
       "PIH                 10.89                   66.87                        7.74   \n",
       "FCCY                 5.60                   40.26                       10.74   \n",
       "SRCE                 9.68                   30.77                       22.97   \n",
       "ABM                  8.02                    1.79                       17.12   \n",
       "ANCX                14.66                  -15.76                        9.53   \n",
       "\n",
       "       Earnings Per Share USD  Free Cash Flow Per Share * USD  EBT Margin  \n",
       "stock                                                                      \n",
       "PIH                      0.71                            3.31       30.21  \n",
       "FCCY                     0.55                            2.08       13.74  \n",
       "SRCE                     2.17                            2.74       35.45  \n",
       "ABM                      1.32                            1.20        2.38  \n",
       "ANCX                     1.33                           -1.50       39.45  "
      ]
     },
     "execution_count": 23,
     "metadata": {},
     "output_type": "execute_result"
    }
   ],
   "source": [
    "XX.head()"
   ]
  },
  {
   "cell_type": "code",
   "execution_count": 24,
   "metadata": {
    "collapsed": true
   },
   "outputs": [],
   "source": [
    "from sklearn.model_selection import train_test_split\n",
    "X_train, X_test, y_train, y_test = train_test_split(XX, y, test_size=0.33, random_state=42)"
   ]
  },
  {
   "cell_type": "markdown",
   "metadata": {},
   "source": [
    "## Machine Learning tyme"
   ]
  },
  {
   "cell_type": "code",
   "execution_count": 27,
   "metadata": {
    "collapsed": false
   },
   "outputs": [
    {
     "data": {
      "text/plain": [
       "XGBClassifier(base_score=0.5, colsample_bylevel=1, colsample_bytree=1,\n",
       "       gamma=0, learning_rate=0.1, max_delta_step=0, max_depth=3,\n",
       "       min_child_weight=1, missing=None, n_estimators=100, nthread=-1,\n",
       "       objective='binary:logistic', reg_alpha=0, reg_lambda=1,\n",
       "       scale_pos_weight=1, seed=0, silent=True, subsample=1)"
      ]
     },
     "execution_count": 27,
     "metadata": {},
     "output_type": "execute_result"
    }
   ],
   "source": [
    "import xgboost as xgb\n",
    "from sklearn.model_selection import GridSearchCV  #maybe try RandomizedSearchCV, probably better\n",
    "xgb.XGBClassifier()"
   ]
  },
  {
   "cell_type": "markdown",
   "metadata": {},
   "source": [
    "### Best params so far:\n",
    "-0.111054839795\n",
    "{'n_estimators': 1000, 'learning_rate': 0.01, 'max_depth': 4, 'min_child_weight': 0.1}"
   ]
  },
  {
   "cell_type": "code",
   "execution_count": 28,
   "metadata": {
    "collapsed": false
   },
   "outputs": [
    {
     "name": "stdout",
     "output_type": "stream",
     "text": [
      "-0.0820728808253\n",
      "{'n_estimators': 2000, 'learning_rate': 0.01, 'max_depth': 4, 'min_child_weight': 0.1}\n"
     ]
    }
   ],
   "source": [
    "model = xgb.XGBClassifier()\n",
    "n_cv = 3    #use 3 since dataset is kind of small\n",
    "param_grid={\n",
    "    'learning_rate': [0.01],\n",
    "    'max_depth': [4],\n",
    "    'min_child_weight': [0.1],\n",
    "    'n_estimators':[2000],\n",
    "}\n",
    "grid = GridSearchCV(model, param_grid=param_grid, cv=n_cv, scoring='neg_mean_squared_error')\n",
    "grid.fit(X_train,y_train)\n",
    "\n",
    "print(grid.best_score_)\n",
    "print(grid.best_params_)"
   ]
  },
  {
   "cell_type": "code",
   "execution_count": 29,
   "metadata": {
    "collapsed": false
   },
   "outputs": [
    {
     "data": {
      "text/plain": [
       "<matplotlib.text.Text at 0x1437f6190>"
      ]
     },
     "execution_count": 29,
     "metadata": {},
     "output_type": "execute_result"
    },
    {
     "data": {
      "image/png": "[encoded data removed]",
      "text/plain": [
       "<matplotlib.figure.Figure at 0x10fdb2cd0>"
      ]
     },
     "metadata": {},
     "output_type": "display_data"
    }
   ],
   "source": [
    "model = grid.best_estimator_\n",
    "feat_imp = pd.Series(model.booster().get_fscore()).sort_values(ascending=False) #seems equivalent to model.feature_importances_\n",
    "feat_imp.plot(kind='bar', title='Feature Importances')\n",
    "plt.ylabel('Feature Importance Score')"
   ]
  },
  {
   "cell_type": "code",
   "execution_count": 30,
   "metadata": {
    "collapsed": true
   },
   "outputs": [],
   "source": [
    "y_test_predict = model.predict(X_test)"
   ]
  },
  {
   "cell_type": "code",
   "execution_count": 38,
   "metadata": {
    "collapsed": false
   },
   "outputs": [
    {
     "data": {
      "image/png": "[encoded data removed]",
      "text/plain": [
       "<matplotlib.figure.Figure at 0x13840e810>"
      ]
     },
     "metadata": {},
     "output_type": "display_data"
    }
   ],
   "source": [
    "_,_,_ = plt.hist(y_test_predict - y_test, 15)"
   ]
  },
  {
   "cell_type": "code",
   "execution_count": 43,
   "metadata": {
    "collapsed": false
   },
   "outputs": [
    {
     "data": {
      "image/png": "[encoded data removed]",
      "text/plain": [
       "<matplotlib.figure.Figure at 0x13a4c5290>"
      ]
     },
     "metadata": {},
     "output_type": "display_data"
    }
   ],
   "source": [
    "#plt.plot(y_test_predict, '.', label='predicted')\n",
    "#plt.plot(y_test, '.', label='true')\n",
    "plt.plot(y_test_predict - y_test, '.')\n",
    "plt.legend(fontsize=8, numpoints=1)\n",
    "plt.xticks(range(len(y_test)), X_test.index, rotation='vertical', fontsize=8)\n",
    "plt.xlim([80,120])\n",
    "plt.title('Difference between predicted and true $\\Delta P$ values');"
   ]
  },
  {
   "cell_type": "markdown",
   "metadata": {
    "collapsed": true
   },
   "source": [
    "# Extra"
   ]
  },
  {
   "cell_type": "code",
   "execution_count": 38,
   "metadata": {
    "collapsed": false
   },
   "outputs": [],
   "source": [
    "#s = \"AA\"\n",
    "#data = get_stock_financials(s,2014)\n",
    "#start = data['index'].values[0]\n",
    "#get_frac_price_change(s,start)\n",
    "\n",
    "#a= get_stock_price_change(\"ACN\",start)\n",
    "#print a"
   ]
  },
  {
   "cell_type": "code",
   "execution_count": 33,
   "metadata": {
    "collapsed": true
   },
   "outputs": [],
   "source": [
    "#This is useful scraping code for extracting the sector that each stock is from...\n",
    "#http://docs.python-guide.org/en/latest/scenarios/scrape/\n",
    "from lxml import html\n",
    "import requests\n",
    "def get_sectors(df,path):\n",
    "    sectors = ['financials', 'healthcare', 'energy', 'basic-materials', 'industrials', \n",
    "           'technology', 'telecoms', 'utilities', 'non-cyclicals']\n",
    "    df['Sector'] = ''\n",
    "    DNF = []\n",
    "    for i,st in enumerate(df['Ticker']):\n",
    "        url = \"http://www.reuters.com/finance/stocks/overview?symbol=%s\"%st\n",
    "        page = requests.get(url)\n",
    "        tree = html.fromstring(page.content)\n",
    "        found_sector = 0\n",
    "        for sec in sectors:\n",
    "            if len(tree.xpath('//a[@href=\"/sectors/%s\"]/text()'%sec)) > 0:\n",
    "                df[\"Sector\"].iloc[i] = sec\n",
    "                found_sector = 1\n",
    "        if found_sector == 0:\n",
    "            DNF.append(st)\n",
    "            #print 'couldnt find sector for %s'%st\n",
    "    df.to_csv(path)\n",
    "    print \"%f stocks did not have a sector found\"%float(len(DNF))/float(len(df['Ticker']))\n",
    "    return df, DNF"
   ]
  },
  {
   "cell_type": "code",
   "execution_count": 32,
   "metadata": {
    "collapsed": false
   },
   "outputs": [],
   "source": [
    "df, dnf = get_sectors(tickers,'csv/wilshire5000_sectors.csv')"
   ]
  },
  {
   "cell_type": "code",
   "execution_count": 24,
   "metadata": {
    "collapsed": false
   },
   "outputs": [],
   "source": [
    "stock = \"AEM\"\n",
    "webpage = \"http://financials.morningstar.com/ajax/exportKR2CSV.html?t=%s&culture=en-CA&region=USA&order=asc&r=314562\"%stock\n",
    "url = URL(webpage)\n",
    "f = open('Fundamental_Analysis/%s_keyratios.csv'%stock, 'wb') # save as test.gif\n",
    "f.write(url.download())\n",
    "f.close()"
   ]
  },
  {
   "cell_type": "code",
   "execution_count": null,
   "metadata": {
    "collapsed": true
   },
   "outputs": [],
   "source": []
  }
 ],
 "metadata": {
  "kernelspec": {
   "display_name": "Python 2",
   "language": "python",
   "name": "python2"
  },
  "language_info": {
   "codemirror_mode": {
    "name": "ipython",
    "version": 2
   },
   "file_extension": ".py",
   "mimetype": "text/x-python",
   "name": "python",
   "nbconvert_exporter": "python",
   "pygments_lexer": "ipython2",
   "version": "2.7.11"
  }
 },
 "nbformat": 4,
 "nbformat_minor": 1
}
