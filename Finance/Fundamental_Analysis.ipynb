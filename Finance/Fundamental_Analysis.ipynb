{
 "cells": [
  {
   "cell_type": "markdown",
   "metadata": {},
   "source": [
    "# Fundamental Analysis\n",
    "This notebook plots various fundamental statistics of different stocks.  \n",
    "These links were helpful:  \n",
    "http://stackoverflow.com/questions/40139537/scrape-yahoo-finance-financial-ratios  \n",
    "https://automatetheboringstuff.com/chapter11/  "
   ]
  },
  {
   "cell_type": "code",
   "execution_count": 9,
   "metadata": {
    "collapsed": false
   },
   "outputs": [],
   "source": [
    "import urllib2\n",
    "from bs4 import BeautifulSoup\n",
    "import requests\n",
    "from pprint import pprint as pp\n",
    "import matplotlib.pyplot as plt\n",
    "import lxml\n",
    "%matplotlib inline"
   ]
  },
  {
   "cell_type": "code",
   "execution_count": 75,
   "metadata": {
    "collapsed": false
   },
   "outputs": [],
   "source": [
    "#def get_fundamentals(stock):\n",
    "stock=\"AAPL\"\n",
    "params = {\"formatted\": \"true\",\n",
    "        \"crumb\": \"AKV/cl0TOgz\", # works without so not sure of significance\n",
    "        \"lang\": \"en-US\",\n",
    "        \"region\": \"US\",\n",
    "        \"modules\": \"defaultKeyStatistics,financialData,calendarEvents\",\n",
    "        \"corsDomain\": \"finance.yahoo.com\"}\n",
    "\n",
    "link=\"https://query1.finance.yahoo.com/v10/finance/quoteSummary/AAPL\"\n",
    "r = requests.get(link, params=params)\n",
    "data = r.json()[u'quoteSummary'][\"result\"][0]\n",
    "dks, dfd = d[u'defaultKeyStatistics'], d[u'defaultKeyStatistics']\n",
    "    #return dks[u'beta'][u'raw'], dks[u'priceToBook'][u'raw'], dks[u'beta'][u'raw']"
   ]
  },
  {
   "cell_type": "code",
   "execution_count": 76,
   "metadata": {
    "collapsed": false,
    "scrolled": false
   },
   "outputs": [
    {
     "name": "stdout",
     "output_type": "stream",
     "text": [
      "{u'calendarEvents': {u'dividendDate': {u'fmt': u'2016-11-10',\n",
      "                                       u'raw': 1478736000},\n",
      "                     u'earnings': {u'earningsAverage': {u'fmt': u'3.22',\n",
      "                                                        u'raw': 3.22},\n",
      "                                   u'earningsDate': [{u'fmt': u'2017-01-31',\n",
      "                                                      u'raw': 1485820800}],\n",
      "                                   u'earningsHigh': {u'fmt': u'3.77',\n",
      "                                                     u'raw': 3.77},\n",
      "                                   u'earningsLow': {u'fmt': u'3.11',\n",
      "                                                    u'raw': 3.11},\n",
      "                                   u'revenueAverage': {u'fmt': u'77.39B',\n",
      "                                                       u'longFmt': u'77,386,500,000',\n",
      "                                                       u'raw': 77386500000},\n",
      "                                   u'revenueHigh': {u'fmt': u'86.73B',\n",
      "                                                    u'longFmt': u'86,733,000,000',\n",
      "                                                    u'raw': 86733000000},\n",
      "                                   u'revenueLow': {u'fmt': u'75.1B',\n",
      "                                                   u'longFmt': u'75,100,000,000',\n",
      "                                                   u'raw': 75100000000}},\n",
      "                     u'exDividendDate': {u'fmt': u'2016-11-03',\n",
      "                                         u'raw': 1478131200},\n",
      "                     u'maxAge': 1},\n",
      " u'defaultKeyStatistics': {u'52WeekChange': {u'fmt': u'19.67%',\n",
      "                                             u'raw': 0.1966914},\n",
      "                           u'SandP52WeekChange': {u'fmt': u'18.37%',\n",
      "                                                  u'raw': 0.18366456},\n",
      "                           u'annualHoldingsTurnover': {},\n",
      "                           u'annualReportExpenseRatio': {},\n",
      "                           u'beta': {u'fmt': u'1.44', u'raw': 1.44166},\n",
      "                           u'beta3Year': {},\n",
      "                           u'bookValue': {u'fmt': u'24.03', u'raw': 24.034},\n",
      "                           u'category': None,\n",
      "                           u'earningsQuarterlyGrowth': {u'fmt': u'-19.00%',\n",
      "                                                        u'raw': -0.19},\n",
      "                           u'enterpriseToEbitda': {u'fmt': u'9.19',\n",
      "                                                   u'raw': 9.186},\n",
      "                           u'enterpriseToRevenue': {u'fmt': u'3.01',\n",
      "                                                    u'raw': 3.005},\n",
      "                           u'enterpriseValue': {u'fmt': u'647.89B',\n",
      "                                                u'longFmt': u'647,889,027,072',\n",
      "                                                u'raw': 647889027072},\n",
      "                           u'fiveYearAverageReturn': {},\n",
      "                           u'floatShares': {u'fmt': u'5.31B',\n",
      "                                            u'longFmt': u'5,313,329,954',\n",
      "                                            u'raw': 5313329954},\n",
      "                           u'forwardEps': {u'fmt': u'10.08', u'raw': 10.08},\n",
      "                           u'forwardPE': {u'fmt': u'11.81',\n",
      "                                          u'raw': 11.805555},\n",
      "                           u'fundFamily': None,\n",
      "                           u'fundInceptionDate': {},\n",
      "                           u'heldPercentInsiders': {u'fmt': u'0.03%',\n",
      "                                                    u'raw': 0.00033},\n",
      "                           u'heldPercentInstitutions': {u'fmt': u'60.20%',\n",
      "                                                        u'raw': 0.602},\n",
      "                           u'lastCapGain': {},\n",
      "                           u'lastDividendValue': {},\n",
      "                           u'lastFiscalYearEnd': {u'fmt': u'2016-09-24',\n",
      "                                                  u'raw': 1474675200},\n",
      "                           u'lastSplitDate': {u'fmt': u'2014-06-09',\n",
      "                                              u'raw': 1402272000},\n",
      "                           u'lastSplitFactor': u'7/1',\n",
      "                           u'legalType': None,\n",
      "                           u'maxAge': 1,\n",
      "                           u'morningStarOverallRating': {},\n",
      "                           u'morningStarRiskRating': {},\n",
      "                           u'mostRecentQuarter': {u'fmt': u'2016-09-24',\n",
      "                                                  u'raw': 1474675200},\n",
      "                           u'netIncomeToCommon': {u'fmt': u'45.69B',\n",
      "                                                  u'longFmt': u'45,687,001,088',\n",
      "                                                  u'raw': 45687001088},\n",
      "                           u'nextFiscalYearEnd': {u'fmt': u'2018-09-24',\n",
      "                                                  u'raw': 1537747200},\n",
      "                           u'pegRatio': {u'fmt': u'1.51', u'raw': 1.51},\n",
      "                           u'priceToBook': {u'fmt': u'4.95',\n",
      "                                            u'raw': 4.9513187},\n",
      "                           u'priceToSalesTrailing12Months': {},\n",
      "                           u'profitMargins': {u'fmt': u'21.19%',\n",
      "                                              u'raw': 0.21187},\n",
      "                           u'revenueQuarterlyGrowth': {},\n",
      "                           u'sharesOutstanding': {u'fmt': u'5.33B',\n",
      "                                                  u'longFmt': u'5,332,310,000',\n",
      "                                                  u'raw': 5332310000},\n",
      "                           u'sharesShort': {u'fmt': u'46.07M',\n",
      "                                            u'longFmt': u'46,073,000',\n",
      "                                            u'raw': 46073000},\n",
      "                           u'sharesShortPriorMonth': {u'fmt': u'58.95M',\n",
      "                                                      u'longFmt': u'58,948,500',\n",
      "                                                      u'raw': 58948500},\n",
      "                           u'shortPercentOfFloat': {u'fmt': u'0.83%',\n",
      "                                                    u'raw': 0.008315},\n",
      "                           u'shortRatio': {u'fmt': u'1.45', u'raw': 1.45},\n",
      "                           u'threeYearAverageReturn': {},\n",
      "                           u'totalAssets': {},\n",
      "                           u'trailingEps': {u'fmt': u'8.31', u'raw': 8.31},\n",
      "                           u'yield': {},\n",
      "                           u'ytdReturn': {}},\n",
      " u'financialData': {u'currentPrice': {u'fmt': u'119.00', u'raw': 119.0},\n",
      "                    u'currentRatio': {u'fmt': u'1.35', u'raw': 1.353},\n",
      "                    u'debtToEquity': {u'fmt': u'67.87', u'raw': 67.867},\n",
      "                    u'earningsGrowth': {u'fmt': u'-14.40%', u'raw': -0.144},\n",
      "                    u'ebitda': {u'fmt': u'70.53B',\n",
      "                                u'longFmt': u'70,528,999,424',\n",
      "                                u'raw': 70528999424},\n",
      "                    u'ebitdaMargins': {u'fmt': u'32.71%', u'raw': 0.32707},\n",
      "                    u'freeCashflow': {u'fmt': u'43.97B',\n",
      "                                      u'longFmt': u'43,965,001,728',\n",
      "                                      u'raw': 43965001728},\n",
      "                    u'grossMargins': {u'fmt': u'39.08%', u'raw': 0.39076},\n",
      "                    u'grossProfits': {u'fmt': u'84.26B',\n",
      "                                      u'longFmt': u'84,263,000,000',\n",
      "                                      u'raw': 84263000000},\n",
      "                    u'maxAge': 86400,\n",
      "                    u'numberOfAnalystOpinions': {u'fmt': u'44',\n",
      "                                                 u'longFmt': u'44',\n",
      "                                                 u'raw': 44},\n",
      "                    u'operatingCashflow': {u'fmt': u'65.82B',\n",
      "                                           u'longFmt': u'65,823,997,952',\n",
      "                                           u'raw': 65823997952},\n",
      "                    u'operatingMargins': {u'fmt': u'27.83%', u'raw': 0.27835},\n",
      "                    u'profitMargins': {u'fmt': u'21.19%', u'raw': 0.21187},\n",
      "                    u'quickRatio': {u'fmt': u'1.23', u'raw': 1.23},\n",
      "                    u'recommendationKey': u'buy',\n",
      "                    u'recommendationMean': {u'fmt': u'1.90', u'raw': 1.9},\n",
      "                    u'returnOnAssets': {u'fmt': u'12.26%', u'raw': 0.12259},\n",
      "                    u'returnOnEquity': {u'fmt': u'36.90%', u'raw': 0.36903},\n",
      "                    u'revenueGrowth': {u'fmt': u'-9.00%', u'raw': -0.09},\n",
      "                    u'revenuePerShare': {u'fmt': u'39.42', u'raw': 39.416},\n",
      "                    u'targetHighPrice': {u'fmt': u'185.00', u'raw': 185.0},\n",
      "                    u'targetLowPrice': {u'fmt': u'85.00', u'raw': 85.0},\n",
      "                    u'targetMeanPrice': {u'fmt': u'132.25', u'raw': 132.25},\n",
      "                    u'targetMedianPrice': {u'fmt': u'133.00', u'raw': 133.0},\n",
      "                    u'totalCash': {u'fmt': u'67.88B',\n",
      "                                   u'longFmt': u'67,882,999,808',\n",
      "                                   u'raw': 67882999808},\n",
      "                    u'totalCashPerShare': {u'fmt': u'12.73', u'raw': 12.73},\n",
      "                    u'totalDebt': {u'fmt': u'87.04B',\n",
      "                                   u'longFmt': u'87,039,000,576',\n",
      "                                   u'raw': 87039000576},\n",
      "                    u'totalRevenue': {u'fmt': u'215.64B',\n",
      "                                      u'longFmt': u'215,638,999,040',\n",
      "                                      u'raw': 215638999040}}}\n"
     ]
    }
   ],
   "source": [
    "pp(data)"
   ]
  },
  {
   "cell_type": "code",
   "execution_count": 70,
   "metadata": {
    "collapsed": false,
    "scrolled": false
   },
   "outputs": [
    {
     "name": "stdout",
     "output_type": "stream",
     "text": [
      "{u'52WeekChange': {u'fmt': u'19.67%', u'raw': 0.1966914},\n",
      " u'SandP52WeekChange': {u'fmt': u'18.37%', u'raw': 0.18366456},\n",
      " u'annualHoldingsTurnover': {},\n",
      " u'annualReportExpenseRatio': {},\n",
      " u'beta': {u'fmt': u'1.44', u'raw': 1.44166},\n",
      " u'beta3Year': {},\n",
      " u'bookValue': {u'fmt': u'24.03', u'raw': 24.034},\n",
      " u'category': None,\n",
      " u'earningsQuarterlyGrowth': {u'fmt': u'-19.00%', u'raw': -0.19},\n",
      " u'enterpriseToEbitda': {u'fmt': u'9.19', u'raw': 9.186},\n",
      " u'enterpriseToRevenue': {u'fmt': u'3.01', u'raw': 3.005},\n",
      " u'enterpriseValue': {u'fmt': u'647.89B',\n",
      "                      u'longFmt': u'647,889,027,072',\n",
      "                      u'raw': 647889027072},\n",
      " u'fiveYearAverageReturn': {},\n",
      " u'floatShares': {u'fmt': u'5.31B',\n",
      "                  u'longFmt': u'5,313,329,954',\n",
      "                  u'raw': 5313329954},\n",
      " u'forwardEps': {u'fmt': u'10.08', u'raw': 10.08},\n",
      " u'forwardPE': {u'fmt': u'11.81', u'raw': 11.805555},\n",
      " u'fundFamily': None,\n",
      " u'fundInceptionDate': {},\n",
      " u'heldPercentInsiders': {u'fmt': u'0.03%', u'raw': 0.00033},\n",
      " u'heldPercentInstitutions': {u'fmt': u'60.20%', u'raw': 0.602},\n",
      " u'lastCapGain': {},\n",
      " u'lastDividendValue': {},\n",
      " u'lastFiscalYearEnd': {u'fmt': u'2016-09-24', u'raw': 1474675200},\n",
      " u'lastSplitDate': {u'fmt': u'2014-06-09', u'raw': 1402272000},\n",
      " u'lastSplitFactor': u'7/1',\n",
      " u'legalType': None,\n",
      " u'maxAge': 1,\n",
      " u'morningStarOverallRating': {},\n",
      " u'morningStarRiskRating': {},\n",
      " u'mostRecentQuarter': {u'fmt': u'2016-09-24', u'raw': 1474675200},\n",
      " u'netIncomeToCommon': {u'fmt': u'45.69B',\n",
      "                        u'longFmt': u'45,687,001,088',\n",
      "                        u'raw': 45687001088},\n",
      " u'nextFiscalYearEnd': {u'fmt': u'2018-09-24', u'raw': 1537747200},\n",
      " u'pegRatio': {u'fmt': u'1.51', u'raw': 1.51},\n",
      " u'priceToBook': {u'fmt': u'4.95', u'raw': 4.9513187},\n",
      " u'priceToSalesTrailing12Months': {},\n",
      " u'profitMargins': {u'fmt': u'21.19%', u'raw': 0.21187},\n",
      " u'revenueQuarterlyGrowth': {},\n",
      " u'sharesOutstanding': {u'fmt': u'5.33B',\n",
      "                        u'longFmt': u'5,332,310,000',\n",
      "                        u'raw': 5332310000},\n",
      " u'sharesShort': {u'fmt': u'46.07M',\n",
      "                  u'longFmt': u'46,073,000',\n",
      "                  u'raw': 46073000},\n",
      " u'sharesShortPriorMonth': {u'fmt': u'58.95M',\n",
      "                            u'longFmt': u'58,948,500',\n",
      "                            u'raw': 58948500},\n",
      " u'shortPercentOfFloat': {u'fmt': u'0.83%', u'raw': 0.008315},\n",
      " u'shortRatio': {u'fmt': u'1.45', u'raw': 1.45},\n",
      " u'threeYearAverageReturn': {},\n",
      " u'totalAssets': {},\n",
      " u'trailingEps': {u'fmt': u'8.31', u'raw': 8.31},\n",
      " u'yield': {},\n",
      " u'ytdReturn': {}}\n"
     ]
    }
   ],
   "source": [
    "pp(dks)"
   ]
  },
  {
   "cell_type": "code",
   "execution_count": 27,
   "metadata": {
    "collapsed": false
   },
   "outputs": [
    {
     "data": {
      "text/plain": [
       "20724000"
      ]
     },
     "execution_count": 27,
     "metadata": {},
     "output_type": "execute_result"
    }
   ],
   "source": [
    "data[u'financialData'][u'totalCash'][u'raw']"
   ]
  },
  {
   "cell_type": "code",
   "execution_count": 56,
   "metadata": {
    "collapsed": true
   },
   "outputs": [],
   "source": [
    "import requests\n",
    "import urllib2\n",
    "from bs4 import BeautifulSoup  "
   ]
  },
  {
   "cell_type": "code",
   "execution_count": 12,
   "metadata": {
    "collapsed": false
   },
   "outputs": [],
   "source": [
    "page = 'https://ca.finance.yahoo.com/quote/AAPL'\n",
    "page = urllib2.urlopen(page).read()\n",
    "soup = BeautifulSoup(page, 'html.parser')\n",
    "#soup = (page, 'html.parser')  "
   ]
  },
  {
   "cell_type": "code",
   "execution_count": 83,
   "metadata": {
    "collapsed": false
   },
   "outputs": [
    {
     "data": {
      "text/plain": [
       "<td class=\"Ta(end) Fw(b)\" data-reactid=\"348\" data-test=\"OPEN-value\">117.95</td>"
      ]
     },
     "execution_count": 83,
     "metadata": {},
     "output_type": "execute_result"
    }
   ],
   "source": [
    "#values = soup.findAll(\"td\", \"Ta(end) Fw(b)\")\n",
    "values = soup.find(\"td\", {'data-test':'OPEN-value'})\n",
    "values"
   ]
  },
  {
   "cell_type": "code",
   "execution_count": 84,
   "metadata": {
    "collapsed": false
   },
   "outputs": [
    {
     "data": {
      "text/plain": [
       "u'117.95'"
      ]
     },
     "execution_count": 84,
     "metadata": {},
     "output_type": "execute_result"
    }
   ],
   "source": [
    "values.string"
   ]
  },
  {
   "cell_type": "code",
   "execution_count": null,
   "metadata": {
    "collapsed": true
   },
   "outputs": [],
   "source": []
  }
 ],
 "metadata": {
  "kernelspec": {
   "display_name": "Python 2",
   "language": "python",
   "name": "python2"
  },
  "language_info": {
   "codemirror_mode": {
    "name": "ipython",
    "version": 2
   },
   "file_extension": ".py",
   "mimetype": "text/x-python",
   "name": "python",
   "nbconvert_exporter": "python",
   "pygments_lexer": "ipython2",
   "version": "2.7.11"
  }
 },
 "nbformat": 4,
 "nbformat_minor": 1
}
