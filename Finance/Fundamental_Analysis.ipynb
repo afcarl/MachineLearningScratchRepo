{
 "cells": [
  {
   "cell_type": "markdown",
   "metadata": {},
   "source": [
    "# Fundamental Analysis\n",
    "This notebook plots various fundamental statistics of different stocks.  \n",
    "These links were helpful:  \n",
    "https://simply-python.com/2015/02/13/getting-historical-financial-statistics-of-stock-using-python/\n",
    "http://stackoverflow.com/questions/40139537/scrape-yahoo-finance-financial-ratios  \n",
    "https://automatetheboringstuff.com/chapter11/  "
   ]
  },
  {
   "cell_type": "code",
   "execution_count": 1,
   "metadata": {
    "collapsed": false
   },
   "outputs": [],
   "source": [
    "import pandas as pd\n",
    "import numpy as np\n",
    "import requests\n",
    "from pprint import pprint as pp\n",
    "import matplotlib.pyplot as plt\n",
    "%matplotlib inline"
   ]
  },
  {
   "cell_type": "code",
   "execution_count": 2,
   "metadata": {
    "collapsed": false
   },
   "outputs": [],
   "source": [
    "def get_stats(stock, stats):\n",
    "    params = {\"formatted\": \"true\",\n",
    "            \"crumb\": \"AKV/cl0TOgz\", # works without so not sure of significance\n",
    "            \"lang\": \"en-US\",\n",
    "            \"region\": \"US\",\n",
    "            \"modules\": \"defaultKeyStatistics,financialData,calendarEvents\",\n",
    "            \"corsDomain\": \"finance.yahoo.com\"}\n",
    "\n",
    "    link=\"https://query1.finance.yahoo.com/v10/finance/quoteSummary/%s\"%stock\n",
    "    r = requests.get(link, params=params)\n",
    "    array = []\n",
    "    for s in stats:\n",
    "        try:\n",
    "            data = r.json()[u'quoteSummary'][\"result\"][0]\n",
    "            array.append(data[u'%s'%s[0]][u'%s'%s[1]][u'raw'])\n",
    "        except:\n",
    "            print 'could not get stat %s for stock %s'%(s,stock)\n",
    "            return array\n",
    "    return array"
   ]
  },
  {
   "cell_type": "code",
   "execution_count": 3,
   "metadata": {
    "collapsed": false
   },
   "outputs": [
    {
     "name": "stdout",
     "output_type": "stream",
     "text": [
      "['Materials' 'Consumer Staples' 'Energy' 'Financials'\n",
      " 'Telecommunication Services' 'Information Technology' 'Industrials'\n",
      " 'Consumer Discretionary' 'Utilities' 'Health Care']\n"
     ]
    },
    {
     "data": {
      "text/html": [
       "<div>\n",
       "<table border=\"1\" class=\"dataframe\">\n",
       "  <thead>\n",
       "    <tr style=\"text-align: right;\">\n",
       "      <th></th>\n",
       "      <th>Symbol</th>\n",
       "      <th>Company</th>\n",
       "      <th>Sector</th>\n",
       "    </tr>\n",
       "  </thead>\n",
       "  <tbody>\n",
       "    <tr>\n",
       "      <th>0</th>\n",
       "      <td>AEM.TO</td>\n",
       "      <td>Agnico Eagle Mines Limited</td>\n",
       "      <td>Materials</td>\n",
       "    </tr>\n",
       "    <tr>\n",
       "      <th>1</th>\n",
       "      <td>AGU.TO</td>\n",
       "      <td>Agrium Inc.</td>\n",
       "      <td>Materials</td>\n",
       "    </tr>\n",
       "    <tr>\n",
       "      <th>2</th>\n",
       "      <td>ATD-B.TO</td>\n",
       "      <td>Alimentation Couche-Tard Inc.</td>\n",
       "      <td>Consumer Staples</td>\n",
       "    </tr>\n",
       "    <tr>\n",
       "      <th>3</th>\n",
       "      <td>ARX.TO</td>\n",
       "      <td>ARC Resources Ltd.</td>\n",
       "      <td>Energy</td>\n",
       "    </tr>\n",
       "    <tr>\n",
       "      <th>4</th>\n",
       "      <td>BMO.TO</td>\n",
       "      <td>Bank of Montreal</td>\n",
       "      <td>Financials</td>\n",
       "    </tr>\n",
       "  </tbody>\n",
       "</table>\n",
       "</div>"
      ],
      "text/plain": [
       "     Symbol                        Company            Sector\n",
       "0    AEM.TO     Agnico Eagle Mines Limited         Materials\n",
       "1    AGU.TO                    Agrium Inc.         Materials\n",
       "2  ATD-B.TO  Alimentation Couche-Tard Inc.  Consumer Staples\n",
       "3    ARX.TO             ARC Resources Ltd.            Energy\n",
       "4    BMO.TO               Bank of Montreal        Financials"
      ]
     },
     "execution_count": 3,
     "metadata": {},
     "output_type": "execute_result"
    }
   ],
   "source": [
    "tickers = pd.read_csv('csv/tsx60.csv',delimiter=\",\")\n",
    "print tickers[\"Sector\"].unique()\n",
    "tickers.head()"
   ]
  },
  {
   "cell_type": "code",
   "execution_count": 4,
   "metadata": {
    "collapsed": true
   },
   "outputs": [],
   "source": [
    "stats = [('defaultKeyStatistics','beta'),('defaultKeyStatistics','priceToBook'),('defaultKeyStatistics','trailingEps'),('financialData','currentPrice'),('defaultKeyStatistics','shortRatio'),('financialData','quickRatio'),('financialData','returnOnEquity'),('financialData','returnOnAssets')]\n",
    "#('financialData','debtToEquity')"
   ]
  },
  {
   "cell_type": "code",
   "execution_count": 5,
   "metadata": {
    "collapsed": false
   },
   "outputs": [
    {
     "name": "stdout",
     "output_type": "stream",
     "text": [
      "could not get stat ('defaultKeyStatistics', 'beta') for stock AEM.TO\n",
      "could not get stat ('financialData', 'quickRatio') for stock BMO.TO\n",
      "could not get stat ('financialData', 'quickRatio') for stock BNS.TO\n",
      "could not get stat ('defaultKeyStatistics', 'priceToBook') for stock BBD-B.TO\n",
      "could not get stat ('financialData', 'quickRatio') for stock CM.TO\n",
      "could not get stat ('financialData', 'returnOnEquity') for stock GIL.TO\n",
      "could not get stat ('financialData', 'quickRatio') for stock NA.TO\n",
      "could not get stat ('defaultKeyStatistics', 'beta') for stock QSR.TO\n",
      "could not get stat ('defaultKeyStatistics', 'beta') for stock RCI-B\n",
      "could not get stat ('financialData', 'quickRatio') for stock RY.TO\n",
      "could not get stat ('defaultKeyStatistics', 'beta') for stock TCK-B.TO\n",
      "could not get stat ('financialData', 'quickRatio') for stock TD.TO\n",
      "could not get stat ('defaultKeyStatistics', 'beta') for stock VRX.TO\n"
     ]
    },
    {
     "data": {
      "text/html": [
       "<div>\n",
       "<table border=\"1\" class=\"dataframe\">\n",
       "  <thead>\n",
       "    <tr style=\"text-align: right;\">\n",
       "      <th></th>\n",
       "      <th>beta</th>\n",
       "      <th>priceToBook</th>\n",
       "      <th>trailingEps</th>\n",
       "      <th>currentPrice</th>\n",
       "      <th>shortRatio</th>\n",
       "      <th>quickRatio</th>\n",
       "      <th>returnOnEquity</th>\n",
       "      <th>returnOnAssets</th>\n",
       "    </tr>\n",
       "  </thead>\n",
       "  <tbody>\n",
       "    <tr>\n",
       "      <th>AGU.TO</th>\n",
       "      <td>0.423799</td>\n",
       "      <td>2.970343</td>\n",
       "      <td>6.222</td>\n",
       "      <td>139.52</td>\n",
       "      <td>3.08</td>\n",
       "      <td>0.682</td>\n",
       "      <td>0.11820</td>\n",
       "      <td>0.04451</td>\n",
       "    </tr>\n",
       "    <tr>\n",
       "      <th>ATD-B.TO</th>\n",
       "      <td>0.032133</td>\n",
       "      <td>6.237674</td>\n",
       "      <td>1.988</td>\n",
       "      <td>61.36</td>\n",
       "      <td>3.99</td>\n",
       "      <td>0.883</td>\n",
       "      <td>0.21960</td>\n",
       "      <td>0.08570</td>\n",
       "    </tr>\n",
       "    <tr>\n",
       "      <th>ARX.TO</th>\n",
       "      <td>1.168420</td>\n",
       "      <td>2.144882</td>\n",
       "      <td>-0.819</td>\n",
       "      <td>20.43</td>\n",
       "      <td>20.97</td>\n",
       "      <td>0.654</td>\n",
       "      <td>-0.00605</td>\n",
       "      <td>-0.00784</td>\n",
       "    </tr>\n",
       "    <tr>\n",
       "      <th>ABX.TO</th>\n",
       "      <td>-0.366030</td>\n",
       "      <td>3.664548</td>\n",
       "      <td>-2.053</td>\n",
       "      <td>23.64</td>\n",
       "      <td>2.46</td>\n",
       "      <td>1.589</td>\n",
       "      <td>-0.23337</td>\n",
       "      <td>0.05015</td>\n",
       "    </tr>\n",
       "    <tr>\n",
       "      <th>BCE.TO</th>\n",
       "      <td>0.325981</td>\n",
       "      <td>4.106493</td>\n",
       "      <td>3.160</td>\n",
       "      <td>58.69</td>\n",
       "      <td>21.93</td>\n",
       "      <td>0.414</td>\n",
       "      <td>0.17630</td>\n",
       "      <td>0.06621</td>\n",
       "    </tr>\n",
       "  </tbody>\n",
       "</table>\n",
       "</div>"
      ],
      "text/plain": [
       "              beta  priceToBook  trailingEps  currentPrice  shortRatio  \\\n",
       "AGU.TO    0.423799     2.970343        6.222        139.52        3.08   \n",
       "ATD-B.TO  0.032133     6.237674        1.988         61.36        3.99   \n",
       "ARX.TO    1.168420     2.144882       -0.819         20.43       20.97   \n",
       "ABX.TO   -0.366030     3.664548       -2.053         23.64        2.46   \n",
       "BCE.TO    0.325981     4.106493        3.160         58.69       21.93   \n",
       "\n",
       "          quickRatio  returnOnEquity  returnOnAssets  \n",
       "AGU.TO         0.682         0.11820         0.04451  \n",
       "ATD-B.TO       0.883         0.21960         0.08570  \n",
       "ARX.TO         0.654        -0.00605        -0.00784  \n",
       "ABX.TO         1.589        -0.23337         0.05015  \n",
       "BCE.TO         0.414         0.17630         0.06621  "
      ]
     },
     "execution_count": 5,
     "metadata": {},
     "output_type": "execute_result"
    }
   ],
   "source": [
    "#stocks = tickers.loc[tickers[\"Sector\"]==\"Health Care\",\"Symbol\"].values\n",
    "stocks = tickers[\"Symbol\"].values\n",
    "\n",
    "results = []\n",
    "for s in stocks:\n",
    "    r = get_stats(s,stats)\n",
    "    if len(r) == len(stats):\n",
    "        results.append(r)\n",
    "    else:\n",
    "        stocks = np.delete(stocks, np.argwhere(stocks==s))\n",
    "\n",
    "#convert to pandas dataframe\n",
    "results = pd.DataFrame(results,columns=zip(*stats)[1],index=stocks)\n",
    "results.head()"
   ]
  },
  {
   "cell_type": "code",
   "execution_count": 16,
   "metadata": {
    "collapsed": false
   },
   "outputs": [
    {
     "data": {
      "text/html": [
       "<div>\n",
       "<table border=\"1\" class=\"dataframe\">\n",
       "  <thead>\n",
       "    <tr style=\"text-align: right;\">\n",
       "      <th></th>\n",
       "      <th>beta</th>\n",
       "      <th>priceToBook</th>\n",
       "      <th>trailingEps</th>\n",
       "      <th>currentPrice</th>\n",
       "      <th>shortRatio</th>\n",
       "      <th>quickRatio</th>\n",
       "      <th>returnOnEquity</th>\n",
       "      <th>returnOnAssets</th>\n",
       "    </tr>\n",
       "  </thead>\n",
       "  <tbody>\n",
       "    <tr>\n",
       "      <th>AW-UN.TO</th>\n",
       "      <td>1.218030</td>\n",
       "      <td>4.794177</td>\n",
       "      <td>1.480</td>\n",
       "      <td>38.20</td>\n",
       "      <td>1.15</td>\n",
       "      <td>2.288</td>\n",
       "      <td>0.15475</td>\n",
       "      <td>0.09161</td>\n",
       "    </tr>\n",
       "    <tr>\n",
       "      <th>PZA.TO</th>\n",
       "      <td>0.834333</td>\n",
       "      <td>1.966716</td>\n",
       "      <td>0.869</td>\n",
       "      <td>17.49</td>\n",
       "      <td>11.64</td>\n",
       "      <td>2.823</td>\n",
       "      <td>0.09782</td>\n",
       "      <td>0.06306</td>\n",
       "    </tr>\n",
       "    <tr>\n",
       "      <th>BPF-UN.TO</th>\n",
       "      <td>0.927251</td>\n",
       "      <td>1.765611</td>\n",
       "      <td>1.853</td>\n",
       "      <td>22.96</td>\n",
       "      <td>12.71</td>\n",
       "      <td>16.596</td>\n",
       "      <td>0.14492</td>\n",
       "      <td>0.06310</td>\n",
       "    </tr>\n",
       "    <tr>\n",
       "      <th>KEG-UN.TO</th>\n",
       "      <td>0.584462</td>\n",
       "      <td>3.075096</td>\n",
       "      <td>-0.016</td>\n",
       "      <td>20.72</td>\n",
       "      <td>0.25</td>\n",
       "      <td>4.219</td>\n",
       "      <td>-0.00217</td>\n",
       "      <td>0.07591</td>\n",
       "    </tr>\n",
       "    <tr>\n",
       "      <th>MTY.TO</th>\n",
       "      <td>0.591468</td>\n",
       "      <td>5.123958</td>\n",
       "      <td>1.440</td>\n",
       "      <td>47.95</td>\n",
       "      <td>19.57</td>\n",
       "      <td>0.330</td>\n",
       "      <td>0.16053</td>\n",
       "      <td>0.05850</td>\n",
       "    </tr>\n",
       "  </tbody>\n",
       "</table>\n",
       "</div>"
      ],
      "text/plain": [
       "               beta  priceToBook  trailingEps  currentPrice  shortRatio  \\\n",
       "AW-UN.TO   1.218030     4.794177        1.480         38.20        1.15   \n",
       "PZA.TO     0.834333     1.966716        0.869         17.49       11.64   \n",
       "BPF-UN.TO  0.927251     1.765611        1.853         22.96       12.71   \n",
       "KEG-UN.TO  0.584462     3.075096       -0.016         20.72        0.25   \n",
       "MTY.TO     0.591468     5.123958        1.440         47.95       19.57   \n",
       "\n",
       "           quickRatio  returnOnEquity  returnOnAssets  \n",
       "AW-UN.TO        2.288         0.15475         0.09161  \n",
       "PZA.TO          2.823         0.09782         0.06306  \n",
       "BPF-UN.TO      16.596         0.14492         0.06310  \n",
       "KEG-UN.TO       4.219        -0.00217         0.07591  \n",
       "MTY.TO          0.330         0.16053         0.05850  "
      ]
     },
     "execution_count": 16,
     "metadata": {},
     "output_type": "execute_result"
    }
   ],
   "source": [
    "#New stocks to check\n",
    "nstocks = np.asarray(['AW-UN.TO','PZA.TO','BPF-UN.TO','KEG-UN.TO','MTY.TO','SCU.TO','IRG.TO','SRV-UN.TO'])\n",
    "nresults = []\n",
    "for s in nstocks:\n",
    "    r = get_stats(s,stats)\n",
    "    if len(r) == len(stats):\n",
    "        nresults.append(r)\n",
    "    else:\n",
    "        nstocks = np.delete(nstocks, np.argwhere(nstocks==s))\n",
    "\n",
    "nresults = pd.DataFrame(nresults,columns=zip(*stats)[1],index=nstocks)\n",
    "nresults.head()"
   ]
  },
  {
   "cell_type": "code",
   "execution_count": 17,
   "metadata": {
    "collapsed": false
   },
   "outputs": [],
   "source": [
    "#Create new features\n",
    "#P/E Ratio\n",
    "#results[\"PE Ratio\"] = results[\"currentPrice\"]/results[\"trailingEps\"]\n",
    "nresults[\"PE Ratio\"] = nresults[\"currentPrice\"]/nresults[\"trailingEps\"]"
   ]
  },
  {
   "cell_type": "code",
   "execution_count": 22,
   "metadata": {
    "collapsed": false,
    "scrolled": false
   },
   "outputs": [
    {
     "data": {
      "image/png": "[encoded data removed]",
      "text/plain": [
       "<matplotlib.figure.Figure at 0x108755c10>"
      ]
     },
     "metadata": {},
     "output_type": "display_data"
    }
   ],
   "source": [
    "def plot_labels(a,x,y,size,xlo=None,xhi=None,ylo=None,yhi=None):\n",
    "    arr = a.loc[(a[y]>ylo)&(a[y]<yhi)&(a[x]>xlo)&(a[x]<xhi)]\n",
    "    arrx, arry, arrnames = arr[x].values, arr[y].values, arr.index.values\n",
    "    for i in range(len(arrx)):\n",
    "        plt.text(arrx[i], arry[i], arrnames[i], size=size)\n",
    "\n",
    "x = \"PE Ratio\"\n",
    "y = \"priceToBook\"\n",
    "xlo,xhi = 0, 50\n",
    "#ylo,yhi = 0, 30\n",
    "plt.xlim([xlo,xhi])\n",
    "#plt.ylim([ylo,yhi])\n",
    "\n",
    "#baseline results\n",
    "#plt.scatter(results[x], results[y], lw=0, s=10)\n",
    "#plot_labels(results,x,y,6,xlo,xhi,ylo,yhi)\n",
    "\n",
    "#new stocks\n",
    "plt.scatter(nresults[x], nresults[y], lw=0, color='red', s=20)\n",
    "plot_labels(nresults,x,y,6,xlo,xhi,ylo,yhi)\n",
    "\n",
    "#labels and ranges\n",
    "\n",
    "plt.xlabel(x)\n",
    "plt.ylabel(y)\n",
    "plt.savefig(\"plots/%s_v_%s.png\"%(x,y))"
   ]
  },
  {
   "cell_type": "markdown",
   "metadata": {},
   "source": [
    "## Where Each statistic is located"
   ]
  },
  {
   "cell_type": "code",
   "execution_count": 49,
   "metadata": {
    "collapsed": false,
    "scrolled": false
   },
   "outputs": [
    {
     "name": "stdout",
     "output_type": "stream",
     "text": [
      "{u'calendarEvents': {u'dividendDate': {u'fmt': u'2016-11-10',\n",
      "                                       u'raw': 1478736000},\n",
      "                     u'earnings': {u'earningsAverage': {u'fmt': u'3.22',\n",
      "                                                        u'raw': 3.22},\n",
      "                                   u'earningsDate': [{u'fmt': u'2017-01-31',\n",
      "                                                      u'raw': 1485820800}],\n",
      "                                   u'earningsHigh': {u'fmt': u'3.77',\n",
      "                                                     u'raw': 3.77},\n",
      "                                   u'earningsLow': {u'fmt': u'3.11',\n",
      "                                                    u'raw': 3.11},\n",
      "                                   u'revenueAverage': {u'fmt': u'77.39B',\n",
      "                                                       u'longFmt': u'77,386,500,000',\n",
      "                                                       u'raw': 77386500000},\n",
      "                                   u'revenueHigh': {u'fmt': u'86.73B',\n",
      "                                                    u'longFmt': u'86,733,000,000',\n",
      "                                                    u'raw': 86733000000},\n",
      "                                   u'revenueLow': {u'fmt': u'75.1B',\n",
      "                                                   u'longFmt': u'75,100,000,000',\n",
      "                                                   u'raw': 75100000000}},\n",
      "                     u'exDividendDate': {u'fmt': u'2016-11-03',\n",
      "                                         u'raw': 1478131200},\n",
      "                     u'maxAge': 1},\n",
      " u'defaultKeyStatistics': {u'52WeekChange': {u'fmt': u'20.77%',\n",
      "                                             u'raw': 0.20765245},\n",
      "                           u'SandP52WeekChange': {u'fmt': u'17.95%',\n",
      "                                                  u'raw': 0.17946422},\n",
      "                           u'annualHoldingsTurnover': {},\n",
      "                           u'annualReportExpenseRatio': {},\n",
      "                           u'beta': {u'fmt': u'1.44', u'raw': 1.44166},\n",
      "                           u'beta3Year': {},\n",
      "                           u'bookValue': {u'fmt': u'24.03', u'raw': 24.034},\n",
      "                           u'category': None,\n",
      "                           u'earningsQuarterlyGrowth': {u'fmt': u'-19.00%',\n",
      "                                                        u'raw': -0.19},\n",
      "                           u'enterpriseToEbitda': {u'fmt': u'9.27',\n",
      "                                                   u'raw': 9.268},\n",
      "                           u'enterpriseToRevenue': {u'fmt': u'3.03',\n",
      "                                                    u'raw': 3.031},\n",
      "                           u'enterpriseValue': {u'fmt': u'653.65B',\n",
      "                                                u'longFmt': u'653,647,937,536',\n",
      "                                                u'raw': 653647937536},\n",
      "                           u'fiveYearAverageReturn': {},\n",
      "                           u'floatShares': {u'fmt': u'5.31B',\n",
      "                                            u'longFmt': u'5,313,329,954',\n",
      "                                            u'raw': 5313329954},\n",
      "                           u'forwardEps': {u'fmt': u'10.08', u'raw': 10.08},\n",
      "                           u'forwardPE': {u'fmt': u'11.82',\n",
      "                                          u'raw': 11.816468},\n",
      "                           u'fundFamily': None,\n",
      "                           u'fundInceptionDate': {},\n",
      "                           u'heldPercentInsiders': {u'fmt': u'0.03%',\n",
      "                                                    u'raw': 0.00033},\n",
      "                           u'heldPercentInstitutions': {u'fmt': u'60.20%',\n",
      "                                                        u'raw': 0.602},\n",
      "                           u'lastCapGain': {},\n",
      "                           u'lastDividendValue': {},\n",
      "                           u'lastFiscalYearEnd': {u'fmt': u'2016-09-24',\n",
      "                                                  u'raw': 1474675200},\n",
      "                           u'lastSplitDate': {u'fmt': u'2014-06-09',\n",
      "                                              u'raw': 1402272000},\n",
      "                           u'lastSplitFactor': u'7/1',\n",
      "                           u'legalType': None,\n",
      "                           u'maxAge': 1,\n",
      "                           u'morningStarOverallRating': {},\n",
      "                           u'morningStarRiskRating': {},\n",
      "                           u'mostRecentQuarter': {u'fmt': u'2016-09-24',\n",
      "                                                  u'raw': 1474675200},\n",
      "                           u'netIncomeToCommon': {u'fmt': u'45.69B',\n",
      "                                                  u'longFmt': u'45,687,001,088',\n",
      "                                                  u'raw': 45687001088},\n",
      "                           u'nextFiscalYearEnd': {u'fmt': u'2018-09-24',\n",
      "                                                  u'raw': 1537747200},\n",
      "                           u'pegRatio': {u'fmt': u'1.51', u'raw': 1.51},\n",
      "                           u'priceToBook': {u'fmt': u'4.96',\n",
      "                                            u'raw': 4.955896},\n",
      "                           u'priceToSalesTrailing12Months': {},\n",
      "                           u'profitMargins': {u'fmt': u'21.19%',\n",
      "                                              u'raw': 0.21187},\n",
      "                           u'revenueQuarterlyGrowth': {},\n",
      "                           u'sharesOutstanding': {u'fmt': u'5.33B',\n",
      "                                                  u'longFmt': u'5,332,310,000',\n",
      "                                                  u'raw': 5332310000},\n",
      "                           u'sharesShort': {u'fmt': u'46.07M',\n",
      "                                            u'longFmt': u'46,073,000',\n",
      "                                            u'raw': 46073000},\n",
      "                           u'sharesShortPriorMonth': {u'fmt': u'58.95M',\n",
      "                                                      u'longFmt': u'58,948,500',\n",
      "                                                      u'raw': 58948500},\n",
      "                           u'shortPercentOfFloat': {u'fmt': u'0.83%',\n",
      "                                                    u'raw': 0.008315},\n",
      "                           u'shortRatio': {u'fmt': u'1.45', u'raw': 1.45},\n",
      "                           u'threeYearAverageReturn': {},\n",
      "                           u'totalAssets': {},\n",
      "                           u'trailingEps': {u'fmt': u'8.31', u'raw': 8.31},\n",
      "                           u'yield': {},\n",
      "                           u'ytdReturn': {}},\n",
      " u'financialData': {u'currentPrice': {u'fmt': u'119.11', u'raw': 119.11},\n",
      "                    u'currentRatio': {u'fmt': u'1.35', u'raw': 1.353},\n",
      "                    u'debtToEquity': {u'fmt': u'67.87', u'raw': 67.867},\n",
      "                    u'earningsGrowth': {u'fmt': u'-14.40%', u'raw': -0.144},\n",
      "                    u'ebitda': {u'fmt': u'70.53B',\n",
      "                                u'longFmt': u'70,528,999,424',\n",
      "                                u'raw': 70528999424},\n",
      "                    u'ebitdaMargins': {u'fmt': u'32.71%', u'raw': 0.32707},\n",
      "                    u'freeCashflow': {u'fmt': u'43.97B',\n",
      "                                      u'longFmt': u'43,965,001,728',\n",
      "                                      u'raw': 43965001728},\n",
      "                    u'grossMargins': {u'fmt': u'39.08%', u'raw': 0.39076},\n",
      "                    u'grossProfits': {u'fmt': u'84.26B',\n",
      "                                      u'longFmt': u'84,263,000,000',\n",
      "                                      u'raw': 84263000000},\n",
      "                    u'maxAge': 86400,\n",
      "                    u'numberOfAnalystOpinions': {u'fmt': u'44',\n",
      "                                                 u'longFmt': u'44',\n",
      "                                                 u'raw': 44},\n",
      "                    u'operatingCashflow': {u'fmt': u'65.82B',\n",
      "                                           u'longFmt': u'65,823,997,952',\n",
      "                                           u'raw': 65823997952},\n",
      "                    u'operatingMargins': {u'fmt': u'27.83%', u'raw': 0.27835},\n",
      "                    u'profitMargins': {u'fmt': u'21.19%', u'raw': 0.21187},\n",
      "                    u'quickRatio': {u'fmt': u'1.23', u'raw': 1.23},\n",
      "                    u'recommendationKey': u'buy',\n",
      "                    u'recommendationMean': {u'fmt': u'1.90', u'raw': 1.9},\n",
      "                    u'returnOnAssets': {u'fmt': u'12.26%', u'raw': 0.12259},\n",
      "                    u'returnOnEquity': {u'fmt': u'36.90%', u'raw': 0.36903},\n",
      "                    u'revenueGrowth': {u'fmt': u'-9.00%', u'raw': -0.09},\n",
      "                    u'revenuePerShare': {u'fmt': u'39.42', u'raw': 39.416},\n",
      "                    u'targetHighPrice': {u'fmt': u'185.00', u'raw': 185.0},\n",
      "                    u'targetLowPrice': {u'fmt': u'85.00', u'raw': 85.0},\n",
      "                    u'targetMeanPrice': {u'fmt': u'132.25', u'raw': 132.25},\n",
      "                    u'targetMedianPrice': {u'fmt': u'133.00', u'raw': 133.0},\n",
      "                    u'totalCash': {u'fmt': u'67.88B',\n",
      "                                   u'longFmt': u'67,882,999,808',\n",
      "                                   u'raw': 67882999808},\n",
      "                    u'totalCashPerShare': {u'fmt': u'12.73', u'raw': 12.73},\n",
      "                    u'totalDebt': {u'fmt': u'87.04B',\n",
      "                                   u'longFmt': u'87,039,000,576',\n",
      "                                   u'raw': 87039000576},\n",
      "                    u'totalRevenue': {u'fmt': u'215.64B',\n",
      "                                      u'longFmt': u'215,638,999,040',\n",
      "                                      u'raw': 215638999040}}}\n"
     ]
    }
   ],
   "source": [
    "pp(data)"
   ]
  },
  {
   "cell_type": "markdown",
   "metadata": {},
   "source": [
    "# More sophisticated stuff below that is harder but allows more control...\n",
    "Haven't quite figured this out yet..."
   ]
  },
  {
   "cell_type": "code",
   "execution_count": 2,
   "metadata": {
    "collapsed": true
   },
   "outputs": [],
   "source": [
    "import requests\n",
    "import urllib2\n",
    "from bs4 import BeautifulSoup  "
   ]
  },
  {
   "cell_type": "code",
   "execution_count": 23,
   "metadata": {
    "collapsed": false
   },
   "outputs": [],
   "source": [
    "website = 'https://ca.finance.yahoo.com/quote/AAPL'\n",
    "page = urllib2.urlopen(website).read()\n",
    "soup = BeautifulSoup(page, 'html.parser')\n",
    "#soup = (page, 'html.parser')  "
   ]
  },
  {
   "cell_type": "code",
   "execution_count": 16,
   "metadata": {
    "collapsed": false
   },
   "outputs": [
    {
     "data": {
      "text/plain": [
       "<td class=\"Ta(end) Fw(b)\" data-reactid=\"348\" data-test=\"OPEN-value\">118.77</td>"
      ]
     },
     "execution_count": 16,
     "metadata": {},
     "output_type": "execute_result"
    }
   ],
   "source": [
    "#values = soup.findAll(\"td\", \"Ta(end) Fw(b)\")\n",
    "values = soup.find(\"td\", {'data-test':'OPEN-value'})\n",
    "values"
   ]
  },
  {
   "cell_type": "code",
   "execution_count": 17,
   "metadata": {
    "collapsed": false
   },
   "outputs": [
    {
     "data": {
      "text/plain": [
       "u'118.77'"
      ]
     },
     "execution_count": 17,
     "metadata": {},
     "output_type": "execute_result"
    }
   ],
   "source": [
    "values.string"
   ]
  },
  {
   "cell_type": "code",
   "execution_count": 28,
   "metadata": {
    "collapsed": true
   },
   "outputs": [],
   "source": [
    "website = \"https://ca.finance.yahoo.com/quote/AAPL/key-statistics?p=AAPL\"\n",
    "page = urllib2.urlopen(website).read()\n",
    "soup = BeautifulSoup(page, 'html.parser')"
   ]
  },
  {
   "cell_type": "code",
   "execution_count": 34,
   "metadata": {
    "collapsed": false
   },
   "outputs": [
    {
     "data": {
      "text/plain": [
       "[]"
      ]
     },
     "execution_count": 34,
     "metadata": {},
     "output_type": "execute_result"
    }
   ],
   "source": [
    "values = soup.findAll(\"main\",{'class':'Mstart(a) Mend(a)'})\n",
    "values"
   ]
  },
  {
   "cell_type": "code",
   "execution_count": null,
   "metadata": {
    "collapsed": true
   },
   "outputs": [],
   "source": []
  }
 ],
 "metadata": {
  "kernelspec": {
   "display_name": "Python 2",
   "language": "python",
   "name": "python2"
  },
  "language_info": {
   "codemirror_mode": {
    "name": "ipython",
    "version": 2
   },
   "file_extension": ".py",
   "mimetype": "text/x-python",
   "name": "python",
   "nbconvert_exporter": "python",
   "pygments_lexer": "ipython2",
   "version": "2.7.11"
  }
 },
 "nbformat": 4,
 "nbformat_minor": 1
}
