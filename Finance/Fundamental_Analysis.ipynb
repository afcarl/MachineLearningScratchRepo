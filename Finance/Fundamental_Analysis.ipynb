{
 "cells": [
  {
   "cell_type": "markdown",
   "metadata": {},
   "source": [
    "# Fundamental Analysis\n",
    "This notebook plots various fundamental statistics of different stocks.  \n",
    "These links were helpful:  \n",
    "https://simply-python.com/2015/02/13/getting-historical-financial-statistics-of-stock-using-python/\n",
    "http://stackoverflow.com/questions/40139537/scrape-yahoo-finance-financial-ratios  \n",
    "https://automatetheboringstuff.com/chapter11/  "
   ]
  },
  {
   "cell_type": "code",
   "execution_count": 1,
   "metadata": {
    "collapsed": false
   },
   "outputs": [],
   "source": [
    "import pandas as pd\n",
    "import numpy as np\n",
    "import requests\n",
    "from pprint import pprint as pp\n",
    "import matplotlib.pyplot as plt\n",
    "%matplotlib inline"
   ]
  },
  {
   "cell_type": "code",
   "execution_count": 2,
   "metadata": {
    "collapsed": false
   },
   "outputs": [],
   "source": [
    "def get_stats(stock, stats):\n",
    "    params = {\"formatted\": \"true\",\n",
    "            \"crumb\": \"AKV/cl0TOgz\", # works without so not sure of significance\n",
    "            \"lang\": \"en-US\",\n",
    "            \"region\": \"US\",\n",
    "            \"modules\": \"defaultKeyStatistics,financialData,calendarEvents\",\n",
    "            \"corsDomain\": \"finance.yahoo.com\"}\n",
    "\n",
    "    link=\"https://query1.finance.yahoo.com/v10/finance/quoteSummary/%s\"%stock\n",
    "    r = requests.get(link, params=params)\n",
    "    array = []\n",
    "    for s in stats:\n",
    "        try:\n",
    "            data = r.json()[u'quoteSummary'][\"result\"][0]\n",
    "            array.append(data[u'%s'%s[0]][u'%s'%s[1]][u'raw'])\n",
    "        except:\n",
    "            print 'could not get stat %s for stock %s'%(s,stock)\n",
    "            return array\n",
    "    return array"
   ]
  },
  {
   "cell_type": "code",
   "execution_count": 3,
   "metadata": {
    "collapsed": false
   },
   "outputs": [
    {
     "name": "stdout",
     "output_type": "stream",
     "text": [
      "['Materials' 'Consumer Staples' 'Energy' 'Financials'\n",
      " 'Telecommunication Services' 'Information Technology' 'Industrials'\n",
      " 'Consumer Discretionary' 'Utilities' 'Health Care']\n"
     ]
    },
    {
     "data": {
      "text/html": [
       "<div>\n",
       "<table border=\"1\" class=\"dataframe\">\n",
       "  <thead>\n",
       "    <tr style=\"text-align: right;\">\n",
       "      <th></th>\n",
       "      <th>Symbol</th>\n",
       "      <th>Company</th>\n",
       "      <th>Sector</th>\n",
       "    </tr>\n",
       "  </thead>\n",
       "  <tbody>\n",
       "    <tr>\n",
       "      <th>0</th>\n",
       "      <td>AEM.TO</td>\n",
       "      <td>Agnico Eagle Mines Limited</td>\n",
       "      <td>Materials</td>\n",
       "    </tr>\n",
       "    <tr>\n",
       "      <th>1</th>\n",
       "      <td>AGU.TO</td>\n",
       "      <td>Agrium Inc.</td>\n",
       "      <td>Materials</td>\n",
       "    </tr>\n",
       "    <tr>\n",
       "      <th>2</th>\n",
       "      <td>ATD-B.TO</td>\n",
       "      <td>Alimentation Couche-Tard Inc.</td>\n",
       "      <td>Consumer Staples</td>\n",
       "    </tr>\n",
       "    <tr>\n",
       "      <th>3</th>\n",
       "      <td>ARX.TO</td>\n",
       "      <td>ARC Resources Ltd.</td>\n",
       "      <td>Energy</td>\n",
       "    </tr>\n",
       "    <tr>\n",
       "      <th>4</th>\n",
       "      <td>BMO.TO</td>\n",
       "      <td>Bank of Montreal</td>\n",
       "      <td>Financials</td>\n",
       "    </tr>\n",
       "  </tbody>\n",
       "</table>\n",
       "</div>"
      ],
      "text/plain": [
       "     Symbol                        Company            Sector\n",
       "0    AEM.TO     Agnico Eagle Mines Limited         Materials\n",
       "1    AGU.TO                    Agrium Inc.         Materials\n",
       "2  ATD-B.TO  Alimentation Couche-Tard Inc.  Consumer Staples\n",
       "3    ARX.TO             ARC Resources Ltd.            Energy\n",
       "4    BMO.TO               Bank of Montreal        Financials"
      ]
     },
     "execution_count": 3,
     "metadata": {},
     "output_type": "execute_result"
    }
   ],
   "source": [
    "tickers = pd.read_csv('csv/tsx60.csv',delimiter=\",\")\n",
    "print tickers[\"Sector\"].unique()\n",
    "tickers.head()"
   ]
  },
  {
   "cell_type": "code",
   "execution_count": 4,
   "metadata": {
    "collapsed": true
   },
   "outputs": [],
   "source": [
    "stats = [('defaultKeyStatistics','beta'),('defaultKeyStatistics','priceToBook'),('defaultKeyStatistics','trailingEps'),('financialData','currentPrice'),('defaultKeyStatistics','shortRatio'),('financialData','quickRatio'),('financialData','returnOnEquity'),('financialData','returnOnAssets')]\n",
    "#('financialData','debtToEquity')"
   ]
  },
  {
   "cell_type": "code",
   "execution_count": 5,
   "metadata": {
    "collapsed": false
   },
   "outputs": [
    {
     "name": "stdout",
     "output_type": "stream",
     "text": [
      "could not get stat ('defaultKeyStatistics', 'beta') for stock AEM.TO\n",
      "could not get stat ('financialData', 'quickRatio') for stock BMO.TO\n",
      "could not get stat ('financialData', 'quickRatio') for stock BNS.TO\n",
      "could not get stat ('defaultKeyStatistics', 'priceToBook') for stock BBD-B.TO\n",
      "could not get stat ('financialData', 'quickRatio') for stock CM.TO\n",
      "could not get stat ('financialData', 'quickRatio') for stock IMO.TO\n",
      "could not get stat ('financialData', 'quickRatio') for stock NA.TO\n",
      "could not get stat ('defaultKeyStatistics', 'beta') for stock QSR.TO\n",
      "could not get stat ('defaultKeyStatistics', 'beta') for stock RCI-B\n",
      "could not get stat ('financialData', 'quickRatio') for stock RY.TO\n",
      "could not get stat ('defaultKeyStatistics', 'beta') for stock TCK-B.TO\n",
      "could not get stat ('financialData', 'quickRatio') for stock TD.TO\n",
      "could not get stat ('defaultKeyStatistics', 'beta') for stock VRX.TO\n"
     ]
    },
    {
     "data": {
      "text/html": [
       "<div>\n",
       "<table border=\"1\" class=\"dataframe\">\n",
       "  <thead>\n",
       "    <tr style=\"text-align: right;\">\n",
       "      <th></th>\n",
       "      <th>beta</th>\n",
       "      <th>priceToBook</th>\n",
       "      <th>trailingEps</th>\n",
       "      <th>currentPrice</th>\n",
       "      <th>shortRatio</th>\n",
       "      <th>quickRatio</th>\n",
       "      <th>returnOnEquity</th>\n",
       "      <th>returnOnAssets</th>\n",
       "    </tr>\n",
       "  </thead>\n",
       "  <tbody>\n",
       "    <tr>\n",
       "      <th>AGU.TO</th>\n",
       "      <td>0.429656</td>\n",
       "      <td>2.853947</td>\n",
       "      <td>4.290</td>\n",
       "      <td>127.58</td>\n",
       "      <td>2.64</td>\n",
       "      <td>0.487</td>\n",
       "      <td>0.09786</td>\n",
       "      <td>0.03869</td>\n",
       "    </tr>\n",
       "    <tr>\n",
       "      <th>ATD-B.TO</th>\n",
       "      <td>-0.042132</td>\n",
       "      <td>6.370845</td>\n",
       "      <td>1.988</td>\n",
       "      <td>62.67</td>\n",
       "      <td>5.34</td>\n",
       "      <td>0.883</td>\n",
       "      <td>0.21960</td>\n",
       "      <td>0.08570</td>\n",
       "    </tr>\n",
       "    <tr>\n",
       "      <th>ARX.TO</th>\n",
       "      <td>1.130310</td>\n",
       "      <td>1.952555</td>\n",
       "      <td>0.570</td>\n",
       "      <td>19.26</td>\n",
       "      <td>14.23</td>\n",
       "      <td>1.873</td>\n",
       "      <td>0.05857</td>\n",
       "      <td>0.00092</td>\n",
       "    </tr>\n",
       "    <tr>\n",
       "      <th>ABX.TO</th>\n",
       "      <td>-0.287603</td>\n",
       "      <td>3.588425</td>\n",
       "      <td>0.560</td>\n",
       "      <td>24.43</td>\n",
       "      <td>2.20</td>\n",
       "      <td>1.582</td>\n",
       "      <td>0.08711</td>\n",
       "      <td>0.06212</td>\n",
       "    </tr>\n",
       "    <tr>\n",
       "      <th>BCE.TO</th>\n",
       "      <td>0.308367</td>\n",
       "      <td>3.729577</td>\n",
       "      <td>3.330</td>\n",
       "      <td>57.98</td>\n",
       "      <td>26.02</td>\n",
       "      <td>0.379</td>\n",
       "      <td>0.17548</td>\n",
       "      <td>0.06624</td>\n",
       "    </tr>\n",
       "  </tbody>\n",
       "</table>\n",
       "</div>"
      ],
      "text/plain": [
       "              beta  priceToBook  trailingEps  currentPrice  shortRatio  \\\n",
       "AGU.TO    0.429656     2.853947        4.290        127.58        2.64   \n",
       "ATD-B.TO -0.042132     6.370845        1.988         62.67        5.34   \n",
       "ARX.TO    1.130310     1.952555        0.570         19.26       14.23   \n",
       "ABX.TO   -0.287603     3.588425        0.560         24.43        2.20   \n",
       "BCE.TO    0.308367     3.729577        3.330         57.98       26.02   \n",
       "\n",
       "          quickRatio  returnOnEquity  returnOnAssets  \n",
       "AGU.TO         0.487         0.09786         0.03869  \n",
       "ATD-B.TO       0.883         0.21960         0.08570  \n",
       "ARX.TO         1.873         0.05857         0.00092  \n",
       "ABX.TO         1.582         0.08711         0.06212  \n",
       "BCE.TO         0.379         0.17548         0.06624  "
      ]
     },
     "execution_count": 5,
     "metadata": {},
     "output_type": "execute_result"
    }
   ],
   "source": [
    "#stocks = tickers.loc[tickers[\"Sector\"]==\"Health Care\",\"Symbol\"].values\n",
    "stocks = tickers[\"Symbol\"].values\n",
    "\n",
    "results = []\n",
    "for s in stocks:\n",
    "    r = get_stats(s,stats)\n",
    "    if len(r) == len(stats):\n",
    "        results.append(r)\n",
    "    else:\n",
    "        stocks = np.delete(stocks, np.argwhere(stocks==s))\n",
    "\n",
    "#convert to pandas dataframe\n",
    "results = pd.DataFrame(results,columns=zip(*stats)[1],index=stocks)\n",
    "results.head()"
   ]
  },
  {
   "cell_type": "code",
   "execution_count": 7,
   "metadata": {
    "collapsed": false
   },
   "outputs": [
    {
     "data": {
      "text/html": [
       "<div>\n",
       "<table border=\"1\" class=\"dataframe\">\n",
       "  <thead>\n",
       "    <tr style=\"text-align: right;\">\n",
       "      <th></th>\n",
       "      <th>beta</th>\n",
       "      <th>priceToBook</th>\n",
       "      <th>trailingEps</th>\n",
       "      <th>currentPrice</th>\n",
       "      <th>shortRatio</th>\n",
       "      <th>quickRatio</th>\n",
       "      <th>returnOnEquity</th>\n",
       "      <th>returnOnAssets</th>\n",
       "    </tr>\n",
       "  </thead>\n",
       "  <tbody>\n",
       "    <tr>\n",
       "      <th>AQN.TO</th>\n",
       "      <td>0.797812</td>\n",
       "      <td>2.106694</td>\n",
       "      <td>0.285</td>\n",
       "      <td>12.40</td>\n",
       "      <td>3.73</td>\n",
       "      <td>0.511</td>\n",
       "      <td>0.03896</td>\n",
       "      <td>0.02550</td>\n",
       "    </tr>\n",
       "    <tr>\n",
       "      <th>AW-UN.TO</th>\n",
       "      <td>1.225450</td>\n",
       "      <td>4.984385</td>\n",
       "      <td>1.542</td>\n",
       "      <td>39.90</td>\n",
       "      <td>1.85</td>\n",
       "      <td>0.071</td>\n",
       "      <td>0.15836</td>\n",
       "      <td>0.09139</td>\n",
       "    </tr>\n",
       "    <tr>\n",
       "      <th>PZA.TO</th>\n",
       "      <td>0.798920</td>\n",
       "      <td>1.998201</td>\n",
       "      <td>0.869</td>\n",
       "      <td>17.77</td>\n",
       "      <td>14.35</td>\n",
       "      <td>2.823</td>\n",
       "      <td>0.09782</td>\n",
       "      <td>0.06306</td>\n",
       "    </tr>\n",
       "    <tr>\n",
       "      <th>BPF-UN.TO</th>\n",
       "      <td>0.916817</td>\n",
       "      <td>1.772640</td>\n",
       "      <td>1.860</td>\n",
       "      <td>23.00</td>\n",
       "      <td>10.62</td>\n",
       "      <td>2.173</td>\n",
       "      <td>0.14546</td>\n",
       "      <td>0.06220</td>\n",
       "    </tr>\n",
       "    <tr>\n",
       "      <th>KEG-UN.TO</th>\n",
       "      <td>0.568010</td>\n",
       "      <td>2.945748</td>\n",
       "      <td>0.112</td>\n",
       "      <td>20.09</td>\n",
       "      <td>0.13</td>\n",
       "      <td>1.921</td>\n",
       "      <td>0.01526</td>\n",
       "      <td>0.07440</td>\n",
       "    </tr>\n",
       "  </tbody>\n",
       "</table>\n",
       "</div>"
      ],
      "text/plain": [
       "               beta  priceToBook  trailingEps  currentPrice  shortRatio  \\\n",
       "AQN.TO     0.797812     2.106694        0.285         12.40        3.73   \n",
       "AW-UN.TO   1.225450     4.984385        1.542         39.90        1.85   \n",
       "PZA.TO     0.798920     1.998201        0.869         17.77       14.35   \n",
       "BPF-UN.TO  0.916817     1.772640        1.860         23.00       10.62   \n",
       "KEG-UN.TO  0.568010     2.945748        0.112         20.09        0.13   \n",
       "\n",
       "           quickRatio  returnOnEquity  returnOnAssets  \n",
       "AQN.TO          0.511         0.03896         0.02550  \n",
       "AW-UN.TO        0.071         0.15836         0.09139  \n",
       "PZA.TO          2.823         0.09782         0.06306  \n",
       "BPF-UN.TO       2.173         0.14546         0.06220  \n",
       "KEG-UN.TO       1.921         0.01526         0.07440  "
      ]
     },
     "execution_count": 7,
     "metadata": {},
     "output_type": "execute_result"
    }
   ],
   "source": [
    "#New stocks to check\n",
    "nstocks = np.asarray(['AQN.TO','AW-UN.TO','PZA.TO','BPF-UN.TO','KEG-UN.TO','MTY.TO','SCU.TO','IRG.TO','SRV-UN.TO'])\n",
    "nresults = []\n",
    "for s in nstocks:\n",
    "    r = get_stats(s,stats)\n",
    "    if len(r) == len(stats):\n",
    "        nresults.append(r)\n",
    "    else:\n",
    "        nstocks = np.delete(nstocks, np.argwhere(nstocks==s))\n",
    "\n",
    "nresults = pd.DataFrame(nresults,columns=zip(*stats)[1],index=nstocks)\n",
    "nresults.head()"
   ]
  },
  {
   "cell_type": "code",
   "execution_count": 12,
   "metadata": {
    "collapsed": false
   },
   "outputs": [],
   "source": [
    "#Create new features\n",
    "#P/E Ratio\n",
    "results[\"PE Ratio\"] = results[\"currentPrice\"]/results[\"trailingEps\"]\n",
    "nresults[\"PE Ratio\"] = nresults[\"currentPrice\"]/nresults[\"trailingEps\"]"
   ]
  },
  {
   "cell_type": "code",
   "execution_count": 14,
   "metadata": {
    "collapsed": false,
    "scrolled": false
   },
   "outputs": [
    {
     "data": {
      "image/png": "[encoded data removed]",
      "text/plain": [
       "<matplotlib.figure.Figure at 0x10a0cea10>"
      ]
     },
     "metadata": {},
     "output_type": "display_data"
    }
   ],
   "source": [
    "def plot_labels(a,x,y,size,xlo=None,xhi=None,ylo=None,yhi=None):\n",
    "    arr = a.loc[(a[y]>ylo)&(a[y]<yhi)&(a[x]>xlo)&(a[x]<xhi)]\n",
    "    arrx, arry, arrnames = arr[x].values, arr[y].values, arr.index.values\n",
    "    for i in range(len(arrx)):\n",
    "        plt.text(arrx[i], arry[i], arrnames[i], size=size)\n",
    "\n",
    "x = \"PE Ratio\"\n",
    "y = \"priceToBook\"\n",
    "xlo,xhi = 0, 50\n",
    "ylo,yhi = 0, 10\n",
    "plt.xlim([xlo,xhi])\n",
    "plt.ylim([ylo,yhi])\n",
    "\n",
    "#baseline results\n",
    "plt.scatter(results[x], results[y], lw=0, s=10)\n",
    "plot_labels(results,x,y,6,xlo,xhi,ylo,yhi)\n",
    "\n",
    "#new stocks\n",
    "plt.scatter(nresults[x], nresults[y], lw=0, color='red', s=20)\n",
    "plot_labels(nresults,x,y,6,xlo,xhi,ylo,yhi)\n",
    "\n",
    "#labels and ranges\n",
    "\n",
    "plt.xlabel(x)\n",
    "plt.ylabel(y)\n",
    "plt.savefig(\"plots/%s_v_%s.png\"%(x,y))"
   ]
  },
  {
   "cell_type": "markdown",
   "metadata": {},
   "source": [
    "## Where Each statistic is located"
   ]
  },
  {
   "cell_type": "code",
   "execution_count": 49,
   "metadata": {
    "collapsed": false,
    "scrolled": false
   },
   "outputs": [
    {
     "name": "stdout",
     "output_type": "stream",
     "text": [
      "{u'calendarEvents': {u'dividendDate': {u'fmt': u'2016-11-10',\n",
      "                                       u'raw': 1478736000},\n",
      "                     u'earnings': {u'earningsAverage': {u'fmt': u'3.22',\n",
      "                                                        u'raw': 3.22},\n",
      "                                   u'earningsDate': [{u'fmt': u'2017-01-31',\n",
      "                                                      u'raw': 1485820800}],\n",
      "                                   u'earningsHigh': {u'fmt': u'3.77',\n",
      "                                                     u'raw': 3.77},\n",
      "                                   u'earningsLow': {u'fmt': u'3.11',\n",
      "                                                    u'raw': 3.11},\n",
      "                                   u'revenueAverage': {u'fmt': u'77.39B',\n",
      "                                                       u'longFmt': u'77,386,500,000',\n",
      "                                                       u'raw': 77386500000},\n",
      "                                   u'revenueHigh': {u'fmt': u'86.73B',\n",
      "                                                    u'longFmt': u'86,733,000,000',\n",
      "                                                    u'raw': 86733000000},\n",
      "                                   u'revenueLow': {u'fmt': u'75.1B',\n",
      "                                                   u'longFmt': u'75,100,000,000',\n",
      "                                                   u'raw': 75100000000}},\n",
      "                     u'exDividendDate': {u'fmt': u'2016-11-03',\n",
      "                                         u'raw': 1478131200},\n",
      "                     u'maxAge': 1},\n",
      " u'defaultKeyStatistics': {u'52WeekChange': {u'fmt': u'20.77%',\n",
      "                                             u'raw': 0.20765245},\n",
      "                           u'SandP52WeekChange': {u'fmt': u'17.95%',\n",
      "                                                  u'raw': 0.17946422},\n",
      "                           u'annualHoldingsTurnover': {},\n",
      "                           u'annualReportExpenseRatio': {},\n",
      "                           u'beta': {u'fmt': u'1.44', u'raw': 1.44166},\n",
      "                           u'beta3Year': {},\n",
      "                           u'bookValue': {u'fmt': u'24.03', u'raw': 24.034},\n",
      "                           u'category': None,\n",
      "                           u'earningsQuarterlyGrowth': {u'fmt': u'-19.00%',\n",
      "                                                        u'raw': -0.19},\n",
      "                           u'enterpriseToEbitda': {u'fmt': u'9.27',\n",
      "                                                   u'raw': 9.268},\n",
      "                           u'enterpriseToRevenue': {u'fmt': u'3.03',\n",
      "                                                    u'raw': 3.031},\n",
      "                           u'enterpriseValue': {u'fmt': u'653.65B',\n",
      "                                                u'longFmt': u'653,647,937,536',\n",
      "                                                u'raw': 653647937536},\n",
      "                           u'fiveYearAverageReturn': {},\n",
      "                           u'floatShares': {u'fmt': u'5.31B',\n",
      "                                            u'longFmt': u'5,313,329,954',\n",
      "                                            u'raw': 5313329954},\n",
      "                           u'forwardEps': {u'fmt': u'10.08', u'raw': 10.08},\n",
      "                           u'forwardPE': {u'fmt': u'11.82',\n",
      "                                          u'raw': 11.816468},\n",
      "                           u'fundFamily': None,\n",
      "                           u'fundInceptionDate': {},\n",
      "                           u'heldPercentInsiders': {u'fmt': u'0.03%',\n",
      "                                                    u'raw': 0.00033},\n",
      "                           u'heldPercentInstitutions': {u'fmt': u'60.20%',\n",
      "                                                        u'raw': 0.602},\n",
      "                           u'lastCapGain': {},\n",
      "                           u'lastDividendValue': {},\n",
      "                           u'lastFiscalYearEnd': {u'fmt': u'2016-09-24',\n",
      "                                                  u'raw': 1474675200},\n",
      "                           u'lastSplitDate': {u'fmt': u'2014-06-09',\n",
      "                                              u'raw': 1402272000},\n",
      "                           u'lastSplitFactor': u'7/1',\n",
      "                           u'legalType': None,\n",
      "                           u'maxAge': 1,\n",
      "                           u'morningStarOverallRating': {},\n",
      "                           u'morningStarRiskRating': {},\n",
      "                           u'mostRecentQuarter': {u'fmt': u'2016-09-24',\n",
      "                                                  u'raw': 1474675200},\n",
      "                           u'netIncomeToCommon': {u'fmt': u'45.69B',\n",
      "                                                  u'longFmt': u'45,687,001,088',\n",
      "                                                  u'raw': 45687001088},\n",
      "                           u'nextFiscalYearEnd': {u'fmt': u'2018-09-24',\n",
      "                                                  u'raw': 1537747200},\n",
      "                           u'pegRatio': {u'fmt': u'1.51', u'raw': 1.51},\n",
      "                           u'priceToBook': {u'fmt': u'4.96',\n",
      "                                            u'raw': 4.955896},\n",
      "                           u'priceToSalesTrailing12Months': {},\n",
      "                           u'profitMargins': {u'fmt': u'21.19%',\n",
      "                                              u'raw': 0.21187},\n",
      "                           u'revenueQuarterlyGrowth': {},\n",
      "                           u'sharesOutstanding': {u'fmt': u'5.33B',\n",
      "                                                  u'longFmt': u'5,332,310,000',\n",
      "                                                  u'raw': 5332310000},\n",
      "                           u'sharesShort': {u'fmt': u'46.07M',\n",
      "                                            u'longFmt': u'46,073,000',\n",
      "                                            u'raw': 46073000},\n",
      "                           u'sharesShortPriorMonth': {u'fmt': u'58.95M',\n",
      "                                                      u'longFmt': u'58,948,500',\n",
      "                                                      u'raw': 58948500},\n",
      "                           u'shortPercentOfFloat': {u'fmt': u'0.83%',\n",
      "                                                    u'raw': 0.008315},\n",
      "                           u'shortRatio': {u'fmt': u'1.45', u'raw': 1.45},\n",
      "                           u'threeYearAverageReturn': {},\n",
      "                           u'totalAssets': {},\n",
      "                           u'trailingEps': {u'fmt': u'8.31', u'raw': 8.31},\n",
      "                           u'yield': {},\n",
      "                           u'ytdReturn': {}},\n",
      " u'financialData': {u'currentPrice': {u'fmt': u'119.11', u'raw': 119.11},\n",
      "                    u'currentRatio': {u'fmt': u'1.35', u'raw': 1.353},\n",
      "                    u'debtToEquity': {u'fmt': u'67.87', u'raw': 67.867},\n",
      "                    u'earningsGrowth': {u'fmt': u'-14.40%', u'raw': -0.144},\n",
      "                    u'ebitda': {u'fmt': u'70.53B',\n",
      "                                u'longFmt': u'70,528,999,424',\n",
      "                                u'raw': 70528999424},\n",
      "                    u'ebitdaMargins': {u'fmt': u'32.71%', u'raw': 0.32707},\n",
      "                    u'freeCashflow': {u'fmt': u'43.97B',\n",
      "                                      u'longFmt': u'43,965,001,728',\n",
      "                                      u'raw': 43965001728},\n",
      "                    u'grossMargins': {u'fmt': u'39.08%', u'raw': 0.39076},\n",
      "                    u'grossProfits': {u'fmt': u'84.26B',\n",
      "                                      u'longFmt': u'84,263,000,000',\n",
      "                                      u'raw': 84263000000},\n",
      "                    u'maxAge': 86400,\n",
      "                    u'numberOfAnalystOpinions': {u'fmt': u'44',\n",
      "                                                 u'longFmt': u'44',\n",
      "                                                 u'raw': 44},\n",
      "                    u'operatingCashflow': {u'fmt': u'65.82B',\n",
      "                                           u'longFmt': u'65,823,997,952',\n",
      "                                           u'raw': 65823997952},\n",
      "                    u'operatingMargins': {u'fmt': u'27.83%', u'raw': 0.27835},\n",
      "                    u'profitMargins': {u'fmt': u'21.19%', u'raw': 0.21187},\n",
      "                    u'quickRatio': {u'fmt': u'1.23', u'raw': 1.23},\n",
      "                    u'recommendationKey': u'buy',\n",
      "                    u'recommendationMean': {u'fmt': u'1.90', u'raw': 1.9},\n",
      "                    u'returnOnAssets': {u'fmt': u'12.26%', u'raw': 0.12259},\n",
      "                    u'returnOnEquity': {u'fmt': u'36.90%', u'raw': 0.36903},\n",
      "                    u'revenueGrowth': {u'fmt': u'-9.00%', u'raw': -0.09},\n",
      "                    u'revenuePerShare': {u'fmt': u'39.42', u'raw': 39.416},\n",
      "                    u'targetHighPrice': {u'fmt': u'185.00', u'raw': 185.0},\n",
      "                    u'targetLowPrice': {u'fmt': u'85.00', u'raw': 85.0},\n",
      "                    u'targetMeanPrice': {u'fmt': u'132.25', u'raw': 132.25},\n",
      "                    u'targetMedianPrice': {u'fmt': u'133.00', u'raw': 133.0},\n",
      "                    u'totalCash': {u'fmt': u'67.88B',\n",
      "                                   u'longFmt': u'67,882,999,808',\n",
      "                                   u'raw': 67882999808},\n",
      "                    u'totalCashPerShare': {u'fmt': u'12.73', u'raw': 12.73},\n",
      "                    u'totalDebt': {u'fmt': u'87.04B',\n",
      "                                   u'longFmt': u'87,039,000,576',\n",
      "                                   u'raw': 87039000576},\n",
      "                    u'totalRevenue': {u'fmt': u'215.64B',\n",
      "                                      u'longFmt': u'215,638,999,040',\n",
      "                                      u'raw': 215638999040}}}\n"
     ]
    }
   ],
   "source": [
    "pp(data)"
   ]
  },
  {
   "cell_type": "markdown",
   "metadata": {},
   "source": [
    "# More sophisticated stuff below that is harder but allows more control...\n",
    "Haven't quite figured this out yet..."
   ]
  },
  {
   "cell_type": "code",
   "execution_count": 2,
   "metadata": {
    "collapsed": true
   },
   "outputs": [],
   "source": [
    "import requests\n",
    "import urllib2\n",
    "from bs4 import BeautifulSoup  "
   ]
  },
  {
   "cell_type": "code",
   "execution_count": 23,
   "metadata": {
    "collapsed": false
   },
   "outputs": [],
   "source": [
    "website = 'https://ca.finance.yahoo.com/quote/AAPL'\n",
    "page = urllib2.urlopen(website).read()\n",
    "soup = BeautifulSoup(page, 'html.parser')\n",
    "#soup = (page, 'html.parser')  "
   ]
  },
  {
   "cell_type": "code",
   "execution_count": 16,
   "metadata": {
    "collapsed": false
   },
   "outputs": [
    {
     "data": {
      "text/plain": [
       "<td class=\"Ta(end) Fw(b)\" data-reactid=\"348\" data-test=\"OPEN-value\">118.77</td>"
      ]
     },
     "execution_count": 16,
     "metadata": {},
     "output_type": "execute_result"
    }
   ],
   "source": [
    "#values = soup.findAll(\"td\", \"Ta(end) Fw(b)\")\n",
    "values = soup.find(\"td\", {'data-test':'OPEN-value'})\n",
    "values"
   ]
  },
  {
   "cell_type": "code",
   "execution_count": 17,
   "metadata": {
    "collapsed": false
   },
   "outputs": [
    {
     "data": {
      "text/plain": [
       "u'118.77'"
      ]
     },
     "execution_count": 17,
     "metadata": {},
     "output_type": "execute_result"
    }
   ],
   "source": [
    "values.string"
   ]
  },
  {
   "cell_type": "code",
   "execution_count": 28,
   "metadata": {
    "collapsed": true
   },
   "outputs": [],
   "source": [
    "website = \"https://ca.finance.yahoo.com/quote/AAPL/key-statistics?p=AAPL\"\n",
    "page = urllib2.urlopen(website).read()\n",
    "soup = BeautifulSoup(page, 'html.parser')"
   ]
  },
  {
   "cell_type": "code",
   "execution_count": 34,
   "metadata": {
    "collapsed": false
   },
   "outputs": [
    {
     "data": {
      "text/plain": [
       "[]"
      ]
     },
     "execution_count": 34,
     "metadata": {},
     "output_type": "execute_result"
    }
   ],
   "source": [
    "values = soup.findAll(\"main\",{'class':'Mstart(a) Mend(a)'})\n",
    "values"
   ]
  },
  {
   "cell_type": "code",
   "execution_count": null,
   "metadata": {
    "collapsed": true
   },
   "outputs": [],
   "source": []
  }
 ],
 "metadata": {
  "kernelspec": {
   "display_name": "Python 2",
   "language": "python",
   "name": "python2"
  },
  "language_info": {
   "codemirror_mode": {
    "name": "ipython",
    "version": 2
   },
   "file_extension": ".py",
   "mimetype": "text/x-python",
   "name": "python",
   "nbconvert_exporter": "python",
   "pygments_lexer": "ipython2",
   "version": "2.7.13"
  }
 },
 "nbformat": 4,
 "nbformat_minor": 1
}
