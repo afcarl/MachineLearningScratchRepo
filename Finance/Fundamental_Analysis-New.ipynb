{
 "cells": [
  {
   "cell_type": "markdown",
   "metadata": {},
   "source": [
    "# Fundamental Analysis\n",
    "This notebook plots various fundamental statistics of different stocks.  \n",
    "These links were helpful:  \n",
    "https://simply-python.com/2015/02/13/getting-historical-financial-statistics-of-stock-using-python/\n",
    "http://stackoverflow.com/questions/40139537/scrape-yahoo-finance-financial-ratios  \n",
    "https://automatetheboringstuff.com/chapter11/  "
   ]
  },
  {
   "cell_type": "code",
   "execution_count": 12,
   "metadata": {
    "collapsed": false
   },
   "outputs": [],
   "source": [
    "import pandas as pd\n",
    "import numpy as np\n",
    "import requests\n",
    "from pprint import pprint as pp\n",
    "import matplotlib.pyplot as plt\n",
    "from pattern.web import URL\n",
    "%matplotlib inline"
   ]
  },
  {
   "cell_type": "code",
   "execution_count": 2,
   "metadata": {
    "collapsed": false
   },
   "outputs": [
    {
     "name": "stdout",
     "output_type": "stream",
     "text": [
      "['Materials' 'Consumer Staples' 'Energy' 'Financials'\n",
      " 'Telecommunication Services' 'Information Technology' 'Industrials'\n",
      " 'Consumer Discretionary' 'Utilities' 'Health Care']\n"
     ]
    },
    {
     "data": {
      "text/html": [
       "<div>\n",
       "<table border=\"1\" class=\"dataframe\">\n",
       "  <thead>\n",
       "    <tr style=\"text-align: right;\">\n",
       "      <th></th>\n",
       "      <th>Symbol</th>\n",
       "      <th>Company</th>\n",
       "      <th>Sector</th>\n",
       "    </tr>\n",
       "  </thead>\n",
       "  <tbody>\n",
       "    <tr>\n",
       "      <th>0</th>\n",
       "      <td>AEM.TO</td>\n",
       "      <td>Agnico Eagle Mines Limited</td>\n",
       "      <td>Materials</td>\n",
       "    </tr>\n",
       "    <tr>\n",
       "      <th>1</th>\n",
       "      <td>AGU.TO</td>\n",
       "      <td>Agrium Inc.</td>\n",
       "      <td>Materials</td>\n",
       "    </tr>\n",
       "    <tr>\n",
       "      <th>2</th>\n",
       "      <td>ATD-B.TO</td>\n",
       "      <td>Alimentation Couche-Tard Inc.</td>\n",
       "      <td>Consumer Staples</td>\n",
       "    </tr>\n",
       "    <tr>\n",
       "      <th>3</th>\n",
       "      <td>ARX.TO</td>\n",
       "      <td>ARC Resources Ltd.</td>\n",
       "      <td>Energy</td>\n",
       "    </tr>\n",
       "    <tr>\n",
       "      <th>4</th>\n",
       "      <td>BMO.TO</td>\n",
       "      <td>Bank of Montreal</td>\n",
       "      <td>Financials</td>\n",
       "    </tr>\n",
       "  </tbody>\n",
       "</table>\n",
       "</div>"
      ],
      "text/plain": [
       "     Symbol                        Company            Sector\n",
       "0    AEM.TO     Agnico Eagle Mines Limited         Materials\n",
       "1    AGU.TO                    Agrium Inc.         Materials\n",
       "2  ATD-B.TO  Alimentation Couche-Tard Inc.  Consumer Staples\n",
       "3    ARX.TO             ARC Resources Ltd.            Energy\n",
       "4    BMO.TO               Bank of Montreal        Financials"
      ]
     },
     "execution_count": 2,
     "metadata": {},
     "output_type": "execute_result"
    }
   ],
   "source": [
    "tickers = pd.read_csv('csv/tsx60.csv',delimiter=\",\")\n",
    "print tickers[\"Sector\"].unique()\n",
    "tickers.head()"
   ]
  },
  {
   "cell_type": "code",
   "execution_count": 31,
   "metadata": {
    "collapsed": false
   },
   "outputs": [],
   "source": [
    "stock = \"AGU\"\n",
    "webpage = \"http://financials.morningstar.com/ajax/exportKR2CSV.html?t=%s&culture=en-CA&region=USA&order=asc&r=314562\"%stock\n",
    "url = URL(webpage)\n",
    "f = open('Fundamental_Analysis/%s_keyratios.csv'%stock, 'wb') # save as test.gif\n",
    "f.write(url.download())\n",
    "f.close()"
   ]
  },
  {
   "cell_type": "code",
   "execution_count": 72,
   "metadata": {
    "collapsed": false,
    "scrolled": false
   },
   "outputs": [],
   "source": [
    "def get_stock_financials(stock):\n",
    "    path = \"Fundamental_Analysis/\"\n",
    "    try:\n",
    "        d = pd.read_csv('%s%s_keyratios.csv'%(path, stock), header=2, index_col=0,\n",
    "                skiprows = [19,20,31,41,42,43,48,58,53,64,65,72,73,95,101,102])\n",
    "    except:\n",
    "        webpage = \"http://financials.morningstar.com/ajax/exportKR2CSV.html?t=%s&culture=en-CA&region=USA&order=asc&r=314562\"%stock\n",
    "        url = URL(webpage)\n",
    "        f = open('%s%s_keyratios.csv'%(path, stock), 'wb') # save as test.gif\n",
    "        f.write(url.download())\n",
    "        f.close()\n",
    "        d = pd.read_csv('%s%s_keyratios.csv'%(path, stock), header=2, index_col=0,\n",
    "                    skiprows = [19,20,31,41,42,43,48,58,53,64,65,72,73,95,101,102])\n",
    "    d = d.transpose().reset_index()\n",
    "    d = d.dropna(axis='columns', how='all')\n",
    "    return d"
   ]
  },
  {
   "cell_type": "code",
   "execution_count": 69,
   "metadata": {
    "collapsed": false
   },
   "outputs": [
    {
     "name": "stdout",
     "output_type": "stream",
     "text": [
      "hello\n"
     ]
    },
    {
     "data": {
      "text/html": [
       "<div>\n",
       "<table border=\"1\" class=\"dataframe\">\n",
       "  <thead>\n",
       "    <tr style=\"text-align: right;\">\n",
       "      <th></th>\n",
       "      <th>index</th>\n",
       "      <th>Revenue CAD Mil</th>\n",
       "      <th>Gross Margin %</th>\n",
       "      <th>Operating Income CAD Mil</th>\n",
       "      <th>Operating Margin %</th>\n",
       "      <th>Net Income CAD Mil</th>\n",
       "      <th>Earnings Per Share CAD</th>\n",
       "      <th>Dividends CAD</th>\n",
       "      <th>Payout Ratio % *</th>\n",
       "      <th>Shares Mil</th>\n",
       "      <th>...</th>\n",
       "      <th>Total Liabilities</th>\n",
       "      <th>Total Stockholders' Equity</th>\n",
       "      <th>Total Liabilities &amp; Equity</th>\n",
       "      <th>Current Ratio</th>\n",
       "      <th>Quick Ratio</th>\n",
       "      <th>Financial Leverage</th>\n",
       "      <th>Debt/Equity</th>\n",
       "      <th>Days Sales Outstanding</th>\n",
       "      <th>Receivables Turnover</th>\n",
       "      <th>Asset Turnover</th>\n",
       "    </tr>\n",
       "  </thead>\n",
       "  <tbody>\n",
       "    <tr>\n",
       "      <th>0</th>\n",
       "      <td>2006-12</td>\n",
       "      <td>9.0</td>\n",
       "      <td>100.0</td>\n",
       "      <td>9.0</td>\n",
       "      <td>100.0</td>\n",
       "      <td>11.0</td>\n",
       "      <td>1.32</td>\n",
       "      <td>1.16</td>\n",
       "      <td>NaN</td>\n",
       "      <td>8.0</td>\n",
       "      <td>...</td>\n",
       "      <td>1.12</td>\n",
       "      <td>98.88</td>\n",
       "      <td>100.0</td>\n",
       "      <td>0.98</td>\n",
       "      <td>0.98</td>\n",
       "      <td>1.01</td>\n",
       "      <td>NaN</td>\n",
       "      <td>32.73</td>\n",
       "      <td>11.15</td>\n",
       "      <td>0.12</td>\n",
       "    </tr>\n",
       "    <tr>\n",
       "      <th>1</th>\n",
       "      <td>2007-12</td>\n",
       "      <td>9.0</td>\n",
       "      <td>100.0</td>\n",
       "      <td>9.0</td>\n",
       "      <td>100.0</td>\n",
       "      <td>11.0</td>\n",
       "      <td>1.27</td>\n",
       "      <td>1.23</td>\n",
       "      <td>96.5</td>\n",
       "      <td>8.0</td>\n",
       "      <td>...</td>\n",
       "      <td>1.18</td>\n",
       "      <td>98.82</td>\n",
       "      <td>100.0</td>\n",
       "      <td>0.98</td>\n",
       "      <td>0.98</td>\n",
       "      <td>1.01</td>\n",
       "      <td>NaN</td>\n",
       "      <td>35.50</td>\n",
       "      <td>10.28</td>\n",
       "      <td>0.12</td>\n",
       "    </tr>\n",
       "    <tr>\n",
       "      <th>2</th>\n",
       "      <td>2008-12</td>\n",
       "      <td>9.0</td>\n",
       "      <td>100.0</td>\n",
       "      <td>9.0</td>\n",
       "      <td>100.0</td>\n",
       "      <td>12.0</td>\n",
       "      <td>1.42</td>\n",
       "      <td>1.27</td>\n",
       "      <td>89.4</td>\n",
       "      <td>8.0</td>\n",
       "      <td>...</td>\n",
       "      <td>1.20</td>\n",
       "      <td>98.80</td>\n",
       "      <td>100.0</td>\n",
       "      <td>0.98</td>\n",
       "      <td>0.98</td>\n",
       "      <td>1.01</td>\n",
       "      <td>NaN</td>\n",
       "      <td>33.71</td>\n",
       "      <td>10.83</td>\n",
       "      <td>0.12</td>\n",
       "    </tr>\n",
       "    <tr>\n",
       "      <th>3</th>\n",
       "      <td>2009-12</td>\n",
       "      <td>9.0</td>\n",
       "      <td>100.0</td>\n",
       "      <td>9.0</td>\n",
       "      <td>100.0</td>\n",
       "      <td>12.0</td>\n",
       "      <td>1.39</td>\n",
       "      <td>1.27</td>\n",
       "      <td>91.3</td>\n",
       "      <td>8.0</td>\n",
       "      <td>...</td>\n",
       "      <td>1.20</td>\n",
       "      <td>98.80</td>\n",
       "      <td>100.0</td>\n",
       "      <td>0.98</td>\n",
       "      <td>0.98</td>\n",
       "      <td>1.01</td>\n",
       "      <td>NaN</td>\n",
       "      <td>30.94</td>\n",
       "      <td>11.80</td>\n",
       "      <td>0.12</td>\n",
       "    </tr>\n",
       "    <tr>\n",
       "      <th>4</th>\n",
       "      <td>2010-12</td>\n",
       "      <td>800.0</td>\n",
       "      <td>100.0</td>\n",
       "      <td>15.0</td>\n",
       "      <td>1.8</td>\n",
       "      <td>-46.0</td>\n",
       "      <td>-5.47</td>\n",
       "      <td>1.27</td>\n",
       "      <td>88.5</td>\n",
       "      <td>8.0</td>\n",
       "      <td>...</td>\n",
       "      <td>1.22</td>\n",
       "      <td>98.78</td>\n",
       "      <td>100.0</td>\n",
       "      <td>0.98</td>\n",
       "      <td>0.98</td>\n",
       "      <td>1.01</td>\n",
       "      <td>NaN</td>\n",
       "      <td>15.88</td>\n",
       "      <td>22.98</td>\n",
       "      <td>0.12</td>\n",
       "    </tr>\n",
       "  </tbody>\n",
       "</table>\n",
       "<p>5 rows × 73 columns</p>\n",
       "</div>"
      ],
      "text/plain": [
       "     index  Revenue CAD Mil  Gross Margin %  Operating Income CAD Mil  \\\n",
       "0  2006-12              9.0           100.0                       9.0   \n",
       "1  2007-12              9.0           100.0                       9.0   \n",
       "2  2008-12              9.0           100.0                       9.0   \n",
       "3  2009-12              9.0           100.0                       9.0   \n",
       "4  2010-12            800.0           100.0                      15.0   \n",
       "\n",
       "   Operating Margin %  Net Income CAD Mil  Earnings Per Share CAD  \\\n",
       "0               100.0                11.0                    1.32   \n",
       "1               100.0                11.0                    1.27   \n",
       "2               100.0                12.0                    1.42   \n",
       "3               100.0                12.0                    1.39   \n",
       "4                 1.8               -46.0                   -5.47   \n",
       "\n",
       "   Dividends CAD  Payout Ratio % *  Shares Mil       ...        \\\n",
       "0           1.16               NaN         8.0       ...         \n",
       "1           1.23              96.5         8.0       ...         \n",
       "2           1.27              89.4         8.0       ...         \n",
       "3           1.27              91.3         8.0       ...         \n",
       "4           1.27              88.5         8.0       ...         \n",
       "\n",
       "   Total Liabilities  Total Stockholders' Equity  Total Liabilities & Equity  \\\n",
       "0               1.12                       98.88                       100.0   \n",
       "1               1.18                       98.82                       100.0   \n",
       "2               1.20                       98.80                       100.0   \n",
       "3               1.20                       98.80                       100.0   \n",
       "4               1.22                       98.78                       100.0   \n",
       "\n",
       "   Current Ratio  Quick Ratio  Financial Leverage  Debt/Equity  \\\n",
       "0           0.98         0.98                1.01          NaN   \n",
       "1           0.98         0.98                1.01          NaN   \n",
       "2           0.98         0.98                1.01          NaN   \n",
       "3           0.98         0.98                1.01          NaN   \n",
       "4           0.98         0.98                1.01          NaN   \n",
       "\n",
       "   Days Sales Outstanding  Receivables Turnover  Asset Turnover  \n",
       "0                   32.73                 11.15            0.12  \n",
       "1                   35.50                 10.28            0.12  \n",
       "2                   33.71                 10.83            0.12  \n",
       "3                   30.94                 11.80            0.12  \n",
       "4                   15.88                 22.98            0.12  \n",
       "\n",
       "[5 rows x 73 columns]"
      ]
     },
     "execution_count": 69,
     "metadata": {},
     "output_type": "execute_result"
    }
   ],
   "source": [
    "data = get_stock_financials(\"AW.UN\")\n",
    "data.head()"
   ]
  },
  {
   "cell_type": "code",
   "execution_count": 91,
   "metadata": {
    "collapsed": false
   },
   "outputs": [
    {
     "data": {
      "text/plain": [
       "<matplotlib.text.Text at 0x10aa4eb10>"
      ]
     },
     "execution_count": 91,
     "metadata": {},
     "output_type": "execute_result"
    },
    {
     "data": {
      "image/png": "[encoded data removed]",
      "text/plain": [
       "<matplotlib.figure.Figure at 0x109dbc8d0>"
      ]
     },
     "metadata": {},
     "output_type": "display_data"
    }
   ],
   "source": [
    "stocks = ['RY', 'BMO', 'TD', 'CM', 'BNS']\n",
    "var = \"Earnings Per Share CAD\"\n",
    "for s in stocks:\n",
    "    d = get_stock_financials(s)\n",
    "    y = d[var]\n",
    "    plt.plot(y, label=s)\n",
    "\n",
    "plt.xticks(range(len(y)), d['index'], rotation=45);\n",
    "plt.legend(loc='lower right', fontsize=8);\n",
    "plt.ylabel(var)\n",
    "plt.xlabel(\"Date\")"
   ]
  },
  {
   "cell_type": "code",
   "execution_count": null,
   "metadata": {
    "collapsed": true
   },
   "outputs": [],
   "source": []
  }
 ],
 "metadata": {
  "kernelspec": {
   "display_name": "Python 2",
   "language": "python",
   "name": "python2"
  },
  "language_info": {
   "codemirror_mode": {
    "name": "ipython",
    "version": 2
   },
   "file_extension": ".py",
   "mimetype": "text/x-python",
   "name": "python",
   "nbconvert_exporter": "python",
   "pygments_lexer": "ipython2",
   "version": "2.7.11"
  }
 },
 "nbformat": 4,
 "nbformat_minor": 1
}
