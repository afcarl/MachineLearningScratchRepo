{
 "cells": [
  {
   "cell_type": "markdown",
   "metadata": {},
   "source": [
    "# Fundamental Analysis\n",
    "This notebook plots various fundamental statistics of different stocks.  \n",
    "These links were helpful:  \n",
    "https://simply-python.com/2015/02/13/getting-historical-financial-statistics-of-stock-using-python/\n",
    "http://stackoverflow.com/questions/40139537/scrape-yahoo-finance-financial-ratios  \n",
    "https://automatetheboringstuff.com/chapter11/  "
   ]
  },
  {
   "cell_type": "code",
   "execution_count": 1,
   "metadata": {
    "collapsed": false
   },
   "outputs": [],
   "source": [
    "import pandas as pd\n",
    "import numpy as np\n",
    "import requests\n",
    "from pprint import pprint as pp\n",
    "import matplotlib.pyplot as plt\n",
    "from pattern.web import URL\n",
    "%matplotlib inline"
   ]
  },
  {
   "cell_type": "code",
   "execution_count": 2,
   "metadata": {
    "collapsed": false
   },
   "outputs": [
    {
     "name": "stdout",
     "output_type": "stream",
     "text": [
      "['Materials' 'Consumer Staples' 'Energy' 'Financials'\n",
      " 'Telecommunication Services' 'Information Technology' 'Industrials'\n",
      " 'Consumer Discretionary' 'Utilities' 'Health Care']\n"
     ]
    },
    {
     "data": {
      "text/html": [
       "<div>\n",
       "<table border=\"1\" class=\"dataframe\">\n",
       "  <thead>\n",
       "    <tr style=\"text-align: right;\">\n",
       "      <th></th>\n",
       "      <th>Symbol</th>\n",
       "      <th>Company</th>\n",
       "      <th>Sector</th>\n",
       "    </tr>\n",
       "  </thead>\n",
       "  <tbody>\n",
       "    <tr>\n",
       "      <th>0</th>\n",
       "      <td>AEM.TO</td>\n",
       "      <td>Agnico Eagle Mines Limited</td>\n",
       "      <td>Materials</td>\n",
       "    </tr>\n",
       "    <tr>\n",
       "      <th>1</th>\n",
       "      <td>AGU.TO</td>\n",
       "      <td>Agrium Inc.</td>\n",
       "      <td>Materials</td>\n",
       "    </tr>\n",
       "    <tr>\n",
       "      <th>2</th>\n",
       "      <td>ATD-B.TO</td>\n",
       "      <td>Alimentation Couche-Tard Inc.</td>\n",
       "      <td>Consumer Staples</td>\n",
       "    </tr>\n",
       "    <tr>\n",
       "      <th>3</th>\n",
       "      <td>ARX.TO</td>\n",
       "      <td>ARC Resources Ltd.</td>\n",
       "      <td>Energy</td>\n",
       "    </tr>\n",
       "    <tr>\n",
       "      <th>4</th>\n",
       "      <td>BMO.TO</td>\n",
       "      <td>Bank of Montreal</td>\n",
       "      <td>Financials</td>\n",
       "    </tr>\n",
       "  </tbody>\n",
       "</table>\n",
       "</div>"
      ],
      "text/plain": [
       "     Symbol                        Company            Sector\n",
       "0    AEM.TO     Agnico Eagle Mines Limited         Materials\n",
       "1    AGU.TO                    Agrium Inc.         Materials\n",
       "2  ATD-B.TO  Alimentation Couche-Tard Inc.  Consumer Staples\n",
       "3    ARX.TO             ARC Resources Ltd.            Energy\n",
       "4    BMO.TO               Bank of Montreal        Financials"
      ]
     },
     "execution_count": 2,
     "metadata": {},
     "output_type": "execute_result"
    }
   ],
   "source": [
    "tickers = pd.read_csv('csv/tsx60.csv',delimiter=\",\")\n",
    "print tickers[\"Sector\"].unique()\n",
    "tickers.head()"
   ]
  },
  {
   "cell_type": "code",
   "execution_count": 32,
   "metadata": {
    "collapsed": false,
    "scrolled": false
   },
   "outputs": [],
   "source": [
    "def get_stock_financials(stock):\n",
    "    path = \"Fundamental_Analysis/\"\n",
    "    skiprows = [19,20,31,41,42,43,48,58,53,64,65,72,73,95,101,102]\n",
    "    try:\n",
    "        d = pd.read_csv('%s%s_keyratios.csv'%(path, stock), header=2, index_col=0, skiprows = skiprows)\n",
    "    except:\n",
    "        webpage = \"http://financials.morningstar.com/ajax/exportKR2CSV.html?t=%s&culture=en-CA&region=USA&order=asc&r=314562\"%stock\n",
    "        url = URL(webpage)\n",
    "        f = open('%s%s_keyratios.csv'%(path, stock), 'wb') # save as test.gif\n",
    "        f.write(url.download())\n",
    "        f.close()\n",
    "        d = pd.read_csv('%s%s_keyratios.csv'%(path, stock), header=2, index_col=0, skiprows = skiprows)\n",
    "    d = d.transpose().reset_index()\n",
    "    d = d.dropna(axis='columns', how='all')\n",
    "    return d"
   ]
  },
  {
   "cell_type": "code",
   "execution_count": 35,
   "metadata": {
    "collapsed": false
   },
   "outputs": [
    {
     "data": {
      "text/plain": [
       "<matplotlib.text.Text at 0x10baa5b10>"
      ]
     },
     "execution_count": 35,
     "metadata": {},
     "output_type": "execute_result"
    },
    {
     "data": {
      "image/png": "[encoded data removed]",
      "text/plain": [
       "<matplotlib.figure.Figure at 0x10be39250>"
      ]
     },
     "metadata": {},
     "output_type": "display_data"
    }
   ],
   "source": [
    "#stocks = ['RY', 'BMO', 'TD', 'CM', 'BNS']\n",
    "stocks = pd.read_csv('csv/s&p500.csv',delimiter=\",\")\n",
    "#var = \"Earnings Per Share USD\"\n",
    "var = \"Debt/Equity\"\n",
    "for s in stocks[\"Symbol\"][0:10]:\n",
    "    try:\n",
    "        s = s.split(\".TO\")[0]\n",
    "        d = get_stock_financials(s)\n",
    "        y = d[var]\n",
    "        plt.plot(y, label=s)\n",
    "    except:\n",
    "        print \"skipping %s\"%s\n",
    "\n",
    "plt.xticks(range(len(y)), d['index'], rotation=45);\n",
    "plt.legend(loc='lower right', fontsize=8);\n",
    "plt.ylabel(var)\n",
    "plt.xlabel(\"Date\")"
   ]
  },
  {
   "cell_type": "markdown",
   "metadata": {
    "collapsed": true
   },
   "source": [
    "# Extra"
   ]
  },
  {
   "cell_type": "code",
   "execution_count": 42,
   "metadata": {
    "collapsed": false
   },
   "outputs": [
    {
     "data": {
      "text/html": [
       "<div>\n",
       "<table border=\"1\" class=\"dataframe\">\n",
       "  <thead>\n",
       "    <tr style=\"text-align: right;\">\n",
       "      <th></th>\n",
       "      <th>index</th>\n",
       "      <th>Revenue USD Mil</th>\n",
       "      <th>Gross Margin %</th>\n",
       "      <th>Operating Income USD Mil</th>\n",
       "      <th>Operating Margin %</th>\n",
       "      <th>Net Income USD Mil</th>\n",
       "      <th>Earnings Per Share USD</th>\n",
       "      <th>Dividends USD</th>\n",
       "      <th>Payout Ratio % *</th>\n",
       "      <th>Shares Mil</th>\n",
       "      <th>...</th>\n",
       "      <th>Total Liabilities &amp; Equity</th>\n",
       "      <th>Current Ratio</th>\n",
       "      <th>Quick Ratio</th>\n",
       "      <th>Financial Leverage</th>\n",
       "      <th>Debt/Equity</th>\n",
       "      <th>Days Sales Outstanding</th>\n",
       "      <th>Payables Period</th>\n",
       "      <th>Receivables Turnover</th>\n",
       "      <th>Fixed Assets Turnover</th>\n",
       "      <th>Asset Turnover</th>\n",
       "    </tr>\n",
       "  </thead>\n",
       "  <tbody>\n",
       "    <tr>\n",
       "      <th>6</th>\n",
       "      <td>2012-12</td>\n",
       "      <td>36,600</td>\n",
       "      <td>29.7</td>\n",
       "      <td>3,984</td>\n",
       "      <td>10.9</td>\n",
       "      <td>1,658</td>\n",
       "      <td>4.81</td>\n",
       "      <td>0.70</td>\n",
       "      <td>14.5</td>\n",
       "      <td>345</td>\n",
       "      <td>...</td>\n",
       "      <td>100.00</td>\n",
       "      <td>0.97</td>\n",
       "      <td>0.78</td>\n",
       "      <td>3.99</td>\n",
       "      <td>0.62</td>\n",
       "      <td>15.57</td>\n",
       "      <td>38.77</td>\n",
       "      <td>23.44</td>\n",
       "      <td>66.72</td>\n",
       "      <td>0.91</td>\n",
       "    </tr>\n",
       "    <tr>\n",
       "      <th>7</th>\n",
       "      <td>2013-12</td>\n",
       "      <td>47,294</td>\n",
       "      <td>25.5</td>\n",
       "      <td>3,403</td>\n",
       "      <td>7.2</td>\n",
       "      <td>1,913</td>\n",
       "      <td>5.33</td>\n",
       "      <td>0.80</td>\n",
       "      <td>15.7</td>\n",
       "      <td>359</td>\n",
       "      <td>...</td>\n",
       "      <td>100.00</td>\n",
       "      <td>0.77</td>\n",
       "      <td>0.59</td>\n",
       "      <td>3.56</td>\n",
       "      <td>0.56</td>\n",
       "      <td>21.47</td>\n",
       "      <td>39.16</td>\n",
       "      <td>16.99</td>\n",
       "      <td>74.96</td>\n",
       "      <td>1.04</td>\n",
       "    </tr>\n",
       "    <tr>\n",
       "      <th>8</th>\n",
       "      <td>2014-12</td>\n",
       "      <td>58,003</td>\n",
       "      <td>26.0</td>\n",
       "      <td>4,254</td>\n",
       "      <td>7.3</td>\n",
       "      <td>2,040</td>\n",
       "      <td>5.68</td>\n",
       "      <td>0.90</td>\n",
       "      <td>14.6</td>\n",
       "      <td>359</td>\n",
       "      <td>...</td>\n",
       "      <td>100.00</td>\n",
       "      <td>0.77</td>\n",
       "      <td>0.58</td>\n",
       "      <td>3.69</td>\n",
       "      <td>0.54</td>\n",
       "      <td>26.49</td>\n",
       "      <td>43.34</td>\n",
       "      <td>13.78</td>\n",
       "      <td>83.36</td>\n",
       "      <td>1.12</td>\n",
       "    </tr>\n",
       "    <tr>\n",
       "      <th>9</th>\n",
       "      <td>2015-12</td>\n",
       "      <td>60,337</td>\n",
       "      <td>27.4</td>\n",
       "      <td>4,855</td>\n",
       "      <td>8.0</td>\n",
       "      <td>2,390</td>\n",
       "      <td>6.78</td>\n",
       "      <td>1.00</td>\n",
       "      <td>14.9</td>\n",
       "      <td>353</td>\n",
       "      <td>...</td>\n",
       "      <td>100.00</td>\n",
       "      <td>0.82</td>\n",
       "      <td>0.65</td>\n",
       "      <td>3.32</td>\n",
       "      <td>0.49</td>\n",
       "      <td>26.35</td>\n",
       "      <td>49.66</td>\n",
       "      <td>13.85</td>\n",
       "      <td>92.86</td>\n",
       "      <td>1.13</td>\n",
       "    </tr>\n",
       "    <tr>\n",
       "      <th>10</th>\n",
       "      <td>TTM</td>\n",
       "      <td>62,475</td>\n",
       "      <td>26.6</td>\n",
       "      <td>4,943</td>\n",
       "      <td>7.9</td>\n",
       "      <td>2,452</td>\n",
       "      <td>6.93</td>\n",
       "      <td>1.00</td>\n",
       "      <td>14.4</td>\n",
       "      <td>354</td>\n",
       "      <td>...</td>\n",
       "      <td>100.00</td>\n",
       "      <td>1.55</td>\n",
       "      <td>1.40</td>\n",
       "      <td>3.93</td>\n",
       "      <td>1.10</td>\n",
       "      <td>27.83</td>\n",
       "      <td>51.83</td>\n",
       "      <td>13.12</td>\n",
       "      <td>101.89</td>\n",
       "      <td>1.00</td>\n",
       "    </tr>\n",
       "  </tbody>\n",
       "</table>\n",
       "<p>5 rows × 81 columns</p>\n",
       "</div>"
      ],
      "text/plain": [
       "      index Revenue USD Mil Gross Margin % Operating Income USD Mil  \\\n",
       "6   2012-12          36,600           29.7                    3,984   \n",
       "7   2013-12          47,294           25.5                    3,403   \n",
       "8   2014-12          58,003           26.0                    4,254   \n",
       "9   2015-12          60,337           27.4                    4,855   \n",
       "10      TTM          62,475           26.6                    4,943   \n",
       "\n",
       "   Operating Margin % Net Income USD Mil Earnings Per Share USD Dividends USD  \\\n",
       "6                10.9              1,658                   4.81          0.70   \n",
       "7                 7.2              1,913                   5.33          0.80   \n",
       "8                 7.3              2,040                   5.68          0.90   \n",
       "9                 8.0              2,390                   6.78          1.00   \n",
       "10                7.9              2,452                   6.93          1.00   \n",
       "\n",
       "   Payout Ratio % * Shares Mil      ...       Total Liabilities & Equity  \\\n",
       "6              14.5        345      ...                           100.00   \n",
       "7              15.7        359      ...                           100.00   \n",
       "8              14.6        359      ...                           100.00   \n",
       "9              14.9        353      ...                           100.00   \n",
       "10             14.4        354      ...                           100.00   \n",
       "\n",
       "   Current Ratio Quick Ratio Financial Leverage Debt/Equity  \\\n",
       "6           0.97        0.78               3.99        0.62   \n",
       "7           0.77        0.59               3.56        0.56   \n",
       "8           0.77        0.58               3.69        0.54   \n",
       "9           0.82        0.65               3.32        0.49   \n",
       "10          1.55        1.40               3.93        1.10   \n",
       "\n",
       "   Days Sales Outstanding Payables Period Receivables Turnover  \\\n",
       "6                   15.57           38.77                23.44   \n",
       "7                   21.47           39.16                16.99   \n",
       "8                   26.49           43.34                13.78   \n",
       "9                   26.35           49.66                13.85   \n",
       "10                  27.83           51.83                13.12   \n",
       "\n",
       "   Fixed Assets Turnover Asset Turnover  \n",
       "6                  66.72           0.91  \n",
       "7                  74.96           1.04  \n",
       "8                  83.36           1.12  \n",
       "9                  92.86           1.13  \n",
       "10                101.89           1.00  \n",
       "\n",
       "[5 rows x 81 columns]"
      ]
     },
     "execution_count": 42,
     "metadata": {},
     "output_type": "execute_result"
    }
   ],
   "source": [
    "data = get_stock_financials(\"AET\")\n",
    "data.tail()"
   ]
  },
  {
   "cell_type": "code",
   "execution_count": 24,
   "metadata": {
    "collapsed": false
   },
   "outputs": [],
   "source": [
    "stock = \"AEM\"\n",
    "webpage = \"http://financials.morningstar.com/ajax/exportKR2CSV.html?t=%s&culture=en-CA&region=USA&order=asc&r=314562\"%stock\n",
    "url = URL(webpage)\n",
    "f = open('Fundamental_Analysis/%s_keyratios.csv'%stock, 'wb') # save as test.gif\n",
    "f.write(url.download())\n",
    "f.close()"
   ]
  },
  {
   "cell_type": "code",
   "execution_count": null,
   "metadata": {
    "collapsed": true
   },
   "outputs": [],
   "source": []
  }
 ],
 "metadata": {
  "kernelspec": {
   "display_name": "Python 2",
   "language": "python",
   "name": "python2"
  },
  "language_info": {
   "codemirror_mode": {
    "name": "ipython",
    "version": 2
   },
   "file_extension": ".py",
   "mimetype": "text/x-python",
   "name": "python",
   "nbconvert_exporter": "python",
   "pygments_lexer": "ipython2",
   "version": "2.7.11"
  }
 },
 "nbformat": 4,
 "nbformat_minor": 1
}
