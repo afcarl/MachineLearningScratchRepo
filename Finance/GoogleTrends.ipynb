{
 "cells": [
  {
   "cell_type": "code",
   "execution_count": 44,
   "metadata": {
    "collapsed": true
   },
   "outputs": [],
   "source": [
    "import pandas as pd\n",
    "import numpy as np\n",
    "import datetime\n",
    "from pandas_datareader import data as web\n",
    "import glob\n",
    "import matplotlib.pyplot as plt\n",
    "from sklearn.cross_validation import cross_val_score\n",
    "%matplotlib inline"
   ]
  },
  {
   "cell_type": "markdown",
   "metadata": {},
   "source": [
    "# Prepare data"
   ]
  },
  {
   "cell_type": "code",
   "execution_count": 7,
   "metadata": {
    "collapsed": false
   },
   "outputs": [],
   "source": [
    "#Load Google Trends data\n",
    "files = glob.glob(\"GoogleTrends/*.csv\")\n",
    "\n",
    "#look at first file and get location of last entry, as well as the dates\n",
    "GT = pd.read_csv(files[0],header=4,skip_blank_lines=False)\n",
    "tail = np.where(pd.isnull(GT))[0][0]-2\n",
    "\n",
    "#get dates in integer and string format for each friday (gotta get down on friday)\n",
    "GT_dates_int = []\n",
    "GT_dates_str = []\n",
    "for date in GT.loc[0:tail].iterrows():\n",
    "    d = date[1][0].split(\" - \")[1].split(\"-\")\n",
    "    GT_dates_int.append(int(d[0]+d[1]+d[2])-1)\n",
    "    day = int(d[2])-1\n",
    "    if day < 10:\n",
    "        day = \"0\"+str(day)\n",
    "    else:\n",
    "        day = str(day)\n",
    "    GT_dates_str.append(d[0]+\"-\"+d[1]+\"-\"+day)"
   ]
  },
  {
   "cell_type": "code",
   "execution_count": 20,
   "metadata": {
    "collapsed": false
   },
   "outputs": [],
   "source": [
    "#load all Google Trends data\n",
    "cols = [] \n",
    "for f in files:\n",
    "    df = pd.read_csv(f,header=None,skiprows=4,skip_blank_lines=False)\n",
    "    df = df.loc[0:tail+1]\n",
    "    cols.append(df.iloc[:,1])\n",
    "GT = pd.concat(cols,axis=1,names=cols)\n",
    "GT.columns = GT.iloc[0]\n",
    "GT = GT.iloc[1:].astype(float)\n",
    "GT = GT.reset_index(drop=True)"
   ]
  },
  {
   "cell_type": "code",
   "execution_count": 21,
   "metadata": {
    "collapsed": false
   },
   "outputs": [],
   "source": [
    "#how you want to prepare your GT data (simple difference, difference from rolling average, etc)\n",
    "choice = \"rolling_diff\"\n",
    "dt = 4\n",
    "\n",
    "if choice == \"diff\":\n",
    "    GT = GT.diff()\n",
    "    dt = 1\n",
    "elif choice == \"rolling_diff\":\n",
    "    rolling = GT.rolling(window=dt).mean()\n",
    "    GT = GT - rolling\n",
    "    \n",
    "#get dates\n",
    "GT.insert(0,\"Dates\",GT_dates_int)\n",
    "GT = GT.iloc[dt:]"
   ]
  },
  {
   "cell_type": "code",
   "execution_count": 23,
   "metadata": {
    "collapsed": false
   },
   "outputs": [],
   "source": [
    "#Get all S&P500 data\n",
    "t0 = [int(x) for x in GT_dates_str[0].split(\"-\")]    #start of Google Trends\n",
    "t1 = [int(x) for x in GT_dates_str[-1].split(\"-\")]   #End of Google Trends\n",
    "start = datetime.datetime(t0[0], t0[1], t0[2])\n",
    "end = datetime.datetime(t1[0], t1[1], t1[2])\n",
    "data = web.DataReader('^GSPC','yahoo', start, end)\n",
    "stock_dates = []\n",
    "\n",
    "#get dates in integer form\n",
    "for date in data.iterrows():\n",
    "    d = str(date[0].date()).split(\"-\")\n",
    "    stock_dates.append(int(d[0]+d[1]+d[2]))\n",
    "\n",
    "#Take closing prices (i.e. end of week) only on dates coresponding to Google Trend dates\n",
    "data.insert(0,\"Dates\",stock_dates)\n",
    "data = data.loc[data[\"Dates\"].isin(GT_dates_int)]\n",
    "\n",
    "#get change in price, much more predictive\n",
    "data[\"Weekly Change\"] = data[\"Adj Close\"].diff() \n",
    "data = data.iloc[dt:]\n",
    "\n",
    "#ensure that Google Trends data aligns with stock data too\n",
    "GT = GT[GT[\"Dates\"].isin(data[\"Dates\"])]"
   ]
  },
  {
   "cell_type": "code",
   "execution_count": 24,
   "metadata": {
    "collapsed": true
   },
   "outputs": [],
   "source": [
    "#data\n",
    "y = data[\"Weekly Change\"]\n",
    "ys = (y - np.mean(y))/np.std(y)"
   ]
  },
  {
   "cell_type": "code",
   "execution_count": 29,
   "metadata": {
    "collapsed": false
   },
   "outputs": [
    {
     "data": {
      "text/plain": [
       "(300, 400)"
      ]
     },
     "execution_count": 29,
     "metadata": {},
     "output_type": "execute_result"
    },
    {
     "data": {
      "image/png": "[encoded data removed]",
      "text/plain": [
       "<matplotlib.figure.Figure at 0x10e711210>"
      ]
     },
     "metadata": {},
     "output_type": "display_data"
    }
   ],
   "source": [
    "#sample plotting option\n",
    "fieldx = \"car\"\n",
    "fieldy = \"Weekly Change\"\n",
    "tt = range(len(GT[fieldx]))\n",
    "yy = (data[fieldy] - data[fieldy].mean())/data[fieldy].std()\n",
    "xx = (GT[fieldx] - GT[fieldx].mean())/GT[fieldx].std()\n",
    "\n",
    "plt.plot(tt,xx)\n",
    "plt.plot(tt,yy,'o')\n",
    "#plt.ylim([-6,6])\n",
    "plt.xlim([300,400])"
   ]
  },
  {
   "cell_type": "markdown",
   "metadata": {},
   "source": [
    "# PCA"
   ]
  },
  {
   "cell_type": "code",
   "execution_count": 30,
   "metadata": {
    "collapsed": false
   },
   "outputs": [
    {
     "name": "stdout",
     "output_type": "stream",
     "text": [
      "The principal components explain [ 0.30293493  0.11996879  0.07238457] of the variance in the data.\n"
     ]
    },
    {
     "data": {
      "text/html": [
       "<div>\n",
       "<table border=\"1\" class=\"dataframe\">\n",
       "  <thead>\n",
       "    <tr style=\"text-align: right;\">\n",
       "      <th></th>\n",
       "      <th>0</th>\n",
       "      <th>1</th>\n",
       "      <th>2</th>\n",
       "    </tr>\n",
       "    <tr>\n",
       "      <th>0</th>\n",
       "      <th></th>\n",
       "      <th></th>\n",
       "      <th></th>\n",
       "    </tr>\n",
       "  </thead>\n",
       "  <tbody>\n",
       "    <tr>\n",
       "      <th>bonds</th>\n",
       "      <td>-0.203137</td>\n",
       "      <td>0.186396</td>\n",
       "      <td>-0.244912</td>\n",
       "    </tr>\n",
       "    <tr>\n",
       "      <th>car</th>\n",
       "      <td>-0.034577</td>\n",
       "      <td>0.462587</td>\n",
       "      <td>0.241317</td>\n",
       "    </tr>\n",
       "    <tr>\n",
       "      <th>crash</th>\n",
       "      <td>-0.025448</td>\n",
       "      <td>0.186302</td>\n",
       "      <td>0.437308</td>\n",
       "    </tr>\n",
       "    <tr>\n",
       "      <th>debt</th>\n",
       "      <td>-0.213764</td>\n",
       "      <td>0.203355</td>\n",
       "      <td>0.037997</td>\n",
       "    </tr>\n",
       "    <tr>\n",
       "      <th>economics</th>\n",
       "      <td>-0.401212</td>\n",
       "      <td>-0.173374</td>\n",
       "      <td>-0.036879</td>\n",
       "    </tr>\n",
       "    <tr>\n",
       "      <th>economy</th>\n",
       "      <td>-0.404490</td>\n",
       "      <td>-0.095853</td>\n",
       "      <td>0.054556</td>\n",
       "    </tr>\n",
       "    <tr>\n",
       "      <th>escape</th>\n",
       "      <td>0.141954</td>\n",
       "      <td>0.304589</td>\n",
       "      <td>0.197522</td>\n",
       "    </tr>\n",
       "    <tr>\n",
       "      <th>inflation</th>\n",
       "      <td>-0.385901</td>\n",
       "      <td>-0.130394</td>\n",
       "      <td>0.133066</td>\n",
       "    </tr>\n",
       "    <tr>\n",
       "      <th>market</th>\n",
       "      <td>-0.122978</td>\n",
       "      <td>0.166881</td>\n",
       "      <td>0.524376</td>\n",
       "    </tr>\n",
       "    <tr>\n",
       "      <th>metals</th>\n",
       "      <td>-0.387084</td>\n",
       "      <td>-0.148717</td>\n",
       "      <td>-0.046234</td>\n",
       "    </tr>\n",
       "    <tr>\n",
       "      <th>money</th>\n",
       "      <td>-0.227684</td>\n",
       "      <td>0.450927</td>\n",
       "      <td>-0.008466</td>\n",
       "    </tr>\n",
       "    <tr>\n",
       "      <th>panic</th>\n",
       "      <td>-0.055655</td>\n",
       "      <td>0.257485</td>\n",
       "      <td>-0.200711</td>\n",
       "    </tr>\n",
       "    <tr>\n",
       "      <th>party</th>\n",
       "      <td>0.011765</td>\n",
       "      <td>0.269113</td>\n",
       "      <td>-0.397748</td>\n",
       "    </tr>\n",
       "    <tr>\n",
       "      <th>risk</th>\n",
       "      <td>-0.402302</td>\n",
       "      <td>-0.100922</td>\n",
       "      <td>0.028719</td>\n",
       "    </tr>\n",
       "    <tr>\n",
       "      <th>suicide</th>\n",
       "      <td>-0.099662</td>\n",
       "      <td>0.090980</td>\n",
       "      <td>0.039802</td>\n",
       "    </tr>\n",
       "    <tr>\n",
       "      <th>unemployment</th>\n",
       "      <td>-0.160410</td>\n",
       "      <td>0.340147</td>\n",
       "      <td>-0.387256</td>\n",
       "    </tr>\n",
       "  </tbody>\n",
       "</table>\n",
       "</div>"
      ],
      "text/plain": [
       "                     0         1         2\n",
       "0                                         \n",
       "bonds        -0.203137  0.186396 -0.244912\n",
       "car          -0.034577  0.462587  0.241317\n",
       "crash        -0.025448  0.186302  0.437308\n",
       "debt         -0.213764  0.203355  0.037997\n",
       "economics    -0.401212 -0.173374 -0.036879\n",
       "economy      -0.404490 -0.095853  0.054556\n",
       "escape        0.141954  0.304589  0.197522\n",
       "inflation    -0.385901 -0.130394  0.133066\n",
       "market       -0.122978  0.166881  0.524376\n",
       "metals       -0.387084 -0.148717 -0.046234\n",
       "money        -0.227684  0.450927 -0.008466\n",
       "panic        -0.055655  0.257485 -0.200711\n",
       "party         0.011765  0.269113 -0.397748\n",
       "risk         -0.402302 -0.100922  0.028719\n",
       "suicide      -0.099662  0.090980  0.039802\n",
       "unemployment -0.160410  0.340147 -0.387256"
      ]
     },
     "execution_count": 30,
     "metadata": {},
     "output_type": "execute_result"
    }
   ],
   "source": [
    "from sklearn.decomposition import PCA\n",
    "from sklearn.preprocessing import StandardScaler\n",
    "X_PCA = StandardScaler().fit_transform(GT[GT.columns[1:]]) #scale data\n",
    "\n",
    "pca = PCA(n_components=3)\n",
    "pca.fit(X_PCA)                 #get PCs of scaled data\n",
    "print \"The principal components explain \"+np.array_str(pca.explained_variance_ratio_)+\" of the variance in the data.\"\n",
    "pd.DataFrame(pca.components_.T, index=GT.columns[1:])"
   ]
  },
  {
   "cell_type": "markdown",
   "metadata": {},
   "source": [
    "# Onto Machine Learning"
   ]
  },
  {
   "cell_type": "markdown",
   "metadata": {},
   "source": [
    "## Linear Regression"
   ]
  },
  {
   "cell_type": "code",
   "execution_count": 39,
   "metadata": {
    "collapsed": false
   },
   "outputs": [
    {
     "data": {
      "text/plain": [
       "515"
      ]
     },
     "execution_count": 39,
     "metadata": {},
     "output_type": "execute_result"
    }
   ],
   "source": [
    "int(N*(1-test_size))"
   ]
  },
  {
   "cell_type": "code",
   "execution_count": 60,
   "metadata": {
    "collapsed": false
   },
   "outputs": [
    {
     "name": "stdout",
     "output_type": "stream",
     "text": [
      "coefficient of determination R^2 of the prediction: 0.0204822673805\n",
      "MSE is: -1.63937083571\n",
      "\n",
      "Model coefficients are:\n",
      "risk\t\t0.142655\n",
      "inflation\t\t-0.001218\n",
      "metals\t\t0.018433\n",
      "economics\t\t0.060764\n",
      "debt\t\t-0.067427\n",
      "economy\t\t-0.250075\n",
      "car\t\t-0.055911\n"
     ]
    }
   ],
   "source": [
    "from sklearn import linear_model\n",
    "test_size = 0.15  #want a clean split, not equal sampling throughout time series\n",
    "\n",
    "columns = [\"risk\",\"inflation\",\"metals\",\"economics\",\"debt\",\"economy\",\"car\"]\n",
    "Xs = StandardScaler().fit_transform(GT[columns])\n",
    "N = len(y)\n",
    "split = int(N*(1-test_size))\n",
    "Xs_train, Xs_test, ys_train, ys_test = Xs[0:split], Xs[split:], ys[0:split], ys[split:] #scaled data\n",
    "\n",
    "regr = linear_model.LinearRegression()\n",
    "regr.fit(Xs_train, ys_train)\n",
    "print \"coefficient of determination R^2 of the prediction:\",regr.score(Xs_test, ys_test)\n",
    "print \"MSE is:\",cross_val_score(regr, Xs_test, ys_test, scoring='mean_squared_error').mean()\n",
    "print \"\\nModel coefficients are:\" \n",
    "for i in range(len(columns)):\n",
    "    print(\"%s\\t\\t%f\" % (columns[i], regr.coef_[i]))"
   ]
  },
  {
   "cell_type": "code",
   "execution_count": 51,
   "metadata": {
    "collapsed": false
   },
   "outputs": [
    {
     "data": {
      "text/plain": [
       "[<matplotlib.lines.Line2D at 0x114b6ba10>]"
      ]
     },
     "execution_count": 51,
     "metadata": {},
     "output_type": "execute_result"
    },
    {
     "data": {
      "image/png": "[encoded data removed]",
      "text/plain": [
       "<matplotlib.figure.Figure at 0x114b6b510>"
      ]
     },
     "metadata": {},
     "output_type": "display_data"
    }
   ],
   "source": [
    "t = range(len(ys_test))\n",
    "plt.plot(t, ys_test, 'o')\n",
    "plt.plot(t,regr.predict(Xs_test))"
   ]
  },
  {
   "cell_type": "markdown",
   "metadata": {},
   "source": [
    "## Random Forest"
   ]
  },
  {
   "cell_type": "code",
   "execution_count": 31,
   "metadata": {
    "collapsed": true
   },
   "outputs": [],
   "source": [
    "columns = GT.columns[1:]\n",
    "X = GT[columns]\n",
    "X_train, X_test, y_train, y_test = train_test_split(X, y, test_size=0.15, random_state=42)"
   ]
  },
  {
   "cell_type": "code",
   "execution_count": 29,
   "metadata": {
    "collapsed": false
   },
   "outputs": [
    {
     "name": "stdout",
     "output_type": "stream",
     "text": [
      "Best Parameters from gridsearch: {{'max_features': 'sqrt', 'min_samples_split': 12, 'n_estimators': 300}} with a score of -872.9191\n"
     ]
    }
   ],
   "source": [
    "from sklearn.ensemble import RandomForestRegressor\n",
    "from sklearn.cross_validation import StratifiedShuffleSplit\n",
    "from sklearn.grid_search import GridSearchCV\n",
    "rfr = RandomForestRegressor(max_features='auto' ,n_estimators=50, oob_score=1) \n",
    "param_grid = { \n",
    "        'n_estimators': [300,500],\n",
    "        'max_features': ['sqrt'],\n",
    "        'min_samples_split': [2,4,8,12,16]\n",
    "}\n",
    "CV_rfr = GridSearchCV(n_jobs=-1, estimator=rfr, scoring=\"mean_squared_error\", param_grid=param_grid)\n",
    "CV_rfr.fit(X_train, y_train);\n",
    "print(\"Best Parameters from gridsearch: {%s} with a score of %0.4f\" % (CV_rfr.best_params_, CV_rfr.best_score_))"
   ]
  },
  {
   "cell_type": "code",
   "execution_count": 32,
   "metadata": {
    "collapsed": false
   },
   "outputs": [
    {
     "name": "stdout",
     "output_type": "stream",
     "text": [
      "Feature\t\tImportance\n",
      "\n",
      "market\t\t0.148598\n",
      "crash\t\t0.090362\n",
      "unemployment\t\t0.071609\n",
      "party\t\t0.070783\n",
      "escape\t\t0.059799\n",
      "inflation\t\t0.057886\n",
      "bonds\t\t0.057710\n",
      "economics\t\t0.054554\n",
      "economy\t\t0.054357\n",
      "risk\t\t0.053645\n",
      "suicide\t\t0.051415\n",
      "debt\t\t0.050203\n",
      "metals\t\t0.047832\n",
      "panic\t\t0.047159\n",
      "money\t\t0.047076\n",
      "car\t\t0.037014\n"
     ]
    }
   ],
   "source": [
    "modelrfr = CV_rfr.best_estimator_\n",
    "print(\"Feature\\t\\tImportance\\n\")\n",
    "for i in reversed(np.argsort(modelrfr.feature_importances_)):\n",
    "    print(\"%s\\t\\t%f\" % (columns[i], modelrfr.feature_importances_[i]))"
   ]
  },
  {
   "cell_type": "code",
   "execution_count": null,
   "metadata": {
    "collapsed": true
   },
   "outputs": [],
   "source": []
  }
 ],
 "metadata": {
  "kernelspec": {
   "display_name": "Python 2",
   "language": "python",
   "name": "python2"
  },
  "language_info": {
   "codemirror_mode": {
    "name": "ipython",
    "version": 2
   },
   "file_extension": ".py",
   "mimetype": "text/x-python",
   "name": "python",
   "nbconvert_exporter": "python",
   "pygments_lexer": "ipython2",
   "version": "2.7.11"
  }
 },
 "nbformat": 4,
 "nbformat_minor": 0
}
