{
 "cells": [
  {
   "cell_type": "markdown",
   "metadata": {},
   "source": [
    "# Predicting the Stock Market with Google Trends\n",
    "I think that doing a linear regression is hard since there's a lag between the searches and the stock market behaviour. The papers don't actually do a linear regression per-se, they instead do a buy/sell trade algorithm."
   ]
  },
  {
   "cell_type": "code",
   "execution_count": 1,
   "metadata": {
    "collapsed": true
   },
   "outputs": [],
   "source": [
    "import pandas as pd\n",
    "import numpy as np\n",
    "from datetime import datetime\n",
    "from pandas_datareader import data as web\n",
    "import glob\n",
    "import matplotlib.pyplot as plt\n",
    "from sklearn.cross_validation import cross_val_score\n",
    "%matplotlib inline"
   ]
  },
  {
   "cell_type": "markdown",
   "metadata": {},
   "source": [
    "# Prepare data"
   ]
  },
  {
   "cell_type": "code",
   "execution_count": 7,
   "metadata": {
    "collapsed": false
   },
   "outputs": [],
   "source": [
    "#Load Google Trends data\n",
    "files = glob.glob(\"GoogleTrends/*.csv\")\n",
    "\n",
    "#look at first file and get location of last entry, as well as the dates\n",
    "GT = pd.read_csv(files[0],header=4,skip_blank_lines=False)\n",
    "tail = np.where(pd.isnull(GT))[0][0]-2\n",
    "\n",
    "#get dates in integer and string format for each friday (gotta get down on friday)\n",
    "#i.e. to match GT data with the Weekly Adj Close prices\n",
    "GT_dates_int = []\n",
    "GT_dates_str = []\n",
    "for date in GT.loc[0:tail].iterrows():\n",
    "    d = date[1][0].split(\" - \")[1].split(\"-\")\n",
    "    GT_dates_int.append(int(d[0]+d[1]+d[2])-1)\n",
    "    day = int(d[2])-1\n",
    "    if day < 10:\n",
    "        day = \"0\"+str(day)\n",
    "    else:\n",
    "        day = str(day)\n",
    "    GT_dates_str.append(d[0]+\"-\"+d[1]+\"-\"+day)"
   ]
  },
  {
   "cell_type": "code",
   "execution_count": 16,
   "metadata": {
    "collapsed": false
   },
   "outputs": [],
   "source": [
    "#load all Google Trends data\n",
    "cols = [] \n",
    "for f in files:\n",
    "    df = pd.read_csv(f,header=None,skiprows=4,skip_blank_lines=False)\n",
    "    df = df.loc[0:tail+1]\n",
    "    cols.append(df.iloc[:,1])\n",
    "GT = pd.concat(cols,axis=1,names=cols)\n",
    "GT.columns = GT.iloc[0]\n",
    "GT = GT.iloc[1:].astype(float)\n",
    "GT = GT.reset_index(drop=True)"
   ]
  },
  {
   "cell_type": "code",
   "execution_count": 17,
   "metadata": {
    "collapsed": false
   },
   "outputs": [],
   "source": [
    "#how you want to prepare your GT data (differencing, difference from rolling average, or normalization)\n",
    "choice = \"diff\"\n",
    "rolling_dt = 4\n",
    "rolling_monthly = 4\n",
    "\n",
    "if choice == \"diff\": #simple difference\n",
    "    GT = GT.diff()\n",
    "    rolling_dt = 1\n",
    "elif choice == \"rolling_diff\": #rolling difference\n",
    "    rolling = GT.rolling(window=rolling_dt).mean()\n",
    "    GT = GT - rolling\n",
    "elif choice == \"norm\": #calculate z-statistic\n",
    "    GT = (GT - GT.mean())/GT.std()\n",
    "    \n",
    "#get dates\n",
    "GT.insert(0,\"Dates\",GT_dates_int)\n",
    "GT = GT.iloc[rolling_dt:]\n",
    "\n",
    "#Get all S&P500 data\n",
    "t0 = [int(x) for x in GT_dates_str[0].split(\"-\")]    #start of Google Trends\n",
    "t1 = [int(x) for x in GT_dates_str[-1].split(\"-\")]   #End of Google Trends\n",
    "start = datetime(t0[0], t0[1], t0[2])\n",
    "end = datetime(t1[0], t1[1], t1[2])\n",
    "data = web.DataReader('^GSPC','yahoo', start, end)\n",
    "stock_dates = []\n",
    "\n",
    "#get dates in integer form\n",
    "for date in data.iterrows():\n",
    "    d = str(date[0].date()).split(\"-\")\n",
    "    stock_dates.append(int(d[0]+d[1]+d[2]))\n",
    "\n",
    "#Take closing prices (i.e. end of week) only on dates coresponding to Google Trend dates\n",
    "data.insert(0,\"Dates\",stock_dates)\n",
    "data = data.loc[data[\"Dates\"].isin(GT_dates_int)]\n",
    "\n",
    "#get change in price, much more predictive\n",
    "data[\"Weekly Change\"] = data[\"Adj Close\"].diff() \n",
    "data[\"Monthly Std\"] = data[\"Adj Close\"].rolling(window=rolling_monthly).std()\n",
    "data = data.iloc[max(rolling_dt,rolling_monthly):]\n",
    "\n",
    "#ensure that Google Trends data aligns with stock data too\n",
    "GT = GT[GT[\"Dates\"].isin(data[\"Dates\"])]"
   ]
  },
  {
   "cell_type": "markdown",
   "metadata": {},
   "source": [
    "## Check for Unit Root (and Stationarity) - Augmented Dicker-Fuller (ADF) test\n",
    "The Dicker-Fuller test checks the null hypothesis that an auto-regressive process has a unit root. An auto-regressive process is described by:\n",
    "$$X(t) = \\sum_{i=1}^t \\rho_i X(t-i) + RAND(t) + c$$\n",
    "\n",
    "When the size of a root is greater than unity ($\\rho > 1$) the flow accelerates away from a central location (e.g. picture streamlines of water flowing down a creek). $\\rho > 1$ typically doesn't happen often in economic data. Movement along a characteristic direction with a unit root ($\\rho = 1$) is dominated by the random forces affecting the cone. It is a \"random walk\". The cone can wander away slowly but without accelerating. However, if $\\rho < 1$ the process is mean-reverting. \n",
    "\n",
    "It is key to remember that ADF tests for a unit root (i.e. $\\rho = 1$), not for stationarity per-se. A process is only (covariance) stationary if it has time-invariant 1st and 2nd moments.\n",
    "\n",
    "A couple notes:\n",
    "* The model for ADF is: $\\Delta y_t = \\alpha + \\beta t + \\gamma y_{t-1} + \\delta_1 \\Delta y_{t-1} + ... + \\delta_{p-1} \\Delta y_{t-(p-1)}$, where $p$ is the order of the autoregressive process, i.e. how far back does previous data influence new data? The order is usually calculated by maxmimizing the information criterion, i.e. the Akaike Information Criterion (AIC), Bayesian Information Criterion (BIC), etc.\n",
    "* When assessing the Test Statistic for stationarity, remember that if the **signed** test statistic is less than the Critical Values it implies that all roots are less than 1, i.e. the more negative the Test Statistic the more likely your time series is to be stationary.\n",
    "\n",
    "Useful Links:\n",
    "* http://statsmodels.sourceforge.net/devel/generated/statsmodels.tsa.stattools.adfuller.html - using adfuller\n",
    "* https://www.analyticsvidhya.com/blog/2015/12/complete-tutorial-time-series-modeling/ - discussion of time series analysis and stationary processes\n",
    "* http://stats.stackexchange.com/questions/29121/intuitive-explanation-of-unit-root - great intuition of unit root"
   ]
  },
  {
   "cell_type": "code",
   "execution_count": 18,
   "metadata": {
    "collapsed": false
   },
   "outputs": [],
   "source": [
    "#The (signed) test statistic must be less than the Critical values\n",
    "from statsmodels.tsa.stattools import adfuller\n",
    "def dickey_fuller(timeseries):\n",
    "    print 'Results of Dickey-Fuller Test:'\n",
    "    dftest = adfuller(timeseries, autolag='AIC')\n",
    "    dfoutput = pd.Series(dftest[0:4], index=['Test Statistic','p-value','# Lags Used','Number of Observations Used'])\n",
    "    for key,value in dftest[4].items():\n",
    "        dfoutput['Critical Value (%s)'%key] = value\n",
    "    print dfoutput"
   ]
  },
  {
   "cell_type": "code",
   "execution_count": 19,
   "metadata": {
    "collapsed": false
   },
   "outputs": [
    {
     "name": "stdout",
     "output_type": "stream",
     "text": [
      "Results of Dickey-Fuller Test:\n",
      "Test Statistic                -1.154327e+01\n",
      "p-value                        3.591549e-21\n",
      "# Lags Used                    9.000000e+00\n",
      "Number of Observations Used    5.970000e+02\n",
      "Critical Value (5%)           -2.866393e+00\n",
      "Critical Value (1%)           -3.441351e+00\n",
      "Critical Value (10%)          -2.569355e+00\n",
      "dtype: float64\n"
     ]
    }
   ],
   "source": [
    "#dickey_fuller(data[\"Weekly Change\"])\n",
    "dickey_fuller(GT[\"debt\"])"
   ]
  },
  {
   "cell_type": "markdown",
   "metadata": {},
   "source": [
    "## Check for Normality - Compare to Normal Distribution\n",
    "The ADF test has given us evidence that the differenced time series, i.e. \"Weekly Change\" is stationary. But is it normal? \n",
    "\n",
    "Here we compare the time series to a normal distribution, and check the null hypothesis that the distribution comes from a normal distribution. Thus, if the p-value returned is less than the a given threshold, we reject the null hypothesis that the Weekly Changes are normally distributed. Keep in mind that a check for normality is different than a check for stationarity. A distribution can be stationary (constant mean and variance) and not follow a normal distribution.\n",
    "\n",
    "When plotting the S&P500 Weekly Changes it already becomes clear that the data is not normally distributed. 8-sigma events show up in the Weekly Change histogram, which statistically should not happen in our lifetime if the data was truly normally distributed. In addition, it is also more sharply peaked."
   ]
  },
  {
   "cell_type": "code",
   "execution_count": 20,
   "metadata": {
    "collapsed": false
   },
   "outputs": [
    {
     "name": "stdout",
     "output_type": "stream",
     "text": [
      "NormaltestResult(statistic=109.73422225357285, pvalue=1.4842819278997192e-24)\n"
     ]
    },
    {
     "data": {
      "text/plain": [
       "<matplotlib.legend.Legend at 0x10a1592d0>"
      ]
     },
     "execution_count": 20,
     "metadata": {},
     "output_type": "execute_result"
    },
    {
     "data": {
      "image/png": "[encoded data removed]",
      "text/plain": [
       "<matplotlib.figure.Figure at 0x10bea33d0>"
      ]
     },
     "metadata": {},
     "output_type": "display_data"
    }
   ],
   "source": [
    "from scipy.stats import norm\n",
    "from scipy.stats.mstats import normaltest\n",
    "\n",
    "field = \"Weekly Change\"\n",
    "x = data[field]\n",
    "\n",
    "test = normaltest(x)\n",
    "print test\n",
    "(mu, sigma) = norm.fit(x)\n",
    "\n",
    "n, bins, patches = plt.hist(x, 30, normed=1, facecolor='green', alpha=0.75)\n",
    "plt.plot(bins, norm.pdf(bins,mu,sigma), color='black', label='mu=%.2f, sigma=%.2f'%(mu,sigma))\n",
    "plt.legend(loc='upper left')"
   ]
  },
  {
   "cell_type": "markdown",
   "metadata": {},
   "source": [
    "## Tests for Causality - Granger Causality Tests\n",
    "The maximum lag for the Granger Causality Test needs to be at least as large as the \"# lags used\" in the ADF test?\n",
    "It's important to remember that \"Granger Causality\" is not true causality, and more-so measures correlation/predictability of lagged datasets. For example, a crowing rooster may Granger Cause the rising of the sun every morning at 6am, but obviously, the crowing rooster doesn't truly cause the rising of the sun. \n",
    "\n",
    "\n",
    "Useful Links:\n",
    "* http://davegiles.blogspot.ca/2011/04/testing-for-granger-causality.html\n",
    "* https://en.wikipedia.org/wiki/Vector_autoregression"
   ]
  },
  {
   "cell_type": "code",
   "execution_count": 22,
   "metadata": {
    "collapsed": false
   },
   "outputs": [
    {
     "data": {
      "text/plain": [
       "<matplotlib.legend.Legend at 0x116a3eb50>"
      ]
     },
     "execution_count": 22,
     "metadata": {},
     "output_type": "execute_result"
    },
    {
     "data": {
      "image/png": "[encoded data removed]",
      "text/plain": [
       "<matplotlib.figure.Figure at 0x113f56a10>"
      ]
     },
     "metadata": {},
     "output_type": "display_data"
    }
   ],
   "source": [
    "from statsmodels.tsa.stattools import grangercausalitytests\n",
    "\n",
    "#create arrays\n",
    "fieldx = \"debt\"\n",
    "fieldy = \"Weekly Change\"\n",
    "tt = range(len(GT[fieldx]))\n",
    "yy = (data[fieldy] - data[fieldy].mean())/data[fieldy].std()\n",
    "xx = (GT[fieldx] - GT[fieldx].mean())/GT[fieldx].std()\n",
    "zz = (data[\"Monthly Std\"] - data[\"Monthly Std\"].mean())/data[\"Monthly Std\"].std()\n",
    "\n",
    "#truncate - look at just 2008 financial crisis\n",
    "min_ = 300\n",
    "max_ = 500\n",
    "xx = xx[min_:max_]\n",
    "yy = yy[min_:max_]\n",
    "zz = zz[min_:max_]\n",
    "tt = tt[min_:max_]\n",
    "\n",
    "#granger test\n",
    "maxlag = 10\n",
    "#result = grangercausalitytests(zip(yy,xx),maxlag)\n",
    "\n",
    "#plot\n",
    "plt.plot(tt,xx)\n",
    "plt.plot(tt,yy,'o')\n",
    "plt.plot(tt,zz,'.')\n",
    "plt.legend(loc=\"upper left\")\n",
    "#plt.xticks(tt, GT[\"Dates\"], rotation=45)"
   ]
  },
  {
   "cell_type": "markdown",
   "metadata": {},
   "source": [
    "# Onto Machine Learning"
   ]
  },
  {
   "cell_type": "markdown",
   "metadata": {},
   "source": [
    "## Linear Regression"
   ]
  },
  {
   "cell_type": "code",
   "execution_count": null,
   "metadata": {
    "collapsed": false
   },
   "outputs": [],
   "source": [
    "from sklearn import linear_model\n",
    "from sklearn.preprocessing import StandardScaler\n",
    "\n",
    "columns = [\"debt\"]\n",
    "Xs = StandardScaler().fit_transform(GT[columns])\n",
    "\n",
    "#want a clean split of test/train data, not random sampling throughout time series\n",
    "test_size = 0.15 \n",
    "N = len(y)\n",
    "split = int(N*(1-test_size))\n",
    "Xs_train, Xs_test, ys_train, ys_test = Xs[0:split], Xs[split:], ys[0:split], ys[split:] #scaled data\n",
    "\n",
    "regr = linear_model.LinearRegression()\n",
    "regr.fit(Xs_train, ys_train)\n",
    "print \"coefficient of determination R^2 of the prediction:\",regr.score(Xs_test, ys_test)\n",
    "print \"MSE is:\",cross_val_score(regr, Xs_test, ys_test, scoring='mean_squared_error').mean()\n",
    "print \"\\nModel coefficients are:\" \n",
    "for i in range(len(columns)):\n",
    "    print(\"%s\\t\\t%f\" % (columns[i], regr.coef_[i]))"
   ]
  },
  {
   "cell_type": "code",
   "execution_count": null,
   "metadata": {
    "collapsed": false
   },
   "outputs": [],
   "source": [
    "t = range(len(ys_test))\n",
    "plt.plot(t, ys_test, 'o')\n",
    "plt.plot(t,regr.predict(Xs_test))"
   ]
  },
  {
   "cell_type": "markdown",
   "metadata": {},
   "source": [
    "## Random Forest"
   ]
  },
  {
   "cell_type": "code",
   "execution_count": null,
   "metadata": {
    "collapsed": true
   },
   "outputs": [],
   "source": [
    "columns = GT.columns[1:]\n",
    "X = GT[columns]\n",
    "X_train, X_test, y_train, y_test = train_test_split(X, y, test_size=0.15, random_state=42)"
   ]
  },
  {
   "cell_type": "code",
   "execution_count": null,
   "metadata": {
    "collapsed": false
   },
   "outputs": [],
   "source": [
    "from sklearn.ensemble import RandomForestRegressor\n",
    "from sklearn.cross_validation import StratifiedShuffleSplit\n",
    "from sklearn.grid_search import GridSearchCV\n",
    "rfr = RandomForestRegressor(max_features='auto' ,n_estimators=50, oob_score=1) \n",
    "param_grid = { \n",
    "        'n_estimators': [300,500],\n",
    "        'max_features': ['sqrt'],\n",
    "        'min_samples_split': [2,4,8,12,16]\n",
    "}\n",
    "CV_rfr = GridSearchCV(n_jobs=-1, estimator=rfr, scoring=\"mean_squared_error\", param_grid=param_grid)\n",
    "CV_rfr.fit(X_train, y_train);\n",
    "print(\"Best Parameters from gridsearch: {%s} with a score of %0.4f\" % (CV_rfr.best_params_, CV_rfr.best_score_))"
   ]
  },
  {
   "cell_type": "code",
   "execution_count": null,
   "metadata": {
    "collapsed": false
   },
   "outputs": [],
   "source": [
    "modelrfr = CV_rfr.best_estimator_\n",
    "print(\"Feature\\t\\tImportance\\n\")\n",
    "for i in reversed(np.argsort(modelrfr.feature_importances_)):\n",
    "    print(\"%s\\t\\t%f\" % (columns[i], modelrfr.feature_importances_[i]))"
   ]
  },
  {
   "cell_type": "markdown",
   "metadata": {
    "collapsed": true
   },
   "source": [
    "# Extra"
   ]
  },
  {
   "cell_type": "markdown",
   "metadata": {},
   "source": [
    "## PCA"
   ]
  },
  {
   "cell_type": "code",
   "execution_count": null,
   "metadata": {
    "collapsed": false
   },
   "outputs": [],
   "source": [
    "from sklearn.decomposition import PCA\n",
    "from sklearn.preprocessing import StandardScaler\n",
    "X_PCA = StandardScaler().fit_transform(GT[GT.columns[1:]]) #scale data\n",
    "\n",
    "pca = PCA(n_components=3)\n",
    "pca.fit(X_PCA)                 #get PCs of scaled data\n",
    "print \"The principal components explain \"+np.array_str(pca.explained_variance_ratio_)+\" of the variance in the data.\"\n",
    "pd.DataFrame(pca.components_.T, index=GT.columns[1:])"
   ]
  }
 ],
 "metadata": {
  "kernelspec": {
   "display_name": "Python 2",
   "language": "python",
   "name": "python2"
  },
  "language_info": {
   "codemirror_mode": {
    "name": "ipython",
    "version": 2
   },
   "file_extension": ".py",
   "mimetype": "text/x-python",
   "name": "python",
   "nbconvert_exporter": "python",
   "pygments_lexer": "ipython2",
   "version": "2.7.11"
  }
 },
 "nbformat": 4,
 "nbformat_minor": 0
}
