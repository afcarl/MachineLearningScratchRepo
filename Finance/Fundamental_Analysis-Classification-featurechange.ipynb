{
 "cells": [
  {
   "cell_type": "markdown",
   "metadata": {},
   "source": [
    "# Fundamental Analysis\n",
    "This notebook plots various fundamental statistics of different stocks.  \n",
    "These links were helpful:  \n",
    "https://simply-python.com/2015/02/13/getting-historical-financial-statistics-of-stock-using-python/  \n",
    "http://stackoverflow.com/questions/40139537/scrape-yahoo-finance-financial-ratios  \n",
    "https://automatetheboringstuff.com/chapter11/  \n",
    "http://docs.python-guide.org/en/latest/scenarios/scrape/  \n",
    "\n",
    "## Todo\n",
    "- See the Learning curve, to determine if I'm limited by my sample size...\n",
    "- Check classification instead of regression as well - will the stock go up or down? Looks imbalanced set though...\n",
    "- Maybe try predicting only 6 months in advance instead of a year.\n",
    "- Have time information for featuers, i.e. EPS_i+1 / EPS_i for a given stock\n",
    "- Try and merge other currencies into USD columns? Might increase # stocks by a lot\n",
    "- Need to take mean of December stock Price timeseries, so taht you don't e.g. by chance catch it at a high/low..\n",
    "- Getting the stock data needs to be faster... wayy too slow"
   ]
  },
  {
   "cell_type": "code",
   "execution_count": 1,
   "metadata": {
    "collapsed": false
   },
   "outputs": [],
   "source": [
    "import pandas as pd\n",
    "import numpy as np\n",
    "import requests\n",
    "import sys\n",
    "import matplotlib.pyplot as plt\n",
    "from pandas_datareader.data import DataReader\n",
    "from pandas.tseries.offsets import BMonthEnd\n",
    "from pattern.web import URL\n",
    "%matplotlib inline"
   ]
  },
  {
   "cell_type": "markdown",
   "metadata": {},
   "source": [
    "## Choose Sector to analyze\n",
    "- Important to analyze stocks from the same sector, as different sectors have different standards. E.g. a typical Debt/Equity ratio of one sector can be very different from another sector.  \n",
    "- Download stock lists from http://www.nasdaq.com/screening/industries.aspx  "
   ]
  },
  {
   "cell_type": "code",
   "execution_count": 2,
   "metadata": {
    "collapsed": false
   },
   "outputs": [
    {
     "data": {
      "text/html": [
       "<div>\n",
       "<table border=\"1\" class=\"dataframe\">\n",
       "  <thead>\n",
       "    <tr style=\"text-align: right;\">\n",
       "      <th></th>\n",
       "      <th>Symbol</th>\n",
       "      <th>Company</th>\n",
       "    </tr>\n",
       "  </thead>\n",
       "  <tbody>\n",
       "    <tr>\n",
       "      <th>0</th>\n",
       "      <td>A</td>\n",
       "      <td>Agilent Technologies</td>\n",
       "    </tr>\n",
       "    <tr>\n",
       "      <th>1</th>\n",
       "      <td>AA</td>\n",
       "      <td>Alcoa Inc</td>\n",
       "    </tr>\n",
       "    <tr>\n",
       "      <th>2</th>\n",
       "      <td>AACC</td>\n",
       "      <td>Asset Accep Cap Corp</td>\n",
       "    </tr>\n",
       "    <tr>\n",
       "      <th>3</th>\n",
       "      <td>AAI</td>\n",
       "      <td>Airtran Hldgs Inc</td>\n",
       "    </tr>\n",
       "    <tr>\n",
       "      <th>4</th>\n",
       "      <td>AAII</td>\n",
       "      <td>Alabama Aircraft Ind In</td>\n",
       "    </tr>\n",
       "  </tbody>\n",
       "</table>\n",
       "</div>"
      ],
      "text/plain": [
       "  Symbol                  Company\n",
       "0      A     Agilent Technologies\n",
       "1     AA                Alcoa Inc\n",
       "2   AACC     Asset Accep Cap Corp\n",
       "3    AAI        Airtran Hldgs Inc\n",
       "4   AAII  Alabama Aircraft Ind In"
      ]
     },
     "execution_count": 2,
     "metadata": {},
     "output_type": "execute_result"
    }
   ],
   "source": [
    "#tickers = pd.read_csv('csv/s&p500.csv',delimiter=\",\")\n",
    "tickers = pd.read_csv('csv/wilshire5000.csv',delimiter=\",\")\n",
    "\n",
    "#industry = 'Finance'\n",
    "#tickers = pd.read_csv('csv/nasdaq/%s.csv'%industry,delimiter=\",\")\n",
    "#tickers = tickers.loc[stocks['MarketCap']>1e7]  #exclude stocks with small market cap\n",
    "\n",
    "tickers.head()"
   ]
  },
  {
   "cell_type": "markdown",
   "metadata": {},
   "source": [
    "Testing"
   ]
  },
  {
   "cell_type": "markdown",
   "metadata": {},
   "source": [
    "## Get Data"
   ]
  },
  {
   "cell_type": "code",
   "execution_count": 3,
   "metadata": {
    "collapsed": false,
    "scrolled": false
   },
   "outputs": [],
   "source": [
    "#small helper function for get_mean_frac_price_change\n",
    "def first_and_last_weekday_of_month(date):\n",
    "    return pd.date_range(date, periods=1, freq='BMS'), pd.date_range(date, periods=1, freq='BM')\n",
    "\n",
    "#collects data from yahoo finance, gets mean fractional price change, averaged over the relevant month\n",
    "def get_mean_frac_price_change(stock,current_date):\n",
    "    ds = current_date.split('-')\n",
    "    first_current, last_current = first_and_last_weekday_of_month(current_date)\n",
    "    first_future, last_future = first_and_last_weekday_of_month('%d-%s'%(int(ds[0])+1, ds[1]))\n",
    "    first_past, last_past = first_and_last_weekday_of_month('%d-%s'%(int(ds[0])-1, ds[1]))\n",
    "    mean_current_price = DataReader(stock, 'yahoo', first_current, last_current)['Adj Close'].mean()\n",
    "    mean_future_price = DataReader(stock, 'yahoo', first_future, last_future)['Adj Close'].mean()\n",
    "    mean_past_price = DataReader(stock, 'yahoo', first_future, last_future)['Adj Close'].mean()\n",
    "    return mean_future_price/mean_current_price, mean_current_price/mean_past_price\n",
    "    \n",
    "#simple progress bar\n",
    "def progress_bar(sequence, every=10):\n",
    "    length = float(len(sequence))\n",
    "    for index, item in enumerate(sequence):\n",
    "        if index % every == 0:\n",
    "            print >>sys.stderr, index/length,\n",
    "        yield item\n",
    "\n",
    "#scrape financial data from Morningstar\n",
    "def get_stock_financials(stock,year):\n",
    "    #pre-load stuff\n",
    "    path = \"Fundamental_Analysis/\"\n",
    "    skiprows = [19,20,31,41,42,43,48,58,53,64,65,72,73,95,101,102]\n",
    "    del_if_present = ['AUD','EUR','BRL','CAD','ARS','CHF','CLP','CNY','COP','GBP','ILS','INR','JPY','KRW','MXN','PEN','PLN','RON','RUB','SEK','THB','TWD','ZAR','CZK','OMR','AED']\n",
    "    del_columns = ['Year over Year','3-Year Average','5-Year Average','10-Year Average','Taxes Payable','Long-Term Debt']\n",
    "    #scrape/load data\n",
    "    try:\n",
    "        d = pd.read_csv('%s%s_keyratios.csv'%(path, stock), header=2, index_col=0, skiprows=skiprows)\n",
    "    except:\n",
    "        webpage = \"http://financials.morningstar.com/ajax/exportKR2CSV.html?t=%s&culture=en-CA&region=USA&order=asc&r=314562\"%stock\n",
    "        url = URL(webpage)\n",
    "        f = open('%s%s_keyratios.csv'%(path, stock), 'wb') #save key ratios\n",
    "        f.write(url.download())\n",
    "        f.close()\n",
    "        d = pd.read_csv('%s%s_keyratios.csv'%(path, stock), header=2, index_col=0, skiprows=skiprows)\n",
    "    d = d.transpose().reset_index()\n",
    "    #ignore if non-US stocks for consistency\n",
    "    for dip in del_if_present:\n",
    "        if np.any(d.columns.str.contains(dip)):            #delete if present\n",
    "            return pd.DataFrame(columns=d.columns)         #return empty dataframe so that this entry will be ignored\n",
    "    d = d.dropna(axis='columns', how='all')\n",
    "    #delete annoying repeated columns\n",
    "    for dc in del_columns: \n",
    "        try:\n",
    "            del d[dc]\n",
    "        except:\n",
    "            pass\n",
    "    #Get ratios of each feature from current and previous year\n",
    "    i1,i2 = np.where(d['index'].str.contains(\"%d\"%year))[0][0], np.where(d['index'].str.contains(\"%d\"%(year-1)))[0][0]\n",
    "    current_date=d['index'].iloc[i1]\n",
    "    ratios = pd.to_numeric(d.iloc[i1], errors='coerce')/pd.to_numeric(d.iloc[i2], errors='coerce')\n",
    "    #ratios = d.iloc[i1].convert_objects(convert_numeric=True)/d.iloc[i2].convert_objects(convert_numeric=True)\n",
    "    d = pd.DataFrame(ratios).transpose()\n",
    "    MFFPC, MPFPC = get_mean_frac_price_change(stock,current_date)\n",
    "    d['Stock'] = stock                                     #keep stock ticker\n",
    "    d['Mean Past Fractional Price Change'] = MPFPC         #fractional price change (current/past) -> for features\n",
    "    d['Mean Future Fractional Price Change'] = MFFPC       #fractional price change (future/current) -> for target\n",
    "    return d\n",
    "        \n",
    "#Top-level function which acquires all the data\n",
    "def get_data(ticker_csv,year,true_threshold):\n",
    "    ticker_loc = ticker_csv.split(\".csv\")[0]\n",
    "    try:\n",
    "        X = pd.read_csv(\"%s_year%d_data.csv\"%(ticker_loc,year))\n",
    "        skip = np.loadtxt(\"%s_year%d_skip.csv\"%(ticker_loc,year), dtype=\"str\",delimiter=\",\")\n",
    "        print \"Loaded data from csv's...\"\n",
    "    except:\n",
    "        print \"Couldn't find DataFrame, scraping data from Morningstar...\"\n",
    "        #create empty dataframe with available columns\n",
    "        stocks = pd.read_csv(ticker_csv,delimiter=\",\")\n",
    "        cols = get_stock_financials(stocks[\"Symbol\"][0],year).columns\n",
    "        X = pd.DataFrame(columns=cols)\n",
    "        skip = []\n",
    "        for s in progress_bar(stocks[\"Symbol\"], len(stocks[\"Symbol\"])/10):\n",
    "            try:\n",
    "                _X = get_stock_financials(s,year)\n",
    "                if _X.shape[1] > 1: #only append if alg actually recovered data\n",
    "                    X = X.append(_X)\n",
    "            except:\n",
    "                skip.append(s)\n",
    "        X = X.set_index('Stock')\n",
    "        #save to csv for ease of loading next time\n",
    "        skip = np.asarray(skip)\n",
    "        X.to_csv(\"%s_year%d_data.csv\"%(ticker_loc,year))\n",
    "        np.savetxt(\"%s_year%d_skip.csv\"%(ticker_loc,year), skip, fmt=\"%s\", delimiter=\",\")\n",
    "    #create target\n",
    "    y = np.zeros(X.shape[0])\n",
    "    y[np.where(X['Mean Future Fractional Price Change']>true_threshold)] = 1\n",
    "    return X, y, skip"
   ]
  },
  {
   "cell_type": "markdown",
   "metadata": {},
   "source": [
    "Load the data below. This could take a minute."
   ]
  },
  {
   "cell_type": "code",
   "execution_count": 4,
   "metadata": {
    "collapsed": false
   },
   "outputs": [
    {
     "name": "stdout",
     "output_type": "stream",
     "text": [
      "Couldn't find DataFrame, scraping data from Morningstar...\n"
     ]
    },
    {
     "name": "stderr",
     "output_type": "stream",
     "text": [
      "0.0 0.0999756750182 0.199951350036 0.299927025055 0.399902700073 0.499878375091 0.599854050109 0.699829725128 0.799805400146 0.899781075164 0.999756750182"
     ]
    }
   ],
   "source": [
    "year = 2015\n",
    "true_threshold=1.0          #Minimum fractional change in price required for target=True (=1). Otherwise False (=0). \n",
    "ticker_csv = \"csv/wilshire5000.csv\"\n",
    "\n",
    "X, y, skip = get_data(ticker_csv, year, true_threshold)"
   ]
  },
  {
   "cell_type": "code",
   "execution_count": 5,
   "metadata": {
    "collapsed": false
   },
   "outputs": [
    {
     "name": "stdout",
     "output_type": "stream",
     "text": [
      "Number of True cases = 1673\n",
      "Number of False cases = 782\n"
     ]
    }
   ],
   "source": [
    "#Relative class numbers\n",
    "print \"Number of True cases = %d\"%len(y[y==1])\n",
    "print \"Number of False cases = %d\"%len(y[y==0])"
   ]
  },
  {
   "cell_type": "markdown",
   "metadata": {},
   "source": [
    "## Engineer Features and Process Data\n",
    "Grab columns of interest to be used, replace NaN values, get training/test sets."
   ]
  },
  {
   "cell_type": "code",
   "execution_count": 6,
   "metadata": {
    "collapsed": false
   },
   "outputs": [
    {
     "name": "stdout",
     "output_type": "stream",
     "text": [
      "**Deleted** Accounts Payable: NaN fraction = 0.2167\n",
      "Accounts Receivable: NaN fraction = 0.0733\n",
      "**Deleted** Accrued Liabilities: NaN fraction = 0.1756\n",
      "Asset Turnover: NaN fraction = 0.0253\n",
      "Asset Turnover (Average): NaN fraction = 0.0253\n",
      "**Deleted** Book Value Per Share * AED: NaN fraction = 0.9996\n",
      "**Deleted** Book Value Per Share * OMR: NaN fraction = 0.9996\n",
      "Book Value Per Share * USD: NaN fraction = 0.0179\n",
      "**Deleted** COGS: NaN fraction = 0.2122\n",
      "Cap Ex as a % of Sales: NaN fraction = 0.0619\n",
      "**Deleted** Cap Spending AED Mil: NaN fraction = 0.9996\n",
      "**Deleted** Cap Spending OMR Mil: NaN fraction = 0.9996\n",
      "**Deleted** Cap Spending USD Mil: NaN fraction = 0.1739\n",
      "Cash & Short-Term Investments: NaN fraction = 0.0073\n",
      "**Deleted** Cash Conversion Cycle: NaN fraction = 0.4232\n",
      "**Deleted** Current Ratio: NaN fraction = 0.1576\n",
      "**Deleted** Days Inventory: NaN fraction = 0.4016\n",
      "**Deleted** Days Sales Outstanding: NaN fraction = 0.1996\n",
      "**Deleted** Debt/Equity: NaN fraction = 0.2998\n",
      "**Deleted** Dividends AED: NaN fraction = 0.9996\n",
      "**Deleted** Dividends OMR: NaN fraction = 0.9996\n",
      "**Deleted** Dividends USD: NaN fraction = 0.4692\n",
      "EBT Margin: NaN fraction = 0.0354\n",
      "**Deleted** Earnings Per Share AED: NaN fraction = 0.9996\n",
      "**Deleted** Earnings Per Share OMR: NaN fraction = 0.9996\n",
      "Earnings Per Share USD: NaN fraction = 0.0114\n",
      "Financial Leverage: NaN fraction = 0.0640\n",
      "Financial Leverage (Average): NaN fraction = 0.0640\n",
      "Fixed Assets Turnover: NaN fraction = 0.0468\n",
      "**Deleted** Free Cash Flow AED Mil: NaN fraction = 0.9996\n",
      "**Deleted** Free Cash Flow Growth % YOY: NaN fraction = 0.6517\n",
      "**Deleted** Free Cash Flow OMR Mil: NaN fraction = 0.9996\n",
      "**Deleted** Free Cash Flow Per Share * AED: NaN fraction = 0.9996\n",
      "**Deleted** Free Cash Flow Per Share * OMR: NaN fraction = 0.9996\n",
      "Free Cash Flow Per Share * USD: NaN fraction = 0.0253\n",
      "**Deleted** Free Cash Flow USD Mil: NaN fraction = 0.1230\n",
      "Free Cash Flow/Net Income: NaN fraction = 0.0073\n",
      "Free Cash Flow/Sales %: NaN fraction = 0.0367\n",
      "**Deleted** Gross Margin: NaN fraction = 0.1784\n",
      "**Deleted** Gross Margin %: NaN fraction = 0.1784\n",
      "**Deleted** Intangibles: NaN fraction = 0.2155\n",
      "**Deleted** Interest Coverage: NaN fraction = 0.4395\n",
      "**Deleted** Inventory: NaN fraction = 0.3943\n",
      "**Deleted** Inventory Turnover: NaN fraction = 0.4016\n",
      "**Deleted** Liquidity/Financial Health: NaN fraction = 1.0000\n",
      "Mean Future Fractional Price Change: NaN fraction = 0.0000\n",
      "Mean Past Fractional Price Change: NaN fraction = 0.0000\n",
      "**Deleted** Net Income AED Mil: NaN fraction = 0.9996\n",
      "**Deleted** Net Income OMR Mil: NaN fraction = 0.9996\n",
      "**Deleted** Net Income USD Mil: NaN fraction = 0.1120\n",
      "**Deleted** Net Int Inc & Other: NaN fraction = 0.1116\n",
      "Net Margin %: NaN fraction = 0.0387\n",
      "Net PP&E: NaN fraction = 0.0326\n",
      "**Deleted** Operating Cash Flow AED Mil: NaN fraction = 0.9996\n",
      "**Deleted** Operating Cash Flow Growth % YOY: NaN fraction = 0.5275\n",
      "**Deleted** Operating Cash Flow OMR Mil: NaN fraction = 0.9996\n",
      "**Deleted** Operating Cash Flow USD Mil: NaN fraction = 0.1572\n",
      "**Deleted** Operating Income AED Mil: NaN fraction = 0.9996\n",
      "**Deleted** Operating Income OMR Mil: NaN fraction = 0.9996\n",
      "**Deleted** Operating Income USD Mil: NaN fraction = 0.1499\n",
      "Operating Margin: NaN fraction = 0.0338\n",
      "Operating Margin %: NaN fraction = 0.0338\n",
      "**Deleted** Other: NaN fraction = 0.2807\n",
      "**Deleted** Other Current Assets: NaN fraction = 0.1572\n",
      "**Deleted** Other Long-Term Assets: NaN fraction = 0.1670\n",
      "**Deleted** Other Long-Term Liabilities: NaN fraction = 0.1735\n",
      "**Deleted** Other Short-Term Liabilities: NaN fraction = 0.2819\n",
      "**Deleted** Payables Period: NaN fraction = 0.2640\n",
      "**Deleted** Payout Ratio % *: NaN fraction = 0.5409\n",
      "**Deleted** Quick Ratio: NaN fraction = 0.1576\n",
      "**Deleted** R&D: NaN fraction = 0.7124\n",
      "**Deleted** Receivables Turnover: NaN fraction = 0.1988\n",
      "Return on Assets %: NaN fraction = 0.0033\n",
      "Return on Equity %: NaN fraction = 0.0566\n",
      "**Deleted** Return on Invested Capital %: NaN fraction = 0.2073\n",
      "Revenue: NaN fraction = 0.0187\n",
      "**Deleted** Revenue AED Mil: NaN fraction = 1.0000\n",
      "**Deleted** Revenue OMR Mil: NaN fraction = 0.9996\n",
      "**Deleted** Revenue USD Mil: NaN fraction = 0.4721\n",
      "SG&A: NaN fraction = 0.0631\n",
      "Shares Mil: NaN fraction = 0.0354\n",
      "**Deleted** Short-Term Debt: NaN fraction = 0.5173\n",
      "**Deleted** Tax Rate %: NaN fraction = 0.4049\n",
      "Total Assets: NaN fraction = 0.0008\n",
      "**Deleted** Total Current Assets: NaN fraction = 0.1552\n",
      "**Deleted** Total Current Liabilities: NaN fraction = 0.1572\n",
      "Total Liabilities: NaN fraction = 0.0041\n",
      "Total Liabilities & Equity: NaN fraction = 0.0004\n",
      "Total Stockholders' Equity: NaN fraction = 0.0208\n",
      "**Deleted** Working Capital OMR Mil: NaN fraction = 0.9996\n",
      "**Deleted** Working Capital USD Mil: NaN fraction = 0.3116\n",
      "**Deleted** index: NaN fraction = 1.0000\n"
     ]
    }
   ],
   "source": [
    "#delete columns with >10% NaN values...\n",
    "#...for remaining columns, replace NaN values with median\n",
    "for c in X.columns:\n",
    "    frac_NaN = X[c].isnull().sum()/float(len(X))\n",
    "    if frac_NaN > 0.1:\n",
    "        del X[c]\n",
    "        print \"**Deleted** %s: NaN fraction = %.4f\"%(c, frac_NaN)\n",
    "    else:\n",
    "        try:\n",
    "            #X[c] = pd.to_numeric(X[c])\n",
    "            X[c].fillna(X[c].median(), inplace=True)\n",
    "            print \"%s: NaN fraction = %.4f\"%(c, frac_NaN)\n",
    "        except:\n",
    "            print \"couldnt convert %s column to numeric. NaN fraction=%.4f\"%(c, frac_NaN)"
   ]
  },
  {
   "cell_type": "code",
   "execution_count": 7,
   "metadata": {
    "collapsed": false
   },
   "outputs": [
    {
     "data": {
      "text/plain": [
       "Index([u'Accounts Receivable', u'Asset Turnover', u'Asset Turnover (Average)',\n",
       "       u'Book Value Per Share * USD', u'Cap Ex as a % of Sales',\n",
       "       u'Cash & Short-Term Investments', u'EBT Margin',\n",
       "       u'Earnings Per Share USD', u'Financial Leverage',\n",
       "       u'Financial Leverage (Average)', u'Fixed Assets Turnover',\n",
       "       u'Free Cash Flow Per Share * USD', u'Free Cash Flow/Net Income',\n",
       "       u'Free Cash Flow/Sales %', u'Mean Future Fractional Price Change',\n",
       "       u'Mean Past Fractional Price Change', u'Net Margin %', u'Net PP&E',\n",
       "       u'Operating Margin', u'Operating Margin %', u'Return on Assets %',\n",
       "       u'Return on Equity %', u'Revenue', u'SG&A', u'Shares Mil',\n",
       "       u'Total Assets', u'Total Liabilities', u'Total Liabilities & Equity',\n",
       "       u'Total Stockholders' Equity'],\n",
       "      dtype='object')"
      ]
     },
     "execution_count": 7,
     "metadata": {},
     "output_type": "execute_result"
    }
   ],
   "source": [
    "X.columns"
   ]
  },
  {
   "cell_type": "markdown",
   "metadata": {},
   "source": [
    "Feature Engineering:\n",
    "- Working Capital Ratio - how easily that company can turn assets into cash to pay short-term obligations\n",
    "- Price/Earnings Ratio - investors' assessment of future earnings\n",
    "- Price/Book Ratio\n",
    "- Debt/Equity Ratio"
   ]
  },
  {
   "cell_type": "code",
   "execution_count": 8,
   "metadata": {
    "collapsed": false
   },
   "outputs": [],
   "source": [
    "#feature engineering\n",
    "X['Working Capital Ratio'] = X['Total Assets']/X['Total Liabilities']   \n",
    "X['P/E Ratio'] = X['Mean Past Fractional Price Change']/X['Earnings Per Share USD']                 \n",
    "X['P/B Ratio'] = X['Mean Past Fractional Price Change']/X['Book Value Per Share * USD']\n",
    "X['D/E Ratio'] = X['Total Liabilities']/X[\"Total Stockholders' Equity\"] \n",
    "\n",
    "#features to include for analysis\n",
    "percentiles = ['Net Margin %','Return on Equity %','Return on Assets %','Operating Margin %','Free Cash Flow/Sales %', 'Cap Ex as a % of Sales']\n",
    "ratios = ['Book Value Per Share * USD', 'Earnings Per Share USD','Free Cash Flow Per Share * USD','EBT Margin',\n",
    "          'Working Capital Ratio','P/E Ratio','P/B Ratio', 'D/E Ratio', 'Asset Turnover', 'Financial Leverage']\n",
    "\n",
    "features = percentiles + ratios"
   ]
  },
  {
   "cell_type": "code",
   "execution_count": 9,
   "metadata": {
    "collapsed": false
   },
   "outputs": [
    {
     "data": {
      "text/html": [
       "<div>\n",
       "<table border=\"1\" class=\"dataframe\">\n",
       "  <thead>\n",
       "    <tr style=\"text-align: right;\">\n",
       "      <th></th>\n",
       "      <th>Net Margin %</th>\n",
       "      <th>Return on Equity %</th>\n",
       "      <th>Return on Assets %</th>\n",
       "      <th>Operating Margin %</th>\n",
       "      <th>Free Cash Flow/Sales %</th>\n",
       "      <th>Cap Ex as a % of Sales</th>\n",
       "      <th>Book Value Per Share * USD</th>\n",
       "      <th>Earnings Per Share USD</th>\n",
       "      <th>Free Cash Flow Per Share * USD</th>\n",
       "      <th>EBT Margin</th>\n",
       "      <th>Working Capital Ratio</th>\n",
       "      <th>P/E Ratio</th>\n",
       "      <th>P/B Ratio</th>\n",
       "      <th>D/E Ratio</th>\n",
       "      <th>Asset Turnover</th>\n",
       "      <th>Financial Leverage</th>\n",
       "    </tr>\n",
       "    <tr>\n",
       "      <th>Stock</th>\n",
       "      <th></th>\n",
       "      <th></th>\n",
       "      <th></th>\n",
       "      <th></th>\n",
       "      <th></th>\n",
       "      <th></th>\n",
       "      <th></th>\n",
       "      <th></th>\n",
       "      <th></th>\n",
       "      <th></th>\n",
       "      <th></th>\n",
       "      <th></th>\n",
       "      <th></th>\n",
       "      <th></th>\n",
       "      <th></th>\n",
       "      <th></th>\n",
       "    </tr>\n",
       "  </thead>\n",
       "  <tbody>\n",
       "    <tr>\n",
       "      <th>A</th>\n",
       "      <td>1.375346</td>\n",
       "      <td>0.889706</td>\n",
       "      <td>0.935897</td>\n",
       "      <td>1.240385</td>\n",
       "      <td>0.778400</td>\n",
       "      <td>0.480237</td>\n",
       "      <td>0.734403</td>\n",
       "      <td>0.740741</td>\n",
       "      <td>0.416667</td>\n",
       "      <td>2.100707</td>\n",
       "      <td>1.153568</td>\n",
       "      <td>1.057447</td>\n",
       "      <td>1.066573</td>\n",
       "      <td>0.761083</td>\n",
       "      <td>0.676923</td>\n",
       "      <td>0.877451</td>\n",
       "    </tr>\n",
       "    <tr>\n",
       "      <th>AAME</th>\n",
       "      <td>1.008403</td>\n",
       "      <td>0.997416</td>\n",
       "      <td>1.008000</td>\n",
       "      <td>1.172414</td>\n",
       "      <td>5.700000</td>\n",
       "      <td>0.076613</td>\n",
       "      <td>1.018145</td>\n",
       "      <td>1.000000</td>\n",
       "      <td>-4.200000</td>\n",
       "      <td>1.166102</td>\n",
       "      <td>0.995699</td>\n",
       "      <td>1.224240</td>\n",
       "      <td>1.202422</td>\n",
       "      <td>1.013260</td>\n",
       "      <td>1.019231</td>\n",
       "      <td>1.009868</td>\n",
       "    </tr>\n",
       "    <tr>\n",
       "      <th>AAN</th>\n",
       "      <td>1.487805</td>\n",
       "      <td>1.583082</td>\n",
       "      <td>1.454795</td>\n",
       "      <td>1.423077</td>\n",
       "      <td>-0.932961</td>\n",
       "      <td>1.079545</td>\n",
       "      <td>1.116476</td>\n",
       "      <td>1.722222</td>\n",
       "      <td>172.000000</td>\n",
       "      <td>1.482301</td>\n",
       "      <td>1.032922</td>\n",
       "      <td>0.412656</td>\n",
       "      <td>0.636544</td>\n",
       "      <td>0.937991</td>\n",
       "      <td>0.976378</td>\n",
       "      <td>0.970149</td>\n",
       "    </tr>\n",
       "    <tr>\n",
       "      <th>AAON</th>\n",
       "      <td>1.029056</td>\n",
       "      <td>0.991960</td>\n",
       "      <td>0.996953</td>\n",
       "      <td>1.041885</td>\n",
       "      <td>0.877833</td>\n",
       "      <td>1.291391</td>\n",
       "      <td>1.129909</td>\n",
       "      <td>1.050000</td>\n",
       "      <td>0.911765</td>\n",
       "      <td>1.038642</td>\n",
       "      <td>1.093696</td>\n",
       "      <td>0.674033</td>\n",
       "      <td>0.626364</td>\n",
       "      <td>0.888510</td>\n",
       "      <td>0.968553</td>\n",
       "      <td>0.970149</td>\n",
       "    </tr>\n",
       "    <tr>\n",
       "      <th>AAP</th>\n",
       "      <td>0.964143</td>\n",
       "      <td>0.753117</td>\n",
       "      <td>0.802740</td>\n",
       "      <td>0.977011</td>\n",
       "      <td>0.956967</td>\n",
       "      <td>1.038793</td>\n",
       "      <td>1.248673</td>\n",
       "      <td>0.953800</td>\n",
       "      <td>0.961598</td>\n",
       "      <td>0.973552</td>\n",
       "      <td>1.073118</td>\n",
       "      <td>0.925427</td>\n",
       "      <td>0.706888</td>\n",
       "      <td>0.774756</td>\n",
       "      <td>0.828767</td>\n",
       "      <td>0.831658</td>\n",
       "    </tr>\n",
       "  </tbody>\n",
       "</table>\n",
       "</div>"
      ],
      "text/plain": [
       "       Net Margin %  Return on Equity %  Return on Assets %  \\\n",
       "Stock                                                         \n",
       "A          1.375346            0.889706            0.935897   \n",
       "AAME       1.008403            0.997416            1.008000   \n",
       "AAN        1.487805            1.583082            1.454795   \n",
       "AAON       1.029056            0.991960            0.996953   \n",
       "AAP        0.964143            0.753117            0.802740   \n",
       "\n",
       "       Operating Margin %  Free Cash Flow/Sales %  Cap Ex as a % of Sales  \\\n",
       "Stock                                                                       \n",
       "A                1.240385                0.778400                0.480237   \n",
       "AAME             1.172414                5.700000                0.076613   \n",
       "AAN              1.423077               -0.932961                1.079545   \n",
       "AAON             1.041885                0.877833                1.291391   \n",
       "AAP              0.977011                0.956967                1.038793   \n",
       "\n",
       "       Book Value Per Share * USD  Earnings Per Share USD  \\\n",
       "Stock                                                       \n",
       "A                        0.734403                0.740741   \n",
       "AAME                     1.018145                1.000000   \n",
       "AAN                      1.116476                1.722222   \n",
       "AAON                     1.129909                1.050000   \n",
       "AAP                      1.248673                0.953800   \n",
       "\n",
       "       Free Cash Flow Per Share * USD  EBT Margin  Working Capital Ratio  \\\n",
       "Stock                                                                      \n",
       "A                            0.416667    2.100707               1.153568   \n",
       "AAME                        -4.200000    1.166102               0.995699   \n",
       "AAN                        172.000000    1.482301               1.032922   \n",
       "AAON                         0.911765    1.038642               1.093696   \n",
       "AAP                          0.961598    0.973552               1.073118   \n",
       "\n",
       "       P/E Ratio  P/B Ratio  D/E Ratio  Asset Turnover  Financial Leverage  \n",
       "Stock                                                                       \n",
       "A       1.057447   1.066573   0.761083        0.676923            0.877451  \n",
       "AAME    1.224240   1.202422   1.013260        1.019231            1.009868  \n",
       "AAN     0.412656   0.636544   0.937991        0.976378            0.970149  \n",
       "AAON    0.674033   0.626364   0.888510        0.968553            0.970149  \n",
       "AAP     0.925427   0.706888   0.774756        0.828767            0.831658  "
      ]
     },
     "execution_count": 9,
     "metadata": {},
     "output_type": "execute_result"
    }
   ],
   "source": [
    "X[features].head()"
   ]
  },
  {
   "cell_type": "code",
   "execution_count": 10,
   "metadata": {
    "collapsed": true
   },
   "outputs": [],
   "source": [
    "from sklearn.model_selection import train_test_split\n",
    "X_train, X_test, y_train, y_test = train_test_split(X[features], y, test_size=0.25, random_state=42)"
   ]
  },
  {
   "cell_type": "markdown",
   "metadata": {},
   "source": [
    "## Machine Learning tyme\n",
    "Do an initial search with a high learning rate and few n_estimators, then do a second tune with lower learning rate and many more estimators.  "
   ]
  },
  {
   "cell_type": "code",
   "execution_count": 11,
   "metadata": {
    "collapsed": false
   },
   "outputs": [
    {
     "name": "stderr",
     "output_type": "stream",
     "text": [
      "/Users/silburt/anaconda2/envs/ml/lib/python2.7/site-packages/sklearn/cross_validation.py:44: DeprecationWarning: This module was deprecated in version 0.18 in favor of the model_selection module into which all the refactored classes and functions are moved. Also note that the interface of the new CV iterators are different from that of this module. This module will be removed in 0.20.\n",
      "  \"This module will be removed in 0.20.\", DeprecationWarning)\n"
     ]
    },
    {
     "data": {
      "text/plain": [
       "XGBClassifier(base_score=0.5, colsample_bylevel=1, colsample_bytree=1,\n",
       "       gamma=0, learning_rate=0.1, max_delta_step=0, max_depth=3,\n",
       "       min_child_weight=1, missing=None, n_estimators=100, nthread=-1,\n",
       "       objective='binary:logistic', reg_alpha=0, reg_lambda=1,\n",
       "       scale_pos_weight=1, seed=0, silent=True, subsample=1)"
      ]
     },
     "execution_count": 11,
     "metadata": {},
     "output_type": "execute_result"
    }
   ],
   "source": [
    "import xgboost as xgb\n",
    "from sklearn.model_selection import GridSearchCV, RandomizedSearchCV\n",
    "xgb.XGBClassifier()"
   ]
  },
  {
   "cell_type": "code",
   "execution_count": 12,
   "metadata": {
    "collapsed": false
   },
   "outputs": [
    {
     "data": {
      "text/plain": [
       "0.47752808988764045"
      ]
     },
     "execution_count": 12,
     "metadata": {},
     "output_type": "execute_result"
    }
   ],
   "source": [
    "#scale classes based on relative imbalance\n",
    "scale_pos_weight = len(y_train[y_train==0])/float(len(y_train[y_train==1]))\n",
    "scale_pos_weight"
   ]
  },
  {
   "cell_type": "code",
   "execution_count": null,
   "metadata": {
    "collapsed": false
   },
   "outputs": [],
   "source": [
    "model = xgb.XGBClassifier(scale_pos_weight=scale_pos_weight)\n",
    "n_cv = 5\n",
    "n_iter = 10     #number of RandomizedSearchCV search iterations\n",
    "param_grid={\n",
    "    'learning_rate': [0.1],\n",
    "    'max_depth': [2,4,8,16],\n",
    "    'min_child_weight': [0.1,0.5,1,3],\n",
    "    'colsample_bytree': [0.5,1],\n",
    "    'gamma': [0,0.2,0.4],\n",
    "    'n_estimators':[1000],\n",
    "}\n",
    "\n",
    "grid = RandomizedSearchCV(model, param_distributions=param_grid, n_iter=n_iter, cv=n_cv, scoring='roc_auc')\n",
    "grid.fit(X_train,y_train)\n",
    "\n",
    "print(grid.best_score_)\n",
    "print(grid.best_params_)"
   ]
  },
  {
   "cell_type": "code",
   "execution_count": 13,
   "metadata": {
    "collapsed": false
   },
   "outputs": [
    {
     "name": "stdout",
     "output_type": "stream",
     "text": [
      "0.979961688684\n"
     ]
    }
   ],
   "source": [
    "#Do final train with best parameters, lower learning rate and more estimators\n",
    "model = xgb.XGBClassifier(scale_pos_weight=scale_pos_weight)\n",
    "n_cv = 5\n",
    "best_params={\n",
    "    'learning_rate': [5e-3],\n",
    "    'n_estimators':[3000],\n",
    "    'max_depth': [2],\n",
    "    'min_child_weight': [1],\n",
    "    'colsample_bytree': [0.5],\n",
    "    'gamma': [0],\n",
    "}\n",
    "final_model = GridSearchCV(model, param_grid=best_params, cv=n_cv, scoring='roc_auc')\n",
    "final_model.fit(X_train,y_train)\n",
    "\n",
    "#best model\n",
    "xgb_model = final_model.best_estimator_\n",
    "print(final_model.best_score_)"
   ]
  },
  {
   "cell_type": "code",
   "execution_count": 14,
   "metadata": {
    "collapsed": false
   },
   "outputs": [
    {
     "data": {
      "text/plain": [
       "<matplotlib.text.Text at 0x107b38e50>"
      ]
     },
     "execution_count": 14,
     "metadata": {},
     "output_type": "execute_result"
    },
    {
     "data": {
      "image/png": "[encoded data removed]",
      "text/plain": [
       "<matplotlib.figure.Figure at 0x11176a0d0>"
      ]
     },
     "metadata": {},
     "output_type": "display_data"
    }
   ],
   "source": [
    "#seems equivalent to model.feature_importances_\n",
    "feat_imp = pd.Series(xgb_model.booster().get_fscore()).sort_values(ascending=False) \n",
    "feat_imp.plot(kind='bar', title='Feature Importances')\n",
    "plt.ylabel('Feature Importance Score')"
   ]
  },
  {
   "cell_type": "code",
   "execution_count": 15,
   "metadata": {
    "collapsed": false
   },
   "outputs": [
    {
     "data": {
      "text/plain": [
       "<matplotlib.text.Text at 0x10a148350>"
      ]
     },
     "execution_count": 15,
     "metadata": {},
     "output_type": "execute_result"
    },
    {
     "data": {
      "image/png": "[encoded data removed]",
      "text/plain": [
       "<matplotlib.figure.Figure at 0x11176a650>"
      ]
     },
     "metadata": {},
     "output_type": "display_data"
    }
   ],
   "source": [
    "from sklearn.metrics import precision_recall_curve\n",
    "y_pred = xgb_model.predict_proba(X_test)\n",
    "precision, recall, thresholds = precision_recall_curve(y_test, y_pred[:,1])\n",
    "fig, ax = plt.subplots()\n",
    "ax.plot(recall, precision)\n",
    "ax.set_xlim([0.0, 1.0])\n",
    "ax.set_ylim([0.0, 1.0])\n",
    "ax.set_xlabel('Recall')\n",
    "ax.set_ylabel('Precision')\n",
    "ax.set_title('Precision Recall curve')"
   ]
  },
  {
   "cell_type": "code",
   "execution_count": 16,
   "metadata": {
    "collapsed": false
   },
   "outputs": [
    {
     "data": {
      "image/png": "[encoded data removed]",
      "text/plain": [
       "<matplotlib.figure.Figure at 0x111a25c90>"
      ]
     },
     "metadata": {},
     "output_type": "display_data"
    }
   ],
   "source": [
    "# Histogram to see class predictions\n",
    "bins = 50\n",
    "y_pred=xgb_model.predict_proba(X_test)\n",
    "True_Class=y_pred[y_test==1][:,1]\n",
    "False_Class=y_pred[y_test==0][:,1]\n",
    "\n",
    "fig, ax1 = plt.subplots()\n",
    "ax1.hist(False_Class, bins, alpha=0.5, label='No', color='blue')\n",
    "ax1.set_xlabel('Predicted Probability', fontsize=14)\n",
    "ax1.set_ylabel('$S_f/S_i<%.1f$'%true_threshold,  fontsize=14, color='blue')\n",
    "for tl in ax1.get_yticklabels():\n",
    "    tl.set_color('blue')\n",
    "    \n",
    "ax2 = ax1.twinx()\n",
    "ax2.hist(True_Class, bins, alpha=0.5, label='Yes',color='green')\n",
    "ax2.set_ylabel('$S_f/S_i>%.1f$'%true_threshold, fontsize=14, color='green')\n",
    "for tl in ax2.get_yticklabels():\n",
    "    tl.set_color('green')"
   ]
  },
  {
   "cell_type": "markdown",
   "metadata": {
    "collapsed": true
   },
   "source": [
    "# Extra"
   ]
  },
  {
   "cell_type": "code",
   "execution_count": 30,
   "metadata": {
    "collapsed": false
   },
   "outputs": [
    {
     "data": {
      "text/plain": [
       "(-5, 5)"
      ]
     },
     "execution_count": 30,
     "metadata": {},
     "output_type": "execute_result"
    },
    {
     "data": {
      "image/png": "[encoded data removed]",
      "text/plain": [
       "<matplotlib.figure.Figure at 0x1134b3590>"
      ]
     },
     "metadata": {},
     "output_type": "display_data"
    }
   ],
   "source": [
    "feature=\"Book Value Per Share * USD\"\n",
    "plt.plot(X.loc[y==1,feature], X.loc[y==1,\"Mean Future Fractional Price Change\"], '.', alpha=0.1)\n",
    "plt.plot(X.loc[y==0,feature], X.loc[y==0,\"Mean Future Fractional Price Change\"], '.', alpha=0.1)\n",
    "plt.ylim([0,2])\n",
    "plt.xlim([-5,5])"
   ]
  },
  {
   "cell_type": "markdown",
   "metadata": {},
   "source": [
    "Testing"
   ]
  },
  {
   "cell_type": "code",
   "execution_count": null,
   "metadata": {
    "collapsed": false
   },
   "outputs": [],
   "source": [
    "path = \"Fundamental_Analysis/\"\n",
    "skiprows = [19,20,31,41,42,43,48,58,53,64,65,72,73,95,101,102]\n",
    "del_if_present = ['AUD','EUR','BRL','CAD','ARS','CHF','CLP','CNY','COP','GBP','ILS','INR','JPY','KRW','MXN','PEN','PLN','RON','RUB','SEK','THB','TWD','ZAR','CZK']\n",
    "del_columns = ['Year over Year','3-Year Average','5-Year Average','10-Year Average','Taxes Payable','Long-Term Debt']\n",
    "stock=\"A\"\n",
    "d = pd.read_csv('%s%s_keyratios.csv'%(path, stock), header=2, index_col=0, skiprows=skiprows)\n",
    "d = d.transpose().reset_index()\n",
    "#date = d['index'].values\n",
    "#i1,i2 = np.where(d['index'].str.contains(\"%d\"%year))[0][0], np.where(d['index'].str.contains(\"%d\"%(year-1)))[0][0]\n",
    "#ratios = d.iloc[i1].convert_objects(convert_numeric=True)/d.iloc[i2].convert_objects(convert_numeric=True)\n",
    "#d = pd.DataFrame(ratios).transpose()\n",
    "#d.insert(0,'Stock',stock)                              #keep stock ticker\n",
    "#d.insert(1,'Mean Fractional Price Change',get_mean_frac_price_change(stock,date)) #get fractional price change\n",
    "l=pd.to_numeric(d.iloc[0], errors='coerce')/pd.to_numeric(d.iloc[1], errors='coerce')\n",
    "l"
   ]
  },
  {
   "cell_type": "code",
   "execution_count": null,
   "metadata": {
    "collapsed": false
   },
   "outputs": [],
   "source": [
    "i1=np.where(d['index'].str.contains(\"%d\"%year))[0][0]\n",
    "date=d['index'].iloc[i1]\n",
    "get_mean_frac_price_change(\"ABCB\",date)"
   ]
  },
  {
   "cell_type": "code",
   "execution_count": null,
   "metadata": {
    "collapsed": false
   },
   "outputs": [],
   "source": [
    "plt.plot(X['Earnings Per Share USD'],X['Mean Fractional Price Change'], '.',alpha=0.05)\n",
    "plt.xlim([-5,5])\n",
    "plt.ylim([0,4])"
   ]
  },
  {
   "cell_type": "code",
   "execution_count": null,
   "metadata": {
    "collapsed": true
   },
   "outputs": [],
   "source": [
    "# param_grid={\n",
    "#     'learning_rate': [0.01],\n",
    "#     'max_depth': [4],\n",
    "#     'min_child_weight': [0.1],\n",
    "#     'n_estimators':[2000],\n",
    "# }\n",
    "#grid = GridSearchCV(model, param_grid=param_grid, cv=n_cv, scoring='neg_mean_squared_error')"
   ]
  },
  {
   "cell_type": "code",
   "execution_count": null,
   "metadata": {
    "collapsed": false
   },
   "outputs": [],
   "source": [
    "#s = \"AA\"\n",
    "#data = get_stock_financials(s,2014)\n",
    "#start = data['index'].values[0]\n",
    "#get_frac_price_change(s,start)\n",
    "\n",
    "#a= get_stock_price_change(\"ACN\",start)\n",
    "#print a"
   ]
  },
  {
   "cell_type": "code",
   "execution_count": null,
   "metadata": {
    "collapsed": true
   },
   "outputs": [],
   "source": [
    "#This is useful scraping code for extracting the sector that each stock is from...\n",
    "#http://docs.python-guide.org/en/latest/scenarios/scrape/\n",
    "from lxml import html\n",
    "import requests\n",
    "def get_sectors(df,path):\n",
    "    sectors = ['financials', 'healthcare', 'energy', 'basic-materials', 'industrials', \n",
    "           'technology', 'telecoms', 'utilities', 'non-cyclicals']\n",
    "    df['Sector'] = ''\n",
    "    DNF = []\n",
    "    for i,st in enumerate(df['Ticker']):\n",
    "        url = \"http://www.reuters.com/finance/stocks/overview?symbol=%s\"%st\n",
    "        page = requests.get(url)\n",
    "        tree = html.fromstring(page.content)\n",
    "        found_sector = 0\n",
    "        for sec in sectors:\n",
    "            if len(tree.xpath('//a[@href=\"/sectors/%s\"]/text()'%sec)) > 0:\n",
    "                df[\"Sector\"].iloc[i] = sec\n",
    "                found_sector = 1\n",
    "        if found_sector == 0:\n",
    "            DNF.append(st)\n",
    "            #print 'couldnt find sector for %s'%st\n",
    "    df.to_csv(path)\n",
    "    print \"%f stocks did not have a sector found\"%float(len(DNF))/float(len(df['Ticker']))\n",
    "    return df, DNF"
   ]
  },
  {
   "cell_type": "code",
   "execution_count": null,
   "metadata": {
    "collapsed": false
   },
   "outputs": [],
   "source": [
    "df, dnf = get_sectors(tickers,'csv/wilshire5000_sectors.csv')"
   ]
  },
  {
   "cell_type": "code",
   "execution_count": null,
   "metadata": {
    "collapsed": false
   },
   "outputs": [],
   "source": [
    "stock = \"AEM\"\n",
    "webpage = \"http://financials.morningstar.com/ajax/exportKR2CSV.html?t=%s&culture=en-CA&region=USA&order=asc&r=314562\"%stock\n",
    "url = URL(webpage)\n",
    "f = open('Fundamental_Analysis/%s_keyratios.csv'%stock, 'wb') # save as test.gif\n",
    "f.write(url.download())\n",
    "f.close()"
   ]
  },
  {
   "cell_type": "code",
   "execution_count": null,
   "metadata": {
    "collapsed": true
   },
   "outputs": [],
   "source": []
  }
 ],
 "metadata": {
  "kernelspec": {
   "display_name": "Python 2",
   "language": "python",
   "name": "python2"
  },
  "language_info": {
   "codemirror_mode": {
    "name": "ipython",
    "version": 2
   },
   "file_extension": ".py",
   "mimetype": "text/x-python",
   "name": "python",
   "nbconvert_exporter": "python",
   "pygments_lexer": "ipython2",
   "version": "2.7.11"
  }
 },
 "nbformat": 4,
 "nbformat_minor": 1
}
